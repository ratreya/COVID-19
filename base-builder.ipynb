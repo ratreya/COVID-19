{
 "cells": [
  {
   "cell_type": "code",
   "execution_count": 1,
   "metadata": {},
   "outputs": [
    {
     "name": "stdout",
     "output_type": "stream",
     "text": [
      "HTTP Error 404: Not Found\n",
      "Some deltas are hugely negative!\n",
      "      Country      State      County        Date  Confirmed  Deaths  \\\n",
      "1744   Canada  Recovered         n/a  04-01-2020        0.0     0.0   \n",
      "36211      US         NJ  Unassigned  04-01-2020     4512.0     0.0   \n",
      "\n",
      "       Recovered  Confirmed_New  Deaths_New  Recovered_New  \n",
      "1744      1324.0            0.0         0.0         -268.0  \n",
      "36211        0.0          826.0      -247.0            0.0  \n"
     ]
    }
   ],
   "source": [
    "import pandas as pd\n",
    "import numpy as np\n",
    "from datetime import date, timedelta\n",
    "from concurrent.futures import ThreadPoolExecutor, as_completed\n",
    "\n",
    "pd.options.mode.chained_assignment = None\n",
    "%run common.py\n",
    "\n",
    "# Get list of days in expected format\n",
    "sdate = date(2020, 1, 22)\n",
    "today = date.today()\n",
    "edate = date(today.year, today.month, today.day)\n",
    "days = [(sdate + timedelta(days=i)).strftime('%m-%d-%Y') for i in range((edate - sdate).days + 1)]\n",
    "\n",
    "# Merge all daily reports\n",
    "url = 'https://raw.githubusercontent.com/CSSEGISandData/COVID-19/master/csse_covid_19_data/csse_covid_19_daily_reports/%s.csv'\n",
    "with ThreadPoolExecutor() as executor:\n",
    "    futures = [executor.submit(lambda day: (day, pd.read_csv(url % day)), day) for day in days]\n",
    "\n",
    "merged = pd.DataFrame(columns = ['Country', 'State', 'County', 'Date', 'Confirmed', 'Deaths', 'Recovered', 'Confirmed_New', 'Deaths_New', 'Recovered_New'])\n",
    "for future in as_completed(futures):\n",
    "    try:\n",
    "        day, df = future.result()\n",
    "        # Fix changes in column names if they exits\n",
    "        df = df.rename({'Admin2': 'County', 'Province/State':'State', 'Country/Region':'Country', 'Province_State':'State', 'Country_Region':'Country'}, axis=1)\n",
    "        df.drop([x for x in df.columns.values if x not in merged.columns.values], axis=1, inplace=True)\n",
    "        df.insert(2, 'Date', [day for i in range(df.shape[0])])\n",
    "        merged = pd.concat([merged, df])\n",
    "    except IOError as e:\n",
    "        print(str(e))\n",
    "\n",
    "# Clean up the data - defined in common.py\n",
    "cleanup(merged)\n",
    "\n",
    "# Fix bad data\n",
    "merged.loc[(merged['State'] == 'French Polynesia') & (merged['Date'] == '03-23-2020'), 'State'] = 'n/a'\n",
    "merged.loc[(merged['Country'] == 'France') & (merged['State'] == 'France'), 'State'] = 'n/a'\n",
    "\n",
    "# Do this because there are duplicate rows in some datasets\n",
    "merged = merged.groupby(['Country', 'State', 'County', 'Date'], as_index=False).sum()\n",
    "\n",
    "# Calculate deltas for each date\n",
    "for country in merged['Country'].unique():\n",
    "    for state in merged[merged['Country'] == country]['State'].unique():\n",
    "        for county in merged[(merged['Country'] == country) & (merged['State'] == state)]['County'].unique():\n",
    "            confirmed = merged[(merged['Country'] == country) & (merged['State'] == state) & (merged['County'] == county)]['Confirmed'].values.tolist()\n",
    "            confirmed_deltas = [np.nan] + [confirmed[i] - confirmed[i-1] for i in range(1, len(confirmed))]\n",
    "            merged.loc[(merged['Country'] == country) & (merged['State'] == state) & (merged['County'] == county), 'Confirmed_New'] = confirmed_deltas\n",
    "            deaths = merged[(merged['Country'] == country) & (merged['State'] == state) & (merged['County'] == county)]['Deaths'].values.tolist()\n",
    "            deaths_deltas = [np.nan] + [deaths[i] - deaths[i-1] for i in range(1, len(deaths))]\n",
    "            merged.loc[(merged['Country'] == country) & (merged['State'] == state) & (merged['County'] == county), 'Deaths_New'] = deaths_deltas\n",
    "            recovered = merged[(merged['Country'] == country) & (merged['State'] == state) & (merged['County'] == county)]['Recovered'].values.tolist()\n",
    "            recovered_deltas = [np.nan] + [recovered[i] - recovered[i-1] for i in range(1, len(recovered))]\n",
    "            merged.loc[(merged['Country'] == country) & (merged['State'] == state) & (merged['County'] == county), 'Recovered_New'] = recovered_deltas\n",
    "\n",
    "# Write merged to CSV and verify\n",
    "merged.to_csv('jhu-daily-reports.csv', index=False)\n",
    "verify(merged)"
   ]
  },
  {
   "cell_type": "code",
   "execution_count": null,
   "metadata": {},
   "outputs": [],
   "source": []
  }
 ],
 "metadata": {
  "kernelspec": {
   "display_name": "Python 3",
   "language": "python",
   "name": "python3"
  },
  "language_info": {
   "codemirror_mode": {
    "name": "ipython",
    "version": 3
   },
   "file_extension": ".py",
   "mimetype": "text/x-python",
   "name": "python",
   "nbconvert_exporter": "python",
   "pygments_lexer": "ipython3",
   "version": "3.7.6"
  }
 },
 "nbformat": 4,
 "nbformat_minor": 4
}
