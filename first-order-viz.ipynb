{
 "cells": [
  {
   "cell_type": "code",
   "execution_count": 1,
   "metadata": {},
   "outputs": [],
   "source": [
    "import pandas as pd\n",
    "import numpy as np\n",
    "import altair as alt\n",
    "\n",
    "# Set up some global config and variables\n",
    "alt.renderers.enable('default')\n",
    "pd.options.mode.chained_assignment = None\n",
    "\n",
    "def align(data):\n",
    "    # Find the index with the lowest non-zero starting case number\n",
    "    base = min(((idx, val) for (idx, val) in enumerate(data) if val[0] > 0), key = lambda x: x[1][0])[0]\n",
    "\n",
    "    # Align everyone else to this base\n",
    "    for i in [x for x in range(len(data)) if x != base]:\n",
    "        padding = min(((x[0], abs(x[1] - data[i][0])) for x in enumerate(data[base])), key = lambda x: x[1])[0]\n",
    "        data[i] = [0 for i in range(padding)] + data[i]\n",
    "    return data\n",
    "\n",
    "# Takes a list of numbers and returns a list with number of rows to double\n",
    "def doubling(data):\n",
    "    doubling = []\n",
    "    for i in reversed(range(len(data))):\n",
    "        index = -1\n",
    "        for j in reversed(range(i)):\n",
    "            if data[i] >= data[j]*2:\n",
    "                index = j\n",
    "                break\n",
    "        doubling.append(i - index if index > 0 else np.nan)\n",
    "    return list(reversed(doubling))\n",
    "\n",
    "def streamgraph(df, by, value, sort, limit, stack='zero'):\n",
    "    zeros = df.groupby('Date', as_index=False).sum()\n",
    "    zeros = zeros[zeros[value] <= 10].Date\n",
    "    df = df[~df['Date'].isin(zeros)]\n",
    "    \n",
    "    df.loc[df[value]<0, value] = 0\n",
    "    order = df[df['Date'] == days[-1]].sort_values(sort, ascending=False)\n",
    "    top = order[by].values.tolist()\n",
    "    data = df[df[by].isin(top[:limit])]\n",
    "    others = df[df[by].isin(top[limit:])].groupby('Date', as_index=False).sum()\n",
    "    others.insert(0, by, 'Others')\n",
    "    data = data.append(others, ignore_index=True)\n",
    "    selection = alt.selection_multi(fields=[by], bind='legend')\n",
    "\n",
    "    base = alt.Chart(data).mark_area().encode(\n",
    "        alt.X('Date:T', axis=alt.Axis(domain=False, format='%d %b', tickSize=0)),\n",
    "        alt.Y(value + ':Q', stack=stack, axis=alt.Axis(title=' '.join(value.split('_'))) if stack=='zero' else None),\n",
    "        alt.Color(by + ':N', scale=alt.Scale(scheme='tableau20'), sort=top[:limit]),\n",
    "        order=alt.Order('sort:Q'),\n",
    "        tooltip=alt.Tooltip(['Date:T', by, value]),\n",
    "        opacity=alt.condition(selection, alt.value(1), alt.value(0.3))\n",
    "    ).transform_lookup(\n",
    "        lookup=by,\n",
    "        from_=alt.LookupData(order, by, [sort]),\n",
    "        as_=['sort']\n",
    "    )\n",
    "    totals = alt.Chart(data.groupby('Date', as_index=False).sum()).mark_line(strokeDash=[6,3]).encode(\n",
    "        x='Date:T',\n",
    "        y='rolling_mean:Q',\n",
    "        color=alt.value('black'),\n",
    "    ).transform_window(\n",
    "        rolling_mean='mean(%s)' % value,\n",
    "        frame=[-7, 7]\n",
    "    )\n",
    "    return (base+totals).properties(\n",
    "        width=1200,\n",
    "        height=800\n",
    "    ).add_selection(selection)\n",
    "\n",
    "def nontimegraph(df, by, value, sort, limit, highlight='', addon=[], xlog=True, ylog=True, rect=None, ascending=False):\n",
    "    top = set(df[df['Date'] == days[-1]].sort_values(sort, ascending=ascending)[by].values.tolist()[:limit] + addon + [highlight])\n",
    "    data = df[(df[value] > 1) & (df['Confirmed'] > 100) & (df[by].isin(top))]\n",
    "    #data.loc[:,value] = data[value].rolling(window=3, win_type='gaussian').mean(std=3)\n",
    "    selection = alt.selection_multi(fields=[by], bind='legend', init=[{by: highlight}], empty='none', nearest=True)\n",
    "\n",
    "    # Background\n",
    "    line = alt.Chart(data).mark_line().encode(\n",
    "        alt.X('Confirmed:Q', scale=alt.Scale(type='log' if xlog else 'linear'), axis=alt.Axis(title='Cumulative Cases')),\n",
    "        alt.Y(value + ':Q', scale=alt.Scale(type='log' if ylog else 'linear'), axis=alt.Axis(title=' '.join(value.split('_')))),\n",
    "        color=alt.Color(by+':N', scale=alt.Scale(scheme='category10' if highlight == '' else 'set2')),\n",
    "        size=alt.value(1),\n",
    "        tooltip=alt.Tooltip(['Date:N', by, value])\n",
    "    ).transform_filter(~selection)\n",
    "    point = line.mark_circle().encode(\n",
    "        alt.X('Confirmed:Q', scale=alt.Scale(type='log' if xlog else 'linear')),\n",
    "        alt.Y(value + ':Q', scale=alt.Scale(type='log' if ylog else 'linear')),\n",
    "        color=alt.Color(by+':N'),\n",
    "        size=alt.value(60)\n",
    "    ).transform_filter(\n",
    "        alt.datum.Date == days[-1]\n",
    "    ).transform_filter(~selection)\n",
    "    text = point.mark_text(\n",
    "        align='left',\n",
    "        dx=7,  # Nudges text to right so it doesn't appear on top of the bar\n",
    "    ).encode(\n",
    "        text=by+':N',\n",
    "        size=alt.value(10),\n",
    "        color=alt.Color(by+':N')\n",
    "    ).transform_filter(~selection)\n",
    "    background = line+point+text\n",
    "\n",
    "    # Foreground\n",
    "    line = alt.Chart(data).mark_line().encode(\n",
    "        alt.X('Confirmed:Q', scale=alt.Scale(type='log' if xlog else 'linear'), axis=alt.Axis(title='Cumulative Cases')),\n",
    "        alt.Y(value + ':Q', scale=alt.Scale(type='log' if ylog else 'linear'), axis=alt.Axis(title=' '.join(value.split('_')))),\n",
    "        color=alt.value('black'),\n",
    "        size=alt.value(3),\n",
    "        tooltip=alt.Tooltip(['Date:N', by, value])\n",
    "    ).transform_filter(selection)\n",
    "    point = line.mark_circle().encode(\n",
    "        alt.X('Confirmed:Q', scale=alt.Scale(type='log' if xlog else 'linear')),\n",
    "        alt.Y(value + ':Q', scale=alt.Scale(type='log' if ylog else 'linear')),\n",
    "        color=alt.value('black'),\n",
    "        size=alt.value(100)\n",
    "    ).transform_filter(\n",
    "        alt.datum.Date == days[-1]\n",
    "    ).transform_filter(selection)\n",
    "    text = point.mark_text(\n",
    "        align='left',\n",
    "        dx=7,  # Nudges text to right so it doesn't appear on top of the bar\n",
    "    ).encode(\n",
    "        text=by+':N',\n",
    "        size=alt.value(15),\n",
    "        color=alt.value('black')\n",
    "    ).transform_filter(selection)\n",
    "    foreground = line+point+text\n",
    "\n",
    "    start = df[(df[by] == highlight) & (df['Date'] == rect[0])] if rect is not None else pd.DataFrame()\n",
    "    end = df[(df[by] == highlight) & (df['Date'] == rect[1])] if rect is not None else pd.DataFrame()\n",
    "    if not start.empty and not end.empty:\n",
    "        marks = pd.DataFrame([{\"start_x\": start.Confirmed.values[0], \"end_x\": end.Confirmed.values[0], \"start_y\": start[value].values[0], \"end_y\": end[value].values[0]}])\n",
    "        rule_rect = alt.Chart(marks).mark_rect(opacity=0.3).encode(x='start_x:Q', x2='end_x:Q')\n",
    "        rule_point_1 = rule_rect.mark_circle().encode(\n",
    "            alt.X('start_x:Q', scale=alt.Scale(type='log' if xlog else 'linear')),\n",
    "            alt.Y('start_y:Q', scale=alt.Scale(type='log' if ylog else 'linear')),\n",
    "            color=alt.value('grey'),\n",
    "            size=alt.value(60)\n",
    "        )\n",
    "        rule_point_2 = rule_rect.mark_circle().encode(\n",
    "            alt.X('end_x:Q', scale=alt.Scale(type='log' if xlog else 'linear')),\n",
    "            alt.Y('end_y:Q', scale=alt.Scale(type='log' if ylog else 'linear')),\n",
    "            color=alt.value('grey'),\n",
    "            size=alt.value(60)\n",
    "        )\n",
    "        rule_text_1 = rule_point_1.mark_text(\n",
    "            align='left',\n",
    "            angle=90,\n",
    "            dx=10\n",
    "        ).encode(\n",
    "            text=alt.value(rect[0]),\n",
    "            size=alt.value(15),\n",
    "            color=alt.value('black')\n",
    "        )\n",
    "        rule_text_2 = rule_point_2.mark_text(\n",
    "            align='left',\n",
    "            angle=90,\n",
    "            dx=10\n",
    "        ).encode(\n",
    "            text=alt.value(rect[1]),\n",
    "            size=alt.value(15),\n",
    "            color=alt.value('black')\n",
    "        )\n",
    "        return (background+foreground+rule_rect+rule_point_1+rule_point_2+rule_text_1+rule_text_2).properties(\n",
    "            width=1200,\n",
    "            height=800\n",
    "        ).add_selection(selection)\n",
    "    else:\n",
    "        return (background+foreground).properties(\n",
    "            width=1200, \n",
    "            height=800\n",
    "        ).add_selection(selection)"
   ]
  },
  {
   "cell_type": "code",
   "execution_count": 2,
   "metadata": {},
   "outputs": [
    {
     "name": "stderr",
     "output_type": "stream",
     "text": [
      "/Users/ratreya/anaconda3/lib/python3.8/site-packages/IPython/core/interactiveshell.py:3071: DtypeWarning: Columns (2) have mixed types.Specify dtype option on import or set low_memory=False.\n",
      "  has_raised = await self.run_ast_nodes(code_ast.body, cell_name,\n"
     ]
    }
   ],
   "source": [
    "# Read the raw data\n",
    "df = pd.read_csv('jhu-daily-reports.csv')\n",
    "df['Active']  = df.Confirmed - (df.Deaths + df.Recovered)\n",
    "samples = df[['Date', 'Country']].groupby('Date').Country.nunique()\n",
    "days = samples[samples > 1].index.tolist()\n",
    "df = df[df['Date'].isin(days)]"
   ]
  },
  {
   "cell_type": "markdown",
   "metadata": {},
   "source": [
    "# Global Data Visualizations"
   ]
  },
  {
   "cell_type": "code",
   "execution_count": 3,
   "metadata": {},
   "outputs": [
    {
     "data": {
      "application/vnd.jupyter.widget-view+json": {
       "model_id": "56f16ccb09e342c4b04f5de17443bd64",
       "version_major": 2,
       "version_minor": 0
      },
      "text/plain": [
       "interactive(children=(Dropdown(description='value', index=4, options=('Active', 'Confirmed', 'Deaths', 'Recove…"
      ]
     },
     "metadata": {},
     "output_type": "display_data"
    }
   ],
   "source": [
    "from ipywidgets import interact\n",
    "\n",
    "# Aggregate at country level\n",
    "country_level = df.groupby(['Country', 'Date'], as_index=False).sum()\n",
    "\n",
    "# Drop 03-22-2020 since county breakdown started from here and so there is break in continuity\n",
    "country_level = country_level.drop(country_level[country_level['Date'] == '03-22-2020'].index)\n",
    "country_level = country_level.drop(country_level[country_level['Date'] == '03-12-2020'].index)\n",
    "country_level = country_level.drop(country_level[country_level['Date'] == '02-12-2020'].index)\n",
    "\n",
    "@interact(value=['Active', 'Confirmed', 'Deaths', 'Recovered', 'Confirmed_New', 'Deaths_New', 'Recovered_New'], sort=['Active', 'Confirmed', 'Deaths', 'Recovered', 'Confirmed_New', 'Deaths_New', 'Recovered_New'], limit=(0,50,1))\n",
    "def chart(value='Confirmed_New', sort='Confirmed_New', limit=10):\n",
    "    return streamgraph(country_level, 'Country', value, sort, limit).interactive()#.properties(width=608, height=380).save('./output/main.png', scale_factor=2.0)"
   ]
  },
  {
   "cell_type": "code",
   "execution_count": 4,
   "metadata": {},
   "outputs": [
    {
     "data": {
      "application/vnd.jupyter.widget-view+json": {
       "model_id": "f24231762b28447e954df4356a432c01",
       "version_major": 2,
       "version_minor": 0
      },
      "text/plain": [
       "interactive(children=(Dropdown(description='value', index=4, options=('Active', 'Confirmed', 'Deaths', 'Recove…"
      ]
     },
     "metadata": {},
     "output_type": "display_data"
    }
   ],
   "source": [
    "country_level = country_level[country_level['Country'].isin(country_level[country_level['Confirmed'] > 1000]['Country'].unique())]\n",
    "countries = country_level[country_level['Confirmed'] > 1000]['Country'].unique().tolist()\n",
    "\n",
    "@interact(value=['Active', 'Confirmed', 'Deaths', 'Recovered', 'Confirmed_New', 'Deaths_New', 'Recovered_New'], sort=['Active', 'Confirmed', 'Deaths', 'Recovered', 'Confirmed_New', 'Deaths_New', 'Recovered_New'], limit=(1,50,1), highlight=countries, start=reversed(days), end=reversed(days))\n",
    "def chart(value='Confirmed_New', sort='Confirmed_New', limit=10, highlight='India', start=None, end=None, xlog=True, ylog=True):\n",
    "    rect = (start, end)\n",
    "    return nontimegraph(country_level, 'Country', value, sort, limit, highlight=highlight, xlog=xlog, ylog=ylog, rect=rect).interactive()"
   ]
  },
  {
   "cell_type": "markdown",
   "metadata": {},
   "source": [
    "# State Level Visualizations"
   ]
  },
  {
   "cell_type": "code",
   "execution_count": 5,
   "metadata": {},
   "outputs": [
    {
     "data": {
      "application/vnd.jupyter.widget-view+json": {
       "model_id": "1fc2dc80fc10470992d3435179c78b26",
       "version_major": 2,
       "version_minor": 0
      },
      "text/plain": [
       "interactive(children=(Dropdown(description='country', index=21, options=('Australia', 'Belgium', 'Brazil', 'Ca…"
      ]
     },
     "metadata": {},
     "output_type": "display_data"
    }
   ],
   "source": [
    "countries = df[(df['State'].notnull()) & (df['Confirmed'] > 1000)]['Country'].unique()\n",
    "\n",
    "def state_data(country):\n",
    "    state_level = df[df['Country'] == country].groupby(['State', 'Date'], as_index=False).sum()\n",
    "    state_level['Active'] = state_level.Confirmed - (state_level.Deaths + state_level.Recovered)\n",
    "    if country == 'US':\n",
    "        # Drop 03-22-2020 since county breakdown started from here and so there is break in continuity\n",
    "        state_level = state_level.drop(state_level[state_level['Date'] == '03-22-2020'].index)\n",
    "        state_level = state_level.drop(state_level[state_level['Date'] == '03-18-2020'].index)\n",
    "        state_level = state_level.drop(state_level[state_level['Date'] == '08-31-2020'].index)\n",
    "        state_level = state_level[state_level['Date'] >= '03-01-2020']\n",
    "    if country == 'India':\n",
    "        state_level['State'].replace(['Cases being reassigned to states'], 'Unassigned', inplace=True)\n",
    "        state_level = state_level[state_level['Date'] >= '03-01-2020']\n",
    "        state_level = state_level.drop(state_level[state_level['Date'] == '07-28-2020'].index)\n",
    "    for var in state_level['State'].unique():\n",
    "        confirmed = state_level[state_level['State'] == var].Confirmed_New.values.tolist()\n",
    "        confirmed_pcts = [np.nan] + [(confirmed[i] - confirmed[i-1])/confirmed[i-1]*100 if confirmed[i-1] > 0 else np.nan for i in range(1, len(confirmed))]\n",
    "        state_level.loc[state_level['State'] == var, 'Confirmed_Pct'] = confirmed_pcts\n",
    "    return state_level\n",
    "\n",
    "@interact(country=countries, value=['Active', 'Confirmed', 'Deaths', 'Recovered', 'Confirmed_New', 'Deaths_New', 'Recovered_New'], sort=['Active', 'Confirmed', 'Deaths', 'Recovered', 'Confirmed_New', 'Deaths_New', 'Recovered_New'], limit=(0,50,1))\n",
    "def chart(country='US', value='Confirmed_New', sort='Confirmed_New', limit=10):\n",
    "    graph = streamgraph(state_data(country), 'State', value, sort, limit)\n",
    "    graph.save('us-by-state.html')\n",
    "    return graph.interactive()#.properties(width=608, height=380).save('./output/us-confirmed-new.png', scale_factor=3.0)"
   ]
  },
  {
   "cell_type": "code",
   "execution_count": 6,
   "metadata": {},
   "outputs": [
    {
     "data": {
      "application/vnd.jupyter.widget-view+json": {
       "model_id": "f8cfb11db4464f85b211ccae8f9e3b01",
       "version_major": 2,
       "version_minor": 0
      },
      "text/plain": [
       "interactive(children=(Dropdown(description='country', index=21, options=('Australia', 'Belgium', 'Brazil', 'Ca…"
      ]
     },
     "metadata": {},
     "output_type": "display_data"
    }
   ],
   "source": [
    "@interact(country=countries, value=['Active', 'Confirmed', 'Deaths', 'Recovered', 'Confirmed_New', 'Deaths_New', 'Recovered_New'], sort=['Active', 'Confirmed', 'Deaths', 'Recovered', 'Confirmed_New', 'Confirmed_Pct', 'Deaths_New', 'Recovered_New'], limit=(1,50,1))\n",
    "def chart(country='US', value='Confirmed_New', sort='Confirmed_New', limit=10, xlog=True, ylog=True):\n",
    "    return nontimegraph(state_data(country), 'State', value, sort, limit, xlog=xlog, ylog=ylog).interactive()#.properties(width=608, height=380).save('./output/india-confirmed-new.png', scale_factor=3.0)"
   ]
  },
  {
   "cell_type": "markdown",
   "metadata": {},
   "source": [
    "# US County Level Visualizations"
   ]
  },
  {
   "cell_type": "code",
   "execution_count": 7,
   "metadata": {},
   "outputs": [
    {
     "data": {
      "application/vnd.jupyter.widget-view+json": {
       "model_id": "32c45d1b37b34119b8ca545124b8a577",
       "version_major": 2,
       "version_minor": 0
      },
      "text/plain": [
       "interactive(children=(Dropdown(description='state', index=4, options=('AK', 'AL', 'AR', 'AZ', 'CA', 'CO', 'CT'…"
      ]
     },
     "metadata": {},
     "output_type": "display_data"
    }
   ],
   "source": [
    "us_state_level = state_data('US')\n",
    "states=us_state_level[us_state_level['Confirmed'] > 1000]['State'].unique()\n",
    "@interact(value=['Active', 'Confirmed', 'Deaths', 'Recovered', 'Confirmed_New', 'Deaths_New', 'Recovered_New'], sort=['Active', 'Confirmed', 'Deaths', 'Recovered', 'Confirmed_New', 'Deaths_New', 'Recovered_New'], limit=(0,50,1), state=states)\n",
    "def chart(state='CA', value='Confirmed_New', sort='Confirmed_New', limit=10):\n",
    "    county_level = df[df['State'] == state].fillna({'County': state}).groupby(['County', 'Date'], as_index=False).sum()\n",
    "    return streamgraph(county_level, 'County', value, sort, limit).interactive()#.properties(width=608, height=380).save('WA.png', scale_factor=3.0)"
   ]
  },
  {
   "cell_type": "code",
   "execution_count": 8,
   "metadata": {},
   "outputs": [
    {
     "data": {
      "application/vnd.jupyter.widget-view+json": {
       "model_id": "03d61b0e67104644a5a678ecd546db05",
       "version_major": 2,
       "version_minor": 0
      },
      "text/plain": [
       "interactive(children=(Dropdown(description='state', index=4, options=('AK', 'AL', 'AR', 'AZ', 'CA', 'CO', 'CT'…"
      ]
     },
     "metadata": {},
     "output_type": "display_data"
    }
   ],
   "source": [
    "states=us_state_level[us_state_level['Confirmed'] > 1000]['State'].unique()\n",
    "\n",
    "@interact(value=['Active', 'Confirmed', 'Deaths', 'Recovered', 'Confirmed_New', 'Deaths_New', 'Recovered_New'], sort=['Active', 'Confirmed', 'Deaths', 'Recovered', 'Confirmed_New', 'Deaths_New', 'Recovered_New'], limit=(1,50,1), state=states)\n",
    "def chart(state='CA', value='Confirmed_New', sort='Confirmed_New', limit=10, xlog=True, ylog=True):\n",
    "    county_level = df[df['State'] == state].fillna({'County': state}).groupby(['County', 'Date'], as_index=False).sum()\n",
    "    return nontimegraph(county_level, 'County', value, sort, limit, xlog=xlog, ylog=ylog).interactive()#.properties(width=608, height=380).save('CA.png', scale_factor=3.0)"
   ]
  },
  {
   "cell_type": "code",
   "execution_count": 9,
   "metadata": {},
   "outputs": [
    {
     "data": {
      "application/vnd.jupyter.widget-view+json": {
       "model_id": "01c8a4e089b54b9489fd33715ca6bb80",
       "version_major": 2,
       "version_minor": 0
      },
      "text/plain": [
       "interactive(children=(Dropdown(description='value', index=4, options=('Active', 'Confirmed', 'Deaths', 'Recove…"
      ]
     },
     "metadata": {},
     "output_type": "display_data"
    }
   ],
   "source": [
    "@interact(value=['Active', 'Confirmed', 'Deaths', 'Recovered', 'Confirmed_New', 'Deaths_New', 'Recovered_New'], sort=['Active', 'Confirmed', 'Deaths', 'Recovered', 'Confirmed_New', 'Deaths_New', 'Recovered_New'], limit=(1,50,1), state = us_state_level['State'].unique())\n",
    "def chart(value='Confirmed_New', sort='Confirmed_New', limit=10, xlog=True, ylog=True):\n",
    "    df['Area'] = df.County + ', ' + df.State\n",
    "    county_level = df.groupby(['Area', 'Date'], as_index=False).sum()\n",
    "\n",
    "    return nontimegraph(county_level, 'Area', value, sort, limit, xlog=xlog, ylog=ylog).interactive()"
   ]
  },
  {
   "cell_type": "markdown",
   "metadata": {},
   "source": [
    "# Cross Country Comparisons"
   ]
  },
  {
   "cell_type": "code",
   "execution_count": 10,
   "metadata": {},
   "outputs": [
    {
     "data": {
      "application/vnd.jupyter.widget-view+json": {
       "model_id": "3b4ecc1569c848b983ba7d8ab497f1df",
       "version_major": 2,
       "version_minor": 0
      },
      "text/plain": [
       "interactive(children=(Dropdown(description='country', index=10, options=('Australia', 'Belgium', 'Brazil', 'Ca…"
      ]
     },
     "metadata": {},
     "output_type": "display_data"
    }
   ],
   "source": [
    "@interact(country=countries, value=['Active', 'Confirmed', 'Deaths', 'Recovered', 'Confirmed_New', 'Deaths_New', 'Recovered_New'], sort=['Active', 'Confirmed', 'Deaths', 'Recovered', 'Confirmed_New', 'Deaths_New', 'Recovered_New', 'Slope'], limit=(1,50,1))\n",
    "def chart(country='India', value='Confirmed_New', sort='Confirmed_New', limit=10, xlog=True, ylog=True):\n",
    "    data = state_data(country)\n",
    "    us = state_data('US')\n",
    "    data = pd.concat([data, us[us['State'] == 'NY']])\n",
    "    return nontimegraph(data, 'State', value, sort, limit, xlog=xlog, ylog=ylog).interactive()"
   ]
  },
  {
   "cell_type": "markdown",
   "metadata": {},
   "source": [
    "# Hospitalizations"
   ]
  },
  {
   "cell_type": "code",
   "execution_count": 11,
   "metadata": {},
   "outputs": [
    {
     "data": {
      "application/vnd.jupyter.widget-view+json": {
       "model_id": "e3f3be6aa66b455cab3ffb7640f0cce8",
       "version_major": 2,
       "version_minor": 0
      },
      "text/plain": [
       "interactive(children=(Dropdown(description='sort', index=8, options=('Active', 'Confirmed', 'Deaths', 'Recover…"
      ]
     },
     "metadata": {},
     "output_type": "display_data"
    }
   ],
   "source": [
    "dfh = pd.read_csv('https://covidtracking.com/api/v1/states/daily.csv')\n",
    "dfh.date = pd.to_datetime(dfh.date, format='%Y%m%d')\n",
    "dfh.date = dfh.date.dt.strftime('%m-%d-%Y')\n",
    "dfh = dfh.rename({'date': 'Date', 'state':'State', 'hospitalizedCurrently': 'Hospitalized'}, axis=1)\n",
    "dfh['Hospitalized'].fillna(0, inplace=True)\n",
    "data = state_data('US')\n",
    "data = data.merge(dfh, on=['Date', 'State'], how='outer')\n",
    "\n",
    "for var in data['State'].unique():\n",
    "    hospitalized = data[data['State'] == var].Hospitalized.values.tolist()\n",
    "    hospitalized_deltas = [np.nan] + [hospitalized[i] - hospitalized[i-1] for i in range(1, len(hospitalized))]\n",
    "    data.loc[data['State'] == var, 'Hospitalized_New'] = hospitalized_deltas\n",
    "    hospitalized_pcts = [np.nan] + [(hospitalized[i] - hospitalized[i-1])/hospitalized[i-1]*100 if hospitalized[i-1] > 0 else np.nan for i in range(1, len(hospitalized))]\n",
    "    data.loc[data['State'] == var, 'Hospitalized_Pct'] = hospitalized_pcts\n",
    "\n",
    "@interact(sort=['Active', 'Confirmed', 'Deaths', 'Recovered', 'Confirmed_New', 'Deaths_New', 'Recovered_New', 'Hospitalized', 'Hospitalized_New', 'Hospitalized_Pct'], limit=(1,50,1))\n",
    "def chart(sort='Hospitalized_New', limit=10, xlog=True, ylog=True):\n",
    "    return nontimegraph(data, 'State', 'Hospitalized', sort, limit, addon=['NY'], xlog=xlog, ylog=ylog).interactive()#.properties(width=608, height=380).save('hospitalizations.png', scale_factor=3.0)"
   ]
  },
  {
   "cell_type": "code",
   "execution_count": 12,
   "metadata": {},
   "outputs": [
    {
     "data": {
      "text/html": [
       "\n",
       "<div id=\"altair-viz-d3391b2e028148d9b2cea71246df8ef2\"></div>\n",
       "<script type=\"text/javascript\">\n",
       "  (function(spec, embedOpt){\n",
       "    let outputDiv = document.currentScript.previousElementSibling;\n",
       "    if (outputDiv.id !== \"altair-viz-d3391b2e028148d9b2cea71246df8ef2\") {\n",
       "      outputDiv = document.getElementById(\"altair-viz-d3391b2e028148d9b2cea71246df8ef2\");\n",
       "    }\n",
       "    const paths = {\n",
       "      \"vega\": \"https://cdn.jsdelivr.net/npm//vega@5?noext\",\n",
       "      \"vega-lib\": \"https://cdn.jsdelivr.net/npm//vega-lib?noext\",\n",
       "      \"vega-lite\": \"https://cdn.jsdelivr.net/npm//vega-lite@4.8.1?noext\",\n",
       "      \"vega-embed\": \"https://cdn.jsdelivr.net/npm//vega-embed@6?noext\",\n",
       "    };\n",
       "\n",
       "    function loadScript(lib) {\n",
       "      return new Promise(function(resolve, reject) {\n",
       "        var s = document.createElement('script');\n",
       "        s.src = paths[lib];\n",
       "        s.async = true;\n",
       "        s.onload = () => resolve(paths[lib]);\n",
       "        s.onerror = () => reject(`Error loading script: ${paths[lib]}`);\n",
       "        document.getElementsByTagName(\"head\")[0].appendChild(s);\n",
       "      });\n",
       "    }\n",
       "\n",
       "    function showError(err) {\n",
       "      outputDiv.innerHTML = `<div class=\"error\" style=\"color:red;\">${err}</div>`;\n",
       "      throw err;\n",
       "    }\n",
       "\n",
       "    function displayChart(vegaEmbed) {\n",
       "      vegaEmbed(outputDiv, spec, embedOpt)\n",
       "        .catch(err => showError(`Javascript Error: ${err.message}<br>This usually means there's a typo in your chart specification. See the javascript console for the full traceback.`));\n",
       "    }\n",
       "\n",
       "    if(typeof define === \"function\" && define.amd) {\n",
       "      requirejs.config({paths});\n",
       "      require([\"vega-embed\"], displayChart, err => showError(`Error loading script: ${err.message}`));\n",
       "    } else if (typeof vegaEmbed === \"function\") {\n",
       "      displayChart(vegaEmbed);\n",
       "    } else {\n",
       "      loadScript(\"vega\")\n",
       "        .then(() => loadScript(\"vega-lite\"))\n",
       "        .then(() => loadScript(\"vega-embed\"))\n",
       "        .catch(showError)\n",
       "        .then(() => displayChart(vegaEmbed));\n",
       "    }\n",
       "  })({\"config\": {\"view\": {\"continuousWidth\": 400, \"continuousHeight\": 300}}, \"data\": {\"name\": \"data-dc8543537232ac5440327d0f68c19c37\"}, \"mark\": \"line\", \"encoding\": {\"x\": {\"type\": \"temporal\", \"field\": \"Date\"}, \"y\": {\"type\": \"quantitative\", \"field\": \"Hospitalized\"}}, \"height\": 380, \"selection\": {\"selector019\": {\"type\": \"interval\", \"bind\": \"scales\", \"encodings\": [\"x\", \"y\"]}}, \"width\": 608, \"$schema\": \"https://vega.github.io/schema/vega-lite/v4.8.1.json\", \"datasets\": {\"data-dc8543537232ac5440327d0f68c19c37\": [{\"Date\": \"01-22-2020\", \"Hospitalized\": 0.0}, {\"Date\": \"01-23-2020\", \"Hospitalized\": 0.0}, {\"Date\": \"01-24-2020\", \"Hospitalized\": 0.0}, {\"Date\": \"01-25-2020\", \"Hospitalized\": 0.0}, {\"Date\": \"01-26-2020\", \"Hospitalized\": 0.0}, {\"Date\": \"01-27-2020\", \"Hospitalized\": 0.0}, {\"Date\": \"01-28-2020\", \"Hospitalized\": 0.0}, {\"Date\": \"01-29-2020\", \"Hospitalized\": 0.0}, {\"Date\": \"01-30-2020\", \"Hospitalized\": 0.0}, {\"Date\": \"01-31-2020\", \"Hospitalized\": 0.0}, {\"Date\": \"02-01-2020\", \"Hospitalized\": 0.0}, {\"Date\": \"02-02-2020\", \"Hospitalized\": 0.0}, {\"Date\": \"02-03-2020\", \"Hospitalized\": 0.0}, {\"Date\": \"02-04-2020\", \"Hospitalized\": 0.0}, {\"Date\": \"02-05-2020\", \"Hospitalized\": 0.0}, {\"Date\": \"02-06-2020\", \"Hospitalized\": 0.0}, {\"Date\": \"02-07-2020\", \"Hospitalized\": 0.0}, {\"Date\": \"02-08-2020\", \"Hospitalized\": 0.0}, {\"Date\": \"02-09-2020\", \"Hospitalized\": 0.0}, {\"Date\": \"02-10-2020\", \"Hospitalized\": 0.0}, {\"Date\": \"02-11-2020\", \"Hospitalized\": 0.0}, {\"Date\": \"02-12-2020\", \"Hospitalized\": 0.0}, {\"Date\": \"02-13-2020\", \"Hospitalized\": 0.0}, {\"Date\": \"02-14-2020\", \"Hospitalized\": 0.0}, {\"Date\": \"02-15-2020\", \"Hospitalized\": 0.0}, {\"Date\": \"02-16-2020\", \"Hospitalized\": 0.0}, {\"Date\": \"02-17-2020\", \"Hospitalized\": 0.0}, {\"Date\": \"02-18-2020\", \"Hospitalized\": 0.0}, {\"Date\": \"02-19-2020\", \"Hospitalized\": 0.0}, {\"Date\": \"02-20-2020\", \"Hospitalized\": 0.0}, {\"Date\": \"02-21-2020\", \"Hospitalized\": 0.0}, {\"Date\": \"02-22-2020\", \"Hospitalized\": 0.0}, {\"Date\": \"02-23-2020\", \"Hospitalized\": 0.0}, {\"Date\": \"02-24-2020\", \"Hospitalized\": 0.0}, {\"Date\": \"02-25-2020\", \"Hospitalized\": 0.0}, {\"Date\": \"02-26-2020\", \"Hospitalized\": 0.0}, {\"Date\": \"02-27-2020\", \"Hospitalized\": 0.0}, {\"Date\": \"02-28-2020\", \"Hospitalized\": 0.0}, {\"Date\": \"02-29-2020\", \"Hospitalized\": 0.0}, {\"Date\": \"03-01-2020\", \"Hospitalized\": 0.0}, {\"Date\": \"03-02-2020\", \"Hospitalized\": 0.0}, {\"Date\": \"03-03-2020\", \"Hospitalized\": 0.0}, {\"Date\": \"03-04-2020\", \"Hospitalized\": 0.0}, {\"Date\": \"03-05-2020\", \"Hospitalized\": 0.0}, {\"Date\": \"03-06-2020\", \"Hospitalized\": 0.0}, {\"Date\": \"03-07-2020\", \"Hospitalized\": 0.0}, {\"Date\": \"03-08-2020\", \"Hospitalized\": 0.0}, {\"Date\": \"03-09-2020\", \"Hospitalized\": 0.0}, {\"Date\": \"03-10-2020\", \"Hospitalized\": 0.0}, {\"Date\": \"03-11-2020\", \"Hospitalized\": 0.0}, {\"Date\": \"03-12-2020\", \"Hospitalized\": 0.0}, {\"Date\": \"03-13-2020\", \"Hospitalized\": 0.0}, {\"Date\": \"03-14-2020\", \"Hospitalized\": 0.0}, {\"Date\": \"03-15-2020\", \"Hospitalized\": 0.0}, {\"Date\": \"03-16-2020\", \"Hospitalized\": 0.0}, {\"Date\": \"03-17-2020\", \"Hospitalized\": 325.0}, {\"Date\": \"03-18-2020\", \"Hospitalized\": 416.0}, {\"Date\": \"03-19-2020\", \"Hospitalized\": 617.0}, {\"Date\": \"03-20-2020\", \"Hospitalized\": 1042.0}, {\"Date\": \"03-21-2020\", \"Hospitalized\": 1492.0}, {\"Date\": \"03-22-2020\", \"Hospitalized\": 2173.0}, {\"Date\": \"03-23-2020\", \"Hospitalized\": 2812.0}, {\"Date\": \"03-24-2020\", \"Hospitalized\": 3938.0}, {\"Date\": \"03-25-2020\", \"Hospitalized\": 5140.0}, {\"Date\": \"03-26-2020\", \"Hospitalized\": 7805.0}, {\"Date\": \"03-27-2020\", \"Hospitalized\": 10978.0}, {\"Date\": \"03-28-2020\", \"Hospitalized\": 12409.0}, {\"Date\": \"03-29-2020\", \"Hospitalized\": 14055.0}, {\"Date\": \"03-30-2020\", \"Hospitalized\": 15917.0}, {\"Date\": \"03-31-2020\", \"Hospitalized\": 18155.0}, {\"Date\": \"04-01-2020\", \"Hospitalized\": 20906.0}, {\"Date\": \"04-02-2020\", \"Hospitalized\": 22997.0}, {\"Date\": \"04-03-2020\", \"Hospitalized\": 25777.0}, {\"Date\": \"04-04-2020\", \"Hospitalized\": 30268.0}, {\"Date\": \"04-05-2020\", \"Hospitalized\": 32180.0}, {\"Date\": \"04-06-2020\", \"Hospitalized\": 36159.0}, {\"Date\": \"04-07-2020\", \"Hospitalized\": 43849.0}, {\"Date\": \"04-08-2020\", \"Hospitalized\": 45515.0}, {\"Date\": \"04-09-2020\", \"Hospitalized\": 51313.0}, {\"Date\": \"04-10-2020\", \"Hospitalized\": 53167.0}, {\"Date\": \"04-11-2020\", \"Hospitalized\": 55557.0}, {\"Date\": \"04-12-2020\", \"Hospitalized\": 55449.0}, {\"Date\": \"04-13-2020\", \"Hospitalized\": 56237.0}, {\"Date\": \"04-14-2020\", \"Hospitalized\": 59600.0}, {\"Date\": \"04-15-2020\", \"Hospitalized\": 59924.0}, {\"Date\": \"04-16-2020\", \"Hospitalized\": 59498.0}, {\"Date\": \"04-17-2020\", \"Hospitalized\": 58886.0}, {\"Date\": \"04-18-2020\", \"Hospitalized\": 57788.0}, {\"Date\": \"04-19-2020\", \"Hospitalized\": 56497.0}, {\"Date\": \"04-20-2020\", \"Hospitalized\": 56734.0}, {\"Date\": \"04-21-2020\", \"Hospitalized\": 59773.0}, {\"Date\": \"04-22-2020\", \"Hospitalized\": 59212.0}, {\"Date\": \"04-23-2020\", \"Hospitalized\": 59216.0}, {\"Date\": \"04-24-2020\", \"Hospitalized\": 57324.0}, {\"Date\": \"04-25-2020\", \"Hospitalized\": 57343.0}, {\"Date\": \"04-26-2020\", \"Hospitalized\": 56149.0}, {\"Date\": \"04-27-2020\", \"Hospitalized\": 56183.0}, {\"Date\": \"04-28-2020\", \"Hospitalized\": 56034.0}, {\"Date\": \"04-29-2020\", \"Hospitalized\": 55987.0}, {\"Date\": \"04-30-2020\", \"Hospitalized\": 54921.0}, {\"Date\": \"05-01-2020\", \"Hospitalized\": 54862.0}, {\"Date\": \"05-02-2020\", \"Hospitalized\": 54009.0}, {\"Date\": \"05-03-2020\", \"Hospitalized\": 52619.0}, {\"Date\": \"05-04-2020\", \"Hospitalized\": 52377.0}, {\"Date\": \"05-05-2020\", \"Hospitalized\": 53176.0}, {\"Date\": \"05-06-2020\", \"Hospitalized\": 52581.0}, {\"Date\": \"05-07-2020\", \"Hospitalized\": 51425.0}, {\"Date\": \"05-08-2020\", \"Hospitalized\": 49758.0}, {\"Date\": \"05-09-2020\", \"Hospitalized\": 48561.0}, {\"Date\": \"05-10-2020\", \"Hospitalized\": 46760.0}, {\"Date\": \"05-11-2020\", \"Hospitalized\": 46550.0}, {\"Date\": \"05-12-2020\", \"Hospitalized\": 47344.0}, {\"Date\": \"05-13-2020\", \"Hospitalized\": 46740.0}, {\"Date\": \"05-14-2020\", \"Hospitalized\": 45644.0}, {\"Date\": \"05-15-2020\", \"Hospitalized\": 44299.0}, {\"Date\": \"05-16-2020\", \"Hospitalized\": 43175.0}, {\"Date\": \"05-17-2020\", \"Hospitalized\": 41609.0}, {\"Date\": \"05-18-2020\", \"Hospitalized\": 41531.0}, {\"Date\": \"05-19-2020\", \"Hospitalized\": 41652.0}, {\"Date\": \"05-20-2020\", \"Hospitalized\": 41535.0}, {\"Date\": \"05-21-2020\", \"Hospitalized\": 41071.0}, {\"Date\": \"05-22-2020\", \"Hospitalized\": 39774.0}, {\"Date\": \"05-23-2020\", \"Hospitalized\": 38360.0}, {\"Date\": \"05-24-2020\", \"Hospitalized\": 37510.0}, {\"Date\": \"05-25-2020\", \"Hospitalized\": 37382.0}, {\"Date\": \"05-26-2020\", \"Hospitalized\": 37533.0}, {\"Date\": \"05-27-2020\", \"Hospitalized\": 38017.0}, {\"Date\": \"05-28-2020\", \"Hospitalized\": 37804.0}, {\"Date\": \"05-29-2020\", \"Hospitalized\": 36718.0}, {\"Date\": \"05-30-2020\", \"Hospitalized\": 35513.0}, {\"Date\": \"05-31-2020\", \"Hospitalized\": 34641.0}, {\"Date\": \"06-01-2020\", \"Hospitalized\": 34064.0}, {\"Date\": \"06-02-2020\", \"Hospitalized\": 33709.0}, {\"Date\": \"06-03-2020\", \"Hospitalized\": 33026.0}, {\"Date\": \"06-04-2020\", \"Hospitalized\": 32602.0}, {\"Date\": \"06-05-2020\", \"Hospitalized\": 32265.0}, {\"Date\": \"06-06-2020\", \"Hospitalized\": 31762.0}, {\"Date\": \"06-07-2020\", \"Hospitalized\": 31249.0}, {\"Date\": \"06-08-2020\", \"Hospitalized\": 30984.0}, {\"Date\": \"06-09-2020\", \"Hospitalized\": 31020.0}, {\"Date\": \"06-10-2020\", \"Hospitalized\": 30840.0}, {\"Date\": \"06-11-2020\", \"Hospitalized\": 29686.0}, {\"Date\": \"06-12-2020\", \"Hospitalized\": 29149.0}, {\"Date\": \"06-13-2020\", \"Hospitalized\": 28431.0}, {\"Date\": \"06-14-2020\", \"Hospitalized\": 27899.0}, {\"Date\": \"06-15-2020\", \"Hospitalized\": 27866.0}, {\"Date\": \"06-16-2020\", \"Hospitalized\": 28279.0}, {\"Date\": \"06-17-2020\", \"Hospitalized\": 28561.0}, {\"Date\": \"06-18-2020\", \"Hospitalized\": 28411.0}, {\"Date\": \"06-19-2020\", \"Hospitalized\": 28586.0}, {\"Date\": \"06-20-2020\", \"Hospitalized\": 27970.0}, {\"Date\": \"06-21-2020\", \"Hospitalized\": 28221.0}, {\"Date\": \"06-22-2020\", \"Hospitalized\": 28797.0}, {\"Date\": \"06-23-2020\", \"Hospitalized\": 30226.0}, {\"Date\": \"06-24-2020\", \"Hospitalized\": 31119.0}, {\"Date\": \"06-25-2020\", \"Hospitalized\": 31828.0}, {\"Date\": \"06-26-2020\", \"Hospitalized\": 31710.0}, {\"Date\": \"06-27-2020\", \"Hospitalized\": 32485.0}, {\"Date\": \"06-28-2020\", \"Hospitalized\": 32479.0}, {\"Date\": \"06-29-2020\", \"Hospitalized\": 33627.0}, {\"Date\": \"06-30-2020\", \"Hospitalized\": 35222.0}, {\"Date\": \"07-01-2020\", \"Hospitalized\": 36430.0}, {\"Date\": \"07-02-2020\", \"Hospitalized\": 37508.0}, {\"Date\": \"07-03-2020\", \"Hospitalized\": 37801.0}, {\"Date\": \"07-04-2020\", \"Hospitalized\": 38150.0}, {\"Date\": \"07-05-2020\", \"Hospitalized\": 38765.0}, {\"Date\": \"07-06-2020\", \"Hospitalized\": 39820.0}, {\"Date\": \"07-07-2020\", \"Hospitalized\": 41772.0}, {\"Date\": \"07-08-2020\", \"Hospitalized\": 43097.0}, {\"Date\": \"07-09-2020\", \"Hospitalized\": 43916.0}, {\"Date\": \"07-10-2020\", \"Hospitalized\": 51606.0}, {\"Date\": \"07-11-2020\", \"Hospitalized\": 51861.0}, {\"Date\": \"07-12-2020\", \"Hospitalized\": 52739.0}, {\"Date\": \"07-13-2020\", \"Hospitalized\": 54044.0}, {\"Date\": \"07-14-2020\", \"Hospitalized\": 55554.0}, {\"Date\": \"07-15-2020\", \"Hospitalized\": 56168.0}, {\"Date\": \"07-16-2020\", \"Hospitalized\": 57459.0}, {\"Date\": \"07-17-2020\", \"Hospitalized\": 57737.0}, {\"Date\": \"07-18-2020\", \"Hospitalized\": 57646.0}, {\"Date\": \"07-19-2020\", \"Hospitalized\": 57882.0}, {\"Date\": \"07-20-2020\", \"Hospitalized\": 58352.0}, {\"Date\": \"07-21-2020\", \"Hospitalized\": 59351.0}, {\"Date\": \"07-22-2020\", \"Hospitalized\": 59598.0}, {\"Date\": \"07-23-2020\", \"Hospitalized\": 59712.0}, {\"Date\": \"07-24-2020\", \"Hospitalized\": 59677.0}, {\"Date\": \"07-25-2020\", \"Hospitalized\": 59269.0}, {\"Date\": \"07-26-2020\", \"Hospitalized\": 58644.0}, {\"Date\": \"07-27-2020\", \"Hospitalized\": 58906.0}, {\"Date\": \"07-28-2020\", \"Hospitalized\": 57086.0}, {\"Date\": \"07-29-2020\", \"Hospitalized\": 57325.0}, {\"Date\": \"07-30-2020\", \"Hospitalized\": 56434.0}, {\"Date\": \"07-31-2020\", \"Hospitalized\": 55589.0}, {\"Date\": \"08-01-2020\", \"Hospitalized\": 54437.0}, {\"Date\": \"08-02-2020\", \"Hospitalized\": 53983.0}, {\"Date\": \"08-03-2020\", \"Hospitalized\": 53413.0}, {\"Date\": \"08-04-2020\", \"Hospitalized\": 53323.0}, {\"Date\": \"08-05-2020\", \"Hospitalized\": 53343.0}, {\"Date\": \"08-06-2020\", \"Hospitalized\": 53129.0}, {\"Date\": \"08-07-2020\", \"Hospitalized\": 51201.0}, {\"Date\": \"08-08-2020\", \"Hospitalized\": 49935.0}, {\"Date\": \"08-09-2020\", \"Hospitalized\": 48866.0}, {\"Date\": \"08-10-2020\", \"Hospitalized\": 48631.0}, {\"Date\": \"08-11-2020\", \"Hospitalized\": 48511.0}, {\"Date\": \"08-12-2020\", \"Hospitalized\": 47949.0}, {\"Date\": \"08-13-2020\", \"Hospitalized\": 47204.0}, {\"Date\": \"08-14-2020\", \"Hospitalized\": 45744.0}, {\"Date\": \"08-15-2020\", \"Hospitalized\": 44783.0}, {\"Date\": \"08-16-2020\", \"Hospitalized\": 44046.0}, {\"Date\": \"08-17-2020\", \"Hospitalized\": 43500.0}, {\"Date\": \"08-18-2020\", \"Hospitalized\": 43767.0}, {\"Date\": \"08-19-2020\", \"Hospitalized\": 43289.0}, {\"Date\": \"08-20-2020\", \"Hospitalized\": 41968.0}, {\"Date\": \"08-21-2020\", \"Hospitalized\": 40940.0}, {\"Date\": \"08-22-2020\", \"Hospitalized\": 39919.0}, {\"Date\": \"08-23-2020\", \"Hospitalized\": 38980.0}, {\"Date\": \"08-24-2020\", \"Hospitalized\": 38695.0}, {\"Date\": \"08-25-2020\", \"Hospitalized\": 38775.0}, {\"Date\": \"08-26-2020\", \"Hospitalized\": 38418.0}, {\"Date\": \"08-27-2020\", \"Hospitalized\": 37421.0}, {\"Date\": \"08-28-2020\", \"Hospitalized\": 37255.0}, {\"Date\": \"08-29-2020\", \"Hospitalized\": 36437.0}, {\"Date\": \"08-30-2020\", \"Hospitalized\": 35726.0}, {\"Date\": \"08-31-2020\", \"Hospitalized\": 35352.0}, {\"Date\": \"09-01-2020\", \"Hospitalized\": 35273.0}, {\"Date\": \"09-02-2020\", \"Hospitalized\": 35579.0}, {\"Date\": \"09-03-2020\", \"Hospitalized\": 34650.0}, {\"Date\": \"09-04-2020\", \"Hospitalized\": 34101.0}, {\"Date\": \"09-05-2020\", \"Hospitalized\": 33502.0}, {\"Date\": \"09-06-2020\", \"Hospitalized\": 32376.0}, {\"Date\": \"09-07-2020\", \"Hospitalized\": 32009.0}, {\"Date\": \"09-08-2020\", \"Hospitalized\": 32246.0}, {\"Date\": \"09-09-2020\", \"Hospitalized\": 32579.0}, {\"Date\": \"09-10-2020\", \"Hospitalized\": 32438.0}, {\"Date\": \"09-11-2020\", \"Hospitalized\": 31406.0}, {\"Date\": \"09-12-2020\", \"Hospitalized\": 30643.0}, {\"Date\": \"09-13-2020\", \"Hospitalized\": 29804.0}, {\"Date\": \"09-14-2020\", \"Hospitalized\": 29907.0}, {\"Date\": \"09-15-2020\", \"Hospitalized\": 30361.0}, {\"Date\": \"09-16-2020\", \"Hospitalized\": 30253.0}, {\"Date\": \"09-17-2020\", \"Hospitalized\": 29875.0}, {\"Date\": \"09-18-2020\", \"Hospitalized\": 29521.0}, {\"Date\": \"09-19-2020\", \"Hospitalized\": 29038.0}, {\"Date\": \"09-20-2020\", \"Hospitalized\": 28606.0}, {\"Date\": \"09-21-2020\", \"Hospitalized\": 28762.0}, {\"Date\": \"09-22-2020\", \"Hospitalized\": 29448.0}, {\"Date\": \"09-23-2020\", \"Hospitalized\": 29937.0}, {\"Date\": \"09-24-2020\", \"Hospitalized\": 30036.0}, {\"Date\": \"09-25-2020\", \"Hospitalized\": 29768.0}, {\"Date\": \"09-26-2020\", \"Hospitalized\": 29551.0}, {\"Date\": \"09-27-2020\", \"Hospitalized\": 29443.0}, {\"Date\": \"09-28-2020\", \"Hospitalized\": 29601.0}, {\"Date\": \"09-29-2020\", \"Hospitalized\": 30499.0}, {\"Date\": \"09-30-2020\", \"Hospitalized\": 30912.0}, {\"Date\": \"10-01-2020\", \"Hospitalized\": 30809.0}, {\"Date\": \"10-02-2020\", \"Hospitalized\": 30769.0}, {\"Date\": \"10-03-2020\", \"Hospitalized\": 30111.0}, {\"Date\": \"10-04-2020\", \"Hospitalized\": 29945.0}, {\"Date\": \"10-05-2020\", \"Hospitalized\": 31327.0}, {\"Date\": \"10-06-2020\", \"Hospitalized\": 32626.0}, {\"Date\": \"10-07-2020\", \"Hospitalized\": 33482.0}, {\"Date\": \"10-08-2020\", \"Hospitalized\": 34319.0}, {\"Date\": \"10-09-2020\", \"Hospitalized\": 34877.0}, {\"Date\": \"10-10-2020\", \"Hospitalized\": 34600.0}, {\"Date\": \"10-11-2020\", \"Hospitalized\": 34498.0}, {\"Date\": \"10-12-2020\", \"Hospitalized\": 35066.0}, {\"Date\": \"10-13-2020\", \"Hospitalized\": 36064.0}, {\"Date\": \"10-14-2020\", \"Hospitalized\": 37088.0}, {\"Date\": \"10-15-2020\", \"Hospitalized\": 37328.0}, {\"Date\": \"10-16-2020\", \"Hospitalized\": 37368.0}, {\"Date\": \"10-17-2020\", \"Hospitalized\": 37358.0}, {\"Date\": \"10-18-2020\", \"Hospitalized\": 36452.0}, {\"Date\": \"10-19-2020\", \"Hospitalized\": 37858.0}, {\"Date\": \"10-20-2020\", \"Hospitalized\": 39303.0}, {\"Date\": \"10-21-2020\", \"Hospitalized\": 40284.0}, {\"Date\": \"10-22-2020\", \"Hospitalized\": 41036.0}, {\"Date\": \"10-23-2020\", \"Hospitalized\": 41501.0}, {\"Date\": \"10-24-2020\", \"Hospitalized\": 41989.0}, {\"Date\": \"10-25-2020\", \"Hospitalized\": 41786.0}, {\"Date\": \"10-26-2020\", \"Hospitalized\": 42924.0}, {\"Date\": \"10-27-2020\", \"Hospitalized\": 44287.0}, {\"Date\": \"10-28-2020\", \"Hospitalized\": 45124.0}, {\"Date\": \"10-29-2020\", \"Hospitalized\": 46126.0}, {\"Date\": \"10-30-2020\", \"Hospitalized\": 46738.0}, {\"Date\": \"10-31-2020\", \"Hospitalized\": 47402.0}, {\"Date\": \"11-01-2020\", \"Hospitalized\": 47531.0}, {\"Date\": \"11-02-2020\", \"Hospitalized\": 48693.0}, {\"Date\": \"11-03-2020\", \"Hospitalized\": 50426.0}, {\"Date\": \"11-04-2020\", \"Hospitalized\": 52086.0}, {\"Date\": \"11-05-2020\", \"Hospitalized\": 53375.0}, {\"Date\": \"11-06-2020\", \"Hospitalized\": 54851.0}, {\"Date\": \"11-07-2020\", \"Hospitalized\": 55925.0}, {\"Date\": \"11-08-2020\", \"Hospitalized\": 56842.0}, {\"Date\": \"11-09-2020\", \"Hospitalized\": 59301.0}, {\"Date\": \"11-10-2020\", \"Hospitalized\": 62059.0}, {\"Date\": \"11-11-2020\", \"Hospitalized\": 65463.0}, {\"Date\": \"11-12-2020\", \"Hospitalized\": 67100.0}, {\"Date\": \"11-13-2020\", \"Hospitalized\": 68496.0}, {\"Date\": \"11-14-2020\", \"Hospitalized\": 69498.0}, {\"Date\": \"11-15-2020\", \"Hospitalized\": 70113.0}, {\"Date\": \"11-16-2020\", \"Hospitalized\": 73268.0}, {\"Date\": \"11-17-2020\", \"Hospitalized\": 76958.0}, {\"Date\": \"11-18-2020\", \"Hospitalized\": 79410.0}, {\"Date\": \"11-19-2020\", \"Hospitalized\": 80585.0}, {\"Date\": \"11-20-2020\", \"Hospitalized\": 82150.0}, {\"Date\": \"11-21-2020\", \"Hospitalized\": 83232.0}, {\"Date\": \"11-22-2020\", \"Hospitalized\": 83779.0}, {\"Date\": \"11-23-2020\", \"Hospitalized\": 85870.0}, {\"Date\": \"11-24-2020\", \"Hospitalized\": 88080.0}, {\"Date\": \"11-25-2020\", \"Hospitalized\": 89959.0}, {\"Date\": \"11-26-2020\", \"Hospitalized\": 90481.0}, {\"Date\": \"11-27-2020\", \"Hospitalized\": 89834.0}, {\"Date\": \"11-28-2020\", \"Hospitalized\": 91635.0}]}}, {\"mode\": \"vega-lite\"});\n",
       "</script>"
      ],
      "text/plain": [
       "alt.Chart(...)"
      ]
     },
     "execution_count": 12,
     "metadata": {},
     "output_type": "execute_result"
    }
   ],
   "source": [
    "totals = data.groupby('Date', as_index=False).sum()[['Date', 'Hospitalized']]\n",
    "alt.Chart(totals).mark_line().encode(\n",
    "    x='Date:T',\n",
    "    y='Hospitalized:Q'\n",
    ").properties(width=608, height=380).interactive()"
   ]
  },
  {
   "cell_type": "markdown",
   "metadata": {},
   "source": [
    "# Record Setters"
   ]
  },
  {
   "cell_type": "code",
   "execution_count": 13,
   "metadata": {},
   "outputs": [
    {
     "name": "stdout",
     "output_type": "stream",
     "text": [
      "Countries settings new highs:\n",
      "['Azerbaijan' 'Belarus' 'Croatia' 'Finland' 'Georgia' 'Indonesia' 'Iran'\n",
      " 'Kenya' 'Lithuania' 'Russia' 'Serbia' 'Turkey' 'Ukraine' 'Uruguay'\n",
      " 'West Bank and Gaza']\n",
      "States settings new highs:\n",
      "['FL' 'ID' 'KY' 'MI' 'NC' 'OH' 'OR' 'PA' 'SD' 'UT' 'VT']\n",
      "Countries settings new lows since April:\n",
      "[]\n",
      "States settings new lows since April:\n",
      "[]\n"
     ]
    }
   ],
   "source": [
    "cl = country_level\n",
    "cl = cl[cl['Date'] == days[-1]].merge(cl.groupby(['Country'], as_index=False).max()[['Country', 'Confirmed_New']], on='Country')\n",
    "print('Countries settings new highs:')\n",
    "print(cl[(cl.Confirmed_New_x == cl.Confirmed_New_y) & (cl.Confirmed_New_x != 0)].Country.values)\n",
    "\n",
    "sl = state_data('US')\n",
    "sl = sl[sl['Date'] == days[-1]].merge(sl.groupby(['State'], as_index=False).max()[['State', 'Confirmed_New']], on='State')\n",
    "print('States settings new highs:')\n",
    "print(sl[(sl.Confirmed_New_x == sl.Confirmed_New_y) & (sl.Confirmed_New_x != 0)].State.values)\n",
    "\n",
    "cl = country_level\n",
    "cl = cl[cl['Date'] == days[-1]].merge(cl[cl['Date']>'04-01-2020'].groupby(['Country'], as_index=False).min()[['Country', 'Confirmed_New']], on='Country')\n",
    "print('Countries settings new lows since April:')\n",
    "print(cl[(cl.Confirmed_New_x == cl.Confirmed_New_y) & (cl.Confirmed_New_x != 0)].Country.values)\n",
    "\n",
    "sl = state_data('US')\n",
    "sl = sl[sl['Date'] == days[-1]].merge(sl[sl['Date']>'04-01-2020'].groupby(['State'], as_index=False).min()[['State', 'Confirmed_New']], on='State')\n",
    "print('States settings new lows since April:')\n",
    "print(sl[(sl.Confirmed_New_x == sl.Confirmed_New_y) & (sl.Confirmed_New_x != 0)].State.values)"
   ]
  },
  {
   "cell_type": "code",
   "execution_count": null,
   "metadata": {},
   "outputs": [],
   "source": []
  }
 ],
 "metadata": {
  "kernelspec": {
   "display_name": "Python 3",
   "language": "python",
   "name": "python3"
  },
  "language_info": {
   "codemirror_mode": {
    "name": "ipython",
    "version": 3
   },
   "file_extension": ".py",
   "mimetype": "text/x-python",
   "name": "python",
   "nbconvert_exporter": "python",
   "pygments_lexer": "ipython3",
   "version": "3.8.3"
  }
 },
 "nbformat": 4,
 "nbformat_minor": 4
}
