{
 "cells": [
  {
   "cell_type": "code",
   "execution_count": 1,
   "metadata": {},
   "outputs": [],
   "source": [
    "import pandas as pd\n",
    "import numpy as np\n",
    "import altair as alt\n",
    "\n",
    "# Set up some global config and variables\n",
    "alt.renderers.enable('default')\n",
    "pd.options.mode.chained_assignment = None\n",
    "\n",
    "def align(data):\n",
    "    # Find the index with the lowest non-zero starting case number\n",
    "    base = min(((idx, val) for (idx, val) in enumerate(data) if val[0] > 0), key = lambda x: x[1][0])[0]\n",
    "\n",
    "    # Align everyone else to this base\n",
    "    for i in [x for x in range(len(data)) if x != base]:\n",
    "        padding = min(((x[0], abs(x[1] - data[i][0])) for x in enumerate(data[base])), key = lambda x: x[1])[0]\n",
    "        data[i] = [0 for i in range(padding)] + data[i]\n",
    "    return data\n",
    "\n",
    "# Takes a list of numbers and returns a list with number of rows to double\n",
    "def doubling(data):\n",
    "    doubling = []\n",
    "    for i in reversed(range(len(data))):\n",
    "        index = -1\n",
    "        for j in reversed(range(i)):\n",
    "            if data[i] >= data[j]*2:\n",
    "                index = j\n",
    "                break\n",
    "        doubling.append(i - index if index > 0 else np.nan)\n",
    "    return list(reversed(doubling))\n",
    "\n",
    "def streamgraph(df, by, value, sort, limit, stack='zero'):\n",
    "    zeros = df.groupby('Date', as_index=False).sum()\n",
    "    zeros = zeros[zeros[value] <= 10].Date\n",
    "    df = df[~df['Date'].isin(zeros)]\n",
    "    \n",
    "    df.loc[df[value]<0, value] = 0\n",
    "    order = df[df['Date'] == days[-1]].sort_values(sort, ascending=False)\n",
    "    top = order[by].values.tolist()\n",
    "    data = df[df[by].isin(top[:limit])]\n",
    "    others = df[df[by].isin(top[limit:])].groupby('Date', as_index=False).sum()\n",
    "    others.insert(0, by, 'Others')\n",
    "    data = data.append(others, ignore_index=True)\n",
    "    selection = alt.selection_multi(fields=[by], bind='legend')\n",
    "\n",
    "    base = alt.Chart(data).mark_area().encode(\n",
    "        alt.X('Date:T', axis=alt.Axis(domain=False, format='%d %b', tickSize=0)),\n",
    "        alt.Y(value + ':Q', stack=stack, axis=alt.Axis(title=' '.join(value.split('_'))) if stack=='zero' else None),\n",
    "        alt.Color(by + ':N', scale=alt.Scale(scheme='tableau20'), sort=top[:limit]),\n",
    "        order=alt.Order('sort:Q'),\n",
    "        tooltip=alt.Tooltip(['Date:T', by, value]),\n",
    "        opacity=alt.condition(selection, alt.value(1), alt.value(0.3))\n",
    "    ).transform_lookup(\n",
    "        lookup=by,\n",
    "        from_=alt.LookupData(order, by, [sort]),\n",
    "        as_=['sort']\n",
    "    )\n",
    "    totals = alt.Chart(data.groupby('Date', as_index=False).sum()).mark_line(strokeDash=[6,3]).encode(\n",
    "        x='Date:T',\n",
    "        y='rolling_mean:Q',\n",
    "        color=alt.value('black'),\n",
    "    ).transform_window(\n",
    "        rolling_mean='mean(%s)' % value,\n",
    "        frame=[-7, 7]\n",
    "    )\n",
    "    return (base+totals).properties(\n",
    "        width=1200,\n",
    "        height=800\n",
    "    ).add_selection(selection)\n",
    "\n",
    "def nontimegraph(df, by, value, sort, limit, highlight='', addon=[], xlog=True, ylog=True, rect=None, ascending=False):\n",
    "    top = set(df[df['Date'] == days[-1]].sort_values(sort, ascending=ascending)[by].values.tolist()[:limit] + addon + [highlight])\n",
    "    data = df[(df[value] > 1) & (df['Confirmed'] > 100) & (df[by].isin(top))]\n",
    "    #data.loc[:,value] = data[value].rolling(window=3, win_type='gaussian').mean(std=3)\n",
    "    selection = alt.selection_multi(fields=[by], bind='legend', init=[{by: highlight}], empty='none', nearest=True)\n",
    "\n",
    "    # Background\n",
    "    line = alt.Chart(data).mark_line().encode(\n",
    "        alt.X('Confirmed:Q', scale=alt.Scale(type='log' if xlog else 'linear'), axis=alt.Axis(title='Cumulative Cases')),\n",
    "        alt.Y(value + ':Q', scale=alt.Scale(type='log' if ylog else 'linear'), axis=alt.Axis(title=' '.join(value.split('_')))),\n",
    "        color=alt.Color(by+':N', scale=alt.Scale(scheme='category10' if highlight == '' else 'set2')),\n",
    "        size=alt.value(1),\n",
    "        tooltip=alt.Tooltip(['Date:N', by, value])\n",
    "    ).transform_filter(~selection)\n",
    "    point = line.mark_circle().encode(\n",
    "        alt.X('Confirmed:Q', scale=alt.Scale(type='log' if xlog else 'linear')),\n",
    "        alt.Y(value + ':Q', scale=alt.Scale(type='log' if ylog else 'linear')),\n",
    "        color=alt.Color(by+':N'),\n",
    "        size=alt.value(60)\n",
    "    ).transform_filter(\n",
    "        alt.datum.Date == days[-1]\n",
    "    ).transform_filter(~selection)\n",
    "    text = point.mark_text(\n",
    "        align='left',\n",
    "        dx=7,  # Nudges text to right so it doesn't appear on top of the bar\n",
    "    ).encode(\n",
    "        text=by+':N',\n",
    "        size=alt.value(10),\n",
    "        color=alt.Color(by+':N')\n",
    "    ).transform_filter(~selection)\n",
    "    background = line+point+text\n",
    "\n",
    "    # Foreground\n",
    "    line = alt.Chart(data).mark_line().encode(\n",
    "        alt.X('Confirmed:Q', scale=alt.Scale(type='log' if xlog else 'linear'), axis=alt.Axis(title='Cumulative Cases')),\n",
    "        alt.Y(value + ':Q', scale=alt.Scale(type='log' if ylog else 'linear'), axis=alt.Axis(title=' '.join(value.split('_')))),\n",
    "        color=alt.value('black'),\n",
    "        size=alt.value(3),\n",
    "        tooltip=alt.Tooltip(['Date:N', by, value])\n",
    "    ).transform_filter(selection)\n",
    "    point = line.mark_circle().encode(\n",
    "        alt.X('Confirmed:Q', scale=alt.Scale(type='log' if xlog else 'linear')),\n",
    "        alt.Y(value + ':Q', scale=alt.Scale(type='log' if ylog else 'linear')),\n",
    "        color=alt.value('black'),\n",
    "        size=alt.value(100)\n",
    "    ).transform_filter(\n",
    "        alt.datum.Date == days[-1]\n",
    "    ).transform_filter(selection)\n",
    "    text = point.mark_text(\n",
    "        align='left',\n",
    "        dx=7,  # Nudges text to right so it doesn't appear on top of the bar\n",
    "    ).encode(\n",
    "        text=by+':N',\n",
    "        size=alt.value(15),\n",
    "        color=alt.value('black')\n",
    "    ).transform_filter(selection)\n",
    "    foreground = line+point+text\n",
    "\n",
    "    start = df[(df[by] == highlight) & (df['Date'] == rect[0])] if rect is not None else pd.DataFrame()\n",
    "    end = df[(df[by] == highlight) & (df['Date'] == rect[1])] if rect is not None else pd.DataFrame()\n",
    "    if not start.empty and not end.empty:\n",
    "        marks = pd.DataFrame([{\"start_x\": start.Confirmed.values[0], \"end_x\": end.Confirmed.values[0], \"start_y\": start[value].values[0], \"end_y\": end[value].values[0]}])\n",
    "        rule_rect = alt.Chart(marks).mark_rect(opacity=0.3).encode(x='start_x:Q', x2='end_x:Q')\n",
    "        rule_point_1 = rule_rect.mark_circle().encode(\n",
    "            alt.X('start_x:Q', scale=alt.Scale(type='log' if xlog else 'linear')),\n",
    "            alt.Y('start_y:Q', scale=alt.Scale(type='log' if ylog else 'linear')),\n",
    "            color=alt.value('grey'),\n",
    "            size=alt.value(60)\n",
    "        )\n",
    "        rule_point_2 = rule_rect.mark_circle().encode(\n",
    "            alt.X('end_x:Q', scale=alt.Scale(type='log' if xlog else 'linear')),\n",
    "            alt.Y('end_y:Q', scale=alt.Scale(type='log' if ylog else 'linear')),\n",
    "            color=alt.value('grey'),\n",
    "            size=alt.value(60)\n",
    "        )\n",
    "        rule_text_1 = rule_point_1.mark_text(\n",
    "            align='left',\n",
    "            angle=90,\n",
    "            dx=10\n",
    "        ).encode(\n",
    "            text=alt.value(rect[0]),\n",
    "            size=alt.value(15),\n",
    "            color=alt.value('black')\n",
    "        )\n",
    "        rule_text_2 = rule_point_2.mark_text(\n",
    "            align='left',\n",
    "            angle=90,\n",
    "            dx=10\n",
    "        ).encode(\n",
    "            text=alt.value(rect[1]),\n",
    "            size=alt.value(15),\n",
    "            color=alt.value('black')\n",
    "        )\n",
    "        return (background+foreground+rule_rect+rule_point_1+rule_point_2+rule_text_1+rule_text_2).properties(\n",
    "            width=1200,\n",
    "            height=800\n",
    "        ).add_selection(selection)\n",
    "    else:\n",
    "        return (background+foreground).properties(\n",
    "            width=1200, \n",
    "            height=800\n",
    "        ).add_selection(selection)"
   ]
  },
  {
   "cell_type": "code",
   "execution_count": 2,
   "metadata": {},
   "outputs": [],
   "source": [
    "# Read the raw data\n",
    "df = pd.read_csv('jhu-daily-reports.csv')\n",
    "df['Active']  = df.Confirmed - (df.Deaths + df.Recovered)\n",
    "samples = df[['Date', 'Country']].groupby('Date').Country.nunique()\n",
    "days = samples[samples > 1].index.tolist()\n",
    "df = df[df['Date'].isin(days)]"
   ]
  },
  {
   "cell_type": "markdown",
   "metadata": {},
   "source": [
    "# Global Data Visualizations"
   ]
  },
  {
   "cell_type": "code",
   "execution_count": 3,
   "metadata": {},
   "outputs": [
    {
     "data": {
      "application/vnd.jupyter.widget-view+json": {
       "model_id": "b8972028d700402daaa3b39cb8a89d7f",
       "version_major": 2,
       "version_minor": 0
      },
      "text/plain": [
       "interactive(children=(Dropdown(description='value', index=4, options=('Active', 'Confirmed', 'Deaths', 'Recove…"
      ]
     },
     "metadata": {},
     "output_type": "display_data"
    }
   ],
   "source": [
    "from ipywidgets import interact\n",
    "\n",
    "# Aggregate at country level\n",
    "country_level = df.groupby(['Country', 'Date'], as_index=False).sum()\n",
    "\n",
    "# Drop 03-22-2020 since county breakdown started from here and so there is break in continuity\n",
    "country_level = country_level.drop(country_level[country_level['Date'] == '03-22-2020'].index)\n",
    "country_level = country_level.drop(country_level[country_level['Date'] == '03-12-2020'].index)\n",
    "country_level = country_level.drop(country_level[country_level['Date'] == '02-12-2020'].index)\n",
    "\n",
    "@interact(value=['Active', 'Confirmed', 'Deaths', 'Recovered', 'Confirmed_New', 'Deaths_New', 'Recovered_New'], sort=['Active', 'Confirmed', 'Deaths', 'Recovered', 'Confirmed_New', 'Deaths_New', 'Recovered_New'], limit=(0,50,1))\n",
    "def chart(value='Confirmed_New', sort='Confirmed_New', limit=10):\n",
    "    return streamgraph(country_level, 'Country', value, sort, limit).interactive()#.properties(width=608, height=380).save('./output/main.png', scale_factor=2.0)"
   ]
  },
  {
   "cell_type": "code",
   "execution_count": 4,
   "metadata": {},
   "outputs": [
    {
     "data": {
      "application/vnd.jupyter.widget-view+json": {
       "model_id": "bbab6b3d4cd742249fc7195b2b7df29f",
       "version_major": 2,
       "version_minor": 0
      },
      "text/plain": [
       "interactive(children=(Dropdown(description='value', index=4, options=('Active', 'Confirmed', 'Deaths', 'Recove…"
      ]
     },
     "metadata": {},
     "output_type": "display_data"
    }
   ],
   "source": [
    "country_level = country_level[country_level['Country'].isin(country_level[country_level['Confirmed'] > 1000]['Country'].unique())]\n",
    "countries = country_level[country_level['Confirmed'] > 1000]['Country'].unique().tolist()\n",
    "\n",
    "@interact(value=['Active', 'Confirmed', 'Deaths', 'Recovered', 'Confirmed_New', 'Deaths_New', 'Recovered_New'], sort=['Active', 'Confirmed', 'Deaths', 'Recovered', 'Confirmed_New', 'Deaths_New', 'Recovered_New'], limit=(1,50,1), highlight=countries, start=reversed(days), end=reversed(days))\n",
    "def chart(value='Confirmed_New', sort='Confirmed_New', limit=10, highlight='India', start=None, end=None, xlog=True, ylog=True):\n",
    "    rect = (start, end)\n",
    "    return nontimegraph(country_level, 'Country', value, sort, limit, highlight=highlight, xlog=xlog, ylog=ylog, rect=rect).interactive()"
   ]
  },
  {
   "cell_type": "markdown",
   "metadata": {},
   "source": [
    "# State Level Visualizations"
   ]
  },
  {
   "cell_type": "code",
   "execution_count": 5,
   "metadata": {},
   "outputs": [
    {
     "data": {
      "application/vnd.jupyter.widget-view+json": {
       "model_id": "0ba1f772ce8d4b68bdb496337d3af99c",
       "version_major": 2,
       "version_minor": 0
      },
      "text/plain": [
       "interactive(children=(Dropdown(description='country', index=20, options=('Australia', 'Brazil', 'Canada', 'Chi…"
      ]
     },
     "metadata": {},
     "output_type": "display_data"
    }
   ],
   "source": [
    "countries = df[(df['State'].notnull()) & (df['Confirmed'] > 1000)]['Country'].unique()\n",
    "\n",
    "def state_data(country):\n",
    "    state_level = df[df['Country'] == country].groupby(['State', 'Date'], as_index=False).sum()\n",
    "    state_level['Active'] = state_level.Confirmed - (state_level.Deaths + state_level.Recovered)\n",
    "    if country == 'US':\n",
    "        # Drop 03-22-2020 since county breakdown started from here and so there is break in continuity\n",
    "        state_level = state_level.drop(state_level[state_level['Date'] == '03-22-2020'].index)\n",
    "        state_level = state_level.drop(state_level[state_level['Date'] == '03-18-2020'].index)\n",
    "        state_level = state_level[state_level['Date'] >= '03-01-2020']\n",
    "    if country == 'India':\n",
    "        state_level['State'].replace(['Cases being reassigned to states'], 'Unassigned', inplace=True)\n",
    "        state_level = state_level[state_level['Date'] >= '03-01-2020']\n",
    "    for var in state_level['State'].unique():\n",
    "        confirmed = state_level[state_level['State'] == var].Confirmed_New.values.tolist()\n",
    "        confirmed_pcts = [np.nan] + [(confirmed[i] - confirmed[i-1])/confirmed[i-1]*100 if confirmed[i-1] > 0 else np.nan for i in range(1, len(confirmed))]\n",
    "        state_level.loc[state_level['State'] == var, 'Confirmed_Pct'] = confirmed_pcts\n",
    "    return state_level\n",
    "\n",
    "@interact(country=countries, value=['Active', 'Confirmed', 'Deaths', 'Recovered', 'Confirmed_New', 'Deaths_New', 'Recovered_New'], sort=['Active', 'Confirmed', 'Deaths', 'Recovered', 'Confirmed_New', 'Deaths_New', 'Recovered_New'], limit=(0,50,1))\n",
    "def chart(country='US', value='Confirmed_New', sort='Confirmed_New', limit=10):\n",
    "    graph = streamgraph(state_data(country), 'State', value, sort, limit)\n",
    "    graph.save('us-by-state.html')\n",
    "    return graph.interactive()#.properties(width=608, height=380).save('./output/us-confirmed-new.png', scale_factor=3.0)"
   ]
  },
  {
   "cell_type": "code",
   "execution_count": 6,
   "metadata": {},
   "outputs": [
    {
     "data": {
      "application/vnd.jupyter.widget-view+json": {
       "model_id": "295dabe5055a435b965427543e977e28",
       "version_major": 2,
       "version_minor": 0
      },
      "text/plain": [
       "interactive(children=(Dropdown(description='country', index=20, options=('Australia', 'Brazil', 'Canada', 'Chi…"
      ]
     },
     "metadata": {},
     "output_type": "display_data"
    }
   ],
   "source": [
    "@interact(country=countries, value=['Active', 'Confirmed', 'Deaths', 'Recovered', 'Confirmed_New', 'Deaths_New', 'Recovered_New'], sort=['Active', 'Confirmed', 'Deaths', 'Recovered', 'Confirmed_New', 'Confirmed_Pct', 'Deaths_New', 'Recovered_New'], limit=(1,50,1))\n",
    "def chart(country='US', value='Confirmed_New', sort='Confirmed_New', limit=10, xlog=True, ylog=True):\n",
    "    return nontimegraph(state_data(country), 'State', value, sort, limit, xlog=xlog, ylog=ylog).interactive()"
   ]
  },
  {
   "cell_type": "markdown",
   "metadata": {},
   "source": [
    "# US County Level Visualizations"
   ]
  },
  {
   "cell_type": "code",
   "execution_count": 7,
   "metadata": {},
   "outputs": [
    {
     "data": {
      "application/vnd.jupyter.widget-view+json": {
       "model_id": "ad566c8d71f042fab1c753100b8e5eb6",
       "version_major": 2,
       "version_minor": 0
      },
      "text/plain": [
       "interactive(children=(Dropdown(description='state', index=4, options=('AK', 'AL', 'AR', 'AZ', 'CA', 'CO', 'CT'…"
      ]
     },
     "metadata": {},
     "output_type": "display_data"
    }
   ],
   "source": [
    "us_state_level = state_data('US')\n",
    "states=us_state_level[us_state_level['Confirmed'] > 1000]['State'].unique()\n",
    "@interact(value=['Active', 'Confirmed', 'Deaths', 'Recovered', 'Confirmed_New', 'Deaths_New', 'Recovered_New'], sort=['Active', 'Confirmed', 'Deaths', 'Recovered', 'Confirmed_New', 'Deaths_New', 'Recovered_New'], limit=(0,50,1), state=states)\n",
    "def chart(state='CA', value='Confirmed_New', sort='Confirmed_New', limit=10):\n",
    "    county_level = df[df['State'] == state].fillna({'County': state}).groupby(['County', 'Date'], as_index=False).sum()\n",
    "    return streamgraph(county_level, 'County', value, sort, limit).interactive()#.properties(width=608, height=380).save('WA.png', scale_factor=3.0)"
   ]
  },
  {
   "cell_type": "code",
   "execution_count": 8,
   "metadata": {},
   "outputs": [
    {
     "data": {
      "application/vnd.jupyter.widget-view+json": {
       "model_id": "a0e408e9f9164fe0828294bb236ca82d",
       "version_major": 2,
       "version_minor": 0
      },
      "text/plain": [
       "interactive(children=(Dropdown(description='state', index=4, options=('AK', 'AL', 'AR', 'AZ', 'CA', 'CO', 'CT'…"
      ]
     },
     "metadata": {},
     "output_type": "display_data"
    }
   ],
   "source": [
    "states=us_state_level[us_state_level['Confirmed'] > 1000]['State'].unique()\n",
    "\n",
    "@interact(value=['Active', 'Confirmed', 'Deaths', 'Recovered', 'Confirmed_New', 'Deaths_New', 'Recovered_New'], sort=['Active', 'Confirmed', 'Deaths', 'Recovered', 'Confirmed_New', 'Deaths_New', 'Recovered_New'], limit=(1,50,1), state=states)\n",
    "def chart(state='CA', value='Confirmed_New', sort='Confirmed_New', limit=10, xlog=True, ylog=True):\n",
    "    county_level = df[df['State'] == state].fillna({'County': state}).groupby(['County', 'Date'], as_index=False).sum()\n",
    "    return nontimegraph(county_level, 'County', value, sort, limit, xlog=xlog, ylog=ylog).interactive()#.properties(width=608, height=380).save('CA.png', scale_factor=3.0)"
   ]
  },
  {
   "cell_type": "code",
   "execution_count": 9,
   "metadata": {},
   "outputs": [
    {
     "data": {
      "application/vnd.jupyter.widget-view+json": {
       "model_id": "70979f6c69244f838f14bc3a8e40a185",
       "version_major": 2,
       "version_minor": 0
      },
      "text/plain": [
       "interactive(children=(Dropdown(description='value', index=4, options=('Active', 'Confirmed', 'Deaths', 'Recove…"
      ]
     },
     "metadata": {},
     "output_type": "display_data"
    }
   ],
   "source": [
    "@interact(value=['Active', 'Confirmed', 'Deaths', 'Recovered', 'Confirmed_New', 'Deaths_New', 'Recovered_New'], sort=['Active', 'Confirmed', 'Deaths', 'Recovered', 'Confirmed_New', 'Deaths_New', 'Recovered_New'], limit=(1,50,1), state = us_state_level['State'].unique())\n",
    "def chart(value='Confirmed_New', sort='Confirmed_New', limit=10, xlog=True, ylog=True):\n",
    "    df['Area'] = df.County + ', ' + df.State\n",
    "    county_level = df.groupby(['Area', 'Date'], as_index=False).sum()\n",
    "\n",
    "    return nontimegraph(county_level, 'Area', value, sort, limit, xlog=xlog, ylog=ylog).interactive()"
   ]
  },
  {
   "cell_type": "markdown",
   "metadata": {},
   "source": [
    "# Cross Country Comparisons"
   ]
  },
  {
   "cell_type": "code",
   "execution_count": 10,
   "metadata": {},
   "outputs": [
    {
     "data": {
      "application/vnd.jupyter.widget-view+json": {
       "model_id": "7f243a64555847018cafbf2aa3b027e0",
       "version_major": 2,
       "version_minor": 0
      },
      "text/plain": [
       "interactive(children=(Dropdown(description='country', index=9, options=('Australia', 'Brazil', 'Canada', 'Chil…"
      ]
     },
     "metadata": {},
     "output_type": "display_data"
    }
   ],
   "source": [
    "@interact(country=countries, value=['Active', 'Confirmed', 'Deaths', 'Recovered', 'Confirmed_New', 'Deaths_New', 'Recovered_New'], sort=['Active', 'Confirmed', 'Deaths', 'Recovered', 'Confirmed_New', 'Deaths_New', 'Recovered_New', 'Slope'], limit=(1,50,1))\n",
    "def chart(country='India', value='Confirmed_New', sort='Confirmed_New', limit=10, xlog=True, ylog=True):\n",
    "    data = state_data(country)\n",
    "    us = state_data('US')\n",
    "    data = pd.concat([data, us[us['State'] == 'NY']])\n",
    "    return nontimegraph(data, 'State', value, sort, limit, xlog=xlog, ylog=ylog).interactive()"
   ]
  },
  {
   "cell_type": "markdown",
   "metadata": {},
   "source": [
    "# Hospitalizations"
   ]
  },
  {
   "cell_type": "code",
   "execution_count": 11,
   "metadata": {},
   "outputs": [
    {
     "data": {
      "application/vnd.jupyter.widget-view+json": {
       "model_id": "26dd5e8da80345adb3109738d4e1be13",
       "version_major": 2,
       "version_minor": 0
      },
      "text/plain": [
       "interactive(children=(Dropdown(description='sort', index=8, options=('Active', 'Confirmed', 'Deaths', 'Recover…"
      ]
     },
     "metadata": {},
     "output_type": "display_data"
    }
   ],
   "source": [
    "dfh = pd.read_csv('https://covidtracking.com/api/v1/states/daily.csv')\n",
    "dfh.date = pd.to_datetime(dfh.date, format='%Y%m%d')\n",
    "dfh.date = dfh.date.dt.strftime('%m-%d-%Y')\n",
    "dfh = dfh.rename({'date': 'Date', 'state':'State', 'hospitalizedCurrently': 'Hospitalized'}, axis=1)\n",
    "dfh['Hospitalized'].fillna(0, inplace=True)\n",
    "data = state_data('US')\n",
    "data = data.merge(dfh, on=['Date', 'State'], how='outer')\n",
    "\n",
    "for var in data['State'].unique():\n",
    "    hospitalized = data[data['State'] == var].Hospitalized.values.tolist()\n",
    "    hospitalized_deltas = [np.nan] + [hospitalized[i] - hospitalized[i-1] for i in range(1, len(hospitalized))]\n",
    "    data.loc[data['State'] == var, 'Hospitalized_New'] = hospitalized_deltas\n",
    "    hospitalized_pcts = [np.nan] + [(hospitalized[i] - hospitalized[i-1])/hospitalized[i-1]*100 if hospitalized[i-1] > 0 else np.nan for i in range(1, len(hospitalized))]\n",
    "    data.loc[data['State'] == var, 'Hospitalized_Pct'] = hospitalized_pcts\n",
    "\n",
    "@interact(sort=['Active', 'Confirmed', 'Deaths', 'Recovered', 'Confirmed_New', 'Deaths_New', 'Recovered_New', 'Hospitalized', 'Hospitalized_New', 'Hospitalized_Pct'], limit=(1,50,1))\n",
    "def chart(sort='Hospitalized_New', limit=10, xlog=True, ylog=True):\n",
    "    return nontimegraph(data, 'State', 'Hospitalized', sort, limit, addon=['NY'], xlog=xlog, ylog=ylog).interactive()#.properties(width=608, height=380).save('hospitalizations.png', scale_factor=3.0)"
   ]
  },
  {
   "cell_type": "code",
   "execution_count": 12,
   "metadata": {},
   "outputs": [
    {
     "data": {
      "text/html": [
       "\n",
       "<div id=\"altair-viz-5f67b3fdae934cca980a73285bee1a15\"></div>\n",
       "<script type=\"text/javascript\">\n",
       "  (function(spec, embedOpt){\n",
       "    const outputDiv = document.getElementById(\"altair-viz-5f67b3fdae934cca980a73285bee1a15\");\n",
       "    const paths = {\n",
       "      \"vega\": \"https://cdn.jsdelivr.net/npm//vega@5?noext\",\n",
       "      \"vega-lib\": \"https://cdn.jsdelivr.net/npm//vega-lib?noext\",\n",
       "      \"vega-lite\": \"https://cdn.jsdelivr.net/npm//vega-lite@4.0.2?noext\",\n",
       "      \"vega-embed\": \"https://cdn.jsdelivr.net/npm//vega-embed@6?noext\",\n",
       "    };\n",
       "\n",
       "    function loadScript(lib) {\n",
       "      return new Promise(function(resolve, reject) {\n",
       "        var s = document.createElement('script');\n",
       "        s.src = paths[lib];\n",
       "        s.async = true;\n",
       "        s.onload = () => resolve(paths[lib]);\n",
       "        s.onerror = () => reject(`Error loading script: ${paths[lib]}`);\n",
       "        document.getElementsByTagName(\"head\")[0].appendChild(s);\n",
       "      });\n",
       "    }\n",
       "\n",
       "    function showError(err) {\n",
       "      outputDiv.innerHTML = `<div class=\"error\" style=\"color:red;\">${err}</div>`;\n",
       "      throw err;\n",
       "    }\n",
       "\n",
       "    function displayChart(vegaEmbed) {\n",
       "      vegaEmbed(outputDiv, spec, embedOpt)\n",
       "        .catch(err => showError(`Javascript Error: ${err.message}<br>This usually means there's a typo in your chart specification. See the javascript console for the full traceback.`));\n",
       "    }\n",
       "\n",
       "    if(typeof define === \"function\" && define.amd) {\n",
       "      requirejs.config({paths});\n",
       "      require([\"vega-embed\"], displayChart, err => showError(`Error loading script: ${err.message}`));\n",
       "    } else if (typeof vegaEmbed === \"function\") {\n",
       "      displayChart(vegaEmbed);\n",
       "    } else {\n",
       "      loadScript(\"vega\")\n",
       "        .then(() => loadScript(\"vega-lite\"))\n",
       "        .then(() => loadScript(\"vega-embed\"))\n",
       "        .catch(showError)\n",
       "        .then(() => displayChart(vegaEmbed));\n",
       "    }\n",
       "  })({\"config\": {\"view\": {\"continuousWidth\": 400, \"continuousHeight\": 300}}, \"data\": {\"name\": \"data-4c296a3953517694a452a641c8a94d11\"}, \"mark\": \"line\", \"encoding\": {\"x\": {\"type\": \"temporal\", \"field\": \"Date\"}, \"y\": {\"type\": \"quantitative\", \"field\": \"Hospitalized\"}}, \"height\": 380, \"selection\": {\"selector019\": {\"type\": \"interval\", \"bind\": \"scales\", \"encodings\": [\"x\", \"y\"]}}, \"width\": 608, \"$schema\": \"https://vega.github.io/schema/vega-lite/v4.0.2.json\", \"datasets\": {\"data-4c296a3953517694a452a641c8a94d11\": [{\"Date\": \"01-22-2020\", \"Hospitalized\": 0.0}, {\"Date\": \"01-23-2020\", \"Hospitalized\": 0.0}, {\"Date\": \"01-24-2020\", \"Hospitalized\": 0.0}, {\"Date\": \"01-25-2020\", \"Hospitalized\": 0.0}, {\"Date\": \"01-26-2020\", \"Hospitalized\": 0.0}, {\"Date\": \"01-27-2020\", \"Hospitalized\": 0.0}, {\"Date\": \"01-28-2020\", \"Hospitalized\": 0.0}, {\"Date\": \"01-29-2020\", \"Hospitalized\": 0.0}, {\"Date\": \"01-30-2020\", \"Hospitalized\": 0.0}, {\"Date\": \"01-31-2020\", \"Hospitalized\": 0.0}, {\"Date\": \"02-01-2020\", \"Hospitalized\": 0.0}, {\"Date\": \"02-02-2020\", \"Hospitalized\": 0.0}, {\"Date\": \"02-03-2020\", \"Hospitalized\": 0.0}, {\"Date\": \"02-04-2020\", \"Hospitalized\": 0.0}, {\"Date\": \"02-05-2020\", \"Hospitalized\": 0.0}, {\"Date\": \"02-06-2020\", \"Hospitalized\": 0.0}, {\"Date\": \"02-07-2020\", \"Hospitalized\": 0.0}, {\"Date\": \"02-08-2020\", \"Hospitalized\": 0.0}, {\"Date\": \"02-09-2020\", \"Hospitalized\": 0.0}, {\"Date\": \"02-10-2020\", \"Hospitalized\": 0.0}, {\"Date\": \"02-11-2020\", \"Hospitalized\": 0.0}, {\"Date\": \"02-12-2020\", \"Hospitalized\": 0.0}, {\"Date\": \"02-13-2020\", \"Hospitalized\": 0.0}, {\"Date\": \"02-14-2020\", \"Hospitalized\": 0.0}, {\"Date\": \"02-15-2020\", \"Hospitalized\": 0.0}, {\"Date\": \"02-16-2020\", \"Hospitalized\": 0.0}, {\"Date\": \"02-17-2020\", \"Hospitalized\": 0.0}, {\"Date\": \"02-18-2020\", \"Hospitalized\": 0.0}, {\"Date\": \"02-19-2020\", \"Hospitalized\": 0.0}, {\"Date\": \"02-20-2020\", \"Hospitalized\": 0.0}, {\"Date\": \"02-21-2020\", \"Hospitalized\": 0.0}, {\"Date\": \"02-22-2020\", \"Hospitalized\": 0.0}, {\"Date\": \"02-23-2020\", \"Hospitalized\": 0.0}, {\"Date\": \"02-24-2020\", \"Hospitalized\": 0.0}, {\"Date\": \"02-25-2020\", \"Hospitalized\": 0.0}, {\"Date\": \"02-26-2020\", \"Hospitalized\": 0.0}, {\"Date\": \"02-27-2020\", \"Hospitalized\": 0.0}, {\"Date\": \"02-28-2020\", \"Hospitalized\": 0.0}, {\"Date\": \"02-29-2020\", \"Hospitalized\": 0.0}, {\"Date\": \"03-01-2020\", \"Hospitalized\": 0.0}, {\"Date\": \"03-02-2020\", \"Hospitalized\": 0.0}, {\"Date\": \"03-03-2020\", \"Hospitalized\": 0.0}, {\"Date\": \"03-04-2020\", \"Hospitalized\": 0.0}, {\"Date\": \"03-05-2020\", \"Hospitalized\": 0.0}, {\"Date\": \"03-06-2020\", \"Hospitalized\": 0.0}, {\"Date\": \"03-07-2020\", \"Hospitalized\": 0.0}, {\"Date\": \"03-08-2020\", \"Hospitalized\": 0.0}, {\"Date\": \"03-09-2020\", \"Hospitalized\": 0.0}, {\"Date\": \"03-10-2020\", \"Hospitalized\": 0.0}, {\"Date\": \"03-11-2020\", \"Hospitalized\": 0.0}, {\"Date\": \"03-12-2020\", \"Hospitalized\": 0.0}, {\"Date\": \"03-13-2020\", \"Hospitalized\": 0.0}, {\"Date\": \"03-14-2020\", \"Hospitalized\": 0.0}, {\"Date\": \"03-15-2020\", \"Hospitalized\": 0.0}, {\"Date\": \"03-16-2020\", \"Hospitalized\": 0.0}, {\"Date\": \"03-17-2020\", \"Hospitalized\": 325.0}, {\"Date\": \"03-18-2020\", \"Hospitalized\": 416.0}, {\"Date\": \"03-19-2020\", \"Hospitalized\": 617.0}, {\"Date\": \"03-20-2020\", \"Hospitalized\": 1042.0}, {\"Date\": \"03-21-2020\", \"Hospitalized\": 1436.0}, {\"Date\": \"03-22-2020\", \"Hospitalized\": 2155.0}, {\"Date\": \"03-23-2020\", \"Hospitalized\": 2770.0}, {\"Date\": \"03-24-2020\", \"Hospitalized\": 3828.0}, {\"Date\": \"03-25-2020\", \"Hospitalized\": 4971.0}, {\"Date\": \"03-26-2020\", \"Hospitalized\": 7651.0}, {\"Date\": \"03-27-2020\", \"Hospitalized\": 10820.0}, {\"Date\": \"03-28-2020\", \"Hospitalized\": 12217.0}, {\"Date\": \"03-29-2020\", \"Hospitalized\": 13868.0}, {\"Date\": \"03-30-2020\", \"Hospitalized\": 15616.0}, {\"Date\": \"03-31-2020\", \"Hospitalized\": 17910.0}, {\"Date\": \"04-01-2020\", \"Hospitalized\": 20517.0}, {\"Date\": \"04-02-2020\", \"Hospitalized\": 22538.0}, {\"Date\": \"04-03-2020\", \"Hospitalized\": 25234.0}, {\"Date\": \"04-04-2020\", \"Hospitalized\": 29749.0}, {\"Date\": \"04-05-2020\", \"Hospitalized\": 31593.0}, {\"Date\": \"04-06-2020\", \"Hospitalized\": 35559.0}, {\"Date\": \"04-07-2020\", \"Hospitalized\": 43163.0}, {\"Date\": \"04-08-2020\", \"Hospitalized\": 44833.0}, {\"Date\": \"04-09-2020\", \"Hospitalized\": 50535.0}, {\"Date\": \"04-10-2020\", \"Hospitalized\": 52373.0}, {\"Date\": \"04-11-2020\", \"Hospitalized\": 55229.0}, {\"Date\": \"04-12-2020\", \"Hospitalized\": 55136.0}, {\"Date\": \"04-13-2020\", \"Hospitalized\": 55815.0}, {\"Date\": \"04-14-2020\", \"Hospitalized\": 59222.0}, {\"Date\": \"04-15-2020\", \"Hospitalized\": 59539.0}, {\"Date\": \"04-16-2020\", \"Hospitalized\": 59140.0}, {\"Date\": \"04-17-2020\", \"Hospitalized\": 58532.0}, {\"Date\": \"04-18-2020\", \"Hospitalized\": 57238.0}, {\"Date\": \"04-19-2020\", \"Hospitalized\": 56007.0}, {\"Date\": \"04-20-2020\", \"Hospitalized\": 56236.0}, {\"Date\": \"04-21-2020\", \"Hospitalized\": 59264.0}, {\"Date\": \"04-22-2020\", \"Hospitalized\": 58627.0}, {\"Date\": \"04-23-2020\", \"Hospitalized\": 58433.0}, {\"Date\": \"04-24-2020\", \"Hospitalized\": 56702.0}, {\"Date\": \"04-25-2020\", \"Hospitalized\": 56895.0}, {\"Date\": \"04-26-2020\", \"Hospitalized\": 55662.0}, {\"Date\": \"04-27-2020\", \"Hospitalized\": 55630.0}, {\"Date\": \"04-28-2020\", \"Hospitalized\": 55596.0}, {\"Date\": \"04-29-2020\", \"Hospitalized\": 55585.0}, {\"Date\": \"04-30-2020\", \"Hospitalized\": 54436.0}, {\"Date\": \"05-01-2020\", \"Hospitalized\": 52931.0}, {\"Date\": \"05-02-2020\", \"Hospitalized\": 52232.0}, {\"Date\": \"05-03-2020\", \"Hospitalized\": 50849.0}, {\"Date\": \"05-04-2020\", \"Hospitalized\": 50592.0}, {\"Date\": \"05-05-2020\", \"Hospitalized\": 51468.0}, {\"Date\": \"05-06-2020\", \"Hospitalized\": 50806.0}, {\"Date\": \"05-07-2020\", \"Hospitalized\": 49710.0}, {\"Date\": \"05-08-2020\", \"Hospitalized\": 48284.0}, {\"Date\": \"05-09-2020\", \"Hospitalized\": 47165.0}, {\"Date\": \"05-10-2020\", \"Hospitalized\": 45452.0}, {\"Date\": \"05-11-2020\", \"Hospitalized\": 44803.0}, {\"Date\": \"05-12-2020\", \"Hospitalized\": 45815.0}, {\"Date\": \"05-13-2020\", \"Hospitalized\": 45170.0}, {\"Date\": \"05-14-2020\", \"Hospitalized\": 44695.0}, {\"Date\": \"05-15-2020\", \"Hospitalized\": 43418.0}, {\"Date\": \"05-16-2020\", \"Hospitalized\": 43434.0}, {\"Date\": \"05-17-2020\", \"Hospitalized\": 41653.0}, {\"Date\": \"05-18-2020\", \"Hospitalized\": 41540.0}, {\"Date\": \"05-19-2020\", \"Hospitalized\": 41734.0}, {\"Date\": \"05-20-2020\", \"Hospitalized\": 41567.0}, {\"Date\": \"05-21-2020\", \"Hospitalized\": 40544.0}, {\"Date\": \"05-22-2020\", \"Hospitalized\": 39395.0}, {\"Date\": \"05-23-2020\", \"Hospitalized\": 38175.0}, {\"Date\": \"05-24-2020\", \"Hospitalized\": 37259.0}, {\"Date\": \"05-25-2020\", \"Hospitalized\": 37202.0}, {\"Date\": \"05-26-2020\", \"Hospitalized\": 37219.0}, {\"Date\": \"05-27-2020\", \"Hospitalized\": 37771.0}, {\"Date\": \"05-28-2020\", \"Hospitalized\": 37547.0}, {\"Date\": \"05-29-2020\", \"Hospitalized\": 36412.0}, {\"Date\": \"05-30-2020\", \"Hospitalized\": 35202.0}, {\"Date\": \"05-31-2020\", \"Hospitalized\": 34337.0}, {\"Date\": \"06-01-2020\", \"Hospitalized\": 33694.0}, {\"Date\": \"06-02-2020\", \"Hospitalized\": 33328.0}, {\"Date\": \"06-03-2020\", \"Hospitalized\": 32661.0}, {\"Date\": \"06-04-2020\", \"Hospitalized\": 32233.0}, {\"Date\": \"06-05-2020\", \"Hospitalized\": 31868.0}, {\"Date\": \"06-06-2020\", \"Hospitalized\": 31468.0}, {\"Date\": \"06-07-2020\", \"Hospitalized\": 30893.0}, {\"Date\": \"06-08-2020\", \"Hospitalized\": 30615.0}, {\"Date\": \"06-09-2020\", \"Hospitalized\": 31157.0}, {\"Date\": \"06-10-2020\", \"Hospitalized\": 30847.0}, {\"Date\": \"06-11-2020\", \"Hospitalized\": 29696.0}, {\"Date\": \"06-12-2020\", \"Hospitalized\": 29150.0}, {\"Date\": \"06-13-2020\", \"Hospitalized\": 28510.0}, {\"Date\": \"06-14-2020\", \"Hospitalized\": 27860.0}, {\"Date\": \"06-15-2020\", \"Hospitalized\": 27778.0}, {\"Date\": \"06-16-2020\", \"Hospitalized\": 28264.0}, {\"Date\": \"06-17-2020\", \"Hospitalized\": 28561.0}, {\"Date\": \"06-18-2020\", \"Hospitalized\": 28409.0}, {\"Date\": \"06-19-2020\", \"Hospitalized\": 28639.0}, {\"Date\": \"06-20-2020\", \"Hospitalized\": 27962.0}, {\"Date\": \"06-21-2020\", \"Hospitalized\": 27948.0}, {\"Date\": \"06-22-2020\", \"Hospitalized\": 28789.0}, {\"Date\": \"06-23-2020\", \"Hospitalized\": 30229.0}, {\"Date\": \"06-24-2020\", \"Hospitalized\": 31083.0}, {\"Date\": \"06-25-2020\", \"Hospitalized\": 31839.0}, {\"Date\": \"06-26-2020\", \"Hospitalized\": 31724.0}, {\"Date\": \"06-27-2020\", \"Hospitalized\": 32476.0}, {\"Date\": \"06-28-2020\", \"Hospitalized\": 32475.0}, {\"Date\": \"06-29-2020\", \"Hospitalized\": 33567.0}, {\"Date\": \"06-30-2020\", \"Hospitalized\": 35231.0}, {\"Date\": \"07-01-2020\", \"Hospitalized\": 36360.0}, {\"Date\": \"07-02-2020\", \"Hospitalized\": 37473.0}, {\"Date\": \"07-03-2020\", \"Hospitalized\": 37750.0}, {\"Date\": \"07-04-2020\", \"Hospitalized\": 38136.0}, {\"Date\": \"07-05-2020\", \"Hospitalized\": 38734.0}, {\"Date\": \"07-06-2020\", \"Hospitalized\": 39749.0}, {\"Date\": \"07-07-2020\", \"Hospitalized\": 41700.0}, {\"Date\": \"07-08-2020\", \"Hospitalized\": 43004.0}]}}, {\"mode\": \"vega-lite\"});\n",
       "</script>"
      ],
      "text/plain": [
       "alt.Chart(...)"
      ]
     },
     "execution_count": 12,
     "metadata": {},
     "output_type": "execute_result"
    }
   ],
   "source": [
    "totals = data.groupby('Date', as_index=False).sum()[['Date', 'Hospitalized']]\n",
    "alt.Chart(totals).mark_line().encode(\n",
    "    x='Date:T',\n",
    "    y='Hospitalized:Q'\n",
    ").properties(width=608, height=380).interactive()"
   ]
  },
  {
   "cell_type": "markdown",
   "metadata": {},
   "source": [
    "# Record Setters"
   ]
  },
  {
   "cell_type": "code",
   "execution_count": 13,
   "metadata": {},
   "outputs": [
    {
     "name": "stdout",
     "output_type": "stream",
     "text": [
      "Countries settings new highs:\n",
      "['Argentina' 'Bolivia' 'Bulgaria' 'Eswatini' 'Ethiopia' 'India'\n",
      " 'Indonesia' 'Iraq' 'Libya' 'Mexico' 'Philippines' 'Romania']\n",
      "States settings new highs:\n",
      "['TN' 'UT' 'WV']\n",
      "Countries settings new lows since April:\n",
      "[]\n",
      "States settings new lows since April:\n",
      "[]\n"
     ]
    }
   ],
   "source": [
    "cl = country_level\n",
    "cl = cl[cl['Date'] == days[-1]].merge(cl.groupby(['Country'], as_index=False).max()[['Country', 'Confirmed_New']], on='Country')\n",
    "print('Countries settings new highs:')\n",
    "print(cl[(cl.Confirmed_New_x == cl.Confirmed_New_y) & (cl.Confirmed_New_x != 0)].Country.values)\n",
    "\n",
    "sl = state_data('US')\n",
    "sl = sl[sl['Date'] == days[-1]].merge(sl.groupby(['State'], as_index=False).max()[['State', 'Confirmed_New']], on='State')\n",
    "print('States settings new highs:')\n",
    "print(sl[(sl.Confirmed_New_x == sl.Confirmed_New_y) & (sl.Confirmed_New_x != 0)].State.values)\n",
    "\n",
    "cl = country_level\n",
    "cl = cl[cl['Date'] == days[-1]].merge(cl[cl['Date']>'04-01-2020'].groupby(['Country'], as_index=False).min()[['Country', 'Confirmed_New']], on='Country')\n",
    "print('Countries settings new lows since April:')\n",
    "print(cl[(cl.Confirmed_New_x == cl.Confirmed_New_y) & (cl.Confirmed_New_x != 0)].Country.values)\n",
    "\n",
    "sl = state_data('US')\n",
    "sl = sl[sl['Date'] == days[-1]].merge(sl[sl['Date']>'04-01-2020'].groupby(['State'], as_index=False).min()[['State', 'Confirmed_New']], on='State')\n",
    "print('States settings new lows since April:')\n",
    "print(sl[(sl.Confirmed_New_x == sl.Confirmed_New_y) & (sl.Confirmed_New_x != 0)].State.values)"
   ]
  },
  {
   "cell_type": "code",
   "execution_count": null,
   "metadata": {},
   "outputs": [],
   "source": []
  }
 ],
 "metadata": {
  "kernelspec": {
   "display_name": "Python 3",
   "language": "python",
   "name": "python3"
  },
  "language_info": {
   "codemirror_mode": {
    "name": "ipython",
    "version": 3
   },
   "file_extension": ".py",
   "mimetype": "text/x-python",
   "name": "python",
   "nbconvert_exporter": "python",
   "pygments_lexer": "ipython3",
   "version": "3.7.6"
  }
 },
 "nbformat": 4,
 "nbformat_minor": 4
}
