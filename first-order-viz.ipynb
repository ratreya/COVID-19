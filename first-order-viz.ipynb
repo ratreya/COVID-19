{
 "cells": [
  {
   "cell_type": "code",
   "execution_count": 62,
   "metadata": {},
   "outputs": [],
   "source": [
    "import pandas as pd\n",
    "import numpy as np\n",
    "import altair as alt\n",
    "\n",
    "# Set up some global config and variables\n",
    "alt.renderers.enable('default')\n",
    "pd.options.mode.chained_assignment = None\n",
    "\n",
    "def align(data):\n",
    "    # Find the index with the lowest non-zero starting case number\n",
    "    base = min(((idx, val) for (idx, val) in enumerate(data) if val[0] > 0), key = lambda x: x[1][0])[0]\n",
    "\n",
    "    # Align everyone else to this base\n",
    "    for i in [x for x in range(len(data)) if x != base]:\n",
    "        padding = min(((x[0], abs(x[1] - data[i][0])) for x in enumerate(data[base])), key = lambda x: x[1])[0]\n",
    "        data[i] = [0 for i in range(padding)] + data[i]\n",
    "    return data\n",
    "\n",
    "# Takes a list of numbers and returns a list with number of rows to double\n",
    "def doubling(data):\n",
    "    doubling = []\n",
    "    for i in reversed(range(len(data))):\n",
    "        index = -1\n",
    "        for j in reversed(range(i)):\n",
    "            if data[i] >= data[j]*2:\n",
    "                index = j\n",
    "                break\n",
    "        doubling.append(i - index if index > 0 else np.nan)\n",
    "    return list(reversed(doubling))\n",
    "\n",
    "def streamgraph(df, by, value, sort, limit, stack='center'):\n",
    "    zeros = df.groupby('Date', as_index=False).sum()\n",
    "    zeros = zeros[zeros[value] <= 10].Date\n",
    "    df = df[~df['Date'].isin(zeros)]\n",
    "    \n",
    "    df.loc[df[value]<0, value] = 0\n",
    "    order = df[df['Date'] == days[-1]].sort_values(sort, ascending=False)\n",
    "    top = order[by].values.tolist()\n",
    "    data = df[df[by].isin(top[:limit])]\n",
    "    others = df[df[by].isin(top[limit:])].groupby('Date', as_index=False).sum()\n",
    "    others.insert(0, by, 'Others')\n",
    "    data = data.append(others, ignore_index=True)\n",
    "    selection = alt.selection_multi(fields=[by], bind='legend')\n",
    "\n",
    "    return alt.Chart(data).mark_area().encode(\n",
    "        alt.X('Date:T', axis=alt.Axis(domain=False, format='%d %b', tickSize=0)),\n",
    "        alt.Y(value + ':Q', stack=stack, axis=alt.Axis(title=' '.join(value.split('_'))) if stack=='zero' else None),\n",
    "        alt.Color(by + ':N', scale=alt.Scale(scheme='tableau20'), sort=top[:limit]),\n",
    "        order=alt.Order('sort:Q'),\n",
    "        tooltip=alt.Tooltip(['Date:T', by, value]),\n",
    "        opacity=alt.condition(selection, alt.value(1), alt.value(0.3))\n",
    "    ).transform_lookup(\n",
    "        lookup=by,\n",
    "        from_=alt.LookupData(order, by, [sort]),\n",
    "        as_=['sort']\n",
    "    ).properties(\n",
    "        width=1200,\n",
    "        height=800\n",
    "    ).add_selection(selection)\n",
    "\n",
    "def nontimegraph(df, by, value, sort, limit, highlight='', addon=[], xlog=True, ylog=True, rect=None, ascending=False):\n",
    "    top = set(df[df['Date'] == days[-1]].sort_values(sort, ascending=ascending)[by].values.tolist()[:limit] + addon + [highlight])\n",
    "    data = df[(df[value] > 1) & (df['Confirmed'] > 100) & (df[by].isin(top))]\n",
    "    #data.loc[:,value] = data[value].rolling(window=3, win_type='gaussian').mean(std=3)\n",
    "    selection = alt.selection_multi(fields=[by], bind='legend', init=[{by: highlight}], empty='none', nearest=True)\n",
    "\n",
    "    # Background\n",
    "    line = alt.Chart(data).mark_line().encode(\n",
    "        alt.X('Confirmed:Q', scale=alt.Scale(type='log' if xlog else 'linear'), axis=alt.Axis(title='Cumulative Cases')),\n",
    "        alt.Y(value + ':Q', scale=alt.Scale(type='log' if ylog else 'linear'), axis=alt.Axis(title=' '.join(value.split('_')))),\n",
    "        color=alt.Color(by+':N', scale=alt.Scale(scheme='category10' if highlight == '' else 'set2')),\n",
    "        size=alt.value(1),\n",
    "        tooltip=alt.Tooltip(['Date:N', by, value])\n",
    "    ).transform_filter(~selection)\n",
    "    point = line.mark_circle().encode(\n",
    "        alt.X('Confirmed:Q', scale=alt.Scale(type='log' if xlog else 'linear')),\n",
    "        alt.Y(value + ':Q', scale=alt.Scale(type='log' if ylog else 'linear')),\n",
    "        color=alt.Color(by+':N'),\n",
    "        size=alt.value(60)\n",
    "    ).transform_filter(\n",
    "        alt.datum.Date == days[-1]\n",
    "    ).transform_filter(~selection)\n",
    "    text = point.mark_text(\n",
    "        align='left',\n",
    "        dx=7,  # Nudges text to right so it doesn't appear on top of the bar\n",
    "    ).encode(\n",
    "        text=by+':N',\n",
    "        size=alt.value(10),\n",
    "        color=alt.Color(by+':N')\n",
    "    ).transform_filter(~selection)\n",
    "    background = line+point+text\n",
    "\n",
    "    # Foreground\n",
    "    line = alt.Chart(data).mark_line().encode(\n",
    "        alt.X('Confirmed:Q', scale=alt.Scale(type='log' if xlog else 'linear'), axis=alt.Axis(title='Cumulative Cases')),\n",
    "        alt.Y(value + ':Q', scale=alt.Scale(type='log' if ylog else 'linear'), axis=alt.Axis(title=' '.join(value.split('_')))),\n",
    "        color=alt.value('black'),\n",
    "        size=alt.value(3),\n",
    "        tooltip=alt.Tooltip(['Date:N', by, value])\n",
    "    ).transform_filter(selection)\n",
    "    point = line.mark_circle().encode(\n",
    "        alt.X('Confirmed:Q', scale=alt.Scale(type='log' if xlog else 'linear')),\n",
    "        alt.Y(value + ':Q', scale=alt.Scale(type='log' if ylog else 'linear')),\n",
    "        color=alt.value('black'),\n",
    "        size=alt.value(100)\n",
    "    ).transform_filter(\n",
    "        alt.datum.Date == days[-1]\n",
    "    ).transform_filter(selection)\n",
    "    text = point.mark_text(\n",
    "        align='left',\n",
    "        dx=7,  # Nudges text to right so it doesn't appear on top of the bar\n",
    "    ).encode(\n",
    "        text=by+':N',\n",
    "        size=alt.value(15),\n",
    "        color=alt.value('black')\n",
    "    ).transform_filter(selection)\n",
    "    foreground = line+point+text\n",
    "\n",
    "    start = df[(df[by] == highlight) & (df['Date'] == rect[0])] if rect is not None else pd.DataFrame()\n",
    "    end = df[(df[by] == highlight) & (df['Date'] == rect[1])] if rect is not None else pd.DataFrame()\n",
    "    if not start.empty and not end.empty:\n",
    "        marks = pd.DataFrame([{\"start_x\": start.Confirmed.values[0], \"end_x\": end.Confirmed.values[0], \"start_y\": start[value].values[0], \"end_y\": end[value].values[0]}])\n",
    "        rule_rect = alt.Chart(marks).mark_rect(opacity=0.3).encode(x='start_x:Q', x2='end_x:Q')\n",
    "        rule_point_1 = rule_rect.mark_circle().encode(\n",
    "            alt.X('start_x:Q', scale=alt.Scale(type='log' if xlog else 'linear')),\n",
    "            alt.Y('start_y:Q', scale=alt.Scale(type='log' if ylog else 'linear')),\n",
    "            color=alt.value('grey'),\n",
    "            size=alt.value(60)\n",
    "        )\n",
    "        rule_point_2 = rule_rect.mark_circle().encode(\n",
    "            alt.X('end_x:Q', scale=alt.Scale(type='log' if xlog else 'linear')),\n",
    "            alt.Y('end_y:Q', scale=alt.Scale(type='log' if ylog else 'linear')),\n",
    "            color=alt.value('grey'),\n",
    "            size=alt.value(60)\n",
    "        )\n",
    "        rule_text_1 = rule_point_1.mark_text(\n",
    "            align='left',\n",
    "            angle=90,\n",
    "            dx=10\n",
    "        ).encode(\n",
    "            text=alt.value(rect[0]),\n",
    "            size=alt.value(15),\n",
    "            color=alt.value('black')\n",
    "        )\n",
    "        rule_text_2 = rule_point_2.mark_text(\n",
    "            align='left',\n",
    "            angle=90,\n",
    "            dx=10\n",
    "        ).encode(\n",
    "            text=alt.value(rect[1]),\n",
    "            size=alt.value(15),\n",
    "            color=alt.value('black')\n",
    "        )\n",
    "        return (background+foreground+rule_rect+rule_point_1+rule_point_2+rule_text_1+rule_text_2).properties(\n",
    "            width=1200,\n",
    "            height=800\n",
    "        ).add_selection(selection)\n",
    "    else:\n",
    "        return (background+foreground).properties(\n",
    "            width=1200, \n",
    "            height=800\n",
    "        ).add_selection(selection)"
   ]
  },
  {
   "cell_type": "code",
   "execution_count": 63,
   "metadata": {},
   "outputs": [],
   "source": [
    "# Read the raw data\n",
    "df = pd.read_csv('jhu-daily-reports.csv')\n",
    "df['Active']  = df.Confirmed - (df.Deaths + df.Recovered)\n",
    "samples = df[['Date', 'Country']].groupby('Date').Country.nunique()\n",
    "days = samples[samples > 1].index.tolist()\n",
    "df = df[df['Date'].isin(days)]"
   ]
  },
  {
   "cell_type": "markdown",
   "metadata": {},
   "source": [
    "# Global Data Visualizations"
   ]
  },
  {
   "cell_type": "code",
   "execution_count": 64,
   "metadata": {},
   "outputs": [
    {
     "data": {
      "application/vnd.jupyter.widget-view+json": {
       "model_id": "2cbee468ea4e494abb44c9346a3dd217",
       "version_major": 2,
       "version_minor": 0
      },
      "text/plain": [
       "interactive(children=(Dropdown(description='value', index=4, options=('Active', 'Confirmed', 'Deaths', 'Recove…"
      ]
     },
     "metadata": {},
     "output_type": "display_data"
    }
   ],
   "source": [
    "from ipywidgets import interact\n",
    "\n",
    "# Aggregate at country level\n",
    "country_level = df.groupby(['Country', 'Date'], as_index=False).sum()\n",
    "\n",
    "# Drop 03-22-2020 since county breakdown started from here and so there is break in continuity\n",
    "country_level = country_level.drop(country_level[country_level['Date'] == '03-22-2020'].index)\n",
    "country_level = country_level.drop(country_level[country_level['Date'] == '03-12-2020'].index)\n",
    "country_level = country_level.drop(country_level[country_level['Date'] == '02-12-2020'].index)\n",
    "\n",
    "@interact(value=['Active', 'Confirmed', 'Deaths', 'Recovered', 'Confirmed_New', 'Deaths_New', 'Recovered_New'], sort=['Active', 'Confirmed', 'Deaths', 'Recovered', 'Confirmed_New', 'Deaths_New', 'Recovered_New'], limit=(0,50,1))\n",
    "def chart(value='Confirmed_New', sort='Active', limit=10, zero=True):\n",
    "    return streamgraph(country_level, 'Country', value, sort, limit, 'zero' if zero else 'center').interactive()"
   ]
  },
  {
   "cell_type": "code",
   "execution_count": 65,
   "metadata": {},
   "outputs": [
    {
     "data": {
      "application/vnd.jupyter.widget-view+json": {
       "model_id": "32e95d44478c4346982ab6e57edac7db",
       "version_major": 2,
       "version_minor": 0
      },
      "text/plain": [
       "interactive(children=(Dropdown(description='value', index=4, options=('Active', 'Confirmed', 'Deaths', 'Recove…"
      ]
     },
     "metadata": {},
     "output_type": "display_data"
    }
   ],
   "source": [
    "country_level = country_level[country_level['Country'].isin(country_level[country_level['Confirmed'] > 1000]['Country'].unique())]\n",
    "countries = country_level[country_level['Confirmed'] > 1000]['Country'].unique().tolist()\n",
    "\n",
    "@interact(value=['Active', 'Confirmed', 'Deaths', 'Recovered', 'Confirmed_New', 'Deaths_New', 'Recovered_New'], sort=['Active', 'Confirmed', 'Deaths', 'Recovered', 'Confirmed_New', 'Deaths_New', 'Recovered_New'], limit=(1,50,1), highlight=countries, start=reversed(days), end=reversed(days))\n",
    "def chart(value='Confirmed_New', sort='Active', limit=10, highlight='India', start=None, end=None, xlog=True, ylog=True):\n",
    "    rect = (start, end)\n",
    "    return nontimegraph(country_level, 'Country', value, sort, limit, highlight=highlight, xlog=xlog, ylog=ylog, rect=rect).interactive()"
   ]
  },
  {
   "cell_type": "markdown",
   "metadata": {},
   "source": [
    "# State Level Visualizations"
   ]
  },
  {
   "cell_type": "code",
   "execution_count": 66,
   "metadata": {},
   "outputs": [
    {
     "data": {
      "application/vnd.jupyter.widget-view+json": {
       "model_id": "987ea5ff30534a8d85a3fe6986e400f1",
       "version_major": 2,
       "version_minor": 0
      },
      "text/plain": [
       "interactive(children=(Dropdown(description='country', index=8, options=('Australia', 'Canada', 'China', 'Denma…"
      ]
     },
     "metadata": {},
     "output_type": "display_data"
    }
   ],
   "source": [
    "countries = df[(df['State'].notnull()) & (df['Confirmed'] > 1000)]['Country'].unique()\n",
    "\n",
    "def state_data(country):\n",
    "    state_level = df[df['Country'] == country].groupby(['State', 'Date'], as_index=False).sum()\n",
    "    if country == 'US':\n",
    "        # Drop 03-22-2020 since county breakdown started from here and so there is break in continuity\n",
    "        state_level = state_level.drop(state_level[state_level['Date'] == '03-22-2020'].index)\n",
    "        state_level = state_level.drop(state_level[state_level['Date'] == '03-18-2020'].index)\n",
    "        state_level = state_level[state_level['Date'] >= '03-01-2020']\n",
    "    if country == 'India':\n",
    "        state_level = state_level[state_level['Date'] >= '03-01-2020']\n",
    "    return state_level\n",
    "\n",
    "@interact(country=countries, value=['Active', 'Confirmed', 'Deaths', 'Recovered', 'Confirmed_New', 'Deaths_New', 'Recovered_New'], sort=['Active', 'Confirmed', 'Deaths', 'Recovered', 'Confirmed_New', 'Deaths_New', 'Recovered_New'], limit=(0,50,1))\n",
    "def chart(country='US', value='Confirmed_New', sort='Active', limit=10, zero=True):\n",
    "    return streamgraph(state_data(country), 'State', value, sort, limit, 'zero' if zero else 'center').interactive()"
   ]
  },
  {
   "cell_type": "code",
   "execution_count": 67,
   "metadata": {},
   "outputs": [
    {
     "data": {
      "application/vnd.jupyter.widget-view+json": {
       "model_id": "b27e12eb0fc8415d87fb710cff74f25f",
       "version_major": 2,
       "version_minor": 0
      },
      "text/plain": [
       "interactive(children=(Dropdown(description='country', index=8, options=('Australia', 'Canada', 'China', 'Denma…"
      ]
     },
     "metadata": {},
     "output_type": "display_data"
    }
   ],
   "source": [
    "@interact(country=countries, value=['Active', 'Confirmed', 'Deaths', 'Recovered', 'Confirmed_New', 'Deaths_New', 'Recovered_New'], sort=['Active', 'Confirmed', 'Deaths', 'Recovered', 'Confirmed_New', 'Deaths_New', 'Recovered_New'], limit=(1,50,1))\n",
    "def chart(country='US', value='Confirmed_New', sort='Active', limit=10, xlog=True, ylog=True):\n",
    "    return nontimegraph(state_data(country), 'State', value, sort, limit, addon=['NE', 'MN', 'CA'], xlog=xlog, ylog=ylog).interactive()"
   ]
  },
  {
   "cell_type": "markdown",
   "metadata": {},
   "source": [
    "# US County Level Visualizations"
   ]
  },
  {
   "cell_type": "code",
   "execution_count": 68,
   "metadata": {},
   "outputs": [
    {
     "data": {
      "application/vnd.jupyter.widget-view+json": {
       "model_id": "e2d8ec2774ba42f9b914529c8fed33fd",
       "version_major": 2,
       "version_minor": 0
      },
      "text/plain": [
       "interactive(children=(Dropdown(description='state', index=3, options=('AL', 'AR', 'AZ', 'CA', 'CO', 'CT', 'DC'…"
      ]
     },
     "metadata": {},
     "output_type": "display_data"
    }
   ],
   "source": [
    "us_state_level = state_data('US')\n",
    "states=us_state_level[us_state_level['Confirmed'] > 1000]['State'].unique()\n",
    "@interact(value=['Active', 'Confirmed', 'Deaths', 'Recovered', 'Confirmed_New', 'Deaths_New', 'Recovered_New'], sort=['Active', 'Confirmed', 'Deaths', 'Recovered', 'Confirmed_New', 'Deaths_New', 'Recovered_New'], limit=(0,50,1), state=states)\n",
    "def chart(state='CA', value='Confirmed_New', sort='Active', limit=10, zero=True):\n",
    "    county_level = df[df['State'] == state].fillna({'County': state}).groupby(['County', 'Date'], as_index=False).sum()\n",
    "    return streamgraph(county_level, 'County', value, sort, limit, 'zero' if zero else 'center').interactive()"
   ]
  },
  {
   "cell_type": "code",
   "execution_count": 69,
   "metadata": {},
   "outputs": [
    {
     "data": {
      "application/vnd.jupyter.widget-view+json": {
       "model_id": "5efc6a5b11ea444eacd993e297b53632",
       "version_major": 2,
       "version_minor": 0
      },
      "text/plain": [
       "interactive(children=(Dropdown(description='state', index=3, options=('AL', 'AR', 'AZ', 'CA', 'CO', 'CT', 'DC'…"
      ]
     },
     "metadata": {},
     "output_type": "display_data"
    }
   ],
   "source": [
    "states=us_state_level[us_state_level['Confirmed'] > 1000]['State'].unique()\n",
    "\n",
    "@interact(value=['Active', 'Confirmed', 'Deaths', 'Recovered', 'Confirmed_New', 'Deaths_New', 'Recovered_New'], sort=['Active', 'Confirmed', 'Deaths', 'Recovered', 'Confirmed_New', 'Deaths_New', 'Recovered_New'], limit=(1,50,1), state=states)\n",
    "def chart(state='CA', value='Confirmed_New', sort='Confirmed', limit=10, xlog=True, ylog=True):\n",
    "    county_level = df[df['State'] == state].fillna({'County': state}).groupby(['County', 'Date'], as_index=False).sum()\n",
    "    return nontimegraph(county_level, 'County', value, sort, limit, xlog=xlog, ylog=ylog).interactive()"
   ]
  },
  {
   "cell_type": "code",
   "execution_count": 70,
   "metadata": {},
   "outputs": [
    {
     "data": {
      "application/vnd.jupyter.widget-view+json": {
       "model_id": "de64686a9295433d9dfc41559062766a",
       "version_major": 2,
       "version_minor": 0
      },
      "text/plain": [
       "interactive(children=(Dropdown(description='value', index=4, options=('Active', 'Confirmed', 'Deaths', 'Recove…"
      ]
     },
     "metadata": {},
     "output_type": "display_data"
    }
   ],
   "source": [
    "@interact(value=['Active', 'Confirmed', 'Deaths', 'Recovered', 'Confirmed_New', 'Deaths_New', 'Recovered_New'], sort=['Active', 'Confirmed', 'Deaths', 'Recovered', 'Confirmed_New', 'Deaths_New', 'Recovered_New'], limit=(1,50,1), state = us_state_level['State'].unique())\n",
    "def chart(value='Confirmed_New', sort='Confirmed', limit=10, xlog=True, ylog=True):\n",
    "    df['Area'] = df.County + ', ' + df.State\n",
    "    county_level = df.groupby(['Area', 'Date'], as_index=False).sum()\n",
    "    return nontimegraph(county_level, 'Area', value, sort, limit, xlog=xlog, ylog=ylog).interactive()"
   ]
  },
  {
   "cell_type": "markdown",
   "metadata": {},
   "source": [
    "# Cross Country Comparisons"
   ]
  },
  {
   "cell_type": "code",
   "execution_count": 71,
   "metadata": {},
   "outputs": [
    {
     "data": {
      "application/vnd.jupyter.widget-view+json": {
       "model_id": "a133d95e69fc47b69c2d4c4ece60b34a",
       "version_major": 2,
       "version_minor": 0
      },
      "text/plain": [
       "interactive(children=(Dropdown(description='country', index=5, options=('Australia', 'Canada', 'China', 'Denma…"
      ]
     },
     "metadata": {},
     "output_type": "display_data"
    }
   ],
   "source": [
    "@interact(country=countries, value=['Active', 'Confirmed', 'Deaths', 'Recovered', 'Confirmed_New', 'Deaths_New', 'Recovered_New'], sort=['Active', 'Confirmed', 'Deaths', 'Recovered', 'Confirmed_New', 'Deaths_New', 'Recovered_New', 'Slope'], limit=(1,50,1))\n",
    "def chart(country='India', value='Confirmed_New', sort='Active', limit=10, xlog=True, ylog=True):\n",
    "    data = state_data(country)\n",
    "    us = state_data('US')\n",
    "    data = pd.concat([data, us[us['State'] == 'NY']])\n",
    "    return nontimegraph(data, 'State', value, sort, limit, xlog=xlog, ylog=ylog).interactive()"
   ]
  },
  {
   "cell_type": "code",
   "execution_count": 73,
   "metadata": {},
   "outputs": [
    {
     "data": {
      "application/vnd.jupyter.widget-view+json": {
       "model_id": "5c1f8d650e4f4c7d983729d7757c2de9",
       "version_major": 2,
       "version_minor": 0
      },
      "text/plain": [
       "interactive(children=(Dropdown(description='sort', index=7, options=('Active', 'Confirmed', 'Deaths', 'Recover…"
      ]
     },
     "metadata": {},
     "output_type": "display_data"
    }
   ],
   "source": [
    "dfh = pd.read_csv('https://covidtracking.com/api/v1/states/daily.csv')\n",
    "dfh.date = pd.to_datetime(dfh.date, format='%Y%m%d')\n",
    "dfh.date = dfh.date.dt.strftime('%m-%d-%Y')\n",
    "dfh = dfh.rename({'date': 'Date', 'state':'State', 'hospitalizedCurrently': 'Hospitalized'}, axis=1)\n",
    "dfh['Hospitalized'].fillna(0, inplace=True)\n",
    "data = state_data('US')\n",
    "data = data.merge(dfh, on=['Date', 'State'], how='outer')\n",
    "\n",
    "for var in data['State'].unique():\n",
    "    hospitalized = data[data['State'] == var].Hospitalized.values.tolist()\n",
    "    hospitalized_deltas = [np.nan] + [hospitalized[i] - hospitalized[i-1] for i in range(1, len(hospitalized))]\n",
    "    data.loc[data['State'] == var, 'Hospitalized_New'] = hospitalized_deltas\n",
    "\n",
    "@interact(sort=['Active', 'Confirmed', 'Deaths', 'Recovered', 'Confirmed_New', 'Deaths_New', 'Recovered_New', 'Hospitalized', 'Hospitalized_New'], limit=(1,50,1))\n",
    "def chart(sort='Hospitalized', limit=10, xlog=True, ylog=True):\n",
    "    return nontimegraph(data, 'State', 'Hospitalized', sort, limit, xlog=xlog, ylog=ylog).interactive()"
   ]
  },
  {
   "cell_type": "code",
   "execution_count": null,
   "metadata": {},
   "outputs": [],
   "source": []
  }
 ],
 "metadata": {
  "kernelspec": {
   "display_name": "Python 3",
   "language": "python",
   "name": "python3"
  },
  "language_info": {
   "codemirror_mode": {
    "name": "ipython",
    "version": 3
   },
   "file_extension": ".py",
   "mimetype": "text/x-python",
   "name": "python",
   "nbconvert_exporter": "python",
   "pygments_lexer": "ipython3",
   "version": "3.7.6"
  }
 },
 "nbformat": 4,
 "nbformat_minor": 4
}
