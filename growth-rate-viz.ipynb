{
 "cells": [
  {
   "cell_type": "markdown",
   "metadata": {},
   "source": [
    "# Slope Comparisons"
   ]
  },
  {
   "cell_type": "code",
   "execution_count": 1,
   "metadata": {},
   "outputs": [],
   "source": [
    "import pandas as pd\n",
    "import numpy as np\n",
    "import altair as alt\n",
    "from scipy import stats\n",
    "from altair import datum\n",
    "from ipywidgets import interact\n",
    "\n",
    "# Set up some global config and variables\n",
    "alt.renderers.enable('default')\n",
    "pd.options.mode.chained_assignment = None\n",
    "np.seterr(all='ignore')\n",
    "\n",
    "df = pd.read_csv('jhu-daily-reports.csv')\n",
    "df['Active']  = df.Confirmed - (df.Deaths + df.Recovered)\n",
    "samples = df[['Date', 'Country']].groupby('Date').Country.nunique()\n",
    "days = samples[samples > 1].index.tolist()\n",
    "df = df[df['Date'].isin(days)]\n",
    "\n",
    "country_level = df.groupby(['Country', 'Date'], as_index=False).sum()\n",
    "def state_data(country):\n",
    "    return df[df['Country'] == country].groupby(['State', 'Date'], as_index=False).sum()\n",
    "def county_data(state):\n",
    "    return df[(df['Country'] == 'US') & (df['State'] == state)].groupby(['County', 'Date'], as_index=False).sum()\n"
   ]
  },
  {
   "cell_type": "code",
   "execution_count": 2,
   "metadata": {},
   "outputs": [],
   "source": [
    "def slope_chart(data, by, offset, xscale='linear', limit=400, scale=1, value='Confirmed_New', window=7, today=days[-1]):\n",
    "    data = data[data['Date']<=today]\n",
    "    source = data[data['Date'] == today]\n",
    "    for var in source[by].unique():\n",
    "        values = data[data[by] == var].sort_values('Date').tail(window)[['Confirmed', value]]\n",
    "        slope, intercept, r_value, p_value, std_err = stats.linregress(values.Confirmed, values[value])\n",
    "        source.loc[source[by] == var, 'Slope'] = slope\n",
    "    source.fillna(0, inplace=True)\n",
    "    source = source[source[value] > limit]\n",
    "\n",
    "    title = 'Slope of %s in last %d days since %s vs. Total Confirmed' % (' '.join(value.split('_')), window, today)\n",
    "    base = alt.Chart(source, title=title).mark_point(filled=True, stroke='grey').encode(\n",
    "        alt.X('Confirmed:Q', scale=alt.Scale(type=xscale), axis=alt.Axis(offset=offset)),\n",
    "        alt.Y('Slope:Q', axis=alt.Axis(title='Slope')),\n",
    "        color=alt.Color(by+':N', scale=alt.Scale(scheme='category20'), legend=alt.Legend(columns=2, clipHeight=20, padding=10)),\n",
    "        size=alt.Size(value+':Q', scale=alt.Scale(domain=[source.Confirmed_New.min(), source.Confirmed_New.max()], range=[100*scale, 3000*scale])),\n",
    "        tooltip=[by, 'Confirmed', 'Slope', value]\n",
    "    )\n",
    "    text = base.mark_text().encode(\n",
    "        text=by+':N',\n",
    "        size=alt.value(12),\n",
    "        color=alt.value('black')\n",
    "    ).transform_filter(datum[value] > limit*2)\n",
    "    regression = base.transform_regression('Confirmed', 'Slope', method=\"poly\", order=1).mark_line(strokeDash=[6,8]).encode(color=alt.value('grey'), size=alt.value(2))\n",
    "    hline = alt.Chart().mark_rule(color='red', strokeDash=[6,3]).encode(alt.Y('a:Q', axis=alt.Axis(title=''))).transform_calculate(a=\"0\")\n",
    "\n",
    "    return (base+text+regression+hline) if offset == 0 else (base+text+regression)"
   ]
  },
  {
   "cell_type": "markdown",
   "metadata": {},
   "source": [
    "# Country Level"
   ]
  },
  {
   "cell_type": "code",
   "execution_count": 3,
   "metadata": {},
   "outputs": [
    {
     "data": {
      "text/html": [
       "\n",
       "<div id=\"altair-viz-bf6ceec6833b403483083678aac33848\"></div>\n",
       "<script type=\"text/javascript\">\n",
       "  (function(spec, embedOpt){\n",
       "    const outputDiv = document.getElementById(\"altair-viz-bf6ceec6833b403483083678aac33848\");\n",
       "    const paths = {\n",
       "      \"vega\": \"https://cdn.jsdelivr.net/npm//vega@5?noext\",\n",
       "      \"vega-lib\": \"https://cdn.jsdelivr.net/npm//vega-lib?noext\",\n",
       "      \"vega-lite\": \"https://cdn.jsdelivr.net/npm//vega-lite@4.0.2?noext\",\n",
       "      \"vega-embed\": \"https://cdn.jsdelivr.net/npm//vega-embed@6?noext\",\n",
       "    };\n",
       "\n",
       "    function loadScript(lib) {\n",
       "      return new Promise(function(resolve, reject) {\n",
       "        var s = document.createElement('script');\n",
       "        s.src = paths[lib];\n",
       "        s.async = true;\n",
       "        s.onload = () => resolve(paths[lib]);\n",
       "        s.onerror = () => reject(`Error loading script: ${paths[lib]}`);\n",
       "        document.getElementsByTagName(\"head\")[0].appendChild(s);\n",
       "      });\n",
       "    }\n",
       "\n",
       "    function showError(err) {\n",
       "      outputDiv.innerHTML = `<div class=\"error\" style=\"color:red;\">${err}</div>`;\n",
       "      throw err;\n",
       "    }\n",
       "\n",
       "    function displayChart(vegaEmbed) {\n",
       "      vegaEmbed(outputDiv, spec, embedOpt)\n",
       "        .catch(err => showError(`Javascript Error: ${err.message}<br>This usually means there's a typo in your chart specification. See the javascript console for the full traceback.`));\n",
       "    }\n",
       "\n",
       "    if(typeof define === \"function\" && define.amd) {\n",
       "      requirejs.config({paths});\n",
       "      require([\"vega-embed\"], displayChart, err => showError(`Error loading script: ${err.message}`));\n",
       "    } else if (typeof vegaEmbed === \"function\") {\n",
       "      displayChart(vegaEmbed);\n",
       "    } else {\n",
       "      loadScript(\"vega\")\n",
       "        .then(() => loadScript(\"vega-lite\"))\n",
       "        .then(() => loadScript(\"vega-embed\"))\n",
       "        .catch(showError)\n",
       "        .then(() => displayChart(vegaEmbed));\n",
       "    }\n",
       "  })({\"config\": {\"view\": {\"continuousWidth\": 400, \"continuousHeight\": 300}}, \"layer\": [{\"mark\": {\"type\": \"point\", \"filled\": true, \"stroke\": \"grey\"}, \"encoding\": {\"color\": {\"type\": \"nominal\", \"field\": \"Country\", \"legend\": {\"clipHeight\": 20, \"columns\": 2, \"padding\": 10}, \"scale\": {\"scheme\": \"category20\"}}, \"size\": {\"type\": \"quantitative\", \"field\": \"Confirmed_New\", \"scale\": {\"domain\": [481.0, 30925.0], \"range\": [300, 9000]}}, \"tooltip\": [{\"type\": \"nominal\", \"field\": \"Country\"}, {\"type\": \"quantitative\", \"field\": \"Confirmed\"}, {\"type\": \"quantitative\", \"field\": \"Slope\"}, {\"type\": \"quantitative\", \"field\": \"Confirmed_New\"}], \"x\": {\"type\": \"quantitative\", \"axis\": {\"offset\": 0}, \"field\": \"Confirmed\", \"scale\": {\"type\": \"log\"}}, \"y\": {\"type\": \"quantitative\", \"axis\": {\"title\": \"Slope\"}, \"field\": \"Slope\"}}, \"selection\": {\"selector001\": {\"type\": \"interval\", \"bind\": \"scales\", \"encodings\": [\"x\", \"y\"]}}, \"title\": \"Slope of Confirmed New in last 7 days since 06-04-2020 vs. Total Confirmed\"}, {\"mark\": \"text\", \"encoding\": {\"color\": {\"value\": \"black\"}, \"size\": {\"value\": 12}, \"text\": {\"type\": \"nominal\", \"field\": \"Country\"}, \"tooltip\": [{\"type\": \"nominal\", \"field\": \"Country\"}, {\"type\": \"quantitative\", \"field\": \"Confirmed\"}, {\"type\": \"quantitative\", \"field\": \"Slope\"}, {\"type\": \"quantitative\", \"field\": \"Confirmed_New\"}], \"x\": {\"type\": \"quantitative\", \"axis\": {\"offset\": 0}, \"field\": \"Confirmed\", \"scale\": {\"type\": \"log\"}}, \"y\": {\"type\": \"quantitative\", \"axis\": {\"title\": \"Slope\"}, \"field\": \"Slope\"}}, \"title\": \"Slope of Confirmed New in last 7 days since 06-04-2020 vs. Total Confirmed\", \"transform\": [{\"filter\": \"(datum['Confirmed_New'] > 900)\"}]}, {\"mark\": {\"type\": \"line\", \"strokeDash\": [6, 8]}, \"encoding\": {\"color\": {\"value\": \"grey\"}, \"size\": {\"value\": 2}, \"tooltip\": [{\"type\": \"nominal\", \"field\": \"Country\"}, {\"type\": \"quantitative\", \"field\": \"Confirmed\"}, {\"type\": \"quantitative\", \"field\": \"Slope\"}, {\"type\": \"quantitative\", \"field\": \"Confirmed_New\"}], \"x\": {\"type\": \"quantitative\", \"axis\": {\"offset\": 0}, \"field\": \"Confirmed\", \"scale\": {\"type\": \"log\"}}, \"y\": {\"type\": \"quantitative\", \"axis\": {\"title\": \"Slope\"}, \"field\": \"Slope\"}}, \"title\": \"Slope of Confirmed New in last 7 days since 06-04-2020 vs. Total Confirmed\", \"transform\": [{\"on\": \"Confirmed\", \"regression\": \"Slope\", \"method\": \"poly\", \"order\": 1}]}, {\"mark\": {\"type\": \"rule\", \"color\": \"red\", \"strokeDash\": [6, 3]}, \"encoding\": {\"y\": {\"type\": \"quantitative\", \"axis\": {\"title\": \"\"}, \"field\": \"a\"}}, \"transform\": [{\"calculate\": \"0\", \"as\": \"a\"}]}], \"data\": {\"name\": \"data-2ecfb45d15dfd0ea4060a9c277c3b737\"}, \"height\": 800, \"width\": 1200, \"$schema\": \"https://vega.github.io/schema/vega-lite/v4.0.2.json\", \"datasets\": {\"data-2ecfb45d15dfd0ea4060a9c277c3b737\": [{\"Country\": \"Afghanistan\", \"Date\": \"06-04-2020\", \"Confirmed\": 18054.0, \"Deaths\": 300.0, \"Recovered\": 1585.0, \"Confirmed_New\": 787.0, \"Deaths_New\": 6.0, \"Recovered_New\": 63.0, \"Active\": 16169.0, \"Slope\": 0.020281084129686218}, {\"Country\": \"Argentina\", \"Date\": \"06-04-2020\", \"Confirmed\": 20197.0, \"Deaths\": 608.0, \"Recovered\": 5993.0, \"Confirmed_New\": 929.0, \"Deaths_New\": 25.0, \"Recovered_New\": 97.0, \"Active\": 13596.0, \"Slope\": 0.058974209133120216}, {\"Country\": \"Armenia\", \"Date\": \"06-04-2020\", \"Confirmed\": 11221.0, \"Deaths\": 176.0, \"Recovered\": 3468.0, \"Confirmed_New\": 697.0, \"Deaths_New\": 6.0, \"Recovered_New\": 14.0, \"Active\": 7577.0, \"Slope\": 0.13913851072573885}, {\"Country\": \"Bahrain\", \"Date\": \"06-04-2020\", \"Confirmed\": 13296.0, \"Deaths\": 21.0, \"Recovered\": 7728.0, \"Confirmed_New\": 481.0, \"Deaths_New\": 1.0, \"Recovered_New\": 318.0, \"Active\": 5547.0, \"Slope\": 0.03209985294475338}, {\"Country\": \"Bangladesh\", \"Date\": \"06-04-2020\", \"Confirmed\": 57563.0, \"Deaths\": 781.0, \"Recovered\": 12161.0, \"Confirmed_New\": 2423.0, \"Deaths_New\": 35.0, \"Recovered_New\": 571.0, \"Active\": 44621.0, \"Slope\": 0.02879846208389309}, {\"Country\": \"Belarus\", \"Date\": \"06-04-2020\", \"Confirmed\": 45981.0, \"Deaths\": 253.0, \"Recovered\": 21162.0, \"Confirmed_New\": 865.0, \"Deaths_New\": 5.0, \"Recovered_New\": 991.0, \"Active\": 24566.0, \"Slope\": -0.00969133166023701}, {\"Country\": \"Bolivia\", \"Date\": \"06-04-2020\", \"Confirmed\": 12245.0, \"Deaths\": 415.0, \"Recovered\": 1658.0, \"Confirmed_New\": 607.0, \"Deaths_New\": 15.0, \"Recovered_New\": 151.0, \"Active\": 10172.0, \"Slope\": 0.03754233936048812}, {\"Country\": \"Brazil\", \"Date\": \"06-04-2020\", \"Confirmed\": 614941.0, \"Deaths\": 34021.0, \"Recovered\": 254963.0, \"Confirmed_New\": 30925.0, \"Deaths_New\": 1473.0, \"Recovered_New\": 16346.0, \"Active\": 325957.0, \"Slope\": 0.036484743018065}, {\"Country\": \"Canada\", \"Date\": \"06-04-2020\", \"Confirmed\": 95269.0, \"Deaths\": 7717.0, \"Recovered\": 52184.0, \"Confirmed_New\": 628.0, \"Deaths_New\": 138.0, \"Recovered_New\": 678.0, \"Active\": 35368.0, \"Slope\": -0.059420526980593996}, {\"Country\": \"Chile\", \"Date\": \"06-04-2020\", \"Confirmed\": 118292.0, \"Deaths\": 1356.0, \"Recovered\": 21305.0, \"Confirmed_New\": 4664.0, \"Deaths_New\": 81.0, \"Recovered_New\": -300.0, \"Active\": 95631.0, \"Slope\": 0.025219229902438113}, {\"Country\": \"Colombia\", \"Date\": \"06-04-2020\", \"Confirmed\": 33466.0, \"Deaths\": 1099.0, \"Recovered\": 12319.0, \"Confirmed_New\": 1531.0, \"Deaths_New\": 42.0, \"Recovered_New\": 1148.0, \"Active\": 20048.0, \"Slope\": 0.051463907954926495}, {\"Country\": \"Egypt\", \"Date\": \"06-04-2020\", \"Confirmed\": 29767.0, \"Deaths\": 1126.0, \"Recovered\": 7756.0, \"Confirmed_New\": 1152.0, \"Deaths_New\": 38.0, \"Recovered_New\": 406.0, \"Active\": 20885.0, \"Slope\": -0.03620639324644006}, {\"Country\": \"India\", \"Date\": \"06-04-2020\", \"Confirmed\": 216919.0, \"Deaths\": 6075.0, \"Recovered\": 104107.0, \"Confirmed_New\": 9304.0, \"Deaths_New\": 260.0, \"Recovered_New\": 3804.0, \"Active\": 106737.0, \"Slope\": 0.030385287339367205}, {\"Country\": \"Indonesia\", \"Date\": \"06-04-2020\", \"Confirmed\": 28818.0, \"Deaths\": 1721.0, \"Recovered\": 8892.0, \"Confirmed_New\": 585.0, \"Deaths_New\": 23.0, \"Recovered_New\": 486.0, \"Active\": 18205.0, \"Slope\": -0.004941485653651826}, {\"Country\": \"Iran\", \"Date\": \"06-04-2020\", \"Confirmed\": 164270.0, \"Deaths\": 8071.0, \"Recovered\": 127485.0, \"Confirmed_New\": 3574.0, \"Deaths_New\": 59.0, \"Recovered_New\": 2279.0, \"Active\": 28714.0, \"Slope\": 0.05697064371442139}, {\"Country\": \"Iraq\", \"Date\": \"06-04-2020\", \"Confirmed\": 8840.0, \"Deaths\": 271.0, \"Recovered\": 4338.0, \"Confirmed_New\": 672.0, \"Deaths_New\": 15.0, \"Recovered_New\": 243.0, \"Active\": 4231.0, \"Slope\": 0.14977361343008172}, {\"Country\": \"Kuwait\", \"Date\": \"06-04-2020\", \"Confirmed\": 29921.0, \"Deaths\": 236.0, \"Recovered\": 17223.0, \"Confirmed_New\": 562.0, \"Deaths_New\": 6.0, \"Recovered_New\": 1473.0, \"Active\": 12462.0, \"Slope\": -0.09297565456300147}, {\"Country\": \"Mexico\", \"Date\": \"06-04-2020\", \"Confirmed\": 105680.0, \"Deaths\": 12545.0, \"Recovered\": 74758.0, \"Confirmed_New\": 4442.0, \"Deaths_New\": 816.0, \"Recovered_New\": 2078.0, \"Active\": 18377.0, \"Slope\": 0.06899421732217698}, {\"Country\": \"Oman\", \"Date\": \"06-04-2020\", \"Confirmed\": 14316.0, \"Deaths\": 67.0, \"Recovered\": 3451.0, \"Confirmed_New\": 779.0, \"Deaths_New\": 0.0, \"Recovered_New\": 606.0, \"Active\": 10798.0, \"Slope\": -0.00857620972489362}, {\"Country\": \"Pakistan\", \"Date\": \"06-04-2020\", \"Confirmed\": 85264.0, \"Deaths\": 1770.0, \"Recovered\": 30128.0, \"Confirmed_New\": 4801.0, \"Deaths_New\": 82.0, \"Recovered_New\": 1205.0, \"Active\": 53366.0, \"Slope\": 0.10542807644273644}, {\"Country\": \"Peru\", \"Date\": \"06-04-2020\", \"Confirmed\": 183198.0, \"Deaths\": 5031.0, \"Recovered\": 76228.0, \"Confirmed_New\": 4284.0, \"Deaths_New\": 137.0, \"Recovered_New\": 3909.0, \"Active\": 101939.0, \"Slope\": 0.03472303825647715}, {\"Country\": \"Philippines\", \"Date\": \"06-04-2020\", \"Confirmed\": 20382.0, \"Deaths\": 984.0, \"Recovered\": 4248.0, \"Confirmed_New\": 634.0, \"Deaths_New\": 10.0, \"Recovered_New\": 95.0, \"Active\": 15150.0, \"Slope\": -0.0770286577841542}, {\"Country\": \"Qatar\", \"Date\": \"06-04-2020\", \"Confirmed\": 63741.0, \"Deaths\": 45.0, \"Recovered\": 39468.0, \"Confirmed_New\": 1581.0, \"Deaths_New\": 0.0, \"Recovered_New\": 1926.0, \"Active\": 24228.0, \"Slope\": -0.03800760139110329}, {\"Country\": \"Russia\", \"Date\": \"06-04-2020\", \"Confirmed\": 440538.0, \"Deaths\": 5376.0, \"Recovered\": 204197.0, \"Confirmed_New\": 8823.0, \"Deaths_New\": 168.0, \"Recovered_New\": 8638.0, \"Active\": 230965.0, \"Slope\": -0.002202643528556218}, {\"Country\": \"Saudi Arabia\", \"Date\": \"06-04-2020\", \"Confirmed\": 93157.0, \"Deaths\": 611.0, \"Recovered\": 68965.0, \"Confirmed_New\": 1975.0, \"Deaths_New\": 32.0, \"Recovered_New\": 806.0, \"Active\": 23581.0, \"Slope\": 0.04245043541767321}, {\"Country\": \"Singapore\", \"Date\": \"06-04-2020\", \"Confirmed\": 36922.0, \"Deaths\": 24.0, \"Recovered\": 23904.0, \"Confirmed_New\": 517.0, \"Deaths_New\": 0.0, \"Recovered_New\": 322.0, \"Active\": 12994.0, \"Slope\": -0.007787753187071517}, {\"Country\": \"South Africa\", \"Date\": \"06-04-2020\", \"Confirmed\": 40792.0, \"Deaths\": 848.0, \"Recovered\": 21311.0, \"Confirmed_New\": 3267.0, \"Deaths_New\": 56.0, \"Recovered_New\": 1629.0, \"Active\": 18633.0, \"Slope\": 0.09328647591307487}, {\"Country\": \"Sweden\", \"Date\": \"06-04-2020\", \"Confirmed\": 41883.0, \"Deaths\": 4562.0, \"Recovered\": 0.0, \"Confirmed_New\": 1080.0, \"Deaths_New\": 20.0, \"Recovered_New\": 0.0, \"Active\": 37321.0, \"Slope\": 0.2154823387172772}, {\"Country\": \"Turkey\", \"Date\": \"06-04-2020\", \"Confirmed\": 167410.0, \"Deaths\": 4630.0, \"Recovered\": 131778.0, \"Confirmed_New\": 988.0, \"Deaths_New\": 21.0, \"Recovered_New\": 926.0, \"Active\": 31002.0, \"Slope\": -0.0306147729226908}, {\"Country\": \"UK\", \"Date\": \"06-04-2020\", \"Confirmed\": 283079.0, \"Deaths\": 39987.0, \"Recovered\": 1219.0, \"Confirmed_New\": 1809.0, \"Deaths_New\": 176.0, \"Recovered_New\": 7.0, \"Active\": 241873.0, \"Slope\": -0.01180023148580458}, {\"Country\": \"US\", \"Date\": \"06-04-2020\", \"Confirmed\": 1872660.0, \"Deaths\": 108211.0, \"Recovered\": 485002.0, \"Confirmed_New\": 21140.0, \"Deaths_New\": 1036.0, \"Recovered_New\": 5744.0, \"Active\": 1279447.0, \"Slope\": -0.03001456005927747}, {\"Country\": \"Ukraine\", \"Date\": \"06-04-2020\", \"Confirmed\": 25981.0, \"Deaths\": 755.0, \"Recovered\": 11468.0, \"Confirmed_New\": 596.0, \"Deaths_New\": 13.0, \"Recovered_New\": 630.0, \"Active\": 13758.0, \"Slope\": 0.025513607421927854}, {\"Country\": \"United Arab Emirates\", \"Date\": \"06-04-2020\", \"Confirmed\": 37018.0, \"Deaths\": 273.0, \"Recovered\": 19572.0, \"Confirmed_New\": 659.0, \"Deaths_New\": 3.0, \"Recovered_New\": 419.0, \"Active\": 17173.0, \"Slope\": -0.017180633175701985}]}}, {\"mode\": \"vega-lite\"});\n",
       "</script>"
      ],
      "text/plain": [
       "alt.LayerChart(...)"
      ]
     },
     "execution_count": 3,
     "metadata": {},
     "output_type": "execute_result"
    }
   ],
   "source": [
    "slope_chart(country_level, 'Country', 0, xscale='log', limit=450, scale=3, window=7).properties(\n",
    "    width=1200,\n",
    "    height=800\n",
    ").interactive()"
   ]
  },
  {
   "cell_type": "code",
   "execution_count": 4,
   "metadata": {},
   "outputs": [
    {
     "data": {
      "text/html": [
       "\n",
       "<div id=\"altair-viz-39672ec7a9a64006af73873b2045541c\"></div>\n",
       "<script type=\"text/javascript\">\n",
       "  (function(spec, embedOpt){\n",
       "    const outputDiv = document.getElementById(\"altair-viz-39672ec7a9a64006af73873b2045541c\");\n",
       "    const paths = {\n",
       "      \"vega\": \"https://cdn.jsdelivr.net/npm//vega@5?noext\",\n",
       "      \"vega-lib\": \"https://cdn.jsdelivr.net/npm//vega-lib?noext\",\n",
       "      \"vega-lite\": \"https://cdn.jsdelivr.net/npm//vega-lite@4.0.2?noext\",\n",
       "      \"vega-embed\": \"https://cdn.jsdelivr.net/npm//vega-embed@6?noext\",\n",
       "    };\n",
       "\n",
       "    function loadScript(lib) {\n",
       "      return new Promise(function(resolve, reject) {\n",
       "        var s = document.createElement('script');\n",
       "        s.src = paths[lib];\n",
       "        s.async = true;\n",
       "        s.onload = () => resolve(paths[lib]);\n",
       "        s.onerror = () => reject(`Error loading script: ${paths[lib]}`);\n",
       "        document.getElementsByTagName(\"head\")[0].appendChild(s);\n",
       "      });\n",
       "    }\n",
       "\n",
       "    function showError(err) {\n",
       "      outputDiv.innerHTML = `<div class=\"error\" style=\"color:red;\">${err}</div>`;\n",
       "      throw err;\n",
       "    }\n",
       "\n",
       "    function displayChart(vegaEmbed) {\n",
       "      vegaEmbed(outputDiv, spec, embedOpt)\n",
       "        .catch(err => showError(`Javascript Error: ${err.message}<br>This usually means there's a typo in your chart specification. See the javascript console for the full traceback.`));\n",
       "    }\n",
       "\n",
       "    if(typeof define === \"function\" && define.amd) {\n",
       "      requirejs.config({paths});\n",
       "      require([\"vega-embed\"], displayChart, err => showError(`Error loading script: ${err.message}`));\n",
       "    } else if (typeof vegaEmbed === \"function\") {\n",
       "      displayChart(vegaEmbed);\n",
       "    } else {\n",
       "      loadScript(\"vega\")\n",
       "        .then(() => loadScript(\"vega-lite\"))\n",
       "        .then(() => loadScript(\"vega-embed\"))\n",
       "        .catch(showError)\n",
       "        .then(() => displayChart(vegaEmbed));\n",
       "    }\n",
       "  })({\"config\": {\"view\": {\"continuousWidth\": 400, \"continuousHeight\": 300}}, \"layer\": [{\"mark\": \"line\", \"encoding\": {\"x\": {\"type\": \"temporal\", \"axis\": {\"title\": \"Cumulative Cases\"}, \"field\": \"Date\"}, \"y\": {\"type\": \"quantitative\", \"axis\": {\"title\": \"New Cases\"}, \"field\": \"Confirmed_New\"}}, \"selection\": {\"selector002\": {\"type\": \"interval\", \"bind\": \"scales\", \"encodings\": [\"x\", \"y\"]}}}, {\"mark\": {\"type\": \"line\", \"color\": \"red\", \"strokeDash\": [6, 3]}, \"encoding\": {\"x\": {\"type\": \"temporal\", \"axis\": {\"title\": \"Cumulative Cases\"}, \"field\": \"Date\"}, \"y\": {\"type\": \"quantitative\", \"axis\": {\"title\": \"New Cases\"}, \"field\": \"Confirmed_New\"}}, \"transform\": [{\"on\": \"Date\", \"regression\": \"Confirmed_New\", \"method\": \"linear\"}]}], \"data\": {\"name\": \"data-5c316b666a823527bd0d71149f865769\"}, \"$schema\": \"https://vega.github.io/schema/vega-lite/v4.0.2.json\", \"datasets\": {\"data-5c316b666a823527bd0d71149f865769\": [{\"Country\": \"US\", \"Date\": \"04-06-2020\", \"Confirmed\": 366667.0, \"Deaths\": 10783.0, \"Recovered\": 19581.0, \"Confirmed_New\": 29540.0, \"Deaths_New\": 1164.0, \"Recovered_New\": 2133.0, \"Active\": 336303.0}, {\"Country\": \"US\", \"Date\": \"04-07-2020\", \"Confirmed\": 396223.0, \"Deaths\": 12722.0, \"Recovered\": 21763.0, \"Confirmed_New\": 29561.0, \"Deaths_New\": 1938.0, \"Recovered_New\": 2182.0, \"Active\": 361738.0}, {\"Country\": \"US\", \"Date\": \"04-08-2020\", \"Confirmed\": 429052.0, \"Deaths\": 14695.0, \"Recovered\": 23559.0, \"Confirmed_New\": 32739.0, \"Deaths_New\": 1972.0, \"Recovered_New\": 1796.0, \"Active\": 390798.0}, {\"Country\": \"US\", \"Date\": \"04-09-2020\", \"Confirmed\": 461437.0, \"Deaths\": 16478.0, \"Recovered\": 25410.0, \"Confirmed_New\": 32385.0, \"Deaths_New\": 1782.0, \"Recovered_New\": 1851.0, \"Active\": 419549.0}, {\"Country\": \"US\", \"Date\": \"04-10-2020\", \"Confirmed\": 496535.0, \"Deaths\": 18586.0, \"Recovered\": 28790.0, \"Confirmed_New\": 35099.0, \"Deaths_New\": 2104.0, \"Recovered_New\": 3380.0, \"Active\": 449159.0}, {\"Country\": \"US\", \"Date\": \"04-11-2020\", \"Confirmed\": 526396.0, \"Deaths\": 20462.0, \"Recovered\": 31270.0, \"Confirmed_New\": 29862.0, \"Deaths_New\": 1872.0, \"Recovered_New\": 2480.0, \"Active\": 474664.0}, {\"Country\": \"US\", \"Date\": \"04-12-2020\", \"Confirmed\": 555313.0, \"Deaths\": 22019.0, \"Recovered\": 32988.0, \"Confirmed_New\": 28915.0, \"Deaths_New\": 1557.0, \"Recovered_New\": 1718.0, \"Active\": 500306.0}, {\"Country\": \"US\", \"Date\": \"04-13-2020\", \"Confirmed\": 580619.0, \"Deaths\": 23528.0, \"Recovered\": 43482.0, \"Confirmed_New\": 24919.0, \"Deaths_New\": 1506.0, \"Recovered_New\": 10494.0, \"Active\": 513609.0}, {\"Country\": \"US\", \"Date\": \"04-14-2020\", \"Confirmed\": 607670.0, \"Deaths\": 25831.0, \"Recovered\": 47763.0, \"Confirmed_New\": 26397.0, \"Deaths_New\": 2303.0, \"Recovered_New\": 4281.0, \"Active\": 534076.0}, {\"Country\": \"US\", \"Date\": \"04-15-2020\", \"Confirmed\": 636350.0, \"Deaths\": 28325.0, \"Recovered\": 52096.0, \"Confirmed_New\": 28671.0, \"Deaths_New\": 2494.0, \"Recovered_New\": 4333.0, \"Active\": 555929.0}, {\"Country\": \"US\", \"Date\": \"04-16-2020\", \"Confirmed\": 667801.0, \"Deaths\": 32916.0, \"Recovered\": 54703.0, \"Confirmed_New\": 31449.0, \"Deaths_New\": 4591.0, \"Recovered_New\": 2607.0, \"Active\": 580182.0}, {\"Country\": \"US\", \"Date\": \"04-17-2020\", \"Confirmed\": 699706.0, \"Deaths\": 36773.0, \"Recovered\": 58545.0, \"Confirmed_New\": 31976.0, \"Deaths_New\": 3857.0, \"Recovered_New\": 3842.0, \"Active\": 604388.0}, {\"Country\": \"US\", \"Date\": \"04-18-2020\", \"Confirmed\": 732197.0, \"Deaths\": 38664.0, \"Recovered\": 64840.0, \"Confirmed_New\": 32491.0, \"Deaths_New\": 1891.0, \"Recovered_New\": 6295.0, \"Active\": 628693.0}, {\"Country\": \"US\", \"Date\": \"04-19-2020\", \"Confirmed\": 759086.0, \"Deaths\": 40661.0, \"Recovered\": 70337.0, \"Confirmed_New\": 26889.0, \"Deaths_New\": 1995.0, \"Recovered_New\": 5497.0, \"Active\": 648088.0}, {\"Country\": \"US\", \"Date\": \"04-20-2020\", \"Confirmed\": 784326.0, \"Deaths\": 42094.0, \"Recovered\": 72329.0, \"Confirmed_New\": 25211.0, \"Deaths_New\": 1433.0, \"Recovered_New\": 1992.0, \"Active\": 669903.0}, {\"Country\": \"US\", \"Date\": \"04-21-2020\", \"Confirmed\": 811865.0, \"Deaths\": 44444.0, \"Recovered\": 75204.0, \"Confirmed_New\": 27539.0, \"Deaths_New\": 2350.0, \"Recovered_New\": 2875.0, \"Active\": 692217.0}, {\"Country\": \"US\", \"Date\": \"04-22-2020\", \"Confirmed\": 840220.0, \"Deaths\": 46622.0, \"Recovered\": 77366.0, \"Confirmed_New\": 28355.0, \"Deaths_New\": 2178.0, \"Recovered_New\": 2162.0, \"Active\": 716232.0}, {\"Country\": \"US\", \"Date\": \"04-23-2020\", \"Confirmed\": 869170.0, \"Deaths\": 49954.0, \"Recovered\": 80203.0, \"Confirmed_New\": 28950.0, \"Deaths_New\": 3331.0, \"Recovered_New\": 2837.0, \"Active\": 739013.0}, {\"Country\": \"US\", \"Date\": \"04-24-2020\", \"Confirmed\": 905333.0, \"Deaths\": 51949.0, \"Recovered\": 99079.0, \"Confirmed_New\": 36163.0, \"Deaths_New\": 1995.0, \"Recovered_New\": 18876.0, \"Active\": 754305.0}, {\"Country\": \"US\", \"Date\": \"04-25-2020\", \"Confirmed\": 938154.0, \"Deaths\": 53755.0, \"Recovered\": 100372.0, \"Confirmed_New\": 32821.0, \"Deaths_New\": 1806.0, \"Recovered_New\": 1293.0, \"Active\": 784027.0}, {\"Country\": \"US\", \"Date\": \"04-26-2020\", \"Confirmed\": 965783.0, \"Deaths\": 54881.0, \"Recovered\": 106988.0, \"Confirmed_New\": 27629.0, \"Deaths_New\": 1126.0, \"Recovered_New\": 6616.0, \"Active\": 803914.0}, {\"Country\": \"US\", \"Date\": \"04-27-2020\", \"Confirmed\": 988197.0, \"Deaths\": 56259.0, \"Recovered\": 111424.0, \"Confirmed_New\": 22414.0, \"Deaths_New\": 1378.0, \"Recovered_New\": 4436.0, \"Active\": 820514.0}, {\"Country\": \"US\", \"Date\": \"04-28-2020\", \"Confirmed\": 1012582.0, \"Deaths\": 58355.0, \"Recovered\": 115936.0, \"Confirmed_New\": 24385.0, \"Deaths_New\": 2096.0, \"Recovered_New\": 4512.0, \"Active\": 838291.0}, {\"Country\": \"US\", \"Date\": \"04-29-2020\", \"Confirmed\": 1039909.0, \"Deaths\": 60967.0, \"Recovered\": 120720.0, \"Confirmed_New\": 27326.0, \"Deaths_New\": 2612.0, \"Recovered_New\": 4784.0, \"Active\": 858222.0}, {\"Country\": \"US\", \"Date\": \"04-30-2020\", \"Confirmed\": 1069424.0, \"Deaths\": 62996.0, \"Recovered\": 153947.0, \"Confirmed_New\": 29515.0, \"Deaths_New\": 2029.0, \"Recovered_New\": 33227.0, \"Active\": 852481.0}, {\"Country\": \"US\", \"Date\": \"05-01-2020\", \"Confirmed\": 1103461.0, \"Deaths\": 64943.0, \"Recovered\": 164015.0, \"Confirmed_New\": 34037.0, \"Deaths_New\": 2030.0, \"Recovered_New\": 10068.0, \"Active\": 874503.0}, {\"Country\": \"US\", \"Date\": \"05-02-2020\", \"Confirmed\": 1132539.0, \"Deaths\": 66369.0, \"Recovered\": 175382.0, \"Confirmed_New\": 29078.0, \"Deaths_New\": 1343.0, \"Recovered_New\": 11367.0, \"Active\": 890788.0}, {\"Country\": \"US\", \"Date\": \"05-03-2020\", \"Confirmed\": 1158040.0, \"Deaths\": 67682.0, \"Recovered\": 180152.0, \"Confirmed_New\": 25501.0, \"Deaths_New\": 1313.0, \"Recovered_New\": 4770.0, \"Active\": 910206.0}, {\"Country\": \"US\", \"Date\": \"05-04-2020\", \"Confirmed\": 1180375.0, \"Deaths\": 68922.0, \"Recovered\": 187180.0, \"Confirmed_New\": 22335.0, \"Deaths_New\": 1240.0, \"Recovered_New\": 7028.0, \"Active\": 924273.0}, {\"Country\": \"US\", \"Date\": \"05-05-2020\", \"Confirmed\": 1204351.0, \"Deaths\": 71064.0, \"Recovered\": 189791.0, \"Confirmed_New\": 23976.0, \"Deaths_New\": 2142.0, \"Recovered_New\": 2611.0, \"Active\": 943496.0}, {\"Country\": \"US\", \"Date\": \"05-06-2020\", \"Confirmed\": 1228603.0, \"Deaths\": 73431.0, \"Recovered\": 189910.0, \"Confirmed_New\": 24184.0, \"Deaths_New\": 2363.0, \"Recovered_New\": 119.0, \"Active\": 965262.0}, {\"Country\": \"US\", \"Date\": \"05-07-2020\", \"Confirmed\": 1257023.0, \"Deaths\": 75662.0, \"Recovered\": 195036.0, \"Confirmed_New\": 28420.0, \"Deaths_New\": 2231.0, \"Recovered_New\": 5126.0, \"Active\": 986325.0}, {\"Country\": \"US\", \"Date\": \"05-08-2020\", \"Confirmed\": 1283929.0, \"Deaths\": 77180.0, \"Recovered\": 198993.0, \"Confirmed_New\": 26906.0, \"Deaths_New\": 1518.0, \"Recovered_New\": 3957.0, \"Active\": 1007756.0}, {\"Country\": \"US\", \"Date\": \"05-09-2020\", \"Confirmed\": 1309550.0, \"Deaths\": 78795.0, \"Recovered\": 212534.0, \"Confirmed_New\": 25621.0, \"Deaths_New\": 1615.0, \"Recovered_New\": 13541.0, \"Active\": 1018221.0}, {\"Country\": \"US\", \"Date\": \"05-10-2020\", \"Confirmed\": 1329260.0, \"Deaths\": 79526.0, \"Recovered\": 216169.0, \"Confirmed_New\": 19710.0, \"Deaths_New\": 731.0, \"Recovered_New\": 3635.0, \"Active\": 1033565.0}, {\"Country\": \"US\", \"Date\": \"05-11-2020\", \"Confirmed\": 1347881.0, \"Deaths\": 80682.0, \"Recovered\": 232733.0, \"Confirmed_New\": 18621.0, \"Deaths_New\": 1156.0, \"Recovered_New\": 16564.0, \"Active\": 1034466.0}, {\"Country\": \"US\", \"Date\": \"05-12-2020\", \"Confirmed\": 1369574.0, \"Deaths\": 82376.0, \"Recovered\": 230287.0, \"Confirmed_New\": 21693.0, \"Deaths_New\": 1694.0, \"Recovered_New\": -2446.0, \"Active\": 1056911.0}, {\"Country\": \"US\", \"Date\": \"05-13-2020\", \"Confirmed\": 1390406.0, \"Deaths\": 84119.0, \"Recovered\": 243430.0, \"Confirmed_New\": 20833.0, \"Deaths_New\": 1743.0, \"Recovered_New\": 13143.0, \"Active\": 1062857.0}, {\"Country\": \"US\", \"Date\": \"05-14-2020\", \"Confirmed\": 1417774.0, \"Deaths\": 85898.0, \"Recovered\": 246414.0, \"Confirmed_New\": 27368.0, \"Deaths_New\": 1779.0, \"Recovered_New\": 2984.0, \"Active\": 1085462.0}, {\"Country\": \"US\", \"Date\": \"05-15-2020\", \"Confirmed\": 1442824.0, \"Deaths\": 87530.0, \"Recovered\": 250747.0, \"Confirmed_New\": 25050.0, \"Deaths_New\": 1632.0, \"Recovered_New\": 4333.0, \"Active\": 1104547.0}, {\"Country\": \"US\", \"Date\": \"05-16-2020\", \"Confirmed\": 1467820.0, \"Deaths\": 88754.0, \"Recovered\": 268376.0, \"Confirmed_New\": 24997.0, \"Deaths_New\": 1224.0, \"Recovered_New\": 17629.0, \"Active\": 1110690.0}, {\"Country\": \"US\", \"Date\": \"05-17-2020\", \"Confirmed\": 1486757.0, \"Deaths\": 89562.0, \"Recovered\": 272265.0, \"Confirmed_New\": 18937.0, \"Deaths_New\": 808.0, \"Recovered_New\": 3889.0, \"Active\": 1124930.0}, {\"Country\": \"US\", \"Date\": \"05-18-2020\", \"Confirmed\": 1508308.0, \"Deaths\": 90347.0, \"Recovered\": 283178.0, \"Confirmed_New\": 21552.0, \"Deaths_New\": 785.0, \"Recovered_New\": 10913.0, \"Active\": 1134783.0}, {\"Country\": \"US\", \"Date\": \"05-19-2020\", \"Confirmed\": 1528568.0, \"Deaths\": 91921.0, \"Recovered\": 289392.0, \"Confirmed_New\": 20260.0, \"Deaths_New\": 1574.0, \"Recovered_New\": 6214.0, \"Active\": 1147255.0}, {\"Country\": \"US\", \"Date\": \"05-20-2020\", \"Confirmed\": 1551853.0, \"Deaths\": 93439.0, \"Recovered\": 294312.0, \"Confirmed_New\": 23285.0, \"Deaths_New\": 1518.0, \"Recovered_New\": 4920.0, \"Active\": 1164102.0}, {\"Country\": \"US\", \"Date\": \"05-21-2020\", \"Confirmed\": 1577147.0, \"Deaths\": 94702.0, \"Recovered\": 298418.0, \"Confirmed_New\": 25294.0, \"Deaths_New\": 1263.0, \"Recovered_New\": 4106.0, \"Active\": 1184027.0}, {\"Country\": \"US\", \"Date\": \"05-22-2020\", \"Confirmed\": 1600937.0, \"Deaths\": 95979.0, \"Recovered\": 350135.0, \"Confirmed_New\": 23790.0, \"Deaths_New\": 1277.0, \"Recovered_New\": 51717.0, \"Active\": 1154823.0}, {\"Country\": \"US\", \"Date\": \"05-23-2020\", \"Confirmed\": 1622612.0, \"Deaths\": 97087.0, \"Recovered\": 361239.0, \"Confirmed_New\": 21675.0, \"Deaths_New\": 1108.0, \"Recovered_New\": 11104.0, \"Active\": 1164286.0}, {\"Country\": \"US\", \"Date\": \"05-24-2020\", \"Confirmed\": 1643246.0, \"Deaths\": 97720.0, \"Recovered\": 366736.0, \"Confirmed_New\": 20634.0, \"Deaths_New\": 633.0, \"Recovered_New\": 5497.0, \"Active\": 1178790.0}, {\"Country\": \"US\", \"Date\": \"05-25-2020\", \"Confirmed\": 1662302.0, \"Deaths\": 98220.0, \"Recovered\": 379157.0, \"Confirmed_New\": 19181.0, \"Deaths_New\": 500.0, \"Recovered_New\": 12421.0, \"Active\": 1184925.0}, {\"Country\": \"US\", \"Date\": \"05-26-2020\", \"Confirmed\": 1680913.0, \"Deaths\": 98913.0, \"Recovered\": 384902.0, \"Confirmed_New\": 18611.0, \"Deaths_New\": 693.0, \"Recovered_New\": 5745.0, \"Active\": 1197098.0}, {\"Country\": \"US\", \"Date\": \"05-27-2020\", \"Confirmed\": 1699176.0, \"Deaths\": 100418.0, \"Recovered\": 391508.0, \"Confirmed_New\": 18263.0, \"Deaths_New\": 1505.0, \"Recovered_New\": 6606.0, \"Active\": 1207250.0}, {\"Country\": \"US\", \"Date\": \"05-28-2020\", \"Confirmed\": 1721753.0, \"Deaths\": 101616.0, \"Recovered\": 399991.0, \"Confirmed_New\": 22576.0, \"Deaths_New\": 1198.0, \"Recovered_New\": 8483.0, \"Active\": 1220146.0}, {\"Country\": \"US\", \"Date\": \"05-29-2020\", \"Confirmed\": 1746019.0, \"Deaths\": 102809.0, \"Recovered\": 406446.0, \"Confirmed_New\": 24265.0, \"Deaths_New\": 1193.0, \"Recovered_New\": 6455.0, \"Active\": 1236764.0}, {\"Country\": \"US\", \"Date\": \"05-30-2020\", \"Confirmed\": 1770165.0, \"Deaths\": 103776.0, \"Recovered\": 416461.0, \"Confirmed_New\": 24146.0, \"Deaths_New\": 967.0, \"Recovered_New\": 10015.0, \"Active\": 1249928.0}, {\"Country\": \"US\", \"Date\": \"05-31-2020\", \"Confirmed\": 1790172.0, \"Deaths\": 104381.0, \"Recovered\": 444758.0, \"Confirmed_New\": 20007.0, \"Deaths_New\": 605.0, \"Recovered_New\": 28297.0, \"Active\": 1241033.0}, {\"Country\": \"US\", \"Date\": \"06-01-2020\", \"Confirmed\": 1811020.0, \"Deaths\": 105149.0, \"Recovered\": 458231.0, \"Confirmed_New\": 20848.0, \"Deaths_New\": 768.0, \"Recovered_New\": 13473.0, \"Active\": 1247640.0}, {\"Country\": \"US\", \"Date\": \"06-02-2020\", \"Confirmed\": 1831821.0, \"Deaths\": 106180.0, \"Recovered\": 463868.0, \"Confirmed_New\": 20801.0, \"Deaths_New\": 1031.0, \"Recovered_New\": 5637.0, \"Active\": 1261773.0}, {\"Country\": \"US\", \"Date\": \"06-03-2020\", \"Confirmed\": 1851520.0, \"Deaths\": 107175.0, \"Recovered\": 479258.0, \"Confirmed_New\": 19699.0, \"Deaths_New\": 995.0, \"Recovered_New\": 15390.0, \"Active\": 1265087.0}, {\"Country\": \"US\", \"Date\": \"06-04-2020\", \"Confirmed\": 1872660.0, \"Deaths\": 108211.0, \"Recovered\": 485002.0, \"Confirmed_New\": 21140.0, \"Deaths_New\": 1036.0, \"Recovered_New\": 5744.0, \"Active\": 1279447.0}]}}, {\"mode\": \"vega-lite\"});\n",
       "</script>"
      ],
      "text/plain": [
       "alt.LayerChart(...)"
      ]
     },
     "execution_count": 4,
     "metadata": {},
     "output_type": "execute_result"
    }
   ],
   "source": [
    "data = country_level\n",
    "state = alt.Chart(data[data['Country'] == 'US'].sort_values('Date').tail(60)).mark_line().encode(\n",
    "    alt.X('Date:T', axis=alt.Axis(title='Cumulative Cases')),\n",
    "    alt.Y('Confirmed_New:Q', axis=alt.Axis(title='New Cases'))\n",
    ")\n",
    "reg = state.transform_regression(\"Date\", \"Confirmed_New\", method=\"linear\").mark_line(color='red', strokeDash=[6,3])\n",
    "(state+reg).interactive()"
   ]
  },
  {
   "cell_type": "markdown",
   "metadata": {},
   "source": [
    "# State Level"
   ]
  },
  {
   "cell_type": "code",
   "execution_count": 5,
   "metadata": {},
   "outputs": [
    {
     "data": {
      "application/vnd.jupyter.widget-view+json": {
       "model_id": "3015946aa41b48cb8d3e01513c8724c3",
       "version_major": 2,
       "version_minor": 0
      },
      "text/plain": [
       "interactive(children=(IntSlider(value=7, description='window', max=21, min=2), Output()), _dom_classes=('widge…"
      ]
     },
     "metadata": {},
     "output_type": "display_data"
    }
   ],
   "source": [
    "@interact(window=(2, 21, 1))\n",
    "def chart(window=7):\n",
    "    return slope_chart(state_data('US'), 'State', 0, limit=100, xscale='log', scale=3, window=window).properties(\n",
    "        width=1200,\n",
    "        height=800\n",
    "    ).interactive()"
   ]
  },
  {
   "cell_type": "code",
   "execution_count": 6,
   "metadata": {},
   "outputs": [
    {
     "data": {
      "text/html": [
       "\n",
       "<div id=\"altair-viz-bd6dad02b33a4dce8f632ef36b9ba041\"></div>\n",
       "<script type=\"text/javascript\">\n",
       "  (function(spec, embedOpt){\n",
       "    const outputDiv = document.getElementById(\"altair-viz-bd6dad02b33a4dce8f632ef36b9ba041\");\n",
       "    const paths = {\n",
       "      \"vega\": \"https://cdn.jsdelivr.net/npm//vega@5?noext\",\n",
       "      \"vega-lib\": \"https://cdn.jsdelivr.net/npm//vega-lib?noext\",\n",
       "      \"vega-lite\": \"https://cdn.jsdelivr.net/npm//vega-lite@4.0.2?noext\",\n",
       "      \"vega-embed\": \"https://cdn.jsdelivr.net/npm//vega-embed@6?noext\",\n",
       "    };\n",
       "\n",
       "    function loadScript(lib) {\n",
       "      return new Promise(function(resolve, reject) {\n",
       "        var s = document.createElement('script');\n",
       "        s.src = paths[lib];\n",
       "        s.async = true;\n",
       "        s.onload = () => resolve(paths[lib]);\n",
       "        s.onerror = () => reject(`Error loading script: ${paths[lib]}`);\n",
       "        document.getElementsByTagName(\"head\")[0].appendChild(s);\n",
       "      });\n",
       "    }\n",
       "\n",
       "    function showError(err) {\n",
       "      outputDiv.innerHTML = `<div class=\"error\" style=\"color:red;\">${err}</div>`;\n",
       "      throw err;\n",
       "    }\n",
       "\n",
       "    function displayChart(vegaEmbed) {\n",
       "      vegaEmbed(outputDiv, spec, embedOpt)\n",
       "        .catch(err => showError(`Javascript Error: ${err.message}<br>This usually means there's a typo in your chart specification. See the javascript console for the full traceback.`));\n",
       "    }\n",
       "\n",
       "    if(typeof define === \"function\" && define.amd) {\n",
       "      requirejs.config({paths});\n",
       "      require([\"vega-embed\"], displayChart, err => showError(`Error loading script: ${err.message}`));\n",
       "    } else if (typeof vegaEmbed === \"function\") {\n",
       "      displayChart(vegaEmbed);\n",
       "    } else {\n",
       "      loadScript(\"vega\")\n",
       "        .then(() => loadScript(\"vega-lite\"))\n",
       "        .then(() => loadScript(\"vega-embed\"))\n",
       "        .catch(showError)\n",
       "        .then(() => displayChart(vegaEmbed));\n",
       "    }\n",
       "  })({\"config\": {\"view\": {\"continuousWidth\": 400, \"continuousHeight\": 300}}, \"layer\": [{\"mark\": \"line\", \"encoding\": {\"x\": {\"type\": \"quantitative\", \"field\": \"Confirmed\"}, \"y\": {\"type\": \"quantitative\", \"field\": \"Confirmed_New\"}}, \"selection\": {\"selector004\": {\"type\": \"interval\", \"bind\": \"scales\", \"encodings\": [\"x\", \"y\"]}}}, {\"mark\": {\"type\": \"line\", \"color\": \"red\", \"strokeDash\": [6, 3]}, \"encoding\": {\"x\": {\"type\": \"quantitative\", \"field\": \"Confirmed\"}, \"y\": {\"type\": \"quantitative\", \"field\": \"Confirmed_New\"}}, \"transform\": [{\"on\": \"Confirmed\", \"regression\": \"Confirmed_New\", \"method\": \"poly\"}]}], \"data\": {\"name\": \"data-b491c78db0452ea4085beefb472703ce\"}, \"$schema\": \"https://vega.github.io/schema/vega-lite/v4.0.2.json\", \"datasets\": {\"data-b491c78db0452ea4085beefb472703ce\": [{\"State\": \"AZ\", \"Date\": \"04-06-2020\", \"Confirmed\": 2732.0, \"Deaths\": 65.0, \"Recovered\": 0.0, \"Confirmed_New\": 246.0, \"Deaths_New\": 1.0, \"Recovered_New\": 0.0, \"Active\": 2667.0}, {\"State\": \"AZ\", \"Date\": \"04-07-2020\", \"Confirmed\": 2870.0, \"Deaths\": 73.0, \"Recovered\": 0.0, \"Confirmed_New\": 138.0, \"Deaths_New\": 8.0, \"Recovered_New\": 0.0, \"Active\": 2797.0}, {\"State\": \"AZ\", \"Date\": \"04-08-2020\", \"Confirmed\": 3036.0, \"Deaths\": 80.0, \"Recovered\": 0.0, \"Confirmed_New\": 166.0, \"Deaths_New\": 7.0, \"Recovered_New\": 0.0, \"Active\": 2956.0}, {\"State\": \"AZ\", \"Date\": \"04-09-2020\", \"Confirmed\": 3018.0, \"Deaths\": 89.0, \"Recovered\": 0.0, \"Confirmed_New\": -18.0, \"Deaths_New\": 9.0, \"Recovered_New\": 0.0, \"Active\": 2929.0}, {\"State\": \"AZ\", \"Date\": \"04-10-2020\", \"Confirmed\": 3112.0, \"Deaths\": 97.0, \"Recovered\": 0.0, \"Confirmed_New\": 94.0, \"Deaths_New\": 8.0, \"Recovered_New\": 0.0, \"Active\": 3015.0}, {\"State\": \"AZ\", \"Date\": \"04-11-2020\", \"Confirmed\": 3393.0, \"Deaths\": 108.0, \"Recovered\": 0.0, \"Confirmed_New\": 281.0, \"Deaths_New\": 11.0, \"Recovered_New\": 0.0, \"Active\": 3285.0}, {\"State\": \"AZ\", \"Date\": \"04-12-2020\", \"Confirmed\": 3542.0, \"Deaths\": 115.0, \"Recovered\": 0.0, \"Confirmed_New\": 149.0, \"Deaths_New\": 7.0, \"Recovered_New\": 0.0, \"Active\": 3427.0}, {\"State\": \"AZ\", \"Date\": \"04-13-2020\", \"Confirmed\": 3705.0, \"Deaths\": 122.0, \"Recovered\": 0.0, \"Confirmed_New\": 163.0, \"Deaths_New\": 7.0, \"Recovered_New\": 0.0, \"Active\": 3583.0}, {\"State\": \"AZ\", \"Date\": \"04-14-2020\", \"Confirmed\": 3809.0, \"Deaths\": 131.0, \"Recovered\": 0.0, \"Confirmed_New\": 104.0, \"Deaths_New\": 9.0, \"Recovered_New\": 0.0, \"Active\": 3678.0}, {\"State\": \"AZ\", \"Date\": \"04-15-2020\", \"Confirmed\": 3964.0, \"Deaths\": 142.0, \"Recovered\": 0.0, \"Confirmed_New\": 155.0, \"Deaths_New\": 11.0, \"Recovered_New\": 0.0, \"Active\": 3822.0}, {\"State\": \"AZ\", \"Date\": \"04-16-2020\", \"Confirmed\": 4237.0, \"Deaths\": 150.0, \"Recovered\": 0.0, \"Confirmed_New\": 273.0, \"Deaths_New\": 8.0, \"Recovered_New\": 0.0, \"Active\": 4087.0}, {\"State\": \"AZ\", \"Date\": \"04-17-2020\", \"Confirmed\": 4511.0, \"Deaths\": 169.0, \"Recovered\": 0.0, \"Confirmed_New\": 274.0, \"Deaths_New\": 19.0, \"Recovered_New\": 0.0, \"Active\": 4342.0}, {\"State\": \"AZ\", \"Date\": \"04-18-2020\", \"Confirmed\": 4724.0, \"Deaths\": 180.0, \"Recovered\": 0.0, \"Confirmed_New\": 213.0, \"Deaths_New\": 11.0, \"Recovered_New\": 0.0, \"Active\": 4544.0}, {\"State\": \"AZ\", \"Date\": \"04-19-2020\", \"Confirmed\": 4933.0, \"Deaths\": 184.0, \"Recovered\": 0.0, \"Confirmed_New\": 209.0, \"Deaths_New\": 4.0, \"Recovered_New\": 0.0, \"Active\": 4749.0}, {\"State\": \"AZ\", \"Date\": \"04-20-2020\", \"Confirmed\": 5068.0, \"Deaths\": 191.0, \"Recovered\": 0.0, \"Confirmed_New\": 135.0, \"Deaths_New\": 7.0, \"Recovered_New\": 0.0, \"Active\": 4877.0}, {\"State\": \"AZ\", \"Date\": \"04-21-2020\", \"Confirmed\": 5256.0, \"Deaths\": 208.0, \"Recovered\": 0.0, \"Confirmed_New\": 188.0, \"Deaths_New\": 17.0, \"Recovered_New\": 0.0, \"Active\": 5048.0}, {\"State\": \"AZ\", \"Date\": \"04-22-2020\", \"Confirmed\": 5473.0, \"Deaths\": 231.0, \"Recovered\": 0.0, \"Confirmed_New\": 217.0, \"Deaths_New\": 23.0, \"Recovered_New\": 0.0, \"Active\": 5242.0}, {\"State\": \"AZ\", \"Date\": \"04-23-2020\", \"Confirmed\": 5772.0, \"Deaths\": 249.0, \"Recovered\": 0.0, \"Confirmed_New\": 299.0, \"Deaths_New\": 18.0, \"Recovered_New\": 0.0, \"Active\": 5523.0}, {\"State\": \"AZ\", \"Date\": \"04-24-2020\", \"Confirmed\": 6045.0, \"Deaths\": 266.0, \"Recovered\": 0.0, \"Confirmed_New\": 273.0, \"Deaths_New\": 17.0, \"Recovered_New\": 0.0, \"Active\": 5779.0}, {\"State\": \"AZ\", \"Date\": \"04-25-2020\", \"Confirmed\": 6286.0, \"Deaths\": 273.0, \"Recovered\": 0.0, \"Confirmed_New\": 241.0, \"Deaths_New\": 7.0, \"Recovered_New\": 0.0, \"Active\": 6013.0}, {\"State\": \"AZ\", \"Date\": \"04-26-2020\", \"Confirmed\": 6534.0, \"Deaths\": 275.0, \"Recovered\": 0.0, \"Confirmed_New\": 248.0, \"Deaths_New\": 2.0, \"Recovered_New\": 0.0, \"Active\": 6259.0}, {\"State\": \"AZ\", \"Date\": \"04-27-2020\", \"Confirmed\": 6725.0, \"Deaths\": 275.0, \"Recovered\": 0.0, \"Confirmed_New\": 191.0, \"Deaths_New\": 0.0, \"Recovered_New\": 0.0, \"Active\": 6450.0}, {\"State\": \"AZ\", \"Date\": \"04-28-2020\", \"Confirmed\": 6955.0, \"Deaths\": 275.0, \"Recovered\": 0.0, \"Confirmed_New\": 230.0, \"Deaths_New\": 0.0, \"Recovered_New\": 0.0, \"Active\": 6680.0}, {\"State\": \"AZ\", \"Date\": \"04-29-2020\", \"Confirmed\": 7209.0, \"Deaths\": 308.0, \"Recovered\": 0.0, \"Confirmed_New\": 254.0, \"Deaths_New\": 33.0, \"Recovered_New\": 0.0, \"Active\": 6901.0}, {\"State\": \"AZ\", \"Date\": \"04-30-2020\", \"Confirmed\": 7655.0, \"Deaths\": 320.0, \"Recovered\": 0.0, \"Confirmed_New\": 446.0, \"Deaths_New\": 12.0, \"Recovered_New\": 0.0, \"Active\": 7335.0}, {\"State\": \"AZ\", \"Date\": \"05-01-2020\", \"Confirmed\": 7969.0, \"Deaths\": 330.0, \"Recovered\": 0.0, \"Confirmed_New\": 314.0, \"Deaths_New\": 10.0, \"Recovered_New\": 0.0, \"Active\": 7639.0}, {\"State\": \"AZ\", \"Date\": \"05-02-2020\", \"Confirmed\": 8364.0, \"Deaths\": 330.0, \"Recovered\": 0.0, \"Confirmed_New\": 395.0, \"Deaths_New\": 0.0, \"Recovered_New\": 0.0, \"Active\": 8034.0}, {\"State\": \"AZ\", \"Date\": \"05-03-2020\", \"Confirmed\": 8640.0, \"Deaths\": 362.0, \"Recovered\": 0.0, \"Confirmed_New\": 276.0, \"Deaths_New\": 32.0, \"Recovered_New\": 0.0, \"Active\": 8278.0}, {\"State\": \"AZ\", \"Date\": \"05-04-2020\", \"Confirmed\": 8924.0, \"Deaths\": 362.0, \"Recovered\": 0.0, \"Confirmed_New\": 284.0, \"Deaths_New\": 0.0, \"Recovered_New\": 0.0, \"Active\": 8562.0}, {\"State\": \"AZ\", \"Date\": \"05-05-2020\", \"Confirmed\": 9305.0, \"Deaths\": 395.0, \"Recovered\": 0.0, \"Confirmed_New\": 381.0, \"Deaths_New\": 33.0, \"Recovered_New\": 0.0, \"Active\": 8910.0}, {\"State\": \"AZ\", \"Date\": \"05-06-2020\", \"Confirmed\": 9707.0, \"Deaths\": 426.0, \"Recovered\": 0.0, \"Confirmed_New\": 402.0, \"Deaths_New\": 31.0, \"Recovered_New\": 0.0, \"Active\": 9281.0}, {\"State\": \"AZ\", \"Date\": \"05-07-2020\", \"Confirmed\": 9945.0, \"Deaths\": 450.0, \"Recovered\": 0.0, \"Confirmed_New\": 238.0, \"Deaths_New\": 24.0, \"Recovered_New\": 0.0, \"Active\": 9495.0}, {\"State\": \"AZ\", \"Date\": \"05-08-2020\", \"Confirmed\": 10526.0, \"Deaths\": 517.0, \"Recovered\": 0.0, \"Confirmed_New\": 581.0, \"Deaths_New\": 67.0, \"Recovered_New\": 0.0, \"Active\": 10009.0}, {\"State\": \"AZ\", \"Date\": \"05-09-2020\", \"Confirmed\": 10960.0, \"Deaths\": 532.0, \"Recovered\": 0.0, \"Confirmed_New\": 434.0, \"Deaths_New\": 15.0, \"Recovered_New\": 0.0, \"Active\": 10428.0}, {\"State\": \"AZ\", \"Date\": \"05-10-2020\", \"Confirmed\": 11119.0, \"Deaths\": 536.0, \"Recovered\": 0.0, \"Confirmed_New\": 159.0, \"Deaths_New\": 4.0, \"Recovered_New\": 0.0, \"Active\": 10583.0}, {\"State\": \"AZ\", \"Date\": \"05-11-2020\", \"Confirmed\": 11383.0, \"Deaths\": 542.0, \"Recovered\": 0.0, \"Confirmed_New\": 264.0, \"Deaths_New\": 6.0, \"Recovered_New\": 0.0, \"Active\": 10841.0}, {\"State\": \"AZ\", \"Date\": \"05-12-2020\", \"Confirmed\": 11736.0, \"Deaths\": 562.0, \"Recovered\": 0.0, \"Confirmed_New\": 353.0, \"Deaths_New\": 20.0, \"Recovered_New\": 0.0, \"Active\": 11174.0}, {\"State\": \"AZ\", \"Date\": \"05-13-2020\", \"Confirmed\": 12216.0, \"Deaths\": 595.0, \"Recovered\": 0.0, \"Confirmed_New\": 480.0, \"Deaths_New\": 33.0, \"Recovered_New\": 0.0, \"Active\": 11621.0}, {\"State\": \"AZ\", \"Date\": \"05-14-2020\", \"Confirmed\": 12674.0, \"Deaths\": 624.0, \"Recovered\": 0.0, \"Confirmed_New\": 458.0, \"Deaths_New\": 29.0, \"Recovered_New\": 0.0, \"Active\": 12050.0}, {\"State\": \"AZ\", \"Date\": \"05-15-2020\", \"Confirmed\": 13169.0, \"Deaths\": 651.0, \"Recovered\": 0.0, \"Confirmed_New\": 495.0, \"Deaths_New\": 27.0, \"Recovered_New\": 0.0, \"Active\": 12518.0}, {\"State\": \"AZ\", \"Date\": \"05-16-2020\", \"Confirmed\": 13666.0, \"Deaths\": 679.0, \"Recovered\": 0.0, \"Confirmed_New\": 497.0, \"Deaths_New\": 28.0, \"Recovered_New\": 0.0, \"Active\": 12987.0}, {\"State\": \"AZ\", \"Date\": \"05-17-2020\", \"Confirmed\": 13945.0, \"Deaths\": 680.0, \"Recovered\": 0.0, \"Confirmed_New\": 279.0, \"Deaths_New\": 1.0, \"Recovered_New\": 0.0, \"Active\": 13265.0}, {\"State\": \"AZ\", \"Date\": \"05-18-2020\", \"Confirmed\": 14208.0, \"Deaths\": 687.0, \"Recovered\": 0.0, \"Confirmed_New\": 263.0, \"Deaths_New\": 7.0, \"Recovered_New\": 0.0, \"Active\": 13521.0}, {\"State\": \"AZ\", \"Date\": \"05-19-2020\", \"Confirmed\": 14576.0, \"Deaths\": 705.0, \"Recovered\": 0.0, \"Confirmed_New\": 368.0, \"Deaths_New\": 18.0, \"Recovered_New\": 0.0, \"Active\": 13871.0}, {\"State\": \"AZ\", \"Date\": \"05-20-2020\", \"Confirmed\": 14906.0, \"Deaths\": 747.0, \"Recovered\": 0.0, \"Confirmed_New\": 330.0, \"Deaths_New\": 42.0, \"Recovered_New\": 0.0, \"Active\": 14159.0}, {\"State\": \"AZ\", \"Date\": \"05-21-2020\", \"Confirmed\": 15348.0, \"Deaths\": 764.0, \"Recovered\": 0.0, \"Confirmed_New\": 442.0, \"Deaths_New\": 17.0, \"Recovered_New\": 0.0, \"Active\": 14584.0}, {\"State\": \"AZ\", \"Date\": \"05-22-2020\", \"Confirmed\": 15624.0, \"Deaths\": 775.0, \"Recovered\": 0.0, \"Confirmed_New\": 276.0, \"Deaths_New\": 11.0, \"Recovered_New\": 0.0, \"Active\": 14849.0}, {\"State\": \"AZ\", \"Date\": \"05-23-2020\", \"Confirmed\": 16053.0, \"Deaths\": 801.0, \"Recovered\": 0.0, \"Confirmed_New\": 429.0, \"Deaths_New\": 26.0, \"Recovered_New\": 0.0, \"Active\": 15252.0}, {\"State\": \"AZ\", \"Date\": \"05-24-2020\", \"Confirmed\": 16377.0, \"Deaths\": 801.0, \"Recovered\": 0.0, \"Confirmed_New\": 324.0, \"Deaths_New\": 0.0, \"Recovered_New\": 0.0, \"Active\": 15576.0}, {\"State\": \"AZ\", \"Date\": \"05-25-2020\", \"Confirmed\": 16575.0, \"Deaths\": 807.0, \"Recovered\": 0.0, \"Confirmed_New\": 198.0, \"Deaths_New\": 6.0, \"Recovered_New\": 0.0, \"Active\": 15768.0}, {\"State\": \"AZ\", \"Date\": \"05-26-2020\", \"Confirmed\": 16864.0, \"Deaths\": 810.0, \"Recovered\": 0.0, \"Confirmed_New\": 289.0, \"Deaths_New\": 3.0, \"Recovered_New\": 0.0, \"Active\": 16054.0}, {\"State\": \"AZ\", \"Date\": \"05-27-2020\", \"Confirmed\": 17318.0, \"Deaths\": 834.0, \"Recovered\": 0.0, \"Confirmed_New\": 454.0, \"Deaths_New\": 24.0, \"Recovered_New\": 0.0, \"Active\": 16484.0}, {\"State\": \"AZ\", \"Date\": \"05-28-2020\", \"Confirmed\": 17877.0, \"Deaths\": 860.0, \"Recovered\": 0.0, \"Confirmed_New\": 559.0, \"Deaths_New\": 26.0, \"Recovered_New\": 0.0, \"Active\": 17017.0}, {\"State\": \"AZ\", \"Date\": \"05-29-2020\", \"Confirmed\": 18472.0, \"Deaths\": 886.0, \"Recovered\": 0.0, \"Confirmed_New\": 595.0, \"Deaths_New\": 26.0, \"Recovered_New\": 0.0, \"Active\": 17586.0}, {\"State\": \"AZ\", \"Date\": \"05-30-2020\", \"Confirmed\": 19258.0, \"Deaths\": 904.0, \"Recovered\": 0.0, \"Confirmed_New\": 786.0, \"Deaths_New\": 18.0, \"Recovered_New\": 0.0, \"Active\": 18354.0}, {\"State\": \"AZ\", \"Date\": \"05-31-2020\", \"Confirmed\": 19936.0, \"Deaths\": 907.0, \"Recovered\": 0.0, \"Confirmed_New\": 678.0, \"Deaths_New\": 3.0, \"Recovered_New\": 0.0, \"Active\": 19029.0}, {\"State\": \"AZ\", \"Date\": \"06-01-2020\", \"Confirmed\": 20129.0, \"Deaths\": 918.0, \"Recovered\": 0.0, \"Confirmed_New\": 193.0, \"Deaths_New\": 11.0, \"Recovered_New\": 0.0, \"Active\": 19211.0}, {\"State\": \"AZ\", \"Date\": \"06-02-2020\", \"Confirmed\": 21264.0, \"Deaths\": 943.0, \"Recovered\": 0.0, \"Confirmed_New\": 1135.0, \"Deaths_New\": 25.0, \"Recovered_New\": 0.0, \"Active\": 20321.0}, {\"State\": \"AZ\", \"Date\": \"06-03-2020\", \"Confirmed\": 22356.0, \"Deaths\": 983.0, \"Recovered\": 0.0, \"Confirmed_New\": 1092.0, \"Deaths_New\": 40.0, \"Recovered_New\": 0.0, \"Active\": 21373.0}, {\"State\": \"AZ\", \"Date\": \"06-04-2020\", \"Confirmed\": 22886.0, \"Deaths\": 999.0, \"Recovered\": 0.0, \"Confirmed_New\": 530.0, \"Deaths_New\": 16.0, \"Recovered_New\": 0.0, \"Active\": 21887.0}]}}, {\"mode\": \"vega-lite\"});\n",
       "</script>"
      ],
      "text/plain": [
       "alt.LayerChart(...)"
      ]
     },
     "execution_count": 6,
     "metadata": {},
     "output_type": "execute_result"
    }
   ],
   "source": [
    "data = state_data('US')\n",
    "state = alt.Chart(data[data['State'] == 'AZ'].sort_values('Date').tail(60)).mark_line().encode(\n",
    "    x='Confirmed:Q',\n",
    "    y='Confirmed_New:Q'\n",
    ")\n",
    "reg = state.transform_regression(\"Confirmed\", \"Confirmed_New\", method=\"poly\").mark_line(color='red', strokeDash=[6,3])\n",
    "(state+reg).interactive()"
   ]
  },
  {
   "cell_type": "markdown",
   "metadata": {},
   "source": [
    "# US County Level"
   ]
  },
  {
   "cell_type": "code",
   "execution_count": 7,
   "metadata": {},
   "outputs": [
    {
     "data": {
      "application/vnd.jupyter.widget-view+json": {
       "model_id": "c17a7ce1d4fd48d1a5916823b0ef4a9c",
       "version_major": 2,
       "version_minor": 0
      },
      "text/plain": [
       "interactive(children=(IntSlider(value=7, description='window', max=21, min=2), Output()), _dom_classes=('widge…"
      ]
     },
     "metadata": {},
     "output_type": "display_data"
    }
   ],
   "source": [
    "@interact(window=(2, 21, 1))\n",
    "def chart(window=7):\n",
    "    return slope_chart(county_data('CA'), 'County', 0, xscale='log', limit=15, scale=5, window=window).properties(\n",
    "        width=1200,\n",
    "        height=800\n",
    "    ).interactive()"
   ]
  },
  {
   "cell_type": "code",
   "execution_count": 8,
   "metadata": {},
   "outputs": [
    {
     "data": {
      "text/html": [
       "\n",
       "<div id=\"altair-viz-2f33a83b42f840499e6ded8a02eac98b\"></div>\n",
       "<script type=\"text/javascript\">\n",
       "  (function(spec, embedOpt){\n",
       "    const outputDiv = document.getElementById(\"altair-viz-2f33a83b42f840499e6ded8a02eac98b\");\n",
       "    const paths = {\n",
       "      \"vega\": \"https://cdn.jsdelivr.net/npm//vega@5?noext\",\n",
       "      \"vega-lib\": \"https://cdn.jsdelivr.net/npm//vega-lib?noext\",\n",
       "      \"vega-lite\": \"https://cdn.jsdelivr.net/npm//vega-lite@4.0.2?noext\",\n",
       "      \"vega-embed\": \"https://cdn.jsdelivr.net/npm//vega-embed@6?noext\",\n",
       "    };\n",
       "\n",
       "    function loadScript(lib) {\n",
       "      return new Promise(function(resolve, reject) {\n",
       "        var s = document.createElement('script');\n",
       "        s.src = paths[lib];\n",
       "        s.async = true;\n",
       "        s.onload = () => resolve(paths[lib]);\n",
       "        s.onerror = () => reject(`Error loading script: ${paths[lib]}`);\n",
       "        document.getElementsByTagName(\"head\")[0].appendChild(s);\n",
       "      });\n",
       "    }\n",
       "\n",
       "    function showError(err) {\n",
       "      outputDiv.innerHTML = `<div class=\"error\" style=\"color:red;\">${err}</div>`;\n",
       "      throw err;\n",
       "    }\n",
       "\n",
       "    function displayChart(vegaEmbed) {\n",
       "      vegaEmbed(outputDiv, spec, embedOpt)\n",
       "        .catch(err => showError(`Javascript Error: ${err.message}<br>This usually means there's a typo in your chart specification. See the javascript console for the full traceback.`));\n",
       "    }\n",
       "\n",
       "    if(typeof define === \"function\" && define.amd) {\n",
       "      requirejs.config({paths});\n",
       "      require([\"vega-embed\"], displayChart, err => showError(`Error loading script: ${err.message}`));\n",
       "    } else if (typeof vegaEmbed === \"function\") {\n",
       "      displayChart(vegaEmbed);\n",
       "    } else {\n",
       "      loadScript(\"vega\")\n",
       "        .then(() => loadScript(\"vega-lite\"))\n",
       "        .then(() => loadScript(\"vega-embed\"))\n",
       "        .catch(showError)\n",
       "        .then(() => displayChart(vegaEmbed));\n",
       "    }\n",
       "  })({\"config\": {\"view\": {\"continuousWidth\": 400, \"continuousHeight\": 300}}, \"layer\": [{\"mark\": \"line\", \"encoding\": {\"x\": {\"type\": \"quantitative\", \"field\": \"Confirmed\"}, \"y\": {\"type\": \"quantitative\", \"field\": \"Confirmed_New\"}}, \"selection\": {\"selector006\": {\"type\": \"interval\", \"bind\": \"scales\", \"encodings\": [\"x\", \"y\"]}}}, {\"mark\": {\"type\": \"line\", \"color\": \"red\", \"strokeDash\": [6, 3]}, \"encoding\": {\"x\": {\"type\": \"quantitative\", \"field\": \"Confirmed\"}, \"y\": {\"type\": \"quantitative\", \"field\": \"Confirmed_New\"}}, \"transform\": [{\"on\": \"Confirmed\", \"regression\": \"Confirmed_New\", \"method\": \"poly\"}]}], \"data\": {\"name\": \"data-f5f46560b8e6664c751aeb2a7da42433\"}, \"$schema\": \"https://vega.github.io/schema/vega-lite/v4.0.2.json\", \"datasets\": {\"data-f5f46560b8e6664c751aeb2a7da42433\": [{\"County\": \"Los Angeles\", \"Date\": \"04-06-2020\", \"Confirmed\": 6377.0, \"Deaths\": 147.0, \"Recovered\": 0.0, \"Confirmed_New\": 422.0, \"Deaths_New\": 15.0, \"Recovered_New\": 0.0, \"Active\": 6230.0}, {\"County\": \"Los Angeles\", \"Date\": \"04-07-2020\", \"Confirmed\": 6936.0, \"Deaths\": 169.0, \"Recovered\": 0.0, \"Confirmed_New\": 559.0, \"Deaths_New\": 22.0, \"Recovered_New\": 0.0, \"Active\": 6767.0}, {\"County\": \"Los Angeles\", \"Date\": \"04-08-2020\", \"Confirmed\": 7559.0, \"Deaths\": 198.0, \"Recovered\": 0.0, \"Confirmed_New\": 623.0, \"Deaths_New\": 29.0, \"Recovered_New\": 0.0, \"Active\": 7361.0}, {\"County\": \"Los Angeles\", \"Date\": \"04-09-2020\", \"Confirmed\": 7955.0, \"Deaths\": 223.0, \"Recovered\": 0.0, \"Confirmed_New\": 396.0, \"Deaths_New\": 25.0, \"Recovered_New\": 0.0, \"Active\": 7732.0}, {\"County\": \"Los Angeles\", \"Date\": \"04-10-2020\", \"Confirmed\": 8443.0, \"Deaths\": 242.0, \"Recovered\": 0.0, \"Confirmed_New\": 488.0, \"Deaths_New\": 19.0, \"Recovered_New\": 0.0, \"Active\": 8201.0}, {\"County\": \"Los Angeles\", \"Date\": \"04-11-2020\", \"Confirmed\": 8453.0, \"Deaths\": 244.0, \"Recovered\": 0.0, \"Confirmed_New\": 10.0, \"Deaths_New\": 2.0, \"Recovered_New\": 0.0, \"Active\": 8209.0}, {\"County\": \"Los Angeles\", \"Date\": \"04-12-2020\", \"Confirmed\": 8894.0, \"Deaths\": 269.0, \"Recovered\": 0.0, \"Confirmed_New\": 441.0, \"Deaths_New\": 25.0, \"Recovered_New\": 0.0, \"Active\": 8625.0}, {\"County\": \"Los Angeles\", \"Date\": \"04-13-2020\", \"Confirmed\": 9433.0, \"Deaths\": 322.0, \"Recovered\": 0.0, \"Confirmed_New\": 539.0, \"Deaths_New\": 53.0, \"Recovered_New\": 0.0, \"Active\": 9111.0}, {\"County\": \"Los Angeles\", \"Date\": \"04-14-2020\", \"Confirmed\": 10047.0, \"Deaths\": 360.0, \"Recovered\": 0.0, \"Confirmed_New\": 614.0, \"Deaths_New\": 38.0, \"Recovered_New\": 0.0, \"Active\": 9687.0}, {\"County\": \"Los Angeles\", \"Date\": \"04-15-2020\", \"Confirmed\": 10517.0, \"Deaths\": 405.0, \"Recovered\": 0.0, \"Confirmed_New\": 470.0, \"Deaths_New\": 45.0, \"Recovered_New\": 0.0, \"Active\": 10112.0}, {\"County\": \"Los Angeles\", \"Date\": \"04-16-2020\", \"Confirmed\": 10854.0, \"Deaths\": 457.0, \"Recovered\": 0.0, \"Confirmed_New\": 337.0, \"Deaths_New\": 52.0, \"Recovered_New\": 0.0, \"Active\": 10397.0}, {\"County\": \"Los Angeles\", \"Date\": \"04-17-2020\", \"Confirmed\": 11400.0, \"Deaths\": 497.0, \"Recovered\": 0.0, \"Confirmed_New\": 546.0, \"Deaths_New\": 40.0, \"Recovered_New\": 0.0, \"Active\": 10903.0}, {\"County\": \"Los Angeles\", \"Date\": \"04-18-2020\", \"Confirmed\": 12021.0, \"Deaths\": 576.0, \"Recovered\": 0.0, \"Confirmed_New\": 621.0, \"Deaths_New\": 79.0, \"Recovered_New\": 0.0, \"Active\": 11445.0}, {\"County\": \"Los Angeles\", \"Date\": \"04-19-2020\", \"Confirmed\": 12341.0, \"Deaths\": 600.0, \"Recovered\": 0.0, \"Confirmed_New\": 320.0, \"Deaths_New\": 24.0, \"Recovered_New\": 0.0, \"Active\": 11741.0}, {\"County\": \"Los Angeles\", \"Date\": \"04-20-2020\", \"Confirmed\": 13823.0, \"Deaths\": 619.0, \"Recovered\": 0.0, \"Confirmed_New\": 1482.0, \"Deaths_New\": 19.0, \"Recovered_New\": 0.0, \"Active\": 13204.0}, {\"County\": \"Los Angeles\", \"Date\": \"04-21-2020\", \"Confirmed\": 15153.0, \"Deaths\": 663.0, \"Recovered\": 0.0, \"Confirmed_New\": 1330.0, \"Deaths_New\": 44.0, \"Recovered_New\": 0.0, \"Active\": 14490.0}, {\"County\": \"Los Angeles\", \"Date\": \"04-22-2020\", \"Confirmed\": 16447.0, \"Deaths\": 732.0, \"Recovered\": 0.0, \"Confirmed_New\": 1294.0, \"Deaths_New\": 69.0, \"Recovered_New\": 0.0, \"Active\": 15715.0}, {\"County\": \"Los Angeles\", \"Date\": \"04-23-2020\", \"Confirmed\": 17537.0, \"Deaths\": 797.0, \"Recovered\": 0.0, \"Confirmed_New\": 1090.0, \"Deaths_New\": 65.0, \"Recovered_New\": 0.0, \"Active\": 16740.0}, {\"County\": \"Los Angeles\", \"Date\": \"04-24-2020\", \"Confirmed\": 18545.0, \"Deaths\": 850.0, \"Recovered\": 0.0, \"Confirmed_New\": 1008.0, \"Deaths_New\": 53.0, \"Recovered_New\": 0.0, \"Active\": 17695.0}, {\"County\": \"Los Angeles\", \"Date\": \"04-25-2020\", \"Confirmed\": 19133.0, \"Deaths\": 895.0, \"Recovered\": 0.0, \"Confirmed_New\": 588.0, \"Deaths_New\": 45.0, \"Recovered_New\": 0.0, \"Active\": 18238.0}, {\"County\": \"Los Angeles\", \"Date\": \"04-26-2020\", \"Confirmed\": 19567.0, \"Deaths\": 916.0, \"Recovered\": 0.0, \"Confirmed_New\": 434.0, \"Deaths_New\": 21.0, \"Recovered_New\": 0.0, \"Active\": 18651.0}, {\"County\": \"Los Angeles\", \"Date\": \"04-27-2020\", \"Confirmed\": 20423.0, \"Deaths\": 944.0, \"Recovered\": 0.0, \"Confirmed_New\": 856.0, \"Deaths_New\": 28.0, \"Recovered_New\": 0.0, \"Active\": 19479.0}, {\"County\": \"Los Angeles\", \"Date\": \"04-28-2020\", \"Confirmed\": 20996.0, \"Deaths\": 1002.0, \"Recovered\": 0.0, \"Confirmed_New\": 573.0, \"Deaths_New\": 58.0, \"Recovered_New\": 0.0, \"Active\": 19994.0}, {\"County\": \"Los Angeles\", \"Date\": \"04-29-2020\", \"Confirmed\": 22485.0, \"Deaths\": 1056.0, \"Recovered\": 0.0, \"Confirmed_New\": 1489.0, \"Deaths_New\": 54.0, \"Recovered_New\": 0.0, \"Active\": 21429.0}, {\"County\": \"Los Angeles\", \"Date\": \"04-30-2020\", \"Confirmed\": 23220.0, \"Deaths\": 1111.0, \"Recovered\": 0.0, \"Confirmed_New\": 735.0, \"Deaths_New\": 55.0, \"Recovered_New\": 0.0, \"Active\": 22109.0}, {\"County\": \"Los Angeles\", \"Date\": \"05-01-2020\", \"Confirmed\": 24262.0, \"Deaths\": 1174.0, \"Recovered\": 0.0, \"Confirmed_New\": 1042.0, \"Deaths_New\": 63.0, \"Recovered_New\": 0.0, \"Active\": 23088.0}, {\"County\": \"Los Angeles\", \"Date\": \"05-02-2020\", \"Confirmed\": 24894.0, \"Deaths\": 1209.0, \"Recovered\": 0.0, \"Confirmed_New\": 632.0, \"Deaths_New\": 35.0, \"Recovered_New\": 0.0, \"Active\": 23685.0}, {\"County\": \"Los Angeles\", \"Date\": \"05-03-2020\", \"Confirmed\": 25699.0, \"Deaths\": 1231.0, \"Recovered\": 0.0, \"Confirmed_New\": 805.0, \"Deaths_New\": 22.0, \"Recovered_New\": 0.0, \"Active\": 24468.0}, {\"County\": \"Los Angeles\", \"Date\": \"05-04-2020\", \"Confirmed\": 26225.0, \"Deaths\": 1257.0, \"Recovered\": 0.0, \"Confirmed_New\": 526.0, \"Deaths_New\": 26.0, \"Recovered_New\": 0.0, \"Active\": 24968.0}, {\"County\": \"Los Angeles\", \"Date\": \"05-05-2020\", \"Confirmed\": 27836.0, \"Deaths\": 1315.0, \"Recovered\": 0.0, \"Confirmed_New\": 1611.0, \"Deaths_New\": 58.0, \"Recovered_New\": 0.0, \"Active\": 26521.0}, {\"County\": \"Los Angeles\", \"Date\": \"05-06-2020\", \"Confirmed\": 28665.0, \"Deaths\": 1369.0, \"Recovered\": 0.0, \"Confirmed_New\": 829.0, \"Deaths_New\": 54.0, \"Recovered_New\": 0.0, \"Active\": 27296.0}, {\"County\": \"Los Angeles\", \"Date\": \"05-07-2020\", \"Confirmed\": 29511.0, \"Deaths\": 1418.0, \"Recovered\": 0.0, \"Confirmed_New\": 846.0, \"Deaths_New\": 49.0, \"Recovered_New\": 0.0, \"Active\": 28093.0}, {\"County\": \"Los Angeles\", \"Date\": \"05-08-2020\", \"Confirmed\": 30319.0, \"Deaths\": 1470.0, \"Recovered\": 0.0, \"Confirmed_New\": 808.0, \"Deaths_New\": 52.0, \"Recovered_New\": 0.0, \"Active\": 28849.0}, {\"County\": \"Los Angeles\", \"Date\": \"05-09-2020\", \"Confirmed\": 31241.0, \"Deaths\": 1515.0, \"Recovered\": 0.0, \"Confirmed_New\": 922.0, \"Deaths_New\": 45.0, \"Recovered_New\": 0.0, \"Active\": 29726.0}, {\"County\": \"Los Angeles\", \"Date\": \"05-10-2020\", \"Confirmed\": 31703.0, \"Deaths\": 1531.0, \"Recovered\": 0.0, \"Confirmed_New\": 462.0, \"Deaths_New\": 16.0, \"Recovered_New\": 0.0, \"Active\": 30172.0}, {\"County\": \"Los Angeles\", \"Date\": \"05-11-2020\", \"Confirmed\": 32263.0, \"Deaths\": 1570.0, \"Recovered\": 0.0, \"Confirmed_New\": 560.0, \"Deaths_New\": 39.0, \"Recovered_New\": 0.0, \"Active\": 30693.0}, {\"County\": \"Los Angeles\", \"Date\": \"05-12-2020\", \"Confirmed\": 33211.0, \"Deaths\": 1616.0, \"Recovered\": 0.0, \"Confirmed_New\": 948.0, \"Deaths_New\": 46.0, \"Recovered_New\": 0.0, \"Active\": 31595.0}, {\"County\": \"Los Angeles\", \"Date\": \"05-13-2020\", \"Confirmed\": 34538.0, \"Deaths\": 1660.0, \"Recovered\": 0.0, \"Confirmed_New\": 1327.0, \"Deaths_New\": 44.0, \"Recovered_New\": 0.0, \"Active\": 32878.0}, {\"County\": \"Los Angeles\", \"Date\": \"05-14-2020\", \"Confirmed\": 35392.0, \"Deaths\": 1711.0, \"Recovered\": 0.0, \"Confirmed_New\": 854.0, \"Deaths_New\": 51.0, \"Recovered_New\": 0.0, \"Active\": 33681.0}, {\"County\": \"Los Angeles\", \"Date\": \"05-15-2020\", \"Confirmed\": 36316.0, \"Deaths\": 1753.0, \"Recovered\": 0.0, \"Confirmed_New\": 924.0, \"Deaths_New\": 42.0, \"Recovered_New\": 0.0, \"Active\": 34563.0}, {\"County\": \"Los Angeles\", \"Date\": \"05-16-2020\", \"Confirmed\": 37360.0, \"Deaths\": 1793.0, \"Recovered\": 0.0, \"Confirmed_New\": 1044.0, \"Deaths_New\": 40.0, \"Recovered_New\": 0.0, \"Active\": 35567.0}, {\"County\": \"Los Angeles\", \"Date\": \"05-17-2020\", \"Confirmed\": 38011.0, \"Deaths\": 1821.0, \"Recovered\": 0.0, \"Confirmed_New\": 651.0, \"Deaths_New\": 28.0, \"Recovered_New\": 0.0, \"Active\": 36190.0}, {\"County\": \"Los Angeles\", \"Date\": \"05-18-2020\", \"Confirmed\": 38458.0, \"Deaths\": 1840.0, \"Recovered\": 0.0, \"Confirmed_New\": 447.0, \"Deaths_New\": 19.0, \"Recovered_New\": 0.0, \"Active\": 36618.0}, {\"County\": \"Los Angeles\", \"Date\": \"05-19-2020\", \"Confirmed\": 39573.0, \"Deaths\": 1913.0, \"Recovered\": 0.0, \"Confirmed_New\": 1115.0, \"Deaths_New\": 73.0, \"Recovered_New\": 0.0, \"Active\": 37660.0}, {\"County\": \"Los Angeles\", \"Date\": \"05-20-2020\", \"Confirmed\": 40895.0, \"Deaths\": 1973.0, \"Recovered\": 0.0, \"Confirmed_New\": 1322.0, \"Deaths_New\": 60.0, \"Recovered_New\": 0.0, \"Active\": 38922.0}, {\"County\": \"Los Angeles\", \"Date\": \"05-21-2020\", \"Confirmed\": 42037.0, \"Deaths\": 2016.0, \"Recovered\": 0.0, \"Confirmed_New\": 1142.0, \"Deaths_New\": 43.0, \"Recovered_New\": 0.0, \"Active\": 40021.0}, {\"County\": \"Los Angeles\", \"Date\": \"05-22-2020\", \"Confirmed\": 43070.0, \"Deaths\": 2053.0, \"Recovered\": 0.0, \"Confirmed_New\": 1033.0, \"Deaths_New\": 37.0, \"Recovered_New\": 0.0, \"Active\": 41017.0}, {\"County\": \"Los Angeles\", \"Date\": \"05-23-2020\", \"Confirmed\": 44121.0, \"Deaths\": 2092.0, \"Recovered\": 0.0, \"Confirmed_New\": 1051.0, \"Deaths_New\": 39.0, \"Recovered_New\": 0.0, \"Active\": 42029.0}, {\"County\": \"Los Angeles\", \"Date\": \"05-24-2020\", \"Confirmed\": 45017.0, \"Deaths\": 2106.0, \"Recovered\": 0.0, \"Confirmed_New\": 896.0, \"Deaths_New\": 14.0, \"Recovered_New\": 0.0, \"Active\": 42911.0}, {\"County\": \"Los Angeles\", \"Date\": \"05-25-2020\", \"Confirmed\": 46023.0, \"Deaths\": 2116.0, \"Recovered\": 0.0, \"Confirmed_New\": 1006.0, \"Deaths_New\": 10.0, \"Recovered_New\": 0.0, \"Active\": 43907.0}, {\"County\": \"Los Angeles\", \"Date\": \"05-26-2020\", \"Confirmed\": 47845.0, \"Deaths\": 2145.0, \"Recovered\": 0.0, \"Confirmed_New\": 1822.0, \"Deaths_New\": 29.0, \"Recovered_New\": 0.0, \"Active\": 45700.0}, {\"County\": \"Los Angeles\", \"Date\": \"05-27-2020\", \"Confirmed\": 48761.0, \"Deaths\": 2201.0, \"Recovered\": 0.0, \"Confirmed_New\": 916.0, \"Deaths_New\": 56.0, \"Recovered_New\": 0.0, \"Active\": 46560.0}, {\"County\": \"Los Angeles\", \"Date\": \"05-28-2020\", \"Confirmed\": 49860.0, \"Deaths\": 2241.0, \"Recovered\": 0.0, \"Confirmed_New\": 1099.0, \"Deaths_New\": 40.0, \"Recovered_New\": 0.0, \"Active\": 47619.0}, {\"County\": \"Los Angeles\", \"Date\": \"05-29-2020\", \"Confirmed\": 51678.0, \"Deaths\": 2294.0, \"Recovered\": 0.0, \"Confirmed_New\": 1818.0, \"Deaths_New\": 53.0, \"Recovered_New\": 0.0, \"Active\": 49384.0}, {\"County\": \"Los Angeles\", \"Date\": \"05-30-2020\", \"Confirmed\": 53746.0, \"Deaths\": 2339.0, \"Recovered\": 0.0, \"Confirmed_New\": 2068.0, \"Deaths_New\": 45.0, \"Recovered_New\": 0.0, \"Active\": 51407.0}, {\"County\": \"Los Angeles\", \"Date\": \"05-31-2020\", \"Confirmed\": 55001.0, \"Deaths\": 2362.0, \"Recovered\": 0.0, \"Confirmed_New\": 1255.0, \"Deaths_New\": 23.0, \"Recovered_New\": 0.0, \"Active\": 52639.0}, {\"County\": \"Los Angeles\", \"Date\": \"06-01-2020\", \"Confirmed\": 56011.0, \"Deaths\": 2386.0, \"Recovered\": 0.0, \"Confirmed_New\": 1010.0, \"Deaths_New\": 24.0, \"Recovered_New\": 0.0, \"Active\": 53625.0}, {\"County\": \"Los Angeles\", \"Date\": \"06-02-2020\", \"Confirmed\": 57219.0, \"Deaths\": 2448.0, \"Recovered\": 0.0, \"Confirmed_New\": 1208.0, \"Deaths_New\": 62.0, \"Recovered_New\": 0.0, \"Active\": 54771.0}, {\"County\": \"Los Angeles\", \"Date\": \"06-03-2020\", \"Confirmed\": 58261.0, \"Deaths\": 2489.0, \"Recovered\": 0.0, \"Confirmed_New\": 1042.0, \"Deaths_New\": 41.0, \"Recovered_New\": 0.0, \"Active\": 55772.0}, {\"County\": \"Los Angeles\", \"Date\": \"06-04-2020\", \"Confirmed\": 59692.0, \"Deaths\": 2532.0, \"Recovered\": 0.0, \"Confirmed_New\": 1431.0, \"Deaths_New\": 43.0, \"Recovered_New\": 0.0, \"Active\": 57160.0}]}}, {\"mode\": \"vega-lite\"});\n",
       "</script>"
      ],
      "text/plain": [
       "alt.LayerChart(...)"
      ]
     },
     "execution_count": 8,
     "metadata": {},
     "output_type": "execute_result"
    }
   ],
   "source": [
    "data = county_data('CA')\n",
    "state = alt.Chart(data[data['County'] == 'Los Angeles'].sort_values('Date').tail(60)).mark_line().encode(\n",
    "    x='Confirmed:Q',\n",
    "    y='Confirmed_New:Q'\n",
    ")\n",
    "reg = state.transform_regression(\"Confirmed\", \"Confirmed_New\", method=\"poly\").mark_line(color='red', strokeDash=[6,3])\n",
    "(state+reg).interactive()"
   ]
  },
  {
   "cell_type": "markdown",
   "metadata": {},
   "source": [
    "# US Hospitalizations"
   ]
  },
  {
   "cell_type": "code",
   "execution_count": 9,
   "metadata": {},
   "outputs": [
    {
     "data": {
      "application/vnd.jupyter.widget-view+json": {
       "model_id": "5bffc8f82006454aa6c8174a2b0de431",
       "version_major": 2,
       "version_minor": 0
      },
      "text/plain": [
       "interactive(children=(IntSlider(value=7, description='window', max=21, min=2), Output()), _dom_classes=('widge…"
      ]
     },
     "metadata": {},
     "output_type": "display_data"
    }
   ],
   "source": [
    "dfh = pd.read_csv('https://covidtracking.com/api/v1/states/daily.csv')\n",
    "dfh.date = pd.to_datetime(dfh.date, format='%Y%m%d')\n",
    "dfh.date = dfh.date.dt.strftime('%m-%d-%Y')\n",
    "dfh = dfh.rename({'date': 'Date', 'state':'State', 'hospitalizedCurrently': 'Hospitalized'}, axis=1)\n",
    "data = state_data('US')\n",
    "data = data.merge(dfh, on=['Date', 'State'], how='outer')\n",
    "@interact(window=(2, 21, 1))\n",
    "def chart(window=7):\n",
    "    return slope_chart(data, 'State', 0, xscale='log', limit=200, scale=2, value='Hospitalized', window=window, today=days[-1]).properties(\n",
    "        width=1200,\n",
    "        height=800\n",
    "    ).interactive()"
   ]
  },
  {
   "cell_type": "code",
   "execution_count": 10,
   "metadata": {},
   "outputs": [
    {
     "data": {
      "text/html": [
       "\n",
       "<div id=\"altair-viz-8e6190b70b984562a267edd89843bec1\"></div>\n",
       "<script type=\"text/javascript\">\n",
       "  (function(spec, embedOpt){\n",
       "    const outputDiv = document.getElementById(\"altair-viz-8e6190b70b984562a267edd89843bec1\");\n",
       "    const paths = {\n",
       "      \"vega\": \"https://cdn.jsdelivr.net/npm//vega@5?noext\",\n",
       "      \"vega-lib\": \"https://cdn.jsdelivr.net/npm//vega-lib?noext\",\n",
       "      \"vega-lite\": \"https://cdn.jsdelivr.net/npm//vega-lite@4.0.2?noext\",\n",
       "      \"vega-embed\": \"https://cdn.jsdelivr.net/npm//vega-embed@6?noext\",\n",
       "    };\n",
       "\n",
       "    function loadScript(lib) {\n",
       "      return new Promise(function(resolve, reject) {\n",
       "        var s = document.createElement('script');\n",
       "        s.src = paths[lib];\n",
       "        s.async = true;\n",
       "        s.onload = () => resolve(paths[lib]);\n",
       "        s.onerror = () => reject(`Error loading script: ${paths[lib]}`);\n",
       "        document.getElementsByTagName(\"head\")[0].appendChild(s);\n",
       "      });\n",
       "    }\n",
       "\n",
       "    function showError(err) {\n",
       "      outputDiv.innerHTML = `<div class=\"error\" style=\"color:red;\">${err}</div>`;\n",
       "      throw err;\n",
       "    }\n",
       "\n",
       "    function displayChart(vegaEmbed) {\n",
       "      vegaEmbed(outputDiv, spec, embedOpt)\n",
       "        .catch(err => showError(`Javascript Error: ${err.message}<br>This usually means there's a typo in your chart specification. See the javascript console for the full traceback.`));\n",
       "    }\n",
       "\n",
       "    if(typeof define === \"function\" && define.amd) {\n",
       "      requirejs.config({paths});\n",
       "      require([\"vega-embed\"], displayChart, err => showError(`Error loading script: ${err.message}`));\n",
       "    } else if (typeof vegaEmbed === \"function\") {\n",
       "      displayChart(vegaEmbed);\n",
       "    } else {\n",
       "      loadScript(\"vega\")\n",
       "        .then(() => loadScript(\"vega-lite\"))\n",
       "        .then(() => loadScript(\"vega-embed\"))\n",
       "        .catch(showError)\n",
       "        .then(() => displayChart(vegaEmbed));\n",
       "    }\n",
       "  })({\"config\": {\"view\": {\"continuousWidth\": 400, \"continuousHeight\": 300}}, \"layer\": [{\"mark\": \"line\", \"encoding\": {\"x\": {\"type\": \"temporal\", \"field\": \"Date\"}, \"y\": {\"type\": \"quantitative\", \"field\": \"Hospitalized\"}}, \"selection\": {\"selector008\": {\"type\": \"interval\", \"bind\": \"scales\", \"encodings\": [\"x\", \"y\"]}}}, {\"mark\": {\"type\": \"line\", \"color\": \"red\", \"strokeDash\": [6, 3]}, \"encoding\": {\"x\": {\"type\": \"temporal\", \"field\": \"Date\"}, \"y\": {\"type\": \"quantitative\", \"field\": \"Hospitalized\"}}, \"transform\": [{\"on\": \"Date\", \"regression\": \"Hospitalized\", \"method\": \"poly\"}]}], \"data\": {\"name\": \"data-fc39d9a2da8df0d6311aa4ac0dd010cd\"}, \"$schema\": \"https://vega.github.io/schema/vega-lite/v4.0.2.json\", \"datasets\": {\"data-fc39d9a2da8df0d6311aa4ac0dd010cd\": [{\"State\": \"CA\", \"Date\": \"05-29-2020\", \"Confirmed\": 106622.0, \"Deaths\": 4077.0, \"Recovered\": 0.0, \"Confirmed_New\": 2809.0, \"Deaths_New\": 84.0, \"Recovered_New\": 0.0, \"Active\": 102545.0, \"positive\": 103886.0, \"negative\": 1731592.0, \"pending\": null, \"Hospitalized\": 4414.0, \"hospitalizedCumulative\": null, \"inIcuCurrently\": 1328.0, \"inIcuCumulative\": null, \"onVentilatorCurrently\": null, \"onVentilatorCumulative\": null, \"recovered\": null, \"dataQualityGrade\": \"B\", \"lastUpdateEt\": \"5/29/2020 00:00\", \"dateModified\": \"2020-05-29T00:00:00Z\", \"checkTimeEt\": \"05/28 20:00\", \"death\": 4068.0, \"hospitalized\": null, \"dateChecked\": \"2020-05-29T00:00:00Z\", \"fips\": 6.0, \"positiveIncrease\": 2189.0, \"negativeIncrease\": 42730.0, \"total\": 1835478.0, \"totalTestResults\": 1835478.0, \"totalTestResultsIncrease\": 44919.0, \"posNeg\": 1835478.0, \"deathIncrease\": 95.0, \"hospitalizedIncrease\": 0.0, \"hash\": \"7c4a5bacc46e80ac7118cd395a7706127b251144\", \"commercialScore\": 0.0, \"negativeRegularScore\": 0.0, \"negativeScore\": 0.0, \"positiveScore\": 0.0, \"score\": 0.0, \"grade\": null}, {\"State\": \"CA\", \"Date\": \"05-30-2020\", \"Confirmed\": 109895.0, \"Deaths\": 4144.0, \"Recovered\": 0.0, \"Confirmed_New\": 3273.0, \"Deaths_New\": 67.0, \"Recovered_New\": 0.0, \"Active\": 105751.0, \"positive\": 106878.0, \"negative\": 1781717.0, \"pending\": null, \"Hospitalized\": 4215.0, \"hospitalizedCumulative\": null, \"inIcuCurrently\": 1273.0, \"inIcuCumulative\": null, \"onVentilatorCurrently\": null, \"onVentilatorCumulative\": null, \"recovered\": null, \"dataQualityGrade\": \"B\", \"lastUpdateEt\": \"5/30/2020 00:00\", \"dateModified\": \"2020-05-30T00:00:00Z\", \"checkTimeEt\": \"05/29 20:00\", \"death\": 4156.0, \"hospitalized\": null, \"dateChecked\": \"2020-05-30T00:00:00Z\", \"fips\": 6.0, \"positiveIncrease\": 2992.0, \"negativeIncrease\": 50125.0, \"total\": 1888595.0, \"totalTestResults\": 1888595.0, \"totalTestResultsIncrease\": 53117.0, \"posNeg\": 1888595.0, \"deathIncrease\": 88.0, \"hospitalizedIncrease\": 0.0, \"hash\": \"dae75ce7d6216ab4ef544b383f09ed44f256e42c\", \"commercialScore\": 0.0, \"negativeRegularScore\": 0.0, \"negativeScore\": 0.0, \"positiveScore\": 0.0, \"score\": 0.0, \"grade\": null}, {\"State\": \"CA\", \"Date\": \"05-31-2020\", \"Confirmed\": 111951.0, \"Deaths\": 4172.0, \"Recovered\": 0.0, \"Confirmed_New\": 2056.0, \"Deaths_New\": 28.0, \"Recovered_New\": 0.0, \"Active\": 107779.0, \"positive\": 110583.0, \"negative\": 1834265.0, \"pending\": null, \"Hospitalized\": 4331.0, \"hospitalizedCumulative\": null, \"inIcuCurrently\": 1324.0, \"inIcuCumulative\": null, \"onVentilatorCurrently\": null, \"onVentilatorCumulative\": null, \"recovered\": null, \"dataQualityGrade\": \"B\", \"lastUpdateEt\": \"5/30/2020 00:00\", \"dateModified\": \"2020-05-30T00:00:00Z\", \"checkTimeEt\": \"05/29 20:00\", \"death\": 4213.0, \"hospitalized\": null, \"dateChecked\": \"2020-05-30T00:00:00Z\", \"fips\": 6.0, \"positiveIncrease\": 3705.0, \"negativeIncrease\": 52548.0, \"total\": 1944848.0, \"totalTestResults\": 1944848.0, \"totalTestResultsIncrease\": 56253.0, \"posNeg\": 1944848.0, \"deathIncrease\": 57.0, \"hospitalizedIncrease\": 0.0, \"hash\": \"25930aae94bca981314f143bc2d983415554c041\", \"commercialScore\": 0.0, \"negativeRegularScore\": 0.0, \"negativeScore\": 0.0, \"positiveScore\": 0.0, \"score\": 0.0, \"grade\": null}, {\"State\": \"CA\", \"Date\": \"06-01-2020\", \"Confirmed\": 114733.0, \"Deaths\": 4217.0, \"Recovered\": 0.0, \"Confirmed_New\": 2782.0, \"Deaths_New\": 45.0, \"Recovered_New\": 0.0, \"Active\": 110516.0, \"positive\": 113006.0, \"negative\": 1899577.0, \"pending\": null, \"Hospitalized\": 4258.0, \"hospitalizedCumulative\": null, \"inIcuCurrently\": 1273.0, \"inIcuCumulative\": null, \"onVentilatorCurrently\": null, \"onVentilatorCumulative\": null, \"recovered\": null, \"dataQualityGrade\": \"B\", \"lastUpdateEt\": \"6/1/2020 00:00\", \"dateModified\": \"2020-06-01T00:00:00Z\", \"checkTimeEt\": \"05/31 20:00\", \"death\": 4251.0, \"hospitalized\": null, \"dateChecked\": \"2020-06-01T00:00:00Z\", \"fips\": 6.0, \"positiveIncrease\": 2423.0, \"negativeIncrease\": 65312.0, \"total\": 2012583.0, \"totalTestResults\": 2012583.0, \"totalTestResultsIncrease\": 67735.0, \"posNeg\": 2012583.0, \"deathIncrease\": 38.0, \"hospitalizedIncrease\": 0.0, \"hash\": \"ccc38c3a84cfedc4cb1a73c898449694576ad064\", \"commercialScore\": 0.0, \"negativeRegularScore\": 0.0, \"negativeScore\": 0.0, \"positiveScore\": 0.0, \"score\": 0.0, \"grade\": null}, {\"State\": \"CA\", \"Date\": \"06-02-2020\", \"Confirmed\": 117215.0, \"Deaths\": 4305.0, \"Recovered\": 0.0, \"Confirmed_New\": 2482.0, \"Deaths_New\": 88.0, \"Recovered_New\": 0.0, \"Active\": 112910.0, \"positive\": 115310.0, \"negative\": 1956281.0, \"pending\": null, \"Hospitalized\": 4393.0, \"hospitalizedCumulative\": null, \"inIcuCurrently\": 1286.0, \"inIcuCumulative\": null, \"onVentilatorCurrently\": null, \"onVentilatorCumulative\": null, \"recovered\": null, \"dataQualityGrade\": \"B\", \"lastUpdateEt\": \"6/2/2020 00:00\", \"dateModified\": \"2020-06-02T00:00:00Z\", \"checkTimeEt\": \"06/01 20:00\", \"death\": 4286.0, \"hospitalized\": null, \"dateChecked\": \"2020-06-02T00:00:00Z\", \"fips\": 6.0, \"positiveIncrease\": 2304.0, \"negativeIncrease\": 56704.0, \"total\": 2071591.0, \"totalTestResults\": 2071591.0, \"totalTestResultsIncrease\": 59008.0, \"posNeg\": 2071591.0, \"deathIncrease\": 35.0, \"hospitalizedIncrease\": 0.0, \"hash\": \"9c03c1926787907836d6c35b13c8e44c97dc26b7\", \"commercialScore\": 0.0, \"negativeRegularScore\": 0.0, \"negativeScore\": 0.0, \"positiveScore\": 0.0, \"score\": 0.0, \"grade\": null}, {\"State\": \"CA\", \"Date\": \"06-03-2020\", \"Confirmed\": 119348.0, \"Deaths\": 4374.0, \"Recovered\": 0.0, \"Confirmed_New\": 2133.0, \"Deaths_New\": 69.0, \"Recovered_New\": 0.0, \"Active\": 114974.0, \"positive\": 117687.0, \"negative\": 2013607.0, \"pending\": null, \"Hospitalized\": 4458.0, \"hospitalizedCumulative\": null, \"inIcuCurrently\": 1313.0, \"inIcuCumulative\": null, \"onVentilatorCurrently\": null, \"onVentilatorCumulative\": null, \"recovered\": null, \"dataQualityGrade\": \"B\", \"lastUpdateEt\": \"6/3/2020 00:00\", \"dateModified\": \"2020-06-03T00:00:00Z\", \"checkTimeEt\": \"06/02 20:00\", \"death\": 4361.0, \"hospitalized\": null, \"dateChecked\": \"2020-06-03T00:00:00Z\", \"fips\": 6.0, \"positiveIncrease\": 2377.0, \"negativeIncrease\": 57326.0, \"total\": 2131294.0, \"totalTestResults\": 2131294.0, \"totalTestResultsIncrease\": 59703.0, \"posNeg\": 2131294.0, \"deathIncrease\": 75.0, \"hospitalizedIncrease\": 0.0, \"hash\": \"27bb1920194da60006264244f20db326bb070f3c\", \"commercialScore\": 0.0, \"negativeRegularScore\": 0.0, \"negativeScore\": 0.0, \"positiveScore\": 0.0, \"score\": 0.0, \"grade\": null}, {\"State\": \"CA\", \"Date\": \"06-04-2020\", \"Confirmed\": 122168.0, \"Deaths\": 4444.0, \"Recovered\": 0.0, \"Confirmed_New\": 2820.0, \"Deaths_New\": 70.0, \"Recovered_New\": 0.0, \"Active\": 117724.0, \"positive\": 119807.0, \"negative\": 2062864.0, \"pending\": null, \"Hospitalized\": 4455.0, \"hospitalizedCumulative\": null, \"inIcuCurrently\": 1279.0, \"inIcuCumulative\": null, \"onVentilatorCurrently\": null, \"onVentilatorCumulative\": null, \"recovered\": null, \"dataQualityGrade\": \"B\", \"lastUpdateEt\": \"6/4/2020 00:00\", \"dateModified\": \"2020-06-04T00:00:00Z\", \"checkTimeEt\": \"06/03 20:00\", \"death\": 4422.0, \"hospitalized\": null, \"dateChecked\": \"2020-06-04T00:00:00Z\", \"fips\": 6.0, \"positiveIncrease\": 2120.0, \"negativeIncrease\": 49257.0, \"total\": 2182671.0, \"totalTestResults\": 2182671.0, \"totalTestResultsIncrease\": 51377.0, \"posNeg\": 2182671.0, \"deathIncrease\": 61.0, \"hospitalizedIncrease\": 0.0, \"hash\": \"5cdcb7fa39f76830e92844746fce7dd6fa72c3e2\", \"commercialScore\": 0.0, \"negativeRegularScore\": 0.0, \"negativeScore\": 0.0, \"positiveScore\": 0.0, \"score\": 0.0, \"grade\": null}]}}, {\"mode\": \"vega-lite\"});\n",
       "</script>"
      ],
      "text/plain": [
       "alt.LayerChart(...)"
      ]
     },
     "execution_count": 10,
     "metadata": {},
     "output_type": "execute_result"
    }
   ],
   "source": [
    "state = alt.Chart(data[data['State'] == 'CA'].sort_values('Date').tail(7)).mark_line().encode(\n",
    "    x='Date:T',\n",
    "    y='Hospitalized:Q'\n",
    ")\n",
    "reg = state.transform_regression(\"Date\", \"Hospitalized\", method=\"poly\").mark_line(color='red', strokeDash=[6,3])\n",
    "(state+reg).interactive()"
   ]
  },
  {
   "cell_type": "code",
   "execution_count": 11,
   "metadata": {},
   "outputs": [
    {
     "data": {
      "text/html": [
       "\n",
       "<div id=\"altair-viz-93aaf8c19a9446bbbcde64fb3e83e93e\"></div>\n",
       "<script type=\"text/javascript\">\n",
       "  (function(spec, embedOpt){\n",
       "    const outputDiv = document.getElementById(\"altair-viz-93aaf8c19a9446bbbcde64fb3e83e93e\");\n",
       "    const paths = {\n",
       "      \"vega\": \"https://cdn.jsdelivr.net/npm//vega@5?noext\",\n",
       "      \"vega-lib\": \"https://cdn.jsdelivr.net/npm//vega-lib?noext\",\n",
       "      \"vega-lite\": \"https://cdn.jsdelivr.net/npm//vega-lite@4.0.2?noext\",\n",
       "      \"vega-embed\": \"https://cdn.jsdelivr.net/npm//vega-embed@6?noext\",\n",
       "    };\n",
       "\n",
       "    function loadScript(lib) {\n",
       "      return new Promise(function(resolve, reject) {\n",
       "        var s = document.createElement('script');\n",
       "        s.src = paths[lib];\n",
       "        s.async = true;\n",
       "        s.onload = () => resolve(paths[lib]);\n",
       "        s.onerror = () => reject(`Error loading script: ${paths[lib]}`);\n",
       "        document.getElementsByTagName(\"head\")[0].appendChild(s);\n",
       "      });\n",
       "    }\n",
       "\n",
       "    function showError(err) {\n",
       "      outputDiv.innerHTML = `<div class=\"error\" style=\"color:red;\">${err}</div>`;\n",
       "      throw err;\n",
       "    }\n",
       "\n",
       "    function displayChart(vegaEmbed) {\n",
       "      vegaEmbed(outputDiv, spec, embedOpt)\n",
       "        .catch(err => showError(`Javascript Error: ${err.message}<br>This usually means there's a typo in your chart specification. See the javascript console for the full traceback.`));\n",
       "    }\n",
       "\n",
       "    if(typeof define === \"function\" && define.amd) {\n",
       "      requirejs.config({paths});\n",
       "      require([\"vega-embed\"], displayChart, err => showError(`Error loading script: ${err.message}`));\n",
       "    } else if (typeof vegaEmbed === \"function\") {\n",
       "      displayChart(vegaEmbed);\n",
       "    } else {\n",
       "      loadScript(\"vega\")\n",
       "        .then(() => loadScript(\"vega-lite\"))\n",
       "        .then(() => loadScript(\"vega-embed\"))\n",
       "        .catch(showError)\n",
       "        .then(() => displayChart(vegaEmbed));\n",
       "    }\n",
       "  })({\"config\": {\"view\": {\"continuousWidth\": 400, \"continuousHeight\": 300}}, \"layer\": [{\"data\": {\"name\": \"data-6ba576a528782668fe3861abf62ff66d\"}, \"mark\": {\"type\": \"rect\", \"opacity\": 0.3}, \"encoding\": {\"color\": {\"type\": \"nominal\", \"field\": \"Phase\"}, \"x\": {\"type\": \"temporal\", \"field\": \"start\"}, \"x2\": {\"field\": \"end\"}}, \"selection\": {\"selector009\": {\"type\": \"interval\", \"bind\": \"scales\", \"encodings\": [\"x\", \"y\"]}}}, {\"data\": {\"name\": \"data-b6038691df869140cced1fd1bc3b0acb\"}, \"mark\": \"line\", \"encoding\": {\"x\": {\"type\": \"temporal\", \"axis\": {\"title\": \"Date\"}, \"field\": \"Date\"}, \"y\": {\"type\": \"quantitative\", \"axis\": {\"title\": \"New Cases\"}, \"field\": \"Confirmed_New\"}}}, {\"data\": {\"name\": \"data-b6038691df869140cced1fd1bc3b0acb\"}, \"mark\": {\"type\": \"line\", \"color\": \"grey\", \"strokeDash\": [6, 3]}, \"encoding\": {\"x\": {\"type\": \"temporal\", \"axis\": {\"title\": \"Date\"}, \"field\": \"Date\"}, \"y\": {\"type\": \"quantitative\", \"axis\": {\"title\": \"New Cases\"}, \"field\": \"Confirmed_New\"}}, \"transform\": [{\"on\": \"Date\", \"regression\": \"Confirmed_New\", \"method\": \"linear\"}]}], \"height\": 500, \"width\": 800, \"$schema\": \"https://vega.github.io/schema/vega-lite/v4.0.2.json\", \"datasets\": {\"data-6ba576a528782668fe3861abf62ff66d\": [{\"Phase\": \"1\", \"start\": \"03-25-2020\", \"end\": \"04-14-2020\"}, {\"Phase\": \"2\", \"start\": \"04-14-2020\", \"end\": \"05-03-2020\"}, {\"Phase\": \"3\", \"start\": \"05-03-2020\", \"end\": \"05-17-2020\"}, {\"Phase\": \"4\", \"start\": \"05-17-2020\", \"end\": \"05-31-2020\"}], \"data-b6038691df869140cced1fd1bc3b0acb\": [{\"Country\": \"India\", \"Date\": \"01-30-2020\", \"Confirmed\": 1.0, \"Deaths\": 0.0, \"Recovered\": 0.0, \"Confirmed_New\": 0.0, \"Deaths_New\": 0.0, \"Recovered_New\": 0.0, \"Active\": 1.0}, {\"Country\": \"India\", \"Date\": \"01-31-2020\", \"Confirmed\": 1.0, \"Deaths\": 0.0, \"Recovered\": 0.0, \"Confirmed_New\": 0.0, \"Deaths_New\": 0.0, \"Recovered_New\": 0.0, \"Active\": 1.0}, {\"Country\": \"India\", \"Date\": \"02-01-2020\", \"Confirmed\": 2.0, \"Deaths\": 0.0, \"Recovered\": 0.0, \"Confirmed_New\": 1.0, \"Deaths_New\": 0.0, \"Recovered_New\": 0.0, \"Active\": 2.0}, {\"Country\": \"India\", \"Date\": \"02-02-2020\", \"Confirmed\": 3.0, \"Deaths\": 0.0, \"Recovered\": 0.0, \"Confirmed_New\": 1.0, \"Deaths_New\": 0.0, \"Recovered_New\": 0.0, \"Active\": 3.0}, {\"Country\": \"India\", \"Date\": \"02-03-2020\", \"Confirmed\": 3.0, \"Deaths\": 0.0, \"Recovered\": 0.0, \"Confirmed_New\": 0.0, \"Deaths_New\": 0.0, \"Recovered_New\": 0.0, \"Active\": 3.0}, {\"Country\": \"India\", \"Date\": \"02-04-2020\", \"Confirmed\": 3.0, \"Deaths\": 0.0, \"Recovered\": 0.0, \"Confirmed_New\": 0.0, \"Deaths_New\": 0.0, \"Recovered_New\": 0.0, \"Active\": 3.0}, {\"Country\": \"India\", \"Date\": \"02-05-2020\", \"Confirmed\": 3.0, \"Deaths\": 0.0, \"Recovered\": 0.0, \"Confirmed_New\": 0.0, \"Deaths_New\": 0.0, \"Recovered_New\": 0.0, \"Active\": 3.0}, {\"Country\": \"India\", \"Date\": \"02-06-2020\", \"Confirmed\": 3.0, \"Deaths\": 0.0, \"Recovered\": 0.0, \"Confirmed_New\": 0.0, \"Deaths_New\": 0.0, \"Recovered_New\": 0.0, \"Active\": 3.0}, {\"Country\": \"India\", \"Date\": \"02-07-2020\", \"Confirmed\": 3.0, \"Deaths\": 0.0, \"Recovered\": 0.0, \"Confirmed_New\": 0.0, \"Deaths_New\": 0.0, \"Recovered_New\": 0.0, \"Active\": 3.0}, {\"Country\": \"India\", \"Date\": \"02-08-2020\", \"Confirmed\": 3.0, \"Deaths\": 0.0, \"Recovered\": 0.0, \"Confirmed_New\": 0.0, \"Deaths_New\": 0.0, \"Recovered_New\": 0.0, \"Active\": 3.0}, {\"Country\": \"India\", \"Date\": \"02-09-2020\", \"Confirmed\": 3.0, \"Deaths\": 0.0, \"Recovered\": 0.0, \"Confirmed_New\": 0.0, \"Deaths_New\": 0.0, \"Recovered_New\": 0.0, \"Active\": 3.0}, {\"Country\": \"India\", \"Date\": \"02-10-2020\", \"Confirmed\": 3.0, \"Deaths\": 0.0, \"Recovered\": 0.0, \"Confirmed_New\": 0.0, \"Deaths_New\": 0.0, \"Recovered_New\": 0.0, \"Active\": 3.0}, {\"Country\": \"India\", \"Date\": \"02-11-2020\", \"Confirmed\": 3.0, \"Deaths\": 0.0, \"Recovered\": 0.0, \"Confirmed_New\": 0.0, \"Deaths_New\": 0.0, \"Recovered_New\": 0.0, \"Active\": 3.0}, {\"Country\": \"India\", \"Date\": \"02-12-2020\", \"Confirmed\": 3.0, \"Deaths\": 0.0, \"Recovered\": 0.0, \"Confirmed_New\": 0.0, \"Deaths_New\": 0.0, \"Recovered_New\": 0.0, \"Active\": 3.0}, {\"Country\": \"India\", \"Date\": \"02-13-2020\", \"Confirmed\": 3.0, \"Deaths\": 0.0, \"Recovered\": 0.0, \"Confirmed_New\": 0.0, \"Deaths_New\": 0.0, \"Recovered_New\": 0.0, \"Active\": 3.0}, {\"Country\": \"India\", \"Date\": \"02-14-2020\", \"Confirmed\": 3.0, \"Deaths\": 0.0, \"Recovered\": 0.0, \"Confirmed_New\": 0.0, \"Deaths_New\": 0.0, \"Recovered_New\": 0.0, \"Active\": 3.0}, {\"Country\": \"India\", \"Date\": \"02-15-2020\", \"Confirmed\": 3.0, \"Deaths\": 0.0, \"Recovered\": 0.0, \"Confirmed_New\": 0.0, \"Deaths_New\": 0.0, \"Recovered_New\": 0.0, \"Active\": 3.0}, {\"Country\": \"India\", \"Date\": \"02-16-2020\", \"Confirmed\": 3.0, \"Deaths\": 0.0, \"Recovered\": 0.0, \"Confirmed_New\": 0.0, \"Deaths_New\": 0.0, \"Recovered_New\": 0.0, \"Active\": 3.0}, {\"Country\": \"India\", \"Date\": \"02-17-2020\", \"Confirmed\": 3.0, \"Deaths\": 0.0, \"Recovered\": 0.0, \"Confirmed_New\": 0.0, \"Deaths_New\": 0.0, \"Recovered_New\": 0.0, \"Active\": 3.0}, {\"Country\": \"India\", \"Date\": \"02-18-2020\", \"Confirmed\": 3.0, \"Deaths\": 0.0, \"Recovered\": 0.0, \"Confirmed_New\": 0.0, \"Deaths_New\": 0.0, \"Recovered_New\": 0.0, \"Active\": 3.0}, {\"Country\": \"India\", \"Date\": \"02-19-2020\", \"Confirmed\": 3.0, \"Deaths\": 0.0, \"Recovered\": 0.0, \"Confirmed_New\": 0.0, \"Deaths_New\": 0.0, \"Recovered_New\": 0.0, \"Active\": 3.0}, {\"Country\": \"India\", \"Date\": \"02-20-2020\", \"Confirmed\": 3.0, \"Deaths\": 0.0, \"Recovered\": 0.0, \"Confirmed_New\": 0.0, \"Deaths_New\": 0.0, \"Recovered_New\": 0.0, \"Active\": 3.0}, {\"Country\": \"India\", \"Date\": \"02-21-2020\", \"Confirmed\": 3.0, \"Deaths\": 0.0, \"Recovered\": 0.0, \"Confirmed_New\": 0.0, \"Deaths_New\": 0.0, \"Recovered_New\": 0.0, \"Active\": 3.0}, {\"Country\": \"India\", \"Date\": \"02-22-2020\", \"Confirmed\": 3.0, \"Deaths\": 0.0, \"Recovered\": 0.0, \"Confirmed_New\": 0.0, \"Deaths_New\": 0.0, \"Recovered_New\": 0.0, \"Active\": 3.0}, {\"Country\": \"India\", \"Date\": \"02-23-2020\", \"Confirmed\": 3.0, \"Deaths\": 0.0, \"Recovered\": 0.0, \"Confirmed_New\": 0.0, \"Deaths_New\": 0.0, \"Recovered_New\": 0.0, \"Active\": 3.0}, {\"Country\": \"India\", \"Date\": \"02-24-2020\", \"Confirmed\": 3.0, \"Deaths\": 0.0, \"Recovered\": 0.0, \"Confirmed_New\": 0.0, \"Deaths_New\": 0.0, \"Recovered_New\": 0.0, \"Active\": 3.0}, {\"Country\": \"India\", \"Date\": \"02-25-2020\", \"Confirmed\": 3.0, \"Deaths\": 0.0, \"Recovered\": 0.0, \"Confirmed_New\": 0.0, \"Deaths_New\": 0.0, \"Recovered_New\": 0.0, \"Active\": 3.0}, {\"Country\": \"India\", \"Date\": \"02-26-2020\", \"Confirmed\": 3.0, \"Deaths\": 0.0, \"Recovered\": 0.0, \"Confirmed_New\": 0.0, \"Deaths_New\": 0.0, \"Recovered_New\": 0.0, \"Active\": 3.0}, {\"Country\": \"India\", \"Date\": \"02-27-2020\", \"Confirmed\": 3.0, \"Deaths\": 0.0, \"Recovered\": 0.0, \"Confirmed_New\": 0.0, \"Deaths_New\": 0.0, \"Recovered_New\": 0.0, \"Active\": 3.0}, {\"Country\": \"India\", \"Date\": \"02-28-2020\", \"Confirmed\": 3.0, \"Deaths\": 0.0, \"Recovered\": 0.0, \"Confirmed_New\": 0.0, \"Deaths_New\": 0.0, \"Recovered_New\": 0.0, \"Active\": 3.0}, {\"Country\": \"India\", \"Date\": \"02-29-2020\", \"Confirmed\": 3.0, \"Deaths\": 0.0, \"Recovered\": 0.0, \"Confirmed_New\": 0.0, \"Deaths_New\": 0.0, \"Recovered_New\": 0.0, \"Active\": 3.0}, {\"Country\": \"India\", \"Date\": \"03-01-2020\", \"Confirmed\": 3.0, \"Deaths\": 0.0, \"Recovered\": 0.0, \"Confirmed_New\": 0.0, \"Deaths_New\": 0.0, \"Recovered_New\": 0.0, \"Active\": 3.0}, {\"Country\": \"India\", \"Date\": \"03-02-2020\", \"Confirmed\": 5.0, \"Deaths\": 0.0, \"Recovered\": 0.0, \"Confirmed_New\": 0.0, \"Deaths_New\": 0.0, \"Recovered_New\": 0.0, \"Active\": 5.0}, {\"Country\": \"India\", \"Date\": \"03-03-2020\", \"Confirmed\": 6.0, \"Deaths\": 0.0, \"Recovered\": 3.0, \"Confirmed_New\": 0.0, \"Deaths_New\": 0.0, \"Recovered_New\": 3.0, \"Active\": 3.0}, {\"Country\": \"India\", \"Date\": \"03-04-2020\", \"Confirmed\": 28.0, \"Deaths\": 0.0, \"Recovered\": 3.0, \"Confirmed_New\": 14.0, \"Deaths_New\": 0.0, \"Recovered_New\": 0.0, \"Active\": 25.0}, {\"Country\": \"India\", \"Date\": \"03-05-2020\", \"Confirmed\": 30.0, \"Deaths\": 0.0, \"Recovered\": 3.0, \"Confirmed_New\": 2.0, \"Deaths_New\": 0.0, \"Recovered_New\": 0.0, \"Active\": 27.0}, {\"Country\": \"India\", \"Date\": \"03-06-2020\", \"Confirmed\": 31.0, \"Deaths\": 0.0, \"Recovered\": 3.0, \"Confirmed_New\": 1.0, \"Deaths_New\": 0.0, \"Recovered_New\": 0.0, \"Active\": 28.0}, {\"Country\": \"India\", \"Date\": \"03-07-2020\", \"Confirmed\": 34.0, \"Deaths\": 0.0, \"Recovered\": 3.0, \"Confirmed_New\": 0.0, \"Deaths_New\": 0.0, \"Recovered_New\": 0.0, \"Active\": 31.0}, {\"Country\": \"India\", \"Date\": \"03-08-2020\", \"Confirmed\": 39.0, \"Deaths\": 0.0, \"Recovered\": 3.0, \"Confirmed_New\": 5.0, \"Deaths_New\": 0.0, \"Recovered_New\": 0.0, \"Active\": 36.0}, {\"Country\": \"India\", \"Date\": \"03-09-2020\", \"Confirmed\": 46.0, \"Deaths\": 0.0, \"Recovered\": 3.0, \"Confirmed_New\": 2.0, \"Deaths_New\": 0.0, \"Recovered_New\": 0.0, \"Active\": 43.0}, {\"Country\": \"India\", \"Date\": \"03-10-2020\", \"Confirmed\": 58.0, \"Deaths\": 0.0, \"Recovered\": 3.0, \"Confirmed_New\": 12.0, \"Deaths_New\": 0.0, \"Recovered_New\": 0.0, \"Active\": 55.0}, {\"Country\": \"India\", \"Date\": \"03-11-2020\", \"Confirmed\": 60.0, \"Deaths\": 0.0, \"Recovered\": 3.0, \"Confirmed_New\": 2.0, \"Deaths_New\": 0.0, \"Recovered_New\": 0.0, \"Active\": 57.0}, {\"Country\": \"India\", \"Date\": \"03-12-2020\", \"Confirmed\": 74.0, \"Deaths\": 0.0, \"Recovered\": 3.0, \"Confirmed_New\": 13.0, \"Deaths_New\": 0.0, \"Recovered_New\": 0.0, \"Active\": 71.0}, {\"Country\": \"India\", \"Date\": \"03-13-2020\", \"Confirmed\": 81.0, \"Deaths\": 1.0, \"Recovered\": 3.0, \"Confirmed_New\": 7.0, \"Deaths_New\": 1.0, \"Recovered_New\": 0.0, \"Active\": 77.0}, {\"Country\": \"India\", \"Date\": \"03-14-2020\", \"Confirmed\": 84.0, \"Deaths\": 2.0, \"Recovered\": 10.0, \"Confirmed_New\": 3.0, \"Deaths_New\": 1.0, \"Recovered_New\": 7.0, \"Active\": 72.0}, {\"Country\": \"India\", \"Date\": \"03-15-2020\", \"Confirmed\": 110.0, \"Deaths\": 2.0, \"Recovered\": 13.0, \"Confirmed_New\": 25.0, \"Deaths_New\": 0.0, \"Recovered_New\": 3.0, \"Active\": 95.0}, {\"Country\": \"India\", \"Date\": \"03-16-2020\", \"Confirmed\": 114.0, \"Deaths\": 2.0, \"Recovered\": 13.0, \"Confirmed_New\": 3.0, \"Deaths_New\": 0.0, \"Recovered_New\": 0.0, \"Active\": 99.0}, {\"Country\": \"India\", \"Date\": \"03-17-2020\", \"Confirmed\": 137.0, \"Deaths\": 3.0, \"Recovered\": 14.0, \"Confirmed_New\": 23.0, \"Deaths_New\": 1.0, \"Recovered_New\": 1.0, \"Active\": 120.0}, {\"Country\": \"India\", \"Date\": \"03-18-2020\", \"Confirmed\": 151.0, \"Deaths\": 3.0, \"Recovered\": 14.0, \"Confirmed_New\": 12.0, \"Deaths_New\": 0.0, \"Recovered_New\": 0.0, \"Active\": 134.0}, {\"Country\": \"India\", \"Date\": \"03-19-2020\", \"Confirmed\": 173.0, \"Deaths\": 4.0, \"Recovered\": 20.0, \"Confirmed_New\": 20.0, \"Deaths_New\": 1.0, \"Recovered_New\": 6.0, \"Active\": 149.0}, {\"Country\": \"India\", \"Date\": \"03-20-2020\", \"Confirmed\": 223.0, \"Deaths\": 4.0, \"Recovered\": 23.0, \"Confirmed_New\": 45.0, \"Deaths_New\": 0.0, \"Recovered_New\": 3.0, \"Active\": 196.0}, {\"Country\": \"India\", \"Date\": \"03-21-2020\", \"Confirmed\": 283.0, \"Deaths\": 4.0, \"Recovered\": 23.0, \"Confirmed_New\": 54.0, \"Deaths_New\": 0.0, \"Recovered_New\": 0.0, \"Active\": 256.0}, {\"Country\": \"India\", \"Date\": \"03-22-2020\", \"Confirmed\": 360.0, \"Deaths\": 7.0, \"Recovered\": 24.0, \"Confirmed_New\": 75.0, \"Deaths_New\": 2.0, \"Recovered_New\": 1.0, \"Active\": 329.0}, {\"Country\": \"India\", \"Date\": \"03-23-2020\", \"Confirmed\": 433.0, \"Deaths\": 7.0, \"Recovered\": 24.0, \"Confirmed_New\": 73.0, \"Deaths_New\": 0.0, \"Recovered_New\": 0.0, \"Active\": 402.0}, {\"Country\": \"India\", \"Date\": \"03-24-2020\", \"Confirmed\": 519.0, \"Deaths\": 9.0, \"Recovered\": 40.0, \"Confirmed_New\": 85.0, \"Deaths_New\": 2.0, \"Recovered_New\": 16.0, \"Active\": 470.0}, {\"Country\": \"India\", \"Date\": \"03-25-2020\", \"Confirmed\": 606.0, \"Deaths\": 10.0, \"Recovered\": 43.0, \"Confirmed_New\": 86.0, \"Deaths_New\": 1.0, \"Recovered_New\": 3.0, \"Active\": 553.0}, {\"Country\": \"India\", \"Date\": \"03-26-2020\", \"Confirmed\": 694.0, \"Deaths\": 15.0, \"Recovered\": 45.0, \"Confirmed_New\": 84.0, \"Deaths_New\": 5.0, \"Recovered_New\": 2.0, \"Active\": 634.0}, {\"Country\": \"India\", \"Date\": \"03-27-2020\", \"Confirmed\": 724.0, \"Deaths\": 17.0, \"Recovered\": 67.0, \"Confirmed_New\": 30.0, \"Deaths_New\": 2.0, \"Recovered_New\": 22.0, \"Active\": 640.0}, {\"Country\": \"India\", \"Date\": \"03-28-2020\", \"Confirmed\": 909.0, \"Deaths\": 19.0, \"Recovered\": 80.0, \"Confirmed_New\": 185.0, \"Deaths_New\": 2.0, \"Recovered_New\": 13.0, \"Active\": 810.0}, {\"Country\": \"India\", \"Date\": \"03-29-2020\", \"Confirmed\": 1024.0, \"Deaths\": 27.0, \"Recovered\": 96.0, \"Confirmed_New\": 115.0, \"Deaths_New\": 8.0, \"Recovered_New\": 16.0, \"Active\": 901.0}, {\"Country\": \"India\", \"Date\": \"03-30-2020\", \"Confirmed\": 1251.0, \"Deaths\": 31.0, \"Recovered\": 102.0, \"Confirmed_New\": 181.0, \"Deaths_New\": 4.0, \"Recovered_New\": 6.0, \"Active\": 1118.0}, {\"Country\": \"India\", \"Date\": \"03-31-2020\", \"Confirmed\": 1397.0, \"Deaths\": 35.0, \"Recovered\": 124.0, \"Confirmed_New\": 146.0, \"Deaths_New\": 4.0, \"Recovered_New\": 22.0, \"Active\": 1238.0}, {\"Country\": \"India\", \"Date\": \"04-01-2020\", \"Confirmed\": 1834.0, \"Deaths\": 41.0, \"Recovered\": 144.0, \"Confirmed_New\": 473.0, \"Deaths_New\": 6.0, \"Recovered_New\": 20.0, \"Active\": 1649.0}, {\"Country\": \"India\", \"Date\": \"04-02-2020\", \"Confirmed\": 2069.0, \"Deaths\": 53.0, \"Recovered\": 156.0, \"Confirmed_New\": 235.0, \"Deaths_New\": 12.0, \"Recovered_New\": 12.0, \"Active\": 1860.0}, {\"Country\": \"India\", \"Date\": \"04-03-2020\", \"Confirmed\": 2547.0, \"Deaths\": 62.0, \"Recovered\": 163.0, \"Confirmed_New\": 439.0, \"Deaths_New\": 9.0, \"Recovered_New\": 7.0, \"Active\": 2322.0}, {\"Country\": \"India\", \"Date\": \"04-04-2020\", \"Confirmed\": 3072.0, \"Deaths\": 75.0, \"Recovered\": 213.0, \"Confirmed_New\": 602.0, \"Deaths_New\": 13.0, \"Recovered_New\": 50.0, \"Active\": 2784.0}, {\"Country\": \"India\", \"Date\": \"04-05-2020\", \"Confirmed\": 3577.0, \"Deaths\": 83.0, \"Recovered\": 275.0, \"Confirmed_New\": 505.0, \"Deaths_New\": 8.0, \"Recovered_New\": 62.0, \"Active\": 3219.0}, {\"Country\": \"India\", \"Date\": \"04-06-2020\", \"Confirmed\": 4281.0, \"Deaths\": 111.0, \"Recovered\": 319.0, \"Confirmed_New\": 704.0, \"Deaths_New\": 28.0, \"Recovered_New\": 44.0, \"Active\": 3851.0}, {\"Country\": \"India\", \"Date\": \"04-07-2020\", \"Confirmed\": 4789.0, \"Deaths\": 124.0, \"Recovered\": 353.0, \"Confirmed_New\": 507.0, \"Deaths_New\": 13.0, \"Recovered_New\": 34.0, \"Active\": 4312.0}, {\"Country\": \"India\", \"Date\": \"04-08-2020\", \"Confirmed\": 5274.0, \"Deaths\": 149.0, \"Recovered\": 411.0, \"Confirmed_New\": 485.0, \"Deaths_New\": 25.0, \"Recovered_New\": 58.0, \"Active\": 4714.0}, {\"Country\": \"India\", \"Date\": \"04-09-2020\", \"Confirmed\": 5865.0, \"Deaths\": 169.0, \"Recovered\": 478.0, \"Confirmed_New\": 591.0, \"Deaths_New\": 20.0, \"Recovered_New\": 67.0, \"Active\": 5218.0}, {\"Country\": \"India\", \"Date\": \"04-10-2020\", \"Confirmed\": 6761.0, \"Deaths\": 206.0, \"Recovered\": 516.0, \"Confirmed_New\": 896.0, \"Deaths_New\": 37.0, \"Recovered_New\": 38.0, \"Active\": 6039.0}, {\"Country\": \"India\", \"Date\": \"04-11-2020\", \"Confirmed\": 7529.0, \"Deaths\": 242.0, \"Recovered\": 653.0, \"Confirmed_New\": 768.0, \"Deaths_New\": 36.0, \"Recovered_New\": 137.0, \"Active\": 6634.0}, {\"Country\": \"India\", \"Date\": \"04-12-2020\", \"Confirmed\": 8447.0, \"Deaths\": 273.0, \"Recovered\": 765.0, \"Confirmed_New\": 918.0, \"Deaths_New\": 31.0, \"Recovered_New\": 112.0, \"Active\": 7409.0}, {\"Country\": \"India\", \"Date\": \"04-13-2020\", \"Confirmed\": 9352.0, \"Deaths\": 324.0, \"Recovered\": 980.0, \"Confirmed_New\": 904.0, \"Deaths_New\": 51.0, \"Recovered_New\": 215.0, \"Active\": 8048.0}, {\"Country\": \"India\", \"Date\": \"04-14-2020\", \"Confirmed\": 10815.0, \"Deaths\": 353.0, \"Recovered\": 1190.0, \"Confirmed_New\": 1462.0, \"Deaths_New\": 29.0, \"Recovered_New\": 210.0, \"Active\": 9272.0}, {\"Country\": \"India\", \"Date\": \"04-15-2020\", \"Confirmed\": 11933.0, \"Deaths\": 392.0, \"Recovered\": 1344.0, \"Confirmed_New\": 1118.0, \"Deaths_New\": 39.0, \"Recovered_New\": 154.0, \"Active\": 10197.0}, {\"Country\": \"India\", \"Date\": \"04-16-2020\", \"Confirmed\": 12759.0, \"Deaths\": 420.0, \"Recovered\": 1515.0, \"Confirmed_New\": 826.0, \"Deaths_New\": 28.0, \"Recovered_New\": 171.0, \"Active\": 10824.0}, {\"Country\": \"India\", \"Date\": \"04-17-2020\", \"Confirmed\": 13835.0, \"Deaths\": 452.0, \"Recovered\": 1767.0, \"Confirmed_New\": 1076.0, \"Deaths_New\": 32.0, \"Recovered_New\": 252.0, \"Active\": 11616.0}, {\"Country\": \"India\", \"Date\": \"04-18-2020\", \"Confirmed\": 14792.0, \"Deaths\": 488.0, \"Recovered\": 2015.0, \"Confirmed_New\": 957.0, \"Deaths_New\": 36.0, \"Recovered_New\": 248.0, \"Active\": 12289.0}, {\"Country\": \"India\", \"Date\": \"04-19-2020\", \"Confirmed\": 16116.0, \"Deaths\": 519.0, \"Recovered\": 2302.0, \"Confirmed_New\": 1324.0, \"Deaths_New\": 31.0, \"Recovered_New\": 287.0, \"Active\": 13295.0}, {\"Country\": \"India\", \"Date\": \"04-20-2020\", \"Confirmed\": 17656.0, \"Deaths\": 559.0, \"Recovered\": 2842.0, \"Confirmed_New\": 1540.0, \"Deaths_New\": 40.0, \"Recovered_New\": 540.0, \"Active\": 14255.0}, {\"Country\": \"India\", \"Date\": \"04-21-2020\", \"Confirmed\": 18985.0, \"Deaths\": 603.0, \"Recovered\": 3260.0, \"Confirmed_New\": 1329.0, \"Deaths_New\": 44.0, \"Recovered_New\": 418.0, \"Active\": 15122.0}, {\"Country\": \"India\", \"Date\": \"04-22-2020\", \"Confirmed\": 20471.0, \"Deaths\": 652.0, \"Recovered\": 3960.0, \"Confirmed_New\": 1486.0, \"Deaths_New\": 49.0, \"Recovered_New\": 700.0, \"Active\": 15859.0}, {\"Country\": \"India\", \"Date\": \"04-23-2020\", \"Confirmed\": 21700.0, \"Deaths\": 686.0, \"Recovered\": 4325.0, \"Confirmed_New\": 1229.0, \"Deaths_New\": 34.0, \"Recovered_New\": 365.0, \"Active\": 16689.0}, {\"Country\": \"India\", \"Date\": \"04-24-2020\", \"Confirmed\": 23452.0, \"Deaths\": 723.0, \"Recovered\": 4814.0, \"Confirmed_New\": 1752.0, \"Deaths_New\": 37.0, \"Recovered_New\": 489.0, \"Active\": 17915.0}, {\"Country\": \"India\", \"Date\": \"04-25-2020\", \"Confirmed\": 24893.0, \"Deaths\": 779.0, \"Recovered\": 5210.0, \"Confirmed_New\": 1441.0, \"Deaths_New\": 56.0, \"Recovered_New\": 396.0, \"Active\": 18904.0}, {\"Country\": \"India\", \"Date\": \"04-26-2020\", \"Confirmed\": 26605.0, \"Deaths\": 826.0, \"Recovered\": 5914.0, \"Confirmed_New\": 1712.0, \"Deaths_New\": 47.0, \"Recovered_New\": 704.0, \"Active\": 19865.0}, {\"Country\": \"India\", \"Date\": \"04-27-2020\", \"Confirmed\": 28160.0, \"Deaths\": 886.0, \"Recovered\": 6362.0, \"Confirmed_New\": 1555.0, \"Deaths_New\": 60.0, \"Recovered_New\": 448.0, \"Active\": 20912.0}, {\"Country\": \"India\", \"Date\": \"04-28-2020\", \"Confirmed\": 29834.0, \"Deaths\": 937.0, \"Recovered\": 7027.0, \"Confirmed_New\": 1674.0, \"Deaths_New\": 51.0, \"Recovered_New\": 665.0, \"Active\": 21870.0}, {\"Country\": \"India\", \"Date\": \"04-29-2020\", \"Confirmed\": 31709.0, \"Deaths\": 1008.0, \"Recovered\": 7797.0, \"Confirmed_New\": 1875.0, \"Deaths_New\": 71.0, \"Recovered_New\": 770.0, \"Active\": 22904.0}, {\"Country\": \"India\", \"Date\": \"04-30-2020\", \"Confirmed\": 33330.0, \"Deaths\": 1075.0, \"Recovered\": 8373.0, \"Confirmed_New\": 1621.0, \"Deaths_New\": 67.0, \"Recovered_New\": 576.0, \"Active\": 23882.0}, {\"Country\": \"India\", \"Date\": \"05-01-2020\", \"Confirmed\": 34972.0, \"Deaths\": 1152.0, \"Recovered\": 9065.0, \"Confirmed_New\": 1642.0, \"Deaths_New\": 77.0, \"Recovered_New\": 692.0, \"Active\": 24755.0}, {\"Country\": \"India\", \"Date\": \"05-02-2020\", \"Confirmed\": 37157.0, \"Deaths\": 1218.0, \"Recovered\": 9951.0, \"Confirmed_New\": 2185.0, \"Deaths_New\": 66.0, \"Recovered_New\": 886.0, \"Active\": 25988.0}, {\"Country\": \"India\", \"Date\": \"05-03-2020\", \"Confirmed\": 40124.0, \"Deaths\": 1306.0, \"Recovered\": 10887.0, \"Confirmed_New\": 2967.0, \"Deaths_New\": 88.0, \"Recovered_New\": 936.0, \"Active\": 27931.0}, {\"Country\": \"India\", \"Date\": \"05-04-2020\", \"Confirmed\": 42836.0, \"Deaths\": 1389.0, \"Recovered\": 11762.0, \"Confirmed_New\": 2712.0, \"Deaths_New\": 83.0, \"Recovered_New\": 875.0, \"Active\": 29685.0}, {\"Country\": \"India\", \"Date\": \"05-05-2020\", \"Confirmed\": 46711.0, \"Deaths\": 1583.0, \"Recovered\": 13161.0, \"Confirmed_New\": 3875.0, \"Deaths_New\": 194.0, \"Recovered_New\": 1399.0, \"Active\": 31967.0}, {\"Country\": \"India\", \"Date\": \"05-06-2020\", \"Confirmed\": 49391.0, \"Deaths\": 1694.0, \"Recovered\": 14183.0, \"Confirmed_New\": 2679.0, \"Deaths_New\": 111.0, \"Recovered_New\": 1022.0, \"Active\": 33514.0}, {\"Country\": \"India\", \"Date\": \"05-07-2020\", \"Confirmed\": 52952.0, \"Deaths\": 1783.0, \"Recovered\": 15267.0, \"Confirmed_New\": 3561.0, \"Deaths_New\": 89.0, \"Recovered_New\": 1084.0, \"Active\": 35902.0}, {\"Country\": \"India\", \"Date\": \"05-08-2020\", \"Confirmed\": 56342.0, \"Deaths\": 1886.0, \"Recovered\": 16540.0, \"Confirmed_New\": 3390.0, \"Deaths_New\": 103.0, \"Recovered_New\": 1273.0, \"Active\": 37916.0}, {\"Country\": \"India\", \"Date\": \"05-09-2020\", \"Confirmed\": 59662.0, \"Deaths\": 1981.0, \"Recovered\": 17847.0, \"Confirmed_New\": 3320.0, \"Deaths_New\": 95.0, \"Recovered_New\": 1307.0, \"Active\": 39834.0}, {\"Country\": \"India\", \"Date\": \"05-10-2020\", \"Confirmed\": 62939.0, \"Deaths\": 2109.0, \"Recovered\": 19358.0, \"Confirmed_New\": 3277.0, \"Deaths_New\": 128.0, \"Recovered_New\": 1511.0, \"Active\": 41472.0}, {\"Country\": \"India\", \"Date\": \"05-11-2020\", \"Confirmed\": 67152.0, \"Deaths\": 2206.0, \"Recovered\": 20917.0, \"Confirmed_New\": 4213.0, \"Deaths_New\": 97.0, \"Recovered_New\": 1559.0, \"Active\": 44029.0}, {\"Country\": \"India\", \"Date\": \"05-12-2020\", \"Confirmed\": 70756.0, \"Deaths\": 2293.0, \"Recovered\": 22455.0, \"Confirmed_New\": 3604.0, \"Deaths_New\": 87.0, \"Recovered_New\": 1538.0, \"Active\": 46008.0}, {\"Country\": \"India\", \"Date\": \"05-13-2020\", \"Confirmed\": 74281.0, \"Deaths\": 2415.0, \"Recovered\": 24386.0, \"Confirmed_New\": 3525.0, \"Deaths_New\": 122.0, \"Recovered_New\": 1931.0, \"Active\": 47480.0}, {\"Country\": \"India\", \"Date\": \"05-14-2020\", \"Confirmed\": 78003.0, \"Deaths\": 2549.0, \"Recovered\": 26235.0, \"Confirmed_New\": 3722.0, \"Deaths_New\": 134.0, \"Recovered_New\": 1849.0, \"Active\": 49219.0}, {\"Country\": \"India\", \"Date\": \"05-15-2020\", \"Confirmed\": 81970.0, \"Deaths\": 2649.0, \"Recovered\": 27920.0, \"Confirmed_New\": 3967.0, \"Deaths_New\": 100.0, \"Recovered_New\": 1685.0, \"Active\": 51401.0}, {\"Country\": \"India\", \"Date\": \"05-16-2020\", \"Confirmed\": 85710.0, \"Deaths\": 2752.0, \"Recovered\": 30153.0, \"Confirmed_New\": 3740.0, \"Deaths_New\": 103.0, \"Recovered_New\": 2233.0, \"Active\": 52805.0}, {\"Country\": \"India\", \"Date\": \"05-17-2020\", \"Confirmed\": 90637.0, \"Deaths\": 2872.0, \"Recovered\": 34109.0, \"Confirmed_New\": 4927.0, \"Deaths_New\": 120.0, \"Recovered_New\": 3956.0, \"Active\": 53656.0}, {\"Country\": \"India\", \"Date\": \"05-18-2020\", \"Confirmed\": 95759.0, \"Deaths\": 3029.0, \"Recovered\": 36824.0, \"Confirmed_New\": 5122.0, \"Deaths_New\": 157.0, \"Recovered_New\": 2715.0, \"Active\": 55906.0}, {\"Country\": \"India\", \"Date\": \"05-19-2020\", \"Confirmed\": 100325.0, \"Deaths\": 3163.0, \"Recovered\": 39174.0, \"Confirmed_New\": 4566.0, \"Deaths_New\": 134.0, \"Recovered_New\": 2350.0, \"Active\": 57988.0}, {\"Country\": \"India\", \"Date\": \"05-20-2020\", \"Confirmed\": 106750.0, \"Deaths\": 3303.0, \"Recovered\": 42298.0, \"Confirmed_New\": 5329.0, \"Deaths_New\": 140.0, \"Recovered_New\": 3124.0, \"Active\": 61149.0}, {\"Country\": \"India\", \"Date\": \"05-21-2020\", \"Confirmed\": 112359.0, \"Deaths\": 3435.0, \"Recovered\": 45300.0, \"Confirmed_New\": 5609.0, \"Deaths_New\": 132.0, \"Recovered_New\": 3002.0, \"Active\": 63624.0}, {\"Country\": \"India\", \"Date\": \"05-22-2020\", \"Confirmed\": 118447.0, \"Deaths\": 3583.0, \"Recovered\": 48534.0, \"Confirmed_New\": 6088.0, \"Deaths_New\": 148.0, \"Recovered_New\": 3234.0, \"Active\": 66330.0}, {\"Country\": \"India\", \"Date\": \"05-23-2020\", \"Confirmed\": 125101.0, \"Deaths\": 3720.0, \"Recovered\": 51784.0, \"Confirmed_New\": 6654.0, \"Deaths_New\": 137.0, \"Recovered_New\": 3250.0, \"Active\": 69597.0}, {\"Country\": \"India\", \"Date\": \"05-24-2020\", \"Confirmed\": 131868.0, \"Deaths\": 3867.0, \"Recovered\": 54441.0, \"Confirmed_New\": 6766.0, \"Deaths_New\": 147.0, \"Recovered_New\": 2657.0, \"Active\": 73560.0}, {\"Country\": \"India\", \"Date\": \"05-25-2020\", \"Confirmed\": 138845.0, \"Deaths\": 4021.0, \"Recovered\": 57721.0, \"Confirmed_New\": 6977.0, \"Deaths_New\": 154.0, \"Recovered_New\": 3280.0, \"Active\": 77103.0}, {\"Country\": \"India\", \"Date\": \"05-26-2020\", \"Confirmed\": 145380.0, \"Deaths\": 4167.0, \"Recovered\": 60491.0, \"Confirmed_New\": 6535.0, \"Deaths_New\": 146.0, \"Recovered_New\": 2770.0, \"Active\": 80722.0}, {\"Country\": \"India\", \"Date\": \"05-27-2020\", \"Confirmed\": 151767.0, \"Deaths\": 4337.0, \"Recovered\": 64426.0, \"Confirmed_New\": 6387.0, \"Deaths_New\": 170.0, \"Recovered_New\": 3935.0, \"Active\": 83004.0}, {\"Country\": \"India\", \"Date\": \"05-28-2020\", \"Confirmed\": 158333.0, \"Deaths\": 4531.0, \"Recovered\": 67692.0, \"Confirmed_New\": 6566.0, \"Deaths_New\": 194.0, \"Recovered_New\": 3266.0, \"Active\": 86110.0}, {\"Country\": \"India\", \"Date\": \"05-29-2020\", \"Confirmed\": 165799.0, \"Deaths\": 4706.0, \"Recovered\": 71106.0, \"Confirmed_New\": 7466.0, \"Deaths_New\": 175.0, \"Recovered_New\": 3414.0, \"Active\": 89987.0}, {\"Country\": \"India\", \"Date\": \"05-30-2020\", \"Confirmed\": 173763.0, \"Deaths\": 4971.0, \"Recovered\": 82370.0, \"Confirmed_New\": 7964.0, \"Deaths_New\": 265.0, \"Recovered_New\": 11264.0, \"Active\": 86422.0}, {\"Country\": \"India\", \"Date\": \"05-31-2020\", \"Confirmed\": 182143.0, \"Deaths\": 5164.0, \"Recovered\": 86984.0, \"Confirmed_New\": 8380.0, \"Deaths_New\": 193.0, \"Recovered_New\": 4614.0, \"Active\": 89995.0}, {\"Country\": \"India\", \"Date\": \"06-01-2020\", \"Confirmed\": 190535.0, \"Deaths\": 5394.0, \"Recovered\": 91819.0, \"Confirmed_New\": 8392.0, \"Deaths_New\": 230.0, \"Recovered_New\": 4835.0, \"Active\": 93322.0}, {\"Country\": \"India\", \"Date\": \"06-02-2020\", \"Confirmed\": 198706.0, \"Deaths\": 5598.0, \"Recovered\": 95527.0, \"Confirmed_New\": 8171.0, \"Deaths_New\": 204.0, \"Recovered_New\": 3708.0, \"Active\": 97581.0}, {\"Country\": \"India\", \"Date\": \"06-03-2020\", \"Confirmed\": 207615.0, \"Deaths\": 5815.0, \"Recovered\": 100303.0, \"Confirmed_New\": 8909.0, \"Deaths_New\": 217.0, \"Recovered_New\": 4776.0, \"Active\": 101497.0}, {\"Country\": \"India\", \"Date\": \"06-04-2020\", \"Confirmed\": 216919.0, \"Deaths\": 6075.0, \"Recovered\": 104107.0, \"Confirmed_New\": 9304.0, \"Deaths_New\": 260.0, \"Recovered_New\": 3804.0, \"Active\": 106737.0}]}}, {\"mode\": \"vega-lite\"});\n",
       "</script>"
      ],
      "text/plain": [
       "alt.LayerChart(...)"
      ]
     },
     "execution_count": 11,
     "metadata": {},
     "output_type": "execute_result"
    }
   ],
   "source": [
    "data = country_level\n",
    "state = alt.Chart(data[(data['Country'] == 'India')]).mark_line().encode(\n",
    "    alt.X('Date:T', axis=alt.Axis(title='Date')),\n",
    "    alt.Y('Confirmed_New:Q', axis=alt.Axis(title='New Cases'))\n",
    ")\n",
    "reg = state.transform_regression(\"Date\", \"Confirmed_New\", method=\"linear\").mark_line(color='grey', strokeDash=[6,3])\n",
    "\n",
    "marks = pd.DataFrame([\n",
    "    {\"Phase\": \"1\", \"start\": \"03-25-2020\", \"end\": \"04-14-2020\"},\n",
    "    {\"Phase\": \"2\", \"start\": \"04-14-2020\", \"end\": \"05-03-2020\"},\n",
    "    {\"Phase\": \"3\", \"start\": \"05-03-2020\", \"end\": \"05-17-2020\"},\n",
    "    {\"Phase\": \"4\", \"start\": \"05-17-2020\", \"end\": \"05-31-2020\"},\n",
    "])\n",
    "rect = alt.Chart(marks).mark_rect(opacity=0.3).encode(x='start:T', x2='end:T', color='Phase:N')\n",
    "\n",
    "(rect+state+reg).properties(\n",
    "    width=800,\n",
    "    height=500\n",
    ").interactive()"
   ]
  },
  {
   "cell_type": "code",
   "execution_count": null,
   "metadata": {},
   "outputs": [],
   "source": []
  }
 ],
 "metadata": {
  "kernelspec": {
   "display_name": "Python 3",
   "language": "python",
   "name": "python3"
  },
  "language_info": {
   "codemirror_mode": {
    "name": "ipython",
    "version": 3
   },
   "file_extension": ".py",
   "mimetype": "text/x-python",
   "name": "python",
   "nbconvert_exporter": "python",
   "pygments_lexer": "ipython3",
   "version": "3.7.6"
  }
 },
 "nbformat": 4,
 "nbformat_minor": 4
}
