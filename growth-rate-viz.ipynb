{
 "cells": [
  {
   "cell_type": "markdown",
   "metadata": {},
   "source": [
    "# Slope Comparisons"
   ]
  },
  {
   "cell_type": "code",
   "execution_count": 15,
   "metadata": {},
   "outputs": [],
   "source": [
    "import pandas as pd\n",
    "import numpy as np\n",
    "import altair as alt\n",
    "from scipy import stats\n",
    "from altair import datum\n",
    "from ipywidgets import interact\n",
    "\n",
    "# Set up some global config and variables\n",
    "alt.renderers.enable('default')\n",
    "pd.options.mode.chained_assignment = None\n",
    "np.seterr(all='ignore')\n",
    "\n",
    "df = pd.read_csv('jhu-daily-reports.csv')\n",
    "df['Active']  = df.Confirmed - (df.Deaths + df.Recovered)\n",
    "samples = df[['Date', 'Country']].groupby('Date').Country.nunique()\n",
    "days = samples[samples > 1].index.tolist()\n",
    "df = df[df['Date'].isin(days)]\n",
    "\n",
    "country_level = df.groupby(['Country', 'Date'], as_index=False).sum()\n",
    "def state_data(country):\n",
    "    return df[df['Country'] == country].groupby(['State', 'Date'], as_index=False).sum()\n",
    "def county_data(state):\n",
    "    return df[(df['Country'] == 'US') & (df['State'] == state)].groupby(['County', 'Date'], as_index=False).sum()\n"
   ]
  },
  {
   "cell_type": "code",
   "execution_count": 16,
   "metadata": {},
   "outputs": [],
   "source": [
    "def slope_chart(data, by, offset, xscale='linear', limit=400, scale=1, value='Confirmed_New', window=7, today=days[-1]):\n",
    "    data = data[data['Date']<=today]\n",
    "    source = data[data['Date'] == today]\n",
    "    for var in source[by].unique():\n",
    "        values = data[data[by] == var].sort_values('Date').tail(window)[['Confirmed', value]]\n",
    "        slope, intercept, r_value, p_value, std_err = stats.linregress(values.Confirmed, values[value])\n",
    "        source.loc[source[by] == var, 'Slope'] = slope\n",
    "    source.fillna(0, inplace=True)\n",
    "    source = source[source[value] > limit]\n",
    "\n",
    "    title = 'Slope of %s in last %d days since %s vs. Total Confirmed' % (' '.join(value.split('_')), window, today)\n",
    "    base = alt.Chart(source, title=title).mark_point(filled=True, stroke='grey').encode(\n",
    "        alt.X('Confirmed:Q', scale=alt.Scale(type=xscale), axis=alt.Axis(offset=offset)),\n",
    "        y='Slope:Q',\n",
    "        color=alt.Color(by+':N', scale=alt.Scale(scheme='category20'), legend=alt.Legend(columns=2, clipHeight=20, padding=10)),\n",
    "        size=alt.Size(value+':Q', scale=alt.Scale(domain=[source.Confirmed_New.min(), source.Confirmed_New.max()], range=[100*scale, 3000*scale])),\n",
    "        tooltip=[by, 'Confirmed', 'Slope', value]\n",
    "    )\n",
    "    text = base.mark_text().encode(\n",
    "        text=by+':N',\n",
    "        size=alt.value(12),\n",
    "        color=alt.value('black')\n",
    "    ).transform_filter(datum[value] > limit*2)\n",
    "    regression = base.transform_regression('Confirmed', 'Slope', method=\"poly\", order=1).mark_line(strokeDash=[6,8]).encode(color=alt.value('grey'), size=alt.value(2))\n",
    "    hline = alt.Chart().mark_rule(color='red', strokeDash=[6,3]).encode(y='a:Q').transform_calculate(a=\"0\")\n",
    "\n",
    "    return (base+text+regression+hline) if offset == 0 else (base+text+regression)"
   ]
  },
  {
   "cell_type": "markdown",
   "metadata": {},
   "source": [
    "# Country Level"
   ]
  },
  {
   "cell_type": "code",
   "execution_count": 17,
   "metadata": {},
   "outputs": [
    {
     "data": {
      "text/html": [
       "\n",
       "<div id=\"altair-viz-3630d5f9ecfe4faba30564d7dbfc7c18\"></div>\n",
       "<script type=\"text/javascript\">\n",
       "  (function(spec, embedOpt){\n",
       "    const outputDiv = document.getElementById(\"altair-viz-3630d5f9ecfe4faba30564d7dbfc7c18\");\n",
       "    const paths = {\n",
       "      \"vega\": \"https://cdn.jsdelivr.net/npm//vega@5?noext\",\n",
       "      \"vega-lib\": \"https://cdn.jsdelivr.net/npm//vega-lib?noext\",\n",
       "      \"vega-lite\": \"https://cdn.jsdelivr.net/npm//vega-lite@4.0.2?noext\",\n",
       "      \"vega-embed\": \"https://cdn.jsdelivr.net/npm//vega-embed@6?noext\",\n",
       "    };\n",
       "\n",
       "    function loadScript(lib) {\n",
       "      return new Promise(function(resolve, reject) {\n",
       "        var s = document.createElement('script');\n",
       "        s.src = paths[lib];\n",
       "        s.async = true;\n",
       "        s.onload = () => resolve(paths[lib]);\n",
       "        s.onerror = () => reject(`Error loading script: ${paths[lib]}`);\n",
       "        document.getElementsByTagName(\"head\")[0].appendChild(s);\n",
       "      });\n",
       "    }\n",
       "\n",
       "    function showError(err) {\n",
       "      outputDiv.innerHTML = `<div class=\"error\" style=\"color:red;\">${err}</div>`;\n",
       "      throw err;\n",
       "    }\n",
       "\n",
       "    function displayChart(vegaEmbed) {\n",
       "      vegaEmbed(outputDiv, spec, embedOpt)\n",
       "        .catch(err => showError(`Javascript Error: ${err.message}<br>This usually means there's a typo in your chart specification. See the javascript console for the full traceback.`));\n",
       "    }\n",
       "\n",
       "    if(typeof define === \"function\" && define.amd) {\n",
       "      requirejs.config({paths});\n",
       "      require([\"vega-embed\"], displayChart, err => showError(`Error loading script: ${err.message}`));\n",
       "    } else if (typeof vegaEmbed === \"function\") {\n",
       "      displayChart(vegaEmbed);\n",
       "    } else {\n",
       "      loadScript(\"vega\")\n",
       "        .then(() => loadScript(\"vega-lite\"))\n",
       "        .then(() => loadScript(\"vega-embed\"))\n",
       "        .catch(showError)\n",
       "        .then(() => displayChart(vegaEmbed));\n",
       "    }\n",
       "  })({\"config\": {\"view\": {\"continuousWidth\": 400, \"continuousHeight\": 300}}, \"layer\": [{\"mark\": {\"type\": \"point\", \"filled\": true, \"stroke\": \"grey\"}, \"encoding\": {\"color\": {\"type\": \"nominal\", \"field\": \"Country\", \"legend\": {\"clipHeight\": 20, \"columns\": 2, \"padding\": 10}, \"scale\": {\"scheme\": \"category20\"}}, \"size\": {\"type\": \"quantitative\", \"field\": \"Confirmed_New\", \"scale\": {\"domain\": [404.0, 25294.0], \"range\": [500, 15000]}}, \"tooltip\": [{\"type\": \"nominal\", \"field\": \"Country\"}, {\"type\": \"quantitative\", \"field\": \"Confirmed\"}, {\"type\": \"quantitative\", \"field\": \"Slope\"}, {\"type\": \"quantitative\", \"field\": \"Confirmed_New\"}], \"x\": {\"type\": \"quantitative\", \"axis\": {\"offset\": 0}, \"field\": \"Confirmed\", \"scale\": {\"type\": \"log\"}}, \"y\": {\"type\": \"quantitative\", \"field\": \"Slope\"}}, \"selection\": {\"selector054\": {\"type\": \"interval\", \"bind\": \"scales\", \"encodings\": [\"x\", \"y\"]}}, \"title\": \"Slope of Confirmed New in last 7 days since 05-21-2020 vs. Total Confirmed\"}, {\"mark\": \"text\", \"encoding\": {\"color\": {\"value\": \"black\"}, \"size\": {\"value\": 12}, \"text\": {\"type\": \"nominal\", \"field\": \"Country\"}, \"tooltip\": [{\"type\": \"nominal\", \"field\": \"Country\"}, {\"type\": \"quantitative\", \"field\": \"Confirmed\"}, {\"type\": \"quantitative\", \"field\": \"Slope\"}, {\"type\": \"quantitative\", \"field\": \"Confirmed_New\"}], \"x\": {\"type\": \"quantitative\", \"axis\": {\"offset\": 0}, \"field\": \"Confirmed\", \"scale\": {\"type\": \"log\"}}, \"y\": {\"type\": \"quantitative\", \"field\": \"Slope\"}}, \"title\": \"Slope of Confirmed New in last 7 days since 05-21-2020 vs. Total Confirmed\", \"transform\": [{\"filter\": \"(datum['Confirmed_New'] > 800)\"}]}, {\"mark\": {\"type\": \"line\", \"strokeDash\": [6, 8]}, \"encoding\": {\"color\": {\"value\": \"grey\"}, \"size\": {\"value\": 2}, \"tooltip\": [{\"type\": \"nominal\", \"field\": \"Country\"}, {\"type\": \"quantitative\", \"field\": \"Confirmed\"}, {\"type\": \"quantitative\", \"field\": \"Slope\"}, {\"type\": \"quantitative\", \"field\": \"Confirmed_New\"}], \"x\": {\"type\": \"quantitative\", \"axis\": {\"offset\": 0}, \"field\": \"Confirmed\", \"scale\": {\"type\": \"log\"}}, \"y\": {\"type\": \"quantitative\", \"field\": \"Slope\"}}, \"title\": \"Slope of Confirmed New in last 7 days since 05-21-2020 vs. Total Confirmed\", \"transform\": [{\"on\": \"Confirmed\", \"regression\": \"Slope\", \"method\": \"poly\", \"order\": 1}]}, {\"mark\": {\"type\": \"rule\", \"color\": \"red\", \"strokeDash\": [6, 3]}, \"encoding\": {\"y\": {\"type\": \"quantitative\", \"field\": \"a\"}}, \"transform\": [{\"calculate\": \"0\", \"as\": \"a\"}]}], \"data\": {\"name\": \"data-25a5d3445a846b657a95d244b789a8d4\"}, \"height\": 800, \"width\": 1200, \"$schema\": \"https://vega.github.io/schema/vega-lite/v4.0.2.json\", \"datasets\": {\"data-25a5d3445a846b657a95d244b789a8d4\": [{\"Country\": \"Afghanistan\", \"Date\": \"05-21-2020\", \"Confirmed\": 8676.0, \"Deaths\": 193.0, \"Recovered\": 938.0, \"Confirmed_New\": 531.0, \"Deaths_New\": 6.0, \"Recovered_New\": 8.0, \"Active\": 7545.0, \"Slope\": 0.08164247703885681}, {\"Country\": \"Argentina\", \"Date\": \"05-21-2020\", \"Confirmed\": 9931.0, \"Deaths\": 416.0, \"Recovered\": 3032.0, \"Confirmed_New\": 648.0, \"Deaths_New\": 13.0, \"Recovered_New\": 99.0, \"Active\": 6483.0, \"Slope\": 0.13492028286143912}, {\"Country\": \"Bangladesh\", \"Date\": \"05-21-2020\", \"Confirmed\": 28511.0, \"Deaths\": 408.0, \"Recovered\": 5602.0, \"Confirmed_New\": 1773.0, \"Deaths_New\": 22.0, \"Recovered_New\": 395.0, \"Active\": 22501.0, \"Slope\": 0.07924012332549031}, {\"Country\": \"Belarus\", \"Date\": \"05-21-2020\", \"Confirmed\": 33371.0, \"Deaths\": 185.0, \"Recovered\": 12057.0, \"Confirmed_New\": 945.0, \"Deaths_New\": 6.0, \"Recovered_New\": 642.0, \"Active\": 21129.0, \"Slope\": -0.005235384600102607}, {\"Country\": \"Brazil\", \"Date\": \"05-21-2020\", \"Confirmed\": 310087.0, \"Deaths\": 20047.0, \"Recovered\": 125960.0, \"Confirmed_New\": 18508.0, \"Deaths_New\": 1188.0, \"Recovered_New\": 9277.0, \"Active\": 164080.0, \"Slope\": -0.025968246404114204}, {\"Country\": \"Cameroon\", \"Date\": \"05-21-2020\", \"Confirmed\": 4288.0, \"Deaths\": 156.0, \"Recovered\": 1808.0, \"Confirmed_New\": 555.0, \"Deaths_New\": 10.0, \"Recovered_New\": 213.0, \"Active\": 2324.0, \"Slope\": 0.40032327572743276}, {\"Country\": \"Canada\", \"Date\": \"05-21-2020\", \"Confirmed\": 82742.0, \"Deaths\": 6267.0, \"Recovered\": 41731.0, \"Confirmed_New\": 1167.0, \"Deaths_New\": 117.0, \"Recovered_New\": 938.0, \"Active\": 34744.0, \"Slope\": -0.012920367173820056}, {\"Country\": \"Chile\", \"Date\": \"05-21-2020\", \"Confirmed\": 57581.0, \"Deaths\": 589.0, \"Recovered\": 23992.0, \"Confirmed_New\": 3964.0, \"Deaths_New\": 45.0, \"Recovered_New\": 1488.0, \"Active\": 33000.0, \"Slope\": 0.023271352572951202}, {\"Country\": \"Colombia\", \"Date\": \"05-21-2020\", \"Confirmed\": 18330.0, \"Deaths\": 652.0, \"Recovered\": 4431.0, \"Confirmed_New\": 643.0, \"Deaths_New\": 22.0, \"Recovered_New\": 175.0, \"Active\": 13247.0, \"Slope\": 0.009629536700756504}, {\"Country\": \"Ecuador\", \"Date\": \"05-21-2020\", \"Confirmed\": 35306.0, \"Deaths\": 2939.0, \"Recovered\": 3557.0, \"Confirmed_New\": 452.0, \"Deaths_New\": 51.0, \"Recovered_New\": 0.0, \"Active\": 28810.0, \"Slope\": -0.14018278042021162}, {\"Country\": \"Egypt\", \"Date\": \"05-21-2020\", \"Confirmed\": 15003.0, \"Deaths\": 696.0, \"Recovered\": 4217.0, \"Confirmed_New\": 774.0, \"Deaths_New\": 16.0, \"Recovered_New\": 223.0, \"Active\": 10090.0, \"Slope\": 0.10420486013511146}, {\"Country\": \"Germany\", \"Date\": \"05-21-2020\", \"Confirmed\": 179021.0, \"Deaths\": 8203.0, \"Recovered\": 158087.0, \"Confirmed_New\": 548.0, \"Deaths_New\": 59.0, \"Recovered_New\": 1121.0, \"Active\": 12731.0, \"Slope\": 0.042699128322480434}, {\"Country\": \"India\", \"Date\": \"05-21-2020\", \"Confirmed\": 112359.0, \"Deaths\": 3435.0, \"Recovered\": 45300.0, \"Confirmed_New\": 5609.0, \"Deaths_New\": 132.0, \"Recovered_New\": 3002.0, \"Active\": 63624.0, \"Slope\": 0.05431446825542864}, {\"Country\": \"Indonesia\", \"Date\": \"05-21-2020\", \"Confirmed\": 20162.0, \"Deaths\": 1278.0, \"Recovered\": 4838.0, \"Confirmed_New\": 973.0, \"Deaths_New\": 36.0, \"Recovered_New\": 263.0, \"Active\": 14046.0, \"Slope\": 0.11930983815825487}, {\"Country\": \"Iran\", \"Date\": \"05-21-2020\", \"Confirmed\": 129341.0, \"Deaths\": 7249.0, \"Recovered\": 100564.0, \"Confirmed_New\": 2392.0, \"Deaths_New\": 66.0, \"Recovered_New\": 1756.0, \"Active\": 21528.0, \"Slope\": 0.04058140182008145}, {\"Country\": \"Italy\", \"Date\": \"05-21-2020\", \"Confirmed\": 228006.0, \"Deaths\": 32486.0, \"Recovered\": 134560.0, \"Confirmed_New\": 642.0, \"Deaths_New\": 156.0, \"Recovered_New\": 2278.0, \"Active\": 60960.0, \"Slope\": -0.03522136356673056}, {\"Country\": \"Kuwait\", \"Date\": \"05-21-2020\", \"Confirmed\": 18609.0, \"Deaths\": 129.0, \"Recovered\": 5205.0, \"Confirmed_New\": 1041.0, \"Deaths_New\": 5.0, \"Recovered_New\": 320.0, \"Active\": 13275.0, \"Slope\": 0.009459155001824683}, {\"Country\": \"Mexico\", \"Date\": \"05-21-2020\", \"Confirmed\": 59567.0, \"Deaths\": 6510.0, \"Recovered\": 40152.0, \"Confirmed_New\": 2973.0, \"Deaths_New\": 420.0, \"Recovered_New\": 1733.0, \"Active\": 12905.0, \"Slope\": -0.024743216301781883}, {\"Country\": \"Pakistan\", \"Date\": \"05-21-2020\", \"Confirmed\": 48091.0, \"Deaths\": 1017.0, \"Recovered\": 14155.0, \"Confirmed_New\": 2193.0, \"Deaths_New\": 32.0, \"Recovered_New\": 1054.0, \"Active\": 32919.0, \"Slope\": 0.07547965508422683}, {\"Country\": \"Peru\", \"Date\": \"05-21-2020\", \"Confirmed\": 108769.0, \"Deaths\": 3148.0, \"Recovered\": 43587.0, \"Confirmed_New\": 4749.0, \"Deaths_New\": 124.0, \"Recovered_New\": 1619.0, \"Active\": 62034.0, \"Slope\": 0.04319581125938997}, {\"Country\": \"Poland\", \"Date\": \"05-21-2020\", \"Confirmed\": 20143.0, \"Deaths\": 972.0, \"Recovered\": 8452.0, \"Confirmed_New\": 404.0, \"Deaths_New\": 10.0, \"Recovered_New\": 269.0, \"Active\": 10719.0, \"Slope\": 0.062201900793050276}, {\"Country\": \"Qatar\", \"Date\": \"05-21-2020\", \"Confirmed\": 38651.0, \"Deaths\": 17.0, \"Recovered\": 7288.0, \"Confirmed_New\": 1554.0, \"Deaths_New\": 1.0, \"Recovered_New\": 688.0, \"Active\": 31346.0, \"Slope\": 0.026034525614362248}, {\"Country\": \"Russia\", \"Date\": \"05-21-2020\", \"Confirmed\": 317554.0, \"Deaths\": 3099.0, \"Recovered\": 92681.0, \"Confirmed_New\": 8849.0, \"Deaths_New\": 127.0, \"Recovered_New\": 7289.0, \"Active\": 221774.0, \"Slope\": -0.025703135341789363}, {\"Country\": \"Saudi Arabia\", \"Date\": \"05-21-2020\", \"Confirmed\": 65077.0, \"Deaths\": 351.0, \"Recovered\": 36040.0, \"Confirmed_New\": 2532.0, \"Deaths_New\": 12.0, \"Recovered_New\": 2562.0, \"Active\": 28686.0, \"Slope\": 0.0024716507363162065}, {\"Country\": \"Singapore\", \"Date\": \"05-21-2020\", \"Confirmed\": 29812.0, \"Deaths\": 23.0, \"Recovered\": 12117.0, \"Confirmed_New\": 448.0, \"Deaths_New\": 1.0, \"Recovered_New\": 910.0, \"Active\": 17672.0, \"Slope\": -0.0729325075215742}, {\"Country\": \"South Africa\", \"Date\": \"05-21-2020\", \"Confirmed\": 19137.0, \"Deaths\": 369.0, \"Recovered\": 8950.0, \"Confirmed_New\": 1134.0, \"Deaths_New\": 30.0, \"Recovered_New\": 0.0, \"Active\": 9818.0, \"Slope\": 0.026370812030060975}, {\"Country\": \"Spain\", \"Date\": \"05-21-2020\", \"Confirmed\": 233037.0, \"Deaths\": 27940.0, \"Recovered\": 150376.0, \"Confirmed_New\": 482.0, \"Deaths_New\": 52.0, \"Recovered_New\": 0.0, \"Active\": 54721.0, \"Slope\": 0.02923888259427381}, {\"Country\": \"Sudan\", \"Date\": \"05-21-2020\", \"Confirmed\": 3138.0, \"Deaths\": 121.0, \"Recovered\": 309.0, \"Confirmed_New\": 410.0, \"Deaths_New\": 10.0, \"Recovered_New\": 23.0, \"Active\": 2708.0, \"Slope\": 0.14709640958473358}, {\"Country\": \"Sweden\", \"Date\": \"05-21-2020\", \"Confirmed\": 32172.0, \"Deaths\": 3871.0, \"Recovered\": 4971.0, \"Confirmed_New\": 649.0, \"Deaths_New\": 40.0, \"Recovered_New\": 0.0, \"Active\": 23330.0, \"Slope\": 0.055894693223352686}, {\"Country\": \"Turkey\", \"Date\": \"05-21-2020\", \"Confirmed\": 153548.0, \"Deaths\": 4249.0, \"Recovered\": 114990.0, \"Confirmed_New\": 961.0, \"Deaths_New\": 27.0, \"Recovered_New\": 1003.0, \"Active\": 34309.0, \"Slope\": -0.1199374754463752}, {\"Country\": \"UK\", \"Date\": \"05-21-2020\", \"Confirmed\": 252246.0, \"Deaths\": 36124.0, \"Recovered\": 1134.0, \"Confirmed_New\": 2627.0, \"Deaths_New\": 338.0, \"Recovered_New\": 18.0, \"Active\": 214988.0, \"Slope\": -0.15313365667822693}, {\"Country\": \"US\", \"Date\": \"05-21-2020\", \"Confirmed\": 1577147.0, \"Deaths\": 94702.0, \"Recovered\": 298418.0, \"Confirmed_New\": 25294.0, \"Deaths_New\": 1263.0, \"Recovered_New\": 4106.0, \"Active\": 1184027.0, \"Slope\": -0.0008584184881019406}, {\"Country\": \"Ukraine\", \"Date\": \"05-21-2020\", \"Confirmed\": 19706.0, \"Deaths\": 579.0, \"Recovered\": 6227.0, \"Confirmed_New\": 476.0, \"Deaths_New\": 15.0, \"Recovered_New\": 272.0, \"Active\": 12900.0, \"Slope\": -0.04891332897289696}, {\"Country\": \"United Arab Emirates\", \"Date\": \"05-21-2020\", \"Confirmed\": 26898.0, \"Deaths\": 237.0, \"Recovered\": 12755.0, \"Confirmed_New\": 894.0, \"Deaths_New\": 4.0, \"Recovered_New\": 946.0, \"Active\": 13906.0, \"Slope\": 0.037106513402090674}]}}, {\"mode\": \"vega-lite\"});\n",
       "</script>"
      ],
      "text/plain": [
       "alt.LayerChart(...)"
      ]
     },
     "execution_count": 17,
     "metadata": {},
     "output_type": "execute_result"
    }
   ],
   "source": [
    "slope_chart(country_level, 'Country', 0, xscale='log', limit=400, scale=5, window=7).properties(\n",
    "    width=1200,\n",
    "    height=800\n",
    ").interactive()"
   ]
  },
  {
   "cell_type": "code",
   "execution_count": 18,
   "metadata": {},
   "outputs": [
    {
     "data": {
      "text/html": [
       "\n",
       "<div id=\"altair-viz-6b46f8f3f310497fb2d76e158eaefd1d\"></div>\n",
       "<script type=\"text/javascript\">\n",
       "  (function(spec, embedOpt){\n",
       "    const outputDiv = document.getElementById(\"altair-viz-6b46f8f3f310497fb2d76e158eaefd1d\");\n",
       "    const paths = {\n",
       "      \"vega\": \"https://cdn.jsdelivr.net/npm//vega@5?noext\",\n",
       "      \"vega-lib\": \"https://cdn.jsdelivr.net/npm//vega-lib?noext\",\n",
       "      \"vega-lite\": \"https://cdn.jsdelivr.net/npm//vega-lite@4.0.2?noext\",\n",
       "      \"vega-embed\": \"https://cdn.jsdelivr.net/npm//vega-embed@6?noext\",\n",
       "    };\n",
       "\n",
       "    function loadScript(lib) {\n",
       "      return new Promise(function(resolve, reject) {\n",
       "        var s = document.createElement('script');\n",
       "        s.src = paths[lib];\n",
       "        s.async = true;\n",
       "        s.onload = () => resolve(paths[lib]);\n",
       "        s.onerror = () => reject(`Error loading script: ${paths[lib]}`);\n",
       "        document.getElementsByTagName(\"head\")[0].appendChild(s);\n",
       "      });\n",
       "    }\n",
       "\n",
       "    function showError(err) {\n",
       "      outputDiv.innerHTML = `<div class=\"error\" style=\"color:red;\">${err}</div>`;\n",
       "      throw err;\n",
       "    }\n",
       "\n",
       "    function displayChart(vegaEmbed) {\n",
       "      vegaEmbed(outputDiv, spec, embedOpt)\n",
       "        .catch(err => showError(`Javascript Error: ${err.message}<br>This usually means there's a typo in your chart specification. See the javascript console for the full traceback.`));\n",
       "    }\n",
       "\n",
       "    if(typeof define === \"function\" && define.amd) {\n",
       "      requirejs.config({paths});\n",
       "      require([\"vega-embed\"], displayChart, err => showError(`Error loading script: ${err.message}`));\n",
       "    } else if (typeof vegaEmbed === \"function\") {\n",
       "      displayChart(vegaEmbed);\n",
       "    } else {\n",
       "      loadScript(\"vega\")\n",
       "        .then(() => loadScript(\"vega-lite\"))\n",
       "        .then(() => loadScript(\"vega-embed\"))\n",
       "        .catch(showError)\n",
       "        .then(() => displayChart(vegaEmbed));\n",
       "    }\n",
       "  })({\"config\": {\"view\": {\"continuousWidth\": 400, \"continuousHeight\": 300}}, \"layer\": [{\"mark\": \"line\", \"encoding\": {\"x\": {\"type\": \"quantitative\", \"axis\": {\"title\": \"Cumulative Cases\"}, \"field\": \"Confirmed\"}, \"y\": {\"type\": \"quantitative\", \"axis\": {\"title\": \"New Cases\"}, \"field\": \"Confirmed_New\"}}, \"selection\": {\"selector055\": {\"type\": \"interval\", \"bind\": \"scales\", \"encodings\": [\"x\", \"y\"]}}}, {\"mark\": {\"type\": \"line\", \"color\": \"red\", \"strokeDash\": [6, 3]}, \"encoding\": {\"x\": {\"type\": \"quantitative\", \"axis\": {\"title\": \"Cumulative Cases\"}, \"field\": \"Confirmed\"}, \"y\": {\"type\": \"quantitative\", \"axis\": {\"title\": \"New Cases\"}, \"field\": \"Confirmed_New\"}}, \"transform\": [{\"on\": \"Confirmed\", \"regression\": \"Confirmed_New\", \"method\": \"linear\"}]}], \"data\": {\"name\": \"data-e4a54b1b7d6e48904af522080e1d65d4\"}, \"$schema\": \"https://vega.github.io/schema/vega-lite/v4.0.2.json\", \"datasets\": {\"data-e4a54b1b7d6e48904af522080e1d65d4\": [{\"Country\": \"US\", \"Date\": \"05-08-2020\", \"Confirmed\": 1283929.0, \"Deaths\": 77180.0, \"Recovered\": 198993.0, \"Confirmed_New\": 26906.0, \"Deaths_New\": 1518.0, \"Recovered_New\": 3957.0, \"Active\": 1007756.0}, {\"Country\": \"US\", \"Date\": \"05-09-2020\", \"Confirmed\": 1309550.0, \"Deaths\": 78795.0, \"Recovered\": 212534.0, \"Confirmed_New\": 25621.0, \"Deaths_New\": 1615.0, \"Recovered_New\": 13541.0, \"Active\": 1018221.0}, {\"Country\": \"US\", \"Date\": \"05-10-2020\", \"Confirmed\": 1329260.0, \"Deaths\": 79526.0, \"Recovered\": 216169.0, \"Confirmed_New\": 19710.0, \"Deaths_New\": 731.0, \"Recovered_New\": 3635.0, \"Active\": 1033565.0}, {\"Country\": \"US\", \"Date\": \"05-11-2020\", \"Confirmed\": 1347881.0, \"Deaths\": 80682.0, \"Recovered\": 232733.0, \"Confirmed_New\": 18621.0, \"Deaths_New\": 1156.0, \"Recovered_New\": 16564.0, \"Active\": 1034466.0}, {\"Country\": \"US\", \"Date\": \"05-12-2020\", \"Confirmed\": 1369574.0, \"Deaths\": 82376.0, \"Recovered\": 230287.0, \"Confirmed_New\": 21693.0, \"Deaths_New\": 1694.0, \"Recovered_New\": -2446.0, \"Active\": 1056911.0}, {\"Country\": \"US\", \"Date\": \"05-13-2020\", \"Confirmed\": 1390406.0, \"Deaths\": 84119.0, \"Recovered\": 243430.0, \"Confirmed_New\": 20833.0, \"Deaths_New\": 1743.0, \"Recovered_New\": 13143.0, \"Active\": 1062857.0}, {\"Country\": \"US\", \"Date\": \"05-14-2020\", \"Confirmed\": 1417774.0, \"Deaths\": 85898.0, \"Recovered\": 246414.0, \"Confirmed_New\": 27368.0, \"Deaths_New\": 1779.0, \"Recovered_New\": 2984.0, \"Active\": 1085462.0}, {\"Country\": \"US\", \"Date\": \"05-15-2020\", \"Confirmed\": 1442824.0, \"Deaths\": 87530.0, \"Recovered\": 250747.0, \"Confirmed_New\": 25050.0, \"Deaths_New\": 1632.0, \"Recovered_New\": 4333.0, \"Active\": 1104547.0}, {\"Country\": \"US\", \"Date\": \"05-16-2020\", \"Confirmed\": 1467820.0, \"Deaths\": 88754.0, \"Recovered\": 268376.0, \"Confirmed_New\": 24997.0, \"Deaths_New\": 1224.0, \"Recovered_New\": 17629.0, \"Active\": 1110690.0}, {\"Country\": \"US\", \"Date\": \"05-17-2020\", \"Confirmed\": 1486757.0, \"Deaths\": 89562.0, \"Recovered\": 272265.0, \"Confirmed_New\": 18937.0, \"Deaths_New\": 808.0, \"Recovered_New\": 3889.0, \"Active\": 1124930.0}, {\"Country\": \"US\", \"Date\": \"05-18-2020\", \"Confirmed\": 1508308.0, \"Deaths\": 90347.0, \"Recovered\": 283178.0, \"Confirmed_New\": 21552.0, \"Deaths_New\": 785.0, \"Recovered_New\": 10913.0, \"Active\": 1134783.0}, {\"Country\": \"US\", \"Date\": \"05-19-2020\", \"Confirmed\": 1528568.0, \"Deaths\": 91921.0, \"Recovered\": 289392.0, \"Confirmed_New\": 20260.0, \"Deaths_New\": 1574.0, \"Recovered_New\": 6214.0, \"Active\": 1147255.0}, {\"Country\": \"US\", \"Date\": \"05-20-2020\", \"Confirmed\": 1551853.0, \"Deaths\": 93439.0, \"Recovered\": 294312.0, \"Confirmed_New\": 23285.0, \"Deaths_New\": 1518.0, \"Recovered_New\": 4920.0, \"Active\": 1164102.0}, {\"Country\": \"US\", \"Date\": \"05-21-2020\", \"Confirmed\": 1577147.0, \"Deaths\": 94702.0, \"Recovered\": 298418.0, \"Confirmed_New\": 25294.0, \"Deaths_New\": 1263.0, \"Recovered_New\": 4106.0, \"Active\": 1184027.0}]}}, {\"mode\": \"vega-lite\"});\n",
       "</script>"
      ],
      "text/plain": [
       "alt.LayerChart(...)"
      ]
     },
     "execution_count": 18,
     "metadata": {},
     "output_type": "execute_result"
    }
   ],
   "source": [
    "data = country_level\n",
    "state = alt.Chart(data[data['Country'] == 'US'].sort_values('Date').tail(14)).mark_line().encode(\n",
    "    alt.X('Confirmed:Q', axis=alt.Axis(title='Cumulative Cases')),\n",
    "    alt.Y('Confirmed_New:Q', axis=alt.Axis(title='New Cases'))\n",
    ")\n",
    "reg = state.transform_regression(\"Confirmed\", \"Confirmed_New\", method=\"linear\").mark_line(color='red', strokeDash=[6,3])\n",
    "(state+reg).interactive()"
   ]
  },
  {
   "cell_type": "markdown",
   "metadata": {},
   "source": [
    "# State Level"
   ]
  },
  {
   "cell_type": "code",
   "execution_count": 19,
   "metadata": {},
   "outputs": [
    {
     "data": {
      "application/vnd.jupyter.widget-view+json": {
       "model_id": "ce19caf7934241f0a7e35793bb11f587",
       "version_major": 2,
       "version_minor": 0
      },
      "text/plain": [
       "interactive(children=(IntSlider(value=7, description='window', max=21, min=2), Output()), _dom_classes=('widge…"
      ]
     },
     "metadata": {},
     "output_type": "display_data"
    }
   ],
   "source": [
    "@interact(window=(2, 21, 1))\n",
    "def chart(window=7):\n",
    "    return slope_chart(state_data('US'), 'State', 0, limit=200, xscale='log', scale=2, window=window).properties(\n",
    "        width=1200,\n",
    "        height=800\n",
    "    ).interactive()"
   ]
  },
  {
   "cell_type": "code",
   "execution_count": 20,
   "metadata": {},
   "outputs": [
    {
     "data": {
      "text/html": [
       "\n",
       "<div id=\"altair-viz-db024ba6ac0f4092853df713153bcbb9\"></div>\n",
       "<script type=\"text/javascript\">\n",
       "  (function(spec, embedOpt){\n",
       "    const outputDiv = document.getElementById(\"altair-viz-db024ba6ac0f4092853df713153bcbb9\");\n",
       "    const paths = {\n",
       "      \"vega\": \"https://cdn.jsdelivr.net/npm//vega@5?noext\",\n",
       "      \"vega-lib\": \"https://cdn.jsdelivr.net/npm//vega-lib?noext\",\n",
       "      \"vega-lite\": \"https://cdn.jsdelivr.net/npm//vega-lite@4.0.2?noext\",\n",
       "      \"vega-embed\": \"https://cdn.jsdelivr.net/npm//vega-embed@6?noext\",\n",
       "    };\n",
       "\n",
       "    function loadScript(lib) {\n",
       "      return new Promise(function(resolve, reject) {\n",
       "        var s = document.createElement('script');\n",
       "        s.src = paths[lib];\n",
       "        s.async = true;\n",
       "        s.onload = () => resolve(paths[lib]);\n",
       "        s.onerror = () => reject(`Error loading script: ${paths[lib]}`);\n",
       "        document.getElementsByTagName(\"head\")[0].appendChild(s);\n",
       "      });\n",
       "    }\n",
       "\n",
       "    function showError(err) {\n",
       "      outputDiv.innerHTML = `<div class=\"error\" style=\"color:red;\">${err}</div>`;\n",
       "      throw err;\n",
       "    }\n",
       "\n",
       "    function displayChart(vegaEmbed) {\n",
       "      vegaEmbed(outputDiv, spec, embedOpt)\n",
       "        .catch(err => showError(`Javascript Error: ${err.message}<br>This usually means there's a typo in your chart specification. See the javascript console for the full traceback.`));\n",
       "    }\n",
       "\n",
       "    if(typeof define === \"function\" && define.amd) {\n",
       "      requirejs.config({paths});\n",
       "      require([\"vega-embed\"], displayChart, err => showError(`Error loading script: ${err.message}`));\n",
       "    } else if (typeof vegaEmbed === \"function\") {\n",
       "      displayChart(vegaEmbed);\n",
       "    } else {\n",
       "      loadScript(\"vega\")\n",
       "        .then(() => loadScript(\"vega-lite\"))\n",
       "        .then(() => loadScript(\"vega-embed\"))\n",
       "        .catch(showError)\n",
       "        .then(() => displayChart(vegaEmbed));\n",
       "    }\n",
       "  })({\"config\": {\"view\": {\"continuousWidth\": 400, \"continuousHeight\": 300}}, \"layer\": [{\"mark\": \"line\", \"encoding\": {\"x\": {\"type\": \"quantitative\", \"field\": \"Confirmed\"}, \"y\": {\"type\": \"quantitative\", \"field\": \"Confirmed_New\"}}, \"selection\": {\"selector057\": {\"type\": \"interval\", \"bind\": \"scales\", \"encodings\": [\"x\", \"y\"]}}}, {\"mark\": {\"type\": \"line\", \"color\": \"red\", \"strokeDash\": [6, 3]}, \"encoding\": {\"x\": {\"type\": \"quantitative\", \"field\": \"Confirmed\"}, \"y\": {\"type\": \"quantitative\", \"field\": \"Confirmed_New\"}}, \"transform\": [{\"on\": \"Confirmed\", \"regression\": \"Confirmed_New\", \"method\": \"poly\"}]}], \"data\": {\"name\": \"data-0f1d9c2b8794f943d2d852208432616f\"}, \"$schema\": \"https://vega.github.io/schema/vega-lite/v4.0.2.json\", \"datasets\": {\"data-0f1d9c2b8794f943d2d852208432616f\": [{\"State\": \"FL\", \"Date\": \"04-22-2020\", \"Confirmed\": 28309.0, \"Deaths\": 893.0, \"Recovered\": 0.0, \"Confirmed_New\": 440.0, \"Deaths_New\": 26.0, \"Recovered_New\": 0.0, \"Active\": 27416.0}, {\"State\": \"FL\", \"Date\": \"04-23-2020\", \"Confirmed\": 29648.0, \"Deaths\": 987.0, \"Recovered\": 0.0, \"Confirmed_New\": 1339.0, \"Deaths_New\": 94.0, \"Recovered_New\": 0.0, \"Active\": 28661.0}, {\"State\": \"FL\", \"Date\": \"04-24-2020\", \"Confirmed\": 30533.0, \"Deaths\": 1046.0, \"Recovered\": 0.0, \"Confirmed_New\": 885.0, \"Deaths_New\": 59.0, \"Recovered_New\": 0.0, \"Active\": 29487.0}, {\"State\": \"FL\", \"Date\": \"04-25-2020\", \"Confirmed\": 30839.0, \"Deaths\": 1055.0, \"Recovered\": 0.0, \"Confirmed_New\": 306.0, \"Deaths_New\": 9.0, \"Recovered_New\": 0.0, \"Active\": 29784.0}, {\"State\": \"FL\", \"Date\": \"04-26-2020\", \"Confirmed\": 31532.0, \"Deaths\": 1075.0, \"Recovered\": 0.0, \"Confirmed_New\": 693.0, \"Deaths_New\": 20.0, \"Recovered_New\": 0.0, \"Active\": 30457.0}, {\"State\": \"FL\", \"Date\": \"04-27-2020\", \"Confirmed\": 32138.0, \"Deaths\": 1088.0, \"Recovered\": 0.0, \"Confirmed_New\": 606.0, \"Deaths_New\": 13.0, \"Recovered_New\": 0.0, \"Active\": 31050.0}, {\"State\": \"FL\", \"Date\": \"04-28-2020\", \"Confirmed\": 32848.0, \"Deaths\": 1171.0, \"Recovered\": 0.0, \"Confirmed_New\": 710.0, \"Deaths_New\": 83.0, \"Recovered_New\": 0.0, \"Active\": 31677.0}, {\"State\": \"FL\", \"Date\": \"04-29-2020\", \"Confirmed\": 33193.0, \"Deaths\": 1218.0, \"Recovered\": 0.0, \"Confirmed_New\": 345.0, \"Deaths_New\": 47.0, \"Recovered_New\": 0.0, \"Active\": 31975.0}, {\"State\": \"FL\", \"Date\": \"04-30-2020\", \"Confirmed\": 33690.0, \"Deaths\": 1268.0, \"Recovered\": 0.0, \"Confirmed_New\": 497.0, \"Deaths_New\": 50.0, \"Recovered_New\": 0.0, \"Active\": 32422.0}, {\"State\": \"FL\", \"Date\": \"05-01-2020\", \"Confirmed\": 34728.0, \"Deaths\": 1314.0, \"Recovered\": 0.0, \"Confirmed_New\": 1038.0, \"Deaths_New\": 46.0, \"Recovered_New\": 0.0, \"Active\": 33414.0}, {\"State\": \"FL\", \"Date\": \"05-02-2020\", \"Confirmed\": 35463.0, \"Deaths\": 1364.0, \"Recovered\": 0.0, \"Confirmed_New\": 735.0, \"Deaths_New\": 50.0, \"Recovered_New\": 0.0, \"Active\": 34099.0}, {\"State\": \"FL\", \"Date\": \"05-03-2020\", \"Confirmed\": 36078.0, \"Deaths\": 1379.0, \"Recovered\": 0.0, \"Confirmed_New\": 615.0, \"Deaths_New\": 15.0, \"Recovered_New\": 0.0, \"Active\": 34699.0}, {\"State\": \"FL\", \"Date\": \"05-04-2020\", \"Confirmed\": 36897.0, \"Deaths\": 1399.0, \"Recovered\": 0.0, \"Confirmed_New\": 819.0, \"Deaths_New\": 20.0, \"Recovered_New\": 0.0, \"Active\": 35498.0}, {\"State\": \"FL\", \"Date\": \"05-05-2020\", \"Confirmed\": 37439.0, \"Deaths\": 1471.0, \"Recovered\": 0.0, \"Confirmed_New\": 542.0, \"Deaths_New\": 72.0, \"Recovered_New\": 0.0, \"Active\": 35968.0}, {\"State\": \"FL\", \"Date\": \"05-06-2020\", \"Confirmed\": 38002.0, \"Deaths\": 1539.0, \"Recovered\": 0.0, \"Confirmed_New\": 563.0, \"Deaths_New\": 68.0, \"Recovered_New\": 0.0, \"Active\": 36463.0}, {\"State\": \"FL\", \"Date\": \"05-07-2020\", \"Confirmed\": 38828.0, \"Deaths\": 1600.0, \"Recovered\": 0.0, \"Confirmed_New\": 826.0, \"Deaths_New\": 61.0, \"Recovered_New\": 0.0, \"Active\": 37228.0}, {\"State\": \"FL\", \"Date\": \"05-08-2020\", \"Confirmed\": 39199.0, \"Deaths\": 1669.0, \"Recovered\": 0.0, \"Confirmed_New\": 371.0, \"Deaths_New\": 69.0, \"Recovered_New\": 0.0, \"Active\": 37530.0}, {\"State\": \"FL\", \"Date\": \"05-09-2020\", \"Confirmed\": 40001.0, \"Deaths\": 1715.0, \"Recovered\": 0.0, \"Confirmed_New\": 802.0, \"Deaths_New\": 46.0, \"Recovered_New\": 0.0, \"Active\": 38286.0}, {\"State\": \"FL\", \"Date\": \"05-10-2020\", \"Confirmed\": 40596.0, \"Deaths\": 1721.0, \"Recovered\": 0.0, \"Confirmed_New\": 595.0, \"Deaths_New\": 6.0, \"Recovered_New\": 0.0, \"Active\": 38875.0}, {\"State\": \"FL\", \"Date\": \"05-11-2020\", \"Confirmed\": 40982.0, \"Deaths\": 1735.0, \"Recovered\": 0.0, \"Confirmed_New\": 386.0, \"Deaths_New\": 14.0, \"Recovered_New\": 0.0, \"Active\": 39247.0}, {\"State\": \"FL\", \"Date\": \"05-12-2020\", \"Confirmed\": 41923.0, \"Deaths\": 1779.0, \"Recovered\": 0.0, \"Confirmed_New\": 941.0, \"Deaths_New\": 44.0, \"Recovered_New\": 0.0, \"Active\": 40144.0}, {\"State\": \"FL\", \"Date\": \"05-13-2020\", \"Confirmed\": 42402.0, \"Deaths\": 1827.0, \"Recovered\": 0.0, \"Confirmed_New\": 479.0, \"Deaths_New\": 48.0, \"Recovered_New\": 0.0, \"Active\": 40575.0}, {\"State\": \"FL\", \"Date\": \"05-14-2020\", \"Confirmed\": 43210.0, \"Deaths\": 1875.0, \"Recovered\": 0.0, \"Confirmed_New\": 808.0, \"Deaths_New\": 48.0, \"Recovered_New\": 0.0, \"Active\": 41335.0}, {\"State\": \"FL\", \"Date\": \"05-15-2020\", \"Confirmed\": 44138.0, \"Deaths\": 1917.0, \"Recovered\": 0.0, \"Confirmed_New\": 928.0, \"Deaths_New\": 42.0, \"Recovered_New\": 0.0, \"Active\": 42221.0}, {\"State\": \"FL\", \"Date\": \"05-16-2020\", \"Confirmed\": 44811.0, \"Deaths\": 1964.0, \"Recovered\": 0.0, \"Confirmed_New\": 673.0, \"Deaths_New\": 47.0, \"Recovered_New\": 0.0, \"Active\": 42847.0}, {\"State\": \"FL\", \"Date\": \"05-17-2020\", \"Confirmed\": 45588.0, \"Deaths\": 1973.0, \"Recovered\": 0.0, \"Confirmed_New\": 777.0, \"Deaths_New\": 9.0, \"Recovered_New\": 0.0, \"Active\": 43615.0}, {\"State\": \"FL\", \"Date\": \"05-18-2020\", \"Confirmed\": 46442.0, \"Deaths\": 1997.0, \"Recovered\": 0.0, \"Confirmed_New\": 854.0, \"Deaths_New\": 24.0, \"Recovered_New\": 0.0, \"Active\": 44445.0}, {\"State\": \"FL\", \"Date\": \"05-19-2020\", \"Confirmed\": 46944.0, \"Deaths\": 2052.0, \"Recovered\": 0.0, \"Confirmed_New\": 502.0, \"Deaths_New\": 55.0, \"Recovered_New\": 0.0, \"Active\": 44892.0}, {\"State\": \"FL\", \"Date\": \"05-20-2020\", \"Confirmed\": 47471.0, \"Deaths\": 2096.0, \"Recovered\": 0.0, \"Confirmed_New\": 527.0, \"Deaths_New\": 44.0, \"Recovered_New\": 0.0, \"Active\": 45375.0}, {\"State\": \"FL\", \"Date\": \"05-21-2020\", \"Confirmed\": 48675.0, \"Deaths\": 2144.0, \"Recovered\": 0.0, \"Confirmed_New\": 1204.0, \"Deaths_New\": 48.0, \"Recovered_New\": 0.0, \"Active\": 46531.0}]}}, {\"mode\": \"vega-lite\"});\n",
       "</script>"
      ],
      "text/plain": [
       "alt.LayerChart(...)"
      ]
     },
     "execution_count": 20,
     "metadata": {},
     "output_type": "execute_result"
    }
   ],
   "source": [
    "data = state_data('US')\n",
    "state = alt.Chart(data[data['State'] == 'FL'].sort_values('Date').tail(30)).mark_line().encode(\n",
    "    x='Confirmed:Q',\n",
    "    y='Confirmed_New:Q'\n",
    ")\n",
    "reg = state.transform_regression(\"Confirmed\", \"Confirmed_New\", method=\"poly\").mark_line(color='red', strokeDash=[6,3])\n",
    "(state+reg).interactive()"
   ]
  },
  {
   "cell_type": "markdown",
   "metadata": {},
   "source": [
    "# US County Level"
   ]
  },
  {
   "cell_type": "code",
   "execution_count": 21,
   "metadata": {},
   "outputs": [
    {
     "data": {
      "application/vnd.jupyter.widget-view+json": {
       "model_id": "e092d5c35e244ef9b8016e8c45ab4a74",
       "version_major": 2,
       "version_minor": 0
      },
      "text/plain": [
       "interactive(children=(IntSlider(value=7, description='window', max=21, min=2), Output()), _dom_classes=('widge…"
      ]
     },
     "metadata": {},
     "output_type": "display_data"
    }
   ],
   "source": [
    "@interact(window=(2, 21, 1))\n",
    "def chart(window=7):\n",
    "    return slope_chart(county_data('CA'), 'County', 0, xscale='log', limit=1, scale=5, window=window).properties(\n",
    "        width=1200,\n",
    "        height=800\n",
    "    ).interactive()"
   ]
  },
  {
   "cell_type": "code",
   "execution_count": 22,
   "metadata": {},
   "outputs": [
    {
     "data": {
      "text/html": [
       "\n",
       "<div id=\"altair-viz-ba5e83fc2553413989790655b2335355\"></div>\n",
       "<script type=\"text/javascript\">\n",
       "  (function(spec, embedOpt){\n",
       "    const outputDiv = document.getElementById(\"altair-viz-ba5e83fc2553413989790655b2335355\");\n",
       "    const paths = {\n",
       "      \"vega\": \"https://cdn.jsdelivr.net/npm//vega@5?noext\",\n",
       "      \"vega-lib\": \"https://cdn.jsdelivr.net/npm//vega-lib?noext\",\n",
       "      \"vega-lite\": \"https://cdn.jsdelivr.net/npm//vega-lite@4.0.2?noext\",\n",
       "      \"vega-embed\": \"https://cdn.jsdelivr.net/npm//vega-embed@6?noext\",\n",
       "    };\n",
       "\n",
       "    function loadScript(lib) {\n",
       "      return new Promise(function(resolve, reject) {\n",
       "        var s = document.createElement('script');\n",
       "        s.src = paths[lib];\n",
       "        s.async = true;\n",
       "        s.onload = () => resolve(paths[lib]);\n",
       "        s.onerror = () => reject(`Error loading script: ${paths[lib]}`);\n",
       "        document.getElementsByTagName(\"head\")[0].appendChild(s);\n",
       "      });\n",
       "    }\n",
       "\n",
       "    function showError(err) {\n",
       "      outputDiv.innerHTML = `<div class=\"error\" style=\"color:red;\">${err}</div>`;\n",
       "      throw err;\n",
       "    }\n",
       "\n",
       "    function displayChart(vegaEmbed) {\n",
       "      vegaEmbed(outputDiv, spec, embedOpt)\n",
       "        .catch(err => showError(`Javascript Error: ${err.message}<br>This usually means there's a typo in your chart specification. See the javascript console for the full traceback.`));\n",
       "    }\n",
       "\n",
       "    if(typeof define === \"function\" && define.amd) {\n",
       "      requirejs.config({paths});\n",
       "      require([\"vega-embed\"], displayChart, err => showError(`Error loading script: ${err.message}`));\n",
       "    } else if (typeof vegaEmbed === \"function\") {\n",
       "      displayChart(vegaEmbed);\n",
       "    } else {\n",
       "      loadScript(\"vega\")\n",
       "        .then(() => loadScript(\"vega-lite\"))\n",
       "        .then(() => loadScript(\"vega-embed\"))\n",
       "        .catch(showError)\n",
       "        .then(() => displayChart(vegaEmbed));\n",
       "    }\n",
       "  })({\"config\": {\"view\": {\"continuousWidth\": 400, \"continuousHeight\": 300}}, \"layer\": [{\"mark\": \"line\", \"encoding\": {\"x\": {\"type\": \"quantitative\", \"field\": \"Confirmed\"}, \"y\": {\"type\": \"quantitative\", \"field\": \"Confirmed_New\"}}, \"selection\": {\"selector059\": {\"type\": \"interval\", \"bind\": \"scales\", \"encodings\": [\"x\", \"y\"]}}}, {\"mark\": {\"type\": \"line\", \"color\": \"red\", \"strokeDash\": [6, 3]}, \"encoding\": {\"x\": {\"type\": \"quantitative\", \"field\": \"Confirmed\"}, \"y\": {\"type\": \"quantitative\", \"field\": \"Confirmed_New\"}}, \"transform\": [{\"on\": \"Confirmed\", \"regression\": \"Confirmed_New\", \"method\": \"poly\"}]}], \"data\": {\"name\": \"data-c8d1ac18b71ef4f7f414ab2baba26dbd\"}, \"$schema\": \"https://vega.github.io/schema/vega-lite/v4.0.2.json\", \"datasets\": {\"data-c8d1ac18b71ef4f7f414ab2baba26dbd\": [{\"County\": \"Los Angeles\", \"Date\": \"03-23-2020\", \"Confirmed\": 536.0, \"Deaths\": 7.0, \"Recovered\": 0.0, \"Confirmed_New\": 129.0, \"Deaths_New\": 2.0, \"Recovered_New\": 0.0, \"Active\": 529.0}, {\"County\": \"Los Angeles\", \"Date\": \"03-24-2020\", \"Confirmed\": 662.0, \"Deaths\": 11.0, \"Recovered\": 0.0, \"Confirmed_New\": 126.0, \"Deaths_New\": 4.0, \"Recovered_New\": 0.0, \"Active\": 651.0}, {\"County\": \"Los Angeles\", \"Date\": \"03-25-2020\", \"Confirmed\": 812.0, \"Deaths\": 13.0, \"Recovered\": 0.0, \"Confirmed_New\": 150.0, \"Deaths_New\": 2.0, \"Recovered_New\": 0.0, \"Active\": 799.0}, {\"County\": \"Los Angeles\", \"Date\": \"03-26-2020\", \"Confirmed\": 1229.0, \"Deaths\": 21.0, \"Recovered\": 0.0, \"Confirmed_New\": 417.0, \"Deaths_New\": 8.0, \"Recovered_New\": 0.0, \"Active\": 1208.0}, {\"County\": \"Los Angeles\", \"Date\": \"03-27-2020\", \"Confirmed\": 1465.0, \"Deaths\": 26.0, \"Recovered\": 0.0, \"Confirmed_New\": 236.0, \"Deaths_New\": 5.0, \"Recovered_New\": 0.0, \"Active\": 1439.0}, {\"County\": \"Los Angeles\", \"Date\": \"03-28-2020\", \"Confirmed\": 1465.0, \"Deaths\": 26.0, \"Recovered\": 0.0, \"Confirmed_New\": 0.0, \"Deaths_New\": 0.0, \"Recovered_New\": 0.0, \"Active\": 1439.0}, {\"County\": \"Los Angeles\", \"Date\": \"03-29-2020\", \"Confirmed\": 1829.0, \"Deaths\": 32.0, \"Recovered\": 0.0, \"Confirmed_New\": 364.0, \"Deaths_New\": 6.0, \"Recovered_New\": 0.0, \"Active\": 1797.0}, {\"County\": \"Los Angeles\", \"Date\": \"03-30-2020\", \"Confirmed\": 2474.0, \"Deaths\": 44.0, \"Recovered\": 0.0, \"Confirmed_New\": 645.0, \"Deaths_New\": 12.0, \"Recovered_New\": 0.0, \"Active\": 2430.0}, {\"County\": \"Los Angeles\", \"Date\": \"03-31-2020\", \"Confirmed\": 3019.0, \"Deaths\": 54.0, \"Recovered\": 0.0, \"Confirmed_New\": 545.0, \"Deaths_New\": 10.0, \"Recovered_New\": 0.0, \"Active\": 2965.0}, {\"County\": \"Los Angeles\", \"Date\": \"04-01-2020\", \"Confirmed\": 3518.0, \"Deaths\": 64.0, \"Recovered\": 0.0, \"Confirmed_New\": 499.0, \"Deaths_New\": 10.0, \"Recovered_New\": 0.0, \"Active\": 3454.0}, {\"County\": \"Los Angeles\", \"Date\": \"04-02-2020\", \"Confirmed\": 4045.0, \"Deaths\": 78.0, \"Recovered\": 0.0, \"Confirmed_New\": 527.0, \"Deaths_New\": 14.0, \"Recovered_New\": 0.0, \"Active\": 3967.0}, {\"County\": \"Los Angeles\", \"Date\": \"04-03-2020\", \"Confirmed\": 4566.0, \"Deaths\": 89.0, \"Recovered\": 0.0, \"Confirmed_New\": 521.0, \"Deaths_New\": 11.0, \"Recovered_New\": 0.0, \"Active\": 4477.0}, {\"County\": \"Los Angeles\", \"Date\": \"04-04-2020\", \"Confirmed\": 4605.0, \"Deaths\": 93.0, \"Recovered\": 0.0, \"Confirmed_New\": 39.0, \"Deaths_New\": 4.0, \"Recovered_New\": 0.0, \"Active\": 4512.0}, {\"County\": \"Los Angeles\", \"Date\": \"04-05-2020\", \"Confirmed\": 5955.0, \"Deaths\": 132.0, \"Recovered\": 0.0, \"Confirmed_New\": 1350.0, \"Deaths_New\": 39.0, \"Recovered_New\": 0.0, \"Active\": 5823.0}, {\"County\": \"Los Angeles\", \"Date\": \"04-06-2020\", \"Confirmed\": 6377.0, \"Deaths\": 147.0, \"Recovered\": 0.0, \"Confirmed_New\": 422.0, \"Deaths_New\": 15.0, \"Recovered_New\": 0.0, \"Active\": 6230.0}, {\"County\": \"Los Angeles\", \"Date\": \"04-07-2020\", \"Confirmed\": 6936.0, \"Deaths\": 169.0, \"Recovered\": 0.0, \"Confirmed_New\": 559.0, \"Deaths_New\": 22.0, \"Recovered_New\": 0.0, \"Active\": 6767.0}, {\"County\": \"Los Angeles\", \"Date\": \"04-08-2020\", \"Confirmed\": 7559.0, \"Deaths\": 198.0, \"Recovered\": 0.0, \"Confirmed_New\": 623.0, \"Deaths_New\": 29.0, \"Recovered_New\": 0.0, \"Active\": 7361.0}, {\"County\": \"Los Angeles\", \"Date\": \"04-09-2020\", \"Confirmed\": 7955.0, \"Deaths\": 223.0, \"Recovered\": 0.0, \"Confirmed_New\": 396.0, \"Deaths_New\": 25.0, \"Recovered_New\": 0.0, \"Active\": 7732.0}, {\"County\": \"Los Angeles\", \"Date\": \"04-10-2020\", \"Confirmed\": 8443.0, \"Deaths\": 242.0, \"Recovered\": 0.0, \"Confirmed_New\": 488.0, \"Deaths_New\": 19.0, \"Recovered_New\": 0.0, \"Active\": 8201.0}, {\"County\": \"Los Angeles\", \"Date\": \"04-11-2020\", \"Confirmed\": 8453.0, \"Deaths\": 244.0, \"Recovered\": 0.0, \"Confirmed_New\": 10.0, \"Deaths_New\": 2.0, \"Recovered_New\": 0.0, \"Active\": 8209.0}, {\"County\": \"Los Angeles\", \"Date\": \"04-12-2020\", \"Confirmed\": 8894.0, \"Deaths\": 269.0, \"Recovered\": 0.0, \"Confirmed_New\": 441.0, \"Deaths_New\": 25.0, \"Recovered_New\": 0.0, \"Active\": 8625.0}, {\"County\": \"Los Angeles\", \"Date\": \"04-13-2020\", \"Confirmed\": 9433.0, \"Deaths\": 322.0, \"Recovered\": 0.0, \"Confirmed_New\": 539.0, \"Deaths_New\": 53.0, \"Recovered_New\": 0.0, \"Active\": 9111.0}, {\"County\": \"Los Angeles\", \"Date\": \"04-14-2020\", \"Confirmed\": 10047.0, \"Deaths\": 360.0, \"Recovered\": 0.0, \"Confirmed_New\": 614.0, \"Deaths_New\": 38.0, \"Recovered_New\": 0.0, \"Active\": 9687.0}, {\"County\": \"Los Angeles\", \"Date\": \"04-15-2020\", \"Confirmed\": 10517.0, \"Deaths\": 405.0, \"Recovered\": 0.0, \"Confirmed_New\": 470.0, \"Deaths_New\": 45.0, \"Recovered_New\": 0.0, \"Active\": 10112.0}, {\"County\": \"Los Angeles\", \"Date\": \"04-16-2020\", \"Confirmed\": 10854.0, \"Deaths\": 457.0, \"Recovered\": 0.0, \"Confirmed_New\": 337.0, \"Deaths_New\": 52.0, \"Recovered_New\": 0.0, \"Active\": 10397.0}, {\"County\": \"Los Angeles\", \"Date\": \"04-17-2020\", \"Confirmed\": 11400.0, \"Deaths\": 497.0, \"Recovered\": 0.0, \"Confirmed_New\": 546.0, \"Deaths_New\": 40.0, \"Recovered_New\": 0.0, \"Active\": 10903.0}, {\"County\": \"Los Angeles\", \"Date\": \"04-18-2020\", \"Confirmed\": 12021.0, \"Deaths\": 576.0, \"Recovered\": 0.0, \"Confirmed_New\": 621.0, \"Deaths_New\": 79.0, \"Recovered_New\": 0.0, \"Active\": 11445.0}, {\"County\": \"Los Angeles\", \"Date\": \"04-19-2020\", \"Confirmed\": 12341.0, \"Deaths\": 600.0, \"Recovered\": 0.0, \"Confirmed_New\": 320.0, \"Deaths_New\": 24.0, \"Recovered_New\": 0.0, \"Active\": 11741.0}, {\"County\": \"Los Angeles\", \"Date\": \"04-20-2020\", \"Confirmed\": 13823.0, \"Deaths\": 619.0, \"Recovered\": 0.0, \"Confirmed_New\": 1482.0, \"Deaths_New\": 19.0, \"Recovered_New\": 0.0, \"Active\": 13204.0}, {\"County\": \"Los Angeles\", \"Date\": \"04-21-2020\", \"Confirmed\": 15153.0, \"Deaths\": 663.0, \"Recovered\": 0.0, \"Confirmed_New\": 1330.0, \"Deaths_New\": 44.0, \"Recovered_New\": 0.0, \"Active\": 14490.0}, {\"County\": \"Los Angeles\", \"Date\": \"04-22-2020\", \"Confirmed\": 16447.0, \"Deaths\": 732.0, \"Recovered\": 0.0, \"Confirmed_New\": 1294.0, \"Deaths_New\": 69.0, \"Recovered_New\": 0.0, \"Active\": 15715.0}, {\"County\": \"Los Angeles\", \"Date\": \"04-23-2020\", \"Confirmed\": 17537.0, \"Deaths\": 797.0, \"Recovered\": 0.0, \"Confirmed_New\": 1090.0, \"Deaths_New\": 65.0, \"Recovered_New\": 0.0, \"Active\": 16740.0}, {\"County\": \"Los Angeles\", \"Date\": \"04-24-2020\", \"Confirmed\": 18545.0, \"Deaths\": 850.0, \"Recovered\": 0.0, \"Confirmed_New\": 1008.0, \"Deaths_New\": 53.0, \"Recovered_New\": 0.0, \"Active\": 17695.0}, {\"County\": \"Los Angeles\", \"Date\": \"04-25-2020\", \"Confirmed\": 19133.0, \"Deaths\": 895.0, \"Recovered\": 0.0, \"Confirmed_New\": 588.0, \"Deaths_New\": 45.0, \"Recovered_New\": 0.0, \"Active\": 18238.0}, {\"County\": \"Los Angeles\", \"Date\": \"04-26-2020\", \"Confirmed\": 19567.0, \"Deaths\": 916.0, \"Recovered\": 0.0, \"Confirmed_New\": 434.0, \"Deaths_New\": 21.0, \"Recovered_New\": 0.0, \"Active\": 18651.0}, {\"County\": \"Los Angeles\", \"Date\": \"04-27-2020\", \"Confirmed\": 20423.0, \"Deaths\": 944.0, \"Recovered\": 0.0, \"Confirmed_New\": 856.0, \"Deaths_New\": 28.0, \"Recovered_New\": 0.0, \"Active\": 19479.0}, {\"County\": \"Los Angeles\", \"Date\": \"04-28-2020\", \"Confirmed\": 20996.0, \"Deaths\": 1002.0, \"Recovered\": 0.0, \"Confirmed_New\": 573.0, \"Deaths_New\": 58.0, \"Recovered_New\": 0.0, \"Active\": 19994.0}, {\"County\": \"Los Angeles\", \"Date\": \"04-29-2020\", \"Confirmed\": 22485.0, \"Deaths\": 1056.0, \"Recovered\": 0.0, \"Confirmed_New\": 1489.0, \"Deaths_New\": 54.0, \"Recovered_New\": 0.0, \"Active\": 21429.0}, {\"County\": \"Los Angeles\", \"Date\": \"04-30-2020\", \"Confirmed\": 23220.0, \"Deaths\": 1111.0, \"Recovered\": 0.0, \"Confirmed_New\": 735.0, \"Deaths_New\": 55.0, \"Recovered_New\": 0.0, \"Active\": 22109.0}, {\"County\": \"Los Angeles\", \"Date\": \"05-01-2020\", \"Confirmed\": 24262.0, \"Deaths\": 1174.0, \"Recovered\": 0.0, \"Confirmed_New\": 1042.0, \"Deaths_New\": 63.0, \"Recovered_New\": 0.0, \"Active\": 23088.0}, {\"County\": \"Los Angeles\", \"Date\": \"05-02-2020\", \"Confirmed\": 24894.0, \"Deaths\": 1209.0, \"Recovered\": 0.0, \"Confirmed_New\": 632.0, \"Deaths_New\": 35.0, \"Recovered_New\": 0.0, \"Active\": 23685.0}, {\"County\": \"Los Angeles\", \"Date\": \"05-03-2020\", \"Confirmed\": 25699.0, \"Deaths\": 1231.0, \"Recovered\": 0.0, \"Confirmed_New\": 805.0, \"Deaths_New\": 22.0, \"Recovered_New\": 0.0, \"Active\": 24468.0}, {\"County\": \"Los Angeles\", \"Date\": \"05-04-2020\", \"Confirmed\": 26225.0, \"Deaths\": 1257.0, \"Recovered\": 0.0, \"Confirmed_New\": 526.0, \"Deaths_New\": 26.0, \"Recovered_New\": 0.0, \"Active\": 24968.0}, {\"County\": \"Los Angeles\", \"Date\": \"05-05-2020\", \"Confirmed\": 27836.0, \"Deaths\": 1315.0, \"Recovered\": 0.0, \"Confirmed_New\": 1611.0, \"Deaths_New\": 58.0, \"Recovered_New\": 0.0, \"Active\": 26521.0}, {\"County\": \"Los Angeles\", \"Date\": \"05-06-2020\", \"Confirmed\": 28665.0, \"Deaths\": 1369.0, \"Recovered\": 0.0, \"Confirmed_New\": 829.0, \"Deaths_New\": 54.0, \"Recovered_New\": 0.0, \"Active\": 27296.0}, {\"County\": \"Los Angeles\", \"Date\": \"05-07-2020\", \"Confirmed\": 29511.0, \"Deaths\": 1418.0, \"Recovered\": 0.0, \"Confirmed_New\": 846.0, \"Deaths_New\": 49.0, \"Recovered_New\": 0.0, \"Active\": 28093.0}, {\"County\": \"Los Angeles\", \"Date\": \"05-08-2020\", \"Confirmed\": 30319.0, \"Deaths\": 1470.0, \"Recovered\": 0.0, \"Confirmed_New\": 808.0, \"Deaths_New\": 52.0, \"Recovered_New\": 0.0, \"Active\": 28849.0}, {\"County\": \"Los Angeles\", \"Date\": \"05-09-2020\", \"Confirmed\": 31241.0, \"Deaths\": 1515.0, \"Recovered\": 0.0, \"Confirmed_New\": 922.0, \"Deaths_New\": 45.0, \"Recovered_New\": 0.0, \"Active\": 29726.0}, {\"County\": \"Los Angeles\", \"Date\": \"05-10-2020\", \"Confirmed\": 31703.0, \"Deaths\": 1531.0, \"Recovered\": 0.0, \"Confirmed_New\": 462.0, \"Deaths_New\": 16.0, \"Recovered_New\": 0.0, \"Active\": 30172.0}, {\"County\": \"Los Angeles\", \"Date\": \"05-11-2020\", \"Confirmed\": 32263.0, \"Deaths\": 1570.0, \"Recovered\": 0.0, \"Confirmed_New\": 560.0, \"Deaths_New\": 39.0, \"Recovered_New\": 0.0, \"Active\": 30693.0}, {\"County\": \"Los Angeles\", \"Date\": \"05-12-2020\", \"Confirmed\": 33211.0, \"Deaths\": 1616.0, \"Recovered\": 0.0, \"Confirmed_New\": 948.0, \"Deaths_New\": 46.0, \"Recovered_New\": 0.0, \"Active\": 31595.0}, {\"County\": \"Los Angeles\", \"Date\": \"05-13-2020\", \"Confirmed\": 34538.0, \"Deaths\": 1660.0, \"Recovered\": 0.0, \"Confirmed_New\": 1327.0, \"Deaths_New\": 44.0, \"Recovered_New\": 0.0, \"Active\": 32878.0}, {\"County\": \"Los Angeles\", \"Date\": \"05-14-2020\", \"Confirmed\": 35392.0, \"Deaths\": 1711.0, \"Recovered\": 0.0, \"Confirmed_New\": 854.0, \"Deaths_New\": 51.0, \"Recovered_New\": 0.0, \"Active\": 33681.0}, {\"County\": \"Los Angeles\", \"Date\": \"05-15-2020\", \"Confirmed\": 36316.0, \"Deaths\": 1753.0, \"Recovered\": 0.0, \"Confirmed_New\": 924.0, \"Deaths_New\": 42.0, \"Recovered_New\": 0.0, \"Active\": 34563.0}, {\"County\": \"Los Angeles\", \"Date\": \"05-16-2020\", \"Confirmed\": 37360.0, \"Deaths\": 1793.0, \"Recovered\": 0.0, \"Confirmed_New\": 1044.0, \"Deaths_New\": 40.0, \"Recovered_New\": 0.0, \"Active\": 35567.0}, {\"County\": \"Los Angeles\", \"Date\": \"05-17-2020\", \"Confirmed\": 38011.0, \"Deaths\": 1821.0, \"Recovered\": 0.0, \"Confirmed_New\": 651.0, \"Deaths_New\": 28.0, \"Recovered_New\": 0.0, \"Active\": 36190.0}, {\"County\": \"Los Angeles\", \"Date\": \"05-18-2020\", \"Confirmed\": 38458.0, \"Deaths\": 1840.0, \"Recovered\": 0.0, \"Confirmed_New\": 447.0, \"Deaths_New\": 19.0, \"Recovered_New\": 0.0, \"Active\": 36618.0}, {\"County\": \"Los Angeles\", \"Date\": \"05-19-2020\", \"Confirmed\": 39573.0, \"Deaths\": 1913.0, \"Recovered\": 0.0, \"Confirmed_New\": 1115.0, \"Deaths_New\": 73.0, \"Recovered_New\": 0.0, \"Active\": 37660.0}, {\"County\": \"Los Angeles\", \"Date\": \"05-20-2020\", \"Confirmed\": 40895.0, \"Deaths\": 1973.0, \"Recovered\": 0.0, \"Confirmed_New\": 1322.0, \"Deaths_New\": 60.0, \"Recovered_New\": 0.0, \"Active\": 38922.0}, {\"County\": \"Los Angeles\", \"Date\": \"05-21-2020\", \"Confirmed\": 42037.0, \"Deaths\": 2016.0, \"Recovered\": 0.0, \"Confirmed_New\": 1142.0, \"Deaths_New\": 43.0, \"Recovered_New\": 0.0, \"Active\": 40021.0}]}}, {\"mode\": \"vega-lite\"});\n",
       "</script>"
      ],
      "text/plain": [
       "alt.LayerChart(...)"
      ]
     },
     "execution_count": 22,
     "metadata": {},
     "output_type": "execute_result"
    }
   ],
   "source": [
    "data = county_data('CA')\n",
    "state = alt.Chart(data[data['County'] == 'Los Angeles'].sort_values('Date').tail(60)).mark_line().encode(\n",
    "    x='Confirmed:Q',\n",
    "    y='Confirmed_New:Q'\n",
    ")\n",
    "reg = state.transform_regression(\"Confirmed\", \"Confirmed_New\", method=\"poly\").mark_line(color='red', strokeDash=[6,3])\n",
    "(state+reg).interactive()"
   ]
  },
  {
   "cell_type": "markdown",
   "metadata": {},
   "source": [
    "# US Hospitalizations"
   ]
  },
  {
   "cell_type": "code",
   "execution_count": 23,
   "metadata": {},
   "outputs": [
    {
     "data": {
      "application/vnd.jupyter.widget-view+json": {
       "model_id": "56adbcf3504d48048ed13b31e6f237fd",
       "version_major": 2,
       "version_minor": 0
      },
      "text/plain": [
       "interactive(children=(IntSlider(value=7, description='window', max=21, min=2), Output()), _dom_classes=('widge…"
      ]
     },
     "metadata": {},
     "output_type": "display_data"
    }
   ],
   "source": [
    "dfh = pd.read_csv('https://covidtracking.com/api/v1/states/daily.csv')\n",
    "dfh.date = pd.to_datetime(dfh.date, format='%Y%m%d')\n",
    "dfh.date = dfh.date.dt.strftime('%m-%d-%Y')\n",
    "dfh = dfh.rename({'date': 'Date', 'state':'State', 'hospitalizedCurrently': 'Hospitalized'}, axis=1)\n",
    "data = state_data('US')\n",
    "data = data.merge(dfh, on=['Date', 'State'], how='outer')\n",
    "@interact(window=(2, 21, 1))\n",
    "def chart(window=7):\n",
    "    return slope_chart(data, 'State', 0, xscale='log', limit=200, scale=2, value='Hospitalized', window=window, today=days[-1]).properties(\n",
    "        width=1200,\n",
    "        height=800\n",
    "    ).interactive()"
   ]
  },
  {
   "cell_type": "code",
   "execution_count": 28,
   "metadata": {},
   "outputs": [
    {
     "data": {
      "text/html": [
       "\n",
       "<div id=\"altair-viz-78a73ca0a19644938db1a819d530725a\"></div>\n",
       "<script type=\"text/javascript\">\n",
       "  (function(spec, embedOpt){\n",
       "    const outputDiv = document.getElementById(\"altair-viz-78a73ca0a19644938db1a819d530725a\");\n",
       "    const paths = {\n",
       "      \"vega\": \"https://cdn.jsdelivr.net/npm//vega@5?noext\",\n",
       "      \"vega-lib\": \"https://cdn.jsdelivr.net/npm//vega-lib?noext\",\n",
       "      \"vega-lite\": \"https://cdn.jsdelivr.net/npm//vega-lite@4.0.2?noext\",\n",
       "      \"vega-embed\": \"https://cdn.jsdelivr.net/npm//vega-embed@6?noext\",\n",
       "    };\n",
       "\n",
       "    function loadScript(lib) {\n",
       "      return new Promise(function(resolve, reject) {\n",
       "        var s = document.createElement('script');\n",
       "        s.src = paths[lib];\n",
       "        s.async = true;\n",
       "        s.onload = () => resolve(paths[lib]);\n",
       "        s.onerror = () => reject(`Error loading script: ${paths[lib]}`);\n",
       "        document.getElementsByTagName(\"head\")[0].appendChild(s);\n",
       "      });\n",
       "    }\n",
       "\n",
       "    function showError(err) {\n",
       "      outputDiv.innerHTML = `<div class=\"error\" style=\"color:red;\">${err}</div>`;\n",
       "      throw err;\n",
       "    }\n",
       "\n",
       "    function displayChart(vegaEmbed) {\n",
       "      vegaEmbed(outputDiv, spec, embedOpt)\n",
       "        .catch(err => showError(`Javascript Error: ${err.message}<br>This usually means there's a typo in your chart specification. See the javascript console for the full traceback.`));\n",
       "    }\n",
       "\n",
       "    if(typeof define === \"function\" && define.amd) {\n",
       "      requirejs.config({paths});\n",
       "      require([\"vega-embed\"], displayChart, err => showError(`Error loading script: ${err.message}`));\n",
       "    } else if (typeof vegaEmbed === \"function\") {\n",
       "      displayChart(vegaEmbed);\n",
       "    } else {\n",
       "      loadScript(\"vega\")\n",
       "        .then(() => loadScript(\"vega-lite\"))\n",
       "        .then(() => loadScript(\"vega-embed\"))\n",
       "        .catch(showError)\n",
       "        .then(() => displayChart(vegaEmbed));\n",
       "    }\n",
       "  })({\"config\": {\"view\": {\"continuousWidth\": 400, \"continuousHeight\": 300}}, \"layer\": [{\"mark\": \"line\", \"encoding\": {\"x\": {\"type\": \"temporal\", \"field\": \"Date\"}, \"y\": {\"type\": \"quantitative\", \"field\": \"Hospitalized\"}}, \"selection\": {\"selector094\": {\"type\": \"interval\", \"bind\": \"scales\", \"encodings\": [\"x\", \"y\"]}}}, {\"mark\": {\"type\": \"line\", \"color\": \"red\", \"strokeDash\": [6, 3]}, \"encoding\": {\"x\": {\"type\": \"temporal\", \"field\": \"Date\"}, \"y\": {\"type\": \"quantitative\", \"field\": \"Hospitalized\"}}, \"transform\": [{\"on\": \"Date\", \"regression\": \"Hospitalized\", \"method\": \"poly\"}]}], \"data\": {\"name\": \"data-fc0d57965890c7c76fc8d2963356e6dd\"}, \"$schema\": \"https://vega.github.io/schema/vega-lite/v4.0.2.json\", \"datasets\": {\"data-fc0d57965890c7c76fc8d2963356e6dd\": [{\"State\": \"CA\", \"Date\": \"05-15-2020\", \"Confirmed\": 76693.0, \"Deaths\": 3136.0, \"Recovered\": 0.0, \"Confirmed_New\": 1822.0, \"Deaths_New\": 84.0, \"Recovered_New\": 0.0, \"Active\": 73557.0, \"positive\": 74936.0, \"negative\": 1058970.0, \"pending\": null, \"Hospitalized\": 4519.0, \"hospitalizedCumulative\": null, \"inIcuCurrently\": 1324.0, \"inIcuCumulative\": null, \"onVentilatorCurrently\": null, \"onVentilatorCumulative\": null, \"recovered\": null, \"dataQualityGrade\": \"B\", \"lastUpdateEt\": \"5/14/2020 00:00\", \"hash\": \"dd4a56509207e53adc6f228223657494252d0d39\", \"dateChecked\": \"2020-05-15T20:00:00Z\", \"death\": 3108.0, \"hospitalized\": null, \"total\": 1133906.0, \"totalTestResults\": 1133906.0, \"posNeg\": 1133906.0, \"fips\": 6.0, \"deathIncrease\": 76.0, \"hospitalizedIncrease\": 0.0, \"negativeIncrease\": 27483.0, \"positiveIncrease\": 1772.0, \"totalTestResultsIncrease\": 29255.0}, {\"State\": \"CA\", \"Date\": \"05-16-2020\", \"Confirmed\": 78725.0, \"Deaths\": 3208.0, \"Recovered\": 0.0, \"Confirmed_New\": 2032.0, \"Deaths_New\": 72.0, \"Recovered_New\": 0.0, \"Active\": 75517.0, \"positive\": 76793.0, \"negative\": 1102333.0, \"pending\": null, \"Hospitalized\": 4424.0, \"hospitalizedCumulative\": null, \"inIcuCurrently\": 1313.0, \"inIcuCumulative\": null, \"onVentilatorCurrently\": null, \"onVentilatorCumulative\": null, \"recovered\": null, \"dataQualityGrade\": \"B\", \"lastUpdateEt\": \"5/16/2020 00:00\", \"hash\": \"e335473bcecc2092fc63063fe12ed043c5f73751\", \"dateChecked\": \"2020-05-16T20:00:00Z\", \"death\": 3204.0, \"hospitalized\": null, \"total\": 1179126.0, \"totalTestResults\": 1179126.0, \"posNeg\": 1179126.0, \"fips\": 6.0, \"deathIncrease\": 96.0, \"hospitalizedIncrease\": 0.0, \"negativeIncrease\": 43363.0, \"positiveIncrease\": 1857.0, \"totalTestResultsIncrease\": 45220.0}, {\"State\": \"CA\", \"Date\": \"05-17-2020\", \"Confirmed\": 80166.0, \"Deaths\": 3240.0, \"Recovered\": 0.0, \"Confirmed_New\": 1441.0, \"Deaths_New\": 32.0, \"Recovered_New\": 0.0, \"Active\": 76926.0, \"positive\": 78839.0, \"negative\": 1156404.0, \"pending\": null, \"Hospitalized\": 4291.0, \"hospitalizedCumulative\": null, \"inIcuCurrently\": 1293.0, \"inIcuCumulative\": null, \"onVentilatorCurrently\": null, \"onVentilatorCumulative\": null, \"recovered\": null, \"dataQualityGrade\": \"B\", \"lastUpdateEt\": \"5/17/2020 00:00\", \"hash\": \"efe3d2e04569547fc50e7c3d8084f6f4ea4d4cc7\", \"dateChecked\": \"2020-05-17T20:00:00Z\", \"death\": 3261.0, \"hospitalized\": null, \"total\": 1235243.0, \"totalTestResults\": 1235243.0, \"posNeg\": 1235243.0, \"fips\": 6.0, \"deathIncrease\": 57.0, \"hospitalizedIncrease\": 0.0, \"negativeIncrease\": 54071.0, \"positiveIncrease\": 2046.0, \"totalTestResultsIncrease\": 56117.0}, {\"State\": \"CA\", \"Date\": \"05-18-2020\", \"Confirmed\": 81457.0, \"Deaths\": 3279.0, \"Recovered\": 0.0, \"Confirmed_New\": 1291.0, \"Deaths_New\": 39.0, \"Recovered_New\": 0.0, \"Active\": 78178.0, \"positive\": 80430.0, \"negative\": 1212242.0, \"pending\": null, \"Hospitalized\": 4391.0, \"hospitalizedCumulative\": null, \"inIcuCurrently\": 1325.0, \"inIcuCumulative\": null, \"onVentilatorCurrently\": null, \"onVentilatorCumulative\": null, \"recovered\": null, \"dataQualityGrade\": \"B\", \"lastUpdateEt\": \"5/17/2020 00:00\", \"hash\": \"a4c726f97ca716cb19c945927806f45e0bb3cbea\", \"dateChecked\": \"2020-05-18T20:00:00Z\", \"death\": 3302.0, \"hospitalized\": null, \"total\": 1292672.0, \"totalTestResults\": 1292672.0, \"posNeg\": 1292672.0, \"fips\": 6.0, \"deathIncrease\": 41.0, \"hospitalizedIncrease\": 0.0, \"negativeIncrease\": 55838.0, \"positiveIncrease\": 1591.0, \"totalTestResultsIncrease\": 57429.0}, {\"State\": \"CA\", \"Date\": \"05-19-2020\", \"Confirmed\": 83752.0, \"Deaths\": 3403.0, \"Recovered\": 0.0, \"Confirmed_New\": 2295.0, \"Deaths_New\": 124.0, \"Recovered_New\": 0.0, \"Active\": 80349.0, \"positive\": 81795.0, \"negative\": 1257521.0, \"pending\": null, \"Hospitalized\": 4363.0, \"hospitalizedCumulative\": null, \"inIcuCurrently\": 1307.0, \"inIcuCumulative\": null, \"onVentilatorCurrently\": null, \"onVentilatorCumulative\": null, \"recovered\": null, \"dataQualityGrade\": \"B\", \"lastUpdateEt\": \"5/19/2020 00:00\", \"hash\": \"ad1044e4a2c384424aa492acbe2154e655566e10\", \"dateChecked\": \"2020-05-19T20:00:00Z\", \"death\": 3334.0, \"hospitalized\": null, \"total\": 1339316.0, \"totalTestResults\": 1339316.0, \"posNeg\": 1339316.0, \"fips\": 6.0, \"deathIncrease\": 32.0, \"hospitalizedIncrease\": 0.0, \"negativeIncrease\": 45279.0, \"positiveIncrease\": 1365.0, \"totalTestResultsIncrease\": 46644.0}, {\"State\": \"CA\", \"Date\": \"05-20-2020\", \"Confirmed\": 85997.0, \"Deaths\": 3497.0, \"Recovered\": 0.0, \"Confirmed_New\": 2245.0, \"Deaths_New\": 94.0, \"Recovered_New\": 0.0, \"Active\": 82500.0, \"positive\": 84057.0, \"negative\": 1296063.0, \"pending\": null, \"Hospitalized\": 4681.0, \"hospitalizedCumulative\": null, \"inIcuCurrently\": 1345.0, \"inIcuCumulative\": null, \"onVentilatorCurrently\": null, \"onVentilatorCumulative\": null, \"recovered\": null, \"dataQualityGrade\": \"B\", \"lastUpdateEt\": \"5/20/2020 00:00\", \"hash\": \"6be7a20ccb8deab94178b9db3e70d2c1cf2147c7\", \"dateChecked\": \"2020-05-20T20:00:00Z\", \"death\": 3436.0, \"hospitalized\": null, \"total\": 1380120.0, \"totalTestResults\": 1380120.0, \"posNeg\": 1380120.0, \"fips\": 6.0, \"deathIncrease\": 102.0, \"hospitalizedIncrease\": 0.0, \"negativeIncrease\": 38542.0, \"positiveIncrease\": 2262.0, \"totalTestResultsIncrease\": 40804.0}, {\"State\": \"CA\", \"Date\": \"05-21-2020\", \"Confirmed\": 88031.0, \"Deaths\": 3583.0, \"Recovered\": 0.0, \"Confirmed_New\": 2034.0, \"Deaths_New\": 86.0, \"Recovered_New\": 0.0, \"Active\": 84448.0, \"positive\": 86197.0, \"negative\": 1334930.0, \"pending\": null, \"Hospitalized\": 4735.0, \"hospitalizedCumulative\": null, \"inIcuCurrently\": 1310.0, \"inIcuCumulative\": null, \"onVentilatorCurrently\": null, \"onVentilatorCumulative\": null, \"recovered\": null, \"dataQualityGrade\": \"B\", \"lastUpdateEt\": \"5/21/2020 00:00\", \"hash\": \"21f1a097d2a21256e6cd031933e78f8813587e4e\", \"dateChecked\": \"2020-05-21T20:00:00Z\", \"death\": 3542.0, \"hospitalized\": null, \"total\": 1421127.0, \"totalTestResults\": 1421127.0, \"posNeg\": 1421127.0, \"fips\": 6.0, \"deathIncrease\": 106.0, \"hospitalizedIncrease\": 0.0, \"negativeIncrease\": 38867.0, \"positiveIncrease\": 2140.0, \"totalTestResultsIncrease\": 41007.0}]}}, {\"mode\": \"vega-lite\"});\n",
       "</script>"
      ],
      "text/plain": [
       "alt.LayerChart(...)"
      ]
     },
     "execution_count": 28,
     "metadata": {},
     "output_type": "execute_result"
    }
   ],
   "source": [
    "state = alt.Chart(data[data['State'] == 'CA'].sort_values('Date').tail(7)).mark_line().encode(\n",
    "    x='Date:T',\n",
    "    y='Hospitalized:Q'\n",
    ")\n",
    "reg = state.transform_regression(\"Date\", \"Hospitalized\", method=\"poly\").mark_line(color='red', strokeDash=[6,3])\n",
    "(state+reg).interactive()"
   ]
  },
  {
   "cell_type": "code",
   "execution_count": null,
   "metadata": {},
   "outputs": [],
   "source": []
  }
 ],
 "metadata": {
  "kernelspec": {
   "display_name": "Python 3",
   "language": "python",
   "name": "python3"
  },
  "language_info": {
   "codemirror_mode": {
    "name": "ipython",
    "version": 3
   },
   "file_extension": ".py",
   "mimetype": "text/x-python",
   "name": "python",
   "nbconvert_exporter": "python",
   "pygments_lexer": "ipython3",
   "version": "3.7.6"
  }
 },
 "nbformat": 4,
 "nbformat_minor": 4
}
