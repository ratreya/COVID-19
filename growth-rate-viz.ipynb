{
 "cells": [
  {
   "cell_type": "markdown",
   "metadata": {},
   "source": [
    "# Slope Comparisons"
   ]
  },
  {
   "cell_type": "code",
   "execution_count": 18,
   "metadata": {},
   "outputs": [],
   "source": [
    "import pandas as pd\n",
    "import numpy as np\n",
    "import altair as alt\n",
    "from scipy import stats\n",
    "from altair import datum\n",
    "from ipywidgets import interact\n",
    "\n",
    "# Set up some global config and variables\n",
    "alt.renderers.enable('default')\n",
    "pd.options.mode.chained_assignment = None\n",
    "np.seterr(all='ignore')\n",
    "\n",
    "df = pd.read_csv('jhu-daily-reports.csv')\n",
    "df['Active']  = df.Confirmed - (df.Deaths + df.Recovered)\n",
    "samples = df[['Date', 'Country']].groupby('Date').Country.nunique()\n",
    "days = samples[samples > 1].index.tolist()\n",
    "df = df[df['Date'].isin(days)]\n",
    "\n",
    "country_level = df.groupby(['Country', 'Date'], as_index=False).sum()\n",
    "def state_data(country):\n",
    "    return df[df['Country'] == country].groupby(['State', 'Date'], as_index=False).sum()\n",
    "def county_data(state):\n",
    "    return df[(df['Country'] == 'US') & (df['State'] == state)].groupby(['County', 'Date'], as_index=False).sum()\n"
   ]
  },
  {
   "cell_type": "code",
   "execution_count": 19,
   "metadata": {},
   "outputs": [],
   "source": [
    "def slope_chart(data, by, offset, xscale='linear', limit=400, scale=1, value='Confirmed_New', window=7, today=days[-1]):\n",
    "    data = data[data['Date']<=today]\n",
    "    source = data[data['Date'] == today]\n",
    "    for var in source[by].unique():\n",
    "        values = data[data[by] == var].sort_values('Date').tail(window)[['Confirmed', value]]\n",
    "        slope, intercept, r_value, p_value, std_err = stats.linregress(values.Confirmed, values[value])\n",
    "        source.loc[source[by] == var, 'Slope'] = slope\n",
    "    source.fillna(0, inplace=True)\n",
    "    source = source[source[value] > limit]\n",
    "\n",
    "    title = 'Slope of %s in last %d days since %s vs. Total Confirmed' % (' '.join(value.split('_')), window, today)\n",
    "    base = alt.Chart(source, title=title).mark_point(filled=True, stroke='grey').encode(\n",
    "        alt.X('Confirmed:Q', scale=alt.Scale(type=xscale), axis=alt.Axis(offset=offset)),\n",
    "        y='Slope:Q',\n",
    "        color=alt.Color(by+':N', scale=alt.Scale(scheme='category20'), legend=alt.Legend(columns=2, clipHeight=20, padding=10)),\n",
    "        size=alt.Size(value+':Q', scale=alt.Scale(domain=[source.Confirmed_New.min(), source.Confirmed_New.max()], range=[100*scale, 3000*scale])),\n",
    "        tooltip=[by, 'Confirmed', 'Slope', value]\n",
    "    )\n",
    "    text = base.mark_text().encode(\n",
    "        text=by+':N',\n",
    "        size=alt.value(12),\n",
    "        color=alt.value('black')\n",
    "    ).transform_filter(datum[value] > limit*2)\n",
    "    regression = base.transform_regression('Confirmed', 'Slope', method=\"poly\", order=1).mark_line(strokeDash=[6,8]).encode(color=alt.value('grey'), size=alt.value(2))\n",
    "    hline = alt.Chart().mark_rule(color='red', strokeDash=[6,3]).encode(y='a:Q').transform_calculate(a=\"0\")\n",
    "\n",
    "    return (base+text+regression+hline) if offset == 0 else (base+text+regression)"
   ]
  },
  {
   "cell_type": "markdown",
   "metadata": {},
   "source": [
    "# Country Level"
   ]
  },
  {
   "cell_type": "code",
   "execution_count": 20,
   "metadata": {},
   "outputs": [
    {
     "data": {
      "text/html": [
       "\n",
       "<div id=\"altair-viz-2e2563280e0448d89f42c2c791adb4f7\"></div>\n",
       "<script type=\"text/javascript\">\n",
       "  (function(spec, embedOpt){\n",
       "    const outputDiv = document.getElementById(\"altair-viz-2e2563280e0448d89f42c2c791adb4f7\");\n",
       "    const paths = {\n",
       "      \"vega\": \"https://cdn.jsdelivr.net/npm//vega@5?noext\",\n",
       "      \"vega-lib\": \"https://cdn.jsdelivr.net/npm//vega-lib?noext\",\n",
       "      \"vega-lite\": \"https://cdn.jsdelivr.net/npm//vega-lite@4.0.2?noext\",\n",
       "      \"vega-embed\": \"https://cdn.jsdelivr.net/npm//vega-embed@6?noext\",\n",
       "    };\n",
       "\n",
       "    function loadScript(lib) {\n",
       "      return new Promise(function(resolve, reject) {\n",
       "        var s = document.createElement('script');\n",
       "        s.src = paths[lib];\n",
       "        s.async = true;\n",
       "        s.onload = () => resolve(paths[lib]);\n",
       "        s.onerror = () => reject(`Error loading script: ${paths[lib]}`);\n",
       "        document.getElementsByTagName(\"head\")[0].appendChild(s);\n",
       "      });\n",
       "    }\n",
       "\n",
       "    function showError(err) {\n",
       "      outputDiv.innerHTML = `<div class=\"error\" style=\"color:red;\">${err}</div>`;\n",
       "      throw err;\n",
       "    }\n",
       "\n",
       "    function displayChart(vegaEmbed) {\n",
       "      vegaEmbed(outputDiv, spec, embedOpt)\n",
       "        .catch(err => showError(`Javascript Error: ${err.message}<br>This usually means there's a typo in your chart specification. See the javascript console for the full traceback.`));\n",
       "    }\n",
       "\n",
       "    if(typeof define === \"function\" && define.amd) {\n",
       "      requirejs.config({paths});\n",
       "      require([\"vega-embed\"], displayChart, err => showError(`Error loading script: ${err.message}`));\n",
       "    } else if (typeof vegaEmbed === \"function\") {\n",
       "      displayChart(vegaEmbed);\n",
       "    } else {\n",
       "      loadScript(\"vega\")\n",
       "        .then(() => loadScript(\"vega-lite\"))\n",
       "        .then(() => loadScript(\"vega-embed\"))\n",
       "        .catch(showError)\n",
       "        .then(() => displayChart(vegaEmbed));\n",
       "    }\n",
       "  })({\"config\": {\"view\": {\"continuousWidth\": 400, \"continuousHeight\": 300}}, \"layer\": [{\"mark\": {\"type\": \"point\", \"filled\": true, \"stroke\": \"grey\"}, \"encoding\": {\"color\": {\"type\": \"nominal\", \"field\": \"Country\", \"legend\": {\"clipHeight\": 20, \"columns\": 2, \"padding\": 10}, \"scale\": {\"scheme\": \"category20\"}}, \"size\": {\"type\": \"quantitative\", \"field\": \"Confirmed_New\", \"scale\": {\"domain\": [606.0, 25050.0], \"range\": [500, 15000]}}, \"tooltip\": [{\"type\": \"nominal\", \"field\": \"Country\"}, {\"type\": \"quantitative\", \"field\": \"Confirmed\"}, {\"type\": \"quantitative\", \"field\": \"Slope\"}, {\"type\": \"quantitative\", \"field\": \"Confirmed_New\"}], \"x\": {\"type\": \"quantitative\", \"axis\": {\"offset\": -200}, \"field\": \"Confirmed\", \"scale\": {\"type\": \"log\"}}, \"y\": {\"type\": \"quantitative\", \"field\": \"Slope\"}}, \"selection\": {\"selector011\": {\"type\": \"interval\", \"bind\": \"scales\", \"encodings\": [\"x\", \"y\"]}}, \"title\": \"Slope of Confirmed New in last 7 days since 05-15-2020 vs. Total Confirmed\"}, {\"mark\": \"text\", \"encoding\": {\"color\": {\"value\": \"black\"}, \"size\": {\"value\": 12}, \"text\": {\"type\": \"nominal\", \"field\": \"Country\"}, \"tooltip\": [{\"type\": \"nominal\", \"field\": \"Country\"}, {\"type\": \"quantitative\", \"field\": \"Confirmed\"}, {\"type\": \"quantitative\", \"field\": \"Slope\"}, {\"type\": \"quantitative\", \"field\": \"Confirmed_New\"}], \"x\": {\"type\": \"quantitative\", \"axis\": {\"offset\": -200}, \"field\": \"Confirmed\", \"scale\": {\"type\": \"log\"}}, \"y\": {\"type\": \"quantitative\", \"field\": \"Slope\"}}, \"title\": \"Slope of Confirmed New in last 7 days since 05-15-2020 vs. Total Confirmed\", \"transform\": [{\"filter\": \"(datum['Confirmed_New'] > 1000)\"}]}, {\"mark\": {\"type\": \"line\", \"strokeDash\": [6, 8]}, \"encoding\": {\"color\": {\"value\": \"grey\"}, \"size\": {\"value\": 2}, \"tooltip\": [{\"type\": \"nominal\", \"field\": \"Country\"}, {\"type\": \"quantitative\", \"field\": \"Confirmed\"}, {\"type\": \"quantitative\", \"field\": \"Slope\"}, {\"type\": \"quantitative\", \"field\": \"Confirmed_New\"}], \"x\": {\"type\": \"quantitative\", \"axis\": {\"offset\": -200}, \"field\": \"Confirmed\", \"scale\": {\"type\": \"log\"}}, \"y\": {\"type\": \"quantitative\", \"field\": \"Slope\"}}, \"title\": \"Slope of Confirmed New in last 7 days since 05-15-2020 vs. Total Confirmed\", \"transform\": [{\"on\": \"Confirmed\", \"regression\": \"Slope\", \"method\": \"poly\", \"order\": 1}]}], \"data\": {\"name\": \"data-88a7919fb69798e1856826c65a387f3d\"}, \"height\": 800, \"width\": 1200, \"$schema\": \"https://vega.github.io/schema/vega-lite/v4.0.2.json\", \"datasets\": {\"data-88a7919fb69798e1856826c65a387f3d\": [{\"Country\": \"Bangladesh\", \"Date\": \"05-15-2020\", \"Confirmed\": 20065.0, \"Deaths\": 298.0, \"Recovered\": 3882.0, \"Confirmed_New\": 1202.0, \"Deaths_New\": 15.0, \"Recovered_New\": 521.0, \"Active\": 15885.0, \"Slope\": 0.0716746911273793}, {\"Country\": \"Belarus\", \"Date\": \"05-15-2020\", \"Confirmed\": 27730.0, \"Deaths\": 156.0, \"Recovered\": 8807.0, \"Confirmed_New\": 958.0, \"Deaths_New\": 5.0, \"Recovered_New\": 639.0, \"Active\": 18767.0, \"Slope\": 0.003488796024342949}, {\"Country\": \"Brazil\", \"Date\": \"05-15-2020\", \"Confirmed\": 220291.0, \"Deaths\": 14962.0, \"Recovered\": 84970.0, \"Confirmed_New\": 17126.0, \"Deaths_New\": 963.0, \"Recovered_New\": 5491.0, \"Active\": 120359.0, \"Slope\": 0.15049144308331938}, {\"Country\": \"Canada\", \"Date\": \"05-15-2020\", \"Confirmed\": 75959.0, \"Deaths\": 5679.0, \"Recovered\": 36908.0, \"Confirmed_New\": 1178.0, \"Deaths_New\": 87.0, \"Recovered_New\": 804.0, \"Active\": 33372.0, \"Slope\": -0.004283865761485887}, {\"Country\": \"Chile\", \"Date\": \"05-15-2020\", \"Confirmed\": 39542.0, \"Deaths\": 394.0, \"Recovered\": 16614.0, \"Confirmed_New\": 2502.0, \"Deaths_New\": 26.0, \"Recovered_New\": 959.0, \"Active\": 22534.0, \"Slope\": 0.1265859573782627}, {\"Country\": \"Colombia\", \"Date\": \"05-15-2020\", \"Confirmed\": 14216.0, \"Deaths\": 546.0, \"Recovered\": 3460.0, \"Confirmed_New\": 606.0, \"Deaths_New\": 21.0, \"Recovered_New\": 102.0, \"Active\": 10210.0, \"Slope\": 0.04592640703952463}, {\"Country\": \"Ecuador\", \"Date\": \"05-15-2020\", \"Confirmed\": 31467.0, \"Deaths\": 2594.0, \"Recovered\": 3433.0, \"Confirmed_New\": 965.0, \"Deaths_New\": 256.0, \"Recovered_New\": 0.0, \"Active\": 25440.0, \"Slope\": 0.2592068580229085}, {\"Country\": \"France\", \"Date\": \"05-15-2020\", \"Confirmed\": 179630.0, \"Deaths\": 27532.0, \"Recovered\": 60562.0, \"Confirmed_New\": 636.0, \"Deaths_New\": 104.0, \"Recovered_New\": 843.0, \"Active\": 91536.0, \"Slope\": 0.097890841541322}, {\"Country\": \"Germany\", \"Date\": \"05-15-2020\", \"Confirmed\": 175233.0, \"Deaths\": 7897.0, \"Recovered\": 151597.0, \"Confirmed_New\": 755.0, \"Deaths_New\": 13.0, \"Recovered_New\": 1297.0, \"Active\": 15739.0, \"Slope\": -0.034191710292955334}, {\"Country\": \"India\", \"Date\": \"05-15-2020\", \"Confirmed\": 81970.0, \"Deaths\": 2649.0, \"Recovered\": 27920.0, \"Confirmed_New\": 3967.0, \"Deaths_New\": 100.0, \"Recovered_New\": 1685.0, \"Active\": 51401.0, \"Slope\": 0.02111649215057543}, {\"Country\": \"Iran\", \"Date\": \"05-15-2020\", \"Confirmed\": 116635.0, \"Deaths\": 6902.0, \"Recovered\": 91836.0, \"Confirmed_New\": 2102.0, \"Deaths_New\": 48.0, \"Recovered_New\": 1297.0, \"Active\": 17897.0, \"Slope\": 0.05989410423911843}, {\"Country\": \"Italy\", \"Date\": \"05-15-2020\", \"Confirmed\": 223885.0, \"Deaths\": 31610.0, \"Recovered\": 120205.0, \"Confirmed_New\": 789.0, \"Deaths_New\": 242.0, \"Recovered_New\": 4917.0, \"Active\": 72070.0, \"Slope\": -0.08282910133246824}, {\"Country\": \"Kuwait\", \"Date\": \"05-15-2020\", \"Confirmed\": 12860.0, \"Deaths\": 96.0, \"Recovered\": 3640.0, \"Confirmed_New\": 885.0, \"Deaths_New\": 8.0, \"Recovered_New\": 189.0, \"Active\": 9124.0, \"Slope\": 0.05975370672560152}, {\"Country\": \"Mexico\", \"Date\": \"05-15-2020\", \"Confirmed\": 45032.0, \"Deaths\": 4767.0, \"Recovered\": 30451.0, \"Confirmed_New\": 2437.0, \"Deaths_New\": 290.0, \"Recovered_New\": 1976.0, \"Active\": 9814.0, \"Slope\": 0.07430134099951208}, {\"Country\": \"Pakistan\", \"Date\": \"05-15-2020\", \"Confirmed\": 38799.0, \"Deaths\": 834.0, \"Recovered\": 10880.0, \"Confirmed_New\": 3011.0, \"Deaths_New\": 64.0, \"Recovered_New\": 1185.0, \"Active\": 27085.0, \"Slope\": 0.00905575008760531}, {\"Country\": \"Peru\", \"Date\": \"05-15-2020\", \"Confirmed\": 84495.0, \"Deaths\": 2392.0, \"Recovered\": 27147.0, \"Confirmed_New\": 3891.0, \"Deaths_New\": 125.0, \"Recovered_New\": 1996.0, \"Active\": 54956.0, \"Slope\": 0.10223872696386598}, {\"Country\": \"Qatar\", \"Date\": \"05-15-2020\", \"Confirmed\": 29425.0, \"Deaths\": 14.0, \"Recovered\": 3546.0, \"Confirmed_New\": 1153.0, \"Deaths_New\": 0.0, \"Recovered_New\": 190.0, \"Active\": 25865.0, \"Slope\": 0.03866206929588344}, {\"Country\": \"Russia\", \"Date\": \"05-15-2020\", \"Confirmed\": 262843.0, \"Deaths\": 2418.0, \"Recovered\": 58226.0, \"Confirmed_New\": 10598.0, \"Deaths_New\": 113.0, \"Recovered_New\": 4696.0, \"Active\": 202199.0, \"Slope\": -0.014343050469439322}, {\"Country\": \"Saudi Arabia\", \"Date\": \"05-15-2020\", \"Confirmed\": 49176.0, \"Deaths\": 292.0, \"Recovered\": 21869.0, \"Confirmed_New\": 2307.0, \"Deaths_New\": 9.0, \"Recovered_New\": 2818.0, \"Active\": 27015.0, \"Slope\": 0.036504957277008955}, {\"Country\": \"Singapore\", \"Date\": \"05-15-2020\", \"Confirmed\": 26891.0, \"Deaths\": 21.0, \"Recovered\": 7248.0, \"Confirmed_New\": 793.0, \"Deaths_New\": 0.0, \"Recovered_New\": 1275.0, \"Active\": 19622.0, \"Slope\": 0.006501438521495857}, {\"Country\": \"South Africa\", \"Date\": \"05-15-2020\", \"Confirmed\": 13524.0, \"Deaths\": 247.0, \"Recovered\": 6083.0, \"Confirmed_New\": 785.0, \"Deaths_New\": 9.0, \"Recovered_New\": 407.0, \"Active\": 7194.0, \"Slope\": 0.05228268990668905}, {\"Country\": \"Spain\", \"Date\": \"05-15-2020\", \"Confirmed\": 230183.0, \"Deaths\": 27459.0, \"Recovered\": 144783.0, \"Confirmed_New\": 643.0, \"Deaths_New\": 138.0, \"Recovered_New\": 1409.0, \"Active\": 57941.0, \"Slope\": -0.0519462597184451}, {\"Country\": \"Sweden\", \"Date\": \"05-15-2020\", \"Confirmed\": 29207.0, \"Deaths\": 3646.0, \"Recovered\": 4971.0, \"Confirmed_New\": 625.0, \"Deaths_New\": 117.0, \"Recovered_New\": 0.0, \"Active\": 20590.0, \"Slope\": 0.05315118735331646}, {\"Country\": \"Turkey\", \"Date\": \"05-15-2020\", \"Confirmed\": 146457.0, \"Deaths\": 4055.0, \"Recovered\": 106133.0, \"Confirmed_New\": 1708.0, \"Deaths_New\": 48.0, \"Recovered_New\": 2103.0, \"Active\": 36269.0, \"Slope\": 0.029274906625128987}, {\"Country\": \"UK\", \"Date\": \"05-15-2020\", \"Confirmed\": 238004.0, \"Deaths\": 34078.0, \"Recovered\": 1047.0, \"Confirmed_New\": 3564.0, \"Deaths_New\": 385.0, \"Recovered_New\": 4.0, \"Active\": 202879.0, \"Slope\": -0.025933575811824913}, {\"Country\": \"US\", \"Date\": \"05-15-2020\", \"Confirmed\": 1442824.0, \"Deaths\": 87530.0, \"Recovered\": 250747.0, \"Confirmed_New\": 25050.0, \"Deaths_New\": 1632.0, \"Recovered_New\": 4333.0, \"Active\": 1104547.0, \"Slope\": 0.02847863251113414}, {\"Country\": \"United Arab Emirates\", \"Date\": \"05-15-2020\", \"Confirmed\": 21831.0, \"Deaths\": 210.0, \"Recovered\": 7328.0, \"Confirmed_New\": 747.0, \"Deaths_New\": 2.0, \"Recovered_New\": 398.0, \"Active\": 14293.0, \"Slope\": 0.01252047867414724}]}}, {\"mode\": \"vega-lite\"});\n",
       "</script>"
      ],
      "text/plain": [
       "alt.LayerChart(...)"
      ]
     },
     "execution_count": 20,
     "metadata": {},
     "output_type": "execute_result"
    }
   ],
   "source": [
    "slope_chart(country_level, 'Country', -200, xscale='log', limit=500, scale=5, window=7).properties(\n",
    "    width=1200,\n",
    "    height=800\n",
    ").interactive()"
   ]
  },
  {
   "cell_type": "code",
   "execution_count": 21,
   "metadata": {},
   "outputs": [
    {
     "data": {
      "text/html": [
       "\n",
       "<div id=\"altair-viz-3b8a8526ae0745af99bb830465d16c12\"></div>\n",
       "<script type=\"text/javascript\">\n",
       "  (function(spec, embedOpt){\n",
       "    const outputDiv = document.getElementById(\"altair-viz-3b8a8526ae0745af99bb830465d16c12\");\n",
       "    const paths = {\n",
       "      \"vega\": \"https://cdn.jsdelivr.net/npm//vega@5?noext\",\n",
       "      \"vega-lib\": \"https://cdn.jsdelivr.net/npm//vega-lib?noext\",\n",
       "      \"vega-lite\": \"https://cdn.jsdelivr.net/npm//vega-lite@4.0.2?noext\",\n",
       "      \"vega-embed\": \"https://cdn.jsdelivr.net/npm//vega-embed@6?noext\",\n",
       "    };\n",
       "\n",
       "    function loadScript(lib) {\n",
       "      return new Promise(function(resolve, reject) {\n",
       "        var s = document.createElement('script');\n",
       "        s.src = paths[lib];\n",
       "        s.async = true;\n",
       "        s.onload = () => resolve(paths[lib]);\n",
       "        s.onerror = () => reject(`Error loading script: ${paths[lib]}`);\n",
       "        document.getElementsByTagName(\"head\")[0].appendChild(s);\n",
       "      });\n",
       "    }\n",
       "\n",
       "    function showError(err) {\n",
       "      outputDiv.innerHTML = `<div class=\"error\" style=\"color:red;\">${err}</div>`;\n",
       "      throw err;\n",
       "    }\n",
       "\n",
       "    function displayChart(vegaEmbed) {\n",
       "      vegaEmbed(outputDiv, spec, embedOpt)\n",
       "        .catch(err => showError(`Javascript Error: ${err.message}<br>This usually means there's a typo in your chart specification. See the javascript console for the full traceback.`));\n",
       "    }\n",
       "\n",
       "    if(typeof define === \"function\" && define.amd) {\n",
       "      requirejs.config({paths});\n",
       "      require([\"vega-embed\"], displayChart, err => showError(`Error loading script: ${err.message}`));\n",
       "    } else if (typeof vegaEmbed === \"function\") {\n",
       "      displayChart(vegaEmbed);\n",
       "    } else {\n",
       "      loadScript(\"vega\")\n",
       "        .then(() => loadScript(\"vega-lite\"))\n",
       "        .then(() => loadScript(\"vega-embed\"))\n",
       "        .catch(showError)\n",
       "        .then(() => displayChart(vegaEmbed));\n",
       "    }\n",
       "  })({\"config\": {\"view\": {\"continuousWidth\": 400, \"continuousHeight\": 300}}, \"layer\": [{\"mark\": \"line\", \"encoding\": {\"x\": {\"type\": \"quantitative\", \"axis\": {\"title\": \"Cumulative Cases\"}, \"field\": \"Confirmed\"}, \"y\": {\"type\": \"quantitative\", \"axis\": {\"title\": \"New Cases\"}, \"field\": \"Confirmed_New\"}}, \"selection\": {\"selector012\": {\"type\": \"interval\", \"bind\": \"scales\", \"encodings\": [\"x\", \"y\"]}}}, {\"mark\": {\"type\": \"line\", \"color\": \"red\", \"strokeDash\": [6, 3]}, \"encoding\": {\"x\": {\"type\": \"quantitative\", \"axis\": {\"title\": \"Cumulative Cases\"}, \"field\": \"Confirmed\"}, \"y\": {\"type\": \"quantitative\", \"axis\": {\"title\": \"New Cases\"}, \"field\": \"Confirmed_New\"}}, \"transform\": [{\"on\": \"Confirmed\", \"regression\": \"Confirmed_New\", \"method\": \"poly\"}]}], \"data\": {\"name\": \"data-08d5a7a8fea80cd418929b1b88f49597\"}, \"$schema\": \"https://vega.github.io/schema/vega-lite/v4.0.2.json\", \"datasets\": {\"data-08d5a7a8fea80cd418929b1b88f49597\": [{\"Country\": \"US\", \"Date\": \"04-16-2020\", \"Confirmed\": 667801.0, \"Deaths\": 32916.0, \"Recovered\": 54703.0, \"Confirmed_New\": 31449.0, \"Deaths_New\": 4591.0, \"Recovered_New\": 2607.0, \"Active\": 580182.0}, {\"Country\": \"US\", \"Date\": \"04-17-2020\", \"Confirmed\": 699706.0, \"Deaths\": 36773.0, \"Recovered\": 58545.0, \"Confirmed_New\": 31976.0, \"Deaths_New\": 3857.0, \"Recovered_New\": 3842.0, \"Active\": 604388.0}, {\"Country\": \"US\", \"Date\": \"04-18-2020\", \"Confirmed\": 732197.0, \"Deaths\": 38664.0, \"Recovered\": 64840.0, \"Confirmed_New\": 32491.0, \"Deaths_New\": 1891.0, \"Recovered_New\": 6295.0, \"Active\": 628693.0}, {\"Country\": \"US\", \"Date\": \"04-19-2020\", \"Confirmed\": 759086.0, \"Deaths\": 40661.0, \"Recovered\": 70337.0, \"Confirmed_New\": 26889.0, \"Deaths_New\": 1995.0, \"Recovered_New\": 5497.0, \"Active\": 648088.0}, {\"Country\": \"US\", \"Date\": \"04-20-2020\", \"Confirmed\": 784326.0, \"Deaths\": 42094.0, \"Recovered\": 72329.0, \"Confirmed_New\": 25211.0, \"Deaths_New\": 1433.0, \"Recovered_New\": 1992.0, \"Active\": 669903.0}, {\"Country\": \"US\", \"Date\": \"04-21-2020\", \"Confirmed\": 811865.0, \"Deaths\": 44444.0, \"Recovered\": 75204.0, \"Confirmed_New\": 27539.0, \"Deaths_New\": 2350.0, \"Recovered_New\": 2875.0, \"Active\": 692217.0}, {\"Country\": \"US\", \"Date\": \"04-22-2020\", \"Confirmed\": 840220.0, \"Deaths\": 46622.0, \"Recovered\": 77366.0, \"Confirmed_New\": 28355.0, \"Deaths_New\": 2178.0, \"Recovered_New\": 2162.0, \"Active\": 716232.0}, {\"Country\": \"US\", \"Date\": \"04-23-2020\", \"Confirmed\": 869170.0, \"Deaths\": 49954.0, \"Recovered\": 80203.0, \"Confirmed_New\": 28950.0, \"Deaths_New\": 3331.0, \"Recovered_New\": 2837.0, \"Active\": 739013.0}, {\"Country\": \"US\", \"Date\": \"04-24-2020\", \"Confirmed\": 905333.0, \"Deaths\": 51949.0, \"Recovered\": 99079.0, \"Confirmed_New\": 36163.0, \"Deaths_New\": 1995.0, \"Recovered_New\": 18876.0, \"Active\": 754305.0}, {\"Country\": \"US\", \"Date\": \"04-25-2020\", \"Confirmed\": 938154.0, \"Deaths\": 53755.0, \"Recovered\": 100372.0, \"Confirmed_New\": 32821.0, \"Deaths_New\": 1806.0, \"Recovered_New\": 1293.0, \"Active\": 784027.0}, {\"Country\": \"US\", \"Date\": \"04-26-2020\", \"Confirmed\": 965783.0, \"Deaths\": 54881.0, \"Recovered\": 106988.0, \"Confirmed_New\": 27629.0, \"Deaths_New\": 1126.0, \"Recovered_New\": 6616.0, \"Active\": 803914.0}, {\"Country\": \"US\", \"Date\": \"04-27-2020\", \"Confirmed\": 988197.0, \"Deaths\": 56259.0, \"Recovered\": 111424.0, \"Confirmed_New\": 22414.0, \"Deaths_New\": 1378.0, \"Recovered_New\": 4436.0, \"Active\": 820514.0}, {\"Country\": \"US\", \"Date\": \"04-28-2020\", \"Confirmed\": 1012582.0, \"Deaths\": 58355.0, \"Recovered\": 115936.0, \"Confirmed_New\": 24385.0, \"Deaths_New\": 2096.0, \"Recovered_New\": 4512.0, \"Active\": 838291.0}, {\"Country\": \"US\", \"Date\": \"04-29-2020\", \"Confirmed\": 1039909.0, \"Deaths\": 60967.0, \"Recovered\": 120720.0, \"Confirmed_New\": 27326.0, \"Deaths_New\": 2612.0, \"Recovered_New\": 4784.0, \"Active\": 858222.0}, {\"Country\": \"US\", \"Date\": \"04-30-2020\", \"Confirmed\": 1069424.0, \"Deaths\": 62996.0, \"Recovered\": 153947.0, \"Confirmed_New\": 29515.0, \"Deaths_New\": 2029.0, \"Recovered_New\": 33227.0, \"Active\": 852481.0}, {\"Country\": \"US\", \"Date\": \"05-01-2020\", \"Confirmed\": 1103461.0, \"Deaths\": 64943.0, \"Recovered\": 164015.0, \"Confirmed_New\": 34037.0, \"Deaths_New\": 2030.0, \"Recovered_New\": 10068.0, \"Active\": 874503.0}, {\"Country\": \"US\", \"Date\": \"05-02-2020\", \"Confirmed\": 1132539.0, \"Deaths\": 66369.0, \"Recovered\": 175382.0, \"Confirmed_New\": 29078.0, \"Deaths_New\": 1343.0, \"Recovered_New\": 11367.0, \"Active\": 890788.0}, {\"Country\": \"US\", \"Date\": \"05-03-2020\", \"Confirmed\": 1158040.0, \"Deaths\": 67682.0, \"Recovered\": 180152.0, \"Confirmed_New\": 25501.0, \"Deaths_New\": 1313.0, \"Recovered_New\": 4770.0, \"Active\": 910206.0}, {\"Country\": \"US\", \"Date\": \"05-04-2020\", \"Confirmed\": 1180375.0, \"Deaths\": 68922.0, \"Recovered\": 187180.0, \"Confirmed_New\": 22335.0, \"Deaths_New\": 1240.0, \"Recovered_New\": 7028.0, \"Active\": 924273.0}, {\"Country\": \"US\", \"Date\": \"05-05-2020\", \"Confirmed\": 1204351.0, \"Deaths\": 71064.0, \"Recovered\": 189791.0, \"Confirmed_New\": 23976.0, \"Deaths_New\": 2142.0, \"Recovered_New\": 2611.0, \"Active\": 943496.0}, {\"Country\": \"US\", \"Date\": \"05-06-2020\", \"Confirmed\": 1228603.0, \"Deaths\": 73431.0, \"Recovered\": 189910.0, \"Confirmed_New\": 24184.0, \"Deaths_New\": 2363.0, \"Recovered_New\": 119.0, \"Active\": 965262.0}, {\"Country\": \"US\", \"Date\": \"05-07-2020\", \"Confirmed\": 1257023.0, \"Deaths\": 75662.0, \"Recovered\": 195036.0, \"Confirmed_New\": 28420.0, \"Deaths_New\": 2231.0, \"Recovered_New\": 5126.0, \"Active\": 986325.0}, {\"Country\": \"US\", \"Date\": \"05-08-2020\", \"Confirmed\": 1283929.0, \"Deaths\": 77180.0, \"Recovered\": 198993.0, \"Confirmed_New\": 26906.0, \"Deaths_New\": 1518.0, \"Recovered_New\": 3957.0, \"Active\": 1007756.0}, {\"Country\": \"US\", \"Date\": \"05-09-2020\", \"Confirmed\": 1309550.0, \"Deaths\": 78795.0, \"Recovered\": 212534.0, \"Confirmed_New\": 25621.0, \"Deaths_New\": 1615.0, \"Recovered_New\": 13541.0, \"Active\": 1018221.0}, {\"Country\": \"US\", \"Date\": \"05-10-2020\", \"Confirmed\": 1329260.0, \"Deaths\": 79526.0, \"Recovered\": 216169.0, \"Confirmed_New\": 19710.0, \"Deaths_New\": 731.0, \"Recovered_New\": 3635.0, \"Active\": 1033565.0}, {\"Country\": \"US\", \"Date\": \"05-11-2020\", \"Confirmed\": 1347881.0, \"Deaths\": 80682.0, \"Recovered\": 232733.0, \"Confirmed_New\": 18621.0, \"Deaths_New\": 1156.0, \"Recovered_New\": 16564.0, \"Active\": 1034466.0}, {\"Country\": \"US\", \"Date\": \"05-12-2020\", \"Confirmed\": 1369574.0, \"Deaths\": 82376.0, \"Recovered\": 230287.0, \"Confirmed_New\": 21693.0, \"Deaths_New\": 1694.0, \"Recovered_New\": -2446.0, \"Active\": 1056911.0}, {\"Country\": \"US\", \"Date\": \"05-13-2020\", \"Confirmed\": 1390406.0, \"Deaths\": 84119.0, \"Recovered\": 243430.0, \"Confirmed_New\": 20833.0, \"Deaths_New\": 1743.0, \"Recovered_New\": 13143.0, \"Active\": 1062857.0}, {\"Country\": \"US\", \"Date\": \"05-14-2020\", \"Confirmed\": 1417774.0, \"Deaths\": 85898.0, \"Recovered\": 246414.0, \"Confirmed_New\": 27368.0, \"Deaths_New\": 1779.0, \"Recovered_New\": 2984.0, \"Active\": 1085462.0}, {\"Country\": \"US\", \"Date\": \"05-15-2020\", \"Confirmed\": 1442824.0, \"Deaths\": 87530.0, \"Recovered\": 250747.0, \"Confirmed_New\": 25050.0, \"Deaths_New\": 1632.0, \"Recovered_New\": 4333.0, \"Active\": 1104547.0}]}}, {\"mode\": \"vega-lite\"});\n",
       "</script>"
      ],
      "text/plain": [
       "alt.LayerChart(...)"
      ]
     },
     "execution_count": 21,
     "metadata": {},
     "output_type": "execute_result"
    }
   ],
   "source": [
    "data = country_level\n",
    "state = alt.Chart(data[data['Country'] == 'US'].sort_values('Date').tail(30)).mark_line().encode(\n",
    "    alt.X('Confirmed:Q', axis=alt.Axis(title='Cumulative Cases')),\n",
    "    alt.Y('Confirmed_New:Q', axis=alt.Axis(title='New Cases'))\n",
    ")\n",
    "reg = state.transform_regression(\"Confirmed\", \"Confirmed_New\", method=\"poly\").mark_line(color='red', strokeDash=[6,3])\n",
    "(state+reg).interactive()"
   ]
  },
  {
   "cell_type": "markdown",
   "metadata": {},
   "source": [
    "# State Level"
   ]
  },
  {
   "cell_type": "code",
   "execution_count": 22,
   "metadata": {},
   "outputs": [
    {
     "data": {
      "application/vnd.jupyter.widget-view+json": {
       "model_id": "8b0332b9d6394f9ea211089f6da42af3",
       "version_major": 2,
       "version_minor": 0
      },
      "text/plain": [
       "interactive(children=(IntSlider(value=7, description='window', max=21, min=2), Output()), _dom_classes=('widge…"
      ]
     },
     "metadata": {},
     "output_type": "display_data"
    }
   ],
   "source": [
    "@interact(window=(2, 21, 1))\n",
    "def chart(window=7):\n",
    "    return slope_chart(state_data('US'), 'State', 0, limit=200, xscale='log', scale=2, window=window).properties(\n",
    "        width=1200,\n",
    "        height=800\n",
    "    ).interactive()"
   ]
  },
  {
   "cell_type": "code",
   "execution_count": 23,
   "metadata": {},
   "outputs": [
    {
     "data": {
      "text/html": [
       "\n",
       "<div id=\"altair-viz-e6196f5eb10741e2ab48d21ca710aac6\"></div>\n",
       "<script type=\"text/javascript\">\n",
       "  (function(spec, embedOpt){\n",
       "    const outputDiv = document.getElementById(\"altair-viz-e6196f5eb10741e2ab48d21ca710aac6\");\n",
       "    const paths = {\n",
       "      \"vega\": \"https://cdn.jsdelivr.net/npm//vega@5?noext\",\n",
       "      \"vega-lib\": \"https://cdn.jsdelivr.net/npm//vega-lib?noext\",\n",
       "      \"vega-lite\": \"https://cdn.jsdelivr.net/npm//vega-lite@4.0.2?noext\",\n",
       "      \"vega-embed\": \"https://cdn.jsdelivr.net/npm//vega-embed@6?noext\",\n",
       "    };\n",
       "\n",
       "    function loadScript(lib) {\n",
       "      return new Promise(function(resolve, reject) {\n",
       "        var s = document.createElement('script');\n",
       "        s.src = paths[lib];\n",
       "        s.async = true;\n",
       "        s.onload = () => resolve(paths[lib]);\n",
       "        s.onerror = () => reject(`Error loading script: ${paths[lib]}`);\n",
       "        document.getElementsByTagName(\"head\")[0].appendChild(s);\n",
       "      });\n",
       "    }\n",
       "\n",
       "    function showError(err) {\n",
       "      outputDiv.innerHTML = `<div class=\"error\" style=\"color:red;\">${err}</div>`;\n",
       "      throw err;\n",
       "    }\n",
       "\n",
       "    function displayChart(vegaEmbed) {\n",
       "      vegaEmbed(outputDiv, spec, embedOpt)\n",
       "        .catch(err => showError(`Javascript Error: ${err.message}<br>This usually means there's a typo in your chart specification. See the javascript console for the full traceback.`));\n",
       "    }\n",
       "\n",
       "    if(typeof define === \"function\" && define.amd) {\n",
       "      requirejs.config({paths});\n",
       "      require([\"vega-embed\"], displayChart, err => showError(`Error loading script: ${err.message}`));\n",
       "    } else if (typeof vegaEmbed === \"function\") {\n",
       "      displayChart(vegaEmbed);\n",
       "    } else {\n",
       "      loadScript(\"vega\")\n",
       "        .then(() => loadScript(\"vega-lite\"))\n",
       "        .then(() => loadScript(\"vega-embed\"))\n",
       "        .catch(showError)\n",
       "        .then(() => displayChart(vegaEmbed));\n",
       "    }\n",
       "  })({\"config\": {\"view\": {\"continuousWidth\": 400, \"continuousHeight\": 300}}, \"layer\": [{\"mark\": \"line\", \"encoding\": {\"x\": {\"type\": \"quantitative\", \"field\": \"Confirmed\"}, \"y\": {\"type\": \"quantitative\", \"field\": \"Confirmed_New\"}}, \"selection\": {\"selector014\": {\"type\": \"interval\", \"bind\": \"scales\", \"encodings\": [\"x\", \"y\"]}}}, {\"mark\": {\"type\": \"line\", \"color\": \"red\", \"strokeDash\": [6, 3]}, \"encoding\": {\"x\": {\"type\": \"quantitative\", \"field\": \"Confirmed\"}, \"y\": {\"type\": \"quantitative\", \"field\": \"Confirmed_New\"}}, \"transform\": [{\"on\": \"Confirmed\", \"regression\": \"Confirmed_New\", \"method\": \"poly\"}]}], \"data\": {\"name\": \"data-dded28b1c685c223fac828963f2859f1\"}, \"$schema\": \"https://vega.github.io/schema/vega-lite/v4.0.2.json\", \"datasets\": {\"data-dded28b1c685c223fac828963f2859f1\": [{\"State\": \"SC\", \"Date\": \"03-17-2020\", \"Confirmed\": 47.0, \"Deaths\": 1.0, \"Recovered\": 0.0, \"Confirmed_New\": 14.0, \"Deaths_New\": 0.0, \"Recovered_New\": 0.0, \"Active\": 46.0}, {\"State\": \"SC\", \"Date\": \"03-18-2020\", \"Confirmed\": 47.0, \"Deaths\": 1.0, \"Recovered\": 0.0, \"Confirmed_New\": 0.0, \"Deaths_New\": 0.0, \"Recovered_New\": 0.0, \"Active\": 46.0}, {\"State\": \"SC\", \"Date\": \"03-19-2020\", \"Confirmed\": 81.0, \"Deaths\": 1.0, \"Recovered\": 0.0, \"Confirmed_New\": 34.0, \"Deaths_New\": 0.0, \"Recovered_New\": 0.0, \"Active\": 80.0}, {\"State\": \"SC\", \"Date\": \"03-20-2020\", \"Confirmed\": 126.0, \"Deaths\": 1.0, \"Recovered\": 0.0, \"Confirmed_New\": 45.0, \"Deaths_New\": 0.0, \"Recovered_New\": 0.0, \"Active\": 125.0}, {\"State\": \"SC\", \"Date\": \"03-21-2020\", \"Confirmed\": 171.0, \"Deaths\": 3.0, \"Recovered\": 0.0, \"Confirmed_New\": 45.0, \"Deaths_New\": 2.0, \"Recovered_New\": 0.0, \"Active\": 168.0}, {\"State\": \"SC\", \"Date\": \"03-22-2020\", \"Confirmed\": 196.0, \"Deaths\": 3.0, \"Recovered\": 0.0, \"Confirmed_New\": 0.0, \"Deaths_New\": 0.0, \"Recovered_New\": 0.0, \"Active\": 193.0}, {\"State\": \"SC\", \"Date\": \"03-23-2020\", \"Confirmed\": 298.0, \"Deaths\": 5.0, \"Recovered\": 0.0, \"Confirmed_New\": 102.0, \"Deaths_New\": 2.0, \"Recovered_New\": 0.0, \"Active\": 293.0}, {\"State\": \"SC\", \"Date\": \"03-24-2020\", \"Confirmed\": 342.0, \"Deaths\": 5.0, \"Recovered\": 0.0, \"Confirmed_New\": 44.0, \"Deaths_New\": 0.0, \"Recovered_New\": 0.0, \"Active\": 337.0}, {\"State\": \"SC\", \"Date\": \"03-25-2020\", \"Confirmed\": 424.0, \"Deaths\": 7.0, \"Recovered\": 0.0, \"Confirmed_New\": 82.0, \"Deaths_New\": 2.0, \"Recovered_New\": 0.0, \"Active\": 417.0}, {\"State\": \"SC\", \"Date\": \"03-26-2020\", \"Confirmed\": 424.0, \"Deaths\": 9.0, \"Recovered\": 0.0, \"Confirmed_New\": 0.0, \"Deaths_New\": 2.0, \"Recovered_New\": 0.0, \"Active\": 415.0}, {\"State\": \"SC\", \"Date\": \"03-27-2020\", \"Confirmed\": 542.0, \"Deaths\": 13.0, \"Recovered\": 0.0, \"Confirmed_New\": 118.0, \"Deaths_New\": 4.0, \"Recovered_New\": 0.0, \"Active\": 529.0}, {\"State\": \"SC\", \"Date\": \"03-28-2020\", \"Confirmed\": 660.0, \"Deaths\": 15.0, \"Recovered\": 0.0, \"Confirmed_New\": 118.0, \"Deaths_New\": 2.0, \"Recovered_New\": 0.0, \"Active\": 645.0}, {\"State\": \"SC\", \"Date\": \"03-29-2020\", \"Confirmed\": 774.0, \"Deaths\": 16.0, \"Recovered\": 0.0, \"Confirmed_New\": 114.0, \"Deaths_New\": 1.0, \"Recovered_New\": 0.0, \"Active\": 758.0}, {\"State\": \"SC\", \"Date\": \"03-30-2020\", \"Confirmed\": 925.0, \"Deaths\": 18.0, \"Recovered\": 0.0, \"Confirmed_New\": 151.0, \"Deaths_New\": 2.0, \"Recovered_New\": 0.0, \"Active\": 907.0}, {\"State\": \"SC\", \"Date\": \"03-31-2020\", \"Confirmed\": 1083.0, \"Deaths\": 22.0, \"Recovered\": 0.0, \"Confirmed_New\": 158.0, \"Deaths_New\": 4.0, \"Recovered_New\": 0.0, \"Active\": 1061.0}, {\"State\": \"SC\", \"Date\": \"04-01-2020\", \"Confirmed\": 1293.0, \"Deaths\": 26.0, \"Recovered\": 0.0, \"Confirmed_New\": 210.0, \"Deaths_New\": 4.0, \"Recovered_New\": 0.0, \"Active\": 1267.0}, {\"State\": \"SC\", \"Date\": \"04-02-2020\", \"Confirmed\": 1554.0, \"Deaths\": 31.0, \"Recovered\": 0.0, \"Confirmed_New\": 261.0, \"Deaths_New\": 5.0, \"Recovered_New\": 0.0, \"Active\": 1523.0}, {\"State\": \"SC\", \"Date\": \"04-03-2020\", \"Confirmed\": 1700.0, \"Deaths\": 34.0, \"Recovered\": 0.0, \"Confirmed_New\": 146.0, \"Deaths_New\": 3.0, \"Recovered_New\": 0.0, \"Active\": 1666.0}, {\"State\": \"SC\", \"Date\": \"04-04-2020\", \"Confirmed\": 1917.0, \"Deaths\": 40.0, \"Recovered\": 0.0, \"Confirmed_New\": 217.0, \"Deaths_New\": 6.0, \"Recovered_New\": 0.0, \"Active\": 1877.0}, {\"State\": \"SC\", \"Date\": \"04-05-2020\", \"Confirmed\": 2049.0, \"Deaths\": 44.0, \"Recovered\": 0.0, \"Confirmed_New\": 132.0, \"Deaths_New\": 4.0, \"Recovered_New\": 0.0, \"Active\": 2005.0}, {\"State\": \"SC\", \"Date\": \"04-06-2020\", \"Confirmed\": 2232.0, \"Deaths\": 48.0, \"Recovered\": 0.0, \"Confirmed_New\": 183.0, \"Deaths_New\": 4.0, \"Recovered_New\": 0.0, \"Active\": 2184.0}, {\"State\": \"SC\", \"Date\": \"04-07-2020\", \"Confirmed\": 2417.0, \"Deaths\": 51.0, \"Recovered\": 0.0, \"Confirmed_New\": 185.0, \"Deaths_New\": 3.0, \"Recovered_New\": 0.0, \"Active\": 2366.0}, {\"State\": \"SC\", \"Date\": \"04-08-2020\", \"Confirmed\": 2417.0, \"Deaths\": 51.0, \"Recovered\": 0.0, \"Confirmed_New\": 0.0, \"Deaths_New\": 0.0, \"Recovered_New\": 0.0, \"Active\": 2366.0}, {\"State\": \"SC\", \"Date\": \"04-09-2020\", \"Confirmed\": 2793.0, \"Deaths\": 67.0, \"Recovered\": 0.0, \"Confirmed_New\": 376.0, \"Deaths_New\": 16.0, \"Recovered_New\": 0.0, \"Active\": 2726.0}, {\"State\": \"SC\", \"Date\": \"04-10-2020\", \"Confirmed\": 3067.0, \"Deaths\": 72.0, \"Recovered\": 0.0, \"Confirmed_New\": 274.0, \"Deaths_New\": 5.0, \"Recovered_New\": 0.0, \"Active\": 2995.0}, {\"State\": \"SC\", \"Date\": \"04-11-2020\", \"Confirmed\": 3211.0, \"Deaths\": 80.0, \"Recovered\": 0.0, \"Confirmed_New\": 144.0, \"Deaths_New\": 8.0, \"Recovered_New\": 0.0, \"Active\": 3131.0}, {\"State\": \"SC\", \"Date\": \"04-12-2020\", \"Confirmed\": 3320.0, \"Deaths\": 82.0, \"Recovered\": 0.0, \"Confirmed_New\": 109.0, \"Deaths_New\": 2.0, \"Recovered_New\": 0.0, \"Active\": 3238.0}, {\"State\": \"SC\", \"Date\": \"04-13-2020\", \"Confirmed\": 3391.0, \"Deaths\": 82.0, \"Recovered\": 0.0, \"Confirmed_New\": 71.0, \"Deaths_New\": 0.0, \"Recovered_New\": 0.0, \"Active\": 3309.0}, {\"State\": \"SC\", \"Date\": \"04-14-2020\", \"Confirmed\": 3553.0, \"Deaths\": 97.0, \"Recovered\": 0.0, \"Confirmed_New\": 162.0, \"Deaths_New\": 15.0, \"Recovered_New\": 0.0, \"Active\": 3456.0}, {\"State\": \"SC\", \"Date\": \"04-15-2020\", \"Confirmed\": 3656.0, \"Deaths\": 106.0, \"Recovered\": 0.0, \"Confirmed_New\": 103.0, \"Deaths_New\": 9.0, \"Recovered_New\": 0.0, \"Active\": 3550.0}, {\"State\": \"SC\", \"Date\": \"04-16-2020\", \"Confirmed\": 3931.0, \"Deaths\": 111.0, \"Recovered\": 0.0, \"Confirmed_New\": 275.0, \"Deaths_New\": 5.0, \"Recovered_New\": 0.0, \"Active\": 3820.0}, {\"State\": \"SC\", \"Date\": \"04-17-2020\", \"Confirmed\": 4099.0, \"Deaths\": 116.0, \"Recovered\": 0.0, \"Confirmed_New\": 168.0, \"Deaths_New\": 5.0, \"Recovered_New\": 0.0, \"Active\": 3983.0}, {\"State\": \"SC\", \"Date\": \"04-18-2020\", \"Confirmed\": 4248.0, \"Deaths\": 119.0, \"Recovered\": 0.0, \"Confirmed_New\": 149.0, \"Deaths_New\": 3.0, \"Recovered_New\": 0.0, \"Active\": 4129.0}, {\"State\": \"SC\", \"Date\": \"04-19-2020\", \"Confirmed\": 4377.0, \"Deaths\": 120.0, \"Recovered\": 0.0, \"Confirmed_New\": 129.0, \"Deaths_New\": 1.0, \"Recovered_New\": 0.0, \"Active\": 4257.0}, {\"State\": \"SC\", \"Date\": \"04-20-2020\", \"Confirmed\": 4446.0, \"Deaths\": 123.0, \"Recovered\": 0.0, \"Confirmed_New\": 69.0, \"Deaths_New\": 3.0, \"Recovered_New\": 0.0, \"Active\": 4323.0}, {\"State\": \"SC\", \"Date\": \"04-21-2020\", \"Confirmed\": 4439.0, \"Deaths\": 124.0, \"Recovered\": 0.0, \"Confirmed_New\": -7.0, \"Deaths_New\": 1.0, \"Recovered_New\": 0.0, \"Active\": 4315.0}, {\"State\": \"SC\", \"Date\": \"04-22-2020\", \"Confirmed\": 4761.0, \"Deaths\": 140.0, \"Recovered\": 0.0, \"Confirmed_New\": 322.0, \"Deaths_New\": 16.0, \"Recovered_New\": 0.0, \"Active\": 4621.0}, {\"State\": \"SC\", \"Date\": \"04-23-2020\", \"Confirmed\": 4917.0, \"Deaths\": 150.0, \"Recovered\": 0.0, \"Confirmed_New\": 156.0, \"Deaths_New\": 10.0, \"Recovered_New\": 0.0, \"Active\": 4767.0}, {\"State\": \"SC\", \"Date\": \"04-24-2020\", \"Confirmed\": 5070.0, \"Deaths\": 157.0, \"Recovered\": 0.0, \"Confirmed_New\": 153.0, \"Deaths_New\": 7.0, \"Recovered_New\": 0.0, \"Active\": 4913.0}, {\"State\": \"SC\", \"Date\": \"04-25-2020\", \"Confirmed\": 5253.0, \"Deaths\": 166.0, \"Recovered\": 0.0, \"Confirmed_New\": 183.0, \"Deaths_New\": 9.0, \"Recovered_New\": 0.0, \"Active\": 5087.0}, {\"State\": \"SC\", \"Date\": \"04-26-2020\", \"Confirmed\": 5498.0, \"Deaths\": 174.0, \"Recovered\": 0.0, \"Confirmed_New\": 245.0, \"Deaths_New\": 8.0, \"Recovered_New\": 0.0, \"Active\": 5324.0}, {\"State\": \"SC\", \"Date\": \"04-27-2020\", \"Confirmed\": 5613.0, \"Deaths\": 177.0, \"Recovered\": 0.0, \"Confirmed_New\": 115.0, \"Deaths_New\": 3.0, \"Recovered_New\": 0.0, \"Active\": 5436.0}, {\"State\": \"SC\", \"Date\": \"04-28-2020\", \"Confirmed\": 5735.0, \"Deaths\": 192.0, \"Recovered\": 0.0, \"Confirmed_New\": 122.0, \"Deaths_New\": 15.0, \"Recovered_New\": 0.0, \"Active\": 5543.0}, {\"State\": \"SC\", \"Date\": \"04-29-2020\", \"Confirmed\": 5882.0, \"Deaths\": 231.0, \"Recovered\": 0.0, \"Confirmed_New\": 147.0, \"Deaths_New\": 39.0, \"Recovered_New\": 0.0, \"Active\": 5651.0}, {\"State\": \"SC\", \"Date\": \"04-30-2020\", \"Confirmed\": 6095.0, \"Deaths\": 244.0, \"Recovered\": 0.0, \"Confirmed_New\": 213.0, \"Deaths_New\": 13.0, \"Recovered_New\": 0.0, \"Active\": 5851.0}, {\"State\": \"SC\", \"Date\": \"05-01-2020\", \"Confirmed\": 6258.0, \"Deaths\": 256.0, \"Recovered\": 0.0, \"Confirmed_New\": 163.0, \"Deaths_New\": 12.0, \"Recovered_New\": 0.0, \"Active\": 6002.0}, {\"State\": \"SC\", \"Date\": \"05-02-2020\", \"Confirmed\": 6489.0, \"Deaths\": 267.0, \"Recovered\": 0.0, \"Confirmed_New\": 231.0, \"Deaths_New\": 11.0, \"Recovered_New\": 0.0, \"Active\": 6222.0}, {\"State\": \"SC\", \"Date\": \"05-03-2020\", \"Confirmed\": 6626.0, \"Deaths\": 275.0, \"Recovered\": 0.0, \"Confirmed_New\": 137.0, \"Deaths_New\": 8.0, \"Recovered_New\": 0.0, \"Active\": 6351.0}, {\"State\": \"SC\", \"Date\": \"05-04-2020\", \"Confirmed\": 6757.0, \"Deaths\": 283.0, \"Recovered\": 0.0, \"Confirmed_New\": 131.0, \"Deaths_New\": 8.0, \"Recovered_New\": 0.0, \"Active\": 6474.0}, {\"State\": \"SC\", \"Date\": \"05-05-2020\", \"Confirmed\": 6841.0, \"Deaths\": 296.0, \"Recovered\": 0.0, \"Confirmed_New\": 84.0, \"Deaths_New\": 13.0, \"Recovered_New\": 0.0, \"Active\": 6545.0}, {\"State\": \"SC\", \"Date\": \"05-06-2020\", \"Confirmed\": 6936.0, \"Deaths\": 305.0, \"Recovered\": 0.0, \"Confirmed_New\": 95.0, \"Deaths_New\": 9.0, \"Recovered_New\": 0.0, \"Active\": 6631.0}, {\"State\": \"SC\", \"Date\": \"05-07-2020\", \"Confirmed\": 7142.0, \"Deaths\": 316.0, \"Recovered\": 0.0, \"Confirmed_New\": 206.0, \"Deaths_New\": 11.0, \"Recovered_New\": 0.0, \"Active\": 6826.0}, {\"State\": \"SC\", \"Date\": \"05-08-2020\", \"Confirmed\": 7367.0, \"Deaths\": 320.0, \"Recovered\": 0.0, \"Confirmed_New\": 225.0, \"Deaths_New\": 4.0, \"Recovered_New\": 0.0, \"Active\": 7047.0}, {\"State\": \"SC\", \"Date\": \"05-09-2020\", \"Confirmed\": 7531.0, \"Deaths\": 330.0, \"Recovered\": 0.0, \"Confirmed_New\": 164.0, \"Deaths_New\": 10.0, \"Recovered_New\": 0.0, \"Active\": 7201.0}, {\"State\": \"SC\", \"Date\": \"05-10-2020\", \"Confirmed\": 7653.0, \"Deaths\": 331.0, \"Recovered\": 0.0, \"Confirmed_New\": 122.0, \"Deaths_New\": 1.0, \"Recovered_New\": 0.0, \"Active\": 7322.0}, {\"State\": \"SC\", \"Date\": \"05-11-2020\", \"Confirmed\": 7792.0, \"Deaths\": 346.0, \"Recovered\": 0.0, \"Confirmed_New\": 139.0, \"Deaths_New\": 15.0, \"Recovered_New\": 0.0, \"Active\": 7446.0}, {\"State\": \"SC\", \"Date\": \"05-12-2020\", \"Confirmed\": 7927.0, \"Deaths\": 355.0, \"Recovered\": 0.0, \"Confirmed_New\": 135.0, \"Deaths_New\": 9.0, \"Recovered_New\": 0.0, \"Active\": 7572.0}, {\"State\": \"SC\", \"Date\": \"05-13-2020\", \"Confirmed\": 8030.0, \"Deaths\": 362.0, \"Recovered\": 0.0, \"Confirmed_New\": 103.0, \"Deaths_New\": 7.0, \"Recovered_New\": 0.0, \"Active\": 7668.0}, {\"State\": \"SC\", \"Date\": \"05-14-2020\", \"Confirmed\": 8189.0, \"Deaths\": 371.0, \"Recovered\": 0.0, \"Confirmed_New\": 159.0, \"Deaths_New\": 9.0, \"Recovered_New\": 0.0, \"Active\": 7818.0}, {\"State\": \"SC\", \"Date\": \"05-15-2020\", \"Confirmed\": 8407.0, \"Deaths\": 380.0, \"Recovered\": 0.0, \"Confirmed_New\": 218.0, \"Deaths_New\": 9.0, \"Recovered_New\": 0.0, \"Active\": 8027.0}]}}, {\"mode\": \"vega-lite\"});\n",
       "</script>"
      ],
      "text/plain": [
       "alt.LayerChart(...)"
      ]
     },
     "execution_count": 23,
     "metadata": {},
     "output_type": "execute_result"
    }
   ],
   "source": [
    "data = state_data('US')\n",
    "state = alt.Chart(data[data['State'] == 'SC'].sort_values('Date').tail(60)).mark_line().encode(\n",
    "    x='Confirmed:Q',\n",
    "    y='Confirmed_New:Q'\n",
    ")\n",
    "reg = state.transform_regression(\"Confirmed\", \"Confirmed_New\", method=\"poly\").mark_line(color='red', strokeDash=[6,3])\n",
    "(state+reg).interactive()"
   ]
  },
  {
   "cell_type": "markdown",
   "metadata": {},
   "source": [
    "# US County Level"
   ]
  },
  {
   "cell_type": "code",
   "execution_count": 24,
   "metadata": {},
   "outputs": [
    {
     "data": {
      "application/vnd.jupyter.widget-view+json": {
       "model_id": "9c80b9335a55406bb3af48d496c47b16",
       "version_major": 2,
       "version_minor": 0
      },
      "text/plain": [
       "interactive(children=(IntSlider(value=7, description='window', max=21, min=2), Output()), _dom_classes=('widge…"
      ]
     },
     "metadata": {},
     "output_type": "display_data"
    }
   ],
   "source": [
    "@interact(window=(2, 21, 1))\n",
    "def chart(window=7):\n",
    "    return slope_chart(county_data('FL'), 'County', 0, xscale='log', limit=1, scale=7, window=window).properties(\n",
    "        width=1200,\n",
    "        height=800\n",
    "    ).interactive()"
   ]
  },
  {
   "cell_type": "code",
   "execution_count": 25,
   "metadata": {},
   "outputs": [
    {
     "data": {
      "text/html": [
       "\n",
       "<div id=\"altair-viz-6d2f1478bab9460b8fabb124c084c8f2\"></div>\n",
       "<script type=\"text/javascript\">\n",
       "  (function(spec, embedOpt){\n",
       "    const outputDiv = document.getElementById(\"altair-viz-6d2f1478bab9460b8fabb124c084c8f2\");\n",
       "    const paths = {\n",
       "      \"vega\": \"https://cdn.jsdelivr.net/npm//vega@5?noext\",\n",
       "      \"vega-lib\": \"https://cdn.jsdelivr.net/npm//vega-lib?noext\",\n",
       "      \"vega-lite\": \"https://cdn.jsdelivr.net/npm//vega-lite@4.0.2?noext\",\n",
       "      \"vega-embed\": \"https://cdn.jsdelivr.net/npm//vega-embed@6?noext\",\n",
       "    };\n",
       "\n",
       "    function loadScript(lib) {\n",
       "      return new Promise(function(resolve, reject) {\n",
       "        var s = document.createElement('script');\n",
       "        s.src = paths[lib];\n",
       "        s.async = true;\n",
       "        s.onload = () => resolve(paths[lib]);\n",
       "        s.onerror = () => reject(`Error loading script: ${paths[lib]}`);\n",
       "        document.getElementsByTagName(\"head\")[0].appendChild(s);\n",
       "      });\n",
       "    }\n",
       "\n",
       "    function showError(err) {\n",
       "      outputDiv.innerHTML = `<div class=\"error\" style=\"color:red;\">${err}</div>`;\n",
       "      throw err;\n",
       "    }\n",
       "\n",
       "    function displayChart(vegaEmbed) {\n",
       "      vegaEmbed(outputDiv, spec, embedOpt)\n",
       "        .catch(err => showError(`Javascript Error: ${err.message}<br>This usually means there's a typo in your chart specification. See the javascript console for the full traceback.`));\n",
       "    }\n",
       "\n",
       "    if(typeof define === \"function\" && define.amd) {\n",
       "      requirejs.config({paths});\n",
       "      require([\"vega-embed\"], displayChart, err => showError(`Error loading script: ${err.message}`));\n",
       "    } else if (typeof vegaEmbed === \"function\") {\n",
       "      displayChart(vegaEmbed);\n",
       "    } else {\n",
       "      loadScript(\"vega\")\n",
       "        .then(() => loadScript(\"vega-lite\"))\n",
       "        .then(() => loadScript(\"vega-embed\"))\n",
       "        .catch(showError)\n",
       "        .then(() => displayChart(vegaEmbed));\n",
       "    }\n",
       "  })({\"config\": {\"view\": {\"continuousWidth\": 400, \"continuousHeight\": 300}}, \"layer\": [{\"mark\": \"line\", \"encoding\": {\"x\": {\"type\": \"quantitative\", \"field\": \"Confirmed\"}, \"y\": {\"type\": \"quantitative\", \"field\": \"Confirmed_New\"}}, \"selection\": {\"selector016\": {\"type\": \"interval\", \"bind\": \"scales\", \"encodings\": [\"x\", \"y\"]}}}, {\"mark\": {\"type\": \"line\", \"color\": \"red\", \"strokeDash\": [6, 3]}, \"encoding\": {\"x\": {\"type\": \"quantitative\", \"field\": \"Confirmed\"}, \"y\": {\"type\": \"quantitative\", \"field\": \"Confirmed_New\"}}, \"transform\": [{\"on\": \"Confirmed\", \"regression\": \"Confirmed_New\", \"method\": \"poly\"}]}], \"data\": {\"name\": \"data-2bb5ead5dc7f865883891ad285792890\"}, \"$schema\": \"https://vega.github.io/schema/vega-lite/v4.0.2.json\", \"datasets\": {\"data-2bb5ead5dc7f865883891ad285792890\": [{\"County\": \"Los Angeles\", \"Date\": \"03-22-2020\", \"Confirmed\": 407.0, \"Deaths\": 5.0, \"Recovered\": 0.0, \"Confirmed_New\": 0.0, \"Deaths_New\": 0.0, \"Recovered_New\": 0.0, \"Active\": 402.0}, {\"County\": \"Los Angeles\", \"Date\": \"03-23-2020\", \"Confirmed\": 536.0, \"Deaths\": 7.0, \"Recovered\": 0.0, \"Confirmed_New\": 129.0, \"Deaths_New\": 2.0, \"Recovered_New\": 0.0, \"Active\": 529.0}, {\"County\": \"Los Angeles\", \"Date\": \"03-24-2020\", \"Confirmed\": 662.0, \"Deaths\": 11.0, \"Recovered\": 0.0, \"Confirmed_New\": 126.0, \"Deaths_New\": 4.0, \"Recovered_New\": 0.0, \"Active\": 651.0}, {\"County\": \"Los Angeles\", \"Date\": \"03-25-2020\", \"Confirmed\": 812.0, \"Deaths\": 13.0, \"Recovered\": 0.0, \"Confirmed_New\": 150.0, \"Deaths_New\": 2.0, \"Recovered_New\": 0.0, \"Active\": 799.0}, {\"County\": \"Los Angeles\", \"Date\": \"03-26-2020\", \"Confirmed\": 1229.0, \"Deaths\": 21.0, \"Recovered\": 0.0, \"Confirmed_New\": 417.0, \"Deaths_New\": 8.0, \"Recovered_New\": 0.0, \"Active\": 1208.0}, {\"County\": \"Los Angeles\", \"Date\": \"03-27-2020\", \"Confirmed\": 1465.0, \"Deaths\": 26.0, \"Recovered\": 0.0, \"Confirmed_New\": 236.0, \"Deaths_New\": 5.0, \"Recovered_New\": 0.0, \"Active\": 1439.0}, {\"County\": \"Los Angeles\", \"Date\": \"03-28-2020\", \"Confirmed\": 1465.0, \"Deaths\": 26.0, \"Recovered\": 0.0, \"Confirmed_New\": 0.0, \"Deaths_New\": 0.0, \"Recovered_New\": 0.0, \"Active\": 1439.0}, {\"County\": \"Los Angeles\", \"Date\": \"03-29-2020\", \"Confirmed\": 1829.0, \"Deaths\": 32.0, \"Recovered\": 0.0, \"Confirmed_New\": 364.0, \"Deaths_New\": 6.0, \"Recovered_New\": 0.0, \"Active\": 1797.0}, {\"County\": \"Los Angeles\", \"Date\": \"03-30-2020\", \"Confirmed\": 2474.0, \"Deaths\": 44.0, \"Recovered\": 0.0, \"Confirmed_New\": 645.0, \"Deaths_New\": 12.0, \"Recovered_New\": 0.0, \"Active\": 2430.0}, {\"County\": \"Los Angeles\", \"Date\": \"03-31-2020\", \"Confirmed\": 3019.0, \"Deaths\": 54.0, \"Recovered\": 0.0, \"Confirmed_New\": 545.0, \"Deaths_New\": 10.0, \"Recovered_New\": 0.0, \"Active\": 2965.0}, {\"County\": \"Los Angeles\", \"Date\": \"04-01-2020\", \"Confirmed\": 3518.0, \"Deaths\": 64.0, \"Recovered\": 0.0, \"Confirmed_New\": 499.0, \"Deaths_New\": 10.0, \"Recovered_New\": 0.0, \"Active\": 3454.0}, {\"County\": \"Los Angeles\", \"Date\": \"04-02-2020\", \"Confirmed\": 4045.0, \"Deaths\": 78.0, \"Recovered\": 0.0, \"Confirmed_New\": 527.0, \"Deaths_New\": 14.0, \"Recovered_New\": 0.0, \"Active\": 3967.0}, {\"County\": \"Los Angeles\", \"Date\": \"04-03-2020\", \"Confirmed\": 4566.0, \"Deaths\": 89.0, \"Recovered\": 0.0, \"Confirmed_New\": 521.0, \"Deaths_New\": 11.0, \"Recovered_New\": 0.0, \"Active\": 4477.0}, {\"County\": \"Los Angeles\", \"Date\": \"04-04-2020\", \"Confirmed\": 4605.0, \"Deaths\": 93.0, \"Recovered\": 0.0, \"Confirmed_New\": 39.0, \"Deaths_New\": 4.0, \"Recovered_New\": 0.0, \"Active\": 4512.0}, {\"County\": \"Los Angeles\", \"Date\": \"04-05-2020\", \"Confirmed\": 5955.0, \"Deaths\": 132.0, \"Recovered\": 0.0, \"Confirmed_New\": 1350.0, \"Deaths_New\": 39.0, \"Recovered_New\": 0.0, \"Active\": 5823.0}, {\"County\": \"Los Angeles\", \"Date\": \"04-06-2020\", \"Confirmed\": 6377.0, \"Deaths\": 147.0, \"Recovered\": 0.0, \"Confirmed_New\": 422.0, \"Deaths_New\": 15.0, \"Recovered_New\": 0.0, \"Active\": 6230.0}, {\"County\": \"Los Angeles\", \"Date\": \"04-07-2020\", \"Confirmed\": 6936.0, \"Deaths\": 169.0, \"Recovered\": 0.0, \"Confirmed_New\": 559.0, \"Deaths_New\": 22.0, \"Recovered_New\": 0.0, \"Active\": 6767.0}, {\"County\": \"Los Angeles\", \"Date\": \"04-08-2020\", \"Confirmed\": 7559.0, \"Deaths\": 198.0, \"Recovered\": 0.0, \"Confirmed_New\": 623.0, \"Deaths_New\": 29.0, \"Recovered_New\": 0.0, \"Active\": 7361.0}, {\"County\": \"Los Angeles\", \"Date\": \"04-09-2020\", \"Confirmed\": 7955.0, \"Deaths\": 223.0, \"Recovered\": 0.0, \"Confirmed_New\": 396.0, \"Deaths_New\": 25.0, \"Recovered_New\": 0.0, \"Active\": 7732.0}, {\"County\": \"Los Angeles\", \"Date\": \"04-10-2020\", \"Confirmed\": 8443.0, \"Deaths\": 242.0, \"Recovered\": 0.0, \"Confirmed_New\": 488.0, \"Deaths_New\": 19.0, \"Recovered_New\": 0.0, \"Active\": 8201.0}, {\"County\": \"Los Angeles\", \"Date\": \"04-11-2020\", \"Confirmed\": 8453.0, \"Deaths\": 244.0, \"Recovered\": 0.0, \"Confirmed_New\": 10.0, \"Deaths_New\": 2.0, \"Recovered_New\": 0.0, \"Active\": 8209.0}, {\"County\": \"Los Angeles\", \"Date\": \"04-12-2020\", \"Confirmed\": 8894.0, \"Deaths\": 269.0, \"Recovered\": 0.0, \"Confirmed_New\": 441.0, \"Deaths_New\": 25.0, \"Recovered_New\": 0.0, \"Active\": 8625.0}, {\"County\": \"Los Angeles\", \"Date\": \"04-13-2020\", \"Confirmed\": 9433.0, \"Deaths\": 322.0, \"Recovered\": 0.0, \"Confirmed_New\": 539.0, \"Deaths_New\": 53.0, \"Recovered_New\": 0.0, \"Active\": 9111.0}, {\"County\": \"Los Angeles\", \"Date\": \"04-14-2020\", \"Confirmed\": 10047.0, \"Deaths\": 360.0, \"Recovered\": 0.0, \"Confirmed_New\": 614.0, \"Deaths_New\": 38.0, \"Recovered_New\": 0.0, \"Active\": 9687.0}, {\"County\": \"Los Angeles\", \"Date\": \"04-15-2020\", \"Confirmed\": 10517.0, \"Deaths\": 405.0, \"Recovered\": 0.0, \"Confirmed_New\": 470.0, \"Deaths_New\": 45.0, \"Recovered_New\": 0.0, \"Active\": 10112.0}, {\"County\": \"Los Angeles\", \"Date\": \"04-16-2020\", \"Confirmed\": 10854.0, \"Deaths\": 457.0, \"Recovered\": 0.0, \"Confirmed_New\": 337.0, \"Deaths_New\": 52.0, \"Recovered_New\": 0.0, \"Active\": 10397.0}, {\"County\": \"Los Angeles\", \"Date\": \"04-17-2020\", \"Confirmed\": 11400.0, \"Deaths\": 497.0, \"Recovered\": 0.0, \"Confirmed_New\": 546.0, \"Deaths_New\": 40.0, \"Recovered_New\": 0.0, \"Active\": 10903.0}, {\"County\": \"Los Angeles\", \"Date\": \"04-18-2020\", \"Confirmed\": 12021.0, \"Deaths\": 576.0, \"Recovered\": 0.0, \"Confirmed_New\": 621.0, \"Deaths_New\": 79.0, \"Recovered_New\": 0.0, \"Active\": 11445.0}, {\"County\": \"Los Angeles\", \"Date\": \"04-19-2020\", \"Confirmed\": 12341.0, \"Deaths\": 600.0, \"Recovered\": 0.0, \"Confirmed_New\": 320.0, \"Deaths_New\": 24.0, \"Recovered_New\": 0.0, \"Active\": 11741.0}, {\"County\": \"Los Angeles\", \"Date\": \"04-20-2020\", \"Confirmed\": 13823.0, \"Deaths\": 619.0, \"Recovered\": 0.0, \"Confirmed_New\": 1482.0, \"Deaths_New\": 19.0, \"Recovered_New\": 0.0, \"Active\": 13204.0}, {\"County\": \"Los Angeles\", \"Date\": \"04-21-2020\", \"Confirmed\": 15153.0, \"Deaths\": 663.0, \"Recovered\": 0.0, \"Confirmed_New\": 1330.0, \"Deaths_New\": 44.0, \"Recovered_New\": 0.0, \"Active\": 14490.0}, {\"County\": \"Los Angeles\", \"Date\": \"04-22-2020\", \"Confirmed\": 16447.0, \"Deaths\": 732.0, \"Recovered\": 0.0, \"Confirmed_New\": 1294.0, \"Deaths_New\": 69.0, \"Recovered_New\": 0.0, \"Active\": 15715.0}, {\"County\": \"Los Angeles\", \"Date\": \"04-23-2020\", \"Confirmed\": 17537.0, \"Deaths\": 797.0, \"Recovered\": 0.0, \"Confirmed_New\": 1090.0, \"Deaths_New\": 65.0, \"Recovered_New\": 0.0, \"Active\": 16740.0}, {\"County\": \"Los Angeles\", \"Date\": \"04-24-2020\", \"Confirmed\": 18545.0, \"Deaths\": 850.0, \"Recovered\": 0.0, \"Confirmed_New\": 1008.0, \"Deaths_New\": 53.0, \"Recovered_New\": 0.0, \"Active\": 17695.0}, {\"County\": \"Los Angeles\", \"Date\": \"04-25-2020\", \"Confirmed\": 19133.0, \"Deaths\": 895.0, \"Recovered\": 0.0, \"Confirmed_New\": 588.0, \"Deaths_New\": 45.0, \"Recovered_New\": 0.0, \"Active\": 18238.0}, {\"County\": \"Los Angeles\", \"Date\": \"04-26-2020\", \"Confirmed\": 19567.0, \"Deaths\": 916.0, \"Recovered\": 0.0, \"Confirmed_New\": 434.0, \"Deaths_New\": 21.0, \"Recovered_New\": 0.0, \"Active\": 18651.0}, {\"County\": \"Los Angeles\", \"Date\": \"04-27-2020\", \"Confirmed\": 20423.0, \"Deaths\": 944.0, \"Recovered\": 0.0, \"Confirmed_New\": 856.0, \"Deaths_New\": 28.0, \"Recovered_New\": 0.0, \"Active\": 19479.0}, {\"County\": \"Los Angeles\", \"Date\": \"04-28-2020\", \"Confirmed\": 20996.0, \"Deaths\": 1002.0, \"Recovered\": 0.0, \"Confirmed_New\": 573.0, \"Deaths_New\": 58.0, \"Recovered_New\": 0.0, \"Active\": 19994.0}, {\"County\": \"Los Angeles\", \"Date\": \"04-29-2020\", \"Confirmed\": 22485.0, \"Deaths\": 1056.0, \"Recovered\": 0.0, \"Confirmed_New\": 1489.0, \"Deaths_New\": 54.0, \"Recovered_New\": 0.0, \"Active\": 21429.0}, {\"County\": \"Los Angeles\", \"Date\": \"04-30-2020\", \"Confirmed\": 23220.0, \"Deaths\": 1111.0, \"Recovered\": 0.0, \"Confirmed_New\": 735.0, \"Deaths_New\": 55.0, \"Recovered_New\": 0.0, \"Active\": 22109.0}, {\"County\": \"Los Angeles\", \"Date\": \"05-01-2020\", \"Confirmed\": 24262.0, \"Deaths\": 1174.0, \"Recovered\": 0.0, \"Confirmed_New\": 1042.0, \"Deaths_New\": 63.0, \"Recovered_New\": 0.0, \"Active\": 23088.0}, {\"County\": \"Los Angeles\", \"Date\": \"05-02-2020\", \"Confirmed\": 24894.0, \"Deaths\": 1209.0, \"Recovered\": 0.0, \"Confirmed_New\": 632.0, \"Deaths_New\": 35.0, \"Recovered_New\": 0.0, \"Active\": 23685.0}, {\"County\": \"Los Angeles\", \"Date\": \"05-03-2020\", \"Confirmed\": 25699.0, \"Deaths\": 1231.0, \"Recovered\": 0.0, \"Confirmed_New\": 805.0, \"Deaths_New\": 22.0, \"Recovered_New\": 0.0, \"Active\": 24468.0}, {\"County\": \"Los Angeles\", \"Date\": \"05-04-2020\", \"Confirmed\": 26225.0, \"Deaths\": 1257.0, \"Recovered\": 0.0, \"Confirmed_New\": 526.0, \"Deaths_New\": 26.0, \"Recovered_New\": 0.0, \"Active\": 24968.0}, {\"County\": \"Los Angeles\", \"Date\": \"05-05-2020\", \"Confirmed\": 27836.0, \"Deaths\": 1315.0, \"Recovered\": 0.0, \"Confirmed_New\": 1611.0, \"Deaths_New\": 58.0, \"Recovered_New\": 0.0, \"Active\": 26521.0}, {\"County\": \"Los Angeles\", \"Date\": \"05-06-2020\", \"Confirmed\": 28665.0, \"Deaths\": 1369.0, \"Recovered\": 0.0, \"Confirmed_New\": 829.0, \"Deaths_New\": 54.0, \"Recovered_New\": 0.0, \"Active\": 27296.0}, {\"County\": \"Los Angeles\", \"Date\": \"05-07-2020\", \"Confirmed\": 29511.0, \"Deaths\": 1418.0, \"Recovered\": 0.0, \"Confirmed_New\": 846.0, \"Deaths_New\": 49.0, \"Recovered_New\": 0.0, \"Active\": 28093.0}, {\"County\": \"Los Angeles\", \"Date\": \"05-08-2020\", \"Confirmed\": 30319.0, \"Deaths\": 1470.0, \"Recovered\": 0.0, \"Confirmed_New\": 808.0, \"Deaths_New\": 52.0, \"Recovered_New\": 0.0, \"Active\": 28849.0}, {\"County\": \"Los Angeles\", \"Date\": \"05-09-2020\", \"Confirmed\": 31241.0, \"Deaths\": 1515.0, \"Recovered\": 0.0, \"Confirmed_New\": 922.0, \"Deaths_New\": 45.0, \"Recovered_New\": 0.0, \"Active\": 29726.0}, {\"County\": \"Los Angeles\", \"Date\": \"05-10-2020\", \"Confirmed\": 31703.0, \"Deaths\": 1531.0, \"Recovered\": 0.0, \"Confirmed_New\": 462.0, \"Deaths_New\": 16.0, \"Recovered_New\": 0.0, \"Active\": 30172.0}, {\"County\": \"Los Angeles\", \"Date\": \"05-11-2020\", \"Confirmed\": 32263.0, \"Deaths\": 1570.0, \"Recovered\": 0.0, \"Confirmed_New\": 560.0, \"Deaths_New\": 39.0, \"Recovered_New\": 0.0, \"Active\": 30693.0}, {\"County\": \"Los Angeles\", \"Date\": \"05-12-2020\", \"Confirmed\": 33211.0, \"Deaths\": 1616.0, \"Recovered\": 0.0, \"Confirmed_New\": 948.0, \"Deaths_New\": 46.0, \"Recovered_New\": 0.0, \"Active\": 31595.0}, {\"County\": \"Los Angeles\", \"Date\": \"05-13-2020\", \"Confirmed\": 34538.0, \"Deaths\": 1660.0, \"Recovered\": 0.0, \"Confirmed_New\": 1327.0, \"Deaths_New\": 44.0, \"Recovered_New\": 0.0, \"Active\": 32878.0}, {\"County\": \"Los Angeles\", \"Date\": \"05-14-2020\", \"Confirmed\": 35392.0, \"Deaths\": 1711.0, \"Recovered\": 0.0, \"Confirmed_New\": 854.0, \"Deaths_New\": 51.0, \"Recovered_New\": 0.0, \"Active\": 33681.0}, {\"County\": \"Los Angeles\", \"Date\": \"05-15-2020\", \"Confirmed\": 36316.0, \"Deaths\": 1753.0, \"Recovered\": 0.0, \"Confirmed_New\": 924.0, \"Deaths_New\": 42.0, \"Recovered_New\": 0.0, \"Active\": 34563.0}]}}, {\"mode\": \"vega-lite\"});\n",
       "</script>"
      ],
      "text/plain": [
       "alt.LayerChart(...)"
      ]
     },
     "execution_count": 25,
     "metadata": {},
     "output_type": "execute_result"
    }
   ],
   "source": [
    "data = county_data('CA')\n",
    "state = alt.Chart(data[data['County'] == 'Los Angeles'].sort_values('Date').tail(60)).mark_line().encode(\n",
    "    x='Confirmed:Q',\n",
    "    y='Confirmed_New:Q'\n",
    ")\n",
    "reg = state.transform_regression(\"Confirmed\", \"Confirmed_New\", method=\"poly\").mark_line(color='red', strokeDash=[6,3])\n",
    "(state+reg).interactive()"
   ]
  },
  {
   "cell_type": "markdown",
   "metadata": {},
   "source": [
    "# US Hospitalizations"
   ]
  },
  {
   "cell_type": "code",
   "execution_count": 32,
   "metadata": {},
   "outputs": [
    {
     "data": {
      "application/vnd.jupyter.widget-view+json": {
       "model_id": "3c1d1b19661a4701bc8b6f1519d65403",
       "version_major": 2,
       "version_minor": 0
      },
      "text/plain": [
       "interactive(children=(IntSlider(value=7, description='window', max=21, min=2), Output()), _dom_classes=('widge…"
      ]
     },
     "metadata": {},
     "output_type": "display_data"
    }
   ],
   "source": [
    "dfh = pd.read_csv('https://covidtracking.com/api/v1/states/daily.csv')\n",
    "dfh.date = pd.to_datetime(dfh.date, format='%Y%m%d')\n",
    "dfh.date = dfh.date.dt.strftime('%m-%d-%Y')\n",
    "dfh = dfh.rename({'date': 'Date', 'state':'State', 'hospitalizedCurrently': 'Hospitalized'}, axis=1)\n",
    "data = state_data('US')\n",
    "data = data.merge(dfh, on=['Date', 'State'], how='outer')\n",
    "@interact(window=(2, 21, 1))\n",
    "def chart(window=7):\n",
    "    return slope_chart(data, 'State', -492, xscale='log', limit=200, scale=2, value='Hospitalized', window=window, today=days[-1]).properties(\n",
    "        width=1200,\n",
    "        height=800\n",
    "    ).interactive()"
   ]
  },
  {
   "cell_type": "code",
   "execution_count": 27,
   "metadata": {},
   "outputs": [
    {
     "data": {
      "text/html": [
       "\n",
       "<div id=\"altair-viz-888160129a1e41a3ba9fc26d5e424d85\"></div>\n",
       "<script type=\"text/javascript\">\n",
       "  (function(spec, embedOpt){\n",
       "    const outputDiv = document.getElementById(\"altair-viz-888160129a1e41a3ba9fc26d5e424d85\");\n",
       "    const paths = {\n",
       "      \"vega\": \"https://cdn.jsdelivr.net/npm//vega@5?noext\",\n",
       "      \"vega-lib\": \"https://cdn.jsdelivr.net/npm//vega-lib?noext\",\n",
       "      \"vega-lite\": \"https://cdn.jsdelivr.net/npm//vega-lite@4.0.2?noext\",\n",
       "      \"vega-embed\": \"https://cdn.jsdelivr.net/npm//vega-embed@6?noext\",\n",
       "    };\n",
       "\n",
       "    function loadScript(lib) {\n",
       "      return new Promise(function(resolve, reject) {\n",
       "        var s = document.createElement('script');\n",
       "        s.src = paths[lib];\n",
       "        s.async = true;\n",
       "        s.onload = () => resolve(paths[lib]);\n",
       "        s.onerror = () => reject(`Error loading script: ${paths[lib]}`);\n",
       "        document.getElementsByTagName(\"head\")[0].appendChild(s);\n",
       "      });\n",
       "    }\n",
       "\n",
       "    function showError(err) {\n",
       "      outputDiv.innerHTML = `<div class=\"error\" style=\"color:red;\">${err}</div>`;\n",
       "      throw err;\n",
       "    }\n",
       "\n",
       "    function displayChart(vegaEmbed) {\n",
       "      vegaEmbed(outputDiv, spec, embedOpt)\n",
       "        .catch(err => showError(`Javascript Error: ${err.message}<br>This usually means there's a typo in your chart specification. See the javascript console for the full traceback.`));\n",
       "    }\n",
       "\n",
       "    if(typeof define === \"function\" && define.amd) {\n",
       "      requirejs.config({paths});\n",
       "      require([\"vega-embed\"], displayChart, err => showError(`Error loading script: ${err.message}`));\n",
       "    } else if (typeof vegaEmbed === \"function\") {\n",
       "      displayChart(vegaEmbed);\n",
       "    } else {\n",
       "      loadScript(\"vega\")\n",
       "        .then(() => loadScript(\"vega-lite\"))\n",
       "        .then(() => loadScript(\"vega-embed\"))\n",
       "        .catch(showError)\n",
       "        .then(() => displayChart(vegaEmbed));\n",
       "    }\n",
       "  })({\"config\": {\"view\": {\"continuousWidth\": 400, \"continuousHeight\": 300}}, \"layer\": [{\"mark\": \"line\", \"encoding\": {\"x\": {\"type\": \"quantitative\", \"field\": \"Confirmed\"}, \"y\": {\"type\": \"quantitative\", \"field\": \"Hospitalized\"}}, \"selection\": {\"selector018\": {\"type\": \"interval\", \"bind\": \"scales\", \"encodings\": [\"x\", \"y\"]}}}, {\"mark\": {\"type\": \"line\", \"color\": \"red\", \"strokeDash\": [6, 3]}, \"encoding\": {\"x\": {\"type\": \"quantitative\", \"field\": \"Confirmed\"}, \"y\": {\"type\": \"quantitative\", \"field\": \"Hospitalized\"}}, \"transform\": [{\"on\": \"Confirmed\", \"regression\": \"Hospitalized\", \"method\": \"poly\"}]}], \"data\": {\"name\": \"data-0517afcd8684e56863450e3ecd5167b1\"}, \"$schema\": \"https://vega.github.io/schema/vega-lite/v4.0.2.json\", \"datasets\": {\"data-0517afcd8684e56863450e3ecd5167b1\": [{\"State\": \"TX\", \"Date\": \"04-26-2020\", \"Confirmed\": 24967.0, \"Deaths\": 651.0, \"Recovered\": 0.0, \"Confirmed_New\": 814.0, \"Deaths_New\": 13.0, \"Recovered_New\": 0.0, \"Active\": 24316.0, \"positive\": 24631.0, \"negative\": 251390.0, \"pending\": null, \"Hospitalized\": 1542.0, \"hospitalizedCumulative\": null, \"inIcuCurrently\": null, \"inIcuCumulative\": null, \"onVentilatorCurrently\": null, \"onVentilatorCumulative\": null, \"recovered\": 10763.0, \"dataQualityGrade\": \"B\", \"lastUpdateEt\": \"4/26/2020 12:40\", \"hash\": \"29637f963b5add57304a3f09d8c2c27cd12a343c\", \"dateChecked\": \"2020-04-26T20:00:00Z\", \"death\": 648.0, \"hospitalized\": null, \"total\": 276021.0, \"totalTestResults\": 276021.0, \"posNeg\": 276021.0, \"fips\": 48.0, \"deathIncrease\": 25.0, \"hospitalizedIncrease\": 0.0, \"negativeIncrease\": 12347.0, \"positiveIncrease\": 858.0, \"totalTestResultsIncrease\": 13205.0}, {\"State\": \"TX\", \"Date\": \"04-27-2020\", \"Confirmed\": 25321.0, \"Deaths\": 666.0, \"Recovered\": 0.0, \"Confirmed_New\": 354.0, \"Deaths_New\": 15.0, \"Recovered_New\": 0.0, \"Active\": 24655.0, \"positive\": 25297.0, \"negative\": 265220.0, \"pending\": null, \"Hospitalized\": 1563.0, \"hospitalizedCumulative\": null, \"inIcuCurrently\": null, \"inIcuCumulative\": null, \"onVentilatorCurrently\": null, \"onVentilatorCumulative\": null, \"recovered\": 11170.0, \"dataQualityGrade\": \"B\", \"lastUpdateEt\": \"4/27/2020 13:10\", \"hash\": \"71e0a846ca395cb44d760afda797d76a58c2e3b6\", \"dateChecked\": \"2020-04-27T20:00:00Z\", \"death\": 663.0, \"hospitalized\": null, \"total\": 290517.0, \"totalTestResults\": 290517.0, \"posNeg\": 290517.0, \"fips\": 48.0, \"deathIncrease\": 15.0, \"hospitalizedIncrease\": 0.0, \"negativeIncrease\": 13830.0, \"positiveIncrease\": 666.0, \"totalTestResultsIncrease\": 14496.0}, {\"State\": \"TX\", \"Date\": \"04-28-2020\", \"Confirmed\": 26357.0, \"Deaths\": 719.0, \"Recovered\": 0.0, \"Confirmed_New\": 1036.0, \"Deaths_New\": 53.0, \"Recovered_New\": 0.0, \"Active\": 25638.0, \"positive\": 26171.0, \"negative\": 274213.0, \"pending\": null, \"Hospitalized\": 1682.0, \"hospitalizedCumulative\": null, \"inIcuCurrently\": null, \"inIcuCumulative\": null, \"onVentilatorCurrently\": null, \"onVentilatorCumulative\": null, \"recovered\": 11786.0, \"dataQualityGrade\": \"B\", \"lastUpdateEt\": \"4/28/2020 13:00\", \"hash\": \"2593f001bb55c0370b076f6a6bafcb8e88a02d1c\", \"dateChecked\": \"2020-04-28T20:00:00Z\", \"death\": 690.0, \"hospitalized\": null, \"total\": 300384.0, \"totalTestResults\": 300384.0, \"posNeg\": 300384.0, \"fips\": 48.0, \"deathIncrease\": 27.0, \"hospitalizedIncrease\": 0.0, \"negativeIncrease\": 8993.0, \"positiveIncrease\": 874.0, \"totalTestResultsIncrease\": 9867.0}, {\"State\": \"TX\", \"Date\": \"04-29-2020\", \"Confirmed\": 27257.0, \"Deaths\": 754.0, \"Recovered\": 0.0, \"Confirmed_New\": 900.0, \"Deaths_New\": 35.0, \"Recovered_New\": 0.0, \"Active\": 26503.0, \"positive\": 27054.0, \"negative\": 287736.0, \"pending\": null, \"Hospitalized\": 1702.0, \"hospitalizedCumulative\": null, \"inIcuCurrently\": null, \"inIcuCumulative\": null, \"onVentilatorCurrently\": null, \"onVentilatorCumulative\": null, \"recovered\": 12507.0, \"dataQualityGrade\": \"B\", \"lastUpdateEt\": \"4/29/2020 13:00\", \"hash\": \"7d17d5ccc8084f33e6993ab03832b02380225e76\", \"dateChecked\": \"2020-04-29T20:00:00Z\", \"death\": 732.0, \"hospitalized\": null, \"total\": 314790.0, \"totalTestResults\": 314790.0, \"posNeg\": 314790.0, \"fips\": 48.0, \"deathIncrease\": 42.0, \"hospitalizedIncrease\": 0.0, \"negativeIncrease\": 13523.0, \"positiveIncrease\": 883.0, \"totalTestResultsIncrease\": 14406.0}, {\"State\": \"TX\", \"Date\": \"04-30-2020\", \"Confirmed\": 28727.0, \"Deaths\": 812.0, \"Recovered\": 0.0, \"Confirmed_New\": 1470.0, \"Deaths_New\": 58.0, \"Recovered_New\": 0.0, \"Active\": 27915.0, \"positive\": 28087.0, \"negative\": 302213.0, \"pending\": null, \"Hospitalized\": 1686.0, \"hospitalizedCumulative\": null, \"inIcuCurrently\": null, \"inIcuCumulative\": null, \"onVentilatorCurrently\": null, \"onVentilatorCumulative\": null, \"recovered\": 13353.0, \"dataQualityGrade\": \"B\", \"lastUpdateEt\": \"4/29/2020 13:00\", \"hash\": \"3e86b550121260ff7f07226c771b566316634b9d\", \"dateChecked\": \"2020-04-30T20:00:00Z\", \"death\": 782.0, \"hospitalized\": null, \"total\": 330300.0, \"totalTestResults\": 330300.0, \"posNeg\": 330300.0, \"fips\": 48.0, \"deathIncrease\": 50.0, \"hospitalizedIncrease\": 0.0, \"negativeIncrease\": 14477.0, \"positiveIncrease\": 1033.0, \"totalTestResultsIncrease\": 15510.0}, {\"State\": \"TX\", \"Date\": \"05-01-2020\", \"Confirmed\": 29692.0, \"Deaths\": 840.0, \"Recovered\": 0.0, \"Confirmed_New\": 965.0, \"Deaths_New\": 28.0, \"Recovered_New\": 0.0, \"Active\": 28852.0, \"positive\": 29229.0, \"negative\": 322546.0, \"pending\": null, \"Hospitalized\": 1778.0, \"hospitalizedCumulative\": null, \"inIcuCurrently\": null, \"inIcuCumulative\": null, \"onVentilatorCurrently\": null, \"onVentilatorCumulative\": null, \"recovered\": 14122.0, \"dataQualityGrade\": \"B\", \"lastUpdateEt\": \"5/1/2020 13:00\", \"hash\": \"400c4b1147e50f54f0d3c809ec06d31acc574d33\", \"dateChecked\": \"2020-05-01T20:00:00Z\", \"death\": 816.0, \"hospitalized\": null, \"total\": 351775.0, \"totalTestResults\": 351775.0, \"posNeg\": 351775.0, \"fips\": 48.0, \"deathIncrease\": 34.0, \"hospitalizedIncrease\": 0.0, \"negativeIncrease\": 20333.0, \"positiveIncrease\": 1142.0, \"totalTestResultsIncrease\": 21475.0}, {\"State\": \"TX\", \"Date\": \"05-02-2020\", \"Confirmed\": 30917.0, \"Deaths\": 863.0, \"Recovered\": 0.0, \"Confirmed_New\": 1225.0, \"Deaths_New\": 23.0, \"Recovered_New\": 0.0, \"Active\": 30054.0, \"positive\": 30522.0, \"negative\": 350126.0, \"pending\": null, \"Hospitalized\": 1725.0, \"hospitalizedCumulative\": null, \"inIcuCurrently\": null, \"inIcuCumulative\": null, \"onVentilatorCurrently\": null, \"onVentilatorCumulative\": null, \"recovered\": 14891.0, \"dataQualityGrade\": \"B\", \"lastUpdateEt\": \"5/2/2020 12:45\", \"hash\": \"7ebc8fbb29899c1275bdc2bb060c1eadff3e2696\", \"dateChecked\": \"2020-05-02T20:00:00Z\", \"death\": 847.0, \"hospitalized\": null, \"total\": 380648.0, \"totalTestResults\": 380648.0, \"posNeg\": 380648.0, \"fips\": 48.0, \"deathIncrease\": 31.0, \"hospitalizedIncrease\": 0.0, \"negativeIncrease\": 27580.0, \"positiveIncrease\": 1293.0, \"totalTestResultsIncrease\": 28873.0}, {\"State\": \"TX\", \"Date\": \"05-03-2020\", \"Confirmed\": 31998.0, \"Deaths\": 878.0, \"Recovered\": 0.0, \"Confirmed_New\": 1081.0, \"Deaths_New\": 15.0, \"Recovered_New\": 0.0, \"Active\": 31120.0, \"positive\": 31548.0, \"negative\": 359012.0, \"pending\": null, \"Hospitalized\": 1540.0, \"hospitalizedCumulative\": null, \"inIcuCurrently\": null, \"inIcuCumulative\": null, \"onVentilatorCurrently\": null, \"onVentilatorCumulative\": null, \"recovered\": 15544.0, \"dataQualityGrade\": \"B\", \"lastUpdateEt\": \"5/2/2020 12:45\", \"hash\": \"7286bb5e8d8547980a2d258ee8afb4b230ae09bf\", \"dateChecked\": \"2020-05-03T20:00:00Z\", \"death\": 867.0, \"hospitalized\": null, \"total\": 390560.0, \"totalTestResults\": 390560.0, \"posNeg\": 390560.0, \"fips\": 48.0, \"deathIncrease\": 20.0, \"hospitalizedIncrease\": 0.0, \"negativeIncrease\": 8886.0, \"positiveIncrease\": 1026.0, \"totalTestResultsIncrease\": 9912.0}, {\"State\": \"TX\", \"Date\": \"05-04-2020\", \"Confirmed\": 32783.0, \"Deaths\": 901.0, \"Recovered\": 0.0, \"Confirmed_New\": 785.0, \"Deaths_New\": 23.0, \"Recovered_New\": 0.0, \"Active\": 31882.0, \"positive\": 32332.0, \"negative\": 375066.0, \"pending\": null, \"Hospitalized\": 1533.0, \"hospitalizedCumulative\": null, \"inIcuCurrently\": null, \"inIcuCumulative\": null, \"onVentilatorCurrently\": null, \"onVentilatorCumulative\": null, \"recovered\": 16090.0, \"dataQualityGrade\": \"B\", \"lastUpdateEt\": \"5/4/2020 13:15\", \"hash\": \"cb36d38213b6cabb99b43ab2020f0788722627c8\", \"dateChecked\": \"2020-05-04T20:00:00Z\", \"death\": 884.0, \"hospitalized\": null, \"total\": 407398.0, \"totalTestResults\": 407398.0, \"posNeg\": 407398.0, \"fips\": 48.0, \"deathIncrease\": 17.0, \"hospitalizedIncrease\": 0.0, \"negativeIncrease\": 16054.0, \"positiveIncrease\": 784.0, \"totalTestResultsIncrease\": 16838.0}, {\"State\": \"TX\", \"Date\": \"05-05-2020\", \"Confirmed\": 33912.0, \"Deaths\": 925.0, \"Recovered\": 0.0, \"Confirmed_New\": 1129.0, \"Deaths_New\": 24.0, \"Recovered_New\": 0.0, \"Active\": 32987.0, \"positive\": 33369.0, \"negative\": 393841.0, \"pending\": null, \"Hospitalized\": 1888.0, \"hospitalizedCumulative\": null, \"inIcuCurrently\": null, \"inIcuCumulative\": null, \"onVentilatorCurrently\": null, \"onVentilatorCumulative\": null, \"recovered\": 16791.0, \"dataQualityGrade\": \"B\", \"lastUpdateEt\": \"5/5/2020 13:15\", \"hash\": \"e75eea9ddd3f02eba2ffa4dd8a2df79b71ce6547\", \"dateChecked\": \"2020-05-05T20:00:00Z\", \"death\": 906.0, \"hospitalized\": null, \"total\": 427210.0, \"totalTestResults\": 427210.0, \"posNeg\": 427210.0, \"fips\": 48.0, \"deathIncrease\": 22.0, \"hospitalizedIncrease\": 0.0, \"negativeIncrease\": 18775.0, \"positiveIncrease\": 1037.0, \"totalTestResultsIncrease\": 19812.0}, {\"State\": \"TX\", \"Date\": \"05-06-2020\", \"Confirmed\": 34928.0, \"Deaths\": 954.0, \"Recovered\": 0.0, \"Confirmed_New\": 1016.0, \"Deaths_New\": 29.0, \"Recovered_New\": 0.0, \"Active\": 33974.0, \"positive\": 34422.0, \"negative\": 404516.0, \"pending\": null, \"Hospitalized\": 1812.0, \"hospitalizedCumulative\": null, \"inIcuCurrently\": null, \"inIcuCumulative\": null, \"onVentilatorCurrently\": null, \"onVentilatorCumulative\": null, \"recovered\": 17622.0, \"dataQualityGrade\": \"B\", \"lastUpdateEt\": \"5/6/2020 13:20\", \"hash\": \"e3e1055c642b3e0d3990aa76bce02f31643fe0d1\", \"dateChecked\": \"2020-05-06T20:00:00Z\", \"death\": 948.0, \"hospitalized\": null, \"total\": 438938.0, \"totalTestResults\": 438938.0, \"posNeg\": 438938.0, \"fips\": 48.0, \"deathIncrease\": 42.0, \"hospitalizedIncrease\": 0.0, \"negativeIncrease\": 10675.0, \"positiveIncrease\": 1053.0, \"totalTestResultsIncrease\": 11728.0}, {\"State\": \"TX\", \"Date\": \"05-07-2020\", \"Confirmed\": 36036.0, \"Deaths\": 985.0, \"Recovered\": 0.0, \"Confirmed_New\": 1108.0, \"Deaths_New\": 31.0, \"Recovered_New\": 0.0, \"Active\": 35051.0, \"positive\": 35390.0, \"negative\": 419772.0, \"pending\": null, \"Hospitalized\": 1750.0, \"hospitalizedCumulative\": null, \"inIcuCurrently\": null, \"inIcuCumulative\": null, \"onVentilatorCurrently\": null, \"onVentilatorCumulative\": null, \"recovered\": 18440.0, \"dataQualityGrade\": \"B\", \"lastUpdateEt\": \"5/7/2020 13:00\", \"hash\": \"d45b2d01a3363e6d595183fd93f6d7dfbcbde02f\", \"dateChecked\": \"2020-05-07T20:00:00Z\", \"death\": 973.0, \"hospitalized\": null, \"total\": 455162.0, \"totalTestResults\": 455162.0, \"posNeg\": 455162.0, \"fips\": 48.0, \"deathIncrease\": 25.0, \"hospitalizedIncrease\": 0.0, \"negativeIncrease\": 15256.0, \"positiveIncrease\": 968.0, \"totalTestResultsIncrease\": 16224.0}, {\"State\": \"TX\", \"Date\": \"05-08-2020\", \"Confirmed\": 37246.0, \"Deaths\": 1025.0, \"Recovered\": 0.0, \"Confirmed_New\": 1210.0, \"Deaths_New\": 40.0, \"Recovered_New\": 0.0, \"Active\": 36221.0, \"positive\": 36609.0, \"negative\": 440509.0, \"pending\": null, \"Hospitalized\": 1734.0, \"hospitalizedCumulative\": null, \"inIcuCurrently\": null, \"inIcuCumulative\": null, \"onVentilatorCurrently\": null, \"onVentilatorCumulative\": null, \"recovered\": 19197.0, \"dataQualityGrade\": \"B\", \"lastUpdateEt\": \"5/8/2020 13:00\", \"hash\": \"b7f8c531addc2df51f14fa89b29a6821d47aad45\", \"dateChecked\": \"2020-05-08T20:00:00Z\", \"death\": 1004.0, \"hospitalized\": null, \"total\": 477118.0, \"totalTestResults\": 477118.0, \"posNeg\": 477118.0, \"fips\": 48.0, \"deathIncrease\": 31.0, \"hospitalizedIncrease\": 0.0, \"negativeIncrease\": 20737.0, \"positiveIncrease\": 1219.0, \"totalTestResultsIncrease\": 21956.0}, {\"State\": \"TX\", \"Date\": \"05-09-2020\", \"Confirmed\": 38394.0, \"Deaths\": 1066.0, \"Recovered\": 0.0, \"Confirmed_New\": 1148.0, \"Deaths_New\": 41.0, \"Recovered_New\": 0.0, \"Active\": 37328.0, \"positive\": 37860.0, \"negative\": 451434.0, \"pending\": null, \"Hospitalized\": 1735.0, \"hospitalizedCumulative\": null, \"inIcuCurrently\": null, \"inIcuCumulative\": null, \"onVentilatorCurrently\": null, \"onVentilatorCumulative\": null, \"recovered\": 20141.0, \"dataQualityGrade\": \"B\", \"lastUpdateEt\": \"5/9/2020 13:15\", \"hash\": \"deeecea989a19b1e2c2f50a4fa57cec56a0ec1c2\", \"dateChecked\": \"2020-05-09T20:00:00Z\", \"death\": 1049.0, \"hospitalized\": null, \"total\": 489294.0, \"totalTestResults\": 489294.0, \"posNeg\": 489294.0, \"fips\": 48.0, \"deathIncrease\": 45.0, \"hospitalizedIncrease\": 0.0, \"negativeIncrease\": 10925.0, \"positiveIncrease\": 1251.0, \"totalTestResultsIncrease\": 12176.0}, {\"State\": \"TX\", \"Date\": \"05-10-2020\", \"Confirmed\": 39258.0, \"Deaths\": 1094.0, \"Recovered\": 0.0, \"Confirmed_New\": 864.0, \"Deaths_New\": 28.0, \"Recovered_New\": 0.0, \"Active\": 38164.0, \"positive\": 38869.0, \"negative\": 462907.0, \"pending\": null, \"Hospitalized\": 1626.0, \"hospitalizedCumulative\": null, \"inIcuCurrently\": null, \"inIcuCumulative\": null, \"onVentilatorCurrently\": null, \"onVentilatorCumulative\": null, \"recovered\": 21022.0, \"dataQualityGrade\": \"B\", \"lastUpdateEt\": \"5/10/2020 16:35\", \"hash\": \"60657a7921f91150194620b537c6c67f05172295\", \"dateChecked\": \"2020-05-10T20:00:00Z\", \"death\": 1088.0, \"hospitalized\": null, \"total\": 501776.0, \"totalTestResults\": 501776.0, \"posNeg\": 501776.0, \"fips\": 48.0, \"deathIncrease\": 39.0, \"hospitalizedIncrease\": 0.0, \"negativeIncrease\": 11473.0, \"positiveIncrease\": 1009.0, \"totalTestResultsIncrease\": 12482.0}, {\"State\": \"TX\", \"Date\": \"05-11-2020\", \"Confirmed\": 40555.0, \"Deaths\": 1117.0, \"Recovered\": 0.0, \"Confirmed_New\": 1297.0, \"Deaths_New\": 23.0, \"Recovered_New\": 0.0, \"Active\": 39438.0, \"positive\": 39869.0, \"negative\": 485828.0, \"pending\": null, \"Hospitalized\": 1525.0, \"hospitalizedCumulative\": null, \"inIcuCurrently\": null, \"inIcuCumulative\": null, \"onVentilatorCurrently\": null, \"onVentilatorCumulative\": null, \"recovered\": 21713.0, \"dataQualityGrade\": \"B\", \"lastUpdateEt\": \"5/10/2020 16:35\", \"hash\": \"14400b4f7e9ed0cdc8479e35757aa0364baa0578\", \"dateChecked\": \"2020-05-11T20:00:00Z\", \"death\": 1100.0, \"hospitalized\": null, \"total\": 525697.0, \"totalTestResults\": 525697.0, \"posNeg\": 525697.0, \"fips\": 48.0, \"deathIncrease\": 12.0, \"hospitalizedIncrease\": 0.0, \"negativeIncrease\": 22921.0, \"positiveIncrease\": 1000.0, \"totalTestResultsIncrease\": 23921.0}, {\"State\": \"TX\", \"Date\": \"05-12-2020\", \"Confirmed\": 41432.0, \"Deaths\": 1146.0, \"Recovered\": 0.0, \"Confirmed_New\": 877.0, \"Deaths_New\": 29.0, \"Recovered_New\": 0.0, \"Active\": 40286.0, \"positive\": 41048.0, \"negative\": 497124.0, \"pending\": null, \"Hospitalized\": 1725.0, \"hospitalizedCumulative\": null, \"inIcuCurrently\": null, \"inIcuCumulative\": null, \"onVentilatorCurrently\": null, \"onVentilatorCumulative\": null, \"recovered\": 22674.0, \"dataQualityGrade\": \"A\", \"lastUpdateEt\": \"5/11/2020 16:25\", \"hash\": \"11b70727dc1782af8dae590db1e184305ba794d7\", \"dateChecked\": \"2020-05-12T20:00:00Z\", \"death\": 1133.0, \"hospitalized\": null, \"total\": 538172.0, \"totalTestResults\": 538172.0, \"posNeg\": 538172.0, \"fips\": 48.0, \"deathIncrease\": 33.0, \"hospitalizedIncrease\": 0.0, \"negativeIncrease\": 11296.0, \"positiveIncrease\": 1179.0, \"totalTestResultsIncrease\": 12475.0}, {\"State\": \"TX\", \"Date\": \"05-13-2020\", \"Confirmed\": 43020.0, \"Deaths\": 1172.0, \"Recovered\": 0.0, \"Confirmed_New\": 1588.0, \"Deaths_New\": 26.0, \"Recovered_New\": 0.0, \"Active\": 41848.0, \"positive\": 42403.0, \"negative\": 545028.0, \"pending\": null, \"Hospitalized\": 1676.0, \"hospitalizedCumulative\": null, \"inIcuCurrently\": null, \"inIcuCumulative\": null, \"onVentilatorCurrently\": null, \"onVentilatorCumulative\": null, \"recovered\": 23519.0, \"dataQualityGrade\": \"A\", \"lastUpdateEt\": \"5/13/2020 16:20\", \"hash\": \"d6fd6ce0459ae48915e4bfeb01cdc78679da1777\", \"dateChecked\": \"2020-05-13T20:00:00Z\", \"death\": 1158.0, \"hospitalized\": null, \"total\": 587431.0, \"totalTestResults\": 587431.0, \"posNeg\": 587431.0, \"fips\": 48.0, \"deathIncrease\": 25.0, \"hospitalizedIncrease\": 0.0, \"negativeIncrease\": 47904.0, \"positiveIncrease\": 1355.0, \"totalTestResultsIncrease\": 49259.0}, {\"State\": \"TX\", \"Date\": \"05-14-2020\", \"Confirmed\": 44480.0, \"Deaths\": 1235.0, \"Recovered\": 0.0, \"Confirmed_New\": 1460.0, \"Deaths_New\": 63.0, \"Recovered_New\": 0.0, \"Active\": 43245.0, \"positive\": 43851.0, \"negative\": 579433.0, \"pending\": null, \"Hospitalized\": 1648.0, \"hospitalizedCumulative\": null, \"inIcuCurrently\": null, \"inIcuCumulative\": null, \"onVentilatorCurrently\": null, \"onVentilatorCumulative\": null, \"recovered\": 24487.0, \"dataQualityGrade\": \"A\", \"lastUpdateEt\": \"5/14/2020 16:30\", \"hash\": \"079503d0ff0282cf02e23eafef7222e841c55677\", \"dateChecked\": \"2020-05-14T20:00:00Z\", \"death\": 1216.0, \"hospitalized\": null, \"total\": 623284.0, \"totalTestResults\": 623284.0, \"posNeg\": 623284.0, \"fips\": 48.0, \"deathIncrease\": 58.0, \"hospitalizedIncrease\": 0.0, \"negativeIncrease\": 34405.0, \"positiveIncrease\": 1448.0, \"totalTestResultsIncrease\": 35853.0}, {\"State\": \"TX\", \"Date\": \"05-15-2020\", \"Confirmed\": 45721.0, \"Deaths\": 1280.0, \"Recovered\": 0.0, \"Confirmed_New\": 1241.0, \"Deaths_New\": 45.0, \"Recovered_New\": 0.0, \"Active\": 44441.0, \"positive\": 45198.0, \"negative\": 600794.0, \"pending\": null, \"Hospitalized\": 1716.0, \"hospitalizedCumulative\": null, \"inIcuCurrently\": null, \"inIcuCumulative\": null, \"onVentilatorCurrently\": null, \"onVentilatorCumulative\": null, \"recovered\": 25454.0, \"dataQualityGrade\": \"A\", \"lastUpdateEt\": \"5/15/2020 16:15\", \"hash\": \"61391ac9a81fe7bc2178ffdf028d776bb6ebee6a\", \"dateChecked\": \"2020-05-15T20:00:00Z\", \"death\": 1272.0, \"hospitalized\": null, \"total\": 645992.0, \"totalTestResults\": 645992.0, \"posNeg\": 645992.0, \"fips\": 48.0, \"deathIncrease\": 56.0, \"hospitalizedIncrease\": 0.0, \"negativeIncrease\": 21361.0, \"positiveIncrease\": 1347.0, \"totalTestResultsIncrease\": 22708.0}, {\"State\": \"TX\", \"Date\": \"05-16-2020\", \"Confirmed\": null, \"Deaths\": null, \"Recovered\": null, \"Confirmed_New\": null, \"Deaths_New\": null, \"Recovered_New\": null, \"Active\": null, \"positive\": 45198.0, \"negative\": 600794.0, \"pending\": null, \"Hospitalized\": 1716.0, \"hospitalizedCumulative\": null, \"inIcuCurrently\": null, \"inIcuCumulative\": null, \"onVentilatorCurrently\": null, \"onVentilatorCumulative\": null, \"recovered\": 25454.0, \"dataQualityGrade\": \"A\", \"lastUpdateEt\": \"5/15/2020 16:15\", \"hash\": \"bdafdafbd9ebf9785d423353139896fe9d621423\", \"dateChecked\": \"2020-05-16T20:00:00Z\", \"death\": 1272.0, \"hospitalized\": null, \"total\": 645992.0, \"totalTestResults\": 645992.0, \"posNeg\": 645992.0, \"fips\": 48.0, \"deathIncrease\": 0.0, \"hospitalizedIncrease\": 0.0, \"negativeIncrease\": 0.0, \"positiveIncrease\": 0.0, \"totalTestResultsIncrease\": 0.0}]}}, {\"mode\": \"vega-lite\"});\n",
       "</script>"
      ],
      "text/plain": [
       "alt.LayerChart(...)"
      ]
     },
     "execution_count": 27,
     "metadata": {},
     "output_type": "execute_result"
    }
   ],
   "source": [
    "state = alt.Chart(data[data['State'] == 'TX'].sort_values('Date').tail(21)).mark_line().encode(\n",
    "    x='Confirmed:Q',\n",
    "    y='Hospitalized:Q'\n",
    ")\n",
    "reg = state.transform_regression(\"Confirmed\", \"Hospitalized\", method=\"poly\").mark_line(color='red', strokeDash=[6,3])\n",
    "(state+reg).interactive()"
   ]
  },
  {
   "cell_type": "code",
   "execution_count": null,
   "metadata": {},
   "outputs": [],
   "source": []
  }
 ],
 "metadata": {
  "kernelspec": {
   "display_name": "Python 3",
   "language": "python",
   "name": "python3"
  },
  "language_info": {
   "codemirror_mode": {
    "name": "ipython",
    "version": 3
   },
   "file_extension": ".py",
   "mimetype": "text/x-python",
   "name": "python",
   "nbconvert_exporter": "python",
   "pygments_lexer": "ipython3",
   "version": "3.7.6"
  }
 },
 "nbformat": 4,
 "nbformat_minor": 4
}
