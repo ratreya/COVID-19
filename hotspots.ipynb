{
 "cells": [
  {
   "cell_type": "code",
   "execution_count": 2,
   "metadata": {},
   "outputs": [],
   "source": [
    "import pandas as pnd\n",
    "import numpy as np\n",
    "from scipy import stats\n",
    "\n",
    "# Set up some global config and variables\n",
    "pnd.options.mode.chained_assignment = None\n",
    "np.seterr(all='ignore')\n",
    "\n",
    "df = pnd.read_csv('jhu-daily-reports.csv')\n",
    "df['Active']  = df.Confirmed - (df.Deaths + df.Recovered)\n",
    "samples = df[['Date', 'Country']].groupby('Date').Country.nunique()\n",
    "days = samples[samples > 1].index.tolist()\n",
    "df = df[df['Date'].isin(days)]\n",
    "\n",
    "country_level = df.groupby(['Country', 'Date'], as_index=False).sum()\n",
    "def state_data(country):\n",
    "    return df[df['Country'] == country].groupby(['State', 'Date'], as_index=False).sum()\n",
    "def county_data(state):\n",
    "    return df[(df['Country'] == 'US') & (df['State'] == state)].groupby(['County', 'Date'], as_index=False).sum()\n",
    "\n",
    "root = state_data('US').sort_values('Date')\n",
    "for date in root.Date.unique()[40:]:\n",
    "    for state in root.State.unique():\n",
    "        values = root[(root.State == state) & (root.Date <= date)].sort_values('Date').tail(21)[['Confirmed', 'Confirmed_New']]\n",
    "        if values.empty:\n",
    "            continue\n",
    "        slope, intercept, r_value, p_value, std_err = stats.linregress(values.Confirmed, values.Confirmed_New)\n",
    "        root.loc[(root.State == state) & (root.Date == date), 'Slope'] = slope\n",
    "slope = root[root.Date >= '03-01-2020']\n",
    "slope = slope[['State', 'Date', 'Slope']]\n",
    "slope.fillna(0, inplace=True)"
   ]
  },
  {
   "cell_type": "code",
   "execution_count": 31,
   "metadata": {},
   "outputs": [],
   "source": [
    "import geopandas as gpd\n",
    "%matplotlib inline\n",
    "import matplotlib.pyplot as plt\n",
    "from matplotlib import colors\n",
    "from datetime import datetime\n",
    "\n",
    "usa = gpd.read_file('./maps/states.shp')[1:50]\n",
    "slope = slope[slope.State.isin(usa.STATE_ABBR)]\n",
    "merged = usa.set_index('STATE_ABBR').join(slope.set_index('State'))\n",
    "\n",
    "norm = colors.TwoSlopeNorm(vmin=-0.2, vcenter=0., vmax=0.6)\n",
    "\n",
    "for date in merged.Date.unique():\n",
    "    fig, ax = plt.subplots(1, figsize=(6, 2)) #figsize=(18, 6))\n",
    "    usa.plot(ax=ax, color='lightgrey')\n",
    "    merged[merged.Date == date].plot(\n",
    "        column='Slope',\n",
    "        cmap='RdYlGn_r',\n",
    "        norm=norm,\n",
    "        ax=ax,\n",
    "        legend=True,\n",
    "    )\n",
    "    ax.annotate(date, xy=(50, 20), xycoords='figure pixels', size='7')\n",
    "    ax.axis('off')\n",
    "    plt.savefig('./output/slope-map-%s.png' % datetime.strptime(date, '%m-%d-%Y').strftime('%m-%d'), dpi=300, bbox_inches='tight')\n",
    "    plt.close()"
   ]
  },
  {
   "cell_type": "code",
   "execution_count": 30,
   "metadata": {},
   "outputs": [
    {
     "name": "stdout",
     "output_type": "stream",
     "text": [
      "-0.06824271278344404\n",
      "0.05768443181631546\n"
     ]
    }
   ],
   "source": [
    "print(merged[merged.Date=='06-17-2020'].Slope.min())\n",
    "print(merged[merged.Date=='05-17-2020'].Slope.max())"
   ]
  },
  {
   "cell_type": "code",
   "execution_count": null,
   "metadata": {},
   "outputs": [],
   "source": []
  }
 ],
 "metadata": {
  "kernelspec": {
   "display_name": "Python 3",
   "language": "python",
   "name": "python3"
  },
  "language_info": {
   "codemirror_mode": {
    "name": "ipython",
    "version": 3
   },
   "file_extension": ".py",
   "mimetype": "text/x-python",
   "name": "python",
   "nbconvert_exporter": "python",
   "pygments_lexer": "ipython3",
   "version": "3.7.6"
  }
 },
 "nbformat": 4,
 "nbformat_minor": 4
}
