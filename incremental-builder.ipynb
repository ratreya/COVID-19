{
 "cells": [
  {
   "cell_type": "code",
   "execution_count": 1,
   "metadata": {},
   "outputs": [
    {
     "name": "stdout",
     "output_type": "stream",
     "text": [
      "Some deltas are hugely negative!\n",
      "      Country      State      County        Date  Confirmed  Deaths  \\\n",
      "1744   Canada  Recovered         n/a  04-01-2020        0.0     0.0   \n",
      "36211      US         NJ  Unassigned  04-01-2020     4512.0     0.0   \n",
      "\n",
      "       Recovered  Confirmed_New  Deaths_New  Recovered_New  \n",
      "1744      1324.0            0.0         0.0         -268.0  \n",
      "36211        0.0          826.0      -247.0            0.0  \n"
     ]
    }
   ],
   "source": [
    "import pandas as pd\n",
    "import numpy as np\n",
    "from datetime import date, timedelta, datetime\n",
    "from concurrent.futures import ThreadPoolExecutor, as_completed\n",
    "\n",
    "pd.options.mode.chained_assignment = None\n",
    "%run common.py\n",
    "\n",
    "# Read the raw data\n",
    "url = 'https://raw.githubusercontent.com/ratreya/jupyter-notebooks/master/jhu-daily-reports.csv'\n",
    "merged = pd.read_csv(url, na_values='', keep_default_na=False)\n",
    "last_day = sorted(merged['Date'].unique())[-1]\n",
    "\n",
    "# Get list of incremental days in expected format\n",
    "sdate = datetime.strptime(last_day, '%m-%d-%Y').date()\n",
    "today = date.today()\n",
    "edate = date(today.year, today.month, today.day)\n",
    "days = [(sdate + timedelta(days=i)).strftime('%m-%d-%Y') for i in range(1, (edate - sdate).days + 1)]\n",
    "\n",
    "# Merge all incremental daily reports\n",
    "url = 'https://raw.githubusercontent.com/CSSEGISandData/COVID-19/master/csse_covid_19_data/csse_covid_19_daily_reports/%s.csv'\n",
    "with ThreadPoolExecutor() as executor:\n",
    "    futures = [executor.submit(lambda day: (day, pd.read_csv(url % day)), day) for day in days]\n",
    "\n",
    "for future in as_completed(futures):\n",
    "    try:\n",
    "        day, df = future.result()\n",
    "        # Fix changes in column names if they exits\n",
    "        df = df.rename({'Admin2': 'County', 'Province/State':'State', 'Country/Region':'Country', 'Province_State':'State', 'Country_Region':'Country'}, axis=1)\n",
    "        df.drop([x for x in df.columns.values if x not in merged.columns.values], axis=1, inplace=True)\n",
    "        df.insert(2, 'Date', [day for i in range(df.shape[0])])\n",
    "        cleanup(df)\n",
    "        # Do this because there are duplicate rows in some datasets\n",
    "        df = df.groupby(['Country', 'State', 'County', 'Date'], as_index=False).sum()\n",
    "        merged = pd.concat([merged, df])\n",
    "    except IOError as e:\n",
    "        print(str(e))\n",
    "\n",
    "variables = ['Confirmed', 'Deaths', 'Recovered']\n",
    "for i in range(1, len(days)):\n",
    "    zipped = merged[merged['Date'] == days[i]].merge(merged[merged['Date'] == days[i-1]], how='left', on=['Country', 'State', 'County'], suffixes=['_t', '_y'])\n",
    "    for variable in variables:\n",
    "        merged.loc[merged['Date'] == days[i], variable + '_New'] = zipped[variable + '_t'].combine(zipped[variable + '_y'], func=lambda t, y: t-y, fill_value=0)\n",
    "\n",
    "# Write merged CSV file\n",
    "merged = merged.groupby(['Country', 'State', 'County', 'Date'], as_index=False).sum()\n",
    "merged.to_csv('jhu-daily-reports.csv', index=False)\n",
    "verify(merged)"
   ]
  },
  {
   "cell_type": "code",
   "execution_count": null,
   "metadata": {},
   "outputs": [],
   "source": []
  }
 ],
 "metadata": {
  "kernelspec": {
   "display_name": "Python 3",
   "language": "python",
   "name": "python3"
  },
  "language_info": {
   "codemirror_mode": {
    "name": "ipython",
    "version": 3
   },
   "file_extension": ".py",
   "mimetype": "text/x-python",
   "name": "python",
   "nbconvert_exporter": "python",
   "pygments_lexer": "ipython3",
   "version": "3.7.6"
  }
 },
 "nbformat": 4,
 "nbformat_minor": 4
}
