{
 "cells": [
  {
   "cell_type": "code",
   "execution_count": 6,
   "metadata": {},
   "outputs": [],
   "source": [
    "import pandas as pd\n",
    "import numpy as np\n",
    "import altair as alt\n",
    "\n",
    "# Set up some global config and variables\n",
    "alt.renderers.enable('default')\n",
    "pd.options.mode.chained_assignment = None\n",
    "\n",
    "# Read the raw data\n",
    "df = pd.read_csv('jhu-daily-reports.csv')\n",
    "samples = df[['Date', 'Country']].groupby('Date').Country.nunique()\n",
    "days = samples[samples > 1].index.tolist()\n",
    "df = df[df['Date'].isin(days)]"
   ]
  },
  {
   "cell_type": "code",
   "execution_count": 13,
   "metadata": {},
   "outputs": [
    {
     "data": {
      "text/html": [
       "\n",
       "<div id=\"altair-viz-3abe02995cf248df83f19ae004fbd35c\"></div>\n",
       "<script type=\"text/javascript\">\n",
       "  (function(spec, embedOpt){\n",
       "    const outputDiv = document.getElementById(\"altair-viz-3abe02995cf248df83f19ae004fbd35c\");\n",
       "    const paths = {\n",
       "      \"vega\": \"https://cdn.jsdelivr.net/npm//vega@5?noext\",\n",
       "      \"vega-lib\": \"https://cdn.jsdelivr.net/npm//vega-lib?noext\",\n",
       "      \"vega-lite\": \"https://cdn.jsdelivr.net/npm//vega-lite@4.0.2?noext\",\n",
       "      \"vega-embed\": \"https://cdn.jsdelivr.net/npm//vega-embed@6?noext\",\n",
       "    };\n",
       "\n",
       "    function loadScript(lib) {\n",
       "      return new Promise(function(resolve, reject) {\n",
       "        var s = document.createElement('script');\n",
       "        s.src = paths[lib];\n",
       "        s.async = true;\n",
       "        s.onload = () => resolve(paths[lib]);\n",
       "        s.onerror = () => reject(`Error loading script: ${paths[lib]}`);\n",
       "        document.getElementsByTagName(\"head\")[0].appendChild(s);\n",
       "      });\n",
       "    }\n",
       "\n",
       "    function showError(err) {\n",
       "      outputDiv.innerHTML = `<div class=\"error\" style=\"color:red;\">${err}</div>`;\n",
       "      throw err;\n",
       "    }\n",
       "\n",
       "    function displayChart(vegaEmbed) {\n",
       "      vegaEmbed(outputDiv, spec, embedOpt)\n",
       "        .catch(err => showError(`Javascript Error: ${err.message}<br>This usually means there's a typo in your chart specification. See the javascript console for the full traceback.`));\n",
       "    }\n",
       "\n",
       "    if(typeof define === \"function\" && define.amd) {\n",
       "      requirejs.config({paths});\n",
       "      require([\"vega-embed\"], displayChart, err => showError(`Error loading script: ${err.message}`));\n",
       "    } else if (typeof vegaEmbed === \"function\") {\n",
       "      displayChart(vegaEmbed);\n",
       "    } else {\n",
       "      loadScript(\"vega\")\n",
       "        .then(() => loadScript(\"vega-lite\"))\n",
       "        .then(() => loadScript(\"vega-embed\"))\n",
       "        .catch(showError)\n",
       "        .then(() => displayChart(vegaEmbed));\n",
       "    }\n",
       "  })({\"config\": {\"view\": {\"continuousWidth\": 400, \"continuousHeight\": 300}}, \"layer\": [{\"mark\": \"line\", \"encoding\": {\"color\": {\"type\": \"nominal\", \"field\": \"Day\", \"sort\": [\"Monday\", \"Tuesday\", \"Wednesday\", \"Thursday\", \"Friday\", \"Saturday\", \"Sunday\"]}, \"tooltip\": [{\"type\": \"nominal\", \"field\": \"Day\"}, {\"type\": \"quantitative\", \"field\": \"Week\"}], \"x\": {\"type\": \"nominal\", \"field\": \"Week\"}, \"y\": {\"type\": \"quantitative\", \"field\": \"Confirmed_New\"}}, \"selection\": {\"selector013\": {\"type\": \"interval\", \"bind\": \"scales\", \"encodings\": [\"x\", \"y\"]}}}, {\"mark\": {\"type\": \"circle\", \"size\": 60}, \"encoding\": {\"color\": {\"type\": \"nominal\", \"field\": \"Day\", \"sort\": [\"Monday\", \"Tuesday\", \"Wednesday\", \"Thursday\", \"Friday\", \"Saturday\", \"Sunday\"]}, \"tooltip\": [{\"type\": \"nominal\", \"field\": \"Day\"}, {\"type\": \"quantitative\", \"field\": \"Week\"}], \"x\": {\"type\": \"nominal\", \"field\": \"Week\"}, \"y\": {\"type\": \"quantitative\", \"field\": \"Confirmed_New\"}}}], \"data\": {\"name\": \"data-4194f024d6c61e6d59ee7b902b67ec6a\"}, \"height\": 800, \"width\": 1200, \"$schema\": \"https://vega.github.io/schema/vega-lite/v4.0.2.json\", \"datasets\": {\"data-4194f024d6c61e6d59ee7b902b67ec6a\": [{\"Week\": 10, \"Day\": \"Friday\", \"Confirmed\": 2.0, \"Deaths\": 0.0, \"Recovered\": 0.0, \"Confirmed_New\": 0.0, \"Deaths_New\": 0.0, \"Recovered_New\": 0.0}, {\"Week\": 10, \"Day\": \"Saturday\", \"Confirmed\": 2.0, \"Deaths\": 0.0, \"Recovered\": 0.0, \"Confirmed_New\": 0.0, \"Deaths_New\": 0.0, \"Recovered_New\": 0.0}, {\"Week\": 10, \"Day\": \"Sunday\", \"Confirmed\": 6.0, \"Deaths\": 0.0, \"Recovered\": 0.0, \"Confirmed_New\": 4.0, \"Deaths_New\": 0.0, \"Recovered_New\": 0.0}, {\"Week\": 11, \"Day\": \"Friday\", \"Confirmed\": 41.0, \"Deaths\": 0.0, \"Recovered\": 0.0, \"Confirmed_New\": 19.0, \"Deaths_New\": 0.0, \"Recovered_New\": 0.0}, {\"Week\": 11, \"Day\": \"Monday\", \"Confirmed\": 7.0, \"Deaths\": 0.0, \"Recovered\": 0.0, \"Confirmed_New\": 1.0, \"Deaths_New\": 0.0, \"Recovered_New\": 0.0}, {\"Week\": 11, \"Day\": \"Saturday\", \"Confirmed\": 47.0, \"Deaths\": 0.0, \"Recovered\": 0.0, \"Confirmed_New\": 6.0, \"Deaths_New\": 0.0, \"Recovered_New\": 0.0}, {\"Week\": 11, \"Day\": \"Sunday\", \"Confirmed\": 66.0, \"Deaths\": 0.0, \"Recovered\": 0.0, \"Confirmed_New\": 19.0, \"Deaths_New\": 0.0, \"Recovered_New\": 0.0}, {\"Week\": 11, \"Day\": \"Thursday\", \"Confirmed\": 22.0, \"Deaths\": 0.0, \"Recovered\": 0.0, \"Confirmed_New\": 6.0, \"Deaths_New\": 0.0, \"Recovered_New\": 0.0}, {\"Week\": 11, \"Day\": \"Tuesday\", \"Confirmed\": 12.0, \"Deaths\": 0.0, \"Recovered\": 0.0, \"Confirmed_New\": 5.0, \"Deaths_New\": 0.0, \"Recovered_New\": 0.0}, {\"Week\": 11, \"Day\": \"Wednesday\", \"Confirmed\": 16.0, \"Deaths\": 0.0, \"Recovered\": 0.0, \"Confirmed_New\": 4.0, \"Deaths_New\": 0.0, \"Recovered_New\": 0.0}, {\"Week\": 12, \"Day\": \"Friday\", \"Confirmed\": 303.0, \"Deaths\": 1.0, \"Recovered\": 0.0, \"Confirmed_New\": 97.0, \"Deaths_New\": 0.0, \"Recovered_New\": 0.0}, {\"Week\": 12, \"Day\": \"Monday\", \"Confirmed\": 77.0, \"Deaths\": 0.0, \"Recovered\": 0.0, \"Confirmed_New\": 11.0, \"Deaths_New\": 0.0, \"Recovered_New\": 0.0}, {\"Week\": 12, \"Day\": \"Saturday\", \"Confirmed\": 396.0, \"Deaths\": 2.0, \"Recovered\": 0.0, \"Confirmed_New\": 93.0, \"Deaths_New\": 1.0, \"Recovered_New\": 0.0}, {\"Week\": 12, \"Day\": \"Sunday\", \"Confirmed\": 509.0, \"Deaths\": 4.0, \"Recovered\": 0.0, \"Confirmed_New\": 0.0, \"Deaths_New\": 0.0, \"Recovered_New\": 0.0}, {\"Week\": 12, \"Day\": \"Thursday\", \"Confirmed\": 206.0, \"Deaths\": 1.0, \"Recovered\": 0.0, \"Confirmed_New\": 54.0, \"Deaths_New\": 1.0, \"Recovered_New\": 0.0}, {\"Week\": 12, \"Day\": \"Tuesday\", \"Confirmed\": 112.0, \"Deaths\": 0.0, \"Recovered\": 0.0, \"Confirmed_New\": 35.0, \"Deaths_New\": 0.0, \"Recovered_New\": 0.0}, {\"Week\": 12, \"Day\": \"Wednesday\", \"Confirmed\": 152.0, \"Deaths\": 0.0, \"Recovered\": 0.0, \"Confirmed_New\": 40.0, \"Deaths_New\": 0.0, \"Recovered_New\": 0.0}, {\"Week\": 13, \"Day\": \"Friday\", \"Confirmed\": 2345.0, \"Deaths\": 22.0, \"Recovered\": 0.0, \"Confirmed_New\": 550.0, \"Deaths_New\": 4.0, \"Recovered_New\": 0.0}, {\"Week\": 13, \"Day\": \"Monday\", \"Confirmed\": 698.0, \"Deaths\": 6.0, \"Recovered\": 0.0, \"Confirmed_New\": 189.0, \"Deaths_New\": 2.0, \"Recovered_New\": 0.0}, {\"Week\": 13, \"Day\": \"Saturday\", \"Confirmed\": 2845.0, \"Deaths\": 34.0, \"Recovered\": 0.0, \"Confirmed_New\": 500.0, \"Deaths_New\": 12.0, \"Recovered_New\": 0.0}, {\"Week\": 13, \"Day\": \"Sunday\", \"Confirmed\": 3432.0, \"Deaths\": 41.0, \"Recovered\": 0.0, \"Confirmed_New\": 587.0, \"Deaths_New\": 7.0, \"Recovered_New\": 0.0}, {\"Week\": 13, \"Day\": \"Thursday\", \"Confirmed\": 1795.0, \"Deaths\": 18.0, \"Recovered\": 0.0, \"Confirmed_New\": 535.0, \"Deaths_New\": 3.0, \"Recovered_New\": 0.0}, {\"Week\": 13, \"Day\": \"Tuesday\", \"Confirmed\": 946.0, \"Deaths\": 8.0, \"Recovered\": 0.0, \"Confirmed_New\": 248.0, \"Deaths_New\": 2.0, \"Recovered_New\": 0.0}, {\"Week\": 13, \"Day\": \"Wednesday\", \"Confirmed\": 1260.0, \"Deaths\": 15.0, \"Recovered\": 0.0, \"Confirmed_New\": 314.0, \"Deaths_New\": 7.0, \"Recovered_New\": 0.0}, {\"Week\": 14, \"Day\": \"Friday\", \"Confirmed\": 8570.0, \"Deaths\": 102.0, \"Recovered\": 0.0, \"Confirmed_New\": 1302.0, \"Deaths_New\": 12.0, \"Recovered_New\": 0.0}, {\"Week\": 14, \"Day\": \"Monday\", \"Confirmed\": 4155.0, \"Deaths\": 50.0, \"Recovered\": 0.0, \"Confirmed_New\": 723.0, \"Deaths_New\": 9.0, \"Recovered_New\": 0.0}, {\"Week\": 14, \"Day\": \"Saturday\", \"Confirmed\": 10444.0, \"Deaths\": 136.0, \"Recovered\": 0.0, \"Confirmed_New\": 1874.0, \"Deaths_New\": 34.0, \"Recovered_New\": 0.0}, {\"Week\": 14, \"Day\": \"Sunday\", \"Confirmed\": 11589.0, \"Deaths\": 151.0, \"Recovered\": 0.0, \"Confirmed_New\": 1145.0, \"Deaths_New\": 15.0, \"Recovered_New\": 0.0}, {\"Week\": 14, \"Day\": \"Thursday\", \"Confirmed\": 7268.0, \"Deaths\": 90.0, \"Recovered\": 0.0, \"Confirmed_New\": 1259.0, \"Deaths_New\": 16.0, \"Recovered_New\": 0.0}, {\"Week\": 14, \"Day\": \"Tuesday\", \"Confirmed\": 4963.0, \"Deaths\": 63.0, \"Recovered\": 0.0, \"Confirmed_New\": 808.0, \"Deaths_New\": 13.0, \"Recovered_New\": 0.0}, {\"Week\": 14, \"Day\": \"Wednesday\", \"Confirmed\": 6009.0, \"Deaths\": 74.0, \"Recovered\": 0.0, \"Confirmed_New\": 1046.0, \"Deaths_New\": 11.0, \"Recovered_New\": 0.0}, {\"Week\": 15, \"Day\": \"Friday\", \"Confirmed\": 20051.0, \"Deaths\": 418.0, \"Recovered\": 0.0, \"Confirmed_New\": 1751.0, \"Deaths_New\": 73.0, \"Recovered_New\": 0.0}, {\"Week\": 15, \"Day\": \"Monday\", \"Confirmed\": 13127.0, \"Deaths\": 179.0, \"Recovered\": 0.0, \"Confirmed_New\": 1538.0, \"Deaths_New\": 28.0, \"Recovered_New\": 0.0}, {\"Week\": 15, \"Day\": \"Saturday\", \"Confirmed\": 21719.0, \"Deaths\": 503.0, \"Recovered\": 0.0, \"Confirmed_New\": 1668.0, \"Deaths_New\": 85.0, \"Recovered_New\": 0.0}, {\"Week\": 15, \"Day\": \"Sunday\", \"Confirmed\": 22938.0, \"Deaths\": 557.0, \"Recovered\": 0.0, \"Confirmed_New\": 1219.0, \"Deaths_New\": 54.0, \"Recovered_New\": 0.0}, {\"Week\": 15, \"Day\": \"Thursday\", \"Confirmed\": 18300.0, \"Deaths\": 345.0, \"Recovered\": 0.0, \"Confirmed_New\": 1669.0, \"Deaths_New\": 27.0, \"Recovered_New\": 0.0}, {\"Week\": 15, \"Day\": \"Tuesday\", \"Confirmed\": 14853.0, \"Deaths\": 247.0, \"Recovered\": 0.0, \"Confirmed_New\": 1726.0, \"Deaths_New\": 68.0, \"Recovered_New\": 0.0}, {\"Week\": 15, \"Day\": \"Wednesday\", \"Confirmed\": 16631.0, \"Deaths\": 318.0, \"Recovered\": 0.0, \"Confirmed_New\": 1778.0, \"Deaths_New\": 71.0, \"Recovered_New\": 0.0}, {\"Week\": 16, \"Day\": \"Friday\", \"Confirmed\": 29888.0, \"Deaths\": 921.0, \"Recovered\": 0.0, \"Confirmed_New\": 1630.0, \"Deaths_New\": 80.0, \"Recovered_New\": 0.0}, {\"Week\": 16, \"Day\": \"Monday\", \"Confirmed\": 24292.0, \"Deaths\": 589.0, \"Recovered\": 0.0, \"Confirmed_New\": 1354.0, \"Deaths_New\": 32.0, \"Recovered_New\": 0.0}, {\"Week\": 16, \"Day\": \"Saturday\", \"Confirmed\": 31652.0, \"Deaths\": 1042.0, \"Recovered\": 0.0, \"Confirmed_New\": 1764.0, \"Deaths_New\": 121.0, \"Recovered_New\": 0.0}, {\"Week\": 16, \"Day\": \"Sunday\", \"Confirmed\": 32902.0, \"Deaths\": 1276.0, \"Recovered\": 0.0, \"Confirmed_New\": 1250.0, \"Deaths_New\": 234.0, \"Recovered_New\": 0.0}, {\"Week\": 16, \"Day\": \"Thursday\", \"Confirmed\": 28258.0, \"Deaths\": 841.0, \"Recovered\": 0.0, \"Confirmed_New\": 1505.0, \"Deaths_New\": 62.0, \"Recovered_New\": 0.0}, {\"Week\": 16, \"Day\": \"Tuesday\", \"Confirmed\": 25465.0, \"Deaths\": 691.0, \"Recovered\": 0.0, \"Confirmed_New\": 1173.0, \"Deaths_New\": 102.0, \"Recovered_New\": 0.0}, {\"Week\": 16, \"Day\": \"Wednesday\", \"Confirmed\": 26753.0, \"Deaths\": 779.0, \"Recovered\": 0.0, \"Confirmed_New\": 1288.0, \"Deaths_New\": 88.0, \"Recovered_New\": 0.0}, {\"Week\": 17, \"Day\": \"Friday\", \"Confirmed\": 40208.0, \"Deaths\": 1747.0, \"Recovered\": 0.0, \"Confirmed_New\": 1829.0, \"Deaths_New\": 23.0, \"Recovered_New\": 0.0}, {\"Week\": 17, \"Day\": \"Monday\", \"Confirmed\": 33914.0, \"Deaths\": 1348.0, \"Recovered\": 0.0, \"Confirmed_New\": 1012.0, \"Deaths_New\": 72.0, \"Recovered_New\": 0.0}, {\"Week\": 17, \"Day\": \"Saturday\", \"Confirmed\": 41153.0, \"Deaths\": 1793.0, \"Recovered\": 0.0, \"Confirmed_New\": 945.0, \"Deaths_New\": 46.0, \"Recovered_New\": 0.0}, {\"Week\": 17, \"Day\": \"Sunday\", \"Confirmed\": 42616.0, \"Deaths\": 1816.0, \"Recovered\": 0.0, \"Confirmed_New\": 1463.0, \"Deaths_New\": 23.0, \"Recovered_New\": 0.0}, {\"Week\": 17, \"Day\": \"Thursday\", \"Confirmed\": 38379.0, \"Deaths\": 1724.0, \"Recovered\": 0.0, \"Confirmed_New\": 2297.0, \"Deaths_New\": 51.0, \"Recovered_New\": 0.0}, {\"Week\": 17, \"Day\": \"Tuesday\", \"Confirmed\": 35249.0, \"Deaths\": 1614.0, \"Recovered\": 0.0, \"Confirmed_New\": 1335.0, \"Deaths_New\": 266.0, \"Recovered_New\": 0.0}, {\"Week\": 17, \"Day\": \"Wednesday\", \"Confirmed\": 36082.0, \"Deaths\": 1673.0, \"Recovered\": 0.0, \"Confirmed_New\": 833.0, \"Deaths_New\": 59.0, \"Recovered_New\": 0.0}, {\"Week\": 18, \"Day\": \"Friday\", \"Confirmed\": 49579.0, \"Deaths\": 2635.0, \"Recovered\": 0.0, \"Confirmed_New\": 1608.0, \"Deaths_New\": 160.0, \"Recovered_New\": 0.0}, {\"Week\": 18, \"Day\": \"Monday\", \"Confirmed\": 43558.0, \"Deaths\": 1886.0, \"Recovered\": 0.0, \"Confirmed_New\": 942.0, \"Deaths_New\": 70.0, \"Recovered_New\": 0.0}, {\"Week\": 18, \"Day\": \"Saturday\", \"Confirmed\": 50494.0, \"Deaths\": 2695.0, \"Recovered\": 0.0, \"Confirmed_New\": 915.0, \"Deaths_New\": 60.0, \"Recovered_New\": 0.0}, {\"Week\": 18, \"Day\": \"Sunday\", \"Confirmed\": 51225.0, \"Deaths\": 2720.0, \"Recovered\": 0.0, \"Confirmed_New\": 731.0, \"Deaths_New\": 25.0, \"Recovered_New\": 0.0}, {\"Week\": 18, \"Day\": \"Thursday\", \"Confirmed\": 47971.0, \"Deaths\": 2475.0, \"Recovered\": 0.0, \"Confirmed_New\": 1644.0, \"Deaths_New\": 102.0, \"Recovered_New\": 0.0}, {\"Week\": 18, \"Day\": \"Tuesday\", \"Confirmed\": 45137.0, \"Deaths\": 2046.0, \"Recovered\": 0.0, \"Confirmed_New\": 1579.0, \"Deaths_New\": 160.0, \"Recovered_New\": 0.0}, {\"Week\": 18, \"Day\": \"Wednesday\", \"Confirmed\": 46327.0, \"Deaths\": 2373.0, \"Recovered\": 0.0, \"Confirmed_New\": 1190.0, \"Deaths_New\": 327.0, \"Recovered_New\": 0.0}, {\"Week\": 19, \"Day\": \"Friday\", \"Confirmed\": 57371.0, \"Deaths\": 3715.0, \"Recovered\": 0.0, \"Confirmed_New\": 1415.0, \"Deaths_New\": 126.0, \"Recovered_New\": 0.0}, {\"Week\": 19, \"Day\": \"Monday\", \"Confirmed\": 52816.0, \"Deaths\": 2838.0, \"Recovered\": 0.0, \"Confirmed_New\": 1591.0, \"Deaths_New\": 118.0, \"Recovered_New\": 0.0}, {\"Week\": 19, \"Day\": \"Saturday\", \"Confirmed\": 58560.0, \"Deaths\": 3779.0, \"Recovered\": 0.0, \"Confirmed_New\": 1189.0, \"Deaths_New\": 64.0, \"Recovered_New\": 0.0}, {\"Week\": 19, \"Day\": \"Sunday\", \"Confirmed\": 59939.0, \"Deaths\": 3806.0, \"Recovered\": 0.0, \"Confirmed_New\": 1379.0, \"Deaths_New\": 27.0, \"Recovered_New\": 0.0}, {\"Week\": 19, \"Day\": \"Thursday\", \"Confirmed\": 55956.0, \"Deaths\": 3589.0, \"Recovered\": 0.0, \"Confirmed_New\": 1156.0, \"Deaths_New\": 244.0, \"Recovered_New\": 0.0}, {\"Week\": 19, \"Day\": \"Tuesday\", \"Confirmed\": 53864.0, \"Deaths\": 3179.0, \"Recovered\": 0.0, \"Confirmed_New\": 1048.0, \"Deaths_New\": 341.0, \"Recovered_New\": 0.0}, {\"Week\": 19, \"Day\": \"Wednesday\", \"Confirmed\": 54800.0, \"Deaths\": 3345.0, \"Recovered\": 0.0, \"Confirmed_New\": 936.0, \"Deaths_New\": 166.0, \"Recovered_New\": 0.0}, {\"Week\": 20, \"Day\": \"Friday\", \"Confirmed\": 64136.0, \"Deaths\": 4422.0, \"Recovered\": 0.0, \"Confirmed_New\": 1031.0, \"Deaths_New\": 134.0, \"Recovered_New\": 0.0}, {\"Week\": 20, \"Day\": \"Monday\", \"Confirmed\": 60459.0, \"Deaths\": 3832.0, \"Recovered\": 0.0, \"Confirmed_New\": 520.0, \"Deaths_New\": 26.0, \"Recovered_New\": 0.0}, {\"Week\": 20, \"Day\": \"Saturday\", \"Confirmed\": 65185.0, \"Deaths\": 4480.0, \"Recovered\": 0.0, \"Confirmed_New\": 1049.0, \"Deaths_New\": 58.0, \"Recovered_New\": 0.0}, {\"Week\": 20, \"Day\": \"Sunday\", \"Confirmed\": 65700.0, \"Deaths\": 4495.0, \"Recovered\": 0.0, \"Confirmed_New\": 515.0, \"Deaths_New\": 15.0, \"Recovered_New\": 0.0}, {\"Week\": 20, \"Day\": \"Thursday\", \"Confirmed\": 63105.0, \"Deaths\": 4288.0, \"Recovered\": 0.0, \"Confirmed_New\": 1004.0, \"Deaths_New\": 194.0, \"Recovered_New\": 0.0}, {\"Week\": 20, \"Day\": \"Tuesday\", \"Confirmed\": 61310.0, \"Deaths\": 3914.0, \"Recovered\": 0.0, \"Confirmed_New\": 851.0, \"Deaths_New\": 82.0, \"Recovered_New\": 0.0}, {\"Week\": 20, \"Day\": \"Wednesday\", \"Confirmed\": 62101.0, \"Deaths\": 4094.0, \"Recovered\": 0.0, \"Confirmed_New\": 791.0, \"Deaths_New\": 180.0, \"Recovered_New\": 0.0}, {\"Week\": 21, \"Day\": \"Friday\", \"Confirmed\": 70211.0, \"Deaths\": 5010.0, \"Recovered\": 0.0, \"Confirmed_New\": 959.0, \"Deaths_New\": 141.0, \"Recovered_New\": 0.0}, {\"Week\": 21, \"Day\": \"Monday\", \"Confirmed\": 66669.0, \"Deaths\": 4515.0, \"Recovered\": 0.0, \"Confirmed_New\": 969.0, \"Deaths_New\": 20.0, \"Recovered_New\": 0.0}, {\"Week\": 21, \"Day\": \"Saturday\", \"Confirmed\": 71009.0, \"Deaths\": 5112.0, \"Recovered\": 0.0, \"Confirmed_New\": 798.0, \"Deaths_New\": 102.0, \"Recovered_New\": 0.0}, {\"Week\": 21, \"Day\": \"Sunday\", \"Confirmed\": 71563.0, \"Deaths\": 5136.0, \"Recovered\": 0.0, \"Confirmed_New\": 554.0, \"Deaths_New\": 24.0, \"Recovered_New\": 0.0}, {\"Week\": 21, \"Day\": \"Thursday\", \"Confirmed\": 69252.0, \"Deaths\": 4869.0, \"Recovered\": 0.0, \"Confirmed_New\": 1126.0, \"Deaths_New\": 99.0, \"Recovered_New\": 0.0}, {\"Week\": 21, \"Day\": \"Tuesday\", \"Confirmed\": 67311.0, \"Deaths\": 4628.0, \"Recovered\": 0.0, \"Confirmed_New\": 642.0, \"Deaths_New\": 113.0, \"Recovered_New\": 0.0}, {\"Week\": 21, \"Day\": \"Wednesday\", \"Confirmed\": 68126.0, \"Deaths\": 4770.0, \"Recovered\": 0.0, \"Confirmed_New\": 815.0, \"Deaths_New\": 142.0, \"Recovered_New\": 0.0}, {\"Week\": 22, \"Day\": \"Friday\", \"Confirmed\": 74984.0, \"Deaths\": 5464.0, \"Recovered\": 0.0, \"Confirmed_New\": 764.0, \"Deaths_New\": 91.0, \"Recovered_New\": 0.0}, {\"Week\": 22, \"Day\": \"Monday\", \"Confirmed\": 71925.0, \"Deaths\": 5146.0, \"Recovered\": 0.0, \"Confirmed_New\": 362.0, \"Deaths_New\": 10.0, \"Recovered_New\": 0.0}, {\"Week\": 22, \"Day\": \"Saturday\", \"Confirmed\": 75697.0, \"Deaths\": 5537.0, \"Recovered\": 0.0, \"Confirmed_New\": 713.0, \"Deaths_New\": 73.0, \"Recovered_New\": 0.0}, {\"Week\": 22, \"Day\": \"Sunday\", \"Confirmed\": 76129.0, \"Deaths\": 5555.0, \"Recovered\": 0.0, \"Confirmed_New\": 432.0, \"Deaths_New\": 18.0, \"Recovered_New\": 0.0}, {\"Week\": 22, \"Day\": \"Thursday\", \"Confirmed\": 74220.0, \"Deaths\": 5373.0, \"Recovered\": 0.0, \"Confirmed_New\": 663.0, \"Deaths_New\": 108.0, \"Recovered_New\": 0.0}, {\"Week\": 22, \"Day\": \"Tuesday\", \"Confirmed\": 72778.0, \"Deaths\": 5163.0, \"Recovered\": 0.0, \"Confirmed_New\": 853.0, \"Deaths_New\": 17.0, \"Recovered_New\": 0.0}, {\"Week\": 22, \"Day\": \"Wednesday\", \"Confirmed\": 73557.0, \"Deaths\": 5265.0, \"Recovered\": 0.0, \"Confirmed_New\": 779.0, \"Deaths_New\": 102.0, \"Recovered_New\": 0.0}, {\"Week\": 23, \"Day\": \"Friday\", \"Confirmed\": 78815.0, \"Deaths\": 5898.0, \"Recovered\": 0.0, \"Confirmed_New\": 480.0, \"Deaths_New\": 66.0, \"Recovered_New\": 0.0}, {\"Week\": 23, \"Day\": \"Monday\", \"Confirmed\": 76646.0, \"Deaths\": 5567.0, \"Recovered\": 0.0, \"Confirmed_New\": 517.0, \"Deaths_New\": 12.0, \"Recovered_New\": 0.0}, {\"Week\": 23, \"Day\": \"Saturday\", \"Confirmed\": 79505.0, \"Deaths\": 5931.0, \"Recovered\": 0.0, \"Confirmed_New\": 690.0, \"Deaths_New\": 33.0, \"Recovered_New\": 0.0}, {\"Week\": 23, \"Day\": \"Sunday\", \"Confirmed\": 79908.0, \"Deaths\": 5943.0, \"Recovered\": 0.0, \"Confirmed_New\": 403.0, \"Deaths_New\": 12.0, \"Recovered_New\": 0.0}, {\"Week\": 23, \"Day\": \"Thursday\", \"Confirmed\": 78335.0, \"Deaths\": 5832.0, \"Recovered\": 0.0, \"Confirmed_New\": 555.0, \"Deaths_New\": 90.0, \"Recovered_New\": 0.0}, {\"Week\": 23, \"Day\": \"Tuesday\", \"Confirmed\": 77225.0, \"Deaths\": 5667.0, \"Recovered\": 0.0, \"Confirmed_New\": 579.0, \"Deaths_New\": 100.0, \"Recovered_New\": 0.0}, {\"Week\": 23, \"Day\": \"Wednesday\", \"Confirmed\": 77780.0, \"Deaths\": 5742.0, \"Recovered\": 0.0, \"Confirmed_New\": 555.0, \"Deaths_New\": 75.0, \"Recovered_New\": 0.0}, {\"Week\": 24, \"Day\": \"Friday\", \"Confirmed\": 82481.0, \"Deaths\": 6162.0, \"Recovered\": 0.0, \"Confirmed_New\": 633.0, \"Deaths_New\": 49.0, \"Recovered_New\": 0.0}, {\"Week\": 24, \"Day\": \"Monday\", \"Confirmed\": 80339.0, \"Deaths\": 5953.0, \"Recovered\": 0.0, \"Confirmed_New\": 431.0, \"Deaths_New\": 10.0, \"Recovered_New\": 0.0}, {\"Week\": 24, \"Day\": \"Saturday\", \"Confirmed\": 82944.0, \"Deaths\": 6211.0, \"Recovered\": 0.0, \"Confirmed_New\": 463.0, \"Deaths_New\": 49.0, \"Recovered_New\": 0.0}, {\"Week\": 24, \"Day\": \"Sunday\", \"Confirmed\": 83203.0, \"Deaths\": 6215.0, \"Recovered\": 0.0, \"Confirmed_New\": 259.0, \"Deaths_New\": 4.0, \"Recovered_New\": 0.0}, {\"Week\": 24, \"Day\": \"Thursday\", \"Confirmed\": 81848.0, \"Deaths\": 6113.0, \"Recovered\": 0.0, \"Confirmed_New\": 532.0, \"Deaths_New\": 51.0, \"Recovered_New\": 0.0}, {\"Week\": 24, \"Day\": \"Tuesday\", \"Confirmed\": 80870.0, \"Deaths\": 6014.0, \"Recovered\": 0.0, \"Confirmed_New\": 531.0, \"Deaths_New\": 61.0, \"Recovered_New\": 0.0}, {\"Week\": 24, \"Day\": \"Wednesday\", \"Confirmed\": 81316.0, \"Deaths\": 6062.0, \"Recovered\": 0.0, \"Confirmed_New\": 446.0, \"Deaths_New\": 48.0, \"Recovered_New\": 0.0}, {\"Week\": 25, \"Day\": \"Friday\", \"Confirmed\": 85199.0, \"Deaths\": 6399.0, \"Recovered\": 0.0, \"Confirmed_New\": 516.0, \"Deaths_New\": 38.0, \"Recovered_New\": 0.0}, {\"Week\": 25, \"Day\": \"Monday\", \"Confirmed\": 83589.0, \"Deaths\": 6243.0, \"Recovered\": 0.0, \"Confirmed_New\": 386.0, \"Deaths_New\": 28.0, \"Recovered_New\": 0.0}, {\"Week\": 25, \"Day\": \"Saturday\", \"Confirmed\": 85590.0, \"Deaths\": 6419.0, \"Recovered\": 0.0, \"Confirmed_New\": 391.0, \"Deaths_New\": 20.0, \"Recovered_New\": 0.0}, {\"Week\": 25, \"Day\": \"Sunday\", \"Confirmed\": 85935.0, \"Deaths\": 6423.0, \"Recovered\": 0.0, \"Confirmed_New\": 345.0, \"Deaths_New\": 4.0, \"Recovered_New\": 0.0}, {\"Week\": 25, \"Day\": \"Thursday\", \"Confirmed\": 84683.0, \"Deaths\": 6361.0, \"Recovered\": 0.0, \"Confirmed_New\": 394.0, \"Deaths_New\": 42.0, \"Recovered_New\": 0.0}, {\"Week\": 25, \"Day\": \"Tuesday\", \"Confirmed\": 83978.0, \"Deaths\": 6276.0, \"Recovered\": 0.0, \"Confirmed_New\": 389.0, \"Deaths_New\": 33.0, \"Recovered_New\": 0.0}, {\"Week\": 25, \"Day\": \"Wednesday\", \"Confirmed\": 84289.0, \"Deaths\": 6319.0, \"Recovered\": 0.0, \"Confirmed_New\": 311.0, \"Deaths_New\": 43.0, \"Recovered_New\": 0.0}, {\"Week\": 26, \"Day\": \"Friday\", \"Confirmed\": 88860.0, \"Deaths\": 6579.0, \"Recovered\": 0.0, \"Confirmed_New\": 719.0, \"Deaths_New\": 22.0, \"Recovered_New\": 0.0}, {\"Week\": 26, \"Day\": \"Monday\", \"Confirmed\": 86576.0, \"Deaths\": 6426.0, \"Recovered\": 0.0, \"Confirmed_New\": 641.0, \"Deaths_New\": 3.0, \"Recovered_New\": 0.0}, {\"Week\": 26, \"Day\": \"Saturday\", \"Confirmed\": 89446.0, \"Deaths\": 6603.0, \"Recovered\": 0.0, \"Confirmed_New\": 586.0, \"Deaths_New\": 24.0, \"Recovered_New\": 0.0}, {\"Week\": 26, \"Day\": \"Thursday\", \"Confirmed\": 88141.0, \"Deaths\": 6557.0, \"Recovered\": 0.0, \"Confirmed_New\": 456.0, \"Deaths_New\": 39.0, \"Recovered_New\": 0.0}, {\"Week\": 26, \"Day\": \"Tuesday\", \"Confirmed\": 87208.0, \"Deaths\": 6464.0, \"Recovered\": 0.0, \"Confirmed_New\": 632.0, \"Deaths_New\": 38.0, \"Recovered_New\": 0.0}, {\"Week\": 26, \"Day\": \"Wednesday\", \"Confirmed\": 87685.0, \"Deaths\": 6518.0, \"Recovered\": 0.0, \"Confirmed_New\": 477.0, \"Deaths_New\": 54.0, \"Recovered_New\": 0.0}]}}, {\"mode\": \"vega-lite\"});\n",
       "</script>"
      ],
      "text/plain": [
       "alt.LayerChart(...)"
      ]
     },
     "execution_count": 13,
     "metadata": {},
     "output_type": "execute_result"
    }
   ],
   "source": [
    "us = df[(df['Country'] == 'US') & (df['State'] == 'PA')]\n",
    "us.Date = pd.to_datetime(us.Date, format='%m-%d-%Y')\n",
    "us['Day'] = us.Date.dt.day_name()\n",
    "us['Week'] = us.Date.dt.week\n",
    "us['Area'] = us['County'] + ', ' + us['State']\n",
    "\n",
    "dow = us[us['Week']>9]\n",
    "dow = dow.groupby(['Week', 'Day'], as_index=False).sum()\n",
    "line=alt.Chart(dow).mark_line().encode(\n",
    "    alt.X('Week:N'),\n",
    "    alt.Y('Confirmed_New:Q'),\n",
    "    color=alt.Color('Day:N', sort=['Monday', 'Tuesday', 'Wednesday', 'Thursday', 'Friday', 'Saturday', 'Sunday']),\n",
    "    tooltip=['Day', 'Week']\n",
    ")\n",
    "point=line.mark_circle(size=60)\n",
    "(line+point).properties(\n",
    "    width=1200,\n",
    "    height=800\n",
    ").interactive()"
   ]
  },
  {
   "cell_type": "code",
   "execution_count": 8,
   "metadata": {},
   "outputs": [
    {
     "data": {
      "application/vnd.jupyter.widget-view+json": {
       "model_id": "0a3b3e3066624bfba19300cdb3f398b8",
       "version_major": 2,
       "version_minor": 0
      },
      "text/plain": [
       "interactive(children=(IntSlider(value=7, description='window', max=49, min=7, step=7), Dropdown(description='b…"
      ]
     },
     "metadata": {},
     "output_type": "display_data"
    }
   ],
   "source": [
    "from ipywidgets import interact\n",
    "from datetime import timedelta\n",
    "\n",
    "@interact(window=(7, 49, 7), by=['State', 'Area'])\n",
    "def chart(window=7, by='State'):\n",
    "    mow = us.groupby('Date', as_index=False).sum()[['Date', 'Confirmed_New']]\n",
    "    mow['Day'] = mow.Date.dt.day_name()\n",
    "    gd = us.groupby([by, 'Date'], as_index=False).sum()\n",
    "    \n",
    "    for date in mow.Date:\n",
    "        dl = gd[gd['Date'] == date].merge(gd[(gd['Date']<=date) & (gd['Date']>date+timedelta(days=-window))].groupby([by], as_index=False).max()[[by, 'Confirmed_New']], on=by)\n",
    "        states = dl[(dl.Confirmed_New_x == dl.Confirmed_New_y) & (dl.Confirmed_New_x != 0)][by].values\n",
    "        mow.loc[(mow['Date'] == date), 'Max'] = len(states)\n",
    "        mow.loc[(mow['Date'] == date), by] = str(states)\n",
    "\n",
    "    bars = alt.Chart(mow).mark_bar(color='purple').encode(\n",
    "        x='Date:T',\n",
    "        y='Max:Q',\n",
    "        tooltip=['Date', 'Max']\n",
    "    )\n",
    "    line = alt.Chart(mow).mark_line().encode(\n",
    "        x='Date:T',\n",
    "        y='Confirmed_New',\n",
    "        tooltip=['Date', 'Confirmed_New']\n",
    "    )\n",
    "    points=line.mark_circle(size=60).encode(color=alt.Color('Day:N', scale=alt.Scale(scheme='dark2')))\n",
    "    reg = points.transform_regression('Date', 'Confirmed_New', method='poly', order=10).mark_line(strokeDash=[6,8], color='grey')\n",
    "    nc = (line+points+reg)\n",
    "    return (bars+nc).resolve_scale(y='independent').properties(\n",
    "        width=1200,\n",
    "        height=800\n",
    "    ).interactive()"
   ]
  },
  {
   "cell_type": "code",
   "execution_count": 9,
   "metadata": {},
   "outputs": [
    {
     "data": {
      "application/vnd.jupyter.widget-view+json": {
       "model_id": "bcba69d81121466fbe10e0005f900104",
       "version_major": 2,
       "version_minor": 0
      },
      "text/plain": [
       "interactive(children=(IntSlider(value=7, description='window', max=49, min=7, step=7), Dropdown(description='v…"
      ]
     },
     "metadata": {},
     "output_type": "display_data"
    }
   ],
   "source": [
    "from scipy import stats\n",
    "\n",
    "np.seterr(all='ignore')\n",
    "@interact(window=(7, 49, 7), value=['Confirmed_New', 'Deaths_New'])\n",
    "def chart(window=7, value='Confirmed_New'):\n",
    "    mow = us.groupby('Date', as_index=False).sum()\n",
    "    mow = mow[(mow['Confirmed_New'] > 0) & (mow['Date']!='2020-02-28')]\n",
    "    for date in mow.Date:\n",
    "        dl = mow[(mow['Date']<=date) & (mow['Date']>date-timedelta(days=window))]\n",
    "        slope, intercept, r_value, p_value, std_err = stats.linregress(dl.Confirmed, dl[value])\n",
    "        mow.loc[(mow['Date'] == date), 'Slope'] = slope\n",
    "\n",
    "    bars = alt.Chart(mow).mark_bar(color='purple').encode(\n",
    "        x='Date:T',\n",
    "        y='Slope:Q',\n",
    "        tooltip=['Date', 'Slope']\n",
    "    )\n",
    "    line = alt.Chart(mow).mark_line().encode(\n",
    "        x='Date:T',\n",
    "        y=value,\n",
    "        tooltip=['Date', value]\n",
    "    )\n",
    "    points=line.mark_circle(size=60)\n",
    "    reg = points.transform_regression('Date', value, method='poly', order=10).mark_line(strokeDash=[6,8], color='grey')\n",
    "    nc = (line+points+reg)\n",
    "    return (bars+nc).resolve_scale(y='independent').properties(\n",
    "        width=1200,\n",
    "        height=800\n",
    "    ).interactive()"
   ]
  },
  {
   "cell_type": "code",
   "execution_count": null,
   "metadata": {},
   "outputs": [],
   "source": []
  }
 ],
 "metadata": {
  "kernelspec": {
   "display_name": "Python 3",
   "language": "python",
   "name": "python3"
  },
  "language_info": {
   "codemirror_mode": {
    "name": "ipython",
    "version": 3
   },
   "file_extension": ".py",
   "mimetype": "text/x-python",
   "name": "python",
   "nbconvert_exporter": "python",
   "pygments_lexer": "ipython3",
   "version": "3.7.6"
  }
 },
 "nbformat": 4,
 "nbformat_minor": 4
}
