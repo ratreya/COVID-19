{
 "cells": [
  {
   "cell_type": "code",
   "execution_count": 1,
   "metadata": {},
   "outputs": [],
   "source": [
    "import pandas as pd\n",
    "import numpy as np\n",
    "import altair as alt\n",
    "\n",
    "# Set up some global config and variables\n",
    "alt.renderers.enable('default')\n",
    "pd.options.mode.chained_assignment = None\n",
    "\n",
    "# Read the raw data\n",
    "df = pd.read_csv('jhu-daily-reports.csv')\n",
    "samples = df[['Date', 'Country']].groupby('Date').Country.nunique()\n",
    "days = samples[samples > 1].index.tolist()\n",
    "df = df[df['Date'].isin(days)]"
   ]
  },
  {
   "cell_type": "code",
   "execution_count": 6,
   "metadata": {},
   "outputs": [
    {
     "data": {
      "text/html": [
       "\n",
       "<div id=\"altair-viz-ad4408ca067446b9b92092ca60d2e95c\"></div>\n",
       "<script type=\"text/javascript\">\n",
       "  (function(spec, embedOpt){\n",
       "    const outputDiv = document.getElementById(\"altair-viz-ad4408ca067446b9b92092ca60d2e95c\");\n",
       "    const paths = {\n",
       "      \"vega\": \"https://cdn.jsdelivr.net/npm//vega@5?noext\",\n",
       "      \"vega-lib\": \"https://cdn.jsdelivr.net/npm//vega-lib?noext\",\n",
       "      \"vega-lite\": \"https://cdn.jsdelivr.net/npm//vega-lite@4.0.2?noext\",\n",
       "      \"vega-embed\": \"https://cdn.jsdelivr.net/npm//vega-embed@6?noext\",\n",
       "    };\n",
       "\n",
       "    function loadScript(lib) {\n",
       "      return new Promise(function(resolve, reject) {\n",
       "        var s = document.createElement('script');\n",
       "        s.src = paths[lib];\n",
       "        s.async = true;\n",
       "        s.onload = () => resolve(paths[lib]);\n",
       "        s.onerror = () => reject(`Error loading script: ${paths[lib]}`);\n",
       "        document.getElementsByTagName(\"head\")[0].appendChild(s);\n",
       "      });\n",
       "    }\n",
       "\n",
       "    function showError(err) {\n",
       "      outputDiv.innerHTML = `<div class=\"error\" style=\"color:red;\">${err}</div>`;\n",
       "      throw err;\n",
       "    }\n",
       "\n",
       "    function displayChart(vegaEmbed) {\n",
       "      vegaEmbed(outputDiv, spec, embedOpt)\n",
       "        .catch(err => showError(`Javascript Error: ${err.message}<br>This usually means there's a typo in your chart specification. See the javascript console for the full traceback.`));\n",
       "    }\n",
       "\n",
       "    if(typeof define === \"function\" && define.amd) {\n",
       "      requirejs.config({paths});\n",
       "      require([\"vega-embed\"], displayChart, err => showError(`Error loading script: ${err.message}`));\n",
       "    } else if (typeof vegaEmbed === \"function\") {\n",
       "      displayChart(vegaEmbed);\n",
       "    } else {\n",
       "      loadScript(\"vega\")\n",
       "        .then(() => loadScript(\"vega-lite\"))\n",
       "        .then(() => loadScript(\"vega-embed\"))\n",
       "        .catch(showError)\n",
       "        .then(() => displayChart(vegaEmbed));\n",
       "    }\n",
       "  })({\"config\": {\"view\": {\"continuousWidth\": 400, \"continuousHeight\": 300}}, \"layer\": [{\"mark\": \"line\", \"encoding\": {\"color\": {\"type\": \"nominal\", \"field\": \"Day\"}, \"tooltip\": [{\"type\": \"nominal\", \"field\": \"Day\"}, {\"type\": \"quantitative\", \"field\": \"Week\"}], \"x\": {\"type\": \"nominal\", \"field\": \"Week\"}, \"y\": {\"type\": \"quantitative\", \"field\": \"Confirmed_New\"}}, \"selection\": {\"selector006\": {\"type\": \"interval\", \"bind\": \"scales\", \"encodings\": [\"x\", \"y\"]}}}, {\"mark\": {\"type\": \"circle\", \"size\": 60}, \"encoding\": {\"color\": {\"type\": \"nominal\", \"field\": \"Day\"}, \"tooltip\": [{\"type\": \"nominal\", \"field\": \"Day\"}, {\"type\": \"quantitative\", \"field\": \"Week\"}], \"x\": {\"type\": \"nominal\", \"field\": \"Week\"}, \"y\": {\"type\": \"quantitative\", \"field\": \"Confirmed_New\"}}}], \"data\": {\"name\": \"data-0ca5937f13f6f3c44f005da8f25e803d\"}, \"height\": 800, \"width\": 1200, \"$schema\": \"https://vega.github.io/schema/vega-lite/v4.0.2.json\", \"datasets\": {\"data-0ca5937f13f6f3c44f005da8f25e803d\": [{\"Week\": 10, \"Day\": \"Friday\", \"Confirmed\": 278.0, \"Deaths\": 14.0, \"Recovered\": 8.0, \"Confirmed_New\": 45.0, \"Deaths_New\": 2.0, \"Recovered_New\": 0.0}, {\"Week\": 10, \"Day\": \"Monday\", \"Confirmed\": 101.0, \"Deaths\": 6.0, \"Recovered\": 7.0, \"Confirmed_New\": 21.0, \"Deaths_New\": 5.0, \"Recovered_New\": 0.0}, {\"Week\": 10, \"Day\": \"Wednesday\", \"Confirmed\": 153.0, \"Deaths\": 11.0, \"Recovered\": 8.0, \"Confirmed_New\": 31.0, \"Deaths_New\": 4.0, \"Recovered_New\": 0.0}, {\"Week\": 11, \"Day\": \"Friday\", \"Confirmed\": 2179.0, \"Deaths\": 47.0, \"Recovered\": 12.0, \"Confirmed_New\": 511.0, \"Deaths_New\": 7.0, \"Recovered_New\": 0.0}, {\"Week\": 11, \"Day\": \"Monday\", \"Confirmed\": 605.0, \"Deaths\": 22.0, \"Recovered\": 8.0, \"Confirmed_New\": 64.0, \"Deaths_New\": 1.0, \"Recovered_New\": 0.0}, {\"Week\": 11, \"Day\": \"Wednesday\", \"Confirmed\": 1281.0, \"Deaths\": 36.0, \"Recovered\": 8.0, \"Confirmed_New\": 322.0, \"Deaths_New\": 8.0, \"Recovered_New\": 0.0}, {\"Week\": 12, \"Day\": \"Friday\", \"Confirmed\": 19101.0, \"Deaths\": 244.0, \"Recovered\": 147.0, \"Confirmed_New\": 5421.0, \"Deaths_New\": 44.0, \"Recovered_New\": 39.0}, {\"Week\": 12, \"Day\": \"Monday\", \"Confirmed\": 4632.0, \"Deaths\": 85.0, \"Recovered\": 17.0, \"Confirmed_New\": 1133.0, \"Deaths_New\": 22.0, \"Recovered_New\": 5.0}, {\"Week\": 12, \"Day\": \"Wednesday\", \"Confirmed\": 7786.0, \"Deaths\": 118.0, \"Recovered\": 106.0, \"Confirmed_New\": 1364.0, \"Deaths_New\": 10.0, \"Recovered_New\": -17.0}, {\"Week\": 13, \"Day\": \"Friday\", \"Confirmed\": 101657.0, \"Deaths\": 1581.0, \"Recovered\": 869.0, \"Confirmed_New\": 18384.0, \"Deaths_New\": 370.0, \"Recovered_New\": 188.0}, {\"Week\": 13, \"Day\": \"Monday\", \"Confirmed\": 43663.0, \"Deaths\": 552.0, \"Recovered\": 0.0, \"Confirmed_New\": 9683.0, \"Deaths_New\": 124.0, \"Recovered_New\": 0.0}, {\"Week\": 13, \"Day\": \"Wednesday\", \"Confirmed\": 65778.0, \"Deaths\": 942.0, \"Recovered\": 361.0, \"Confirmed_New\": 12045.0, \"Deaths_New\": 235.0, \"Recovered_New\": 13.0}, {\"Week\": 14, \"Day\": \"Friday\", \"Confirmed\": 275586.0, \"Deaths\": 7087.0, \"Recovered\": 9707.0, \"Confirmed_New\": 31907.0, \"Deaths_New\": 1165.0, \"Recovered_New\": 706.0}, {\"Week\": 14, \"Day\": \"Monday\", \"Confirmed\": 161831.0, \"Deaths\": 2978.0, \"Recovered\": 5644.0, \"Confirmed_New\": 20653.0, \"Deaths_New\": 512.0, \"Recovered_New\": 2979.0}, {\"Week\": 14, \"Day\": \"Wednesday\", \"Confirmed\": 213372.0, \"Deaths\": 4757.0, \"Recovered\": 8474.0, \"Confirmed_New\": 25200.0, \"Deaths_New\": 885.0, \"Recovered_New\": 1450.0}, {\"Week\": 15, \"Day\": \"Friday\", \"Confirmed\": 496535.0, \"Deaths\": 18586.0, \"Recovered\": 28790.0, \"Confirmed_New\": 35099.0, \"Deaths_New\": 2104.0, \"Recovered_New\": 3380.0}, {\"Week\": 15, \"Day\": \"Monday\", \"Confirmed\": 366667.0, \"Deaths\": 10783.0, \"Recovered\": 19581.0, \"Confirmed_New\": 29540.0, \"Deaths_New\": 1164.0, \"Recovered_New\": 2133.0}, {\"Week\": 15, \"Day\": \"Wednesday\", \"Confirmed\": 429052.0, \"Deaths\": 14695.0, \"Recovered\": 23559.0, \"Confirmed_New\": 32739.0, \"Deaths_New\": 1972.0, \"Recovered_New\": 1796.0}, {\"Week\": 16, \"Day\": \"Friday\", \"Confirmed\": 699706.0, \"Deaths\": 36773.0, \"Recovered\": 58545.0, \"Confirmed_New\": 31976.0, \"Deaths_New\": 3857.0, \"Recovered_New\": 3842.0}, {\"Week\": 16, \"Day\": \"Monday\", \"Confirmed\": 580619.0, \"Deaths\": 23528.0, \"Recovered\": 43482.0, \"Confirmed_New\": 24919.0, \"Deaths_New\": 1506.0, \"Recovered_New\": 10494.0}, {\"Week\": 16, \"Day\": \"Wednesday\", \"Confirmed\": 636350.0, \"Deaths\": 28325.0, \"Recovered\": 52096.0, \"Confirmed_New\": 28671.0, \"Deaths_New\": 2494.0, \"Recovered_New\": 4333.0}, {\"Week\": 17, \"Day\": \"Friday\", \"Confirmed\": 905333.0, \"Deaths\": 51949.0, \"Recovered\": 99079.0, \"Confirmed_New\": 36163.0, \"Deaths_New\": 1995.0, \"Recovered_New\": 18876.0}, {\"Week\": 17, \"Day\": \"Monday\", \"Confirmed\": 784326.0, \"Deaths\": 42094.0, \"Recovered\": 72329.0, \"Confirmed_New\": 25211.0, \"Deaths_New\": 1433.0, \"Recovered_New\": 1992.0}, {\"Week\": 17, \"Day\": \"Wednesday\", \"Confirmed\": 840220.0, \"Deaths\": 46622.0, \"Recovered\": 77366.0, \"Confirmed_New\": 28355.0, \"Deaths_New\": 2178.0, \"Recovered_New\": 2162.0}, {\"Week\": 18, \"Day\": \"Friday\", \"Confirmed\": 1103461.0, \"Deaths\": 64943.0, \"Recovered\": 164015.0, \"Confirmed_New\": 34037.0, \"Deaths_New\": 2030.0, \"Recovered_New\": 10068.0}, {\"Week\": 18, \"Day\": \"Monday\", \"Confirmed\": 988197.0, \"Deaths\": 56259.0, \"Recovered\": 111424.0, \"Confirmed_New\": 22414.0, \"Deaths_New\": 1378.0, \"Recovered_New\": 4436.0}, {\"Week\": 18, \"Day\": \"Wednesday\", \"Confirmed\": 1039909.0, \"Deaths\": 60967.0, \"Recovered\": 120720.0, \"Confirmed_New\": 27326.0, \"Deaths_New\": 2612.0, \"Recovered_New\": 4784.0}, {\"Week\": 19, \"Day\": \"Friday\", \"Confirmed\": 1283929.0, \"Deaths\": 77180.0, \"Recovered\": 198993.0, \"Confirmed_New\": 26906.0, \"Deaths_New\": 1518.0, \"Recovered_New\": 3957.0}, {\"Week\": 19, \"Day\": \"Monday\", \"Confirmed\": 1180375.0, \"Deaths\": 68922.0, \"Recovered\": 187180.0, \"Confirmed_New\": 22335.0, \"Deaths_New\": 1240.0, \"Recovered_New\": 7028.0}, {\"Week\": 19, \"Day\": \"Wednesday\", \"Confirmed\": 1228603.0, \"Deaths\": 73431.0, \"Recovered\": 189910.0, \"Confirmed_New\": 24184.0, \"Deaths_New\": 2363.0, \"Recovered_New\": 119.0}, {\"Week\": 20, \"Day\": \"Friday\", \"Confirmed\": 1442824.0, \"Deaths\": 87530.0, \"Recovered\": 250747.0, \"Confirmed_New\": 25050.0, \"Deaths_New\": 1632.0, \"Recovered_New\": 4333.0}, {\"Week\": 20, \"Day\": \"Monday\", \"Confirmed\": 1347881.0, \"Deaths\": 80682.0, \"Recovered\": 232733.0, \"Confirmed_New\": 18621.0, \"Deaths_New\": 1156.0, \"Recovered_New\": 16564.0}, {\"Week\": 20, \"Day\": \"Wednesday\", \"Confirmed\": 1390406.0, \"Deaths\": 84119.0, \"Recovered\": 243430.0, \"Confirmed_New\": 20833.0, \"Deaths_New\": 1743.0, \"Recovered_New\": 13143.0}, {\"Week\": 21, \"Day\": \"Monday\", \"Confirmed\": 1508308.0, \"Deaths\": 90347.0, \"Recovered\": 283178.0, \"Confirmed_New\": 21552.0, \"Deaths_New\": 785.0, \"Recovered_New\": 10913.0}, {\"Week\": 21, \"Day\": \"Wednesday\", \"Confirmed\": 1551853.0, \"Deaths\": 93439.0, \"Recovered\": 294312.0, \"Confirmed_New\": 23285.0, \"Deaths_New\": 1518.0, \"Recovered_New\": 4920.0}]}}, {\"mode\": \"vega-lite\"});\n",
       "</script>"
      ],
      "text/plain": [
       "alt.LayerChart(...)"
      ]
     },
     "execution_count": 6,
     "metadata": {},
     "output_type": "execute_result"
    }
   ],
   "source": [
    "sl = df[df['Country'] == 'US'].groupby(['State', 'Date'], as_index=False).sum()\n",
    "sl.Date = pd.to_datetime(sl.Date, format='%m-%d-%Y')\n",
    "sl['Day'] = sl.Date.dt.day_name()\n",
    "sl['Week'] = sl.Date.dt.week\n",
    "\n",
    "dow = sl[sl['Week']>9]\n",
    "dow = dow.groupby(['Week', 'Day'], as_index=False).sum()\n",
    "line=alt.Chart(dow[dow['Day'].isin(['Monday', 'Wednesday', 'Friday'])]).mark_line().encode(\n",
    "    alt.X('Week:N'),\n",
    "    alt.Y('Confirmed_New:Q'),\n",
    "    color='Day:N',\n",
    "    tooltip=['Day', 'Week']\n",
    ")\n",
    "point=line.mark_circle(size=60)\n",
    "(line+point).properties(\n",
    "    width=1200,\n",
    "    height=800\n",
    ").interactive()"
   ]
  },
  {
   "cell_type": "code",
   "execution_count": 3,
   "metadata": {},
   "outputs": [
    {
     "data": {
      "application/vnd.jupyter.widget-view+json": {
       "model_id": "bbeb84a9d35346a9a9f548757785c775",
       "version_major": 2,
       "version_minor": 0
      },
      "text/plain": [
       "interactive(children=(IntSlider(value=7, description='window', max=49, min=7, step=7), Output()), _dom_classes…"
      ]
     },
     "metadata": {},
     "output_type": "display_data"
    }
   ],
   "source": [
    "from ipywidgets import interact\n",
    "from datetime import timedelta\n",
    "\n",
    "@interact(window=(7, 49, 7))\n",
    "def chart(window=7):\n",
    "    mow = sl.groupby('Date', as_index=False).sum()[['Date', 'Confirmed_New']]\n",
    "    for date in mow.Date:\n",
    "        dl = sl[sl['Date'] == date].merge(sl[(sl['Date']<=date) & (sl['Date']>date+timedelta(days=-window))].groupby(['State'], as_index=False).max()[['State', 'Confirmed_New']], on='State')\n",
    "        states = dl[(dl.Confirmed_New_x == dl.Confirmed_New_y) & (dl.Confirmed_New_x != 0)].State.values\n",
    "        mow.loc[(mow['Date'] == date), 'Max'] = len(states)\n",
    "        mow.loc[(mow['Date'] == date), 'States'] = str(states)\n",
    "\n",
    "    bars = alt.Chart(mow).mark_bar(color='purple').encode(\n",
    "        x='Date:T',\n",
    "        y='Max:Q',\n",
    "        tooltip=['Date', 'Max', 'States']\n",
    "    )\n",
    "    line = alt.Chart(mow).mark_line().encode(\n",
    "        x='Date:T',\n",
    "        y='Confirmed_New',\n",
    "        tooltip=['Date', 'Confirmed_New']\n",
    "    )\n",
    "    points=line.mark_circle(size=60)\n",
    "    reg = points.transform_regression('Date', 'Confirmed_New', method='poly', order=10).mark_line(strokeDash=[6,8], color='grey')\n",
    "    nc = (line+points+reg)\n",
    "    return (bars+nc).resolve_scale(y='independent').properties(\n",
    "        width=1200,\n",
    "        height=800\n",
    "    ).interactive()"
   ]
  },
  {
   "cell_type": "code",
   "execution_count": 7,
   "metadata": {},
   "outputs": [
    {
     "data": {
      "application/vnd.jupyter.widget-view+json": {
       "model_id": "ce38100e635a4429bc834be29f5ee16d",
       "version_major": 2,
       "version_minor": 0
      },
      "text/plain": [
       "interactive(children=(IntSlider(value=14, description='window', max=49, min=7, step=7), Dropdown(description='…"
      ]
     },
     "metadata": {},
     "output_type": "display_data"
    }
   ],
   "source": [
    "from scipy import stats\n",
    "\n",
    "np.seterr(all='ignore')\n",
    "@interact(window=(7, 49, 7), value=['Confirmed_New', 'Deaths_New'])\n",
    "def chart(window=14, value='Confirmed_New'):\n",
    "    mow = sl.groupby('Date', as_index=False).sum()\n",
    "    mow = mow[(mow['Confirmed_New'] > 0) & (mow['Date']!='2020-02-28')]\n",
    "    for date in mow.Date:\n",
    "        dl = mow[(mow['Date']<=date) & (mow['Date']>date-timedelta(days=window))]\n",
    "        slope, intercept, r_value, p_value, std_err = stats.linregress(dl.Confirmed, dl[value])\n",
    "        mow.loc[(mow['Date'] == date), 'Slope'] = slope\n",
    "\n",
    "    bars = alt.Chart(mow).mark_bar(color='purple').encode(\n",
    "        x='Date:T',\n",
    "        y='Slope:Q',\n",
    "        tooltip=['Date', 'Slope']\n",
    "    )\n",
    "    line = alt.Chart(mow).mark_line().encode(\n",
    "        x='Date:T',\n",
    "        y=value,\n",
    "        tooltip=['Date', value]\n",
    "    )\n",
    "    points=line.mark_circle(size=60)\n",
    "    reg = points.transform_regression('Date', value, method='poly', order=10).mark_line(strokeDash=[6,8], color='grey')\n",
    "    nc = (line+points+reg)\n",
    "    return (bars+nc).resolve_scale(y='independent').properties(\n",
    "        width=1200,\n",
    "        height=800\n",
    "    ).interactive()"
   ]
  },
  {
   "cell_type": "code",
   "execution_count": null,
   "metadata": {},
   "outputs": [],
   "source": []
  }
 ],
 "metadata": {
  "kernelspec": {
   "display_name": "Python 3",
   "language": "python",
   "name": "python3"
  },
  "language_info": {
   "codemirror_mode": {
    "name": "ipython",
    "version": 3
   },
   "file_extension": ".py",
   "mimetype": "text/x-python",
   "name": "python",
   "nbconvert_exporter": "python",
   "pygments_lexer": "ipython3",
   "version": "3.7.6"
  }
 },
 "nbformat": 4,
 "nbformat_minor": 4
}
