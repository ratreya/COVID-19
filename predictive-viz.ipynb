{
 "cells": [
  {
   "cell_type": "code",
   "execution_count": 1,
   "metadata": {},
   "outputs": [],
   "source": [
    "import pandas as pd\n",
    "import numpy as np\n",
    "import altair as alt\n",
    "\n",
    "# Set up some global config and variables\n",
    "alt.renderers.enable('default')\n",
    "pd.options.mode.chained_assignment = None\n",
    "\n",
    "# Read the raw data\n",
    "df = pd.read_csv('jhu-daily-reports.csv')\n",
    "samples = df[['Date', 'Country']].groupby('Date').Country.nunique()\n",
    "days = samples[samples > 1].index.tolist()\n",
    "df = df[df['Date'].isin(days)]"
   ]
  },
  {
   "cell_type": "code",
   "execution_count": 2,
   "metadata": {},
   "outputs": [
    {
     "data": {
      "text/html": [
       "\n",
       "<div id=\"altair-viz-f2b18a90917d43198d4117551f0e70fc\"></div>\n",
       "<script type=\"text/javascript\">\n",
       "  (function(spec, embedOpt){\n",
       "    const outputDiv = document.getElementById(\"altair-viz-f2b18a90917d43198d4117551f0e70fc\");\n",
       "    const paths = {\n",
       "      \"vega\": \"https://cdn.jsdelivr.net/npm//vega@5?noext\",\n",
       "      \"vega-lib\": \"https://cdn.jsdelivr.net/npm//vega-lib?noext\",\n",
       "      \"vega-lite\": \"https://cdn.jsdelivr.net/npm//vega-lite@4.0.2?noext\",\n",
       "      \"vega-embed\": \"https://cdn.jsdelivr.net/npm//vega-embed@6?noext\",\n",
       "    };\n",
       "\n",
       "    function loadScript(lib) {\n",
       "      return new Promise(function(resolve, reject) {\n",
       "        var s = document.createElement('script');\n",
       "        s.src = paths[lib];\n",
       "        s.async = true;\n",
       "        s.onload = () => resolve(paths[lib]);\n",
       "        s.onerror = () => reject(`Error loading script: ${paths[lib]}`);\n",
       "        document.getElementsByTagName(\"head\")[0].appendChild(s);\n",
       "      });\n",
       "    }\n",
       "\n",
       "    function showError(err) {\n",
       "      outputDiv.innerHTML = `<div class=\"error\" style=\"color:red;\">${err}</div>`;\n",
       "      throw err;\n",
       "    }\n",
       "\n",
       "    function displayChart(vegaEmbed) {\n",
       "      vegaEmbed(outputDiv, spec, embedOpt)\n",
       "        .catch(err => showError(`Javascript Error: ${err.message}<br>This usually means there's a typo in your chart specification. See the javascript console for the full traceback.`));\n",
       "    }\n",
       "\n",
       "    if(typeof define === \"function\" && define.amd) {\n",
       "      requirejs.config({paths});\n",
       "      require([\"vega-embed\"], displayChart, err => showError(`Error loading script: ${err.message}`));\n",
       "    } else if (typeof vegaEmbed === \"function\") {\n",
       "      displayChart(vegaEmbed);\n",
       "    } else {\n",
       "      loadScript(\"vega\")\n",
       "        .then(() => loadScript(\"vega-lite\"))\n",
       "        .then(() => loadScript(\"vega-embed\"))\n",
       "        .catch(showError)\n",
       "        .then(() => displayChart(vegaEmbed));\n",
       "    }\n",
       "  })({\"config\": {\"view\": {\"continuousWidth\": 400, \"continuousHeight\": 300}}, \"layer\": [{\"mark\": \"line\", \"encoding\": {\"color\": {\"type\": \"nominal\", \"field\": \"Day\"}, \"tooltip\": [{\"type\": \"nominal\", \"field\": \"Day\"}, {\"type\": \"quantitative\", \"field\": \"Week\"}], \"x\": {\"type\": \"nominal\", \"field\": \"Week\"}, \"y\": {\"type\": \"quantitative\", \"field\": \"Confirmed_New\"}}, \"selection\": {\"selector001\": {\"type\": \"interval\", \"bind\": \"scales\", \"encodings\": [\"x\", \"y\"]}}}, {\"mark\": {\"type\": \"circle\", \"size\": 60}, \"encoding\": {\"color\": {\"type\": \"nominal\", \"field\": \"Day\"}, \"tooltip\": [{\"type\": \"nominal\", \"field\": \"Day\"}, {\"type\": \"quantitative\", \"field\": \"Week\"}], \"x\": {\"type\": \"nominal\", \"field\": \"Week\"}, \"y\": {\"type\": \"quantitative\", \"field\": \"Confirmed_New\"}}}], \"data\": {\"name\": \"data-6b6d4729c838ad0af777aba8199a81ca\"}, \"height\": 800, \"width\": 1200, \"$schema\": \"https://vega.github.io/schema/vega-lite/v4.0.2.json\", \"datasets\": {\"data-6b6d4729c838ad0af777aba8199a81ca\": [{\"Week\": 10, \"Day\": \"Friday\", \"Confirmed\": 278.0, \"Deaths\": 14.0, \"Recovered\": 8.0, \"Confirmed_New\": 45.0, \"Deaths_New\": 2.0, \"Recovered_New\": 0.0}, {\"Week\": 10, \"Day\": \"Monday\", \"Confirmed\": 101.0, \"Deaths\": 6.0, \"Recovered\": 7.0, \"Confirmed_New\": 21.0, \"Deaths_New\": 5.0, \"Recovered_New\": 0.0}, {\"Week\": 10, \"Day\": \"Saturday\", \"Confirmed\": 417.0, \"Deaths\": 17.0, \"Recovered\": 8.0, \"Confirmed_New\": 111.0, \"Deaths_New\": 3.0, \"Recovered_New\": 0.0}, {\"Week\": 10, \"Day\": \"Sunday\", \"Confirmed\": 537.0, \"Deaths\": 21.0, \"Recovered\": 8.0, \"Confirmed_New\": 113.0, \"Deaths_New\": 4.0, \"Recovered_New\": 0.0}, {\"Week\": 10, \"Day\": \"Thursday\", \"Confirmed\": 221.0, \"Deaths\": 12.0, \"Recovered\": 8.0, \"Confirmed_New\": 64.0, \"Deaths_New\": 1.0, \"Recovered_New\": 0.0}, {\"Week\": 10, \"Day\": \"Tuesday\", \"Confirmed\": 122.0, \"Deaths\": 7.0, \"Recovered\": 8.0, \"Confirmed_New\": 18.0, \"Deaths_New\": 1.0, \"Recovered_New\": 1.0}, {\"Week\": 10, \"Day\": \"Wednesday\", \"Confirmed\": 153.0, \"Deaths\": 11.0, \"Recovered\": 8.0, \"Confirmed_New\": 31.0, \"Deaths_New\": 4.0, \"Recovered_New\": 0.0}, {\"Week\": 11, \"Day\": \"Friday\", \"Confirmed\": 2179.0, \"Deaths\": 47.0, \"Recovered\": 12.0, \"Confirmed_New\": 511.0, \"Deaths_New\": 7.0, \"Recovered_New\": 0.0}, {\"Week\": 11, \"Day\": \"Monday\", \"Confirmed\": 605.0, \"Deaths\": 22.0, \"Recovered\": 8.0, \"Confirmed_New\": 64.0, \"Deaths_New\": 1.0, \"Recovered_New\": 0.0}, {\"Week\": 11, \"Day\": \"Saturday\", \"Confirmed\": 2726.0, \"Deaths\": 54.0, \"Recovered\": 12.0, \"Confirmed_New\": 544.0, \"Deaths_New\": 7.0, \"Recovered_New\": 0.0}, {\"Week\": 11, \"Day\": \"Sunday\", \"Confirmed\": 3499.0, \"Deaths\": 63.0, \"Recovered\": 12.0, \"Confirmed_New\": 769.0, \"Deaths_New\": 9.0, \"Recovered_New\": 0.0}, {\"Week\": 11, \"Day\": \"Thursday\", \"Confirmed\": 1663.0, \"Deaths\": 40.0, \"Recovered\": 12.0, \"Confirmed_New\": 382.0, \"Deaths_New\": 4.0, \"Recovered_New\": 4.0}, {\"Week\": 11, \"Day\": \"Tuesday\", \"Confirmed\": 959.0, \"Deaths\": 28.0, \"Recovered\": 8.0, \"Confirmed_New\": 396.0, \"Deaths_New\": 6.0, \"Recovered_New\": 0.0}, {\"Week\": 11, \"Day\": \"Wednesday\", \"Confirmed\": 1281.0, \"Deaths\": 36.0, \"Recovered\": 8.0, \"Confirmed_New\": 322.0, \"Deaths_New\": 8.0, \"Recovered_New\": 0.0}, {\"Week\": 12, \"Day\": \"Friday\", \"Confirmed\": 19101.0, \"Deaths\": 244.0, \"Recovered\": 147.0, \"Confirmed_New\": 5421.0, \"Deaths_New\": 44.0, \"Recovered_New\": 39.0}, {\"Week\": 12, \"Day\": \"Monday\", \"Confirmed\": 4632.0, \"Deaths\": 85.0, \"Recovered\": 17.0, \"Confirmed_New\": 1133.0, \"Deaths_New\": 22.0, \"Recovered_New\": 5.0}, {\"Week\": 12, \"Day\": \"Saturday\", \"Confirmed\": 25514.0, \"Deaths\": 307.0, \"Recovered\": 171.0, \"Confirmed_New\": 6413.0, \"Deaths_New\": 63.0, \"Recovered_New\": 24.0}, {\"Week\": 12, \"Day\": \"Sunday\", \"Confirmed\": 33848.0, \"Deaths\": 427.0, \"Recovered\": 0.0, \"Confirmed_New\": 21.0, \"Deaths_New\": 2.0, \"Recovered_New\": 0.0}, {\"Week\": 12, \"Day\": \"Thursday\", \"Confirmed\": 13680.0, \"Deaths\": 200.0, \"Recovered\": 108.0, \"Confirmed_New\": 5894.0, \"Deaths_New\": 82.0, \"Recovered_New\": 2.0}, {\"Week\": 12, \"Day\": \"Tuesday\", \"Confirmed\": 6421.0, \"Deaths\": 108.0, \"Recovered\": 17.0, \"Confirmed_New\": 1789.0, \"Deaths_New\": 23.0, \"Recovered_New\": 0.0}, {\"Week\": 12, \"Day\": \"Wednesday\", \"Confirmed\": 7786.0, \"Deaths\": 118.0, \"Recovered\": 106.0, \"Confirmed_New\": 1364.0, \"Deaths_New\": 10.0, \"Recovered_New\": -17.0}, {\"Week\": 13, \"Day\": \"Friday\", \"Confirmed\": 101657.0, \"Deaths\": 1581.0, \"Recovered\": 869.0, \"Confirmed_New\": 18384.0, \"Deaths_New\": 370.0, \"Recovered_New\": 188.0}, {\"Week\": 13, \"Day\": \"Monday\", \"Confirmed\": 43663.0, \"Deaths\": 552.0, \"Recovered\": 0.0, \"Confirmed_New\": 9683.0, \"Deaths_New\": 124.0, \"Recovered_New\": 0.0}, {\"Week\": 13, \"Day\": \"Saturday\", \"Confirmed\": 121465.0, \"Deaths\": 2026.0, \"Recovered\": 1072.0, \"Confirmed_New\": 19111.0, \"Deaths_New\": 448.0, \"Recovered_New\": 203.0}, {\"Week\": 13, \"Day\": \"Sunday\", \"Confirmed\": 140909.0, \"Deaths\": 2467.0, \"Recovered\": 2665.0, \"Confirmed_New\": 19430.0, \"Deaths_New\": 434.0, \"Recovered_New\": 1593.0}, {\"Week\": 13, \"Day\": \"Thursday\", \"Confirmed\": 83836.0, \"Deaths\": 1209.0, \"Recovered\": 681.0, \"Confirmed_New\": 18060.0, \"Deaths_New\": 268.0, \"Recovered_New\": 320.0}, {\"Week\": 13, \"Day\": \"Tuesday\", \"Confirmed\": 53736.0, \"Deaths\": 706.0, \"Recovered\": 348.0, \"Confirmed_New\": 10136.0, \"Deaths_New\": 152.0, \"Recovered_New\": 0.0}, {\"Week\": 13, \"Day\": \"Wednesday\", \"Confirmed\": 65778.0, \"Deaths\": 942.0, \"Recovered\": 361.0, \"Confirmed_New\": 12045.0, \"Deaths_New\": 235.0, \"Recovered_New\": 13.0}, {\"Week\": 14, \"Day\": \"Friday\", \"Confirmed\": 275586.0, \"Deaths\": 7087.0, \"Recovered\": 9707.0, \"Confirmed_New\": 31907.0, \"Deaths_New\": 1165.0, \"Recovered_New\": 706.0}, {\"Week\": 14, \"Day\": \"Monday\", \"Confirmed\": 161831.0, \"Deaths\": 2978.0, \"Recovered\": 5644.0, \"Confirmed_New\": 20653.0, \"Deaths_New\": 512.0, \"Recovered_New\": 2979.0}, {\"Week\": 14, \"Day\": \"Saturday\", \"Confirmed\": 308853.0, \"Deaths\": 8407.0, \"Recovered\": 14652.0, \"Confirmed_New\": 33282.0, \"Deaths_New\": 1319.0, \"Recovered_New\": 4945.0}, {\"Week\": 14, \"Day\": \"Sunday\", \"Confirmed\": 337072.0, \"Deaths\": 9619.0, \"Recovered\": 17448.0, \"Confirmed_New\": 28190.0, \"Deaths_New\": 1210.0, \"Recovered_New\": 2796.0}, {\"Week\": 14, \"Day\": \"Thursday\", \"Confirmed\": 243599.0, \"Deaths\": 5926.0, \"Recovered\": 9001.0, \"Confirmed_New\": 30326.0, \"Deaths_New\": 1164.0, \"Recovered_New\": 527.0}, {\"Week\": 14, \"Day\": \"Tuesday\", \"Confirmed\": 188172.0, \"Deaths\": 3873.0, \"Recovered\": 7024.0, \"Confirmed_New\": 26428.0, \"Deaths_New\": 886.0, \"Recovered_New\": 1380.0}, {\"Week\": 14, \"Day\": \"Wednesday\", \"Confirmed\": 213372.0, \"Deaths\": 4757.0, \"Recovered\": 8474.0, \"Confirmed_New\": 25200.0, \"Deaths_New\": 885.0, \"Recovered_New\": 1450.0}, {\"Week\": 15, \"Day\": \"Friday\", \"Confirmed\": 496535.0, \"Deaths\": 18586.0, \"Recovered\": 28790.0, \"Confirmed_New\": 35099.0, \"Deaths_New\": 2104.0, \"Recovered_New\": 3380.0}, {\"Week\": 15, \"Day\": \"Monday\", \"Confirmed\": 366667.0, \"Deaths\": 10783.0, \"Recovered\": 19581.0, \"Confirmed_New\": 29540.0, \"Deaths_New\": 1164.0, \"Recovered_New\": 2133.0}, {\"Week\": 15, \"Day\": \"Saturday\", \"Confirmed\": 526396.0, \"Deaths\": 20462.0, \"Recovered\": 31270.0, \"Confirmed_New\": 29862.0, \"Deaths_New\": 1872.0, \"Recovered_New\": 2480.0}, {\"Week\": 15, \"Day\": \"Sunday\", \"Confirmed\": 555313.0, \"Deaths\": 22019.0, \"Recovered\": 32988.0, \"Confirmed_New\": 28915.0, \"Deaths_New\": 1557.0, \"Recovered_New\": 1718.0}, {\"Week\": 15, \"Day\": \"Thursday\", \"Confirmed\": 461437.0, \"Deaths\": 16478.0, \"Recovered\": 25410.0, \"Confirmed_New\": 32385.0, \"Deaths_New\": 1782.0, \"Recovered_New\": 1851.0}, {\"Week\": 15, \"Day\": \"Tuesday\", \"Confirmed\": 396223.0, \"Deaths\": 12722.0, \"Recovered\": 21763.0, \"Confirmed_New\": 29561.0, \"Deaths_New\": 1938.0, \"Recovered_New\": 2182.0}, {\"Week\": 15, \"Day\": \"Wednesday\", \"Confirmed\": 429052.0, \"Deaths\": 14695.0, \"Recovered\": 23559.0, \"Confirmed_New\": 32739.0, \"Deaths_New\": 1972.0, \"Recovered_New\": 1796.0}, {\"Week\": 16, \"Day\": \"Friday\", \"Confirmed\": 699706.0, \"Deaths\": 36773.0, \"Recovered\": 58545.0, \"Confirmed_New\": 31976.0, \"Deaths_New\": 3857.0, \"Recovered_New\": 3842.0}, {\"Week\": 16, \"Day\": \"Monday\", \"Confirmed\": 580619.0, \"Deaths\": 23528.0, \"Recovered\": 43482.0, \"Confirmed_New\": 24919.0, \"Deaths_New\": 1506.0, \"Recovered_New\": 10494.0}, {\"Week\": 16, \"Day\": \"Saturday\", \"Confirmed\": 732197.0, \"Deaths\": 38664.0, \"Recovered\": 64840.0, \"Confirmed_New\": 32491.0, \"Deaths_New\": 1891.0, \"Recovered_New\": 6295.0}, {\"Week\": 16, \"Day\": \"Sunday\", \"Confirmed\": 759086.0, \"Deaths\": 40661.0, \"Recovered\": 70337.0, \"Confirmed_New\": 26889.0, \"Deaths_New\": 1995.0, \"Recovered_New\": 5497.0}, {\"Week\": 16, \"Day\": \"Thursday\", \"Confirmed\": 667801.0, \"Deaths\": 32916.0, \"Recovered\": 54703.0, \"Confirmed_New\": 31449.0, \"Deaths_New\": 4591.0, \"Recovered_New\": 2607.0}, {\"Week\": 16, \"Day\": \"Tuesday\", \"Confirmed\": 607670.0, \"Deaths\": 25831.0, \"Recovered\": 47763.0, \"Confirmed_New\": 26397.0, \"Deaths_New\": 2303.0, \"Recovered_New\": 4281.0}, {\"Week\": 16, \"Day\": \"Wednesday\", \"Confirmed\": 636350.0, \"Deaths\": 28325.0, \"Recovered\": 52096.0, \"Confirmed_New\": 28671.0, \"Deaths_New\": 2494.0, \"Recovered_New\": 4333.0}, {\"Week\": 17, \"Day\": \"Friday\", \"Confirmed\": 905333.0, \"Deaths\": 51949.0, \"Recovered\": 99079.0, \"Confirmed_New\": 36163.0, \"Deaths_New\": 1995.0, \"Recovered_New\": 18876.0}, {\"Week\": 17, \"Day\": \"Monday\", \"Confirmed\": 784326.0, \"Deaths\": 42094.0, \"Recovered\": 72329.0, \"Confirmed_New\": 25211.0, \"Deaths_New\": 1433.0, \"Recovered_New\": 1992.0}, {\"Week\": 17, \"Day\": \"Saturday\", \"Confirmed\": 938154.0, \"Deaths\": 53755.0, \"Recovered\": 100372.0, \"Confirmed_New\": 32821.0, \"Deaths_New\": 1806.0, \"Recovered_New\": 1293.0}, {\"Week\": 17, \"Day\": \"Sunday\", \"Confirmed\": 965783.0, \"Deaths\": 54881.0, \"Recovered\": 106988.0, \"Confirmed_New\": 27629.0, \"Deaths_New\": 1126.0, \"Recovered_New\": 6616.0}, {\"Week\": 17, \"Day\": \"Thursday\", \"Confirmed\": 869170.0, \"Deaths\": 49954.0, \"Recovered\": 80203.0, \"Confirmed_New\": 28950.0, \"Deaths_New\": 3331.0, \"Recovered_New\": 2837.0}, {\"Week\": 17, \"Day\": \"Tuesday\", \"Confirmed\": 811865.0, \"Deaths\": 44444.0, \"Recovered\": 75204.0, \"Confirmed_New\": 27539.0, \"Deaths_New\": 2350.0, \"Recovered_New\": 2875.0}, {\"Week\": 17, \"Day\": \"Wednesday\", \"Confirmed\": 840220.0, \"Deaths\": 46622.0, \"Recovered\": 77366.0, \"Confirmed_New\": 28355.0, \"Deaths_New\": 2178.0, \"Recovered_New\": 2162.0}, {\"Week\": 18, \"Day\": \"Friday\", \"Confirmed\": 1103461.0, \"Deaths\": 64943.0, \"Recovered\": 164015.0, \"Confirmed_New\": 34037.0, \"Deaths_New\": 2030.0, \"Recovered_New\": 10068.0}, {\"Week\": 18, \"Day\": \"Monday\", \"Confirmed\": 988197.0, \"Deaths\": 56259.0, \"Recovered\": 111424.0, \"Confirmed_New\": 22414.0, \"Deaths_New\": 1378.0, \"Recovered_New\": 4436.0}, {\"Week\": 18, \"Day\": \"Saturday\", \"Confirmed\": 1132539.0, \"Deaths\": 66369.0, \"Recovered\": 175382.0, \"Confirmed_New\": 29078.0, \"Deaths_New\": 1343.0, \"Recovered_New\": 11367.0}, {\"Week\": 18, \"Day\": \"Sunday\", \"Confirmed\": 1158040.0, \"Deaths\": 67682.0, \"Recovered\": 180152.0, \"Confirmed_New\": 25501.0, \"Deaths_New\": 1313.0, \"Recovered_New\": 4770.0}, {\"Week\": 18, \"Day\": \"Thursday\", \"Confirmed\": 1069424.0, \"Deaths\": 62996.0, \"Recovered\": 153947.0, \"Confirmed_New\": 29515.0, \"Deaths_New\": 2029.0, \"Recovered_New\": 33227.0}, {\"Week\": 18, \"Day\": \"Tuesday\", \"Confirmed\": 1012582.0, \"Deaths\": 58355.0, \"Recovered\": 115936.0, \"Confirmed_New\": 24385.0, \"Deaths_New\": 2096.0, \"Recovered_New\": 4512.0}, {\"Week\": 18, \"Day\": \"Wednesday\", \"Confirmed\": 1039909.0, \"Deaths\": 60967.0, \"Recovered\": 120720.0, \"Confirmed_New\": 27326.0, \"Deaths_New\": 2612.0, \"Recovered_New\": 4784.0}, {\"Week\": 19, \"Day\": \"Friday\", \"Confirmed\": 1283929.0, \"Deaths\": 77180.0, \"Recovered\": 198993.0, \"Confirmed_New\": 26906.0, \"Deaths_New\": 1518.0, \"Recovered_New\": 3957.0}, {\"Week\": 19, \"Day\": \"Monday\", \"Confirmed\": 1180375.0, \"Deaths\": 68922.0, \"Recovered\": 187180.0, \"Confirmed_New\": 22335.0, \"Deaths_New\": 1240.0, \"Recovered_New\": 7028.0}, {\"Week\": 19, \"Day\": \"Saturday\", \"Confirmed\": 1309550.0, \"Deaths\": 78795.0, \"Recovered\": 212534.0, \"Confirmed_New\": 25621.0, \"Deaths_New\": 1615.0, \"Recovered_New\": 13541.0}, {\"Week\": 19, \"Day\": \"Sunday\", \"Confirmed\": 1329260.0, \"Deaths\": 79526.0, \"Recovered\": 216169.0, \"Confirmed_New\": 19710.0, \"Deaths_New\": 731.0, \"Recovered_New\": 3635.0}, {\"Week\": 19, \"Day\": \"Thursday\", \"Confirmed\": 1257023.0, \"Deaths\": 75662.0, \"Recovered\": 195036.0, \"Confirmed_New\": 28420.0, \"Deaths_New\": 2231.0, \"Recovered_New\": 5126.0}, {\"Week\": 19, \"Day\": \"Tuesday\", \"Confirmed\": 1204351.0, \"Deaths\": 71064.0, \"Recovered\": 189791.0, \"Confirmed_New\": 23976.0, \"Deaths_New\": 2142.0, \"Recovered_New\": 2611.0}, {\"Week\": 19, \"Day\": \"Wednesday\", \"Confirmed\": 1228603.0, \"Deaths\": 73431.0, \"Recovered\": 189910.0, \"Confirmed_New\": 24184.0, \"Deaths_New\": 2363.0, \"Recovered_New\": 119.0}, {\"Week\": 20, \"Day\": \"Friday\", \"Confirmed\": 1442824.0, \"Deaths\": 87530.0, \"Recovered\": 250747.0, \"Confirmed_New\": 25050.0, \"Deaths_New\": 1632.0, \"Recovered_New\": 4333.0}, {\"Week\": 20, \"Day\": \"Monday\", \"Confirmed\": 1347881.0, \"Deaths\": 80682.0, \"Recovered\": 232733.0, \"Confirmed_New\": 18621.0, \"Deaths_New\": 1156.0, \"Recovered_New\": 16564.0}, {\"Week\": 20, \"Day\": \"Saturday\", \"Confirmed\": 1467820.0, \"Deaths\": 88754.0, \"Recovered\": 268376.0, \"Confirmed_New\": 24997.0, \"Deaths_New\": 1224.0, \"Recovered_New\": 17629.0}, {\"Week\": 20, \"Day\": \"Sunday\", \"Confirmed\": 1486757.0, \"Deaths\": 89562.0, \"Recovered\": 272265.0, \"Confirmed_New\": 18937.0, \"Deaths_New\": 808.0, \"Recovered_New\": 3889.0}, {\"Week\": 20, \"Day\": \"Thursday\", \"Confirmed\": 1417774.0, \"Deaths\": 85898.0, \"Recovered\": 246414.0, \"Confirmed_New\": 27368.0, \"Deaths_New\": 1779.0, \"Recovered_New\": 2984.0}, {\"Week\": 20, \"Day\": \"Tuesday\", \"Confirmed\": 1369574.0, \"Deaths\": 82376.0, \"Recovered\": 230287.0, \"Confirmed_New\": 21693.0, \"Deaths_New\": 1694.0, \"Recovered_New\": -2446.0}, {\"Week\": 20, \"Day\": \"Wednesday\", \"Confirmed\": 1390406.0, \"Deaths\": 84119.0, \"Recovered\": 243430.0, \"Confirmed_New\": 20833.0, \"Deaths_New\": 1743.0, \"Recovered_New\": 13143.0}, {\"Week\": 21, \"Day\": \"Friday\", \"Confirmed\": 1600937.0, \"Deaths\": 95979.0, \"Recovered\": 350135.0, \"Confirmed_New\": 23790.0, \"Deaths_New\": 1277.0, \"Recovered_New\": 51717.0}, {\"Week\": 21, \"Day\": \"Monday\", \"Confirmed\": 1508308.0, \"Deaths\": 90347.0, \"Recovered\": 283178.0, \"Confirmed_New\": 21552.0, \"Deaths_New\": 785.0, \"Recovered_New\": 10913.0}, {\"Week\": 21, \"Day\": \"Saturday\", \"Confirmed\": 1622612.0, \"Deaths\": 97087.0, \"Recovered\": 361239.0, \"Confirmed_New\": 21675.0, \"Deaths_New\": 1108.0, \"Recovered_New\": 11104.0}, {\"Week\": 21, \"Day\": \"Sunday\", \"Confirmed\": 1643246.0, \"Deaths\": 97720.0, \"Recovered\": 366736.0, \"Confirmed_New\": 20634.0, \"Deaths_New\": 633.0, \"Recovered_New\": 5497.0}, {\"Week\": 21, \"Day\": \"Thursday\", \"Confirmed\": 1577147.0, \"Deaths\": 94702.0, \"Recovered\": 298418.0, \"Confirmed_New\": 25294.0, \"Deaths_New\": 1263.0, \"Recovered_New\": 4106.0}, {\"Week\": 21, \"Day\": \"Tuesday\", \"Confirmed\": 1528568.0, \"Deaths\": 91921.0, \"Recovered\": 289392.0, \"Confirmed_New\": 20260.0, \"Deaths_New\": 1574.0, \"Recovered_New\": 6214.0}, {\"Week\": 21, \"Day\": \"Wednesday\", \"Confirmed\": 1551853.0, \"Deaths\": 93439.0, \"Recovered\": 294312.0, \"Confirmed_New\": 23285.0, \"Deaths_New\": 1518.0, \"Recovered_New\": 4920.0}, {\"Week\": 22, \"Day\": \"Friday\", \"Confirmed\": 1746019.0, \"Deaths\": 102809.0, \"Recovered\": 406446.0, \"Confirmed_New\": 24265.0, \"Deaths_New\": 1193.0, \"Recovered_New\": 6455.0}, {\"Week\": 22, \"Day\": \"Monday\", \"Confirmed\": 1662302.0, \"Deaths\": 98220.0, \"Recovered\": 379157.0, \"Confirmed_New\": 19181.0, \"Deaths_New\": 500.0, \"Recovered_New\": 12421.0}, {\"Week\": 22, \"Day\": \"Saturday\", \"Confirmed\": 1770165.0, \"Deaths\": 103776.0, \"Recovered\": 416461.0, \"Confirmed_New\": 24146.0, \"Deaths_New\": 967.0, \"Recovered_New\": 10015.0}, {\"Week\": 22, \"Day\": \"Sunday\", \"Confirmed\": 1790172.0, \"Deaths\": 104381.0, \"Recovered\": 444758.0, \"Confirmed_New\": 20007.0, \"Deaths_New\": 605.0, \"Recovered_New\": 28297.0}, {\"Week\": 22, \"Day\": \"Thursday\", \"Confirmed\": 1721753.0, \"Deaths\": 101616.0, \"Recovered\": 399991.0, \"Confirmed_New\": 22576.0, \"Deaths_New\": 1198.0, \"Recovered_New\": 8483.0}, {\"Week\": 22, \"Day\": \"Tuesday\", \"Confirmed\": 1680913.0, \"Deaths\": 98913.0, \"Recovered\": 384902.0, \"Confirmed_New\": 18611.0, \"Deaths_New\": 693.0, \"Recovered_New\": 5745.0}, {\"Week\": 22, \"Day\": \"Wednesday\", \"Confirmed\": 1699176.0, \"Deaths\": 100418.0, \"Recovered\": 391508.0, \"Confirmed_New\": 18263.0, \"Deaths_New\": 1505.0, \"Recovered_New\": 6606.0}, {\"Week\": 23, \"Day\": \"Friday\", \"Confirmed\": 1902632.0, \"Deaths\": 109373.0, \"Recovered\": 491706.0, \"Confirmed_New\": 29972.0, \"Deaths_New\": 1162.0, \"Recovered_New\": 6704.0}, {\"Week\": 23, \"Day\": \"Monday\", \"Confirmed\": 1811020.0, \"Deaths\": 105149.0, \"Recovered\": 458231.0, \"Confirmed_New\": 20848.0, \"Deaths_New\": 768.0, \"Recovered_New\": 13473.0}, {\"Week\": 23, \"Day\": \"Saturday\", \"Confirmed\": 1925765.0, \"Deaths\": 110083.0, \"Recovered\": 500849.0, \"Confirmed_New\": 23133.0, \"Deaths_New\": 710.0, \"Recovered_New\": 9143.0}, {\"Week\": 23, \"Day\": \"Sunday\", \"Confirmed\": 1943880.0, \"Deaths\": 110528.0, \"Recovered\": 506367.0, \"Confirmed_New\": 18115.0, \"Deaths_New\": 445.0, \"Recovered_New\": 5518.0}, {\"Week\": 23, \"Day\": \"Thursday\", \"Confirmed\": 1872660.0, \"Deaths\": 108211.0, \"Recovered\": 485002.0, \"Confirmed_New\": 21140.0, \"Deaths_New\": 1036.0, \"Recovered_New\": 5744.0}, {\"Week\": 23, \"Day\": \"Tuesday\", \"Confirmed\": 1831821.0, \"Deaths\": 106180.0, \"Recovered\": 463868.0, \"Confirmed_New\": 20801.0, \"Deaths_New\": 1031.0, \"Recovered_New\": 5637.0}, {\"Week\": 23, \"Day\": \"Wednesday\", \"Confirmed\": 1851520.0, \"Deaths\": 107175.0, \"Recovered\": 479258.0, \"Confirmed_New\": 19699.0, \"Deaths_New\": 995.0, \"Recovered_New\": 15390.0}, {\"Week\": 24, \"Day\": \"Friday\", \"Confirmed\": 2048986.0, \"Deaths\": 114669.0, \"Recovered\": 547386.0, \"Confirmed_New\": 25639.0, \"Deaths_New\": 849.0, \"Recovered_New\": 7094.0}, {\"Week\": 24, \"Day\": \"Monday\", \"Confirmed\": 1961428.0, \"Deaths\": 111011.0, \"Recovered\": 518522.0, \"Confirmed_New\": 17548.0, \"Deaths_New\": 483.0, \"Recovered_New\": 12155.0}, {\"Week\": 24, \"Day\": \"Saturday\", \"Confirmed\": 2074526.0, \"Deaths\": 115436.0, \"Recovered\": 556606.0, \"Confirmed_New\": 25540.0, \"Deaths_New\": 767.0, \"Recovered_New\": 9220.0}, {\"Week\": 24, \"Day\": \"Thursday\", \"Confirmed\": 2023347.0, \"Deaths\": 113820.0, \"Recovered\": 540292.0, \"Confirmed_New\": 22883.0, \"Deaths_New\": 896.0, \"Recovered_New\": 6788.0}, {\"Week\": 24, \"Day\": \"Tuesday\", \"Confirmed\": 1979489.0, \"Deaths\": 111989.0, \"Recovered\": 524860.0, \"Confirmed_New\": 18061.0, \"Deaths_New\": 978.0, \"Recovered_New\": 6338.0}, {\"Week\": 24, \"Day\": \"Wednesday\", \"Confirmed\": 2000464.0, \"Deaths\": 112924.0, \"Recovered\": 533504.0, \"Confirmed_New\": 20975.0, \"Deaths_New\": 935.0, \"Recovered_New\": 8644.0}]}}, {\"mode\": \"vega-lite\"});\n",
       "</script>"
      ],
      "text/plain": [
       "alt.LayerChart(...)"
      ]
     },
     "execution_count": 2,
     "metadata": {},
     "output_type": "execute_result"
    }
   ],
   "source": [
    "us = df[df['Country'] == 'US']\n",
    "us.Date = pd.to_datetime(us.Date, format='%m-%d-%Y')\n",
    "us['Day'] = us.Date.dt.day_name()\n",
    "us['Week'] = us.Date.dt.week\n",
    "us['Area'] = us['County'] + ', ' + us['State']\n",
    "\n",
    "dow = us[us['Week']>9]\n",
    "dow = dow.groupby(['Week', 'Day'], as_index=False).sum()\n",
    "line=alt.Chart(dow).mark_line().encode(\n",
    "    alt.X('Week:N'),\n",
    "    alt.Y('Confirmed_New:Q'),\n",
    "    color='Day:N',\n",
    "    tooltip=['Day', 'Week']\n",
    ")\n",
    "point=line.mark_circle(size=60)\n",
    "(line+point).properties(\n",
    "    width=1200,\n",
    "    height=800\n",
    ").interactive()"
   ]
  },
  {
   "cell_type": "code",
   "execution_count": 3,
   "metadata": {},
   "outputs": [
    {
     "data": {
      "application/vnd.jupyter.widget-view+json": {
       "model_id": "b418863f7eff401085e49c3b5e0dad04",
       "version_major": 2,
       "version_minor": 0
      },
      "text/plain": [
       "interactive(children=(IntSlider(value=7, description='window', max=49, min=7, step=7), Dropdown(description='b…"
      ]
     },
     "metadata": {},
     "output_type": "display_data"
    }
   ],
   "source": [
    "from ipywidgets import interact\n",
    "from datetime import timedelta\n",
    "\n",
    "@interact(window=(7, 49, 7), by=['State', 'Area'])\n",
    "def chart(window=7, by='State'):\n",
    "    mow = us.groupby('Date', as_index=False).sum()[['Date', 'Confirmed_New']]\n",
    "    mow['Day'] = mow.Date.dt.day_name()\n",
    "    gd = us.groupby([by, 'Date'], as_index=False).sum()\n",
    "    \n",
    "    for date in mow.Date:\n",
    "        dl = gd[gd['Date'] == date].merge(gd[(gd['Date']<=date) & (gd['Date']>date+timedelta(days=-window))].groupby([by], as_index=False).max()[[by, 'Confirmed_New']], on=by)\n",
    "        states = dl[(dl.Confirmed_New_x == dl.Confirmed_New_y) & (dl.Confirmed_New_x != 0)][by].values\n",
    "        mow.loc[(mow['Date'] == date), 'Max'] = len(states)\n",
    "        mow.loc[(mow['Date'] == date), by] = str(states)\n",
    "\n",
    "    bars = alt.Chart(mow).mark_bar(color='purple').encode(\n",
    "        x='Date:T',\n",
    "        y='Max:Q',\n",
    "        tooltip=['Date', 'Max']\n",
    "    )\n",
    "    line = alt.Chart(mow).mark_line().encode(\n",
    "        x='Date:T',\n",
    "        y='Confirmed_New',\n",
    "        tooltip=['Date', 'Confirmed_New']\n",
    "    )\n",
    "    points=line.mark_circle(size=60).encode(color=alt.Color('Day:N', scale=alt.Scale(scheme='dark2')))\n",
    "    reg = points.transform_regression('Date', 'Confirmed_New', method='poly', order=10).mark_line(strokeDash=[6,8], color='grey')\n",
    "    nc = (line+points+reg)\n",
    "    return (bars+nc).resolve_scale(y='independent').properties(\n",
    "        width=1200,\n",
    "        height=800\n",
    "    ).interactive()"
   ]
  },
  {
   "cell_type": "code",
   "execution_count": 4,
   "metadata": {},
   "outputs": [
    {
     "data": {
      "application/vnd.jupyter.widget-view+json": {
       "model_id": "138f3135898347c490e0841725a23505",
       "version_major": 2,
       "version_minor": 0
      },
      "text/plain": [
       "interactive(children=(IntSlider(value=7, description='window', max=49, min=7, step=7), Dropdown(description='v…"
      ]
     },
     "metadata": {},
     "output_type": "display_data"
    }
   ],
   "source": [
    "from scipy import stats\n",
    "\n",
    "np.seterr(all='ignore')\n",
    "@interact(window=(7, 49, 7), value=['Confirmed_New', 'Deaths_New'])\n",
    "def chart(window=7, value='Confirmed_New'):\n",
    "    mow = us.groupby('Date', as_index=False).sum()\n",
    "    mow = mow[(mow['Confirmed_New'] > 0) & (mow['Date']!='2020-02-28')]\n",
    "    for date in mow.Date:\n",
    "        dl = mow[(mow['Date']<=date) & (mow['Date']>date-timedelta(days=window))]\n",
    "        slope, intercept, r_value, p_value, std_err = stats.linregress(dl.Confirmed, dl[value])\n",
    "        mow.loc[(mow['Date'] == date), 'Slope'] = slope\n",
    "\n",
    "    bars = alt.Chart(mow).mark_bar(color='purple').encode(\n",
    "        x='Date:T',\n",
    "        y='Slope:Q',\n",
    "        tooltip=['Date', 'Slope']\n",
    "    )\n",
    "    line = alt.Chart(mow).mark_line().encode(\n",
    "        x='Date:T',\n",
    "        y=value,\n",
    "        tooltip=['Date', value]\n",
    "    )\n",
    "    points=line.mark_circle(size=60)\n",
    "    reg = points.transform_regression('Date', value, method='poly', order=10).mark_line(strokeDash=[6,8], color='grey')\n",
    "    nc = (line+points+reg)\n",
    "    return (bars+nc).resolve_scale(y='independent').properties(\n",
    "        width=1200,\n",
    "        height=800\n",
    "    ).interactive()"
   ]
  },
  {
   "cell_type": "code",
   "execution_count": null,
   "metadata": {},
   "outputs": [],
   "source": []
  }
 ],
 "metadata": {
  "kernelspec": {
   "display_name": "Python 3",
   "language": "python",
   "name": "python3"
  },
  "language_info": {
   "codemirror_mode": {
    "name": "ipython",
    "version": 3
   },
   "file_extension": ".py",
   "mimetype": "text/x-python",
   "name": "python",
   "nbconvert_exporter": "python",
   "pygments_lexer": "ipython3",
   "version": "3.7.6"
  }
 },
 "nbformat": 4,
 "nbformat_minor": 4
}
