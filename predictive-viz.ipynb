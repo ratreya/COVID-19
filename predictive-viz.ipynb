{
 "cells": [
  {
   "cell_type": "code",
   "execution_count": 5,
   "metadata": {},
   "outputs": [
    {
     "name": "stderr",
     "output_type": "stream",
     "text": [
      "/Users/ratreya/opt/anaconda3/lib/python3.7/site-packages/IPython/core/interactiveshell.py:3063: DtypeWarning: Columns (2) have mixed types.Specify dtype option on import or set low_memory=False.\n",
      "  interactivity=interactivity, compiler=compiler, result=result)\n"
     ]
    }
   ],
   "source": [
    "import pandas as pd\n",
    "import numpy as np\n",
    "import altair as alt\n",
    "\n",
    "# Set up some global config and variables\n",
    "alt.renderers.enable('default')\n",
    "pd.options.mode.chained_assignment = None\n",
    "\n",
    "# Read the raw data\n",
    "df = pd.read_csv('jhu-daily-reports.csv')\n",
    "samples = df[['Date', 'Country']].groupby('Date').Country.nunique()\n",
    "days = samples[samples > 1].index.tolist()\n",
    "df = df[df['Date'].isin(days)]"
   ]
  },
  {
   "cell_type": "code",
   "execution_count": 12,
   "metadata": {},
   "outputs": [
    {
     "data": {
      "text/html": [
       "\n",
       "<div id=\"altair-viz-9c20ec1e93e5409c8ed25d00c80b7b9f\"></div>\n",
       "<script type=\"text/javascript\">\n",
       "  (function(spec, embedOpt){\n",
       "    const outputDiv = document.getElementById(\"altair-viz-9c20ec1e93e5409c8ed25d00c80b7b9f\");\n",
       "    const paths = {\n",
       "      \"vega\": \"https://cdn.jsdelivr.net/npm//vega@5?noext\",\n",
       "      \"vega-lib\": \"https://cdn.jsdelivr.net/npm//vega-lib?noext\",\n",
       "      \"vega-lite\": \"https://cdn.jsdelivr.net/npm//vega-lite@4.0.2?noext\",\n",
       "      \"vega-embed\": \"https://cdn.jsdelivr.net/npm//vega-embed@6?noext\",\n",
       "    };\n",
       "\n",
       "    function loadScript(lib) {\n",
       "      return new Promise(function(resolve, reject) {\n",
       "        var s = document.createElement('script');\n",
       "        s.src = paths[lib];\n",
       "        s.async = true;\n",
       "        s.onload = () => resolve(paths[lib]);\n",
       "        s.onerror = () => reject(`Error loading script: ${paths[lib]}`);\n",
       "        document.getElementsByTagName(\"head\")[0].appendChild(s);\n",
       "      });\n",
       "    }\n",
       "\n",
       "    function showError(err) {\n",
       "      outputDiv.innerHTML = `<div class=\"error\" style=\"color:red;\">${err}</div>`;\n",
       "      throw err;\n",
       "    }\n",
       "\n",
       "    function displayChart(vegaEmbed) {\n",
       "      vegaEmbed(outputDiv, spec, embedOpt)\n",
       "        .catch(err => showError(`Javascript Error: ${err.message}<br>This usually means there's a typo in your chart specification. See the javascript console for the full traceback.`));\n",
       "    }\n",
       "\n",
       "    if(typeof define === \"function\" && define.amd) {\n",
       "      requirejs.config({paths});\n",
       "      require([\"vega-embed\"], displayChart, err => showError(`Error loading script: ${err.message}`));\n",
       "    } else if (typeof vegaEmbed === \"function\") {\n",
       "      displayChart(vegaEmbed);\n",
       "    } else {\n",
       "      loadScript(\"vega\")\n",
       "        .then(() => loadScript(\"vega-lite\"))\n",
       "        .then(() => loadScript(\"vega-embed\"))\n",
       "        .catch(showError)\n",
       "        .then(() => displayChart(vegaEmbed));\n",
       "    }\n",
       "  })({\"config\": {\"view\": {\"continuousWidth\": 400, \"continuousHeight\": 300}}, \"layer\": [{\"mark\": \"line\", \"encoding\": {\"color\": {\"type\": \"nominal\", \"field\": \"Day\", \"sort\": [\"Monday\", \"Tuesday\", \"Wednesday\", \"Thursday\", \"Friday\", \"Saturday\", \"Sunday\"]}, \"tooltip\": [{\"type\": \"nominal\", \"field\": \"Day\"}, {\"type\": \"quantitative\", \"field\": \"Week\"}], \"x\": {\"type\": \"nominal\", \"field\": \"Week\"}, \"y\": {\"type\": \"quantitative\", \"field\": \"Confirmed_New\"}}, \"selection\": {\"selector010\": {\"type\": \"interval\", \"bind\": \"scales\", \"encodings\": [\"x\", \"y\"]}}}, {\"mark\": {\"type\": \"circle\", \"size\": 60}, \"encoding\": {\"color\": {\"type\": \"nominal\", \"field\": \"Day\", \"sort\": [\"Monday\", \"Tuesday\", \"Wednesday\", \"Thursday\", \"Friday\", \"Saturday\", \"Sunday\"]}, \"tooltip\": [{\"type\": \"nominal\", \"field\": \"Day\"}, {\"type\": \"quantitative\", \"field\": \"Week\"}], \"x\": {\"type\": \"nominal\", \"field\": \"Week\"}, \"y\": {\"type\": \"quantitative\", \"field\": \"Confirmed_New\"}}}], \"data\": {\"name\": \"data-8edceabec8be65b9b9de3b130de55299\"}, \"height\": 800, \"width\": 1200, \"$schema\": \"https://vega.github.io/schema/vega-lite/v4.0.2.json\", \"datasets\": {\"data-8edceabec8be65b9b9de3b130de55299\": [{\"Week\": 10, \"Day\": \"Friday\", \"Confirmed\": 5.0, \"Deaths\": 0.0, \"Recovered\": 2.0, \"Confirmed_New\": 0.0, \"Deaths_New\": 0.0, \"Recovered_New\": 0.0}, {\"Week\": 10, \"Day\": \"Monday\", \"Confirmed\": 4.0, \"Deaths\": 0.0, \"Recovered\": 2.0, \"Confirmed_New\": 1.0, \"Deaths_New\": 0.0, \"Recovered_New\": 0.0}, {\"Week\": 10, \"Day\": \"Saturday\", \"Confirmed\": 6.0, \"Deaths\": 0.0, \"Recovered\": 2.0, \"Confirmed_New\": 1.0, \"Deaths_New\": 0.0, \"Recovered_New\": 0.0}, {\"Week\": 10, \"Day\": \"Sunday\", \"Confirmed\": 7.0, \"Deaths\": 0.0, \"Recovered\": 2.0, \"Confirmed_New\": 1.0, \"Deaths_New\": 0.0, \"Recovered_New\": 0.0}, {\"Week\": 10, \"Day\": \"Thursday\", \"Confirmed\": 5.0, \"Deaths\": 0.0, \"Recovered\": 2.0, \"Confirmed_New\": 1.0, \"Deaths_New\": 0.0, \"Recovered_New\": 0.0}, {\"Week\": 10, \"Day\": \"Tuesday\", \"Confirmed\": 4.0, \"Deaths\": 0.0, \"Recovered\": 2.0, \"Confirmed_New\": 0.0, \"Deaths_New\": 0.0, \"Recovered_New\": 0.0}, {\"Week\": 10, \"Day\": \"Wednesday\", \"Confirmed\": 4.0, \"Deaths\": 0.0, \"Recovered\": 2.0, \"Confirmed_New\": 0.0, \"Deaths_New\": 0.0, \"Recovered_New\": 0.0}, {\"Week\": 11, \"Day\": \"Friday\", \"Confirmed\": 46.0, \"Deaths\": 0.0, \"Recovered\": 2.0, \"Confirmed_New\": 14.0, \"Deaths_New\": 0.0, \"Recovered_New\": 0.0}, {\"Week\": 11, \"Day\": \"Monday\", \"Confirmed\": 7.0, \"Deaths\": 0.0, \"Recovered\": 2.0, \"Confirmed_New\": 0.0, \"Deaths_New\": 0.0, \"Recovered_New\": 0.0}, {\"Week\": 11, \"Day\": \"Saturday\", \"Confirmed\": 64.0, \"Deaths\": 0.0, \"Recovered\": 2.0, \"Confirmed_New\": 18.0, \"Deaths_New\": 0.0, \"Recovered_New\": 0.0}, {\"Week\": 11, \"Day\": \"Sunday\", \"Confirmed\": 93.0, \"Deaths\": 0.0, \"Recovered\": 2.0, \"Confirmed_New\": 29.0, \"Deaths_New\": 0.0, \"Recovered_New\": 0.0}, {\"Week\": 11, \"Day\": \"Thursday\", \"Confirmed\": 32.0, \"Deaths\": 0.0, \"Recovered\": 2.0, \"Confirmed_New\": 7.0, \"Deaths_New\": 0.0, \"Recovered_New\": 0.0}, {\"Week\": 11, \"Day\": \"Tuesday\", \"Confirmed\": 12.0, \"Deaths\": 0.0, \"Recovered\": 2.0, \"Confirmed_New\": 5.0, \"Deaths_New\": 0.0, \"Recovered_New\": 0.0}, {\"Week\": 11, \"Day\": \"Wednesday\", \"Confirmed\": 25.0, \"Deaths\": 0.0, \"Recovered\": 2.0, \"Confirmed_New\": 13.0, \"Deaths_New\": 0.0, \"Recovered_New\": 0.0}, {\"Week\": 12, \"Day\": \"Friday\", \"Confirmed\": 585.0, \"Deaths\": 5.0, \"Recovered\": 0.0, \"Confirmed_New\": 163.0, \"Deaths_New\": 1.0, \"Recovered_New\": 0.0}, {\"Week\": 12, \"Day\": \"Monday\", \"Confirmed\": 105.0, \"Deaths\": 0.0, \"Recovered\": 2.0, \"Confirmed_New\": 12.0, \"Deaths_New\": 0.0, \"Recovered_New\": 0.0}, {\"Week\": 12, \"Day\": \"Saturday\", \"Confirmed\": 753.0, \"Deaths\": 6.0, \"Recovered\": 0.0, \"Confirmed_New\": 168.0, \"Deaths_New\": 1.0, \"Recovered_New\": 0.0}, {\"Week\": 12, \"Day\": \"Sunday\", \"Confirmed\": 1049.0, \"Deaths\": 9.0, \"Recovered\": 0.0, \"Confirmed_New\": 0.0, \"Deaths_New\": 0.0, \"Recovered_New\": 0.0}, {\"Week\": 12, \"Day\": \"Thursday\", \"Confirmed\": 422.0, \"Deaths\": 4.0, \"Recovered\": 0.0, \"Confirmed_New\": 260.0, \"Deaths_New\": 3.0, \"Recovered_New\": 0.0}, {\"Week\": 12, \"Day\": \"Tuesday\", \"Confirmed\": 161.0, \"Deaths\": 1.0, \"Recovered\": 2.0, \"Confirmed_New\": 56.0, \"Deaths_New\": 1.0, \"Recovered_New\": 0.0}, {\"Week\": 12, \"Day\": \"Wednesday\", \"Confirmed\": 162.0, \"Deaths\": 1.0, \"Recovered\": 0.0, \"Confirmed_New\": 1.0, \"Deaths_New\": 0.0, \"Recovered_New\": -2.0}, {\"Week\": 13, \"Day\": \"Friday\", \"Confirmed\": 3024.0, \"Deaths\": 34.0, \"Recovered\": 0.0, \"Confirmed_New\": 1154.0, \"Deaths_New\": 8.0, \"Recovered_New\": 0.0}, {\"Week\": 13, \"Day\": \"Monday\", \"Confirmed\": 1285.0, \"Deaths\": 12.0, \"Recovered\": 0.0, \"Confirmed_New\": 236.0, \"Deaths_New\": 3.0, \"Recovered_New\": 0.0}, {\"Week\": 13, \"Day\": \"Saturday\", \"Confirmed\": 3491.0, \"Deaths\": 47.0, \"Recovered\": 0.0, \"Confirmed_New\": -201.0, \"Deaths_New\": 13.0, \"Recovered_New\": 0.0}, {\"Week\": 13, \"Day\": \"Sunday\", \"Confirmed\": 4596.0, \"Deaths\": 66.0, \"Recovered\": 0.0, \"Confirmed_New\": 1105.0, \"Deaths_New\": 19.0, \"Recovered_New\": 0.0}, {\"Week\": 13, \"Day\": \"Thursday\", \"Confirmed\": 2538.0, \"Deaths\": 26.0, \"Recovered\": 0.0, \"Confirmed_New\": 673.0, \"Deaths_New\": 7.0, \"Recovered_New\": 0.0}, {\"Week\": 13, \"Day\": \"Tuesday\", \"Confirmed\": 1537.0, \"Deaths\": 16.0, \"Recovered\": 0.0, \"Confirmed_New\": 252.0, \"Deaths_New\": 4.0, \"Recovered_New\": 0.0}, {\"Week\": 13, \"Day\": \"Wednesday\", \"Confirmed\": 1865.0, \"Deaths\": 19.0, \"Recovered\": 0.0, \"Confirmed_New\": 328.0, \"Deaths_New\": 3.0, \"Recovered_New\": 0.0}, {\"Week\": 14, \"Day\": \"Friday\", \"Confirmed\": 8904.0, \"Deaths\": 210.0, \"Recovered\": 0.0, \"Confirmed_New\": 1209.0, \"Deaths_New\": 47.0, \"Recovered_New\": 0.0}, {\"Week\": 14, \"Day\": \"Monday\", \"Confirmed\": 5056.0, \"Deaths\": 73.0, \"Recovered\": 0.0, \"Confirmed_New\": 460.0, \"Deaths_New\": 7.0, \"Recovered_New\": 0.0}, {\"Week\": 14, \"Day\": \"Saturday\", \"Confirmed\": 10357.0, \"Deaths\": 244.0, \"Recovered\": 0.0, \"Confirmed_New\": 1453.0, \"Deaths_New\": 34.0, \"Recovered_New\": 0.0}, {\"Week\": 14, \"Day\": \"Sunday\", \"Confirmed\": 11259.0, \"Deaths\": 274.0, \"Recovered\": 0.0, \"Confirmed_New\": 902.0, \"Deaths_New\": 30.0, \"Recovered_New\": 0.0}, {\"Week\": 14, \"Day\": \"Thursday\", \"Confirmed\": 7695.0, \"Deaths\": 163.0, \"Recovered\": 0.0, \"Confirmed_New\": 715.0, \"Deaths_New\": 22.0, \"Recovered_New\": 0.0}, {\"Week\": 14, \"Day\": \"Tuesday\", \"Confirmed\": 5994.0, \"Deaths\": 99.0, \"Recovered\": 0.0, \"Confirmed_New\": 938.0, \"Deaths_New\": 26.0, \"Recovered_New\": 0.0}, {\"Week\": 14, \"Day\": \"Wednesday\", \"Confirmed\": 6980.0, \"Deaths\": 141.0, \"Recovered\": 0.0, \"Confirmed_New\": 986.0, \"Deaths_New\": 42.0, \"Recovered_New\": 0.0}, {\"Week\": 15, \"Day\": \"Friday\", \"Confirmed\": 17887.0, \"Deaths\": 597.0, \"Recovered\": 0.0, \"Confirmed_New\": 2808.0, \"Deaths_New\": 135.0, \"Recovered_New\": 0.0}, {\"Week\": 15, \"Day\": \"Monday\", \"Confirmed\": 12262.0, \"Deaths\": 307.0, \"Recovered\": 0.0, \"Confirmed_New\": 1003.0, \"Deaths_New\": 33.0, \"Recovered_New\": 0.0}, {\"Week\": 15, \"Day\": \"Saturday\", \"Confirmed\": 19180.0, \"Deaths\": 677.0, \"Recovered\": 0.0, \"Confirmed_New\": 1293.0, \"Deaths_New\": 80.0, \"Recovered_New\": 0.0}, {\"Week\": 15, \"Day\": \"Sunday\", \"Confirmed\": 20852.0, \"Deaths\": 720.0, \"Recovered\": 0.0, \"Confirmed_New\": 1672.0, \"Deaths_New\": 43.0, \"Recovered_New\": 0.0}, {\"Week\": 15, \"Day\": \"Thursday\", \"Confirmed\": 15079.0, \"Deaths\": 462.0, \"Recovered\": 0.0, \"Confirmed_New\": 1.0, \"Deaths_New\": 0.0, \"Recovered_New\": 0.0}, {\"Week\": 15, \"Day\": \"Tuesday\", \"Confirmed\": 12271.0, \"Deaths\": 308.0, \"Recovered\": 0.0, \"Confirmed_New\": 9.0, \"Deaths_New\": 1.0, \"Recovered_New\": 0.0}, {\"Week\": 15, \"Day\": \"Wednesday\", \"Confirmed\": 15078.0, \"Deaths\": 462.0, \"Recovered\": 0.0, \"Confirmed_New\": 2807.0, \"Deaths_New\": 154.0, \"Recovered_New\": 0.0}, {\"Week\": 16, \"Day\": \"Friday\", \"Confirmed\": 27578.0, \"Deaths\": 1132.0, \"Recovered\": 0.0, \"Confirmed_New\": 1844.0, \"Deaths_New\": 60.0, \"Recovered_New\": 0.0}, {\"Week\": 16, \"Day\": \"Monday\", \"Confirmed\": 22025.0, \"Deaths\": 798.0, \"Recovered\": 0.0, \"Confirmed_New\": 1173.0, \"Deaths_New\": 78.0, \"Recovered_New\": 0.0}, {\"Week\": 16, \"Day\": \"Saturday\", \"Confirmed\": 29160.0, \"Deaths\": 1259.0, \"Recovered\": 0.0, \"Confirmed_New\": 1582.0, \"Deaths_New\": 127.0, \"Recovered_New\": 0.0}, {\"Week\": 16, \"Day\": \"Sunday\", \"Confirmed\": 30357.0, \"Deaths\": 1290.0, \"Recovered\": 0.0, \"Confirmed_New\": 1197.0, \"Deaths_New\": 31.0, \"Recovered_New\": 0.0}, {\"Week\": 16, \"Day\": \"Thursday\", \"Confirmed\": 25734.0, \"Deaths\": 1072.0, \"Recovered\": 0.0, \"Confirmed_New\": 1141.0, \"Deaths_New\": 123.0, \"Recovered_New\": 0.0}, {\"Week\": 16, \"Day\": \"Tuesday\", \"Confirmed\": 23248.0, \"Deaths\": 868.0, \"Recovered\": 0.0, \"Confirmed_New\": 1223.0, \"Deaths_New\": 70.0, \"Recovered_New\": 0.0}, {\"Week\": 16, \"Day\": \"Wednesday\", \"Confirmed\": 24593.0, \"Deaths\": 949.0, \"Recovered\": 0.0, \"Confirmed_New\": 1345.0, \"Deaths_New\": 81.0, \"Recovered_New\": 0.0}, {\"Week\": 17, \"Day\": \"Friday\", \"Confirmed\": 39658.0, \"Deaths\": 1795.0, \"Recovered\": 0.0, \"Confirmed_New\": 2721.0, \"Deaths_New\": 107.0, \"Recovered_New\": 0.0}, {\"Week\": 17, \"Day\": \"Monday\", \"Confirmed\": 31513.0, \"Deaths\": 1349.0, \"Recovered\": 0.0, \"Confirmed_New\": 1156.0, \"Deaths_New\": 59.0, \"Recovered_New\": 0.0}, {\"Week\": 17, \"Day\": \"Saturday\", \"Confirmed\": 41777.0, \"Deaths\": 1875.0, \"Recovered\": 0.0, \"Confirmed_New\": 2119.0, \"Deaths_New\": 80.0, \"Recovered_New\": 0.0}, {\"Week\": 17, \"Day\": \"Sunday\", \"Confirmed\": 43903.0, \"Deaths\": 1933.0, \"Recovered\": 0.0, \"Confirmed_New\": 2126.0, \"Deaths_New\": 58.0, \"Recovered_New\": 0.0}, {\"Week\": 17, \"Day\": \"Thursday\", \"Confirmed\": 36937.0, \"Deaths\": 1688.0, \"Recovered\": 0.0, \"Confirmed_New\": 1830.0, \"Deaths_New\": 123.0, \"Recovered_New\": 0.0}, {\"Week\": 17, \"Day\": \"Tuesday\", \"Confirmed\": 33059.0, \"Deaths\": 1468.0, \"Recovered\": 0.0, \"Confirmed_New\": 1546.0, \"Deaths_New\": 119.0, \"Recovered_New\": 0.0}, {\"Week\": 17, \"Day\": \"Wednesday\", \"Confirmed\": 35107.0, \"Deaths\": 1565.0, \"Recovered\": 0.0, \"Confirmed_New\": 2048.0, \"Deaths_New\": 97.0, \"Recovered_New\": 0.0}, {\"Week\": 18, \"Day\": \"Friday\", \"Confirmed\": 56055.0, \"Deaths\": 2457.0, \"Recovered\": 0.0, \"Confirmed_New\": 3137.0, \"Deaths_New\": 102.0, \"Recovered_New\": 0.0}, {\"Week\": 18, \"Day\": \"Monday\", \"Confirmed\": 45883.0, \"Deaths\": 1983.0, \"Recovered\": 0.0, \"Confirmed_New\": 1980.0, \"Deaths_New\": 50.0, \"Recovered_New\": 0.0}, {\"Week\": 18, \"Day\": \"Saturday\", \"Confirmed\": 58505.0, \"Deaths\": 2559.0, \"Recovered\": 0.0, \"Confirmed_New\": 2450.0, \"Deaths_New\": 102.0, \"Recovered_New\": 0.0}, {\"Week\": 18, \"Day\": \"Sunday\", \"Confirmed\": 61499.0, \"Deaths\": 2618.0, \"Recovered\": 0.0, \"Confirmed_New\": 2994.0, \"Deaths_New\": 59.0, \"Recovered_New\": 0.0}, {\"Week\": 18, \"Day\": \"Thursday\", \"Confirmed\": 52918.0, \"Deaths\": 2355.0, \"Recovered\": 0.0, \"Confirmed_New\": 2560.0, \"Deaths_New\": 140.0, \"Recovered_New\": 0.0}, {\"Week\": 18, \"Day\": \"Tuesday\", \"Confirmed\": 48102.0, \"Deaths\": 2125.0, \"Recovered\": 0.0, \"Confirmed_New\": 2219.0, \"Deaths_New\": 142.0, \"Recovered_New\": 0.0}, {\"Week\": 18, \"Day\": \"Wednesday\", \"Confirmed\": 50358.0, \"Deaths\": 2215.0, \"Recovered\": 0.0, \"Confirmed_New\": 2256.0, \"Deaths_New\": 90.0, \"Recovered_New\": 0.0}, {\"Week\": 19, \"Day\": \"Friday\", \"Confirmed\": 73760.0, \"Deaths\": 3241.0, \"Recovered\": 0.0, \"Confirmed_New\": 2889.0, \"Deaths_New\": 130.0, \"Recovered_New\": 0.0}, {\"Week\": 19, \"Day\": \"Monday\", \"Confirmed\": 63777.0, \"Deaths\": 2659.0, \"Recovered\": 0.0, \"Confirmed_New\": 2278.0, \"Deaths_New\": 41.0, \"Recovered_New\": 0.0}, {\"Week\": 19, \"Day\": \"Saturday\", \"Confirmed\": 76085.0, \"Deaths\": 3349.0, \"Recovered\": 0.0, \"Confirmed_New\": 2325.0, \"Deaths_New\": 108.0, \"Recovered_New\": 0.0}, {\"Week\": 19, \"Day\": \"Sunday\", \"Confirmed\": 77741.0, \"Deaths\": 3406.0, \"Recovered\": 0.0, \"Confirmed_New\": 1656.0, \"Deaths_New\": 57.0, \"Recovered_New\": 0.0}, {\"Week\": 19, \"Day\": \"Thursday\", \"Confirmed\": 70871.0, \"Deaths\": 3111.0, \"Recovered\": 0.0, \"Confirmed_New\": 2639.0, \"Deaths_New\": 137.0, \"Recovered_New\": 0.0}, {\"Week\": 19, \"Day\": \"Tuesday\", \"Confirmed\": 65889.0, \"Deaths\": 2834.0, \"Recovered\": 0.0, \"Confirmed_New\": 2112.0, \"Deaths_New\": 175.0, \"Recovered_New\": 0.0}, {\"Week\": 19, \"Day\": \"Wednesday\", \"Confirmed\": 68232.0, \"Deaths\": 2974.0, \"Recovered\": 0.0, \"Confirmed_New\": 2275.0, \"Deaths_New\": 136.0, \"Recovered_New\": 0.0}, {\"Week\": 20, \"Day\": \"Friday\", \"Confirmed\": 90369.0, \"Deaths\": 4059.0, \"Recovered\": 0.0, \"Confirmed_New\": 2432.0, \"Deaths_New\": 131.0, \"Recovered_New\": 0.0}, {\"Week\": 20, \"Day\": \"Monday\", \"Confirmed\": 79007.0, \"Deaths\": 3459.0, \"Recovered\": 0.0, \"Confirmed_New\": 1266.0, \"Deaths_New\": 53.0, \"Recovered_New\": 0.0}, {\"Week\": 20, \"Day\": \"Saturday\", \"Confirmed\": 92457.0, \"Deaths\": 4129.0, \"Recovered\": 0.0, \"Confirmed_New\": 2088.0, \"Deaths_New\": 70.0, \"Recovered_New\": 0.0}, {\"Week\": 20, \"Day\": \"Sunday\", \"Confirmed\": 94191.0, \"Deaths\": 4177.0, \"Recovered\": 0.0, \"Confirmed_New\": 1734.0, \"Deaths_New\": 48.0, \"Recovered_New\": 0.0}, {\"Week\": 20, \"Day\": \"Thursday\", \"Confirmed\": 87937.0, \"Deaths\": 3928.0, \"Recovered\": 0.0, \"Confirmed_New\": 3243.0, \"Deaths_New\": 136.0, \"Recovered_New\": 0.0}, {\"Week\": 20, \"Day\": \"Tuesday\", \"Confirmed\": 83021.0, \"Deaths\": 3601.0, \"Recovered\": 0.0, \"Confirmed_New\": 4014.0, \"Deaths_New\": 142.0, \"Recovered_New\": 0.0}, {\"Week\": 20, \"Day\": \"Wednesday\", \"Confirmed\": 84694.0, \"Deaths\": 3792.0, \"Recovered\": 0.0, \"Confirmed_New\": 1673.0, \"Deaths_New\": 191.0, \"Recovered_New\": 0.0}, {\"Week\": 21, \"Day\": \"Friday\", \"Confirmed\": 105444.0, \"Deaths\": 4715.0, \"Recovered\": 0.0, \"Confirmed_New\": 2756.0, \"Deaths_New\": 108.0, \"Recovered_New\": 0.0}, {\"Week\": 21, \"Day\": \"Monday\", \"Confirmed\": 96485.0, \"Deaths\": 4234.0, \"Recovered\": 0.0, \"Confirmed_New\": 2294.0, \"Deaths_New\": 57.0, \"Recovered_New\": 0.0}, {\"Week\": 21, \"Day\": \"Saturday\", \"Confirmed\": 107796.0, \"Deaths\": 4790.0, \"Recovered\": 0.0, \"Confirmed_New\": 2352.0, \"Deaths_New\": 75.0, \"Recovered_New\": 0.0}, {\"Week\": 21, \"Day\": \"Sunday\", \"Confirmed\": 110304.0, \"Deaths\": 4856.0, \"Recovered\": 0.0, \"Confirmed_New\": 2508.0, \"Deaths_New\": 66.0, \"Recovered_New\": 0.0}, {\"Week\": 21, \"Day\": \"Thursday\", \"Confirmed\": 102688.0, \"Deaths\": 4607.0, \"Recovered\": 0.0, \"Confirmed_New\": 2270.0, \"Deaths_New\": 82.0, \"Recovered_New\": 0.0}, {\"Week\": 21, \"Day\": \"Tuesday\", \"Confirmed\": 98030.0, \"Deaths\": 4379.0, \"Recovered\": 0.0, \"Confirmed_New\": 1545.0, \"Deaths_New\": 145.0, \"Recovered_New\": 0.0}, {\"Week\": 21, \"Day\": \"Wednesday\", \"Confirmed\": 100418.0, \"Deaths\": 4525.0, \"Recovered\": 0.0, \"Confirmed_New\": 2388.0, \"Deaths_New\": 146.0, \"Recovered_New\": 0.0}, {\"Week\": 22, \"Day\": \"Friday\", \"Confirmed\": 117455.0, \"Deaths\": 5270.0, \"Recovered\": 0.0, \"Confirmed_New\": 1622.0, \"Deaths_New\": 84.0, \"Recovered_New\": 0.0}, {\"Week\": 22, \"Day\": \"Monday\", \"Confirmed\": 112017.0, \"Deaths\": 4885.0, \"Recovered\": 0.0, \"Confirmed_New\": 1713.0, \"Deaths_New\": 29.0, \"Recovered_New\": 0.0}, {\"Week\": 22, \"Day\": \"Saturday\", \"Confirmed\": 118917.0, \"Deaths\": 5330.0, \"Recovered\": 0.0, \"Confirmed_New\": 1462.0, \"Deaths_New\": 60.0, \"Recovered_New\": 0.0}, {\"Week\": 22, \"Day\": \"Sunday\", \"Confirmed\": 120260.0, \"Deaths\": 5390.0, \"Recovered\": 0.0, \"Confirmed_New\": 1343.0, \"Deaths_New\": 60.0, \"Recovered_New\": 0.0}, {\"Week\": 22, \"Day\": \"Thursday\", \"Confirmed\": 115833.0, \"Deaths\": 5186.0, \"Recovered\": 0.0, \"Confirmed_New\": 1527.0, \"Deaths_New\": 103.0, \"Recovered_New\": 0.0}, {\"Week\": 22, \"Day\": \"Tuesday\", \"Confirmed\": 113195.0, \"Deaths\": 4923.0, \"Recovered\": 0.0, \"Confirmed_New\": 1178.0, \"Deaths_New\": 38.0, \"Recovered_New\": 0.0}, {\"Week\": 22, \"Day\": \"Wednesday\", \"Confirmed\": 114306.0, \"Deaths\": 5083.0, \"Recovered\": 0.0, \"Confirmed_New\": 1111.0, \"Deaths_New\": 160.0, \"Recovered_New\": 0.0}, {\"Week\": 23, \"Day\": \"Friday\", \"Confirmed\": 125915.0, \"Deaths\": 5795.0, \"Recovered\": 0.0, \"Confirmed_New\": 1156.0, \"Deaths_New\": 59.0, \"Recovered_New\": 0.0}, {\"Week\": 23, \"Day\": \"Monday\", \"Confirmed\": 121234.0, \"Deaths\": 5412.0, \"Recovered\": 0.0, \"Confirmed_New\": 974.0, \"Deaths_New\": 22.0, \"Recovered_New\": 0.0}, {\"Week\": 23, \"Day\": \"Saturday\", \"Confirmed\": 126890.0, \"Deaths\": 5864.0, \"Recovered\": 0.0, \"Confirmed_New\": 975.0, \"Deaths_New\": 69.0, \"Recovered_New\": 0.0}, {\"Week\": 23, \"Day\": \"Sunday\", \"Confirmed\": 127757.0, \"Deaths\": 5904.0, \"Recovered\": 0.0, \"Confirmed_New\": 867.0, \"Deaths_New\": 40.0, \"Recovered_New\": 0.0}, {\"Week\": 23, \"Day\": \"Thursday\", \"Confirmed\": 124759.0, \"Deaths\": 5736.0, \"Recovered\": 0.0, \"Confirmed_New\": 929.0, \"Deaths_New\": 115.0, \"Recovered_New\": 0.0}, {\"Week\": 23, \"Day\": \"Tuesday\", \"Confirmed\": 122848.0, \"Deaths\": 5525.0, \"Recovered\": 0.0, \"Confirmed_New\": 1614.0, \"Deaths_New\": 113.0, \"Recovered_New\": 0.0}, {\"Week\": 23, \"Day\": \"Wednesday\", \"Confirmed\": 123830.0, \"Deaths\": 5621.0, \"Recovered\": 0.0, \"Confirmed_New\": 982.0, \"Deaths_New\": 96.0, \"Recovered_New\": 0.0}, {\"Week\": 24, \"Day\": \"Friday\", \"Confirmed\": 131198.0, \"Deaths\": 6260.0, \"Recovered\": 0.0, \"Confirmed_New\": 595.0, \"Deaths_New\": 75.0, \"Recovered_New\": 0.0}, {\"Week\": 24, \"Day\": \"Monday\", \"Confirmed\": 128415.0, \"Deaths\": 5924.0, \"Recovered\": 0.0, \"Confirmed_New\": 658.0, \"Deaths_New\": 20.0, \"Recovered_New\": 0.0}, {\"Week\": 24, \"Day\": \"Saturday\", \"Confirmed\": 131871.0, \"Deaths\": 6289.0, \"Recovered\": 0.0, \"Confirmed_New\": 673.0, \"Deaths_New\": 29.0, \"Recovered_New\": 0.0}, {\"Week\": 24, \"Day\": \"Sunday\", \"Confirmed\": 132543.0, \"Deaths\": 6308.0, \"Recovered\": 0.0, \"Confirmed_New\": 672.0, \"Deaths_New\": 19.0, \"Recovered_New\": 0.0}, {\"Week\": 24, \"Day\": \"Thursday\", \"Confirmed\": 130603.0, \"Deaths\": 6185.0, \"Recovered\": 0.0, \"Confirmed_New\": 766.0, \"Deaths_New\": 90.0, \"Recovered_New\": 0.0}, {\"Week\": 24, \"Day\": \"Tuesday\", \"Confirmed\": 129212.0, \"Deaths\": 6018.0, \"Recovered\": 0.0, \"Confirmed_New\": 797.0, \"Deaths_New\": 94.0, \"Recovered_New\": 0.0}, {\"Week\": 24, \"Day\": \"Wednesday\", \"Confirmed\": 129837.0, \"Deaths\": 6095.0, \"Recovered\": 0.0, \"Confirmed_New\": 625.0, \"Deaths_New\": 77.0, \"Recovered_New\": 0.0}, {\"Week\": 25, \"Day\": \"Friday\", \"Confirmed\": 135470.0, \"Deaths\": 6580.0, \"Recovered\": 0.0, \"Confirmed_New\": 692.0, \"Deaths_New\": 43.0, \"Recovered_New\": 0.0}, {\"Week\": 25, \"Day\": \"Monday\", \"Confirmed\": 133016.0, \"Deaths\": 6326.0, \"Recovered\": 0.0, \"Confirmed_New\": 473.0, \"Deaths_New\": 18.0, \"Recovered_New\": 0.0}, {\"Week\": 25, \"Day\": \"Saturday\", \"Confirmed\": 136104.0, \"Deaths\": 6625.0, \"Recovered\": 0.0, \"Confirmed_New\": 634.0, \"Deaths_New\": 45.0, \"Recovered_New\": 0.0}, {\"Week\": 25, \"Day\": \"Sunday\", \"Confirmed\": 136762.0, \"Deaths\": 6647.0, \"Recovered\": 0.0, \"Confirmed_New\": 658.0, \"Deaths_New\": 22.0, \"Recovered_New\": 0.0}, {\"Week\": 25, \"Day\": \"Thursday\", \"Confirmed\": 134778.0, \"Deaths\": 6537.0, \"Recovered\": 0.0, \"Confirmed_New\": 593.0, \"Deaths_New\": 52.0, \"Recovered_New\": 0.0}, {\"Week\": 25, \"Day\": \"Tuesday\", \"Confirmed\": 133639.0, \"Deaths\": 6398.0, \"Recovered\": 0.0, \"Confirmed_New\": 623.0, \"Deaths_New\": 72.0, \"Recovered_New\": 0.0}, {\"Week\": 25, \"Day\": \"Wednesday\", \"Confirmed\": 134185.0, \"Deaths\": 6485.0, \"Recovered\": 0.0, \"Confirmed_New\": 546.0, \"Deaths_New\": 87.0, \"Recovered_New\": 0.0}, {\"Week\": 26, \"Day\": \"Friday\", \"Confirmed\": 140291.0, \"Deaths\": 6847.0, \"Recovered\": 0.0, \"Confirmed_New\": 857.0, \"Deaths_New\": 37.0, \"Recovered_New\": 0.0}, {\"Week\": 26, \"Day\": \"Monday\", \"Confirmed\": 137224.0, \"Deaths\": 6671.0, \"Recovered\": 0.0, \"Confirmed_New\": 462.0, \"Deaths_New\": 24.0, \"Recovered_New\": 0.0}, {\"Week\": 26, \"Day\": \"Thursday\", \"Confirmed\": 139434.0, \"Deaths\": 6810.0, \"Recovered\": 0.0, \"Confirmed_New\": 894.0, \"Deaths_New\": 40.0, \"Recovered_New\": 0.0}, {\"Week\": 26, \"Day\": \"Tuesday\", \"Confirmed\": 137825.0, \"Deaths\": 6707.0, \"Recovered\": 0.0, \"Confirmed_New\": 601.0, \"Deaths_New\": 36.0, \"Recovered_New\": 0.0}, {\"Week\": 26, \"Day\": \"Wednesday\", \"Confirmed\": 138540.0, \"Deaths\": 6770.0, \"Recovered\": 0.0, \"Confirmed_New\": 715.0, \"Deaths_New\": 63.0, \"Recovered_New\": 0.0}]}}, {\"mode\": \"vega-lite\"});\n",
       "</script>"
      ],
      "text/plain": [
       "alt.LayerChart(...)"
      ]
     },
     "execution_count": 12,
     "metadata": {},
     "output_type": "execute_result"
    }
   ],
   "source": [
    "us = df[(df['Country'] == 'US') & (df['State'] == 'IL')]\n",
    "us.Date = pd.to_datetime(us.Date, format='%m-%d-%Y')\n",
    "us['Day'] = us.Date.dt.day_name()\n",
    "us['Week'] = us.Date.dt.week\n",
    "us['Area'] = us['County'] + ', ' + us['State']\n",
    "\n",
    "dow = us[us['Week']>9]\n",
    "dow = dow.groupby(['Week', 'Day'], as_index=False).sum()\n",
    "line=alt.Chart(dow).mark_line().encode(\n",
    "    alt.X('Week:N'),\n",
    "    alt.Y('Confirmed_New:Q'),\n",
    "    color=alt.Color('Day:N', sort=['Monday', 'Tuesday', 'Wednesday', 'Thursday', 'Friday', 'Saturday', 'Sunday']),\n",
    "    tooltip=['Day', 'Week']\n",
    ")\n",
    "point=line.mark_circle(size=60)\n",
    "(line+point).properties(\n",
    "    width=1200,\n",
    "    height=800\n",
    ").interactive()"
   ]
  },
  {
   "cell_type": "code",
   "execution_count": 7,
   "metadata": {},
   "outputs": [
    {
     "data": {
      "application/vnd.jupyter.widget-view+json": {
       "model_id": "fe1f156fd35f499e94abbacfa19db913",
       "version_major": 2,
       "version_minor": 0
      },
      "text/plain": [
       "interactive(children=(IntSlider(value=7, description='window', max=49, min=7, step=7), Dropdown(description='b…"
      ]
     },
     "metadata": {},
     "output_type": "display_data"
    }
   ],
   "source": [
    "from ipywidgets import interact\n",
    "from datetime import timedelta\n",
    "\n",
    "@interact(window=(7, 49, 7), by=['State', 'Area'])\n",
    "def chart(window=7, by='State'):\n",
    "    mow = us.groupby('Date', as_index=False).sum()[['Date', 'Confirmed_New']]\n",
    "    mow['Day'] = mow.Date.dt.day_name()\n",
    "    gd = us.groupby([by, 'Date'], as_index=False).sum()\n",
    "    \n",
    "    for date in mow.Date:\n",
    "        dl = gd[gd['Date'] == date].merge(gd[(gd['Date']<=date) & (gd['Date']>date+timedelta(days=-window))].groupby([by], as_index=False).max()[[by, 'Confirmed_New']], on=by)\n",
    "        states = dl[(dl.Confirmed_New_x == dl.Confirmed_New_y) & (dl.Confirmed_New_x != 0)][by].values\n",
    "        mow.loc[(mow['Date'] == date), 'Max'] = len(states)\n",
    "        mow.loc[(mow['Date'] == date), by] = str(states)\n",
    "\n",
    "    bars = alt.Chart(mow).mark_bar(color='purple').encode(\n",
    "        x='Date:T',\n",
    "        y='Max:Q',\n",
    "        tooltip=['Date', 'Max']\n",
    "    )\n",
    "    line = alt.Chart(mow).mark_line().encode(\n",
    "        x='Date:T',\n",
    "        y='Confirmed_New',\n",
    "        tooltip=['Date', 'Confirmed_New']\n",
    "    )\n",
    "    points=line.mark_circle(size=60).encode(color=alt.Color('Day:N', scale=alt.Scale(scheme='dark2')))\n",
    "    reg = points.transform_regression('Date', 'Confirmed_New', method='poly', order=10).mark_line(strokeDash=[6,8], color='grey')\n",
    "    nc = (line+points+reg)\n",
    "    return (bars+nc).resolve_scale(y='independent').properties(\n",
    "        width=1200,\n",
    "        height=800\n",
    "    ).interactive()"
   ]
  },
  {
   "cell_type": "code",
   "execution_count": 8,
   "metadata": {},
   "outputs": [
    {
     "data": {
      "application/vnd.jupyter.widget-view+json": {
       "model_id": "00a1452463e84283b5aa52e67c6592cc",
       "version_major": 2,
       "version_minor": 0
      },
      "text/plain": [
       "interactive(children=(IntSlider(value=7, description='window', max=49, min=7, step=7), Dropdown(description='v…"
      ]
     },
     "metadata": {},
     "output_type": "display_data"
    }
   ],
   "source": [
    "from scipy import stats\n",
    "\n",
    "np.seterr(all='ignore')\n",
    "@interact(window=(7, 49, 7), value=['Confirmed_New', 'Deaths_New'])\n",
    "def chart(window=7, value='Confirmed_New'):\n",
    "    mow = us.groupby('Date', as_index=False).sum()\n",
    "    mow = mow[(mow['Confirmed_New'] > 0) & (mow['Date']!='2020-02-28')]\n",
    "    for date in mow.Date:\n",
    "        dl = mow[(mow['Date']<=date) & (mow['Date']>date-timedelta(days=window))]\n",
    "        slope, intercept, r_value, p_value, std_err = stats.linregress(dl.Confirmed, dl[value])\n",
    "        mow.loc[(mow['Date'] == date), 'Slope'] = slope\n",
    "\n",
    "    bars = alt.Chart(mow).mark_bar(color='purple').encode(\n",
    "        x='Date:T',\n",
    "        y='Slope:Q',\n",
    "        tooltip=['Date', 'Slope']\n",
    "    )\n",
    "    line = alt.Chart(mow).mark_line().encode(\n",
    "        x='Date:T',\n",
    "        y=value,\n",
    "        tooltip=['Date', value]\n",
    "    )\n",
    "    points=line.mark_circle(size=60)\n",
    "    reg = points.transform_regression('Date', value, method='poly', order=10).mark_line(strokeDash=[6,8], color='grey')\n",
    "    nc = (line+points+reg)\n",
    "    return (bars+nc).resolve_scale(y='independent').properties(\n",
    "        width=1200,\n",
    "        height=800\n",
    "    ).interactive()"
   ]
  },
  {
   "cell_type": "code",
   "execution_count": null,
   "metadata": {},
   "outputs": [],
   "source": []
  }
 ],
 "metadata": {
  "kernelspec": {
   "display_name": "Python 3",
   "language": "python",
   "name": "python3"
  },
  "language_info": {
   "codemirror_mode": {
    "name": "ipython",
    "version": 3
   },
   "file_extension": ".py",
   "mimetype": "text/x-python",
   "name": "python",
   "nbconvert_exporter": "python",
   "pygments_lexer": "ipython3",
   "version": "3.7.6"
  }
 },
 "nbformat": 4,
 "nbformat_minor": 4
}
