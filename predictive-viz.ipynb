{
 "cells": [
  {
   "cell_type": "code",
   "execution_count": 1,
   "metadata": {},
   "outputs": [
    {
     "name": "stderr",
     "output_type": "stream",
     "text": [
      "/Users/ratreya/anaconda3/lib/python3.8/site-packages/IPython/core/interactiveshell.py:3071: DtypeWarning: Columns (2) have mixed types.Specify dtype option on import or set low_memory=False.\n",
      "  has_raised = await self.run_ast_nodes(code_ast.body, cell_name,\n"
     ]
    }
   ],
   "source": [
    "import pandas as pd\n",
    "import numpy as np\n",
    "import altair as alt\n",
    "\n",
    "# Set up some global config and variables\n",
    "alt.renderers.enable('default')\n",
    "pd.options.mode.chained_assignment = None\n",
    "\n",
    "# Read the raw data\n",
    "df = pd.read_csv('jhu-daily-reports.csv')\n",
    "samples = df[['Date', 'Country']].groupby('Date').Country.nunique()\n",
    "days = samples[samples > 1].index.tolist()\n",
    "df = df[df['Date'].isin(days)]"
   ]
  },
  {
   "cell_type": "code",
   "execution_count": 2,
   "metadata": {},
   "outputs": [
    {
     "data": {
      "application/vnd.jupyter.widget-view+json": {
       "model_id": "d074f2af59fa4524943415392cdefca9",
       "version_major": 2,
       "version_minor": 0
      },
      "text/plain": [
       "interactive(children=(Dropdown(description='state', index=57, options=('AK', 'AL', 'AR', 'AS', 'AZ', 'CA', 'CO…"
      ]
     },
     "metadata": {},
     "output_type": "display_data"
    }
   ],
   "source": [
    "from ipywidgets import interact\n",
    "\n",
    "states = df[df.Country=='US'].State.unique().tolist()\n",
    "states = [s for s in states if len(s) == 2] + ['none']\n",
    "@interact(state=states)\n",
    "def chart(state='none'):\n",
    "    us = df[(df['Country'] == 'US')] if state == 'none' else df[(df['Country'] == 'US') & (df['State'] == state)]\n",
    "    us = us.drop(us[us['Date'] == '08-31-2020'].index)\n",
    "    us.Date = pd.to_datetime(us.Date, format='%m-%d-%Y')\n",
    "    us['Day'] = us.Date.dt.day_name()\n",
    "    us['Week'] = us.Date.dt.week\n",
    "    us['Area'] = us['County'] + ', ' + us['State']\n",
    "\n",
    "    selection = alt.selection_multi(fields=['Day'], bind='legend')\n",
    "    dow = us[us['Week']>9]\n",
    "    dow = dow.groupby(['Week', 'Day'], as_index=False).sum()\n",
    "    line=alt.Chart(dow).mark_line().encode(\n",
    "        alt.X('Week:N'),\n",
    "        alt.Y('Confirmed_New:Q', axis=alt.Axis(title='Daily New Cases')),\n",
    "        color=alt.Color('Day:N', sort=['Monday', 'Tuesday', 'Wednesday', 'Thursday', 'Friday', 'Saturday', 'Sunday']),\n",
    "        tooltip=['Day', 'Week', 'Confirmed_New'],\n",
    "        opacity=alt.condition(selection, alt.value(1), alt.value(0.3))\n",
    "    )\n",
    "    point=line.mark_circle(size=60)\n",
    "    return (line+point).properties(\n",
    "        width=1200,\n",
    "        height=800\n",
    "    ).add_selection(selection).interactive()#.properties(width=608, height=380).save('./output/us-week-over-week.png', scale_factor=2.0)"
   ]
  },
  {
   "cell_type": "code",
   "execution_count": 3,
   "metadata": {},
   "outputs": [
    {
     "data": {
      "application/vnd.jupyter.widget-view+json": {
       "model_id": "dfba59995904452a862bff6a1bdfbb81",
       "version_major": 2,
       "version_minor": 0
      },
      "text/plain": [
       "interactive(children=(IntSlider(value=7, description='window', max=49, min=7, step=7), Dropdown(description='b…"
      ]
     },
     "metadata": {},
     "output_type": "display_data"
    }
   ],
   "source": [
    "from ipywidgets import interact\n",
    "from datetime import timedelta\n",
    "\n",
    "us = df[(df['Country'] == 'US')]\n",
    "us.Date = pd.to_datetime(us.Date, format='%m-%d-%Y')\n",
    "us['Day'] = us.Date.dt.day_name()\n",
    "us['Week'] = us.Date.dt.week\n",
    "us['Area'] = us['County'] + ', ' + us['State']\n",
    "\n",
    "@interact(window=(7, 49, 7), by=['State', 'Area'])\n",
    "def chart(window=7, by='State'):\n",
    "    mow = us.groupby('Date', as_index=False).sum()[['Date', 'Confirmed_New']]\n",
    "    mow['Day'] = mow.Date.dt.day_name()\n",
    "    gd = us.groupby([by, 'Date'], as_index=False).sum()\n",
    "    \n",
    "    for date in mow.Date:\n",
    "        dl = gd[gd['Date'] == date].merge(gd[(gd['Date']<=date) & (gd['Date']>date+timedelta(days=-window))].groupby([by], as_index=False).max()[[by, 'Confirmed_New']], on=by)\n",
    "        states = dl[(dl.Confirmed_New_x == dl.Confirmed_New_y) & (dl.Confirmed_New_x != 0)][by].values\n",
    "        mow.loc[(mow['Date'] == date), 'Max'] = len(states)\n",
    "        mow.loc[(mow['Date'] == date), by] = str(states)\n",
    "\n",
    "    bars = alt.Chart(mow).mark_bar().encode(\n",
    "        x='Date:T',\n",
    "        y='Max:Q',\n",
    "        color=alt.Color('Day:N'),\n",
    "        tooltip=['Date', 'Max', 'Day']\n",
    "    )\n",
    "    line = alt.Chart(mow).mark_line().encode(\n",
    "        x='Date:T',\n",
    "        y='Confirmed_New',\n",
    "        tooltip=['Date', 'Confirmed_New']\n",
    "    )\n",
    "    points=line.mark_circle(size=60).encode(color=alt.Color('Day:N', scale=alt.Scale(scheme='dark2')))\n",
    "    reg = points.transform_regression('Date', 'Confirmed_New', method='poly', order=10).mark_line(strokeDash=[6,8], color='grey')\n",
    "    nc = (line+points+reg)\n",
    "    return (bars+nc).resolve_scale(y='independent').properties(\n",
    "        width=1200,\n",
    "        height=800\n",
    "    ).interactive()"
   ]
  },
  {
   "cell_type": "code",
   "execution_count": 4,
   "metadata": {},
   "outputs": [
    {
     "data": {
      "application/vnd.jupyter.widget-view+json": {
       "model_id": "2c6c5d69e5e6438a9ea5d474ba031417",
       "version_major": 2,
       "version_minor": 0
      },
      "text/plain": [
       "interactive(children=(IntSlider(value=7, description='window', max=49, min=7, step=7), Dropdown(description='v…"
      ]
     },
     "metadata": {},
     "output_type": "display_data"
    }
   ],
   "source": [
    "from scipy import stats\n",
    "\n",
    "np.seterr(all='ignore')\n",
    "@interact(window=(7, 49, 7), value=['Confirmed_New', 'Deaths_New'])\n",
    "def chart(window=7, value='Confirmed_New'):\n",
    "    mow = us.groupby('Date', as_index=False).sum()\n",
    "    mow = mow[(mow['Confirmed_New'] > 0) & (mow['Date']!='2020-02-28')]\n",
    "    for date in mow.Date:\n",
    "        dl = mow[(mow['Date']<=date) & (mow['Date']>date-timedelta(days=window))]\n",
    "        slope, intercept, r_value, p_value, std_err = stats.linregress(dl.Confirmed, dl[value])\n",
    "        mow.loc[(mow['Date'] == date), 'Slope'] = slope\n",
    "\n",
    "    bars = alt.Chart(mow).mark_bar(color='purple').encode(\n",
    "        x='Date:T',\n",
    "        y='Slope:Q',\n",
    "        tooltip=['Date', 'Slope']\n",
    "    )\n",
    "    line = alt.Chart(mow).mark_line().encode(\n",
    "        x='Date:T',\n",
    "        y=value,\n",
    "        tooltip=['Date', value]\n",
    "    )\n",
    "    points=line.mark_circle(size=60)\n",
    "    reg = points.transform_regression('Date', value, method='poly', order=10).mark_line(strokeDash=[6,8], color='grey')\n",
    "    nc = (line+points+reg)\n",
    "    return (bars+nc).resolve_scale(y='independent').properties(\n",
    "        width=1200,\n",
    "        height=800\n",
    "    ).interactive()"
   ]
  },
  {
   "cell_type": "code",
   "execution_count": null,
   "metadata": {},
   "outputs": [],
   "source": []
  }
 ],
 "metadata": {
  "kernelspec": {
   "display_name": "Python 3",
   "language": "python",
   "name": "python3"
  },
  "language_info": {
   "codemirror_mode": {
    "name": "ipython",
    "version": 3
   },
   "file_extension": ".py",
   "mimetype": "text/x-python",
   "name": "python",
   "nbconvert_exporter": "python",
   "pygments_lexer": "ipython3",
   "version": "3.8.3"
  }
 },
 "nbformat": 4,
 "nbformat_minor": 4
}
