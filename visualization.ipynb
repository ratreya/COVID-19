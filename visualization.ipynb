{
 "cells": [
  {
   "cell_type": "code",
   "execution_count": 9,
   "metadata": {},
   "outputs": [],
   "source": [
    "# Load the latest summary data\n",
    "\n",
    "import pandas as pd\n",
    "import numpy as np\n",
    "import altair as alt\n",
    "from typing import List\n",
    "\n",
    "# Read the raw data\n",
    "url = 'https://raw.githubusercontent.com/ratreya/jupyter-notebooks/master/jhu-daily-reports.csv'\n",
    "df = pd.read_csv('jhu-daily-reports.csv')\n",
    "days = sorted(df['Date'].unique())\n",
    "df['Active']  = df.Confirmed - (df.Deaths + df.Recovered)\n",
    "\n",
    "# Set up some global config and variables\n",
    "alt.renderers.enable('default')\n",
    "\n",
    "def align(data):\n",
    "    # Find the index with the lowest non-zero starting case number\n",
    "    base = min(((idx, val) for (idx, val) in enumerate(data) if val[0] > 0), key = lambda x: x[1][0])[0]\n",
    "\n",
    "    # Align everyone else to this base\n",
    "    for i in [x for x in range(len(data)) if x != base]:\n",
    "        padding = min(((x[0], abs(x[1] - data[i][0])) for x in enumerate(data[base])), key = lambda x: x[1])[0]\n",
    "        data[i] = [0 for i in range(padding)] + data[i]\n",
    "    return data\n",
    "\n",
    "def streamgraph(df, by, value, sort, limit, stack='center'):\n",
    "    df.loc[df[value]<0, value] = 0\n",
    "    order = df[df['Date'] == days[-1]].sort_values(sort, ascending=False)\n",
    "    top = order[by].values.tolist()\n",
    "    data = df[df[by].isin(top[:limit])]\n",
    "    others = df[df[by].isin(top[limit:])].groupby('Date', as_index=False).sum()\n",
    "    others.insert(0, by, 'Others')\n",
    "    data = data.append(others, ignore_index=True)\n",
    "    selection = alt.selection_multi(fields=[by], bind='legend')\n",
    "\n",
    "    return alt.Chart(data).mark_area().encode(\n",
    "        alt.X('Date:T', axis=alt.Axis(domain=False, format='%d %b', tickSize=0)),\n",
    "        alt.Y(value + ':Q', stack=stack, axis=alt.Axis(title=' '.join(value.split('_'))) if stack=='zero' else None),\n",
    "        alt.Color(by + ':N', scale=alt.Scale(scheme='tableau20'), sort=top[:limit]),\n",
    "        order=alt.Order('sort:Q'),\n",
    "        tooltip=alt.Tooltip(['Date:T', by, value]),\n",
    "        opacity=alt.condition(selection, alt.value(1), alt.value(0.2))\n",
    "    ).transform_lookup(\n",
    "        lookup=by,\n",
    "        from_=alt.LookupData(order, by, [sort]),\n",
    "        as_=['sort']\n",
    "    ).properties(\n",
    "        width=1200,\n",
    "        height=800\n",
    "    ).add_selection(selection)\n",
    "\n",
    "def nontimegraph(df, by, value, sort, limit, highlight='', addon=[]):\n",
    "    top = df[df['Date'] == days[-1]].sort_values(sort, ascending=False)[by].values.tolist()[:limit] + addon\n",
    "    data = df[(df[value] > 1) & (df['Confirmed'] > 100) & (df[by].isin(top))]\n",
    "    selection = alt.selection_multi(fields=[by], bind='legend', init=[{by: highlight}], empty='none', nearest=True)\n",
    "\n",
    "    line = alt.Chart(data).mark_line().encode(\n",
    "        alt.X('Confirmed:Q', scale=alt.Scale(type='log'), axis=alt.Axis(title='Cumulative Cases')),\n",
    "        alt.Y(value + ':Q', scale=alt.Scale(type='log'), axis=alt.Axis(title=' '.join(value.split('_')))),\n",
    "        color=alt.condition(selection, alt.value('black'), alt.Color(by+':N', scale=alt.Scale(scheme='category10' if highlight == '' else 'set2'))),\n",
    "        size=alt.condition(selection, alt.value(3), alt.value(1)),\n",
    "        tooltip=alt.Tooltip(['Date:T', by, value])\n",
    "    )\n",
    "    point = alt.Chart(data[data['Date'] == days[-1]]).mark_circle(size=60).encode(\n",
    "        alt.X('Confirmed:Q', scale=alt.Scale(type='log')),\n",
    "        alt.Y(value + ':Q', scale=alt.Scale(type='log')),\n",
    "        color=alt.condition(selection, alt.value('black'), alt.Color(by+':N')),\n",
    "        size=alt.condition(selection, alt.value(100), alt.value(60)),\n",
    "    )\n",
    "    text = point.mark_text(\n",
    "        align='left',\n",
    "        dx=5,  # Nudges text to right so it doesn't appear on top of the bar\n",
    "    ).encode(\n",
    "        text=by+':N',\n",
    "        size=alt.condition(selection, alt.value(15), alt.value(10)),\n",
    "        color=alt.condition(selection, alt.value('black'), alt.Color(by+':N'))\n",
    "    )\n",
    "\n",
    "    return (line+point+text).properties(\n",
    "        width=1200, \n",
    "        height=800\n",
    "    ).add_selection(selection)\n"
   ]
  },
  {
   "cell_type": "markdown",
   "metadata": {},
   "source": [
    "# Global Data Visualizations"
   ]
  },
  {
   "cell_type": "code",
   "execution_count": 10,
   "metadata": {},
   "outputs": [
    {
     "data": {
      "application/vnd.jupyter.widget-view+json": {
       "model_id": "80c061cc5e964d119e61366c5d2d2487",
       "version_major": 2,
       "version_minor": 0
      },
      "text/plain": [
       "interactive(children=(Dropdown(description='value', index=3, options=('Confirmed', 'Deaths', 'Recovered', 'Con…"
      ]
     },
     "metadata": {},
     "output_type": "display_data"
    }
   ],
   "source": [
    "from ipywidgets import interact\n",
    "\n",
    "# Aggregate at country level\n",
    "country_level = df.groupby(['Country', 'Date'], as_index=False).sum()\n",
    "\n",
    "# Drop 03-22-2020 since county breakdown started from here and so there is break in continuity\n",
    "country_level = country_level.drop(country_level[country_level['Date'] == '03-22-2020'].index)\n",
    "country_level = country_level.drop(country_level[country_level['Date'] == '03-12-2020'].index)\n",
    "country_level = country_level.drop(country_level[country_level['Date'] == '02-12-2020'].index)\n",
    "\n",
    "@interact(value=['Confirmed', 'Deaths', 'Recovered', 'Confirmed_New', 'Deaths_New', 'Recovered_New'], sort=['Active', 'Confirmed', 'Deaths', 'Recovered', 'Confirmed_New', 'Deaths_New', 'Recovered_New'], limit=(1,50,1))\n",
    "def chart(value='Confirmed_New', sort='Active', limit=10):\n",
    "    return streamgraph(country_level, 'Country', value, sort, limit).interactive()"
   ]
  },
  {
   "cell_type": "code",
   "execution_count": 11,
   "metadata": {},
   "outputs": [
    {
     "data": {
      "application/vnd.jupyter.widget-view+json": {
       "model_id": "e9da918cbc354ad1a3734f92e12394ad",
       "version_major": 2,
       "version_minor": 0
      },
      "text/plain": [
       "interactive(children=(Dropdown(description='value', options=('Confirmed_New', 'Deaths_New', 'Recovered_New'), …"
      ]
     },
     "metadata": {},
     "output_type": "display_data"
    }
   ],
   "source": [
    "countries = country_level[country_level['Confirmed'] > 1000]['Country'].unique().tolist()\n",
    "\n",
    "@interact(value=['Confirmed_New', 'Deaths_New', 'Recovered_New'], sort=['Active', 'Confirmed', 'Deaths', 'Recovered', 'Confirmed_New', 'Deaths_New', 'Recovered_New'], limit=(1,50,1), add=countries)\n",
    "def chart(value, sort, limit=10, add='India'):\n",
    "    return nontimegraph(country_level, 'Country', value, sort, limit, highlight=add, addon=['South Korea']+[add]).interactive()"
   ]
  },
  {
   "cell_type": "markdown",
   "metadata": {},
   "source": [
    "# State Level Visualizations"
   ]
  },
  {
   "cell_type": "code",
   "execution_count": 12,
   "metadata": {},
   "outputs": [
    {
     "data": {
      "application/vnd.jupyter.widget-view+json": {
       "model_id": "fdcb772ba9e844a6847a9986c8f65256",
       "version_major": 2,
       "version_minor": 0
      },
      "text/plain": [
       "interactive(children=(Dropdown(description='country', index=6, options=('Australia', 'Canada', 'China', 'Denma…"
      ]
     },
     "metadata": {},
     "output_type": "display_data"
    }
   ],
   "source": [
    "countries = df[(df['State'].notnull()) & (df['Confirmed'] > 1000)]['Country'].unique()\n",
    "\n",
    "def state_data(country):\n",
    "    state_level = df[df['Country'] == country].groupby(['State', 'Date'], as_index=False).sum()\n",
    "    if country == 'US':\n",
    "        # Drop 03-22-2020 since county breakdown started from here and so there is break in continuity\n",
    "        state_level = state_level.drop(state_level[state_level['Date'] == '03-22-2020'].index)\n",
    "        state_level = state_level.drop(state_level[state_level['Date'] == '03-18-2020'].index)\n",
    "        state_level = state_level[state_level['Date'] >= '03-01-2020']\n",
    "    return state_level\n",
    "\n",
    "\n",
    "@interact(country=countries, value=['Confirmed', 'Deaths', 'Recovered', 'Confirmed_New', 'Deaths_New', 'Recovered_New'], sort=['Active', 'Confirmed', 'Deaths', 'Recovered', 'Confirmed_New', 'Deaths_New', 'Recovered_New'], limit=(1,50,1))\n",
    "def chart(country='US', value='Confirmed_New', sort='Active', limit=10):\n",
    "    return streamgraph(state_data(country), 'State', value, sort, limit).interactive()"
   ]
  },
  {
   "cell_type": "code",
   "execution_count": 13,
   "metadata": {},
   "outputs": [
    {
     "data": {
      "application/vnd.jupyter.widget-view+json": {
       "model_id": "518c4f55451848b6bc337088da8d8f4c",
       "version_major": 2,
       "version_minor": 0
      },
      "text/plain": [
       "interactive(children=(Dropdown(description='country', index=6, options=('Australia', 'Canada', 'China', 'Denma…"
      ]
     },
     "metadata": {},
     "output_type": "display_data"
    }
   ],
   "source": [
    "@interact(country=countries, value=['Confirmed_New', 'Deaths_New', 'Recovered_New'], sort=['Active', 'Confirmed', 'Deaths', 'Recovered', 'Confirmed_New', 'Deaths_New', 'Recovered_New'], limit=(1,50,1))\n",
    "def chart(country='US', value='Confirmed_New', sort='Active', limit=10):\n",
    "    return nontimegraph(state_data(country), 'State', value, sort, limit).interactive()"
   ]
  },
  {
   "cell_type": "markdown",
   "metadata": {},
   "source": [
    "# US County Level Visualizations"
   ]
  },
  {
   "cell_type": "code",
   "execution_count": 14,
   "metadata": {},
   "outputs": [
    {
     "data": {
      "application/vnd.jupyter.widget-view+json": {
       "model_id": "da56ace9f35b433f9bcc14f029d457b3",
       "version_major": 2,
       "version_minor": 0
      },
      "text/plain": [
       "interactive(children=(Dropdown(description='state', index=2, options=('AL', 'AZ', 'CA', 'CO', 'CT', 'DC', 'FL'…"
      ]
     },
     "metadata": {},
     "output_type": "display_data"
    }
   ],
   "source": [
    "us_state_level = state_data('US')\n",
    "\n",
    "states=us_state_level[us_state_level['Confirmed'] > 1000]['State'].unique()\n",
    "@interact(value=['Confirmed', 'Deaths', 'Recovered', 'Confirmed_New', 'Deaths_New', 'Recovered_New'], sort=['Active', 'Confirmed', 'Deaths', 'Recovered', 'Confirmed_New', 'Deaths_New', 'Recovered_New'], limit=(1,50,1), state=states)\n",
    "def chart(state='CA', value='Confirmed_New', sort='Active', limit=10):\n",
    "    county_level = df[df['State'] == state].fillna({'County': state}).groupby(['County', 'Date'], as_index=False).sum()\n",
    "    return streamgraph(county_level, 'County', value, sort, limit, 'zero').interactive()"
   ]
  },
  {
   "cell_type": "code",
   "execution_count": 15,
   "metadata": {},
   "outputs": [
    {
     "data": {
      "application/vnd.jupyter.widget-view+json": {
       "model_id": "41543ab7a8ff48e3a81ab38a8439d7bd",
       "version_major": 2,
       "version_minor": 0
      },
      "text/plain": [
       "interactive(children=(Dropdown(description='state', index=2, options=('AL', 'AZ', 'CA', 'CO', 'CT', 'DC', 'FL'…"
      ]
     },
     "metadata": {},
     "output_type": "display_data"
    }
   ],
   "source": [
    "states=us_state_level[us_state_level['Confirmed'] > 1000]['State'].unique()\n",
    "\n",
    "@interact(value=['Confirmed_New', 'Deaths_New', 'Recovered_New'], sort=['Active', 'Confirmed', 'Deaths', 'Recovered', 'Confirmed_New', 'Deaths_New', 'Recovered_New'], limit=(1,50,1), state=states)\n",
    "def chart(state='CA', value='Confirmed_New', sort='Confirmed', limit=10):\n",
    "    county_level = df[df['State'] == state].fillna({'County': state}).groupby(['County', 'Date'], as_index=False).sum()\n",
    "    return nontimegraph(county_level, 'County', value, sort, limit).interactive()"
   ]
  },
  {
   "cell_type": "code",
   "execution_count": 16,
   "metadata": {},
   "outputs": [
    {
     "data": {
      "application/vnd.jupyter.widget-view+json": {
       "model_id": "0a512ffef81d4c388485f321a0b67731",
       "version_major": 2,
       "version_minor": 0
      },
      "text/plain": [
       "interactive(children=(Dropdown(description='value', options=('Confirmed_New', 'Deaths_New', 'Recovered_New'), …"
      ]
     },
     "metadata": {},
     "output_type": "display_data"
    }
   ],
   "source": [
    "df['Area'] = df.County + ', ' + df.State\n",
    "county_level = df.groupby(['Area', 'Date'], as_index=False).sum()\n",
    "\n",
    "@interact(value=['Confirmed_New', 'Deaths_New', 'Recovered_New'], sort=['Active', 'Confirmed', 'Deaths', 'Recovered', 'Confirmed_New', 'Deaths_New', 'Recovered_New'], limit=(1,50,1), state = us_state_level['State'].unique())\n",
    "def chart(value='Confirmed_New', sort='Confirmed', limit=10):\n",
    "    return nontimegraph(county_level, 'Area', value, sort, limit).interactive()"
   ]
  },
  {
   "cell_type": "code",
   "execution_count": null,
   "metadata": {},
   "outputs": [],
   "source": []
  }
 ],
 "metadata": {
  "kernelspec": {
   "display_name": "Python 3",
   "language": "python",
   "name": "python3"
  },
  "language_info": {
   "codemirror_mode": {
    "name": "ipython",
    "version": 3
   },
   "file_extension": ".py",
   "mimetype": "text/x-python",
   "name": "python",
   "nbconvert_exporter": "python",
   "pygments_lexer": "ipython3",
   "version": "3.7.6"
  }
 },
 "nbformat": 4,
 "nbformat_minor": 4
}
