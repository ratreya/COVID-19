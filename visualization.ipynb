{
 "cells": [
  {
   "cell_type": "code",
   "execution_count": 53,
   "metadata": {},
   "outputs": [],
   "source": [
    "import pandas as pd\n",
    "import numpy as np\n",
    "import altair as alt\n",
    "\n",
    "# Set up some global config and variables\n",
    "alt.renderers.enable('default')\n",
    "pd.options.mode.chained_assignment = None\n",
    "\n",
    "def align(data):\n",
    "    # Find the index with the lowest non-zero starting case number\n",
    "    base = min(((idx, val) for (idx, val) in enumerate(data) if val[0] > 0), key = lambda x: x[1][0])[0]\n",
    "\n",
    "    # Align everyone else to this base\n",
    "    for i in [x for x in range(len(data)) if x != base]:\n",
    "        padding = min(((x[0], abs(x[1] - data[i][0])) for x in enumerate(data[base])), key = lambda x: x[1])[0]\n",
    "        data[i] = [0 for i in range(padding)] + data[i]\n",
    "    return data\n",
    "\n",
    "# Takes a list of numbers and returns a list with number of rows to double\n",
    "def doubling(data):\n",
    "    doubling = []\n",
    "    for i in reversed(range(len(data))):\n",
    "        index = -1\n",
    "        for j in reversed(range(i)):\n",
    "            if data[i] >= data[j]*2:\n",
    "                index = j\n",
    "                break\n",
    "        doubling.append(i - index if index > 0 else np.nan)\n",
    "    return list(reversed(doubling))\n",
    "\n",
    "def streamgraph(df, by, value, sort, limit, stack='center'):\n",
    "    zeros = df.groupby('Date', as_index=False).sum()\n",
    "    zeros = zeros[zeros[value] <= 10].Date\n",
    "    df = df[~df['Date'].isin(zeros)]\n",
    "    \n",
    "    df.loc[df[value]<0, value] = 0\n",
    "    order = df[df['Date'] == days[-1]].sort_values(sort, ascending=False)\n",
    "    top = order[by].values.tolist()\n",
    "    data = df[df[by].isin(top[:limit])]\n",
    "    others = df[df[by].isin(top[limit:])].groupby('Date', as_index=False).sum()\n",
    "    others.insert(0, by, 'Others')\n",
    "    data = data.append(others, ignore_index=True)\n",
    "    selection = alt.selection_multi(fields=[by], bind='legend')\n",
    "\n",
    "    return alt.Chart(data).mark_area().encode(\n",
    "        alt.X('Date:T', axis=alt.Axis(domain=False, format='%d %b', tickSize=0)),\n",
    "        alt.Y(value + ':Q', stack=stack, axis=alt.Axis(title=' '.join(value.split('_'))) if stack=='zero' else None),\n",
    "        alt.Color(by + ':N', scale=alt.Scale(scheme='tableau20'), sort=top[:limit]),\n",
    "        order=alt.Order('sort:Q'),\n",
    "        tooltip=alt.Tooltip(['Date:T', by, value]),\n",
    "        opacity=alt.condition(selection, alt.value(1), alt.value(0.3))\n",
    "    ).transform_lookup(\n",
    "        lookup=by,\n",
    "        from_=alt.LookupData(order, by, [sort]),\n",
    "        as_=['sort']\n",
    "    ).properties(\n",
    "        width=1200,\n",
    "        height=800\n",
    "    ).add_selection(selection)\n",
    "\n",
    "def nontimegraph(df, by, value, sort, limit, highlight='', addon=[], xlog=True, ylog=True, rect=None):\n",
    "    top = df[df['Date'] == days[-1]].sort_values(sort, ascending=False)[by].values.tolist()[:limit] + addon\n",
    "    data = df[(df[value] > 1) & (df['Confirmed'] > 100) & (df[by].isin(top))]\n",
    "    #data.loc[:,value] = data[value].rolling(window=3, win_type='gaussian').mean(std=3)\n",
    "    selection = alt.selection_multi(fields=[by], bind='legend', init=[{by: highlight}], empty='none', nearest=True)\n",
    "\n",
    "    # Background\n",
    "    line = alt.Chart(data).mark_line().encode(\n",
    "        alt.X('Confirmed:Q', scale=alt.Scale(type='log' if xlog else 'linear'), axis=alt.Axis(title='Cumulative Cases')),\n",
    "        alt.Y(value + ':Q', scale=alt.Scale(type='log' if ylog else 'linear'), axis=alt.Axis(title=' '.join(value.split('_')))),\n",
    "        color=alt.Color(by+':N', scale=alt.Scale(scheme='category10' if highlight == '' else 'set2')),\n",
    "        size=alt.value(1),\n",
    "        tooltip=alt.Tooltip(['Date:N', by, value])\n",
    "    ).transform_filter(~selection)\n",
    "    point = line.mark_circle().encode(\n",
    "        alt.X('Confirmed:Q', scale=alt.Scale(type='log' if xlog else 'linear')),\n",
    "        alt.Y(value + ':Q', scale=alt.Scale(type='log' if ylog else 'linear')),\n",
    "        color=alt.Color(by+':N'),\n",
    "        size=alt.value(60)\n",
    "    ).transform_filter(\n",
    "        alt.datum.Date == days[-1]\n",
    "    ).transform_filter(~selection)\n",
    "    text = point.mark_text(\n",
    "        align='left',\n",
    "        dx=7,  # Nudges text to right so it doesn't appear on top of the bar\n",
    "    ).encode(\n",
    "        text=by+':N',\n",
    "        size=alt.value(10),\n",
    "        color=alt.Color(by+':N')\n",
    "    ).transform_filter(~selection)\n",
    "    background = line+point+text\n",
    "\n",
    "    # Foreground\n",
    "    line = alt.Chart(data).mark_line().encode(\n",
    "        alt.X('Confirmed:Q', scale=alt.Scale(type='log' if xlog else 'linear'), axis=alt.Axis(title='Cumulative Cases')),\n",
    "        alt.Y(value + ':Q', scale=alt.Scale(type='log' if ylog else 'linear'), axis=alt.Axis(title=' '.join(value.split('_')))),\n",
    "        color=alt.value('black'),\n",
    "        size=alt.value(3),\n",
    "        tooltip=alt.Tooltip(['Date:N', by, value])\n",
    "    ).transform_filter(selection)\n",
    "    point = line.mark_circle().encode(\n",
    "        alt.X('Confirmed:Q', scale=alt.Scale(type='log' if xlog else 'linear')),\n",
    "        alt.Y(value + ':Q', scale=alt.Scale(type='log' if ylog else 'linear')),\n",
    "        color=alt.value('black'),\n",
    "        size=alt.value(100)\n",
    "    ).transform_filter(\n",
    "        alt.datum.Date == days[-1]\n",
    "    ).transform_filter(selection)\n",
    "    text = point.mark_text(\n",
    "        align='left',\n",
    "        dx=7,  # Nudges text to right so it doesn't appear on top of the bar\n",
    "    ).encode(\n",
    "        text=by+':N',\n",
    "        size=alt.value(15),\n",
    "        color=alt.value('black')\n",
    "    ).transform_filter(selection)\n",
    "    foreground = line+point+text\n",
    "\n",
    "    start = df[(df[by] == highlight) & (df['Date'] == rect[0])] if rect is not None else pd.DataFrame()\n",
    "    end = df[(df[by] == highlight) & (df['Date'] == rect[1])] if rect is not None else pd.DataFrame()\n",
    "    if not start.empty and not end.empty:\n",
    "        marks = pd.DataFrame([{\"start_x\": start.Confirmed.values[0], \"end_x\": end.Confirmed.values[0], \"start_y\": start[value].values[0], \"end_y\": end[value].values[0]}])\n",
    "        rule_rect = alt.Chart(marks).mark_rect(opacity=0.3).encode(x='start_x:Q', x2='end_x:Q')\n",
    "        rule_point_1 = rule_rect.mark_circle().encode(\n",
    "            alt.X('start_x:Q', scale=alt.Scale(type='log' if xlog else 'linear')),\n",
    "            alt.Y('start_y:Q', scale=alt.Scale(type='log' if ylog else 'linear')),\n",
    "            color=alt.value('grey'),\n",
    "            size=alt.value(60)\n",
    "        )\n",
    "        rule_point_2 = rule_rect.mark_circle().encode(\n",
    "            alt.X('end_x:Q', scale=alt.Scale(type='log' if xlog else 'linear')),\n",
    "            alt.Y('end_y:Q', scale=alt.Scale(type='log' if ylog else 'linear')),\n",
    "            color=alt.value('grey'),\n",
    "            size=alt.value(60)\n",
    "        )\n",
    "        rule_text_1 = rule_point_1.mark_text(\n",
    "            align='left',\n",
    "            angle=90,\n",
    "            dx=10\n",
    "        ).encode(\n",
    "            text=alt.value(rect[0]),\n",
    "            size=alt.value(15),\n",
    "            color=alt.value('black')\n",
    "        )\n",
    "        rule_text_2 = rule_point_2.mark_text(\n",
    "            align='left',\n",
    "            angle=90,\n",
    "            dx=10\n",
    "        ).encode(\n",
    "            text=alt.value(rect[1]),\n",
    "            size=alt.value(15),\n",
    "            color=alt.value('black')\n",
    "        )\n",
    "        return (background+foreground+rule_rect+rule_point_1+rule_point_2+rule_text_1+rule_text_2).properties(\n",
    "            width=1200,\n",
    "            height=800\n",
    "        ).add_selection(selection)\n",
    "    else:\n",
    "        return (background+foreground).properties(\n",
    "            width=1200, \n",
    "            height=800\n",
    "        ).add_selection(selection)        "
   ]
  },
  {
   "cell_type": "code",
   "execution_count": 54,
   "metadata": {},
   "outputs": [],
   "source": [
    "# Read the raw data\n",
    "df = pd.read_csv('jhu-daily-reports.csv')\n",
    "df['Active']  = df.Confirmed - (df.Deaths + df.Recovered)\n",
    "samples = df[['Date', 'Country']].groupby('Date').Country.nunique()\n",
    "days = samples[samples > 1].index.tolist()\n",
    "df = df[df['Date'].isin(days)]"
   ]
  },
  {
   "cell_type": "markdown",
   "metadata": {},
   "source": [
    "# Global Data Visualizations"
   ]
  },
  {
   "cell_type": "code",
   "execution_count": 55,
   "metadata": {},
   "outputs": [
    {
     "data": {
      "application/vnd.jupyter.widget-view+json": {
       "model_id": "403c1c15e9db4e109be09842b9a86317",
       "version_major": 2,
       "version_minor": 0
      },
      "text/plain": [
       "interactive(children=(Dropdown(description='value', index=4, options=('Active', 'Confirmed', 'Deaths', 'Recove…"
      ]
     },
     "metadata": {},
     "output_type": "display_data"
    }
   ],
   "source": [
    "from ipywidgets import interact\n",
    "\n",
    "# Aggregate at country level\n",
    "country_level = df.groupby(['Country', 'Date'], as_index=False).sum()\n",
    "\n",
    "# Drop 03-22-2020 since county breakdown started from here and so there is break in continuity\n",
    "country_level = country_level.drop(country_level[country_level['Date'] == '03-22-2020'].index)\n",
    "country_level = country_level.drop(country_level[country_level['Date'] == '03-12-2020'].index)\n",
    "country_level = country_level.drop(country_level[country_level['Date'] == '02-12-2020'].index)\n",
    "\n",
    "@interact(value=['Active', 'Confirmed', 'Deaths', 'Recovered', 'Confirmed_New', 'Deaths_New', 'Recovered_New'], sort=['Active', 'Confirmed', 'Deaths', 'Recovered', 'Confirmed_New', 'Deaths_New', 'Recovered_New'], limit=(0,50,1))\n",
    "def chart(value='Confirmed_New', sort='Active', limit=10, zero=True):\n",
    "    return streamgraph(country_level, 'Country', value, sort, limit, 'zero' if zero else 'center').interactive()"
   ]
  },
  {
   "cell_type": "code",
   "execution_count": 56,
   "metadata": {},
   "outputs": [
    {
     "data": {
      "application/vnd.jupyter.widget-view+json": {
       "model_id": "34401ba230b64961930514fd0fed25f5",
       "version_major": 2,
       "version_minor": 0
      },
      "text/plain": [
       "interactive(children=(Dropdown(description='value', index=4, options=('Active', 'Confirmed', 'Deaths', 'Recove…"
      ]
     },
     "metadata": {},
     "output_type": "display_data"
    }
   ],
   "source": [
    "country_level = country_level[country_level['Country'].isin(country_level[country_level['Confirmed'] > 10000]['Country'].unique())]\n",
    "countries = country_level[country_level['Confirmed'] > 1000]['Country'].unique().tolist()\n",
    "\n",
    "@interact(value=['Active', 'Confirmed', 'Deaths', 'Recovered', 'Confirmed_New', 'Deaths_New', 'Recovered_New'], sort=['Active', 'Confirmed', 'Deaths', 'Recovered', 'Confirmed_New', 'Deaths_New', 'Recovered_New'], limit=(1,50,1), add=countries, start=reversed(days), end=reversed(days))\n",
    "def chart(value='Confirmed_New', sort='Active', limit=10, highlight='India', start='04-16-2020', end='05-01-2020', xlog=True, ylog=True):\n",
    "    if start is not None and end is not None:\n",
    "        rect = (start, end)\n",
    "    return nontimegraph(country_level, 'Country', value, sort, limit, highlight=highlight, xlog=xlog, ylog=ylog, rect=(None, None)).interactive()"
   ]
  },
  {
   "cell_type": "markdown",
   "metadata": {},
   "source": [
    "# State Level Visualizations"
   ]
  },
  {
   "cell_type": "code",
   "execution_count": 57,
   "metadata": {},
   "outputs": [
    {
     "data": {
      "application/vnd.jupyter.widget-view+json": {
       "model_id": "dbe94c94ef3743df82428cdad4aae4f1",
       "version_major": 2,
       "version_minor": 0
      },
      "text/plain": [
       "interactive(children=(Dropdown(description='country', index=7, options=('Australia', 'Canada', 'China', 'Denma…"
      ]
     },
     "metadata": {},
     "output_type": "display_data"
    }
   ],
   "source": [
    "countries = df[(df['State'].notnull()) & (df['Confirmed'] > 1000)]['Country'].unique()\n",
    "\n",
    "def state_data(country):\n",
    "    state_level = df[df['Country'] == country].groupby(['State', 'Date'], as_index=False).sum()\n",
    "    if country == 'US':\n",
    "        # Drop 03-22-2020 since county breakdown started from here and so there is break in continuity\n",
    "        state_level = state_level.drop(state_level[state_level['Date'] == '03-22-2020'].index)\n",
    "        state_level = state_level.drop(state_level[state_level['Date'] == '03-18-2020'].index)\n",
    "        state_level = state_level[state_level['Date'] >= '03-01-2020']\n",
    "    if country == 'India':\n",
    "        state_level = state_level[state_level['Date'] >= '03-01-2020']\n",
    "    return state_level\n",
    "\n",
    "@interact(country=countries, value=['Active', 'Confirmed', 'Deaths', 'Recovered', 'Confirmed_New', 'Deaths_New', 'Recovered_New'], sort=['Active', 'Confirmed', 'Deaths', 'Recovered', 'Confirmed_New', 'Deaths_New', 'Recovered_New'], limit=(0,50,1))\n",
    "def chart(country='US', value='Confirmed_New', sort='Active', limit=10, zero=True):\n",
    "    return streamgraph(state_data(country), 'State', value, sort, limit, 'zero' if zero else 'center').interactive()"
   ]
  },
  {
   "cell_type": "code",
   "execution_count": 293,
   "metadata": {},
   "outputs": [
    {
     "data": {
      "application/vnd.jupyter.widget-view+json": {
       "model_id": "f4b8063324154f27b4facb94edee7bd6",
       "version_major": 2,
       "version_minor": 0
      },
      "text/plain": [
       "interactive(children=(Dropdown(description='country', index=7, options=('Australia', 'Canada', 'China', 'Denma…"
      ]
     },
     "metadata": {},
     "output_type": "display_data"
    }
   ],
   "source": [
    "@interact(country=countries, value=['Active', 'Confirmed', 'Deaths', 'Recovered', 'Confirmed_New', 'Deaths_New', 'Recovered_New'], sort=['Active', 'Confirmed', 'Deaths', 'Recovered', 'Confirmed_New', 'Deaths_New', 'Recovered_New'], limit=(1,50,1))\n",
    "def chart(country='US', value='Confirmed_New', sort='Active', limit=10, xlog=True, ylog=True):\n",
    "    return nontimegraph(state_data(country), 'State', value, sort, limit, addon=['NE', 'MN', 'CA'], xlog=xlog, ylog=ylog).interactive()"
   ]
  },
  {
   "cell_type": "markdown",
   "metadata": {},
   "source": [
    "# US County Level Visualizations"
   ]
  },
  {
   "cell_type": "code",
   "execution_count": 59,
   "metadata": {},
   "outputs": [
    {
     "data": {
      "application/vnd.jupyter.widget-view+json": {
       "model_id": "109dde405cde4498a76fb62bdfdff660",
       "version_major": 2,
       "version_minor": 0
      },
      "text/plain": [
       "interactive(children=(Dropdown(description='state', index=3, options=('AL', 'AR', 'AZ', 'CA', 'CO', 'CT', 'DC'…"
      ]
     },
     "metadata": {},
     "output_type": "display_data"
    }
   ],
   "source": [
    "us_state_level = state_data('US')\n",
    "states=us_state_level[us_state_level['Confirmed'] > 1000]['State'].unique()\n",
    "@interact(value=['Active', 'Confirmed', 'Deaths', 'Recovered', 'Confirmed_New', 'Deaths_New', 'Recovered_New'], sort=['Active', 'Confirmed', 'Deaths', 'Recovered', 'Confirmed_New', 'Deaths_New', 'Recovered_New'], limit=(0,50,1), state=states)\n",
    "def chart(state='CA', value='Confirmed_New', sort='Active', limit=10, zero=True):\n",
    "    county_level = df[df['State'] == state].fillna({'County': state}).groupby(['County', 'Date'], as_index=False).sum()\n",
    "    return streamgraph(county_level, 'County', value, sort, limit, 'zero' if zero else 'center').interactive()"
   ]
  },
  {
   "cell_type": "code",
   "execution_count": 60,
   "metadata": {},
   "outputs": [
    {
     "data": {
      "application/vnd.jupyter.widget-view+json": {
       "model_id": "c6d528e05bbf41ac8bc3401626dc99ab",
       "version_major": 2,
       "version_minor": 0
      },
      "text/plain": [
       "interactive(children=(Dropdown(description='state', index=3, options=('AL', 'AR', 'AZ', 'CA', 'CO', 'CT', 'DC'…"
      ]
     },
     "metadata": {},
     "output_type": "display_data"
    }
   ],
   "source": [
    "states=us_state_level[us_state_level['Confirmed'] > 1000]['State'].unique()\n",
    "\n",
    "@interact(value=['Active', 'Confirmed', 'Deaths', 'Recovered', 'Confirmed_New', 'Deaths_New', 'Recovered_New'], sort=['Active', 'Confirmed', 'Deaths', 'Recovered', 'Confirmed_New', 'Deaths_New', 'Recovered_New'], limit=(1,50,1), state=states)\n",
    "def chart(state='CA', value='Confirmed_New', sort='Confirmed', limit=10, xlog=True, ylog=True):\n",
    "    county_level = df[df['State'] == state].fillna({'County': state}).groupby(['County', 'Date'], as_index=False).sum()\n",
    "    return nontimegraph(county_level, 'County', value, sort, limit, xlog=xlog, ylog=ylog).interactive()"
   ]
  },
  {
   "cell_type": "code",
   "execution_count": 61,
   "metadata": {},
   "outputs": [
    {
     "data": {
      "application/vnd.jupyter.widget-view+json": {
       "model_id": "93bd7cf2e1f9412a8a859addfebc5189",
       "version_major": 2,
       "version_minor": 0
      },
      "text/plain": [
       "interactive(children=(Dropdown(description='value', index=4, options=('Active', 'Confirmed', 'Deaths', 'Recove…"
      ]
     },
     "metadata": {},
     "output_type": "display_data"
    }
   ],
   "source": [
    "df['Area'] = df.County + ', ' + df.State\n",
    "county_level = df.groupby(['Area', 'Date'], as_index=False).sum()\n",
    "\n",
    "@interact(value=['Active', 'Confirmed', 'Deaths', 'Recovered', 'Confirmed_New', 'Deaths_New', 'Recovered_New'], sort=['Active', 'Confirmed', 'Deaths', 'Recovered', 'Confirmed_New', 'Deaths_New', 'Recovered_New'], limit=(1,50,1), state = us_state_level['State'].unique())\n",
    "def chart(value='Confirmed_New', sort='Confirmed', limit=10, xlog=True, ylog=True):\n",
    "    return nontimegraph(county_level, 'Area', value, sort, limit, xlog=xlog, ylog=ylog).interactive()"
   ]
  },
  {
   "cell_type": "markdown",
   "metadata": {},
   "source": [
    "# Cross Country Comparisons"
   ]
  },
  {
   "cell_type": "code",
   "execution_count": 62,
   "metadata": {},
   "outputs": [
    {
     "data": {
      "application/vnd.jupyter.widget-view+json": {
       "model_id": "6d3121149739431e946ab2638ce61c76",
       "version_major": 2,
       "version_minor": 0
      },
      "text/plain": [
       "interactive(children=(Dropdown(description='country', index=4, options=('Australia', 'Canada', 'China', 'Denma…"
      ]
     },
     "metadata": {},
     "output_type": "display_data"
    }
   ],
   "source": [
    "@interact(country=countries, value=['Active', 'Confirmed', 'Deaths', 'Recovered', 'Confirmed_New', 'Deaths_New', 'Recovered_New'], sort=['Active', 'Confirmed', 'Deaths', 'Recovered', 'Confirmed_New', 'Deaths_New', 'Recovered_New', 'Slope'], limit=(1,50,1))\n",
    "def chart(country='India', value='Confirmed_New', sort='Active', limit=10, xlog=True, ylog=True):\n",
    "    data = state_data(country)\n",
    "    us = state_data('US')\n",
    "    data = pd.concat([data, us[us['State'] == 'NY']])\n",
    "    return nontimegraph(data, 'State', value, sort, limit, xlog=xlog, ylog=ylog).interactive()"
   ]
  },
  {
   "cell_type": "markdown",
   "metadata": {},
   "source": [
    "# Slope Comparisons"
   ]
  },
  {
   "cell_type": "code",
   "execution_count": 356,
   "metadata": {},
   "outputs": [],
   "source": [
    "from scipy import stats\n",
    "from altair import datum\n",
    "\n",
    "def slope_chart(data, by):\n",
    "    source = data[data['Date'] == days[-1]]\n",
    "    for var in source[by].unique():\n",
    "        values = data[data[by] == var].sort_values('Date').tail(7)[['Confirmed', 'Confirmed_New']]\n",
    "        slope, intercept, r_value, p_value, std_err = stats.linregress(values.Confirmed, values.Confirmed_New)\n",
    "        source.loc[source[by] == var, 'Slope'] = slope\n",
    "    source.fillna(0, inplace=True)\n",
    "    source = source[source['Confirmed_New'] > 400]\n",
    "\n",
    "    base = alt.Chart(source).mark_point(filled=True, stroke='grey').encode(\n",
    "        alt.X('Confirmed:Q', scale=alt.Scale(type='linear'), axis=alt.Axis(offset=-436)),\n",
    "        y='Slope:Q',\n",
    "        color=alt.Color(by+':N', scale=alt.Scale(scheme='category20'), legend=alt.Legend(columns=2, clipHeight=20, padding=10)),\n",
    "        size=alt.Size('Confirmed_New:Q', scale=alt.Scale(domain=[250, 3500], range=[150, 2500])),\n",
    "        tooltip=[by, 'Confirmed', 'Slope', 'Confirmed_New']\n",
    "    )\n",
    "    text = base.mark_text().encode(\n",
    "        text=by+':N',\n",
    "        size=alt.value(12),\n",
    "        color=alt.value('black')\n",
    "    ).transform_filter(datum.Confirmed_New > 1000)\n",
    "    regression = base.transform_regression('Confirmed', 'Slope', method=\"poly\", order=1).mark_line(strokeDash=[6,8]).encode(color=alt.value('grey'), size=alt.value(2))\n",
    "\n",
    "    return (base+text+regression)"
   ]
  },
  {
   "cell_type": "code",
   "execution_count": 356,
   "metadata": {},
   "outputs": [
    {
     "data": {
      "text/html": [
       "\n",
       "<div id=\"altair-viz-0d50d6102cd34d9b8604faee9d524940\"></div>\n",
       "<script type=\"text/javascript\">\n",
       "  (function(spec, embedOpt){\n",
       "    const outputDiv = document.getElementById(\"altair-viz-0d50d6102cd34d9b8604faee9d524940\");\n",
       "    const paths = {\n",
       "      \"vega\": \"https://cdn.jsdelivr.net/npm//vega@5?noext\",\n",
       "      \"vega-lib\": \"https://cdn.jsdelivr.net/npm//vega-lib?noext\",\n",
       "      \"vega-lite\": \"https://cdn.jsdelivr.net/npm//vega-lite@4.0.2?noext\",\n",
       "      \"vega-embed\": \"https://cdn.jsdelivr.net/npm//vega-embed@6?noext\",\n",
       "    };\n",
       "\n",
       "    function loadScript(lib) {\n",
       "      return new Promise(function(resolve, reject) {\n",
       "        var s = document.createElement('script');\n",
       "        s.src = paths[lib];\n",
       "        s.async = true;\n",
       "        s.onload = () => resolve(paths[lib]);\n",
       "        s.onerror = () => reject(`Error loading script: ${paths[lib]}`);\n",
       "        document.getElementsByTagName(\"head\")[0].appendChild(s);\n",
       "      });\n",
       "    }\n",
       "\n",
       "    function showError(err) {\n",
       "      outputDiv.innerHTML = `<div class=\"error\" style=\"color:red;\">${err}</div>`;\n",
       "      throw err;\n",
       "    }\n",
       "\n",
       "    function displayChart(vegaEmbed) {\n",
       "      vegaEmbed(outputDiv, spec, embedOpt)\n",
       "        .catch(err => showError(`Javascript Error: ${err.message}<br>This usually means there's a typo in your chart specification. See the javascript console for the full traceback.`));\n",
       "    }\n",
       "\n",
       "    if(typeof define === \"function\" && define.amd) {\n",
       "      requirejs.config({paths});\n",
       "      require([\"vega-embed\"], displayChart, err => showError(`Error loading script: ${err.message}`));\n",
       "    } else if (typeof vegaEmbed === \"function\") {\n",
       "      displayChart(vegaEmbed);\n",
       "    } else {\n",
       "      loadScript(\"vega\")\n",
       "        .then(() => loadScript(\"vega-lite\"))\n",
       "        .then(() => loadScript(\"vega-embed\"))\n",
       "        .catch(showError)\n",
       "        .then(() => displayChart(vegaEmbed));\n",
       "    }\n",
       "  })({\"config\": {\"view\": {\"continuousWidth\": 400, \"continuousHeight\": 300}}, \"layer\": [{\"mark\": {\"type\": \"point\", \"filled\": true, \"stroke\": \"grey\"}, \"encoding\": {\"color\": {\"type\": \"nominal\", \"field\": \"State\", \"legend\": {\"clipHeight\": 20, \"columns\": 2, \"padding\": 10}, \"scale\": {\"scheme\": \"category20\"}}, \"size\": {\"type\": \"quantitative\", \"field\": \"Confirmed_New\", \"scale\": {\"domain\": [250, 3500], \"range\": [150, 2500]}}, \"tooltip\": [{\"type\": \"nominal\", \"field\": \"State\"}, {\"type\": \"quantitative\", \"field\": \"Confirmed\"}, {\"type\": \"quantitative\", \"field\": \"Slope\"}, {\"type\": \"quantitative\", \"field\": \"Confirmed_New\"}], \"x\": {\"type\": \"quantitative\", \"axis\": {\"offset\": -436}, \"field\": \"Confirmed\", \"scale\": {\"type\": \"linear\"}}, \"y\": {\"type\": \"quantitative\", \"field\": \"Slope\"}}, \"selection\": {\"selector668\": {\"type\": \"interval\", \"bind\": \"scales\", \"encodings\": [\"x\", \"y\"]}}}, {\"mark\": \"text\", \"encoding\": {\"color\": {\"value\": \"black\"}, \"size\": {\"value\": 12}, \"text\": {\"type\": \"nominal\", \"field\": \"State\"}, \"tooltip\": [{\"type\": \"nominal\", \"field\": \"State\"}, {\"type\": \"quantitative\", \"field\": \"Confirmed\"}, {\"type\": \"quantitative\", \"field\": \"Slope\"}, {\"type\": \"quantitative\", \"field\": \"Confirmed_New\"}], \"x\": {\"type\": \"quantitative\", \"axis\": {\"offset\": -436}, \"field\": \"Confirmed\", \"scale\": {\"type\": \"linear\"}}, \"y\": {\"type\": \"quantitative\", \"field\": \"Slope\"}}, \"transform\": [{\"filter\": \"(datum.Confirmed_New > 1000)\"}]}, {\"mark\": {\"type\": \"line\", \"strokeDash\": [6, 8]}, \"encoding\": {\"color\": {\"value\": \"grey\"}, \"size\": {\"value\": 2}, \"tooltip\": [{\"type\": \"nominal\", \"field\": \"State\"}, {\"type\": \"quantitative\", \"field\": \"Confirmed\"}, {\"type\": \"quantitative\", \"field\": \"Slope\"}, {\"type\": \"quantitative\", \"field\": \"Confirmed_New\"}], \"x\": {\"type\": \"quantitative\", \"axis\": {\"offset\": -436}, \"field\": \"Confirmed\", \"scale\": {\"type\": \"linear\"}}, \"y\": {\"type\": \"quantitative\", \"field\": \"Slope\"}}, \"transform\": [{\"on\": \"Confirmed\", \"regression\": \"Slope\", \"method\": \"poly\", \"order\": 1}]}], \"data\": {\"name\": \"data-2a9bfc93ce20cb8b1ff321c9a9475bc0\"}, \"height\": 800, \"width\": 1200, \"$schema\": \"https://vega.github.io/schema/vega-lite/v4.0.2.json\", \"datasets\": {\"data-2a9bfc93ce20cb8b1ff321c9a9475bc0\": [{\"State\": \"CA\", \"Date\": \"05-07-2020\", \"Confirmed\": 62148.0, \"Deaths\": 2535.0, \"Recovered\": 0.0, \"Confirmed_New\": 1532.0, \"Deaths_New\": 71.0, \"Recovered_New\": 0.0, \"Active\": 59613.0, \"Slope\": 0.042438300929310904}, {\"State\": \"CO\", \"Date\": \"05-07-2020\", \"Confirmed\": 18370.0, \"Deaths\": 944.0, \"Recovered\": 0.0, \"Confirmed_New\": 538.0, \"Deaths_New\": 25.0, \"Recovered_New\": 0.0, \"Active\": 17426.0, \"Slope\": 0.021432146913831274}, {\"State\": \"CT\", \"Date\": \"05-07-2020\", \"Confirmed\": 31784.0, \"Deaths\": 2797.0, \"Recovered\": 0.0, \"Confirmed_New\": 789.0, \"Deaths_New\": 79.0, \"Recovered_New\": 0.0, \"Active\": 28987.0, \"Slope\": 0.008643005526701003}, {\"State\": \"FL\", \"Date\": \"05-07-2020\", \"Confirmed\": 38828.0, \"Deaths\": 1600.0, \"Recovered\": 0.0, \"Confirmed_New\": 826.0, \"Deaths_New\": 61.0, \"Recovered_New\": 0.0, \"Active\": 37228.0, \"Slope\": -0.05398002550950266}, {\"State\": \"GA\", \"Date\": \"05-07-2020\", \"Confirmed\": 31618.0, \"Deaths\": 1355.0, \"Recovered\": 0.0, \"Confirmed_New\": 875.0, \"Deaths_New\": 28.0, \"Recovered_New\": 0.0, \"Active\": 30263.0, \"Slope\": -0.0449549894287194}, {\"State\": \"IA\", \"Date\": \"05-07-2020\", \"Confirmed\": 11059.0, \"Deaths\": 231.0, \"Recovered\": 0.0, \"Confirmed_New\": 655.0, \"Deaths_New\": 12.0, \"Recovered_New\": 0.0, \"Active\": 10828.0, \"Slope\": -0.09079639463933743}, {\"State\": \"IL\", \"Date\": \"05-07-2020\", \"Confirmed\": 70871.0, \"Deaths\": 3111.0, \"Recovered\": 0.0, \"Confirmed_New\": 2639.0, \"Deaths_New\": 137.0, \"Recovered_New\": 0.0, \"Active\": 67760.0, \"Slope\": -0.039118126846107326}, {\"State\": \"IN\", \"Date\": \"05-07-2020\", \"Confirmed\": 22503.0, \"Deaths\": 1414.0, \"Recovered\": 0.0, \"Confirmed_New\": 633.0, \"Deaths_New\": 37.0, \"Recovered_New\": 0.0, \"Active\": 21089.0, \"Slope\": -0.011499574676175245}, {\"State\": \"MA\", \"Date\": \"05-07-2020\", \"Confirmed\": 73721.0, \"Deaths\": 4552.0, \"Recovered\": 0.0, \"Confirmed_New\": 1696.0, \"Deaths_New\": 132.0, \"Recovered_New\": 0.0, \"Active\": 69169.0, \"Slope\": -0.051145654609537884}, {\"State\": \"MD\", \"Date\": \"05-07-2020\", \"Confirmed\": 29374.0, \"Deaths\": 1503.0, \"Recovered\": 0.0, \"Confirmed_New\": 1211.0, \"Deaths_New\": 66.0, \"Recovered_New\": 0.0, \"Active\": 27871.0, \"Slope\": -0.06244242123543984}, {\"State\": \"MI\", \"Date\": \"05-07-2020\", \"Confirmed\": 45745.0, \"Deaths\": 4345.0, \"Recovered\": 0.0, \"Confirmed_New\": 566.0, \"Deaths_New\": 89.0, \"Recovered_New\": 0.0, \"Active\": 41400.0, \"Slope\": -0.10107620474557154}, {\"State\": \"MN\", \"Date\": \"05-07-2020\", \"Confirmed\": 9365.0, \"Deaths\": 508.0, \"Recovered\": 0.0, \"Confirmed_New\": 786.0, \"Deaths_New\": 23.0, \"Recovered_New\": 0.0, \"Active\": 8857.0, \"Slope\": 0.07650995890734211}, {\"State\": \"NC\", \"Date\": \"05-07-2020\", \"Confirmed\": 13540.0, \"Deaths\": 513.0, \"Recovered\": 0.0, \"Confirmed_New\": 487.0, \"Deaths_New\": 21.0, \"Recovered_New\": 0.0, \"Active\": 13027.0, \"Slope\": 0.09849270851619973}, {\"State\": \"NE\", \"Date\": \"05-07-2020\", \"Confirmed\": 7334.0, \"Deaths\": 91.0, \"Recovered\": 0.0, \"Confirmed_New\": 645.0, \"Deaths_New\": 13.0, \"Recovered_New\": 0.0, \"Active\": 7243.0, \"Slope\": -0.003607686901945253}, {\"State\": \"NJ\", \"Date\": \"05-07-2020\", \"Confirmed\": 133991.0, \"Deaths\": 8807.0, \"Recovered\": 0.0, \"Confirmed_New\": 2101.0, \"Deaths_New\": 258.0, \"Recovered_New\": 0.0, \"Active\": 125184.0, \"Slope\": -0.07013473316252083}, {\"State\": \"NY\", \"Date\": \"05-07-2020\", \"Confirmed\": 327469.0, \"Deaths\": 26144.0, \"Recovered\": 0.0, \"Confirmed_New\": 3491.0, \"Deaths_New\": 521.0, \"Recovered_New\": 0.0, \"Active\": 301325.0, \"Slope\": -0.07274412285548239}, {\"State\": \"OH\", \"Date\": \"05-07-2020\", \"Confirmed\": 22131.0, \"Deaths\": 1271.0, \"Recovered\": 0.0, \"Confirmed_New\": 555.0, \"Deaths_New\": 46.0, \"Recovered_New\": 0.0, \"Active\": 20860.0, \"Slope\": -0.03419231853667531}, {\"State\": \"PA\", \"Date\": \"05-07-2020\", \"Confirmed\": 55956.0, \"Deaths\": 3589.0, \"Recovered\": 0.0, \"Confirmed_New\": 1156.0, \"Deaths_New\": 244.0, \"Recovered_New\": 0.0, \"Active\": 52367.0, \"Slope\": -0.023883974368181956}, {\"State\": \"TX\", \"Date\": \"05-07-2020\", \"Confirmed\": 36036.0, \"Deaths\": 985.0, \"Recovered\": 0.0, \"Confirmed_New\": 1108.0, \"Deaths_New\": 31.0, \"Recovered_New\": 0.0, \"Active\": 35051.0, \"Slope\": 0.004043116154594929}, {\"State\": \"VA\", \"Date\": \"05-07-2020\", \"Confirmed\": 21570.0, \"Deaths\": 769.0, \"Recovered\": 0.0, \"Confirmed_New\": 1313.0, \"Deaths_New\": 56.0, \"Recovered_New\": 0.0, \"Active\": 20801.0, \"Slope\": -0.024336701024402448}]}}, {\"mode\": \"vega-lite\"});\n",
       "</script>"
      ],
      "text/plain": [
       "alt.LayerChart(...)"
      ]
     },
     "execution_count": 356,
     "metadata": {},
     "output_type": "execute_result"
    }
   ],
   "source": [
    "data = state_data('US')\n",
    "slope_chart(data, 'State').properties(\n",
    "    width=1200,\n",
    "    height=800\n",
    ").interactive()"
   ]
  },
  {
   "cell_type": "code",
   "execution_count": 358,
   "metadata": {},
   "outputs": [
    {
     "data": {
      "text/html": [
       "\n",
       "<div id=\"altair-viz-9fc3a7070a104eb8b787de57fa2a12eb\"></div>\n",
       "<script type=\"text/javascript\">\n",
       "  (function(spec, embedOpt){\n",
       "    const outputDiv = document.getElementById(\"altair-viz-9fc3a7070a104eb8b787de57fa2a12eb\");\n",
       "    const paths = {\n",
       "      \"vega\": \"https://cdn.jsdelivr.net/npm//vega@5?noext\",\n",
       "      \"vega-lib\": \"https://cdn.jsdelivr.net/npm//vega-lib?noext\",\n",
       "      \"vega-lite\": \"https://cdn.jsdelivr.net/npm//vega-lite@4.0.2?noext\",\n",
       "      \"vega-embed\": \"https://cdn.jsdelivr.net/npm//vega-embed@6?noext\",\n",
       "    };\n",
       "\n",
       "    function loadScript(lib) {\n",
       "      return new Promise(function(resolve, reject) {\n",
       "        var s = document.createElement('script');\n",
       "        s.src = paths[lib];\n",
       "        s.async = true;\n",
       "        s.onload = () => resolve(paths[lib]);\n",
       "        s.onerror = () => reject(`Error loading script: ${paths[lib]}`);\n",
       "        document.getElementsByTagName(\"head\")[0].appendChild(s);\n",
       "      });\n",
       "    }\n",
       "\n",
       "    function showError(err) {\n",
       "      outputDiv.innerHTML = `<div class=\"error\" style=\"color:red;\">${err}</div>`;\n",
       "      throw err;\n",
       "    }\n",
       "\n",
       "    function displayChart(vegaEmbed) {\n",
       "      vegaEmbed(outputDiv, spec, embedOpt)\n",
       "        .catch(err => showError(`Javascript Error: ${err.message}<br>This usually means there's a typo in your chart specification. See the javascript console for the full traceback.`));\n",
       "    }\n",
       "\n",
       "    if(typeof define === \"function\" && define.amd) {\n",
       "      requirejs.config({paths});\n",
       "      require([\"vega-embed\"], displayChart, err => showError(`Error loading script: ${err.message}`));\n",
       "    } else if (typeof vegaEmbed === \"function\") {\n",
       "      displayChart(vegaEmbed);\n",
       "    } else {\n",
       "      loadScript(\"vega\")\n",
       "        .then(() => loadScript(\"vega-lite\"))\n",
       "        .then(() => loadScript(\"vega-embed\"))\n",
       "        .catch(showError)\n",
       "        .then(() => displayChart(vegaEmbed));\n",
       "    }\n",
       "  })({\"config\": {\"view\": {\"continuousWidth\": 400, \"continuousHeight\": 300}}, \"layer\": [{\"mark\": \"line\", \"encoding\": {\"x\": {\"type\": \"quantitative\", \"field\": \"Confirmed\"}, \"y\": {\"type\": \"quantitative\", \"field\": \"Confirmed_New\"}}, \"selection\": {\"selector670\": {\"type\": \"interval\", \"bind\": \"scales\", \"encodings\": [\"x\", \"y\"]}}}, {\"mark\": \"line\", \"encoding\": {\"x\": {\"type\": \"quantitative\", \"field\": \"Confirmed\"}, \"y\": {\"type\": \"quantitative\", \"field\": \"Confirmed_New\"}}, \"transform\": [{\"on\": \"Confirmed\", \"regression\": \"Confirmed_New\", \"method\": \"linear\"}]}], \"data\": {\"name\": \"data-b6d9357ad340275cd7ba4e890e4d123a\"}, \"$schema\": \"https://vega.github.io/schema/vega-lite/v4.0.2.json\", \"datasets\": {\"data-b6d9357ad340275cd7ba4e890e4d123a\": [{\"State\": \"CA\", \"Date\": \"04-17-2020\", \"Confirmed\": 29157.0, \"Deaths\": 1037.0, \"Recovered\": 0.0, \"Confirmed_New\": 1480.0, \"Deaths_New\": 81.0, \"Recovered_New\": 0.0, \"Active\": 28120.0}, {\"State\": \"CA\", \"Date\": \"04-18-2020\", \"Confirmed\": 30491.0, \"Deaths\": 1140.0, \"Recovered\": 0.0, \"Confirmed_New\": 1334.0, \"Deaths_New\": 103.0, \"Recovered_New\": 0.0, \"Active\": 29351.0}, {\"State\": \"CA\", \"Date\": \"04-19-2020\", \"Confirmed\": 31431.0, \"Deaths\": 1177.0, \"Recovered\": 0.0, \"Confirmed_New\": 940.0, \"Deaths_New\": 37.0, \"Recovered_New\": 0.0, \"Active\": 30254.0}, {\"State\": \"CA\", \"Date\": \"04-20-2020\", \"Confirmed\": 33686.0, \"Deaths\": 1225.0, \"Recovered\": 0.0, \"Confirmed_New\": 2255.0, \"Deaths_New\": 48.0, \"Recovered_New\": 0.0, \"Active\": 32461.0}, {\"State\": \"CA\", \"Date\": \"04-21-2020\", \"Confirmed\": 35465.0, \"Deaths\": 1282.0, \"Recovered\": 0.0, \"Confirmed_New\": 1779.0, \"Deaths_New\": 57.0, \"Recovered_New\": 0.0, \"Active\": 34183.0}, {\"State\": \"CA\", \"Date\": \"04-22-2020\", \"Confirmed\": 37344.0, \"Deaths\": 1421.0, \"Recovered\": 0.0, \"Confirmed_New\": 1879.0, \"Deaths_New\": 139.0, \"Recovered_New\": 0.0, \"Active\": 35923.0}, {\"State\": \"CA\", \"Date\": \"04-23-2020\", \"Confirmed\": 39561.0, \"Deaths\": 1533.0, \"Recovered\": 0.0, \"Confirmed_New\": 2217.0, \"Deaths_New\": 112.0, \"Recovered_New\": 0.0, \"Active\": 38028.0}, {\"State\": \"CA\", \"Date\": \"04-24-2020\", \"Confirmed\": 41355.0, \"Deaths\": 1621.0, \"Recovered\": 0.0, \"Confirmed_New\": 1794.0, \"Deaths_New\": 88.0, \"Recovered_New\": 0.0, \"Active\": 39734.0}, {\"State\": \"CA\", \"Date\": \"04-25-2020\", \"Confirmed\": 42368.0, \"Deaths\": 1689.0, \"Recovered\": 0.0, \"Confirmed_New\": 1013.0, \"Deaths_New\": 68.0, \"Recovered_New\": 0.0, \"Active\": 40679.0}, {\"State\": \"CA\", \"Date\": \"04-26-2020\", \"Confirmed\": 43558.0, \"Deaths\": 1725.0, \"Recovered\": 0.0, \"Confirmed_New\": 1190.0, \"Deaths_New\": 36.0, \"Recovered_New\": 0.0, \"Active\": 41833.0}, {\"State\": \"CA\", \"Date\": \"04-27-2020\", \"Confirmed\": 44966.0, \"Deaths\": 1779.0, \"Recovered\": 0.0, \"Confirmed_New\": 1408.0, \"Deaths_New\": 54.0, \"Recovered_New\": 0.0, \"Active\": 43187.0}, {\"State\": \"CA\", \"Date\": \"04-28-2020\", \"Confirmed\": 46164.0, \"Deaths\": 1864.0, \"Recovered\": 0.0, \"Confirmed_New\": 1198.0, \"Deaths_New\": 85.0, \"Recovered_New\": 0.0, \"Active\": 44300.0}, {\"State\": \"CA\", \"Date\": \"04-29-2020\", \"Confirmed\": 48747.0, \"Deaths\": 1946.0, \"Recovered\": 0.0, \"Confirmed_New\": 2583.0, \"Deaths_New\": 82.0, \"Recovered_New\": 0.0, \"Active\": 46801.0}, {\"State\": \"CA\", \"Date\": \"04-30-2020\", \"Confirmed\": 50130.0, \"Deaths\": 2031.0, \"Recovered\": 0.0, \"Confirmed_New\": 1383.0, \"Deaths_New\": 85.0, \"Recovered_New\": 0.0, \"Active\": 48099.0}, {\"State\": \"CA\", \"Date\": \"05-01-2020\", \"Confirmed\": 52026.0, \"Deaths\": 2126.0, \"Recovered\": 0.0, \"Confirmed_New\": 1896.0, \"Deaths_New\": 95.0, \"Recovered_New\": 0.0, \"Active\": 49900.0}, {\"State\": \"CA\", \"Date\": \"05-02-2020\", \"Confirmed\": 53347.0, \"Deaths\": 2180.0, \"Recovered\": 0.0, \"Confirmed_New\": 1321.0, \"Deaths_New\": 54.0, \"Recovered_New\": 0.0, \"Active\": 51167.0}, {\"State\": \"CA\", \"Date\": \"05-03-2020\", \"Confirmed\": 54903.0, \"Deaths\": 2216.0, \"Recovered\": 0.0, \"Confirmed_New\": 1556.0, \"Deaths_New\": 36.0, \"Recovered_New\": 0.0, \"Active\": 52687.0}, {\"State\": \"CA\", \"Date\": \"05-04-2020\", \"Confirmed\": 55884.0, \"Deaths\": 2278.0, \"Recovered\": 0.0, \"Confirmed_New\": 981.0, \"Deaths_New\": 62.0, \"Recovered_New\": 0.0, \"Active\": 53606.0}, {\"State\": \"CA\", \"Date\": \"05-05-2020\", \"Confirmed\": 58456.0, \"Deaths\": 2381.0, \"Recovered\": 0.0, \"Confirmed_New\": 2572.0, \"Deaths_New\": 103.0, \"Recovered_New\": 0.0, \"Active\": 56075.0}, {\"State\": \"CA\", \"Date\": \"05-06-2020\", \"Confirmed\": 60616.0, \"Deaths\": 2464.0, \"Recovered\": 0.0, \"Confirmed_New\": 2160.0, \"Deaths_New\": 83.0, \"Recovered_New\": 0.0, \"Active\": 58152.0}, {\"State\": \"CA\", \"Date\": \"05-07-2020\", \"Confirmed\": 62148.0, \"Deaths\": 2535.0, \"Recovered\": 0.0, \"Confirmed_New\": 1532.0, \"Deaths_New\": 71.0, \"Recovered_New\": 0.0, \"Active\": 59613.0}]}}, {\"mode\": \"vega-lite\"});\n",
       "</script>"
      ],
      "text/plain": [
       "alt.LayerChart(...)"
      ]
     },
     "execution_count": 358,
     "metadata": {},
     "output_type": "execute_result"
    }
   ],
   "source": [
    "state = alt.Chart(data[data['State'] == 'CA'].sort_values('Date').tail(21)).mark_line().encode(\n",
    "    x='Confirmed:Q',\n",
    "    y='Confirmed_New:Q'\n",
    ")\n",
    "reg = state.transform_regression(\"Confirmed\", \"Confirmed_New\", method=\"linear\").mark_line()\n",
    "(state+reg).interactive()"
   ]
  },
  {
   "cell_type": "code",
   "execution_count": 363,
   "metadata": {},
   "outputs": [
    {
     "data": {
      "text/html": [
       "\n",
       "<div id=\"altair-viz-c4f45ac19d544b4ca4763554f5d1cf40\"></div>\n",
       "<script type=\"text/javascript\">\n",
       "  (function(spec, embedOpt){\n",
       "    const outputDiv = document.getElementById(\"altair-viz-c4f45ac19d544b4ca4763554f5d1cf40\");\n",
       "    const paths = {\n",
       "      \"vega\": \"https://cdn.jsdelivr.net/npm//vega@5?noext\",\n",
       "      \"vega-lib\": \"https://cdn.jsdelivr.net/npm//vega-lib?noext\",\n",
       "      \"vega-lite\": \"https://cdn.jsdelivr.net/npm//vega-lite@4.0.2?noext\",\n",
       "      \"vega-embed\": \"https://cdn.jsdelivr.net/npm//vega-embed@6?noext\",\n",
       "    };\n",
       "\n",
       "    function loadScript(lib) {\n",
       "      return new Promise(function(resolve, reject) {\n",
       "        var s = document.createElement('script');\n",
       "        s.src = paths[lib];\n",
       "        s.async = true;\n",
       "        s.onload = () => resolve(paths[lib]);\n",
       "        s.onerror = () => reject(`Error loading script: ${paths[lib]}`);\n",
       "        document.getElementsByTagName(\"head\")[0].appendChild(s);\n",
       "      });\n",
       "    }\n",
       "\n",
       "    function showError(err) {\n",
       "      outputDiv.innerHTML = `<div class=\"error\" style=\"color:red;\">${err}</div>`;\n",
       "      throw err;\n",
       "    }\n",
       "\n",
       "    function displayChart(vegaEmbed) {\n",
       "      vegaEmbed(outputDiv, spec, embedOpt)\n",
       "        .catch(err => showError(`Javascript Error: ${err.message}<br>This usually means there's a typo in your chart specification. See the javascript console for the full traceback.`));\n",
       "    }\n",
       "\n",
       "    if(typeof define === \"function\" && define.amd) {\n",
       "      requirejs.config({paths});\n",
       "      require([\"vega-embed\"], displayChart, err => showError(`Error loading script: ${err.message}`));\n",
       "    } else if (typeof vegaEmbed === \"function\") {\n",
       "      displayChart(vegaEmbed);\n",
       "    } else {\n",
       "      loadScript(\"vega\")\n",
       "        .then(() => loadScript(\"vega-lite\"))\n",
       "        .then(() => loadScript(\"vega-embed\"))\n",
       "        .catch(showError)\n",
       "        .then(() => displayChart(vegaEmbed));\n",
       "    }\n",
       "  })({\"config\": {\"view\": {\"continuousWidth\": 400, \"continuousHeight\": 300}}, \"layer\": [{\"mark\": {\"type\": \"point\", \"filled\": true, \"stroke\": \"grey\"}, \"encoding\": {\"color\": {\"type\": \"nominal\", \"field\": \"Country\", \"legend\": {\"clipHeight\": 20, \"columns\": 2, \"padding\": 10}, \"scale\": {\"scheme\": \"category20\"}}, \"size\": {\"type\": \"quantitative\", \"field\": \"Confirmed_New\", \"scale\": {\"domain\": [250, 3500], \"range\": [150, 2500]}}, \"tooltip\": [{\"type\": \"nominal\", \"field\": \"Country\"}, {\"type\": \"quantitative\", \"field\": \"Confirmed\"}, {\"type\": \"quantitative\", \"field\": \"Slope\"}, {\"type\": \"quantitative\", \"field\": \"Confirmed_New\"}], \"x\": {\"type\": \"quantitative\", \"axis\": {\"offset\": -444}, \"field\": \"Confirmed\", \"scale\": {\"type\": \"log\"}}, \"y\": {\"type\": \"quantitative\", \"field\": \"Slope\"}}, \"selection\": {\"selector675\": {\"type\": \"interval\", \"bind\": \"scales\", \"encodings\": [\"x\", \"y\"]}}}, {\"mark\": \"text\", \"encoding\": {\"color\": {\"value\": \"black\"}, \"size\": {\"value\": 12}, \"text\": {\"type\": \"nominal\", \"field\": \"Country\"}, \"tooltip\": [{\"type\": \"nominal\", \"field\": \"Country\"}, {\"type\": \"quantitative\", \"field\": \"Confirmed\"}, {\"type\": \"quantitative\", \"field\": \"Slope\"}, {\"type\": \"quantitative\", \"field\": \"Confirmed_New\"}], \"x\": {\"type\": \"quantitative\", \"axis\": {\"offset\": -444}, \"field\": \"Confirmed\", \"scale\": {\"type\": \"log\"}}, \"y\": {\"type\": \"quantitative\", \"field\": \"Slope\"}}, \"transform\": [{\"filter\": \"(datum.Confirmed_New > 1000)\"}]}, {\"mark\": {\"type\": \"line\", \"strokeDash\": [6, 8]}, \"encoding\": {\"color\": {\"value\": \"grey\"}, \"size\": {\"value\": 2}, \"tooltip\": [{\"type\": \"nominal\", \"field\": \"Country\"}, {\"type\": \"quantitative\", \"field\": \"Confirmed\"}, {\"type\": \"quantitative\", \"field\": \"Slope\"}, {\"type\": \"quantitative\", \"field\": \"Confirmed_New\"}], \"x\": {\"type\": \"quantitative\", \"axis\": {\"offset\": -444}, \"field\": \"Confirmed\", \"scale\": {\"type\": \"log\"}}, \"y\": {\"type\": \"quantitative\", \"field\": \"Slope\"}}, \"transform\": [{\"on\": \"Confirmed\", \"regression\": \"Slope\", \"method\": \"poly\", \"order\": 1}]}], \"data\": {\"name\": \"data-9fdcae127a48a96ca41c132deb565441\"}, \"height\": 800, \"width\": 1200, \"$schema\": \"https://vega.github.io/schema/vega-lite/v4.0.2.json\", \"datasets\": {\"data-9fdcae127a48a96ca41c132deb565441\": [{\"Country\": \"Bangladesh\", \"Date\": \"05-07-2020\", \"Confirmed\": 12425.0, \"Deaths\": 199.0, \"Recovered\": 1910.0, \"Confirmed_New\": 706.0, \"Deaths_New\": 13.0, \"Recovered_New\": 507.0, \"Active\": 10316.0, \"Slope\": 0.04414884475196053}, {\"Country\": \"Belarus\", \"Date\": \"05-07-2020\", \"Confirmed\": 20168.0, \"Deaths\": 116.0, \"Recovered\": 5067.0, \"Confirmed_New\": 913.0, \"Deaths_New\": 4.0, \"Recovered_New\": 679.0, \"Active\": 14985.0, \"Slope\": 0.030207991935854054}, {\"Country\": \"Belgium\", \"Date\": \"05-07-2020\", \"Confirmed\": 51420.0, \"Deaths\": 8415.0, \"Recovered\": 12980.0, \"Confirmed_New\": 639.0, \"Deaths_New\": 76.0, \"Recovered_New\": 249.0, \"Active\": 30025.0, \"Slope\": -0.0681559095514552}, {\"Country\": \"Brazil\", \"Date\": \"05-07-2020\", \"Confirmed\": 135773.0, \"Deaths\": 9190.0, \"Recovered\": 55350.0, \"Confirmed_New\": 9162.0, \"Deaths_New\": 602.0, \"Recovered_New\": 3980.0, \"Active\": 71233.0, \"Slope\": 0.06544948008258955}, {\"Country\": \"Canada\", \"Date\": \"05-07-2020\", \"Confirmed\": 66201.0, \"Deaths\": 4541.0, \"Recovered\": 29260.0, \"Confirmed_New\": 1507.0, \"Deaths_New\": 175.0, \"Recovered_New\": 1076.0, \"Active\": 32400.0, \"Slope\": -0.004428312500388091}, {\"Country\": \"Chile\", \"Date\": \"05-07-2020\", \"Confirmed\": 24581.0, \"Deaths\": 285.0, \"Recovered\": 11664.0, \"Confirmed_New\": 1533.0, \"Deaths_New\": 4.0, \"Recovered_New\": 475.0, \"Active\": 12632.0, \"Slope\": 0.07536472111718025}, {\"Country\": \"France\", \"Date\": \"05-07-2020\", \"Confirmed\": 174918.0, \"Deaths\": 25990.0, \"Recovered\": 55191.0, \"Confirmed_New\": 694.0, \"Deaths_New\": 178.0, \"Recovered_New\": 1112.0, \"Active\": 93737.0, \"Slope\": -0.014106521987735427}, {\"Country\": \"Germany\", \"Date\": \"05-07-2020\", \"Confirmed\": 169430.0, \"Deaths\": 7392.0, \"Recovered\": 141700.0, \"Confirmed_New\": 1268.0, \"Deaths_New\": 117.0, \"Recovered_New\": 1800.0, \"Active\": 20338.0, \"Slope\": -0.062490788475882034}, {\"Country\": \"India\", \"Date\": \"05-07-2020\", \"Confirmed\": 52952.0, \"Deaths\": 1783.0, \"Recovered\": 15267.0, \"Confirmed_New\": 3561.0, \"Deaths_New\": 89.0, \"Recovered_New\": 1084.0, \"Active\": 35902.0, \"Slope\": 0.06123386096187942}, {\"Country\": \"Iran\", \"Date\": \"05-07-2020\", \"Confirmed\": 103135.0, \"Deaths\": 6486.0, \"Recovered\": 82744.0, \"Confirmed_New\": 1485.0, \"Deaths_New\": 68.0, \"Recovered_New\": 1157.0, \"Active\": 13905.0, \"Slope\": -0.0029241198552607053}, {\"Country\": \"Italy\", \"Date\": \"05-07-2020\", \"Confirmed\": 215858.0, \"Deaths\": 29958.0, \"Recovered\": 96276.0, \"Confirmed_New\": 1401.0, \"Deaths_New\": 274.0, \"Recovered_New\": 3031.0, \"Active\": 89624.0, \"Slope\": -0.04993898777184697}, {\"Country\": \"Mexico\", \"Date\": \"05-07-2020\", \"Confirmed\": 29616.0, \"Deaths\": 2961.0, \"Recovered\": 17781.0, \"Confirmed_New\": 1982.0, \"Deaths_New\": 257.0, \"Recovered_New\": 0.0, \"Active\": 8874.0, \"Slope\": 0.044723799512647815}, {\"Country\": \"Netherlands\", \"Date\": \"05-07-2020\", \"Confirmed\": 41973.0, \"Deaths\": 5306.0, \"Recovered\": 147.0, \"Confirmed_New\": 455.0, \"Deaths_New\": 85.0, \"Recovered_New\": 1.0, \"Active\": 36520.0, \"Slope\": -0.08128292242484171}, {\"Country\": \"Pakistan\", \"Date\": \"05-07-2020\", \"Confirmed\": 24644.0, \"Deaths\": 585.0, \"Recovered\": 6464.0, \"Confirmed_New\": 571.0, \"Deaths_New\": 21.0, \"Recovered_New\": 0.0, \"Active\": 17595.0, \"Slope\": 0.04488875521042063}, {\"Country\": \"Peru\", \"Date\": \"05-07-2020\", \"Confirmed\": 58526.0, \"Deaths\": 1627.0, \"Recovered\": 18388.0, \"Confirmed_New\": 3709.0, \"Deaths_New\": 94.0, \"Recovered_New\": 861.0, \"Active\": 38511.0, \"Slope\": 0.059506592107214575}, {\"Country\": \"Portugal\", \"Date\": \"05-07-2020\", \"Confirmed\": 26715.0, \"Deaths\": 1105.0, \"Recovered\": 2258.0, \"Confirmed_New\": 533.0, \"Deaths_New\": 16.0, \"Recovered_New\": 182.0, \"Active\": 23352.0, \"Slope\": -0.03646000242549035}, {\"Country\": \"Qatar\", \"Date\": \"05-07-2020\", \"Confirmed\": 18890.0, \"Deaths\": 12.0, \"Recovered\": 2286.0, \"Confirmed_New\": 918.0, \"Deaths_New\": 0.0, \"Recovered_New\": 216.0, \"Active\": 16592.0, \"Slope\": 0.024792058740308383}, {\"Country\": \"Russia\", \"Date\": \"05-07-2020\", \"Confirmed\": 177160.0, \"Deaths\": 1625.0, \"Recovered\": 23803.0, \"Confirmed_New\": 11231.0, \"Deaths_New\": 88.0, \"Recovered_New\": 2476.0, \"Active\": 151732.0, \"Slope\": 0.05057001445742115}, {\"Country\": \"Saudi Arabia\", \"Date\": \"05-07-2020\", \"Confirmed\": 33731.0, \"Deaths\": 219.0, \"Recovered\": 7798.0, \"Confirmed_New\": 1793.0, \"Deaths_New\": 10.0, \"Recovered_New\": 1015.0, \"Active\": 25714.0, \"Slope\": 0.02822953262621636}, {\"Country\": \"Singapore\", \"Date\": \"05-07-2020\", \"Confirmed\": 20939.0, \"Deaths\": 20.0, \"Recovered\": 1712.0, \"Confirmed_New\": 741.0, \"Deaths_New\": 0.0, \"Recovered_New\": 78.0, \"Active\": 19207.0, \"Slope\": -0.02083073049310827}, {\"Country\": \"Spain\", \"Date\": \"05-07-2020\", \"Confirmed\": 221447.0, \"Deaths\": 26070.0, \"Recovered\": 128511.0, \"Confirmed_New\": 1122.0, \"Deaths_New\": 213.0, \"Recovered_New\": 2509.0, \"Active\": 66866.0, \"Slope\": -0.008021111152040275}, {\"Country\": \"Sweden\", \"Date\": \"05-07-2020\", \"Confirmed\": 24623.0, \"Deaths\": 3040.0, \"Recovered\": 4971.0, \"Confirmed_New\": 705.0, \"Deaths_New\": 99.0, \"Recovered_New\": 897.0, \"Active\": 16612.0, \"Slope\": -0.005278772295848994}, {\"Country\": \"Turkey\", \"Date\": \"05-07-2020\", \"Confirmed\": 133721.0, \"Deaths\": 3641.0, \"Recovered\": 82984.0, \"Confirmed_New\": 1977.0, \"Deaths_New\": 57.0, \"Recovered_New\": 4782.0, \"Active\": 47096.0, \"Slope\": -0.050769726089055764}, {\"Country\": \"UK\", \"Date\": \"05-07-2020\", \"Confirmed\": 207977.0, \"Deaths\": 30689.0, \"Recovered\": 970.0, \"Confirmed_New\": 5618.0, \"Deaths_New\": 539.0, \"Recovered_New\": 36.0, \"Active\": 176318.0, \"Slope\": -0.0005975018586288713}, {\"Country\": \"US\", \"Date\": \"05-07-2020\", \"Confirmed\": 1257023.0, \"Deaths\": 75662.0, \"Recovered\": 195036.0, \"Confirmed_New\": 28420.0, \"Deaths_New\": 2231.0, \"Recovered_New\": 5126.0, \"Active\": 986325.0, \"Slope\": -0.007917288156933043}, {\"Country\": \"Ukraine\", \"Date\": \"05-07-2020\", \"Confirmed\": 13691.0, \"Deaths\": 340.0, \"Recovered\": 2396.0, \"Confirmed_New\": 507.0, \"Deaths_New\": 13.0, \"Recovered_New\": 299.0, \"Active\": 10955.0, \"Slope\": 0.0065650987937899705}, {\"Country\": \"United Arab Emirates\", \"Date\": \"05-07-2020\", \"Confirmed\": 16240.0, \"Deaths\": 165.0, \"Recovered\": 3572.0, \"Confirmed_New\": 502.0, \"Deaths_New\": 8.0, \"Recovered_New\": 213.0, \"Active\": 12503.0, \"Slope\": 0.016585570878271512}]}}, {\"mode\": \"vega-lite\"});\n",
       "</script>"
      ],
      "text/plain": [
       "alt.LayerChart(...)"
      ]
     },
     "execution_count": 363,
     "metadata": {},
     "output_type": "execute_result"
    }
   ],
   "source": [
    "from scipy import stats\n",
    "from altair import datum\n",
    "\n",
    "def slope_chart(data, by):\n",
    "    source = data[data['Date'] == days[-1]]\n",
    "    for var in source[by].unique():\n",
    "        values = data[data[by] == var].sort_values('Date').tail(21)[['Confirmed', 'Confirmed_New']]\n",
    "        slope, intercept, r_value, p_value, std_err = stats.linregress(values.Confirmed, values.Confirmed_New)\n",
    "        source.loc[source[by] == var, 'Slope'] = slope\n",
    "    source.fillna(0, inplace=True)\n",
    "    source = source[source['Confirmed_New'] > 400]\n",
    "\n",
    "    base = alt.Chart(source).mark_point(filled=True, stroke='grey').encode(\n",
    "        alt.X('Confirmed:Q', scale=alt.Scale(type='log'), axis=alt.Axis(offset=-444)),\n",
    "        y='Slope:Q',\n",
    "        color=alt.Color(by+':N', scale=alt.Scale(scheme='category20'), legend=alt.Legend(columns=2, clipHeight=20, padding=10)),\n",
    "        size=alt.Size('Confirmed_New:Q', scale=alt.Scale(domain=[250, 3500], range=[150, 2500])),\n",
    "        tooltip=[by, 'Confirmed', 'Slope', 'Confirmed_New']\n",
    "    )\n",
    "    text = base.mark_text().encode(\n",
    "        text=by+':N',\n",
    "        size=alt.value(12),\n",
    "        color=alt.value('black')\n",
    "    ).transform_filter(datum.Confirmed_New > 1000)\n",
    "    regression = base.transform_regression('Confirmed', 'Slope', method=\"poly\", order=1).mark_line(strokeDash=[6,8]).encode(color=alt.value('grey'), size=alt.value(2))\n",
    "\n",
    "    return (base+text+regression)\n",
    "\n",
    "slope_chart(country_level, 'Country').properties(\n",
    "    width=1200,\n",
    "    height=800\n",
    ").interactive()"
   ]
  },
  {
   "cell_type": "code",
   "execution_count": 367,
   "metadata": {},
   "outputs": [
    {
     "data": {
      "text/html": [
       "\n",
       "<div id=\"altair-viz-1d16a77c481149eaafa4cdc3b167a6b9\"></div>\n",
       "<script type=\"text/javascript\">\n",
       "  (function(spec, embedOpt){\n",
       "    const outputDiv = document.getElementById(\"altair-viz-1d16a77c481149eaafa4cdc3b167a6b9\");\n",
       "    const paths = {\n",
       "      \"vega\": \"https://cdn.jsdelivr.net/npm//vega@5?noext\",\n",
       "      \"vega-lib\": \"https://cdn.jsdelivr.net/npm//vega-lib?noext\",\n",
       "      \"vega-lite\": \"https://cdn.jsdelivr.net/npm//vega-lite@4.0.2?noext\",\n",
       "      \"vega-embed\": \"https://cdn.jsdelivr.net/npm//vega-embed@6?noext\",\n",
       "    };\n",
       "\n",
       "    function loadScript(lib) {\n",
       "      return new Promise(function(resolve, reject) {\n",
       "        var s = document.createElement('script');\n",
       "        s.src = paths[lib];\n",
       "        s.async = true;\n",
       "        s.onload = () => resolve(paths[lib]);\n",
       "        s.onerror = () => reject(`Error loading script: ${paths[lib]}`);\n",
       "        document.getElementsByTagName(\"head\")[0].appendChild(s);\n",
       "      });\n",
       "    }\n",
       "\n",
       "    function showError(err) {\n",
       "      outputDiv.innerHTML = `<div class=\"error\" style=\"color:red;\">${err}</div>`;\n",
       "      throw err;\n",
       "    }\n",
       "\n",
       "    function displayChart(vegaEmbed) {\n",
       "      vegaEmbed(outputDiv, spec, embedOpt)\n",
       "        .catch(err => showError(`Javascript Error: ${err.message}<br>This usually means there's a typo in your chart specification. See the javascript console for the full traceback.`));\n",
       "    }\n",
       "\n",
       "    if(typeof define === \"function\" && define.amd) {\n",
       "      requirejs.config({paths});\n",
       "      require([\"vega-embed\"], displayChart, err => showError(`Error loading script: ${err.message}`));\n",
       "    } else if (typeof vegaEmbed === \"function\") {\n",
       "      displayChart(vegaEmbed);\n",
       "    } else {\n",
       "      loadScript(\"vega\")\n",
       "        .then(() => loadScript(\"vega-lite\"))\n",
       "        .then(() => loadScript(\"vega-embed\"))\n",
       "        .catch(showError)\n",
       "        .then(() => displayChart(vegaEmbed));\n",
       "    }\n",
       "  })({\"config\": {\"view\": {\"continuousWidth\": 400, \"continuousHeight\": 300}}, \"layer\": [{\"mark\": \"line\", \"encoding\": {\"x\": {\"type\": \"quantitative\", \"field\": \"Confirmed\"}, \"y\": {\"type\": \"quantitative\", \"field\": \"Confirmed_New\"}}, \"selection\": {\"selector679\": {\"type\": \"interval\", \"bind\": \"scales\", \"encodings\": [\"x\", \"y\"]}}}, {\"mark\": \"line\", \"encoding\": {\"x\": {\"type\": \"quantitative\", \"field\": \"Confirmed\"}, \"y\": {\"type\": \"quantitative\", \"field\": \"Confirmed_New\"}}, \"transform\": [{\"on\": \"Confirmed\", \"regression\": \"Confirmed_New\", \"method\": \"linear\"}]}], \"data\": {\"name\": \"data-6c45fda7be2683b81a137bed2a2c13ff\"}, \"$schema\": \"https://vega.github.io/schema/vega-lite/v4.0.2.json\", \"datasets\": {\"data-6c45fda7be2683b81a137bed2a2c13ff\": [{\"Country\": \"India\", \"Date\": \"05-01-2020\", \"Confirmed\": 34972.0, \"Deaths\": 1152.0, \"Recovered\": 9065.0, \"Confirmed_New\": 1642.0, \"Deaths_New\": 77.0, \"Recovered_New\": 692.0, \"Active\": 24755.0}, {\"Country\": \"India\", \"Date\": \"05-02-2020\", \"Confirmed\": 37157.0, \"Deaths\": 1218.0, \"Recovered\": 9951.0, \"Confirmed_New\": 2185.0, \"Deaths_New\": 66.0, \"Recovered_New\": 886.0, \"Active\": 25988.0}, {\"Country\": \"India\", \"Date\": \"05-03-2020\", \"Confirmed\": 40124.0, \"Deaths\": 1306.0, \"Recovered\": 10887.0, \"Confirmed_New\": 2967.0, \"Deaths_New\": 88.0, \"Recovered_New\": 936.0, \"Active\": 27931.0}, {\"Country\": \"India\", \"Date\": \"05-04-2020\", \"Confirmed\": 42836.0, \"Deaths\": 1389.0, \"Recovered\": 11762.0, \"Confirmed_New\": 2712.0, \"Deaths_New\": 83.0, \"Recovered_New\": 875.0, \"Active\": 29685.0}, {\"Country\": \"India\", \"Date\": \"05-05-2020\", \"Confirmed\": 46711.0, \"Deaths\": 1583.0, \"Recovered\": 13161.0, \"Confirmed_New\": 3875.0, \"Deaths_New\": 194.0, \"Recovered_New\": 1399.0, \"Active\": 31967.0}, {\"Country\": \"India\", \"Date\": \"05-06-2020\", \"Confirmed\": 49391.0, \"Deaths\": 1694.0, \"Recovered\": 14183.0, \"Confirmed_New\": 2679.0, \"Deaths_New\": 111.0, \"Recovered_New\": 1022.0, \"Active\": 33514.0}, {\"Country\": \"India\", \"Date\": \"05-07-2020\", \"Confirmed\": 52952.0, \"Deaths\": 1783.0, \"Recovered\": 15267.0, \"Confirmed_New\": 3561.0, \"Deaths_New\": 89.0, \"Recovered_New\": 1084.0, \"Active\": 35902.0}]}}, {\"mode\": \"vega-lite\"});\n",
       "</script>"
      ],
      "text/plain": [
       "alt.LayerChart(...)"
      ]
     },
     "execution_count": 367,
     "metadata": {},
     "output_type": "execute_result"
    }
   ],
   "source": [
    "data = country_level\n",
    "state = alt.Chart(data[data['Country'] == 'India'].sort_values('Date').tail(7)).mark_line().encode(\n",
    "    x='Confirmed:Q',\n",
    "    y='Confirmed_New:Q'\n",
    ")\n",
    "reg = state.transform_regression(\"Confirmed\", \"Confirmed_New\", method=\"linear\").mark_line()\n",
    "(state+reg).interactive()"
   ]
  }
 ],
 "metadata": {
  "kernelspec": {
   "display_name": "Python 3",
   "language": "python",
   "name": "python3"
  },
  "language_info": {
   "codemirror_mode": {
    "name": "ipython",
    "version": 3
   },
   "file_extension": ".py",
   "mimetype": "text/x-python",
   "name": "python",
   "nbconvert_exporter": "python",
   "pygments_lexer": "ipython3",
   "version": "3.7.6"
  }
 },
 "nbformat": 4,
 "nbformat_minor": 4
}
