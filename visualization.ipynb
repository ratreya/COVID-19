{
 "cells": [
  {
   "cell_type": "code",
   "execution_count": 399,
   "metadata": {},
   "outputs": [],
   "source": [
    "import pandas as pd\n",
    "import numpy as np\n",
    "import altair as alt\n",
    "\n",
    "# Set up some global config and variables\n",
    "alt.renderers.enable('default')\n",
    "pd.options.mode.chained_assignment = None\n",
    "\n",
    "def align(data):\n",
    "    # Find the index with the lowest non-zero starting case number\n",
    "    base = min(((idx, val) for (idx, val) in enumerate(data) if val[0] > 0), key = lambda x: x[1][0])[0]\n",
    "\n",
    "    # Align everyone else to this base\n",
    "    for i in [x for x in range(len(data)) if x != base]:\n",
    "        padding = min(((x[0], abs(x[1] - data[i][0])) for x in enumerate(data[base])), key = lambda x: x[1])[0]\n",
    "        data[i] = [0 for i in range(padding)] + data[i]\n",
    "    return data\n",
    "\n",
    "# Takes a list of numbers and returns a list with number of rows to double\n",
    "def doubling(data):\n",
    "    doubling = []\n",
    "    for i in reversed(range(len(data))):\n",
    "        index = -1\n",
    "        for j in reversed(range(i)):\n",
    "            if data[i] >= data[j]*2:\n",
    "                index = j\n",
    "                break\n",
    "        doubling.append(i - index if index > 0 else np.nan)\n",
    "    return list(reversed(doubling))\n",
    "\n",
    "def streamgraph(df, by, value, sort, limit, stack='center'):\n",
    "    zeros = df.groupby('Date', as_index=False).sum()\n",
    "    zeros = zeros[zeros[value] <= 10].Date\n",
    "    df = df[~df['Date'].isin(zeros)]\n",
    "    \n",
    "    df.loc[df[value]<0, value] = 0\n",
    "    order = df[df['Date'] == days[-1]].sort_values(sort, ascending=False)\n",
    "    top = order[by].values.tolist()\n",
    "    data = df[df[by].isin(top[:limit])]\n",
    "    others = df[df[by].isin(top[limit:])].groupby('Date', as_index=False).sum()\n",
    "    others.insert(0, by, 'Others')\n",
    "    data = data.append(others, ignore_index=True)\n",
    "    selection = alt.selection_multi(fields=[by], bind='legend')\n",
    "\n",
    "    return alt.Chart(data).mark_area().encode(\n",
    "        alt.X('Date:T', axis=alt.Axis(domain=False, format='%d %b', tickSize=0)),\n",
    "        alt.Y(value + ':Q', stack=stack, axis=alt.Axis(title=' '.join(value.split('_'))) if stack=='zero' else None),\n",
    "        alt.Color(by + ':N', scale=alt.Scale(scheme='tableau20'), sort=top[:limit]),\n",
    "        order=alt.Order('sort:Q'),\n",
    "        tooltip=alt.Tooltip(['Date:T', by, value]),\n",
    "        opacity=alt.condition(selection, alt.value(1), alt.value(0.3))\n",
    "    ).transform_lookup(\n",
    "        lookup=by,\n",
    "        from_=alt.LookupData(order, by, [sort]),\n",
    "        as_=['sort']\n",
    "    ).properties(\n",
    "        width=1200,\n",
    "        height=800\n",
    "    ).add_selection(selection)\n",
    "\n",
    "def nontimegraph(df, by, value, sort, limit, highlight='', addon=[], xlog=True, ylog=True, rect=None):\n",
    "    top = df[df['Date'] == days[-1]].sort_values(sort, ascending=False)[by].values.tolist()[:limit] + addon\n",
    "    data = df[(df[value] > 1) & (df['Confirmed'] > 100) & (df[by].isin(top))]\n",
    "    #data.loc[:,value] = data[value].rolling(window=3, win_type='gaussian').mean(std=3)\n",
    "    selection = alt.selection_multi(fields=[by], bind='legend', init=[{by: highlight}], empty='none', nearest=True)\n",
    "\n",
    "    # Background\n",
    "    line = alt.Chart(data).mark_line().encode(\n",
    "        alt.X('Confirmed:Q', scale=alt.Scale(type='log' if xlog else 'linear'), axis=alt.Axis(title='Cumulative Cases')),\n",
    "        alt.Y(value + ':Q', scale=alt.Scale(type='log' if ylog else 'linear'), axis=alt.Axis(title=' '.join(value.split('_')))),\n",
    "        color=alt.Color(by+':N', scale=alt.Scale(scheme='category10' if highlight == '' else 'set2')),\n",
    "        size=alt.value(1),\n",
    "        tooltip=alt.Tooltip(['Date:N', by, value])\n",
    "    ).transform_filter(~selection)\n",
    "    point = line.mark_circle().encode(\n",
    "        alt.X('Confirmed:Q', scale=alt.Scale(type='log' if xlog else 'linear')),\n",
    "        alt.Y(value + ':Q', scale=alt.Scale(type='log' if ylog else 'linear')),\n",
    "        color=alt.Color(by+':N'),\n",
    "        size=alt.value(60)\n",
    "    ).transform_filter(\n",
    "        alt.datum.Date == days[-1]\n",
    "    ).transform_filter(~selection)\n",
    "    text = point.mark_text(\n",
    "        align='left',\n",
    "        dx=7,  # Nudges text to right so it doesn't appear on top of the bar\n",
    "    ).encode(\n",
    "        text=by+':N',\n",
    "        size=alt.value(10),\n",
    "        color=alt.Color(by+':N')\n",
    "    ).transform_filter(~selection)\n",
    "    background = line+point+text\n",
    "\n",
    "    # Foreground\n",
    "    line = alt.Chart(data).mark_line().encode(\n",
    "        alt.X('Confirmed:Q', scale=alt.Scale(type='log' if xlog else 'linear'), axis=alt.Axis(title='Cumulative Cases')),\n",
    "        alt.Y(value + ':Q', scale=alt.Scale(type='log' if ylog else 'linear'), axis=alt.Axis(title=' '.join(value.split('_')))),\n",
    "        color=alt.value('black'),\n",
    "        size=alt.value(3),\n",
    "        tooltip=alt.Tooltip(['Date:N', by, value])\n",
    "    ).transform_filter(selection)\n",
    "    point = line.mark_circle().encode(\n",
    "        alt.X('Confirmed:Q', scale=alt.Scale(type='log' if xlog else 'linear')),\n",
    "        alt.Y(value + ':Q', scale=alt.Scale(type='log' if ylog else 'linear')),\n",
    "        color=alt.value('black'),\n",
    "        size=alt.value(100)\n",
    "    ).transform_filter(\n",
    "        alt.datum.Date == days[-1]\n",
    "    ).transform_filter(selection)\n",
    "    text = point.mark_text(\n",
    "        align='left',\n",
    "        dx=7,  # Nudges text to right so it doesn't appear on top of the bar\n",
    "    ).encode(\n",
    "        text=by+':N',\n",
    "        size=alt.value(15),\n",
    "        color=alt.value('black')\n",
    "    ).transform_filter(selection)\n",
    "    foreground = line+point+text\n",
    "\n",
    "    start = df[(df[by] == highlight) & (df['Date'] == rect[0])] if rect is not None else pd.DataFrame()\n",
    "    end = df[(df[by] == highlight) & (df['Date'] == rect[1])] if rect is not None else pd.DataFrame()\n",
    "    if not start.empty and not end.empty:\n",
    "        marks = pd.DataFrame([{\"start_x\": start.Confirmed.values[0], \"end_x\": end.Confirmed.values[0], \"start_y\": start[value].values[0], \"end_y\": end[value].values[0]}])\n",
    "        rule_rect = alt.Chart(marks).mark_rect(opacity=0.3).encode(x='start_x:Q', x2='end_x:Q')\n",
    "        rule_point_1 = rule_rect.mark_circle().encode(\n",
    "            alt.X('start_x:Q', scale=alt.Scale(type='log' if xlog else 'linear')),\n",
    "            alt.Y('start_y:Q', scale=alt.Scale(type='log' if ylog else 'linear')),\n",
    "            color=alt.value('grey'),\n",
    "            size=alt.value(60)\n",
    "        )\n",
    "        rule_point_2 = rule_rect.mark_circle().encode(\n",
    "            alt.X('end_x:Q', scale=alt.Scale(type='log' if xlog else 'linear')),\n",
    "            alt.Y('end_y:Q', scale=alt.Scale(type='log' if ylog else 'linear')),\n",
    "            color=alt.value('grey'),\n",
    "            size=alt.value(60)\n",
    "        )\n",
    "        rule_text_1 = rule_point_1.mark_text(\n",
    "            align='left',\n",
    "            angle=90,\n",
    "            dx=10\n",
    "        ).encode(\n",
    "            text=alt.value(rect[0]),\n",
    "            size=alt.value(15),\n",
    "            color=alt.value('black')\n",
    "        )\n",
    "        rule_text_2 = rule_point_2.mark_text(\n",
    "            align='left',\n",
    "            angle=90,\n",
    "            dx=10\n",
    "        ).encode(\n",
    "            text=alt.value(rect[1]),\n",
    "            size=alt.value(15),\n",
    "            color=alt.value('black')\n",
    "        )\n",
    "        return (background+foreground+rule_rect+rule_point_1+rule_point_2+rule_text_1+rule_text_2).properties(\n",
    "            width=1200,\n",
    "            height=800\n",
    "        ).add_selection(selection)\n",
    "    else:\n",
    "        return (background+foreground).properties(\n",
    "            width=1200, \n",
    "            height=800\n",
    "        ).add_selection(selection)        "
   ]
  },
  {
   "cell_type": "code",
   "execution_count": 400,
   "metadata": {},
   "outputs": [],
   "source": [
    "# Read the raw data\n",
    "df = pd.read_csv('jhu-daily-reports.csv')\n",
    "df['Active']  = df.Confirmed - (df.Deaths + df.Recovered)\n",
    "samples = df[['Date', 'Country']].groupby('Date').Country.nunique()\n",
    "days = samples[samples > 1].index.tolist()\n",
    "df = df[df['Date'].isin(days)]"
   ]
  },
  {
   "cell_type": "markdown",
   "metadata": {},
   "source": [
    "# Global Data Visualizations"
   ]
  },
  {
   "cell_type": "code",
   "execution_count": 401,
   "metadata": {},
   "outputs": [
    {
     "data": {
      "application/vnd.jupyter.widget-view+json": {
       "model_id": "753bb1b057ea4ea380e1802b19a740aa",
       "version_major": 2,
       "version_minor": 0
      },
      "text/plain": [
       "interactive(children=(Dropdown(description='value', index=4, options=('Active', 'Confirmed', 'Deaths', 'Recove…"
      ]
     },
     "metadata": {},
     "output_type": "display_data"
    }
   ],
   "source": [
    "from ipywidgets import interact\n",
    "\n",
    "# Aggregate at country level\n",
    "country_level = df.groupby(['Country', 'Date'], as_index=False).sum()\n",
    "\n",
    "# Drop 03-22-2020 since county breakdown started from here and so there is break in continuity\n",
    "country_level = country_level.drop(country_level[country_level['Date'] == '03-22-2020'].index)\n",
    "country_level = country_level.drop(country_level[country_level['Date'] == '03-12-2020'].index)\n",
    "country_level = country_level.drop(country_level[country_level['Date'] == '02-12-2020'].index)\n",
    "\n",
    "@interact(value=['Active', 'Confirmed', 'Deaths', 'Recovered', 'Confirmed_New', 'Deaths_New', 'Recovered_New'], sort=['Active', 'Confirmed', 'Deaths', 'Recovered', 'Confirmed_New', 'Deaths_New', 'Recovered_New'], limit=(0,50,1))\n",
    "def chart(value='Confirmed_New', sort='Active', limit=10, zero=True):\n",
    "    return streamgraph(country_level, 'Country', value, sort, limit, 'zero' if zero else 'center').interactive()"
   ]
  },
  {
   "cell_type": "code",
   "execution_count": 402,
   "metadata": {},
   "outputs": [
    {
     "data": {
      "application/vnd.jupyter.widget-view+json": {
       "model_id": "6657fe3227d541b189fddfd53b216c1b",
       "version_major": 2,
       "version_minor": 0
      },
      "text/plain": [
       "interactive(children=(Dropdown(description='value', index=4, options=('Active', 'Confirmed', 'Deaths', 'Recove…"
      ]
     },
     "metadata": {},
     "output_type": "display_data"
    }
   ],
   "source": [
    "country_level = country_level[country_level['Country'].isin(country_level[country_level['Confirmed'] > 10000]['Country'].unique())]\n",
    "countries = country_level[country_level['Confirmed'] > 1000]['Country'].unique().tolist()\n",
    "\n",
    "@interact(value=['Active', 'Confirmed', 'Deaths', 'Recovered', 'Confirmed_New', 'Deaths_New', 'Recovered_New'], sort=['Active', 'Confirmed', 'Deaths', 'Recovered', 'Confirmed_New', 'Deaths_New', 'Recovered_New'], limit=(1,50,1), add=countries, start=reversed(days), end=reversed(days))\n",
    "def chart(value='Confirmed_New', sort='Active', limit=10, highlight='India', start='04-16-2020', end='05-01-2020', xlog=True, ylog=True):\n",
    "    if start is not None and end is not None:\n",
    "        rect = (start, end)\n",
    "    return nontimegraph(country_level, 'Country', value, sort, limit, highlight=highlight, xlog=xlog, ylog=ylog, rect=(None, None)).interactive()"
   ]
  },
  {
   "cell_type": "markdown",
   "metadata": {},
   "source": [
    "# State Level Visualizations"
   ]
  },
  {
   "cell_type": "code",
   "execution_count": 403,
   "metadata": {},
   "outputs": [
    {
     "data": {
      "application/vnd.jupyter.widget-view+json": {
       "model_id": "c3f9c283dc2445ccb079aab7d90f30fa",
       "version_major": 2,
       "version_minor": 0
      },
      "text/plain": [
       "interactive(children=(Dropdown(description='country', index=7, options=('Australia', 'Canada', 'China', 'Denma…"
      ]
     },
     "metadata": {},
     "output_type": "display_data"
    }
   ],
   "source": [
    "countries = df[(df['State'].notnull()) & (df['Confirmed'] > 1000)]['Country'].unique()\n",
    "\n",
    "def state_data(country):\n",
    "    state_level = df[df['Country'] == country].groupby(['State', 'Date'], as_index=False).sum()\n",
    "    if country == 'US':\n",
    "        # Drop 03-22-2020 since county breakdown started from here and so there is break in continuity\n",
    "        state_level = state_level.drop(state_level[state_level['Date'] == '03-22-2020'].index)\n",
    "        state_level = state_level.drop(state_level[state_level['Date'] == '03-18-2020'].index)\n",
    "        state_level = state_level[state_level['Date'] >= '03-01-2020']\n",
    "    if country == 'India':\n",
    "        state_level = state_level[state_level['Date'] >= '03-01-2020']\n",
    "    return state_level\n",
    "\n",
    "@interact(country=countries, value=['Active', 'Confirmed', 'Deaths', 'Recovered', 'Confirmed_New', 'Deaths_New', 'Recovered_New'], sort=['Active', 'Confirmed', 'Deaths', 'Recovered', 'Confirmed_New', 'Deaths_New', 'Recovered_New'], limit=(0,50,1))\n",
    "def chart(country='US', value='Confirmed_New', sort='Active', limit=10, zero=True):\n",
    "    return streamgraph(state_data(country), 'State', value, sort, limit, 'zero' if zero else 'center').interactive()"
   ]
  },
  {
   "cell_type": "code",
   "execution_count": 404,
   "metadata": {},
   "outputs": [
    {
     "data": {
      "application/vnd.jupyter.widget-view+json": {
       "model_id": "142d0668d9c34f9389b0c36455433b1d",
       "version_major": 2,
       "version_minor": 0
      },
      "text/plain": [
       "interactive(children=(Dropdown(description='country', index=7, options=('Australia', 'Canada', 'China', 'Denma…"
      ]
     },
     "metadata": {},
     "output_type": "display_data"
    }
   ],
   "source": [
    "@interact(country=countries, value=['Active', 'Confirmed', 'Deaths', 'Recovered', 'Confirmed_New', 'Deaths_New', 'Recovered_New'], sort=['Active', 'Confirmed', 'Deaths', 'Recovered', 'Confirmed_New', 'Deaths_New', 'Recovered_New'], limit=(1,50,1))\n",
    "def chart(country='US', value='Confirmed_New', sort='Active', limit=10, xlog=True, ylog=True):\n",
    "    return nontimegraph(state_data(country), 'State', value, sort, limit, addon=['NE', 'MN', 'CA'], xlog=xlog, ylog=ylog).interactive()"
   ]
  },
  {
   "cell_type": "markdown",
   "metadata": {},
   "source": [
    "# US County Level Visualizations"
   ]
  },
  {
   "cell_type": "code",
   "execution_count": 405,
   "metadata": {},
   "outputs": [
    {
     "data": {
      "application/vnd.jupyter.widget-view+json": {
       "model_id": "440b57745cd84b6c9b736456d2be985d",
       "version_major": 2,
       "version_minor": 0
      },
      "text/plain": [
       "interactive(children=(Dropdown(description='state', index=3, options=('AL', 'AR', 'AZ', 'CA', 'CO', 'CT', 'DC'…"
      ]
     },
     "metadata": {},
     "output_type": "display_data"
    }
   ],
   "source": [
    "us_state_level = state_data('US')\n",
    "states=us_state_level[us_state_level['Confirmed'] > 1000]['State'].unique()\n",
    "@interact(value=['Active', 'Confirmed', 'Deaths', 'Recovered', 'Confirmed_New', 'Deaths_New', 'Recovered_New'], sort=['Active', 'Confirmed', 'Deaths', 'Recovered', 'Confirmed_New', 'Deaths_New', 'Recovered_New'], limit=(0,50,1), state=states)\n",
    "def chart(state='CA', value='Confirmed_New', sort='Active', limit=10, zero=True):\n",
    "    county_level = df[df['State'] == state].fillna({'County': state}).groupby(['County', 'Date'], as_index=False).sum()\n",
    "    return streamgraph(county_level, 'County', value, sort, limit, 'zero' if zero else 'center').interactive()"
   ]
  },
  {
   "cell_type": "code",
   "execution_count": 406,
   "metadata": {},
   "outputs": [
    {
     "data": {
      "application/vnd.jupyter.widget-view+json": {
       "model_id": "0f7e3030d5ed4e3da950dfc40acdc4a2",
       "version_major": 2,
       "version_minor": 0
      },
      "text/plain": [
       "interactive(children=(Dropdown(description='state', index=3, options=('AL', 'AR', 'AZ', 'CA', 'CO', 'CT', 'DC'…"
      ]
     },
     "metadata": {},
     "output_type": "display_data"
    }
   ],
   "source": [
    "states=us_state_level[us_state_level['Confirmed'] > 1000]['State'].unique()\n",
    "\n",
    "@interact(value=['Active', 'Confirmed', 'Deaths', 'Recovered', 'Confirmed_New', 'Deaths_New', 'Recovered_New'], sort=['Active', 'Confirmed', 'Deaths', 'Recovered', 'Confirmed_New', 'Deaths_New', 'Recovered_New'], limit=(1,50,1), state=states)\n",
    "def chart(state='CA', value='Confirmed_New', sort='Confirmed', limit=10, xlog=True, ylog=True):\n",
    "    county_level = df[df['State'] == state].fillna({'County': state}).groupby(['County', 'Date'], as_index=False).sum()\n",
    "    return nontimegraph(county_level, 'County', value, sort, limit, xlog=xlog, ylog=ylog).interactive()"
   ]
  },
  {
   "cell_type": "code",
   "execution_count": 422,
   "metadata": {},
   "outputs": [
    {
     "data": {
      "application/vnd.jupyter.widget-view+json": {
       "model_id": "05d4cb98c05b4064b75403a06fbe73fb",
       "version_major": 2,
       "version_minor": 0
      },
      "text/plain": [
       "interactive(children=(Dropdown(description='value', index=4, options=('Active', 'Confirmed', 'Deaths', 'Recove…"
      ]
     },
     "metadata": {},
     "output_type": "display_data"
    }
   ],
   "source": [
    "@interact(value=['Active', 'Confirmed', 'Deaths', 'Recovered', 'Confirmed_New', 'Deaths_New', 'Recovered_New'], sort=['Active', 'Confirmed', 'Deaths', 'Recovered', 'Confirmed_New', 'Deaths_New', 'Recovered_New'], limit=(1,50,1), state = us_state_level['State'].unique())\n",
    "def chart(value='Confirmed_New', sort='Confirmed', limit=10, xlog=True, ylog=True):\n",
    "    df['Area'] = df.County + ', ' + df.State\n",
    "    county_level = df.groupby(['Area', 'Date'], as_index=False).sum()\n",
    "    return nontimegraph(county_level, 'Area', value, sort, limit, xlog=xlog, ylog=ylog).interactive()"
   ]
  },
  {
   "cell_type": "markdown",
   "metadata": {},
   "source": [
    "# Cross Country Comparisons"
   ]
  },
  {
   "cell_type": "code",
   "execution_count": 408,
   "metadata": {},
   "outputs": [
    {
     "data": {
      "application/vnd.jupyter.widget-view+json": {
       "model_id": "abef9eb8f79944178a6c8905c091159e",
       "version_major": 2,
       "version_minor": 0
      },
      "text/plain": [
       "interactive(children=(Dropdown(description='country', index=4, options=('Australia', 'Canada', 'China', 'Denma…"
      ]
     },
     "metadata": {},
     "output_type": "display_data"
    }
   ],
   "source": [
    "@interact(country=countries, value=['Active', 'Confirmed', 'Deaths', 'Recovered', 'Confirmed_New', 'Deaths_New', 'Recovered_New'], sort=['Active', 'Confirmed', 'Deaths', 'Recovered', 'Confirmed_New', 'Deaths_New', 'Recovered_New', 'Slope'], limit=(1,50,1))\n",
    "def chart(country='India', value='Confirmed_New', sort='Active', limit=10, xlog=True, ylog=True):\n",
    "    data = state_data(country)\n",
    "    us = state_data('US')\n",
    "    data = pd.concat([data, us[us['State'] == 'NY']])\n",
    "    return nontimegraph(data, 'State', value, sort, limit, xlog=xlog, ylog=ylog).interactive()"
   ]
  },
  {
   "cell_type": "markdown",
   "metadata": {},
   "source": [
    "# Slope Comparisons"
   ]
  },
  {
   "cell_type": "code",
   "execution_count": 409,
   "metadata": {},
   "outputs": [],
   "source": [
    "from scipy import stats\n",
    "from altair import datum\n",
    "\n",
    "def slope_chart(data, by, offset, xscale='linear', limit=400, scale=1, value='Confirmed_New', window=7):\n",
    "    source = data[data['Date'] == days[-1]]\n",
    "    for var in source[by].unique():\n",
    "        values = data[data[by] == var].sort_values('Date').tail(window)[['Confirmed', value]]\n",
    "        slope, intercept, r_value, p_value, std_err = stats.linregress(values.Confirmed, values[value])\n",
    "        source.loc[source[by] == var, 'Slope'] = slope\n",
    "    source.fillna(0, inplace=True)\n",
    "    source = source[source[value] > limit]\n",
    "\n",
    "    base = alt.Chart(source).mark_point(filled=True, stroke='grey').encode(\n",
    "        alt.X('Confirmed:Q', scale=alt.Scale(type=xscale), axis=alt.Axis(offset=offset)),\n",
    "        y='Slope:Q',\n",
    "        color=alt.Color(by+':N', scale=alt.Scale(scheme='category20'), legend=alt.Legend(columns=2, clipHeight=20, padding=10)),\n",
    "        size=alt.Size(value+':Q', scale=alt.Scale(domain=[source.Confirmed_New.min(), source.Confirmed_New.max()], range=[100*scale, 3000*scale])),\n",
    "        tooltip=[by, 'Confirmed', 'Slope', value]\n",
    "    )\n",
    "    text = base.mark_text().encode(\n",
    "        text=by+':N',\n",
    "        size=alt.value(12),\n",
    "        color=alt.value('black')\n",
    "    ).transform_filter(datum[value] > limit*2)\n",
    "    regression = base.transform_regression('Confirmed', 'Slope', method=\"poly\", order=1).mark_line(strokeDash=[6,8]).encode(color=alt.value('grey'), size=alt.value(2))\n",
    "\n",
    "    return (base+text+regression)"
   ]
  },
  {
   "cell_type": "code",
   "execution_count": 420,
   "metadata": {},
   "outputs": [
    {
     "data": {
      "text/html": [
       "\n",
       "<div id=\"altair-viz-d6b20ddf3671470295c047951978789b\"></div>\n",
       "<script type=\"text/javascript\">\n",
       "  (function(spec, embedOpt){\n",
       "    const outputDiv = document.getElementById(\"altair-viz-d6b20ddf3671470295c047951978789b\");\n",
       "    const paths = {\n",
       "      \"vega\": \"https://cdn.jsdelivr.net/npm//vega@5?noext\",\n",
       "      \"vega-lib\": \"https://cdn.jsdelivr.net/npm//vega-lib?noext\",\n",
       "      \"vega-lite\": \"https://cdn.jsdelivr.net/npm//vega-lite@4.0.2?noext\",\n",
       "      \"vega-embed\": \"https://cdn.jsdelivr.net/npm//vega-embed@6?noext\",\n",
       "    };\n",
       "\n",
       "    function loadScript(lib) {\n",
       "      return new Promise(function(resolve, reject) {\n",
       "        var s = document.createElement('script');\n",
       "        s.src = paths[lib];\n",
       "        s.async = true;\n",
       "        s.onload = () => resolve(paths[lib]);\n",
       "        s.onerror = () => reject(`Error loading script: ${paths[lib]}`);\n",
       "        document.getElementsByTagName(\"head\")[0].appendChild(s);\n",
       "      });\n",
       "    }\n",
       "\n",
       "    function showError(err) {\n",
       "      outputDiv.innerHTML = `<div class=\"error\" style=\"color:red;\">${err}</div>`;\n",
       "      throw err;\n",
       "    }\n",
       "\n",
       "    function displayChart(vegaEmbed) {\n",
       "      vegaEmbed(outputDiv, spec, embedOpt)\n",
       "        .catch(err => showError(`Javascript Error: ${err.message}<br>This usually means there's a typo in your chart specification. See the javascript console for the full traceback.`));\n",
       "    }\n",
       "\n",
       "    if(typeof define === \"function\" && define.amd) {\n",
       "      requirejs.config({paths});\n",
       "      require([\"vega-embed\"], displayChart, err => showError(`Error loading script: ${err.message}`));\n",
       "    } else if (typeof vegaEmbed === \"function\") {\n",
       "      displayChart(vegaEmbed);\n",
       "    } else {\n",
       "      loadScript(\"vega\")\n",
       "        .then(() => loadScript(\"vega-lite\"))\n",
       "        .then(() => loadScript(\"vega-embed\"))\n",
       "        .catch(showError)\n",
       "        .then(() => displayChart(vegaEmbed));\n",
       "    }\n",
       "  })({\"config\": {\"view\": {\"continuousWidth\": 400, \"continuousHeight\": 300}}, \"layer\": [{\"mark\": {\"type\": \"point\", \"filled\": true, \"stroke\": \"grey\"}, \"encoding\": {\"color\": {\"type\": \"nominal\", \"field\": \"State\", \"legend\": {\"clipHeight\": 20, \"columns\": 2, \"padding\": 10}, \"scale\": {\"scheme\": \"category20\"}}, \"size\": {\"type\": \"quantitative\", \"field\": \"Confirmed_New\", \"scale\": {\"domain\": [404.0, 2938.0], \"range\": [100, 3000]}}, \"tooltip\": [{\"type\": \"nominal\", \"field\": \"State\"}, {\"type\": \"quantitative\", \"field\": \"Confirmed\"}, {\"type\": \"quantitative\", \"field\": \"Slope\"}, {\"type\": \"quantitative\", \"field\": \"Confirmed_New\"}], \"x\": {\"type\": \"quantitative\", \"axis\": {\"offset\": -364}, \"field\": \"Confirmed\", \"scale\": {\"type\": \"linear\"}}, \"y\": {\"type\": \"quantitative\", \"field\": \"Slope\"}}, \"selection\": {\"selector480\": {\"type\": \"interval\", \"bind\": \"scales\", \"encodings\": [\"x\", \"y\"]}}}, {\"mark\": \"text\", \"encoding\": {\"color\": {\"value\": \"black\"}, \"size\": {\"value\": 12}, \"text\": {\"type\": \"nominal\", \"field\": \"State\"}, \"tooltip\": [{\"type\": \"nominal\", \"field\": \"State\"}, {\"type\": \"quantitative\", \"field\": \"Confirmed\"}, {\"type\": \"quantitative\", \"field\": \"Slope\"}, {\"type\": \"quantitative\", \"field\": \"Confirmed_New\"}], \"x\": {\"type\": \"quantitative\", \"axis\": {\"offset\": -364}, \"field\": \"Confirmed\", \"scale\": {\"type\": \"linear\"}}, \"y\": {\"type\": \"quantitative\", \"field\": \"Slope\"}}, \"transform\": [{\"filter\": \"(datum['Confirmed_New'] > 800)\"}]}, {\"mark\": {\"type\": \"line\", \"strokeDash\": [6, 8]}, \"encoding\": {\"color\": {\"value\": \"grey\"}, \"size\": {\"value\": 2}, \"tooltip\": [{\"type\": \"nominal\", \"field\": \"State\"}, {\"type\": \"quantitative\", \"field\": \"Confirmed\"}, {\"type\": \"quantitative\", \"field\": \"Slope\"}, {\"type\": \"quantitative\", \"field\": \"Confirmed_New\"}], \"x\": {\"type\": \"quantitative\", \"axis\": {\"offset\": -364}, \"field\": \"Confirmed\", \"scale\": {\"type\": \"linear\"}}, \"y\": {\"type\": \"quantitative\", \"field\": \"Slope\"}}, \"transform\": [{\"on\": \"Confirmed\", \"regression\": \"Slope\", \"method\": \"poly\", \"order\": 1}]}], \"data\": {\"name\": \"data-23f45f70c9648bf7894372e5f707d0db\"}, \"height\": 800, \"width\": 1200, \"$schema\": \"https://vega.github.io/schema/vega-lite/v4.0.2.json\", \"datasets\": {\"data-23f45f70c9648bf7894372e5f707d0db\": [{\"State\": \"AZ\", \"Date\": \"05-08-2020\", \"Confirmed\": 10526.0, \"Deaths\": 517.0, \"Recovered\": 0.0, \"Confirmed_New\": 581.0, \"Deaths_New\": 67.0, \"Recovered_New\": 0.0, \"Active\": 10009.0, \"Slope\": 0.0735144603937181}, {\"State\": \"CA\", \"Date\": \"05-08-2020\", \"Confirmed\": 63779.0, \"Deaths\": 2613.0, \"Recovered\": 0.0, \"Confirmed_New\": 1631.0, \"Deaths_New\": 78.0, \"Recovered_New\": 0.0, \"Active\": 61166.0, \"Slope\": 0.046775843053475624}, {\"State\": \"CO\", \"Date\": \"05-08-2020\", \"Confirmed\": 18827.0, \"Deaths\": 960.0, \"Recovered\": 0.0, \"Confirmed_New\": 457.0, \"Deaths_New\": 16.0, \"Recovered_New\": 0.0, \"Active\": 17867.0, \"Slope\": 0.044974302934479106}, {\"State\": \"CT\", \"Date\": \"05-08-2020\", \"Confirmed\": 32411.0, \"Deaths\": 2874.0, \"Recovered\": 0.0, \"Confirmed_New\": 627.0, \"Deaths_New\": 77.0, \"Recovered_New\": 0.0, \"Active\": 29537.0, \"Slope\": 0.11894032627613327}, {\"State\": \"GA\", \"Date\": \"05-08-2020\", \"Confirmed\": 32181.0, \"Deaths\": 1400.0, \"Recovered\": 0.0, \"Confirmed_New\": 563.0, \"Deaths_New\": 45.0, \"Recovered_New\": 0.0, \"Active\": 30781.0, \"Slope\": 0.01989609029421278}, {\"State\": \"IL\", \"Date\": \"05-08-2020\", \"Confirmed\": 73760.0, \"Deaths\": 3241.0, \"Recovered\": 0.0, \"Confirmed_New\": 2889.0, \"Deaths_New\": 130.0, \"Recovered_New\": 0.0, \"Active\": 70519.0, \"Slope\": 0.010987656939245674}, {\"State\": \"IN\", \"Date\": \"05-08-2020\", \"Confirmed\": 23146.0, \"Deaths\": 1447.0, \"Recovered\": 0.0, \"Confirmed_New\": 643.0, \"Deaths_New\": 33.0, \"Recovered_New\": 0.0, \"Active\": 21699.0, \"Slope\": 0.012760828866747908}, {\"State\": \"MA\", \"Date\": \"05-08-2020\", \"Confirmed\": 75333.0, \"Deaths\": 4702.0, \"Recovered\": 0.0, \"Confirmed_New\": 1612.0, \"Deaths_New\": 150.0, \"Recovered_New\": 0.0, \"Active\": 70631.0, \"Slope\": -0.007366045928911037}, {\"State\": \"MD\", \"Date\": \"05-08-2020\", \"Confirmed\": 30485.0, \"Deaths\": 1560.0, \"Recovered\": 0.0, \"Confirmed_New\": 1111.0, \"Deaths_New\": 57.0, \"Recovered_New\": 0.0, \"Active\": 28925.0, \"Slope\": 0.03467248766704593}, {\"State\": \"MI\", \"Date\": \"05-08-2020\", \"Confirmed\": 46386.0, \"Deaths\": 4399.0, \"Recovered\": 0.0, \"Confirmed_New\": 641.0, \"Deaths_New\": 54.0, \"Recovered_New\": 0.0, \"Active\": 41987.0, \"Slope\": 0.006253494580973177}, {\"State\": \"MN\", \"Date\": \"05-08-2020\", \"Confirmed\": 10088.0, \"Deaths\": 534.0, \"Recovered\": 0.0, \"Confirmed_New\": 723.0, \"Deaths_New\": 26.0, \"Recovered_New\": 0.0, \"Active\": 9554.0, \"Slope\": 0.08306360397151613}, {\"State\": \"MS\", \"Date\": \"05-08-2020\", \"Confirmed\": 9090.0, \"Deaths\": 409.0, \"Recovered\": 0.0, \"Confirmed_New\": 404.0, \"Deaths_New\": 13.0, \"Recovered_New\": 0.0, \"Active\": 8681.0, \"Slope\": 0.10144265336828895}, {\"State\": \"NC\", \"Date\": \"05-08-2020\", \"Confirmed\": 14006.0, \"Deaths\": 530.0, \"Recovered\": 0.0, \"Confirmed_New\": 466.0, \"Deaths_New\": 17.0, \"Recovered_New\": 0.0, \"Active\": 13476.0, \"Slope\": 0.07902769397747113}, {\"State\": \"NE\", \"Date\": \"05-08-2020\", \"Confirmed\": 7818.0, \"Deaths\": 90.0, \"Recovered\": 0.0, \"Confirmed_New\": 484.0, \"Deaths_New\": -1.0, \"Recovered_New\": 0.0, \"Active\": 7728.0, \"Slope\": 0.09879970385229919}, {\"State\": \"NJ\", \"Date\": \"05-08-2020\", \"Confirmed\": 135840.0, \"Deaths\": 8960.0, \"Recovered\": 0.0, \"Confirmed_New\": 1849.0, \"Deaths_New\": 153.0, \"Recovered_New\": 0.0, \"Active\": 126880.0, \"Slope\": -0.07059656302289376}, {\"State\": \"NY\", \"Date\": \"05-08-2020\", \"Confirmed\": 330407.0, \"Deaths\": 26243.0, \"Recovered\": 0.0, \"Confirmed_New\": 2938.0, \"Deaths_New\": 99.0, \"Recovered_New\": 0.0, \"Active\": 304164.0, \"Slope\": -0.05874578056864974}, {\"State\": \"OH\", \"Date\": \"05-08-2020\", \"Confirmed\": 23016.0, \"Deaths\": 1306.0, \"Recovered\": 0.0, \"Confirmed_New\": 885.0, \"Deaths_New\": 35.0, \"Recovered_New\": 0.0, \"Active\": 21710.0, \"Slope\": 0.059088983618197005}, {\"State\": \"PA\", \"Date\": \"05-08-2020\", \"Confirmed\": 57371.0, \"Deaths\": 3715.0, \"Recovered\": 0.0, \"Confirmed_New\": 1415.0, \"Deaths_New\": 126.0, \"Recovered_New\": 0.0, \"Active\": 53656.0, \"Slope\": 0.05842831243998125}, {\"State\": \"TX\", \"Date\": \"05-08-2020\", \"Confirmed\": 37246.0, \"Deaths\": 1025.0, \"Recovered\": 0.0, \"Confirmed_New\": 1210.0, \"Deaths_New\": 40.0, \"Recovered_New\": 0.0, \"Active\": 36221.0, \"Slope\": 0.010645275694591148}, {\"State\": \"VA\", \"Date\": \"05-08-2020\", \"Confirmed\": 22342.0, \"Deaths\": 812.0, \"Recovered\": 0.0, \"Confirmed_New\": 772.0, \"Deaths_New\": 43.0, \"Recovered_New\": 0.0, \"Active\": 21530.0, \"Slope\": 0.01726354032050986}]}}, {\"mode\": \"vega-lite\"});\n",
       "</script>"
      ],
      "text/plain": [
       "alt.LayerChart(...)"
      ]
     },
     "execution_count": 420,
     "metadata": {},
     "output_type": "execute_result"
    }
   ],
   "source": [
    "data = state_data('US')\n",
    "slope_chart(data, 'State', -364).properties(\n",
    "    width=1200,\n",
    "    height=800\n",
    ").interactive()"
   ]
  },
  {
   "cell_type": "code",
   "execution_count": 411,
   "metadata": {},
   "outputs": [
    {
     "data": {
      "text/html": [
       "\n",
       "<div id=\"altair-viz-e8b6b270cb63480a917542475a8d3032\"></div>\n",
       "<script type=\"text/javascript\">\n",
       "  (function(spec, embedOpt){\n",
       "    const outputDiv = document.getElementById(\"altair-viz-e8b6b270cb63480a917542475a8d3032\");\n",
       "    const paths = {\n",
       "      \"vega\": \"https://cdn.jsdelivr.net/npm//vega@5?noext\",\n",
       "      \"vega-lib\": \"https://cdn.jsdelivr.net/npm//vega-lib?noext\",\n",
       "      \"vega-lite\": \"https://cdn.jsdelivr.net/npm//vega-lite@4.0.2?noext\",\n",
       "      \"vega-embed\": \"https://cdn.jsdelivr.net/npm//vega-embed@6?noext\",\n",
       "    };\n",
       "\n",
       "    function loadScript(lib) {\n",
       "      return new Promise(function(resolve, reject) {\n",
       "        var s = document.createElement('script');\n",
       "        s.src = paths[lib];\n",
       "        s.async = true;\n",
       "        s.onload = () => resolve(paths[lib]);\n",
       "        s.onerror = () => reject(`Error loading script: ${paths[lib]}`);\n",
       "        document.getElementsByTagName(\"head\")[0].appendChild(s);\n",
       "      });\n",
       "    }\n",
       "\n",
       "    function showError(err) {\n",
       "      outputDiv.innerHTML = `<div class=\"error\" style=\"color:red;\">${err}</div>`;\n",
       "      throw err;\n",
       "    }\n",
       "\n",
       "    function displayChart(vegaEmbed) {\n",
       "      vegaEmbed(outputDiv, spec, embedOpt)\n",
       "        .catch(err => showError(`Javascript Error: ${err.message}<br>This usually means there's a typo in your chart specification. See the javascript console for the full traceback.`));\n",
       "    }\n",
       "\n",
       "    if(typeof define === \"function\" && define.amd) {\n",
       "      requirejs.config({paths});\n",
       "      require([\"vega-embed\"], displayChart, err => showError(`Error loading script: ${err.message}`));\n",
       "    } else if (typeof vegaEmbed === \"function\") {\n",
       "      displayChart(vegaEmbed);\n",
       "    } else {\n",
       "      loadScript(\"vega\")\n",
       "        .then(() => loadScript(\"vega-lite\"))\n",
       "        .then(() => loadScript(\"vega-embed\"))\n",
       "        .catch(showError)\n",
       "        .then(() => displayChart(vegaEmbed));\n",
       "    }\n",
       "  })({\"config\": {\"view\": {\"continuousWidth\": 400, \"continuousHeight\": 300}}, \"layer\": [{\"mark\": \"line\", \"encoding\": {\"x\": {\"type\": \"quantitative\", \"field\": \"Confirmed\"}, \"y\": {\"type\": \"quantitative\", \"field\": \"Confirmed_New\"}}, \"selection\": {\"selector471\": {\"type\": \"interval\", \"bind\": \"scales\", \"encodings\": [\"x\", \"y\"]}}}, {\"mark\": \"line\", \"encoding\": {\"x\": {\"type\": \"quantitative\", \"field\": \"Confirmed\"}, \"y\": {\"type\": \"quantitative\", \"field\": \"Confirmed_New\"}}, \"transform\": [{\"on\": \"Confirmed\", \"regression\": \"Confirmed_New\", \"method\": \"linear\"}]}], \"data\": {\"name\": \"data-09ac422f0c4775cfc6aa2bc42a2becbf\"}, \"$schema\": \"https://vega.github.io/schema/vega-lite/v4.0.2.json\", \"datasets\": {\"data-09ac422f0c4775cfc6aa2bc42a2becbf\": [{\"State\": \"CA\", \"Date\": \"04-18-2020\", \"Confirmed\": 30491.0, \"Deaths\": 1140.0, \"Recovered\": 0.0, \"Confirmed_New\": 1334.0, \"Deaths_New\": 103.0, \"Recovered_New\": 0.0, \"Active\": 29351.0}, {\"State\": \"CA\", \"Date\": \"04-19-2020\", \"Confirmed\": 31431.0, \"Deaths\": 1177.0, \"Recovered\": 0.0, \"Confirmed_New\": 940.0, \"Deaths_New\": 37.0, \"Recovered_New\": 0.0, \"Active\": 30254.0}, {\"State\": \"CA\", \"Date\": \"04-20-2020\", \"Confirmed\": 33686.0, \"Deaths\": 1225.0, \"Recovered\": 0.0, \"Confirmed_New\": 2255.0, \"Deaths_New\": 48.0, \"Recovered_New\": 0.0, \"Active\": 32461.0}, {\"State\": \"CA\", \"Date\": \"04-21-2020\", \"Confirmed\": 35465.0, \"Deaths\": 1282.0, \"Recovered\": 0.0, \"Confirmed_New\": 1779.0, \"Deaths_New\": 57.0, \"Recovered_New\": 0.0, \"Active\": 34183.0}, {\"State\": \"CA\", \"Date\": \"04-22-2020\", \"Confirmed\": 37344.0, \"Deaths\": 1421.0, \"Recovered\": 0.0, \"Confirmed_New\": 1879.0, \"Deaths_New\": 139.0, \"Recovered_New\": 0.0, \"Active\": 35923.0}, {\"State\": \"CA\", \"Date\": \"04-23-2020\", \"Confirmed\": 39561.0, \"Deaths\": 1533.0, \"Recovered\": 0.0, \"Confirmed_New\": 2217.0, \"Deaths_New\": 112.0, \"Recovered_New\": 0.0, \"Active\": 38028.0}, {\"State\": \"CA\", \"Date\": \"04-24-2020\", \"Confirmed\": 41355.0, \"Deaths\": 1621.0, \"Recovered\": 0.0, \"Confirmed_New\": 1794.0, \"Deaths_New\": 88.0, \"Recovered_New\": 0.0, \"Active\": 39734.0}, {\"State\": \"CA\", \"Date\": \"04-25-2020\", \"Confirmed\": 42368.0, \"Deaths\": 1689.0, \"Recovered\": 0.0, \"Confirmed_New\": 1013.0, \"Deaths_New\": 68.0, \"Recovered_New\": 0.0, \"Active\": 40679.0}, {\"State\": \"CA\", \"Date\": \"04-26-2020\", \"Confirmed\": 43558.0, \"Deaths\": 1725.0, \"Recovered\": 0.0, \"Confirmed_New\": 1190.0, \"Deaths_New\": 36.0, \"Recovered_New\": 0.0, \"Active\": 41833.0}, {\"State\": \"CA\", \"Date\": \"04-27-2020\", \"Confirmed\": 44966.0, \"Deaths\": 1779.0, \"Recovered\": 0.0, \"Confirmed_New\": 1408.0, \"Deaths_New\": 54.0, \"Recovered_New\": 0.0, \"Active\": 43187.0}, {\"State\": \"CA\", \"Date\": \"04-28-2020\", \"Confirmed\": 46164.0, \"Deaths\": 1864.0, \"Recovered\": 0.0, \"Confirmed_New\": 1198.0, \"Deaths_New\": 85.0, \"Recovered_New\": 0.0, \"Active\": 44300.0}, {\"State\": \"CA\", \"Date\": \"04-29-2020\", \"Confirmed\": 48747.0, \"Deaths\": 1946.0, \"Recovered\": 0.0, \"Confirmed_New\": 2583.0, \"Deaths_New\": 82.0, \"Recovered_New\": 0.0, \"Active\": 46801.0}, {\"State\": \"CA\", \"Date\": \"04-30-2020\", \"Confirmed\": 50130.0, \"Deaths\": 2031.0, \"Recovered\": 0.0, \"Confirmed_New\": 1383.0, \"Deaths_New\": 85.0, \"Recovered_New\": 0.0, \"Active\": 48099.0}, {\"State\": \"CA\", \"Date\": \"05-01-2020\", \"Confirmed\": 52026.0, \"Deaths\": 2126.0, \"Recovered\": 0.0, \"Confirmed_New\": 1896.0, \"Deaths_New\": 95.0, \"Recovered_New\": 0.0, \"Active\": 49900.0}, {\"State\": \"CA\", \"Date\": \"05-02-2020\", \"Confirmed\": 53347.0, \"Deaths\": 2180.0, \"Recovered\": 0.0, \"Confirmed_New\": 1321.0, \"Deaths_New\": 54.0, \"Recovered_New\": 0.0, \"Active\": 51167.0}, {\"State\": \"CA\", \"Date\": \"05-03-2020\", \"Confirmed\": 54903.0, \"Deaths\": 2216.0, \"Recovered\": 0.0, \"Confirmed_New\": 1556.0, \"Deaths_New\": 36.0, \"Recovered_New\": 0.0, \"Active\": 52687.0}, {\"State\": \"CA\", \"Date\": \"05-04-2020\", \"Confirmed\": 55884.0, \"Deaths\": 2278.0, \"Recovered\": 0.0, \"Confirmed_New\": 981.0, \"Deaths_New\": 62.0, \"Recovered_New\": 0.0, \"Active\": 53606.0}, {\"State\": \"CA\", \"Date\": \"05-05-2020\", \"Confirmed\": 58456.0, \"Deaths\": 2381.0, \"Recovered\": 0.0, \"Confirmed_New\": 2572.0, \"Deaths_New\": 103.0, \"Recovered_New\": 0.0, \"Active\": 56075.0}, {\"State\": \"CA\", \"Date\": \"05-06-2020\", \"Confirmed\": 60616.0, \"Deaths\": 2464.0, \"Recovered\": 0.0, \"Confirmed_New\": 2160.0, \"Deaths_New\": 83.0, \"Recovered_New\": 0.0, \"Active\": 58152.0}, {\"State\": \"CA\", \"Date\": \"05-07-2020\", \"Confirmed\": 62148.0, \"Deaths\": 2535.0, \"Recovered\": 0.0, \"Confirmed_New\": 1532.0, \"Deaths_New\": 71.0, \"Recovered_New\": 0.0, \"Active\": 59613.0}, {\"State\": \"CA\", \"Date\": \"05-08-2020\", \"Confirmed\": 63779.0, \"Deaths\": 2613.0, \"Recovered\": 0.0, \"Confirmed_New\": 1631.0, \"Deaths_New\": 78.0, \"Recovered_New\": 0.0, \"Active\": 61166.0}]}}, {\"mode\": \"vega-lite\"});\n",
       "</script>"
      ],
      "text/plain": [
       "alt.LayerChart(...)"
      ]
     },
     "execution_count": 411,
     "metadata": {},
     "output_type": "execute_result"
    }
   ],
   "source": [
    "state = alt.Chart(data[data['State'] == 'CA'].sort_values('Date').tail(21)).mark_line().encode(\n",
    "    x='Confirmed:Q',\n",
    "    y='Confirmed_New:Q'\n",
    ")\n",
    "reg = state.transform_regression(\"Confirmed\", \"Confirmed_New\", method=\"linear\").mark_line()\n",
    "(state+reg).interactive()"
   ]
  },
  {
   "cell_type": "code",
   "execution_count": 412,
   "metadata": {},
   "outputs": [
    {
     "data": {
      "text/html": [
       "\n",
       "<div id=\"altair-viz-5e0022cc8edb47778d83b466cf991f07\"></div>\n",
       "<script type=\"text/javascript\">\n",
       "  (function(spec, embedOpt){\n",
       "    const outputDiv = document.getElementById(\"altair-viz-5e0022cc8edb47778d83b466cf991f07\");\n",
       "    const paths = {\n",
       "      \"vega\": \"https://cdn.jsdelivr.net/npm//vega@5?noext\",\n",
       "      \"vega-lib\": \"https://cdn.jsdelivr.net/npm//vega-lib?noext\",\n",
       "      \"vega-lite\": \"https://cdn.jsdelivr.net/npm//vega-lite@4.0.2?noext\",\n",
       "      \"vega-embed\": \"https://cdn.jsdelivr.net/npm//vega-embed@6?noext\",\n",
       "    };\n",
       "\n",
       "    function loadScript(lib) {\n",
       "      return new Promise(function(resolve, reject) {\n",
       "        var s = document.createElement('script');\n",
       "        s.src = paths[lib];\n",
       "        s.async = true;\n",
       "        s.onload = () => resolve(paths[lib]);\n",
       "        s.onerror = () => reject(`Error loading script: ${paths[lib]}`);\n",
       "        document.getElementsByTagName(\"head\")[0].appendChild(s);\n",
       "      });\n",
       "    }\n",
       "\n",
       "    function showError(err) {\n",
       "      outputDiv.innerHTML = `<div class=\"error\" style=\"color:red;\">${err}</div>`;\n",
       "      throw err;\n",
       "    }\n",
       "\n",
       "    function displayChart(vegaEmbed) {\n",
       "      vegaEmbed(outputDiv, spec, embedOpt)\n",
       "        .catch(err => showError(`Javascript Error: ${err.message}<br>This usually means there's a typo in your chart specification. See the javascript console for the full traceback.`));\n",
       "    }\n",
       "\n",
       "    if(typeof define === \"function\" && define.amd) {\n",
       "      requirejs.config({paths});\n",
       "      require([\"vega-embed\"], displayChart, err => showError(`Error loading script: ${err.message}`));\n",
       "    } else if (typeof vegaEmbed === \"function\") {\n",
       "      displayChart(vegaEmbed);\n",
       "    } else {\n",
       "      loadScript(\"vega\")\n",
       "        .then(() => loadScript(\"vega-lite\"))\n",
       "        .then(() => loadScript(\"vega-embed\"))\n",
       "        .catch(showError)\n",
       "        .then(() => displayChart(vegaEmbed));\n",
       "    }\n",
       "  })({\"config\": {\"view\": {\"continuousWidth\": 400, \"continuousHeight\": 300}}, \"layer\": [{\"mark\": {\"type\": \"point\", \"filled\": true, \"stroke\": \"grey\"}, \"encoding\": {\"color\": {\"type\": \"nominal\", \"field\": \"Country\", \"legend\": {\"clipHeight\": 20, \"columns\": 2, \"padding\": 10}, \"scale\": {\"scheme\": \"category20\"}}, \"size\": {\"type\": \"quantitative\", \"field\": \"Confirmed_New\", \"scale\": {\"domain\": [504.0, 26906.0], \"range\": [500, 15000]}}, \"tooltip\": [{\"type\": \"nominal\", \"field\": \"Country\"}, {\"type\": \"quantitative\", \"field\": \"Confirmed\"}, {\"type\": \"quantitative\", \"field\": \"Slope\"}, {\"type\": \"quantitative\", \"field\": \"Confirmed_New\"}], \"x\": {\"type\": \"quantitative\", \"axis\": {\"offset\": -160}, \"field\": \"Confirmed\", \"scale\": {\"type\": \"log\"}}, \"y\": {\"type\": \"quantitative\", \"field\": \"Slope\"}}, \"selection\": {\"selector472\": {\"type\": \"interval\", \"bind\": \"scales\", \"encodings\": [\"x\", \"y\"]}}}, {\"mark\": \"text\", \"encoding\": {\"color\": {\"value\": \"black\"}, \"size\": {\"value\": 12}, \"text\": {\"type\": \"nominal\", \"field\": \"Country\"}, \"tooltip\": [{\"type\": \"nominal\", \"field\": \"Country\"}, {\"type\": \"quantitative\", \"field\": \"Confirmed\"}, {\"type\": \"quantitative\", \"field\": \"Slope\"}, {\"type\": \"quantitative\", \"field\": \"Confirmed_New\"}], \"x\": {\"type\": \"quantitative\", \"axis\": {\"offset\": -160}, \"field\": \"Confirmed\", \"scale\": {\"type\": \"log\"}}, \"y\": {\"type\": \"quantitative\", \"field\": \"Slope\"}}, \"transform\": [{\"filter\": \"(datum['Confirmed_New'] > 1000)\"}]}, {\"mark\": {\"type\": \"line\", \"strokeDash\": [6, 8]}, \"encoding\": {\"color\": {\"value\": \"grey\"}, \"size\": {\"value\": 2}, \"tooltip\": [{\"type\": \"nominal\", \"field\": \"Country\"}, {\"type\": \"quantitative\", \"field\": \"Confirmed\"}, {\"type\": \"quantitative\", \"field\": \"Slope\"}, {\"type\": \"quantitative\", \"field\": \"Confirmed_New\"}], \"x\": {\"type\": \"quantitative\", \"axis\": {\"offset\": -160}, \"field\": \"Confirmed\", \"scale\": {\"type\": \"log\"}}, \"y\": {\"type\": \"quantitative\", \"field\": \"Slope\"}}, \"transform\": [{\"on\": \"Confirmed\", \"regression\": \"Slope\", \"method\": \"poly\", \"order\": 1}]}], \"data\": {\"name\": \"data-6eb9ef58382b35e46914a169fed6a6e2\"}, \"height\": 800, \"width\": 1200, \"$schema\": \"https://vega.github.io/schema/vega-lite/v4.0.2.json\", \"datasets\": {\"data-6eb9ef58382b35e46914a169fed6a6e2\": [{\"Country\": \"Bangladesh\", \"Date\": \"05-08-2020\", \"Confirmed\": 13134.0, \"Deaths\": 206.0, \"Recovered\": 2101.0, \"Confirmed_New\": 709.0, \"Deaths_New\": 7.0, \"Recovered_New\": 191.0, \"Active\": 10827.0, \"Slope\": 0.03165062495009282}, {\"Country\": \"Belarus\", \"Date\": \"05-08-2020\", \"Confirmed\": 21101.0, \"Deaths\": 121.0, \"Recovered\": 5484.0, \"Confirmed_New\": 933.0, \"Deaths_New\": 5.0, \"Recovered_New\": 417.0, \"Active\": 15496.0, \"Slope\": 0.011005340059607342}, {\"Country\": \"Belgium\", \"Date\": \"05-08-2020\", \"Confirmed\": 52011.0, \"Deaths\": 8521.0, \"Recovered\": 13201.0, \"Confirmed_New\": 591.0, \"Deaths_New\": 106.0, \"Recovered_New\": 221.0, \"Active\": 30289.0, \"Slope\": 0.08510552357742074}, {\"Country\": \"Brazil\", \"Date\": \"05-08-2020\", \"Confirmed\": 146894.0, \"Deaths\": 10017.0, \"Recovered\": 59297.0, \"Confirmed_New\": 11121.0, \"Deaths_New\": 827.0, \"Recovered_New\": 3947.0, \"Active\": 77580.0, \"Slope\": 0.13480378363555087}, {\"Country\": \"Canada\", \"Date\": \"05-08-2020\", \"Confirmed\": 67674.0, \"Deaths\": 4697.0, \"Recovered\": 30239.0, \"Confirmed_New\": 1473.0, \"Deaths_New\": 156.0, \"Recovered_New\": 979.0, \"Active\": 32738.0, \"Slope\": -0.0499914411137259}, {\"Country\": \"Chile\", \"Date\": \"05-08-2020\", \"Confirmed\": 25972.0, \"Deaths\": 294.0, \"Recovered\": 12160.0, \"Confirmed_New\": 1391.0, \"Deaths_New\": 9.0, \"Recovered_New\": 496.0, \"Active\": 13518.0, \"Slope\": 0.019292838149238253}, {\"Country\": \"Colombia\", \"Date\": \"05-08-2020\", \"Confirmed\": 10051.0, \"Deaths\": 428.0, \"Recovered\": 2424.0, \"Confirmed_New\": 595.0, \"Deaths_New\": 21.0, \"Recovered_New\": 124.0, \"Active\": 7199.0, \"Slope\": 0.09929220984455399}, {\"Country\": \"France\", \"Date\": \"05-08-2020\", \"Confirmed\": 176202.0, \"Deaths\": 26233.0, \"Recovered\": 55892.0, \"Confirmed_New\": 1284.0, \"Deaths_New\": 243.0, \"Recovered_New\": 701.0, \"Active\": 94077.0, \"Slope\": 0.13253473774775454}, {\"Country\": \"Germany\", \"Date\": \"05-08-2020\", \"Confirmed\": 170588.0, \"Deaths\": 7510.0, \"Recovered\": 141700.0, \"Confirmed_New\": 1158.0, \"Deaths_New\": 118.0, \"Recovered_New\": 0.0, \"Active\": 21378.0, \"Slope\": 0.10457694036273357}, {\"Country\": \"Iran\", \"Date\": \"05-08-2020\", \"Confirmed\": 104691.0, \"Deaths\": 6541.0, \"Recovered\": 83837.0, \"Confirmed_New\": 1556.0, \"Deaths_New\": 55.0, \"Recovered_New\": 1093.0, \"Active\": 14313.0, \"Slope\": 0.09312856169804824}, {\"Country\": \"Italy\", \"Date\": \"05-08-2020\", \"Confirmed\": 217185.0, \"Deaths\": 30201.0, \"Recovered\": 99023.0, \"Confirmed_New\": 1327.0, \"Deaths_New\": 243.0, \"Recovered_New\": 2747.0, \"Active\": 87961.0, \"Slope\": -0.039196667763120904}, {\"Country\": \"Mexico\", \"Date\": \"05-08-2020\", \"Confirmed\": 31522.0, \"Deaths\": 3160.0, \"Recovered\": 20314.0, \"Confirmed_New\": 1906.0, \"Deaths_New\": 199.0, \"Recovered_New\": 2533.0, \"Active\": 8048.0, \"Slope\": 0.07365626867292059}, {\"Country\": \"Pakistan\", \"Date\": \"05-08-2020\", \"Confirmed\": 26435.0, \"Deaths\": 599.0, \"Recovered\": 7530.0, \"Confirmed_New\": 1791.0, \"Deaths_New\": 14.0, \"Recovered_New\": 1066.0, \"Active\": 18306.0, \"Slope\": 0.09617414288670766}, {\"Country\": \"Peru\", \"Date\": \"05-08-2020\", \"Confirmed\": 61847.0, \"Deaths\": 1714.0, \"Recovered\": 19012.0, \"Confirmed_New\": 3321.0, \"Deaths_New\": 87.0, \"Recovered_New\": 624.0, \"Active\": 41121.0, \"Slope\": 0.07631799071905429}, {\"Country\": \"Portugal\", \"Date\": \"05-08-2020\", \"Confirmed\": 27268.0, \"Deaths\": 1114.0, \"Recovered\": 2422.0, \"Confirmed_New\": 553.0, \"Deaths_New\": 9.0, \"Recovered_New\": 164.0, \"Active\": 23732.0, \"Slope\": 0.30339522310921774}, {\"Country\": \"Qatar\", \"Date\": \"05-08-2020\", \"Confirmed\": 20201.0, \"Deaths\": 12.0, \"Recovered\": 2370.0, \"Confirmed_New\": 1311.0, \"Deaths_New\": 0.0, \"Recovered_New\": 84.0, \"Active\": 17819.0, \"Slope\": 0.09882475492787275}, {\"Country\": \"Russia\", \"Date\": \"05-08-2020\", \"Confirmed\": 187859.0, \"Deaths\": 1723.0, \"Recovered\": 26608.0, \"Confirmed_New\": 10699.0, \"Deaths_New\": 98.0, \"Recovered_New\": 2805.0, \"Active\": 159528.0, \"Slope\": 0.014895474795936002}, {\"Country\": \"Saudi Arabia\", \"Date\": \"05-08-2020\", \"Confirmed\": 35432.0, \"Deaths\": 229.0, \"Recovered\": 9120.0, \"Confirmed_New\": 1701.0, \"Deaths_New\": 10.0, \"Recovered_New\": 1322.0, \"Active\": 26083.0, \"Slope\": 0.03283203410544606}, {\"Country\": \"Singapore\", \"Date\": \"05-08-2020\", \"Confirmed\": 21707.0, \"Deaths\": 20.0, \"Recovered\": 2040.0, \"Confirmed_New\": 768.0, \"Deaths_New\": 0.0, \"Recovered_New\": 328.0, \"Active\": 19647.0, \"Slope\": 0.06921483314515244}, {\"Country\": \"Spain\", \"Date\": \"05-08-2020\", \"Confirmed\": 222857.0, \"Deaths\": 26299.0, \"Recovered\": 131148.0, \"Confirmed_New\": 1410.0, \"Deaths_New\": 229.0, \"Recovered_New\": 2637.0, \"Active\": 65410.0, \"Slope\": -0.1185449567431635}, {\"Country\": \"Sweden\", \"Date\": \"05-08-2020\", \"Confirmed\": 25265.0, \"Deaths\": 3175.0, \"Recovered\": 4971.0, \"Confirmed_New\": 642.0, \"Deaths_New\": 135.0, \"Recovered_New\": 0.0, \"Active\": 17119.0, \"Slope\": 0.10191717221716155}, {\"Country\": \"Turkey\", \"Date\": \"05-08-2020\", \"Confirmed\": 135569.0, \"Deaths\": 3689.0, \"Recovered\": 86396.0, \"Confirmed_New\": 1848.0, \"Deaths_New\": 48.0, \"Recovered_New\": 3412.0, \"Active\": 45484.0, \"Slope\": 0.01723829931631916}, {\"Country\": \"UK\", \"Date\": \"05-08-2020\", \"Confirmed\": 212629.0, \"Deaths\": 31316.0, \"Recovered\": 997.0, \"Confirmed_New\": 4652.0, \"Deaths_New\": 627.0, \"Recovered_New\": 27.0, \"Active\": 180316.0, \"Slope\": 0.03214141548125307}, {\"Country\": \"US\", \"Date\": \"05-08-2020\", \"Confirmed\": 1283929.0, \"Deaths\": 77180.0, \"Recovered\": 198993.0, \"Confirmed_New\": 26906.0, \"Deaths_New\": 1518.0, \"Recovered_New\": 3957.0, \"Active\": 1007756.0, \"Slope\": 0.0027795100242861306}, {\"Country\": \"Ukraine\", \"Date\": \"05-08-2020\", \"Confirmed\": 14195.0, \"Deaths\": 361.0, \"Recovered\": 2706.0, \"Confirmed_New\": 504.0, \"Deaths_New\": 21.0, \"Recovered_New\": 310.0, \"Active\": 11128.0, \"Slope\": -0.0028064422136979766}, {\"Country\": \"United Arab Emirates\", \"Date\": \"05-08-2020\", \"Confirmed\": 16793.0, \"Deaths\": 174.0, \"Recovered\": 3837.0, \"Confirmed_New\": 553.0, \"Deaths_New\": 9.0, \"Recovered_New\": 265.0, \"Active\": 12782.0, \"Slope\": -0.011066405976147232}]}}, {\"mode\": \"vega-lite\"});\n",
       "</script>"
      ],
      "text/plain": [
       "alt.LayerChart(...)"
      ]
     },
     "execution_count": 412,
     "metadata": {},
     "output_type": "execute_result"
    }
   ],
   "source": [
    "slope_chart(country_level, 'Country', -160, xscale='log', limit=500, scale=5).properties(\n",
    "    width=1200,\n",
    "    height=800\n",
    ").interactive()"
   ]
  },
  {
   "cell_type": "code",
   "execution_count": 413,
   "metadata": {},
   "outputs": [
    {
     "data": {
      "text/html": [
       "\n",
       "<div id=\"altair-viz-9f8240f6e7634f8684b9c5f3a013952b\"></div>\n",
       "<script type=\"text/javascript\">\n",
       "  (function(spec, embedOpt){\n",
       "    const outputDiv = document.getElementById(\"altair-viz-9f8240f6e7634f8684b9c5f3a013952b\");\n",
       "    const paths = {\n",
       "      \"vega\": \"https://cdn.jsdelivr.net/npm//vega@5?noext\",\n",
       "      \"vega-lib\": \"https://cdn.jsdelivr.net/npm//vega-lib?noext\",\n",
       "      \"vega-lite\": \"https://cdn.jsdelivr.net/npm//vega-lite@4.0.2?noext\",\n",
       "      \"vega-embed\": \"https://cdn.jsdelivr.net/npm//vega-embed@6?noext\",\n",
       "    };\n",
       "\n",
       "    function loadScript(lib) {\n",
       "      return new Promise(function(resolve, reject) {\n",
       "        var s = document.createElement('script');\n",
       "        s.src = paths[lib];\n",
       "        s.async = true;\n",
       "        s.onload = () => resolve(paths[lib]);\n",
       "        s.onerror = () => reject(`Error loading script: ${paths[lib]}`);\n",
       "        document.getElementsByTagName(\"head\")[0].appendChild(s);\n",
       "      });\n",
       "    }\n",
       "\n",
       "    function showError(err) {\n",
       "      outputDiv.innerHTML = `<div class=\"error\" style=\"color:red;\">${err}</div>`;\n",
       "      throw err;\n",
       "    }\n",
       "\n",
       "    function displayChart(vegaEmbed) {\n",
       "      vegaEmbed(outputDiv, spec, embedOpt)\n",
       "        .catch(err => showError(`Javascript Error: ${err.message}<br>This usually means there's a typo in your chart specification. See the javascript console for the full traceback.`));\n",
       "    }\n",
       "\n",
       "    if(typeof define === \"function\" && define.amd) {\n",
       "      requirejs.config({paths});\n",
       "      require([\"vega-embed\"], displayChart, err => showError(`Error loading script: ${err.message}`));\n",
       "    } else if (typeof vegaEmbed === \"function\") {\n",
       "      displayChart(vegaEmbed);\n",
       "    } else {\n",
       "      loadScript(\"vega\")\n",
       "        .then(() => loadScript(\"vega-lite\"))\n",
       "        .then(() => loadScript(\"vega-embed\"))\n",
       "        .catch(showError)\n",
       "        .then(() => displayChart(vegaEmbed));\n",
       "    }\n",
       "  })({\"config\": {\"view\": {\"continuousWidth\": 400, \"continuousHeight\": 300}}, \"layer\": [{\"mark\": \"line\", \"encoding\": {\"x\": {\"type\": \"quantitative\", \"field\": \"Confirmed\"}, \"y\": {\"type\": \"quantitative\", \"field\": \"Confirmed_New\"}}, \"selection\": {\"selector473\": {\"type\": \"interval\", \"bind\": \"scales\", \"encodings\": [\"x\", \"y\"]}}}, {\"mark\": \"line\", \"encoding\": {\"x\": {\"type\": \"quantitative\", \"field\": \"Confirmed\"}, \"y\": {\"type\": \"quantitative\", \"field\": \"Confirmed_New\"}}, \"transform\": [{\"on\": \"Confirmed\", \"regression\": \"Confirmed_New\", \"method\": \"linear\"}]}], \"data\": {\"name\": \"data-d602a15354e9c15270ba2d15313f27bf\"}, \"$schema\": \"https://vega.github.io/schema/vega-lite/v4.0.2.json\", \"datasets\": {\"data-d602a15354e9c15270ba2d15313f27bf\": [{\"Country\": \"France\", \"Date\": \"05-02-2020\", \"Confirmed\": 168518.0, \"Deaths\": 24763.0, \"Recovered\": 50663.0, \"Confirmed_New\": 1213.0, \"Deaths_New\": 135.0, \"Recovered_New\": -461.0, \"Active\": 93092.0}, {\"Country\": \"France\", \"Date\": \"05-03-2020\", \"Confirmed\": 168925.0, \"Deaths\": 24900.0, \"Recovered\": 50885.0, \"Confirmed_New\": 407.0, \"Deaths_New\": 137.0, \"Recovered_New\": 222.0, \"Active\": 93140.0}, {\"Country\": \"France\", \"Date\": \"05-04-2020\", \"Confirmed\": 169583.0, \"Deaths\": 25204.0, \"Recovered\": 51476.0, \"Confirmed_New\": 658.0, \"Deaths_New\": 304.0, \"Recovered_New\": 591.0, \"Active\": 92903.0}, {\"Country\": \"France\", \"Date\": \"05-05-2020\", \"Confirmed\": 170687.0, \"Deaths\": 25537.0, \"Recovered\": 52842.0, \"Confirmed_New\": 1104.0, \"Deaths_New\": 333.0, \"Recovered_New\": 1366.0, \"Active\": 92308.0}, {\"Country\": \"France\", \"Date\": \"05-06-2020\", \"Confirmed\": 174224.0, \"Deaths\": 25812.0, \"Recovered\": 54079.0, \"Confirmed_New\": 3537.0, \"Deaths_New\": 275.0, \"Recovered_New\": 1237.0, \"Active\": 94333.0}, {\"Country\": \"France\", \"Date\": \"05-07-2020\", \"Confirmed\": 174918.0, \"Deaths\": 25990.0, \"Recovered\": 55191.0, \"Confirmed_New\": 694.0, \"Deaths_New\": 178.0, \"Recovered_New\": 1112.0, \"Active\": 93737.0}, {\"Country\": \"France\", \"Date\": \"05-08-2020\", \"Confirmed\": 176202.0, \"Deaths\": 26233.0, \"Recovered\": 55892.0, \"Confirmed_New\": 1284.0, \"Deaths_New\": 243.0, \"Recovered_New\": 701.0, \"Active\": 94077.0}]}}, {\"mode\": \"vega-lite\"});\n",
       "</script>"
      ],
      "text/plain": [
       "alt.LayerChart(...)"
      ]
     },
     "execution_count": 413,
     "metadata": {},
     "output_type": "execute_result"
    }
   ],
   "source": [
    "data = country_level\n",
    "state = alt.Chart(data[data['Country'] == 'France'].sort_values('Date').tail(7)).mark_line().encode(\n",
    "    x='Confirmed:Q',\n",
    "    y='Confirmed_New:Q'\n",
    ")\n",
    "reg = state.transform_regression(\"Confirmed\", \"Confirmed_New\", method=\"linear\").mark_line()\n",
    "(state+reg).interactive()"
   ]
  },
  {
   "cell_type": "code",
   "execution_count": 426,
   "metadata": {},
   "outputs": [
    {
     "data": {
      "text/html": [
       "\n",
       "<div id=\"altair-viz-4b39054123a547c7a2844c2addb9d356\"></div>\n",
       "<script type=\"text/javascript\">\n",
       "  (function(spec, embedOpt){\n",
       "    const outputDiv = document.getElementById(\"altair-viz-4b39054123a547c7a2844c2addb9d356\");\n",
       "    const paths = {\n",
       "      \"vega\": \"https://cdn.jsdelivr.net/npm//vega@5?noext\",\n",
       "      \"vega-lib\": \"https://cdn.jsdelivr.net/npm//vega-lib?noext\",\n",
       "      \"vega-lite\": \"https://cdn.jsdelivr.net/npm//vega-lite@4.0.2?noext\",\n",
       "      \"vega-embed\": \"https://cdn.jsdelivr.net/npm//vega-embed@6?noext\",\n",
       "    };\n",
       "\n",
       "    function loadScript(lib) {\n",
       "      return new Promise(function(resolve, reject) {\n",
       "        var s = document.createElement('script');\n",
       "        s.src = paths[lib];\n",
       "        s.async = true;\n",
       "        s.onload = () => resolve(paths[lib]);\n",
       "        s.onerror = () => reject(`Error loading script: ${paths[lib]}`);\n",
       "        document.getElementsByTagName(\"head\")[0].appendChild(s);\n",
       "      });\n",
       "    }\n",
       "\n",
       "    function showError(err) {\n",
       "      outputDiv.innerHTML = `<div class=\"error\" style=\"color:red;\">${err}</div>`;\n",
       "      throw err;\n",
       "    }\n",
       "\n",
       "    function displayChart(vegaEmbed) {\n",
       "      vegaEmbed(outputDiv, spec, embedOpt)\n",
       "        .catch(err => showError(`Javascript Error: ${err.message}<br>This usually means there's a typo in your chart specification. See the javascript console for the full traceback.`));\n",
       "    }\n",
       "\n",
       "    if(typeof define === \"function\" && define.amd) {\n",
       "      requirejs.config({paths});\n",
       "      require([\"vega-embed\"], displayChart, err => showError(`Error loading script: ${err.message}`));\n",
       "    } else if (typeof vegaEmbed === \"function\") {\n",
       "      displayChart(vegaEmbed);\n",
       "    } else {\n",
       "      loadScript(\"vega\")\n",
       "        .then(() => loadScript(\"vega-lite\"))\n",
       "        .then(() => loadScript(\"vega-embed\"))\n",
       "        .catch(showError)\n",
       "        .then(() => displayChart(vegaEmbed));\n",
       "    }\n",
       "  })({\"config\": {\"view\": {\"continuousWidth\": 400, \"continuousHeight\": 300}}, \"layer\": [{\"mark\": {\"type\": \"point\", \"filled\": true, \"stroke\": \"grey\"}, \"encoding\": {\"color\": {\"type\": \"nominal\", \"field\": \"County\", \"legend\": {\"clipHeight\": 20, \"columns\": 2, \"padding\": 10}, \"scale\": {\"scheme\": \"category20\"}}, \"size\": {\"type\": \"quantitative\", \"field\": \"Confirmed_New\", \"scale\": {\"domain\": [2.0, 808.0], \"range\": [500, 15000]}}, \"tooltip\": [{\"type\": \"nominal\", \"field\": \"County\"}, {\"type\": \"quantitative\", \"field\": \"Confirmed\"}, {\"type\": \"quantitative\", \"field\": \"Slope\"}, {\"type\": \"quantitative\", \"field\": \"Confirmed_New\"}], \"x\": {\"type\": \"quantitative\", \"axis\": {\"offset\": -300}, \"field\": \"Confirmed\", \"scale\": {\"type\": \"log\"}}, \"y\": {\"type\": \"quantitative\", \"field\": \"Slope\"}}, \"selection\": {\"selector490\": {\"type\": \"interval\", \"bind\": \"scales\", \"encodings\": [\"x\", \"y\"]}}}, {\"mark\": \"text\", \"encoding\": {\"color\": {\"value\": \"black\"}, \"size\": {\"value\": 12}, \"text\": {\"type\": \"nominal\", \"field\": \"County\"}, \"tooltip\": [{\"type\": \"nominal\", \"field\": \"County\"}, {\"type\": \"quantitative\", \"field\": \"Confirmed\"}, {\"type\": \"quantitative\", \"field\": \"Slope\"}, {\"type\": \"quantitative\", \"field\": \"Confirmed_New\"}], \"x\": {\"type\": \"quantitative\", \"axis\": {\"offset\": -300}, \"field\": \"Confirmed\", \"scale\": {\"type\": \"log\"}}, \"y\": {\"type\": \"quantitative\", \"field\": \"Slope\"}}, \"transform\": [{\"filter\": \"(datum['Confirmed_New'] > 2)\"}]}, {\"mark\": {\"type\": \"line\", \"strokeDash\": [6, 8]}, \"encoding\": {\"color\": {\"value\": \"grey\"}, \"size\": {\"value\": 2}, \"tooltip\": [{\"type\": \"nominal\", \"field\": \"County\"}, {\"type\": \"quantitative\", \"field\": \"Confirmed\"}, {\"type\": \"quantitative\", \"field\": \"Slope\"}, {\"type\": \"quantitative\", \"field\": \"Confirmed_New\"}], \"x\": {\"type\": \"quantitative\", \"axis\": {\"offset\": -300}, \"field\": \"Confirmed\", \"scale\": {\"type\": \"log\"}}, \"y\": {\"type\": \"quantitative\", \"field\": \"Slope\"}}, \"transform\": [{\"on\": \"Confirmed\", \"regression\": \"Slope\", \"method\": \"poly\", \"order\": 1}]}], \"data\": {\"name\": \"data-2d32842c6329345b49431e5987142691\"}, \"height\": 800, \"width\": 1200, \"$schema\": \"https://vega.github.io/schema/vega-lite/v4.0.2.json\", \"datasets\": {\"data-2d32842c6329345b49431e5987142691\": [{\"County\": \"Alameda\", \"Date\": \"05-08-2020\", \"Confirmed\": 1961.0, \"Deaths\": 70.0, \"Recovered\": 0.0, \"Confirmed_New\": 44.0, \"Deaths_New\": 3.0, \"Recovered_New\": 0.0, \"Active\": 1891.0, \"Slope\": -0.01418966241770556}, {\"County\": \"Contra Costa\", \"Date\": \"05-08-2020\", \"Confirmed\": 1014.0, \"Deaths\": 29.0, \"Recovered\": 0.0, \"Confirmed_New\": 15.0, \"Deaths_New\": 0.0, \"Recovered_New\": 0.0, \"Active\": 985.0, \"Slope\": -0.010062365704103566}, {\"County\": \"Fresno\", \"Date\": \"05-08-2020\", \"Confirmed\": 813.0, \"Deaths\": 9.0, \"Recovered\": 0.0, \"Confirmed_New\": 36.0, \"Deaths_New\": 0.0, \"Recovered_New\": 0.0, \"Active\": 804.0, \"Slope\": 0.22353195965596198}, {\"County\": \"Imperial\", \"Date\": \"05-08-2020\", \"Confirmed\": 512.0, \"Deaths\": 12.0, \"Recovered\": 0.0, \"Confirmed_New\": 57.0, \"Deaths_New\": 1.0, \"Recovered_New\": 0.0, \"Active\": 500.0, \"Slope\": 0.2813163481953291}, {\"County\": \"Kern\", \"Date\": \"05-08-2020\", \"Confirmed\": 1166.0, \"Deaths\": 15.0, \"Recovered\": 0.0, \"Confirmed_New\": 33.0, \"Deaths_New\": 2.0, \"Recovered_New\": 0.0, \"Active\": 1151.0, \"Slope\": 0.10055955841278556}, {\"County\": \"Kings\", \"Date\": \"05-08-2020\", \"Confirmed\": 244.0, \"Deaths\": 1.0, \"Recovered\": 0.0, \"Confirmed_New\": 11.0, \"Deaths_New\": 0.0, \"Recovered_New\": 0.0, \"Active\": 243.0, \"Slope\": -0.028749738094525436}, {\"County\": \"Los Angeles\", \"Date\": \"05-08-2020\", \"Confirmed\": 30319.0, \"Deaths\": 1470.0, \"Recovered\": 0.0, \"Confirmed_New\": 808.0, \"Deaths_New\": 52.0, \"Recovered_New\": 0.0, \"Active\": 28849.0, \"Slope\": 0.04617166207827809}, {\"County\": \"Madera\", \"Date\": \"05-08-2020\", \"Confirmed\": 62.0, \"Deaths\": 2.0, \"Recovered\": 0.0, \"Confirmed_New\": 7.0, \"Deaths_New\": 0.0, \"Recovered_New\": 0.0, \"Active\": 60.0, \"Slope\": 0.3509803921568627}, {\"County\": \"Marin\", \"Date\": \"05-08-2020\", \"Confirmed\": 255.0, \"Deaths\": 14.0, \"Recovered\": 0.0, \"Confirmed_New\": 8.0, \"Deaths_New\": 0.0, \"Recovered_New\": 0.0, \"Active\": 241.0, \"Slope\": 0.4218967921896792}, {\"County\": \"Merced\", \"Date\": \"05-08-2020\", \"Confirmed\": 157.0, \"Deaths\": 3.0, \"Recovered\": 0.0, \"Confirmed_New\": 2.0, \"Deaths_New\": 0.0, \"Recovered_New\": 0.0, \"Active\": 154.0, \"Slope\": -0.004770992366412218}, {\"County\": \"Monterey\", \"Date\": \"05-08-2020\", \"Confirmed\": 250.0, \"Deaths\": 6.0, \"Recovered\": 0.0, \"Confirmed_New\": 3.0, \"Deaths_New\": 0.0, \"Recovered_New\": 0.0, \"Active\": 244.0, \"Slope\": -0.17349803481190343}, {\"County\": \"Orange\", \"Date\": \"05-08-2020\", \"Confirmed\": 3240.0, \"Deaths\": 71.0, \"Recovered\": 0.0, \"Confirmed_New\": 148.0, \"Deaths_New\": 5.0, \"Recovered_New\": 0.0, \"Active\": 3169.0, \"Slope\": 0.07423725797034764}, {\"County\": \"Sacramento\", \"Date\": \"05-08-2020\", \"Confirmed\": 1160.0, \"Deaths\": 50.0, \"Recovered\": 0.0, \"Confirmed_New\": 7.0, \"Deaths_New\": 1.0, \"Recovered_New\": 0.0, \"Active\": 1110.0, \"Slope\": -0.11619022526676329}, {\"County\": \"San Bernardino\", \"Date\": \"05-08-2020\", \"Confirmed\": 2629.0, \"Deaths\": 111.0, \"Recovered\": 0.0, \"Confirmed_New\": 67.0, \"Deaths_New\": 3.0, \"Recovered_New\": 0.0, \"Active\": 2518.0, \"Slope\": 0.1702423252558248}, {\"County\": \"San Diego\", \"Date\": \"05-08-2020\", \"Confirmed\": 4429.0, \"Deaths\": 165.0, \"Recovered\": 0.0, \"Confirmed_New\": 110.0, \"Deaths_New\": 7.0, \"Recovered_New\": 0.0, \"Active\": 4264.0, \"Slope\": 0.013315750756807883}, {\"County\": \"San Francisco\", \"Date\": \"05-08-2020\", \"Confirmed\": 1853.0, \"Deaths\": 33.0, \"Recovered\": 0.0, \"Confirmed_New\": 47.0, \"Deaths_New\": 1.0, \"Recovered_New\": 0.0, \"Active\": 1820.0, \"Slope\": 0.07597745197058253}, {\"County\": \"San Joaquin\", \"Date\": \"05-08-2020\", \"Confirmed\": 597.0, \"Deaths\": 28.0, \"Recovered\": 0.0, \"Confirmed_New\": 16.0, \"Deaths_New\": 0.0, \"Recovered_New\": 0.0, \"Active\": 569.0, \"Slope\": 0.26171874999999994}, {\"County\": \"San Mateo\", \"Date\": \"05-08-2020\", \"Confirmed\": 1397.0, \"Deaths\": 56.0, \"Recovered\": 0.0, \"Confirmed_New\": 20.0, \"Deaths_New\": 0.0, \"Recovered_New\": 0.0, \"Active\": 1341.0, \"Slope\": 0.029686042897109105}, {\"County\": \"Santa Barbara\", \"Date\": \"05-08-2020\", \"Confirmed\": 722.0, \"Deaths\": 10.0, \"Recovered\": 0.0, \"Confirmed_New\": 109.0, \"Deaths_New\": 1.0, \"Recovered_New\": 0.0, \"Active\": 712.0, \"Slope\": 0.480740112209145}, {\"County\": \"Santa Clara\", \"Date\": \"05-08-2020\", \"Confirmed\": 2290.0, \"Deaths\": 128.0, \"Recovered\": 0.0, \"Confirmed_New\": 9.0, \"Deaths_New\": 1.0, \"Recovered_New\": 0.0, \"Active\": 2162.0, \"Slope\": -0.2039294655491455}, {\"County\": \"Solano\", \"Date\": \"05-08-2020\", \"Confirmed\": 342.0, \"Deaths\": 7.0, \"Recovered\": 0.0, \"Confirmed_New\": 5.0, \"Deaths_New\": 0.0, \"Recovered_New\": 0.0, \"Active\": 335.0, \"Slope\": 0.1828248031496063}, {\"County\": \"Sonoma\", \"Date\": \"05-08-2020\", \"Confirmed\": 292.0, \"Deaths\": 3.0, \"Recovered\": 0.0, \"Confirmed_New\": 6.0, \"Deaths_New\": 0.0, \"Recovered_New\": 0.0, \"Active\": 289.0, \"Slope\": 0.1545754328112119}, {\"County\": \"Stanislaus\", \"Date\": \"05-08-2020\", \"Confirmed\": 476.0, \"Deaths\": 19.0, \"Recovered\": 0.0, \"Confirmed_New\": 15.0, \"Deaths_New\": 2.0, \"Recovered_New\": 0.0, \"Active\": 457.0, \"Slope\": 0.11681577072282479}, {\"County\": \"Tulare\", \"Date\": \"05-08-2020\", \"Confirmed\": 1013.0, \"Deaths\": 44.0, \"Recovered\": 0.0, \"Confirmed_New\": 44.0, \"Deaths_New\": 1.0, \"Recovered_New\": 0.0, \"Active\": 969.0, \"Slope\": 0.09646563131137266}]}}, {\"mode\": \"vega-lite\"});\n",
       "</script>"
      ],
      "text/plain": [
       "alt.LayerChart(...)"
      ]
     },
     "execution_count": 426,
     "metadata": {},
     "output_type": "execute_result"
    }
   ],
   "source": [
    "state = 'CA'\n",
    "county_level = df[df['State'] == state].fillna({'County': state}).groupby(['County', 'Date'], as_index=False).sum()\n",
    "\n",
    "slope_chart(county_level, 'County', -300, xscale='log', limit=1, scale=5).properties(\n",
    "    width=1200,\n",
    "    height=800\n",
    ").interactive()"
   ]
  },
  {
   "cell_type": "code",
   "execution_count": 415,
   "metadata": {},
   "outputs": [
    {
     "data": {
      "text/html": [
       "\n",
       "<div id=\"altair-viz-ca83fb9c615d49fdb5baf152a5054ac4\"></div>\n",
       "<script type=\"text/javascript\">\n",
       "  (function(spec, embedOpt){\n",
       "    const outputDiv = document.getElementById(\"altair-viz-ca83fb9c615d49fdb5baf152a5054ac4\");\n",
       "    const paths = {\n",
       "      \"vega\": \"https://cdn.jsdelivr.net/npm//vega@5?noext\",\n",
       "      \"vega-lib\": \"https://cdn.jsdelivr.net/npm//vega-lib?noext\",\n",
       "      \"vega-lite\": \"https://cdn.jsdelivr.net/npm//vega-lite@4.0.2?noext\",\n",
       "      \"vega-embed\": \"https://cdn.jsdelivr.net/npm//vega-embed@6?noext\",\n",
       "    };\n",
       "\n",
       "    function loadScript(lib) {\n",
       "      return new Promise(function(resolve, reject) {\n",
       "        var s = document.createElement('script');\n",
       "        s.src = paths[lib];\n",
       "        s.async = true;\n",
       "        s.onload = () => resolve(paths[lib]);\n",
       "        s.onerror = () => reject(`Error loading script: ${paths[lib]}`);\n",
       "        document.getElementsByTagName(\"head\")[0].appendChild(s);\n",
       "      });\n",
       "    }\n",
       "\n",
       "    function showError(err) {\n",
       "      outputDiv.innerHTML = `<div class=\"error\" style=\"color:red;\">${err}</div>`;\n",
       "      throw err;\n",
       "    }\n",
       "\n",
       "    function displayChart(vegaEmbed) {\n",
       "      vegaEmbed(outputDiv, spec, embedOpt)\n",
       "        .catch(err => showError(`Javascript Error: ${err.message}<br>This usually means there's a typo in your chart specification. See the javascript console for the full traceback.`));\n",
       "    }\n",
       "\n",
       "    if(typeof define === \"function\" && define.amd) {\n",
       "      requirejs.config({paths});\n",
       "      require([\"vega-embed\"], displayChart, err => showError(`Error loading script: ${err.message}`));\n",
       "    } else if (typeof vegaEmbed === \"function\") {\n",
       "      displayChart(vegaEmbed);\n",
       "    } else {\n",
       "      loadScript(\"vega\")\n",
       "        .then(() => loadScript(\"vega-lite\"))\n",
       "        .then(() => loadScript(\"vega-embed\"))\n",
       "        .catch(showError)\n",
       "        .then(() => displayChart(vegaEmbed));\n",
       "    }\n",
       "  })({\"config\": {\"view\": {\"continuousWidth\": 400, \"continuousHeight\": 300}}, \"layer\": [{\"mark\": \"line\", \"encoding\": {\"x\": {\"type\": \"quantitative\", \"field\": \"Confirmed\"}, \"y\": {\"type\": \"quantitative\", \"field\": \"Confirmed_New\"}}, \"selection\": {\"selector475\": {\"type\": \"interval\", \"bind\": \"scales\", \"encodings\": [\"x\", \"y\"]}}}, {\"mark\": \"line\", \"encoding\": {\"x\": {\"type\": \"quantitative\", \"field\": \"Confirmed\"}, \"y\": {\"type\": \"quantitative\", \"field\": \"Confirmed_New\"}}, \"transform\": [{\"on\": \"Confirmed\", \"regression\": \"Confirmed_New\", \"method\": \"linear\"}]}], \"data\": {\"name\": \"data-596e31fe30a61b7772ce0ba820cafb29\"}, \"$schema\": \"https://vega.github.io/schema/vega-lite/v4.0.2.json\", \"datasets\": {\"data-596e31fe30a61b7772ce0ba820cafb29\": [{\"County\": \"Alameda\", \"Date\": \"04-09-2020\", \"Confirmed\": 674.0, \"Deaths\": 16.0, \"Recovered\": 0.0, \"Confirmed_New\": 0.0, \"Deaths_New\": 0.0, \"Recovered_New\": 0.0, \"Active\": 658.0}, {\"County\": \"Alameda\", \"Date\": \"04-10-2020\", \"Confirmed\": 766.0, \"Deaths\": 20.0, \"Recovered\": 0.0, \"Confirmed_New\": 92.0, \"Deaths_New\": 4.0, \"Recovered_New\": 0.0, \"Active\": 746.0}, {\"County\": \"Alameda\", \"Date\": \"04-11-2020\", \"Confirmed\": 806.0, \"Deaths\": 21.0, \"Recovered\": 0.0, \"Confirmed_New\": 40.0, \"Deaths_New\": 1.0, \"Recovered_New\": 0.0, \"Active\": 785.0}, {\"County\": \"Alameda\", \"Date\": \"04-12-2020\", \"Confirmed\": 845.0, \"Deaths\": 23.0, \"Recovered\": 0.0, \"Confirmed_New\": 39.0, \"Deaths_New\": 2.0, \"Recovered_New\": 0.0, \"Active\": 822.0}, {\"County\": \"Alameda\", \"Date\": \"04-13-2020\", \"Confirmed\": 888.0, \"Deaths\": 23.0, \"Recovered\": 0.0, \"Confirmed_New\": 43.0, \"Deaths_New\": 0.0, \"Recovered_New\": 0.0, \"Active\": 865.0}, {\"County\": \"Alameda\", \"Date\": \"04-14-2020\", \"Confirmed\": 888.0, \"Deaths\": 23.0, \"Recovered\": 0.0, \"Confirmed_New\": 0.0, \"Deaths_New\": 0.0, \"Recovered_New\": 0.0, \"Active\": 865.0}, {\"County\": \"Alameda\", \"Date\": \"04-15-2020\", \"Confirmed\": 964.0, \"Deaths\": 36.0, \"Recovered\": 0.0, \"Confirmed_New\": 76.0, \"Deaths_New\": 13.0, \"Recovered_New\": 0.0, \"Active\": 928.0}, {\"County\": \"Alameda\", \"Date\": \"04-16-2020\", \"Confirmed\": 1007.0, \"Deaths\": 39.0, \"Recovered\": 0.0, \"Confirmed_New\": 43.0, \"Deaths_New\": 3.0, \"Recovered_New\": 0.0, \"Active\": 968.0}, {\"County\": \"Alameda\", \"Date\": \"04-17-2020\", \"Confirmed\": 1063.0, \"Deaths\": 40.0, \"Recovered\": 0.0, \"Confirmed_New\": 56.0, \"Deaths_New\": 1.0, \"Recovered_New\": 0.0, \"Active\": 1023.0}, {\"County\": \"Alameda\", \"Date\": \"04-18-2020\", \"Confirmed\": 1114.0, \"Deaths\": 41.0, \"Recovered\": 0.0, \"Confirmed_New\": 51.0, \"Deaths_New\": 1.0, \"Recovered_New\": 0.0, \"Active\": 1073.0}, {\"County\": \"Alameda\", \"Date\": \"04-19-2020\", \"Confirmed\": 1164.0, \"Deaths\": 42.0, \"Recovered\": 0.0, \"Confirmed_New\": 50.0, \"Deaths_New\": 1.0, \"Recovered_New\": 0.0, \"Active\": 1122.0}, {\"County\": \"Alameda\", \"Date\": \"04-20-2020\", \"Confirmed\": 1193.0, \"Deaths\": 42.0, \"Recovered\": 0.0, \"Confirmed_New\": 29.0, \"Deaths_New\": 0.0, \"Recovered_New\": 0.0, \"Active\": 1151.0}, {\"County\": \"Alameda\", \"Date\": \"04-21-2020\", \"Confirmed\": 1241.0, \"Deaths\": 43.0, \"Recovered\": 0.0, \"Confirmed_New\": 48.0, \"Deaths_New\": 1.0, \"Recovered_New\": 0.0, \"Active\": 1198.0}, {\"County\": \"Alameda\", \"Date\": \"04-22-2020\", \"Confirmed\": 1242.0, \"Deaths\": 43.0, \"Recovered\": 0.0, \"Confirmed_New\": 1.0, \"Deaths_New\": 0.0, \"Recovered_New\": 0.0, \"Active\": 1199.0}, {\"County\": \"Alameda\", \"Date\": \"04-23-2020\", \"Confirmed\": 1352.0, \"Deaths\": 46.0, \"Recovered\": 0.0, \"Confirmed_New\": 110.0, \"Deaths_New\": 3.0, \"Recovered_New\": 0.0, \"Active\": 1306.0}, {\"County\": \"Alameda\", \"Date\": \"04-24-2020\", \"Confirmed\": 1403.0, \"Deaths\": 48.0, \"Recovered\": 0.0, \"Confirmed_New\": 51.0, \"Deaths_New\": 2.0, \"Recovered_New\": 0.0, \"Active\": 1355.0}, {\"County\": \"Alameda\", \"Date\": \"04-25-2020\", \"Confirmed\": 1439.0, \"Deaths\": 52.0, \"Recovered\": 0.0, \"Confirmed_New\": 36.0, \"Deaths_New\": 4.0, \"Recovered_New\": 0.0, \"Active\": 1387.0}, {\"County\": \"Alameda\", \"Date\": \"04-26-2020\", \"Confirmed\": 1470.0, \"Deaths\": 52.0, \"Recovered\": 0.0, \"Confirmed_New\": 31.0, \"Deaths_New\": 0.0, \"Recovered_New\": 0.0, \"Active\": 1418.0}, {\"County\": \"Alameda\", \"Date\": \"04-27-2020\", \"Confirmed\": 1500.0, \"Deaths\": 52.0, \"Recovered\": 0.0, \"Confirmed_New\": 30.0, \"Deaths_New\": 0.0, \"Recovered_New\": 0.0, \"Active\": 1448.0}, {\"County\": \"Alameda\", \"Date\": \"04-28-2020\", \"Confirmed\": 1533.0, \"Deaths\": 55.0, \"Recovered\": 0.0, \"Confirmed_New\": 33.0, \"Deaths_New\": 3.0, \"Recovered_New\": 0.0, \"Active\": 1478.0}, {\"County\": \"Alameda\", \"Date\": \"04-29-2020\", \"Confirmed\": 1568.0, \"Deaths\": 57.0, \"Recovered\": 0.0, \"Confirmed_New\": 35.0, \"Deaths_New\": 2.0, \"Recovered_New\": 0.0, \"Active\": 1511.0}, {\"County\": \"Alameda\", \"Date\": \"04-30-2020\", \"Confirmed\": 1603.0, \"Deaths\": 60.0, \"Recovered\": 0.0, \"Confirmed_New\": 35.0, \"Deaths_New\": 3.0, \"Recovered_New\": 0.0, \"Active\": 1543.0}, {\"County\": \"Alameda\", \"Date\": \"05-01-2020\", \"Confirmed\": 1636.0, \"Deaths\": 62.0, \"Recovered\": 0.0, \"Confirmed_New\": 33.0, \"Deaths_New\": 2.0, \"Recovered_New\": 0.0, \"Active\": 1574.0}, {\"County\": \"Alameda\", \"Date\": \"05-02-2020\", \"Confirmed\": 1706.0, \"Deaths\": 63.0, \"Recovered\": 0.0, \"Confirmed_New\": 70.0, \"Deaths_New\": 1.0, \"Recovered_New\": 0.0, \"Active\": 1643.0}, {\"County\": \"Alameda\", \"Date\": \"05-03-2020\", \"Confirmed\": 1749.0, \"Deaths\": 63.0, \"Recovered\": 0.0, \"Confirmed_New\": 43.0, \"Deaths_New\": 0.0, \"Recovered_New\": 0.0, \"Active\": 1686.0}, {\"County\": \"Alameda\", \"Date\": \"05-04-2020\", \"Confirmed\": 1776.0, \"Deaths\": 63.0, \"Recovered\": 0.0, \"Confirmed_New\": 27.0, \"Deaths_New\": 0.0, \"Recovered_New\": 0.0, \"Active\": 1713.0}, {\"County\": \"Alameda\", \"Date\": \"05-05-2020\", \"Confirmed\": 1809.0, \"Deaths\": 66.0, \"Recovered\": 0.0, \"Confirmed_New\": 33.0, \"Deaths_New\": 3.0, \"Recovered_New\": 0.0, \"Active\": 1743.0}, {\"County\": \"Alameda\", \"Date\": \"05-06-2020\", \"Confirmed\": 1863.0, \"Deaths\": 66.0, \"Recovered\": 0.0, \"Confirmed_New\": 54.0, \"Deaths_New\": 0.0, \"Recovered_New\": 0.0, \"Active\": 1797.0}, {\"County\": \"Alameda\", \"Date\": \"05-07-2020\", \"Confirmed\": 1917.0, \"Deaths\": 67.0, \"Recovered\": 0.0, \"Confirmed_New\": 54.0, \"Deaths_New\": 1.0, \"Recovered_New\": 0.0, \"Active\": 1850.0}, {\"County\": \"Alameda\", \"Date\": \"05-08-2020\", \"Confirmed\": 1961.0, \"Deaths\": 70.0, \"Recovered\": 0.0, \"Confirmed_New\": 44.0, \"Deaths_New\": 3.0, \"Recovered_New\": 0.0, \"Active\": 1891.0}]}}, {\"mode\": \"vega-lite\"});\n",
       "</script>"
      ],
      "text/plain": [
       "alt.LayerChart(...)"
      ]
     },
     "execution_count": 415,
     "metadata": {},
     "output_type": "execute_result"
    }
   ],
   "source": [
    "data = county_level\n",
    "state = alt.Chart(data[data['County'] == 'Alameda'].sort_values('Date').tail(30)).mark_line().encode(\n",
    "    x='Confirmed:Q',\n",
    "    y='Confirmed_New:Q'\n",
    ")\n",
    "reg = state.transform_regression(\"Confirmed\", \"Confirmed_New\", method=\"linear\").mark_line()\n",
    "(state+reg).interactive()"
   ]
  },
  {
   "cell_type": "code",
   "execution_count": 416,
   "metadata": {},
   "outputs": [
    {
     "data": {
      "text/html": [
       "\n",
       "<div id=\"altair-viz-e24e34e8554b497e81e6244ad626b117\"></div>\n",
       "<script type=\"text/javascript\">\n",
       "  (function(spec, embedOpt){\n",
       "    const outputDiv = document.getElementById(\"altair-viz-e24e34e8554b497e81e6244ad626b117\");\n",
       "    const paths = {\n",
       "      \"vega\": \"https://cdn.jsdelivr.net/npm//vega@5?noext\",\n",
       "      \"vega-lib\": \"https://cdn.jsdelivr.net/npm//vega-lib?noext\",\n",
       "      \"vega-lite\": \"https://cdn.jsdelivr.net/npm//vega-lite@4.0.2?noext\",\n",
       "      \"vega-embed\": \"https://cdn.jsdelivr.net/npm//vega-embed@6?noext\",\n",
       "    };\n",
       "\n",
       "    function loadScript(lib) {\n",
       "      return new Promise(function(resolve, reject) {\n",
       "        var s = document.createElement('script');\n",
       "        s.src = paths[lib];\n",
       "        s.async = true;\n",
       "        s.onload = () => resolve(paths[lib]);\n",
       "        s.onerror = () => reject(`Error loading script: ${paths[lib]}`);\n",
       "        document.getElementsByTagName(\"head\")[0].appendChild(s);\n",
       "      });\n",
       "    }\n",
       "\n",
       "    function showError(err) {\n",
       "      outputDiv.innerHTML = `<div class=\"error\" style=\"color:red;\">${err}</div>`;\n",
       "      throw err;\n",
       "    }\n",
       "\n",
       "    function displayChart(vegaEmbed) {\n",
       "      vegaEmbed(outputDiv, spec, embedOpt)\n",
       "        .catch(err => showError(`Javascript Error: ${err.message}<br>This usually means there's a typo in your chart specification. See the javascript console for the full traceback.`));\n",
       "    }\n",
       "\n",
       "    if(typeof define === \"function\" && define.amd) {\n",
       "      requirejs.config({paths});\n",
       "      require([\"vega-embed\"], displayChart, err => showError(`Error loading script: ${err.message}`));\n",
       "    } else if (typeof vegaEmbed === \"function\") {\n",
       "      displayChart(vegaEmbed);\n",
       "    } else {\n",
       "      loadScript(\"vega\")\n",
       "        .then(() => loadScript(\"vega-lite\"))\n",
       "        .then(() => loadScript(\"vega-embed\"))\n",
       "        .catch(showError)\n",
       "        .then(() => displayChart(vegaEmbed));\n",
       "    }\n",
       "  })({\"config\": {\"view\": {\"continuousWidth\": 400, \"continuousHeight\": 300}}, \"layer\": [{\"mark\": {\"type\": \"point\", \"filled\": true, \"stroke\": \"grey\"}, \"encoding\": {\"color\": {\"type\": \"nominal\", \"field\": \"State\", \"legend\": {\"clipHeight\": 20, \"columns\": 2, \"padding\": 10}, \"scale\": {\"scheme\": \"category20\"}}, \"size\": {\"type\": \"quantitative\", \"field\": \"hospitalizedCurrently\", \"scale\": {\"domain\": [94.0, 2938.0], \"range\": [200, 6000]}}, \"tooltip\": [{\"type\": \"nominal\", \"field\": \"State\"}, {\"type\": \"quantitative\", \"field\": \"Confirmed\"}, {\"type\": \"quantitative\", \"field\": \"Slope\"}, {\"type\": \"quantitative\", \"field\": \"hospitalizedCurrently\"}], \"x\": {\"type\": \"quantitative\", \"axis\": {\"offset\": -582}, \"field\": \"Confirmed\", \"scale\": {\"type\": \"log\"}}, \"y\": {\"type\": \"quantitative\", \"field\": \"Slope\"}}, \"selection\": {\"selector476\": {\"type\": \"interval\", \"bind\": \"scales\", \"encodings\": [\"x\", \"y\"]}}}, {\"mark\": \"text\", \"encoding\": {\"color\": {\"value\": \"black\"}, \"size\": {\"value\": 12}, \"text\": {\"type\": \"nominal\", \"field\": \"State\"}, \"tooltip\": [{\"type\": \"nominal\", \"field\": \"State\"}, {\"type\": \"quantitative\", \"field\": \"Confirmed\"}, {\"type\": \"quantitative\", \"field\": \"Slope\"}, {\"type\": \"quantitative\", \"field\": \"hospitalizedCurrently\"}], \"x\": {\"type\": \"quantitative\", \"axis\": {\"offset\": -582}, \"field\": \"Confirmed\", \"scale\": {\"type\": \"log\"}}, \"y\": {\"type\": \"quantitative\", \"field\": \"Slope\"}}, \"transform\": [{\"filter\": \"(datum['hospitalizedCurrently'] > 400)\"}]}, {\"mark\": {\"type\": \"line\", \"strokeDash\": [6, 8]}, \"encoding\": {\"color\": {\"value\": \"grey\"}, \"size\": {\"value\": 2}, \"tooltip\": [{\"type\": \"nominal\", \"field\": \"State\"}, {\"type\": \"quantitative\", \"field\": \"Confirmed\"}, {\"type\": \"quantitative\", \"field\": \"Slope\"}, {\"type\": \"quantitative\", \"field\": \"hospitalizedCurrently\"}], \"x\": {\"type\": \"quantitative\", \"axis\": {\"offset\": -582}, \"field\": \"Confirmed\", \"scale\": {\"type\": \"log\"}}, \"y\": {\"type\": \"quantitative\", \"field\": \"Slope\"}}, \"transform\": [{\"on\": \"Confirmed\", \"regression\": \"Slope\", \"method\": \"poly\", \"order\": 1}]}], \"data\": {\"name\": \"data-f5eca08370ea160f3a16c1b5eaa016b0\"}, \"height\": 800, \"width\": 1200, \"$schema\": \"https://vega.github.io/schema/vega-lite/v4.0.2.json\", \"datasets\": {\"data-f5eca08370ea160f3a16c1b5eaa016b0\": [{\"State\": \"AZ\", \"Date\": \"05-08-2020\", \"Confirmed\": 10526.0, \"Deaths\": 517.0, \"Recovered\": 0.0, \"Confirmed_New\": 581.0, \"Deaths_New\": 67.0, \"Recovered_New\": 0.0, \"Active\": 10009.0, \"positive\": 10526.0, \"negative\": 109381.0, \"pending\": 0.0, \"hospitalizedCurrently\": 730.0, \"hospitalizedCumulative\": 1482.0, \"inIcuCurrently\": 295.0, \"inIcuCumulative\": 0.0, \"onVentilatorCurrently\": 197.0, \"onVentilatorCumulative\": 0.0, \"recovered\": 1747.0, \"dataQualityGrade\": \"A+\", \"lastUpdateEt\": \"5/8/2020 00:00\", \"hash\": \"f90cd0eb502865124ca024e8cd4dd3173109c8a9\", \"dateChecked\": \"2020-05-08T20:00:00Z\", \"death\": 517.0, \"hospitalized\": 1482.0, \"total\": 119907.0, \"totalTestResults\": 119907.0, \"posNeg\": 119907.0, \"fips\": 4.0, \"deathIncrease\": 67.0, \"hospitalizedIncrease\": 33.0, \"negativeIncrease\": 8240.0, \"positiveIncrease\": 581.0, \"totalTestResultsIncrease\": 8821.0, \"Slope\": 0.014786765216184326}, {\"State\": \"CA\", \"Date\": \"05-08-2020\", \"Confirmed\": 63779.0, \"Deaths\": 2613.0, \"Recovered\": 0.0, \"Confirmed_New\": 1631.0, \"Deaths_New\": 78.0, \"Recovered_New\": 0.0, \"Active\": 61166.0, \"positive\": 62512.0, \"negative\": 812760.0, \"pending\": 0.0, \"hospitalizedCurrently\": 4514.0, \"hospitalizedCumulative\": 0.0, \"inIcuCurrently\": 1342.0, \"inIcuCumulative\": 0.0, \"onVentilatorCurrently\": 0.0, \"onVentilatorCumulative\": 0.0, \"recovered\": 0.0, \"dataQualityGrade\": \"B\", \"lastUpdateEt\": \"5/8/2020 14:00\", \"hash\": \"d5ef05ed6769ba774cc29375bd1e4f0a66958120\", \"dateChecked\": \"2020-05-08T20:00:00Z\", \"death\": 2585.0, \"hospitalized\": 0.0, \"total\": 875272.0, \"totalTestResults\": 875272.0, \"posNeg\": 875272.0, \"fips\": 6.0, \"deathIncrease\": 81.0, \"hospitalizedIncrease\": 0.0, \"negativeIncrease\": 30500.0, \"positiveIncrease\": 1898.0, \"totalTestResultsIncrease\": 32398.0, \"Slope\": -0.017059164198828095}, {\"State\": \"CO\", \"Date\": \"05-08-2020\", \"Confirmed\": 18827.0, \"Deaths\": 960.0, \"Recovered\": 0.0, \"Confirmed_New\": 457.0, \"Deaths_New\": 16.0, \"Recovered_New\": 0.0, \"Active\": 17867.0, \"positive\": 18801.0, \"negative\": 75735.0, \"pending\": 0.0, \"hospitalizedCurrently\": 821.0, \"hospitalizedCumulative\": 3557.0, \"inIcuCurrently\": 0.0, \"inIcuCumulative\": 0.0, \"onVentilatorCurrently\": 0.0, \"onVentilatorCumulative\": 0.0, \"recovered\": 2869.0, \"dataQualityGrade\": \"B\", \"lastUpdateEt\": \"5/7/2020 00:00\", \"hash\": \"4b1fe904ebb1648caab2aed0b2c8d39bf25541f1\", \"dateChecked\": \"2020-05-08T20:00:00Z\", \"death\": 961.0, \"hospitalized\": 3557.0, \"total\": 94536.0, \"totalTestResults\": 94536.0, \"posNeg\": 94536.0, \"fips\": 8.0, \"deathIncrease\": 40.0, \"hospitalizedIncrease\": 571.0, \"negativeIncrease\": 2218.0, \"positiveIncrease\": 971.0, \"totalTestResultsIncrease\": 3189.0, \"Slope\": -0.047210042817034926}, {\"State\": \"CT\", \"Date\": \"05-08-2020\", \"Confirmed\": 32411.0, \"Deaths\": 2874.0, \"Recovered\": 0.0, \"Confirmed_New\": 627.0, \"Deaths_New\": 77.0, \"Recovered_New\": 0.0, \"Active\": 29537.0, \"positive\": 32411.0, \"negative\": 88130.0, \"pending\": 0.0, \"hospitalizedCurrently\": 1327.0, \"hospitalizedCumulative\": 9389.0, \"inIcuCurrently\": 0.0, \"inIcuCumulative\": 0.0, \"onVentilatorCurrently\": 0.0, \"onVentilatorCumulative\": 0.0, \"recovered\": 5413.0, \"dataQualityGrade\": \"B\", \"lastUpdateEt\": \"5/7/2020 20:30\", \"hash\": \"f9d580ec47d3a4fe510f0433aba0d74adc57f755\", \"dateChecked\": \"2020-05-08T20:00:00Z\", \"death\": 2874.0, \"hospitalized\": 9389.0, \"total\": 120541.0, \"totalTestResults\": 120541.0, \"posNeg\": 120541.0, \"fips\": 9.0, \"deathIncrease\": 77.0, \"hospitalizedIncrease\": 0.0, \"negativeIncrease\": 3740.0, \"positiveIncrease\": 627.0, \"totalTestResultsIncrease\": 4367.0, \"Slope\": -0.07453571539015603}, {\"State\": \"DC\", \"Date\": \"05-08-2020\", \"Confirmed\": 5899.0, \"Deaths\": 304.0, \"Recovered\": 0.0, \"Confirmed_New\": 245.0, \"Deaths_New\": 19.0, \"Recovered_New\": 0.0, \"Active\": 5595.0, \"positive\": 5899.0, \"negative\": 21216.0, \"pending\": 0.0, \"hospitalizedCurrently\": 447.0, \"hospitalizedCumulative\": 0.0, \"inIcuCurrently\": 130.0, \"inIcuCumulative\": 0.0, \"onVentilatorCurrently\": 91.0, \"onVentilatorCumulative\": 0.0, \"recovered\": 825.0, \"dataQualityGrade\": \"A+\", \"lastUpdateEt\": \"5/7/2020 00:00\", \"hash\": \"4059ea82f25e636e5e3f0e85f8a14089e334a132\", \"dateChecked\": \"2020-05-08T20:00:00Z\", \"death\": 304.0, \"hospitalized\": 0.0, \"total\": 27115.0, \"totalTestResults\": 27115.0, \"posNeg\": 27115.0, \"fips\": 11.0, \"deathIncrease\": 19.0, \"hospitalizedIncrease\": 0.0, \"negativeIncrease\": 1014.0, \"positiveIncrease\": 245.0, \"totalTestResultsIncrease\": 1259.0, \"Slope\": 0.0}, {\"State\": \"DE\", \"Date\": \"05-08-2020\", \"Confirmed\": 6111.0, \"Deaths\": 213.0, \"Recovered\": 0.0, \"Confirmed_New\": 172.0, \"Deaths_New\": 11.0, \"Recovered_New\": 0.0, \"Active\": 5898.0, \"positive\": 6111.0, \"negative\": 22153.0, \"pending\": 0.0, \"hospitalizedCurrently\": 289.0, \"hospitalizedCumulative\": 0.0, \"inIcuCurrently\": 0.0, \"inIcuCumulative\": 0.0, \"onVentilatorCurrently\": 0.0, \"onVentilatorCumulative\": 0.0, \"recovered\": 2288.0, \"dataQualityGrade\": \"B\", \"lastUpdateEt\": \"5/7/2020 18:00\", \"hash\": \"05cce2b1146ef2508cd656e268c772e0c5f61627\", \"dateChecked\": \"2020-05-08T20:00:00Z\", \"death\": 213.0, \"hospitalized\": 0.0, \"total\": 28264.0, \"totalTestResults\": 28264.0, \"posNeg\": 28264.0, \"fips\": 10.0, \"deathIncrease\": 11.0, \"hospitalizedIncrease\": 0.0, \"negativeIncrease\": 766.0, \"positiveIncrease\": 172.0, \"totalTestResultsIncrease\": 938.0, \"Slope\": -0.0002246435397624801}, {\"State\": \"IA\", \"Date\": \"05-08-2020\", \"Confirmed\": 11457.0, \"Deaths\": 243.0, \"Recovered\": 0.0, \"Confirmed_New\": 398.0, \"Deaths_New\": 12.0, \"Recovered_New\": 0.0, \"Active\": 11214.0, \"positive\": 11457.0, \"negative\": 58804.0, \"pending\": 0.0, \"hospitalizedCurrently\": 407.0, \"hospitalizedCumulative\": 0.0, \"inIcuCurrently\": 164.0, \"inIcuCumulative\": 0.0, \"onVentilatorCurrently\": 109.0, \"onVentilatorCumulative\": 0.0, \"recovered\": 4685.0, \"dataQualityGrade\": \"A+\", \"lastUpdateEt\": \"5/7/2020 00:00\", \"hash\": \"2fe477a9e76f3a02dcd47b53b6d5f94d62c92c9a\", \"dateChecked\": \"2020-05-08T20:00:00Z\", \"death\": 243.0, \"hospitalized\": 0.0, \"total\": 70261.0, \"totalTestResults\": 70261.0, \"posNeg\": 70261.0, \"fips\": 19.0, \"deathIncrease\": 12.0, \"hospitalizedIncrease\": 0.0, \"negativeIncrease\": 3436.0, \"positiveIncrease\": 398.0, \"totalTestResultsIncrease\": 3834.0, \"Slope\": 0.020477495222322655}, {\"State\": \"IL\", \"Date\": \"05-08-2020\", \"Confirmed\": 73760.0, \"Deaths\": 3241.0, \"Recovered\": 0.0, \"Confirmed_New\": 2889.0, \"Deaths_New\": 130.0, \"Recovered_New\": 0.0, \"Active\": 70519.0, \"positive\": 73760.0, \"negative\": 325954.0, \"pending\": 0.0, \"hospitalizedCurrently\": 4750.0, \"hospitalizedCumulative\": 0.0, \"inIcuCurrently\": 1222.0, \"inIcuCumulative\": 0.0, \"onVentilatorCurrently\": 727.0, \"onVentilatorCumulative\": 0.0, \"recovered\": 0.0, \"dataQualityGrade\": \"A\", \"lastUpdateEt\": \"5/8/2020 00:00\", \"hash\": \"78645d0b39c50f0808f893027de4117e81e09766\", \"dateChecked\": \"2020-05-08T20:00:00Z\", \"death\": 3241.0, \"hospitalized\": 0.0, \"total\": 399714.0, \"totalTestResults\": 399714.0, \"posNeg\": 399714.0, \"fips\": 17.0, \"deathIncrease\": 130.0, \"hospitalizedIncrease\": 0.0, \"negativeIncrease\": 17784.0, \"positiveIncrease\": 2887.0, \"totalTestResultsIncrease\": 20671.0, \"Slope\": 0.010413815634679649}, {\"State\": \"IN\", \"Date\": \"05-08-2020\", \"Confirmed\": 23146.0, \"Deaths\": 1447.0, \"Recovered\": 0.0, \"Confirmed_New\": 643.0, \"Deaths_New\": 33.0, \"Recovered_New\": 0.0, \"Active\": 21699.0, \"positive\": 23146.0, \"negative\": 106982.0, \"pending\": 0.0, \"hospitalizedCurrently\": 1379.0, \"hospitalizedCumulative\": 4389.0, \"inIcuCurrently\": 481.0, \"inIcuCumulative\": 990.0, \"onVentilatorCurrently\": 219.0, \"onVentilatorCumulative\": 0.0, \"recovered\": 0.0, \"dataQualityGrade\": \"A+\", \"lastUpdateEt\": \"5/7/2020 23:59\", \"hash\": \"480f314902b86ee3045123da9a2ff0e9dc6e796a\", \"dateChecked\": \"2020-05-08T20:00:00Z\", \"death\": 1447.0, \"hospitalized\": 4389.0, \"total\": 130128.0, \"totalTestResults\": 130128.0, \"posNeg\": 130128.0, \"fips\": 18.0, \"deathIncrease\": 33.0, \"hospitalizedIncrease\": 4389.0, \"negativeIncrease\": 4703.0, \"positiveIncrease\": 643.0, \"totalTestResultsIncrease\": 5346.0, \"Slope\": -0.0012601234682868047}, {\"State\": \"KY\", \"Date\": \"05-08-2020\", \"Confirmed\": 6288.0, \"Deaths\": 298.0, \"Recovered\": 0.0, \"Confirmed_New\": 159.0, \"Deaths_New\": 4.0, \"Recovered_New\": 0.0, \"Active\": 5990.0, \"positive\": 6129.0, \"negative\": 75272.0, \"pending\": 0.0, \"hospitalizedCurrently\": 356.0, \"hospitalizedCumulative\": 1684.0, \"inIcuCurrently\": 199.0, \"inIcuCumulative\": 714.0, \"onVentilatorCurrently\": 0.0, \"onVentilatorCumulative\": 0.0, \"recovered\": 2177.0, \"dataQualityGrade\": \"A\", \"lastUpdateEt\": \"5/7/2020 17:00\", \"hash\": \"ffe9736e32f92a5c53a18f0b0d6c1b5abb0778eb\", \"dateChecked\": \"2020-05-08T20:00:00Z\", \"death\": 294.0, \"hospitalized\": 1684.0, \"total\": 81401.0, \"totalTestResults\": 81401.0, \"posNeg\": 81401.0, \"fips\": 21.0, \"deathIncrease\": 11.0, \"hospitalizedIncrease\": 68.0, \"negativeIncrease\": 2600.0, \"positiveIncrease\": 195.0, \"totalTestResultsIncrease\": 2795.0, \"Slope\": 0.016088760374570403}, {\"State\": \"LA\", \"Date\": \"05-08-2020\", \"Confirmed\": 30855.0, \"Deaths\": 2227.0, \"Recovered\": 0.0, \"Confirmed_New\": 203.0, \"Deaths_New\": 19.0, \"Recovered_New\": 0.0, \"Active\": 28628.0, \"positive\": 30855.0, \"negative\": 171561.0, \"pending\": 0.0, \"hospitalizedCurrently\": 1359.0, \"hospitalizedCumulative\": 0.0, \"inIcuCurrently\": 0.0, \"inIcuCumulative\": 0.0, \"onVentilatorCurrently\": 185.0, \"onVentilatorCumulative\": 0.0, \"recovered\": 20316.0, \"dataQualityGrade\": \"B\", \"lastUpdateEt\": \"5/8/2020 13:00\", \"hash\": \"798d2fa2bbbc9f6a6faa4f36f30a21ad47e7481a\", \"dateChecked\": \"2020-05-08T20:00:00Z\", \"death\": 2227.0, \"hospitalized\": 0.0, \"total\": 202416.0, \"totalTestResults\": 202416.0, \"posNeg\": 202416.0, \"fips\": 22.0, \"deathIncrease\": 19.0, \"hospitalizedIncrease\": 0.0, \"negativeIncrease\": 1446.0, \"positiveIncrease\": 203.0, \"totalTestResultsIncrease\": 1649.0, \"Slope\": -0.09119608565786363}, {\"State\": \"MA\", \"Date\": \"05-08-2020\", \"Confirmed\": 75333.0, \"Deaths\": 4702.0, \"Recovered\": 0.0, \"Confirmed_New\": 1612.0, \"Deaths_New\": 150.0, \"Recovered_New\": 0.0, \"Active\": 70631.0, \"positive\": 75333.0, \"negative\": 290690.0, \"pending\": 0.0, \"hospitalizedCurrently\": 3349.0, \"hospitalizedCumulative\": 7434.0, \"inIcuCurrently\": 826.0, \"inIcuCumulative\": 0.0, \"onVentilatorCurrently\": 0.0, \"onVentilatorCumulative\": 0.0, \"recovered\": 0.0, \"dataQualityGrade\": \"A\", \"lastUpdateEt\": \"5/8/2020 10:00\", \"hash\": \"29288f59af3b7848a4383bf253e8f5f8c76e24c7\", \"dateChecked\": \"2020-05-08T20:00:00Z\", \"death\": 4702.0, \"hospitalized\": 7434.0, \"total\": 366023.0, \"totalTestResults\": 366023.0, \"posNeg\": 366023.0, \"fips\": 25.0, \"deathIncrease\": 150.0, \"hospitalizedIncrease\": 197.0, \"negativeIncrease\": 12779.0, \"positiveIncrease\": 1612.0, \"totalTestResultsIncrease\": 14391.0, \"Slope\": -0.02661218450333718}, {\"State\": \"MD\", \"Date\": \"05-08-2020\", \"Confirmed\": 30485.0, \"Deaths\": 1560.0, \"Recovered\": 0.0, \"Confirmed_New\": 1111.0, \"Deaths_New\": 57.0, \"Recovered_New\": 0.0, \"Active\": 28925.0, \"positive\": 30485.0, \"negative\": 121702.0, \"pending\": 0.0, \"hospitalizedCurrently\": 1674.0, \"hospitalizedCumulative\": 5811.0, \"inIcuCurrently\": 571.0, \"inIcuCumulative\": 0.0, \"onVentilatorCurrently\": 0.0, \"onVentilatorCumulative\": 0.0, \"recovered\": 2041.0, \"dataQualityGrade\": \"A\", \"lastUpdateEt\": \"5/8/2020 10:00\", \"hash\": \"a40950a18445cbc462e6d21b498783fa36ae1bbd\", \"dateChecked\": \"2020-05-08T20:00:00Z\", \"death\": 1560.0, \"hospitalized\": 5811.0, \"total\": 152187.0, \"totalTestResults\": 152187.0, \"posNeg\": 152187.0, \"fips\": 24.0, \"deathIncrease\": 57.0, \"hospitalizedIncrease\": 148.0, \"negativeIncrease\": 2476.0, \"positiveIncrease\": 1111.0, \"totalTestResultsIncrease\": 3587.0, \"Slope\": 0.006825268434540063}, {\"State\": \"MI\", \"Date\": \"05-08-2020\", \"Confirmed\": 46386.0, \"Deaths\": 4399.0, \"Recovered\": 0.0, \"Confirmed_New\": 641.0, \"Deaths_New\": 54.0, \"Recovered_New\": 0.0, \"Active\": 41987.0, \"positive\": 46326.0, \"negative\": 213927.0, \"pending\": 0.0, \"hospitalizedCurrently\": 1637.0, \"hospitalizedCumulative\": 0.0, \"inIcuCurrently\": 725.0, \"inIcuCumulative\": 0.0, \"onVentilatorCurrently\": 570.0, \"onVentilatorCumulative\": 0.0, \"recovered\": 15659.0, \"dataQualityGrade\": \"A+\", \"lastUpdateEt\": \"5/8/2020 11:00\", \"hash\": \"5656716f32beca12ba86a75347a1dfa804135f2b\", \"dateChecked\": \"2020-05-08T20:00:00Z\", \"death\": 4393.0, \"hospitalized\": 0.0, \"total\": 260253.0, \"totalTestResults\": 260253.0, \"posNeg\": 260253.0, \"fips\": 26.0, \"deathIncrease\": 50.0, \"hospitalizedIncrease\": 0.0, \"negativeIncrease\": 12511.0, \"positiveIncrease\": 680.0, \"totalTestResultsIncrease\": 13191.0, \"Slope\": -0.1571638840955468}, {\"State\": \"MN\", \"Date\": \"05-08-2020\", \"Confirmed\": 10088.0, \"Deaths\": 534.0, \"Recovered\": 0.0, \"Confirmed_New\": 723.0, \"Deaths_New\": 26.0, \"Recovered_New\": 0.0, \"Active\": 9554.0, \"positive\": 10088.0, \"negative\": 91182.0, \"pending\": 0.0, \"hospitalizedCurrently\": 473.0, \"hospitalizedCumulative\": 1549.0, \"inIcuCurrently\": 198.0, \"inIcuCumulative\": 540.0, \"onVentilatorCurrently\": 0.0, \"onVentilatorCumulative\": 0.0, \"recovered\": 5697.0, \"dataQualityGrade\": \"A\", \"lastUpdateEt\": \"5/7/2020 17:00\", \"hash\": \"ba0a38f10ef7e46ec55a4fc7720c61249342adbe\", \"dateChecked\": \"2020-05-08T20:00:00Z\", \"death\": 534.0, \"hospitalized\": 1549.0, \"total\": 101270.0, \"totalTestResults\": 101270.0, \"posNeg\": 101270.0, \"fips\": 27.0, \"deathIncrease\": 26.0, \"hospitalizedIncrease\": 90.0, \"negativeIncrease\": 3126.0, \"positiveIncrease\": 723.0, \"totalTestResultsIncrease\": 3849.0, \"Slope\": 0.023044985597615697}, {\"State\": \"MO\", \"Date\": \"05-08-2020\", \"Confirmed\": 9733.0, \"Deaths\": 483.0, \"Recovered\": 0.0, \"Confirmed_New\": 152.0, \"Deaths_New\": 34.0, \"Recovered_New\": 0.0, \"Active\": 9250.0, \"positive\": 9489.0, \"negative\": 99232.0, \"pending\": 0.0, \"hospitalizedCurrently\": 832.0, \"hospitalizedCumulative\": 0.0, \"inIcuCurrently\": 0.0, \"inIcuCumulative\": 0.0, \"onVentilatorCurrently\": 143.0, \"onVentilatorCumulative\": 0.0, \"recovered\": 0.0, \"dataQualityGrade\": \"B\", \"lastUpdateEt\": \"5/8/2020 15:00\", \"hash\": \"cb8a506b2bf8d309aea553ac9a5d36b2bbf75c37\", \"dateChecked\": \"2020-05-08T20:00:00Z\", \"death\": 449.0, \"hospitalized\": 0.0, \"total\": 108721.0, \"totalTestResults\": 108721.0, \"posNeg\": 108721.0, \"fips\": 29.0, \"deathIncrease\": 31.0, \"hospitalizedIncrease\": 0.0, \"negativeIncrease\": 4951.0, \"positiveIncrease\": 148.0, \"totalTestResultsIncrease\": 5099.0, \"Slope\": -0.008041590915533369}, {\"State\": \"MS\", \"Date\": \"05-08-2020\", \"Confirmed\": 9090.0, \"Deaths\": 409.0, \"Recovered\": 0.0, \"Confirmed_New\": 404.0, \"Deaths_New\": 13.0, \"Recovered_New\": 0.0, \"Active\": 8681.0, \"positive\": 9090.0, \"negative\": 72101.0, \"pending\": 0.0, \"hospitalizedCurrently\": 632.0, \"hospitalizedCumulative\": 1478.0, \"inIcuCurrently\": 123.0, \"inIcuCumulative\": 0.0, \"onVentilatorCurrently\": 58.0, \"onVentilatorCumulative\": 0.0, \"recovered\": 4421.0, \"dataQualityGrade\": \"A\", \"lastUpdateEt\": \"5/7/2020 19:00\", \"hash\": \"2a05739132b693efbe465d1f48b8f6948a37a25e\", \"dateChecked\": \"2020-05-08T20:00:00Z\", \"death\": 409.0, \"hospitalized\": 1478.0, \"total\": 81191.0, \"totalTestResults\": 81191.0, \"posNeg\": 81191.0, \"fips\": 28.0, \"deathIncrease\": 13.0, \"hospitalizedIncrease\": 36.0, \"negativeIncrease\": 0.0, \"positiveIncrease\": 404.0, \"totalTestResultsIncrease\": 404.0, \"Slope\": -0.00935684621189753}, {\"State\": \"NC\", \"Date\": \"05-08-2020\", \"Confirmed\": 14006.0, \"Deaths\": 530.0, \"Recovered\": 0.0, \"Confirmed_New\": 466.0, \"Deaths_New\": 17.0, \"Recovered_New\": 0.0, \"Active\": 13476.0, \"positive\": 13868.0, \"negative\": 164745.0, \"pending\": 0.0, \"hospitalizedCurrently\": 515.0, \"hospitalizedCumulative\": 0.0, \"inIcuCurrently\": 0.0, \"inIcuCumulative\": 0.0, \"onVentilatorCurrently\": 0.0, \"onVentilatorCumulative\": 0.0, \"recovered\": 0.0, \"dataQualityGrade\": \"B\", \"lastUpdateEt\": \"5/8/2020 11:00\", \"hash\": \"2c94b28d0a88a51d057b9357ce342276e9a20f08\", \"dateChecked\": \"2020-05-08T20:00:00Z\", \"death\": 527.0, \"hospitalized\": 0.0, \"total\": 178613.0, \"totalTestResults\": 178613.0, \"posNeg\": 178613.0, \"fips\": 37.0, \"deathIncrease\": 20.0, \"hospitalizedIncrease\": 0.0, \"negativeIncrease\": 6814.0, \"positiveIncrease\": 471.0, \"totalTestResultsIncrease\": 7285.0, \"Slope\": 0.012861935188617364}, {\"State\": \"NJ\", \"Date\": \"05-08-2020\", \"Confirmed\": 135840.0, \"Deaths\": 8960.0, \"Recovered\": 0.0, \"Confirmed_New\": 1849.0, \"Deaths_New\": 153.0, \"Recovered_New\": 0.0, \"Active\": 126880.0, \"positive\": 135454.0, \"negative\": 163305.0, \"pending\": 553.0, \"hospitalizedCurrently\": 4605.0, \"hospitalizedCumulative\": 0.0, \"inIcuCurrently\": 1439.0, \"inIcuCumulative\": 0.0, \"onVentilatorCurrently\": 1089.0, \"onVentilatorCumulative\": 0.0, \"recovered\": 15642.0, \"dataQualityGrade\": \"A+\", \"lastUpdateEt\": \"5/8/2020 13:00\", \"hash\": \"c674982e32236def6d6881374f8fd46abda975f5\", \"dateChecked\": \"2020-05-08T20:00:00Z\", \"death\": 8952.0, \"hospitalized\": 0.0, \"total\": 299312.0, \"totalTestResults\": 298759.0, \"posNeg\": 298759.0, \"fips\": 34.0, \"deathIncrease\": 151.0, \"hospitalizedIncrease\": 0.0, \"negativeIncrease\": 4282.0, \"positiveIncrease\": 1819.0, \"totalTestResultsIncrease\": 6101.0, \"Slope\": -0.07427403764396148}, {\"State\": \"NY\", \"Date\": \"05-08-2020\", \"Confirmed\": 330407.0, \"Deaths\": 26243.0, \"Recovered\": 0.0, \"Confirmed_New\": 2938.0, \"Deaths_New\": 99.0, \"Recovered_New\": 0.0, \"Active\": 304164.0, \"positive\": 330407.0, \"negative\": 791136.0, \"pending\": 0.0, \"hospitalizedCurrently\": 8196.0, \"hospitalizedCumulative\": 71679.0, \"inIcuCurrently\": 2811.0, \"inIcuCumulative\": 0.0, \"onVentilatorCurrently\": 2295.0, \"onVentilatorCumulative\": 0.0, \"recovered\": 56378.0, \"dataQualityGrade\": \"B\", \"lastUpdateEt\": \"5/8/2020 00:00\", \"hash\": \"cce93730cb4bfe975fc7b77442c3b664e71c74ee\", \"dateChecked\": \"2020-05-08T20:00:00Z\", \"death\": 21045.0, \"hospitalized\": 71679.0, \"total\": 1121543.0, \"totalTestResults\": 1121543.0, \"posNeg\": 1121543.0, \"fips\": 36.0, \"deathIncrease\": 217.0, \"hospitalizedIncrease\": 527.0, \"negativeIncrease\": 28869.0, \"positiveIncrease\": 2758.0, \"totalTestResultsIncrease\": 31627.0, \"Slope\": -0.11661163854522123}, {\"State\": \"OH\", \"Date\": \"05-08-2020\", \"Confirmed\": 23016.0, \"Deaths\": 1306.0, \"Recovered\": 0.0, \"Confirmed_New\": 885.0, \"Deaths_New\": 35.0, \"Recovered_New\": 0.0, \"Active\": 21710.0, \"positive\": 23016.0, \"negative\": 161300.0, \"pending\": 0.0, \"hospitalizedCurrently\": 1060.0, \"hospitalizedCumulative\": 4218.0, \"inIcuCurrently\": 393.0, \"inIcuCumulative\": 1188.0, \"onVentilatorCurrently\": 274.0, \"onVentilatorCumulative\": 0.0, \"recovered\": 0.0, \"dataQualityGrade\": \"B\", \"lastUpdateEt\": \"5/8/2020 14:00\", \"hash\": \"c91975a5e248e1698b76b269fe427ab2548e9183\", \"dateChecked\": \"2020-05-08T20:00:00Z\", \"death\": 1306.0, \"hospitalized\": 4218.0, \"total\": 184316.0, \"totalTestResults\": 184316.0, \"posNeg\": 184316.0, \"fips\": 39.0, \"deathIncrease\": 35.0, \"hospitalizedIncrease\": 78.0, \"negativeIncrease\": 7372.0, \"positiveIncrease\": 885.0, \"totalTestResultsIncrease\": 8257.0, \"Slope\": 0.022643322485084078}, {\"State\": \"OK\", \"Date\": \"05-08-2020\", \"Confirmed\": 4424.0, \"Deaths\": 266.0, \"Recovered\": 0.0, \"Confirmed_New\": 94.0, \"Deaths_New\": 6.0, \"Recovered_New\": 0.0, \"Active\": 4158.0, \"positive\": 4424.0, \"negative\": 85433.0, \"pending\": 0.0, \"hospitalizedCurrently\": 228.0, \"hospitalizedCumulative\": 805.0, \"inIcuCurrently\": 96.0, \"inIcuCumulative\": 0.0, \"onVentilatorCurrently\": 0.0, \"onVentilatorCumulative\": 0.0, \"recovered\": 3064.0, \"dataQualityGrade\": \"A+\", \"lastUpdateEt\": \"5/8/2020 00:00\", \"hash\": \"dc4244c9c33a01e9877f2d6b8f68a63a15715ca8\", \"dateChecked\": \"2020-05-08T20:00:00Z\", \"death\": 266.0, \"hospitalized\": 805.0, \"total\": 89857.0, \"totalTestResults\": 89857.0, \"posNeg\": 89857.0, \"fips\": 40.0, \"deathIncrease\": 6.0, \"hospitalizedIncrease\": 0.0, \"negativeIncrease\": 2876.0, \"positiveIncrease\": 94.0, \"totalTestResultsIncrease\": 2970.0, \"Slope\": -0.021646040408937976}, {\"State\": \"PA\", \"Date\": \"05-08-2020\", \"Confirmed\": 57371.0, \"Deaths\": 3715.0, \"Recovered\": 0.0, \"Confirmed_New\": 1415.0, \"Deaths_New\": 126.0, \"Recovered_New\": 0.0, \"Active\": 53656.0, \"positive\": 54238.0, \"negative\": 216321.0, \"pending\": 0.0, \"hospitalizedCurrently\": 2342.0, \"hospitalizedCumulative\": 0.0, \"inIcuCurrently\": 0.0, \"inIcuCumulative\": 0.0, \"onVentilatorCurrently\": 517.0, \"onVentilatorCumulative\": 0.0, \"recovered\": 0.0, \"dataQualityGrade\": \"C\", \"lastUpdateEt\": \"5/8/2020 00:00\", \"hash\": \"4eec00d4452c1371765038df18cbd7b5cca69ba9\", \"dateChecked\": \"2020-05-08T20:00:00Z\", \"death\": 3616.0, \"hospitalized\": 0.0, \"total\": 270559.0, \"totalTestResults\": 270559.0, \"posNeg\": 270559.0, \"fips\": 42.0, \"deathIncrease\": 200.0, \"hospitalizedIncrease\": 0.0, \"negativeIncrease\": 6448.0, \"positiveIncrease\": 1323.0, \"totalTestResultsIncrease\": 7771.0, \"Slope\": -0.04960973398000493}, {\"State\": \"RI\", \"Date\": \"05-08-2020\", \"Confirmed\": 10779.0, \"Deaths\": 399.0, \"Recovered\": 0.0, \"Confirmed_New\": 249.0, \"Deaths_New\": 11.0, \"Recovered_New\": 0.0, \"Active\": 10380.0, \"positive\": 10779.0, \"negative\": 74487.0, \"pending\": 0.0, \"hospitalizedCurrently\": 312.0, \"hospitalizedCumulative\": 1187.0, \"inIcuCurrently\": 71.0, \"inIcuCumulative\": 0.0, \"onVentilatorCurrently\": 52.0, \"onVentilatorCumulative\": 0.0, \"recovered\": 730.0, \"dataQualityGrade\": \"A+\", \"lastUpdateEt\": \"5/8/2020 12:00\", \"hash\": \"3065c7d768798e66b0a05bb90f027c7f9e4cdc30\", \"dateChecked\": \"2020-05-08T20:00:00Z\", \"death\": 399.0, \"hospitalized\": 1187.0, \"total\": 85266.0, \"totalTestResults\": 85266.0, \"posNeg\": 85266.0, \"fips\": 44.0, \"deathIncrease\": 11.0, \"hospitalizedIncrease\": 34.0, \"negativeIncrease\": 2699.0, \"positiveIncrease\": 249.0, \"totalTestResultsIncrease\": 2948.0, \"Slope\": -0.01484694491102377}, {\"State\": \"TX\", \"Date\": \"05-08-2020\", \"Confirmed\": 37246.0, \"Deaths\": 1025.0, \"Recovered\": 0.0, \"Confirmed_New\": 1210.0, \"Deaths_New\": 40.0, \"Recovered_New\": 0.0, \"Active\": 36221.0, \"positive\": 36609.0, \"negative\": 440509.0, \"pending\": 0.0, \"hospitalizedCurrently\": 1734.0, \"hospitalizedCumulative\": 0.0, \"inIcuCurrently\": 0.0, \"inIcuCumulative\": 0.0, \"onVentilatorCurrently\": 0.0, \"onVentilatorCumulative\": 0.0, \"recovered\": 19197.0, \"dataQualityGrade\": \"B\", \"lastUpdateEt\": \"5/8/2020 13:00\", \"hash\": \"b7f8c531addc2df51f14fa89b29a6821d47aad45\", \"dateChecked\": \"2020-05-08T20:00:00Z\", \"death\": 1004.0, \"hospitalized\": 0.0, \"total\": 477118.0, \"totalTestResults\": 477118.0, \"posNeg\": 477118.0, \"fips\": 48.0, \"deathIncrease\": 31.0, \"hospitalizedIncrease\": 0.0, \"negativeIncrease\": 20737.0, \"positiveIncrease\": 1219.0, \"totalTestResultsIncrease\": 21956.0, \"Slope\": 0.02449725876505177}, {\"State\": \"UT\", \"Date\": \"05-08-2020\", \"Confirmed\": 5919.0, \"Deaths\": 61.0, \"Recovered\": 0.0, \"Confirmed_New\": 195.0, \"Deaths_New\": 0.0, \"Recovered_New\": 0.0, \"Active\": 5858.0, \"positive\": 5919.0, \"negative\": 132769.0, \"pending\": 0.0, \"hospitalizedCurrently\": 216.0, \"hospitalizedCumulative\": 488.0, \"inIcuCurrently\": 0.0, \"inIcuCumulative\": 162.0, \"onVentilatorCurrently\": 0.0, \"onVentilatorCumulative\": 73.0, \"recovered\": 2769.0, \"dataQualityGrade\": \"B\", \"lastUpdateEt\": \"5/8/2020 15:00\", \"hash\": \"c4ea753cfa02e60f4960bb3f95b6219c42ce5fd2\", \"dateChecked\": \"2020-05-08T20:00:00Z\", \"death\": 61.0, \"hospitalized\": 488.0, \"total\": 138688.0, \"totalTestResults\": 138688.0, \"posNeg\": 138688.0, \"fips\": 49.0, \"deathIncrease\": 0.0, \"hospitalizedIncrease\": 12.0, \"negativeIncrease\": 3950.0, \"positiveIncrease\": 195.0, \"totalTestResultsIncrease\": 4145.0, \"Slope\": 0.0}, {\"State\": \"VA\", \"Date\": \"05-08-2020\", \"Confirmed\": 22342.0, \"Deaths\": 812.0, \"Recovered\": 0.0, \"Confirmed_New\": 772.0, \"Deaths_New\": 43.0, \"Recovered_New\": 0.0, \"Active\": 21530.0, \"positive\": 22342.0, \"negative\": 107603.0, \"pending\": 549.0, \"hospitalizedCurrently\": 1625.0, \"hospitalizedCumulative\": 4622.0, \"inIcuCurrently\": 378.0, \"inIcuCumulative\": 0.0, \"onVentilatorCurrently\": 199.0, \"onVentilatorCumulative\": 0.0, \"recovered\": 2997.0, \"dataQualityGrade\": \"A+\", \"lastUpdateEt\": \"5/7/2020 17:00\", \"hash\": \"d30c5922d79f512c500b8be346be1360f542a828\", \"dateChecked\": \"2020-05-08T20:00:00Z\", \"death\": 812.0, \"hospitalized\": 4622.0, \"total\": 130494.0, \"totalTestResults\": 129945.0, \"posNeg\": 129945.0, \"fips\": 51.0, \"deathIncrease\": 43.0, \"hospitalizedIncrease\": 184.0, \"negativeIncrease\": 6021.0, \"positiveIncrease\": 772.0, \"totalTestResultsIncrease\": 6793.0, \"Slope\": 0.05053238090327034}, {\"State\": \"WA\", \"Date\": \"05-08-2020\", \"Confirmed\": 16388.0, \"Deaths\": 905.0, \"Recovered\": 0.0, \"Confirmed_New\": 157.0, \"Deaths_New\": 14.0, \"Recovered_New\": 0.0, \"Active\": 15483.0, \"positive\": 16231.0, \"negative\": 214449.0, \"pending\": 0.0, \"hospitalizedCurrently\": 393.0, \"hospitalizedCumulative\": 0.0, \"inIcuCurrently\": 122.0, \"inIcuCumulative\": 0.0, \"onVentilatorCurrently\": 0.0, \"onVentilatorCumulative\": 0.0, \"recovered\": 0.0, \"dataQualityGrade\": \"B\", \"lastUpdateEt\": \"5/7/2020 02:59\", \"hash\": \"5f9b6d77e683084cb79f5f56cc8c2fd29d6cc0f2\", \"dateChecked\": \"2020-05-08T20:00:00Z\", \"death\": 891.0, \"hospitalized\": 0.0, \"total\": 230680.0, \"totalTestResults\": 230680.0, \"posNeg\": 230680.0, \"fips\": 53.0, \"deathIncrease\": 21.0, \"hospitalizedIncrease\": 0.0, \"negativeIncrease\": 5541.0, \"positiveIncrease\": 326.0, \"totalTestResultsIncrease\": 5867.0, \"Slope\": -0.009476125069093516}, {\"State\": \"WI\", \"Date\": \"05-08-2020\", \"Confirmed\": 9590.0, \"Deaths\": 384.0, \"Recovered\": 0.0, \"Confirmed_New\": 375.0, \"Deaths_New\": 10.0, \"Recovered_New\": 0.0, \"Active\": 9206.0, \"positive\": 9590.0, \"negative\": 97265.0, \"pending\": 204.0, \"hospitalizedCurrently\": 552.0, \"hospitalizedCumulative\": 1767.0, \"inIcuCurrently\": 110.0, \"inIcuCumulative\": 441.0, \"onVentilatorCurrently\": 0.0, \"onVentilatorCumulative\": 0.0, \"recovered\": 4694.0, \"dataQualityGrade\": \"A+\", \"lastUpdateEt\": \"5/8/2020 00:00\", \"hash\": \"cc597cd49b76d128f0ba5f3310d152ae7d1e0950\", \"dateChecked\": \"2020-05-08T20:00:00Z\", \"death\": 384.0, \"hospitalized\": 1767.0, \"total\": 107059.0, \"totalTestResults\": 106855.0, \"posNeg\": 106855.0, \"fips\": 55.0, \"deathIncrease\": 10.0, \"hospitalizedIncrease\": 35.0, \"negativeIncrease\": 4230.0, \"positiveIncrease\": 375.0, \"totalTestResultsIncrease\": 4605.0, \"Slope\": -0.007553424090499527}]}}, {\"mode\": \"vega-lite\"});\n",
       "</script>"
      ],
      "text/plain": [
       "alt.LayerChart(...)"
      ]
     },
     "execution_count": 416,
     "metadata": {},
     "output_type": "execute_result"
    }
   ],
   "source": [
    "dfh = pd.read_csv('https://covidtracking.com/api/v1/states/daily.csv')\n",
    "dfh.date = pd.to_datetime(dfh.date, format='%Y%m%d')\n",
    "dfh.date = dfh.date.dt.strftime('%m-%d-%Y')\n",
    "dfh = dfh.rename({'date': 'Date', 'state':'State'}, axis=1)\n",
    "data = state_data('US')\n",
    "data = data.merge(dfh, on=['Date', 'State'], how='outer')\n",
    "\n",
    "slope_chart(data, 'State', -582, xscale='log', limit=200, scale=2, value='hospitalizedCurrently', window=7).properties(\n",
    "    width=1200,\n",
    "    height=800\n",
    ").interactive()"
   ]
  },
  {
   "cell_type": "code",
   "execution_count": null,
   "metadata": {},
   "outputs": [],
   "source": []
  }
 ],
 "metadata": {
  "kernelspec": {
   "display_name": "Python 3",
   "language": "python",
   "name": "python3"
  },
  "language_info": {
   "codemirror_mode": {
    "name": "ipython",
    "version": 3
   },
   "file_extension": ".py",
   "mimetype": "text/x-python",
   "name": "python",
   "nbconvert_exporter": "python",
   "pygments_lexer": "ipython3",
   "version": "3.7.6"
  }
 },
 "nbformat": 4,
 "nbformat_minor": 4
}
